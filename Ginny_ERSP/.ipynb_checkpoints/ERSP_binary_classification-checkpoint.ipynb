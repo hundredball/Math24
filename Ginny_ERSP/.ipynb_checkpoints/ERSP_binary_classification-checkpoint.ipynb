{
 "cells": [
  {
   "cell_type": "code",
   "execution_count": 2,
   "metadata": {},
   "outputs": [],
   "source": [
    "import numpy as np\n",
    "import pandas as pd\n",
    "import matplotlib.pyplot as plt\n",
    "from sklearn.discriminant_analysis import LinearDiscriminantAnalysis as LDA\n",
    "from sklearn.model_selection import train_test_split\n",
    "from sklearn.decomposition import PCA\n",
    "from sklearn.model_selection import LeaveOneOut\n",
    "from sklearn.linear_model import LinearRegression\n",
    "from sklearn import svm\n",
    "\n",
    "from scipy.optimize import curve_fit\n",
    "from scipy import stats\n",
    "\n",
    "import dataloader\n",
    "import preprocessing\n"
   ]
  },
  {
   "cell_type": "markdown",
   "metadata": {},
   "source": [
    "# Load data"
   ]
  },
  {
   "cell_type": "code",
   "execution_count": 3,
   "metadata": {},
   "outputs": [
    {
     "name": "stdout",
     "output_type": "stream",
     "text": [
      "(452, 12, 114, 200)\n",
      "(452, 3)\n",
      "(114,)\n"
     ]
    }
   ],
   "source": [
    "ERSP_all, tmp_all, freqs = dataloader.load_data()"
   ]
  },
  {
   "cell_type": "markdown",
   "metadata": {},
   "source": [
    "# Data preprocessing"
   ]
  },
  {
   "cell_type": "code",
   "execution_count": 4,
   "metadata": {},
   "outputs": [],
   "source": [
    "\n",
    "'''\n",
    "num_epoch = ERSP_all.shape[0]\n",
    "num_channel = ERSP_all.shape[1]\n",
    "\n",
    "# Average over time\n",
    "ERSP_all = np.mean(ERSP_all, axis=3)\n",
    "\n",
    "# Subtract the base spectrum (trials <= 5s)\n",
    "SLs = tmp_all[:, 2]\n",
    "base = np.mean(ERSP_all[np.where(SLs<=5)[0], :, :], axis=0)\n",
    "ERSP_all = ERSP_all - base[np.newaxis, :, :]\n",
    "'''\n",
    "ERSP_all, SLs = preprocessing.standardize(ERSP_all, tmp_all)"
   ]
  },
  {
   "cell_type": "markdown",
   "metadata": {},
   "source": [
    "## Remain original ERSP"
   ]
  },
  {
   "cell_type": "code",
   "execution_count": 5,
   "metadata": {},
   "outputs": [
    {
     "name": "stdout",
     "output_type": "stream",
     "text": [
      "Shape of ERSP_all:  (452, 12)\n"
     ]
    }
   ],
   "source": [
    "num_epoch = ERSP_all.shape[0]\n",
    "method = 3 # 1,2,3\n",
    "\n",
    "if method != 3:\n",
    "    # Concatenate over channels (PCA -> LDA)\n",
    "    ERSP_all = ERSP_all.reshape((num_epoch, -1))\n",
    "    print('Shape of ERSP_all: ', ERSP_all.shape)\n",
    "    \n",
    "else:\n",
    "    # Average power over channels (LDA directly)\n",
    "    ERSP_all = np.mean(ERSP_all, axis=2)\n",
    "    print('Shape of ERSP_all: ', ERSP_all.shape)\n",
    "    \n",
    "# Let mean of SLs be the threshold\n",
    "# Y = preprocessing.make_target(SLs, 25.55)"
   ]
  },
  {
   "cell_type": "markdown",
   "metadata": {},
   "source": [
    "## Trim mean"
   ]
  },
  {
   "cell_type": "code",
   "execution_count": 4,
   "metadata": {},
   "outputs": [],
   "source": [
    "ERSP_all, new_SLs = preprocessing.trimMean(ERSP_all, SLs, freqs)\n",
    "Y = preprocessing.make_target(new_SLs)\n",
    "\n",
    "method = 3"
   ]
  },
  {
   "cell_type": "markdown",
   "metadata": {},
   "source": [
    "## Bandpower"
   ]
  },
  {
   "cell_type": "code",
   "execution_count": 4,
   "metadata": {},
   "outputs": [
    {
     "name": "stdout",
     "output_type": "stream",
     "text": [
      "25.554513197351692\n"
     ]
    }
   ],
   "source": [
    "ERSP_1 = preprocessing.bandpower(ERSP_all, freqs, 5, 10)\n",
    "ERSP_2 = preprocessing.bandpower(ERSP_all, freqs, 10, 15)\n",
    "ERSP_all = np.concatenate((ERSP_1, ERSP_2), axis=1)\n",
    "\n",
    "threshold = np.mean(SLs)+np.std(SLs)\n",
    "print(threshold)\n",
    "Y = preprocessing.make_target(SLs, threshold)\n",
    "\n",
    "method = 3"
   ]
  },
  {
   "cell_type": "markdown",
   "metadata": {},
   "source": [
    "# Holdout Method"
   ]
  },
  {
   "cell_type": "markdown",
   "metadata": {},
   "source": [
    "## Split data"
   ]
  },
  {
   "cell_type": "code",
   "execution_count": 5,
   "metadata": {},
   "outputs": [
    {
     "name": "stdout",
     "output_type": "stream",
     "text": [
      "X_train shape :  (406, 1368)\n",
      "X_test shape :  (46, 1368)\n"
     ]
    }
   ],
   "source": [
    "# Split for training and testing data\n",
    "X_train, X_test, Y_train, Y_test = train_test_split(ERSP_all, Y, test_size=0.1, random_state=42)\n",
    "print('X_train shape : ', X_train.shape)\n",
    "print('X_test shape : ', X_test.shape)"
   ]
  },
  {
   "cell_type": "markdown",
   "metadata": {},
   "source": [
    "## PCA (1) Largest eigenvalues"
   ]
  },
  {
   "cell_type": "code",
   "execution_count": 5,
   "metadata": {},
   "outputs": [
    {
     "ename": "NameError",
     "evalue": "name 'X_train' is not defined",
     "output_type": "error",
     "traceback": [
      "\u001b[0;31m---------------------------------------------------------------------------\u001b[0m",
      "\u001b[0;31mNameError\u001b[0m                                 Traceback (most recent call last)",
      "\u001b[0;32m<ipython-input-5-17071db1c6e5>\u001b[0m in \u001b[0;36m<module>\u001b[0;34m\u001b[0m\n\u001b[1;32m      1\u001b[0m \u001b[0;31m# Apply PCA to training data and testing data\u001b[0m\u001b[0;34m\u001b[0m\u001b[0;34m\u001b[0m\u001b[0;34m\u001b[0m\u001b[0m\n\u001b[1;32m      2\u001b[0m \u001b[0mpca\u001b[0m \u001b[0;34m=\u001b[0m \u001b[0mPCA\u001b[0m\u001b[0;34m(\u001b[0m\u001b[0mn_components\u001b[0m\u001b[0;34m=\u001b[0m\u001b[0;36m2\u001b[0m\u001b[0;34m)\u001b[0m\u001b[0;34m\u001b[0m\u001b[0;34m\u001b[0m\u001b[0m\n\u001b[0;32m----> 3\u001b[0;31m \u001b[0mpca\u001b[0m\u001b[0;34m.\u001b[0m\u001b[0mfit\u001b[0m\u001b[0;34m(\u001b[0m\u001b[0mX_train\u001b[0m\u001b[0;34m)\u001b[0m\u001b[0;34m\u001b[0m\u001b[0;34m\u001b[0m\u001b[0m\n\u001b[0m\u001b[1;32m      4\u001b[0m \u001b[0;34m\u001b[0m\u001b[0m\n\u001b[1;32m      5\u001b[0m \u001b[0mX_train\u001b[0m \u001b[0;34m=\u001b[0m \u001b[0mpca\u001b[0m\u001b[0;34m.\u001b[0m\u001b[0mtransform\u001b[0m\u001b[0;34m(\u001b[0m\u001b[0mX_train\u001b[0m\u001b[0;34m)\u001b[0m\u001b[0;34m\u001b[0m\u001b[0;34m\u001b[0m\u001b[0m\n",
      "\u001b[0;31mNameError\u001b[0m: name 'X_train' is not defined"
     ]
    }
   ],
   "source": [
    "# Apply PCA to training data and testing data\n",
    "pca = PCA(n_components=2)\n",
    "pca.fit(X_train)\n",
    "\n",
    "X_train = pca.transform(X_train)\n",
    "X_test = pca.transform(X_test)\n",
    "\n",
    "print('X_train shape : ', X_train.shape)\n",
    "print('X_test shape : ', X_test.shape)"
   ]
  },
  {
   "cell_type": "markdown",
   "metadata": {},
   "source": [
    "## PCA (2) Most correlated"
   ]
  },
  {
   "cell_type": "code",
   "execution_count": 5,
   "metadata": {},
   "outputs": [],
   "source": [
    "def PCA_corr(X_train, X_test, Y_train):\n",
    "    # PCA fit\n",
    "    num_train = X_train.shape[0]\n",
    "    mean_X = 1/num_train * np.dot(X_train.T, np.ones((num_train,1))).T\n",
    "    cen_X_train = X_train - mean_X\n",
    "    cov_X_train = 1/num_train * np.dot(cen_X_train.T, cen_X_train)\n",
    "    w, v = np.linalg.eig(cov_X_train)\n",
    "\n",
    "    # Sort the eigenvalues and eigenvectors in decreasing order\n",
    "    sorted_indices = np.argsort(w)[::-1]\n",
    "    sorted_v = v[:, sorted_indices]\n",
    "    sorted_w = np.sort(w)[::-1]\n",
    "\n",
    "    # Retain PCs with 80% eigenvalues\n",
    "    ratios = np.add.accumulate(sorted_w.real)/np.sum(sorted_w.real)\n",
    "    num_PCs = np.sum(ratios<=0.8)\n",
    "    PCs = sorted_v[:, :num_PCs]\n",
    "\n",
    "    # PCA predict\n",
    "    X_train = np.dot(cen_X_train, PCs)\n",
    "\n",
    "    # Find two PCs correlated most strongly with SLs\n",
    "    corr_coef = np.zeros(num_PCs)\n",
    "    for i in range(num_PCs):\n",
    "        corr_coef[i] = abs(np.corrcoef(X_train[:,i], Y_train[:,1])[0,1])\n",
    "\n",
    "    #print(corr_coef)\n",
    "    max_1_index = np.argmax(corr_coef)\n",
    "    #print('Max: ', max_1_index)\n",
    "    corr_coef[max_1_index] = 0\n",
    "    max_2_index = np.argmax(corr_coef)\n",
    "    #print('Second: ', max_2_index)\n",
    "    PC_2 = sorted_v[:, [max_1_index, max_2_index]]\n",
    "\n",
    "\n",
    "    # PCA predict\n",
    "    X_train = abs(np.dot(cen_X_train, PC_2))\n",
    "    X_test = abs(np.dot(X_test-mean_X, PC_2))\n",
    "\n",
    "    #print('X_train shape : ', X_train.shape)\n",
    "    #print('X_test shape : ', X_test.shape)\n",
    "    \n",
    "    return X_train, X_test"
   ]
  },
  {
   "cell_type": "code",
   "execution_count": 7,
   "metadata": {},
   "outputs": [
    {
     "name": "stdout",
     "output_type": "stream",
     "text": [
      "[0.10016149 0.13321825 0.19431854 0.1501953  0.1506912  0.05088907\n",
      " 0.14942456 0.12343108 0.06527064 0.0030398  0.02589858 0.06059784\n",
      " 0.06922075 0.04778581 0.0834417  0.08851105 0.09370633 0.03329117\n",
      " 0.08084067 0.00824471 0.00701375 0.09780048 0.05044458 0.0233989 ]\n",
      "Max:  2\n",
      "Second:  4\n"
     ]
    }
   ],
   "source": [
    "X_train, X_test = PCA_corr(X_train, X_test, Y_train)"
   ]
  },
  {
   "cell_type": "code",
   "execution_count": 8,
   "metadata": {},
   "outputs": [],
   "source": [
    "# Sort SLs in increasing order\n",
    "sorted_indices = np.argsort(Y_train[:,1])\n",
    "sorted_x = X_train[sorted_indices, :]\n",
    "sorted_y = Y_train[sorted_indices, :]\n",
    "\n",
    "# Curve fitting\n",
    "def func(X, a, b, c):\n",
    "    x1, x2 = X\n",
    "    return a + b*x1 + c*x2\n",
    "\n",
    "xdata = (sorted_x[:,0], sorted_x[:,1])\n",
    "ydata = sorted_y[:,1]\n",
    "popt, pcov = curve_fit(func, xdata, ydata)"
   ]
  },
  {
   "cell_type": "code",
   "execution_count": 9,
   "metadata": {},
   "outputs": [
    {
     "data": {
      "text/plain": [
       "Text(0.5, 1.0, 'r = 0.043601')"
      ]
     },
     "execution_count": 9,
     "metadata": {},
     "output_type": "execute_result"
    },
    {
     "data": {
      "image/png": "[encoded data removed]",
      "text/plain": [
       "<Figure size 432x288 with 1 Axes>"
      ]
     },
     "metadata": {
      "needs_background": "light"
     },
     "output_type": "display_data"
    }
   ],
   "source": [
    "# Plot them\n",
    "y_reg = func(xdata, popt[0], popt[1], popt[2])\n",
    "plt.scatter(ydata, y_reg, marker = '.')\n",
    "\n",
    "slope, intercept, r_value, p_value, std_err = stats.linregress(ydata, y_reg)\n",
    "y_range = np.linspace(np.min(ydata), np.max(ydata), 100)\n",
    "plt.plot(y_range, slope*y_range+intercept, 'r-')\n",
    "\n",
    "plt.xlabel('SL (s)')\n",
    "plt.ylabel('%.2f + %.2f*PC1 + %.2f*PC2'%(popt[0],popt[1],popt[2]))\n",
    "plt.title('r = %f'%(np.corrcoef(y_reg, ydata)[0,1]))\n"
   ]
  },
  {
   "cell_type": "markdown",
   "metadata": {},
   "source": [
    "# Leave-one-out cross validation"
   ]
  },
  {
   "cell_type": "code",
   "execution_count": 7,
   "metadata": {},
   "outputs": [
    {
     "name": "stdout",
     "output_type": "stream",
     "text": [
      "Threshold 1: 99.557522\n",
      "Threshold 2: 88.716814\n",
      "Threshold 3: 75.663717\n",
      "Threshold 4: 67.256637\n",
      "Threshold 5: 65.486726\n",
      "Threshold 6: 65.707965\n",
      "Threshold 7: 73.230088\n",
      "Threshold 8: 73.672566\n",
      "Threshold 9: 70.796460\n",
      "Threshold 10: 73.893805\n",
      "Threshold 11: 76.327434\n",
      "Threshold 12: 74.778761\n",
      "Threshold 13: 77.654867\n",
      "Threshold 14: 76.991150\n",
      "Threshold 15: 81.415929\n",
      "Threshold 16: 82.964602\n",
      "Threshold 17: 83.849558\n",
      "Threshold 18: 85.176991\n",
      "Threshold 19: 86.504425\n",
      "Threshold 20: 87.389381\n",
      "Threshold 21: 87.610619\n",
      "Threshold 22: 88.053097\n",
      "Threshold 23: 88.938053\n",
      "Threshold 24: 89.601770\n",
      "Threshold 25: 90.929204\n",
      "Threshold 26: 91.150442\n",
      "Threshold 27: 91.371681\n",
      "Threshold 28: 91.371681\n",
      "Threshold 29: 91.592920\n",
      "Threshold 30: 91.592920\n",
      "Threshold 31: 92.256637\n",
      "Threshold 32: 92.699115\n",
      "Threshold 33: 93.141593\n",
      "Threshold 34: 93.362832\n",
      "Threshold 35: 93.362832\n",
      "Threshold 36: 93.362832\n",
      "Threshold 37: 93.584071\n",
      "Threshold 38: 94.026549\n",
      "Threshold 39: 94.026549\n",
      "Threshold 40: 94.026549\n",
      "Threshold 41: 94.247788\n",
      "Threshold 42: 94.247788\n",
      "Threshold 43: 94.690265\n",
      "Threshold 44: 94.690265\n",
      "Threshold 45: 94.911504\n",
      "Threshold 46: 95.353982\n",
      "Threshold 47: 95.575221\n",
      "Threshold 48: 95.796460\n",
      "Threshold 49: 96.017699\n"
     ]
    }
   ],
   "source": [
    "X_all = ERSP_all\n",
    "\n",
    "test_acc_SL = []\n",
    "thresholds = list(range(1,50))\n",
    "\n",
    "for threshold in thresholds:\n",
    "    Y = preprocessing.make_target(SLs, float(threshold))\n",
    "    \n",
    "    train_acc_list = []\n",
    "    test_acc_list = []\n",
    "    loo = LeaveOneOut()\n",
    "    for i, (train_index, test_index) in enumerate(loo.split(X_all)):\n",
    "\n",
    "        # No trim mean\n",
    "        # Split data\n",
    "        X_train, X_test = X_all[train_index, :], X_all[test_index, :]\n",
    "        Y_train, Y_test = Y[train_index, :], Y[test_index, :]\n",
    "\n",
    "        if method == 1:\n",
    "            pca = PCA(n_components=2)\n",
    "            pca.fit(X_train)\n",
    "            X_train = pca.transform(X_train)\n",
    "            X_test = pca.transform(X_test)\n",
    "        elif method == 2:\n",
    "            # PCA\n",
    "            X_train, X_test = PCA_corr(X_train, X_test, Y_train)\n",
    "\n",
    "        # Decompose Y\n",
    "        Y_train = Y_train[:,0]\n",
    "        Y_test = Y_test[:,0]\n",
    "\n",
    "        '''\n",
    "        # Trim mean after removing the validation data\n",
    "        # Split data\n",
    "        X_train, X_test = X_all[train_index], X_all[test_index]\n",
    "        X_train, new_SLs = trimMean(X_train, SLs[train_index], freqs)\n",
    "        X_test = bandpower(X_test, freqs, 10, 15)\n",
    "\n",
    "        # Let mean of SLs be the threshold\n",
    "        threshold = np.mean(new_SLs) \n",
    "        Y_train = np.asarray(new_SLs >= threshold, float)\n",
    "        Y_test = np.asarray(SLs[test_index] >= threshold, float)\n",
    "        '''\n",
    "\n",
    "        '''\n",
    "        # Trim mean before removing the validation data\n",
    "        # Split data\n",
    "        X_train, X_test = X_all[train_index], X_all[test_index]\n",
    "        Y_train, Y_test = Y[train_index, :], Y[test_index, :]\n",
    "\n",
    "        # Decompose Y\n",
    "        Y_train = Y_train[:,0]\n",
    "        Y_test = Y_test[:,0]\n",
    "        '''\n",
    "\n",
    "        # LDA\n",
    "        clf = svm.SVC()\n",
    "        clf.fit(X_train, Y_train)\n",
    "\n",
    "        num_train = len(Y_train)\n",
    "        pred_train = clf.predict(X_train)\n",
    "        train_acc = np.sum(pred_train == Y_train)/num_train*100\n",
    "        #print('Training Accuracy : %f'%(train_acc))\n",
    "        train_acc_list.append(train_acc)\n",
    "\n",
    "        num_test = len(Y_test)\n",
    "        pred_test = clf.predict(X_test)\n",
    "        test_acc = np.sum(pred_test == Y_test)*100\n",
    "        #print('Testing Accuracy : %f'%(test_acc))\n",
    "        test_acc_list.append(test_acc)\n",
    "\n",
    "        # print('Iteration %d: (%f, %f)'%(i, train_acc, test_acc))\n",
    "        \n",
    "    print('Threshold %d: %f'%(threshold, sum(test_acc_list)/len(test_acc_list)))\n",
    "    test_acc_SL.append(sum(test_acc_list)/len(test_acc_list))\n",
    "    "
   ]
  },
  {
   "cell_type": "code",
   "execution_count": 6,
   "metadata": {},
   "outputs": [
    {
     "name": "stdout",
     "output_type": "stream",
     "text": [
      "False trials, Min: 26.693359, Max: 94.105469\n",
      "True trials, Min: 0.152344, Max: 25.238281\n"
     ]
    }
   ],
   "source": [
    "test_acc_array = np.asarray(test_acc_list)\n",
    "false_trials = SLs[np.where(test_acc_array==0)[0]]\n",
    "true_trials = SLs[np.where(test_acc_array==100)[0]]\n",
    "print('False trials, Min: %f, Max: %f'%(np.min(false_trials), np.max(false_trials)))\n",
    "print('True trials, Min: %f, Max: %f'%(np.min(true_trials), np.max(true_trials)))"
   ]
  },
  {
   "cell_type": "code",
   "execution_count": 6,
   "metadata": {},
   "outputs": [
    {
     "name": "stdout",
     "output_type": "stream",
     "text": [
      "Training accuracy: 91.150442\n",
      "Testing accuracy: 91.150442\n"
     ]
    }
   ],
   "source": [
    "print('Training accuracy: %f'%(sum(train_acc_list)/len(train_acc_list)))\n",
    "print('Testing accuracy: %f'%(sum(test_acc_list)/len(test_acc_list)))"
   ]
  },
  {
   "cell_type": "code",
   "execution_count": 9,
   "metadata": {},
   "outputs": [
    {
     "data": {
      "text/plain": [
       "Text(0, 0.5, 'Accuracy (%)')"
      ]
     },
     "execution_count": 9,
     "metadata": {},
     "output_type": "execute_result"
    },
    {
     "data": {
      "image/png": "[encoded data removed]",
      "text/plain": [
       "<Figure size 432x288 with 1 Axes>"
      ]
     },
     "metadata": {
      "needs_background": "light"
     },
     "output_type": "display_data"
    }
   ],
   "source": [
    "plt.plot(thresholds, test_acc_SL)\n",
    "plt.xlabel('Threshold (s)')\n",
    "plt.ylabel('Accuracy (%)')"
   ]
  },
  {
   "cell_type": "code",
   "execution_count": 15,
   "metadata": {},
   "outputs": [],
   "source": [
    "ratios = []\n",
    "for threshold in thresholds:\n",
    "    ratio = max(np.sum(SLs<=threshold), np.sum(SLs>threshold))/len(SLs)\n",
    "    ratios.append(ratio*100)"
   ]
  },
  {
   "cell_type": "code",
   "execution_count": null,
   "metadata": {},
   "outputs": [],
   "source": [
    "plt.plot(thresholds, test_acc_SL, 'b-', thresholds, ratios, 'r--')\n",
    "plt.xlabel('Threshold (sec)')\n",
    "plt.ylabel('(%)')\n",
    "plt.legend(('Accuracy', 'Ratio'))"
   ]
  },
  {
   "cell_type": "markdown",
   "metadata": {},
   "source": [
    "# Regression with different coefficients"
   ]
  },
  {
   "cell_type": "code",
   "execution_count": 7,
   "metadata": {},
   "outputs": [
    {
     "name": "stdout",
     "output_type": "stream",
     "text": [
      "Iteration 0: 22.078751, 14.742164\n",
      "Iteration 1: 17.168192, 12.148311\n",
      "Iteration 2: 4.763019, 0.602319\n",
      "Iteration 3: 4.449081, 2.960613\n",
      "Iteration 4: 0.860730, 6.863034\n",
      "Iteration 5: 0.088426, 7.085403\n",
      "Iteration 6: 24.164342, 17.724600\n",
      "Iteration 7: 2.231795, 9.260723\n",
      "Iteration 8: 3.584755, 3.169044\n",
      "Iteration 9: 2.550533, 3.835243\n",
      "Iteration 10: 27.049964, 20.530490\n",
      "Iteration 11: 0.580333, 7.492004\n",
      "Iteration 12: 0.655236, 6.589248\n",
      "Iteration 13: 3.310150, 2.805344\n",
      "Iteration 14: 0.926288, 7.638937\n",
      "Iteration 15: 25.860829, 19.089659\n",
      "Iteration 16: 42.790754, 36.487545\n",
      "Iteration 17: 19.943167, 13.640215\n",
      "Iteration 18: 6.174431, 0.288227\n",
      "Iteration 19: 50.803432, 44.247353\n",
      "Iteration 20: 5.236308, 1.581926\n",
      "Iteration 21: 0.741451, 5.748936\n",
      "Iteration 22: 44.740468, 39.509909\n",
      "Iteration 23: 4.734212, 1.911444\n",
      "Iteration 24: 1.943837, 8.311839\n",
      "Iteration 25: 3.596674, 2.393690\n",
      "Iteration 26: 5.542103, 2.009118\n",
      "Iteration 27: 0.223310, 7.044058\n",
      "Iteration 28: 0.725292, 7.525574\n",
      "Iteration 29: 6.878043, 0.804311\n",
      "Iteration 30: 1.211900, 7.253609\n",
      "Iteration 31: 4.985322, 1.599192\n",
      "Iteration 32: 1.655356, 8.205770\n",
      "Iteration 33: 3.916939, 2.868637\n",
      "Iteration 34: 4.360069, 2.250968\n",
      "Iteration 35: 2.370283, 4.103730\n",
      "Iteration 36: 4.301296, 1.967992\n",
      "Iteration 37: 12.297608, 6.144693\n",
      "Iteration 38: 2.658459, 4.200138\n",
      "Iteration 39: 2.512472, 9.371465\n",
      "Iteration 40: 0.459920, 7.012118\n",
      "Iteration 41: 19.732974, 12.520179\n",
      "Iteration 42: 8.133326, 1.338295\n",
      "Iteration 43: 0.093821, 6.417658\n",
      "Iteration 44: 1.493908, 5.407639\n",
      "Iteration 45: 6.142614, 0.595536\n",
      "Iteration 46: 1.633887, 5.002533\n",
      "Iteration 47: 9.855283, 3.253638\n",
      "Iteration 48: 1.551483, 8.033909\n",
      "Iteration 49: 7.235061, 0.528644\n",
      "Iteration 50: 5.462829, 0.193154\n",
      "Iteration 51: 6.938409, 1.153637\n",
      "Iteration 52: 1.654097, 8.795973\n",
      "Iteration 53: 0.832715, 6.252369\n",
      "Iteration 54: 2.408726, 10.112370\n",
      "Iteration 55: 3.585307, 9.251843\n",
      "Iteration 56: 2.681302, 9.806244\n",
      "Iteration 57: 3.248896, 10.162436\n",
      "Iteration 58: 1.672470, 8.065081\n",
      "Iteration 59: 1.227112, 7.512108\n",
      "Iteration 60: 0.421745, 8.216438\n",
      "Iteration 61: 2.049796, 8.181891\n",
      "Iteration 62: 2.003223, 9.419980\n",
      "Iteration 63: 1.041211, 5.812683\n",
      "Iteration 64: 0.649328, 7.805835\n",
      "Iteration 65: 1.175144, 9.010069\n",
      "Iteration 66: 1.739901, 5.091644\n",
      "Iteration 67: 2.821734, 3.367605\n",
      "Iteration 68: 1.807475, 5.184674\n",
      "Iteration 69: 2.629854, 3.856068\n",
      "Iteration 70: 1.243068, 8.201591\n",
      "Iteration 71: 0.440025, 6.129248\n",
      "Iteration 72: 2.827151, 9.856854\n",
      "Iteration 73: 0.992504, 8.285507\n",
      "Iteration 74: 3.503500, 10.680842\n",
      "Iteration 75: 3.354402, 9.396101\n",
      "Iteration 76: 1.290248, 7.726205\n",
      "Iteration 77: 3.456766, 9.819712\n",
      "Iteration 78: 1.972824, 7.830289\n",
      "Iteration 79: 1.608248, 7.632525\n",
      "Iteration 80: 2.192431, 4.931011\n",
      "Iteration 81: 2.836883, 10.213432\n",
      "Iteration 82: 3.224518, 10.586778\n",
      "Iteration 83: 2.774141, 3.280994\n",
      "Iteration 84: 0.869304, 6.284930\n",
      "Iteration 85: 2.198940, 4.630559\n",
      "Iteration 86: 0.844794, 7.599102\n",
      "Iteration 87: 2.521070, 9.603577\n",
      "Iteration 88: 3.218527, 10.495628\n",
      "Iteration 89: 3.323437, 10.732662\n",
      "Iteration 90: 3.080823, 9.833596\n",
      "Iteration 91: 3.281678, 9.562762\n",
      "Iteration 92: 2.906354, 9.459929\n",
      "Iteration 93: 1.976437, 9.024661\n",
      "Iteration 94: 0.568927, 6.455790\n",
      "Iteration 95: 0.716514, 6.678998\n",
      "Iteration 96: 2.131580, 9.256258\n",
      "Iteration 97: 3.648393, 10.374783\n",
      "Iteration 98: 1.906236, 8.245638\n",
      "Iteration 99: 1.558497, 7.614781\n",
      "Iteration 100: 0.079700, 7.688272\n",
      "Iteration 101: 2.774537, 8.951021\n",
      "Iteration 102: 2.684726, 9.624964\n",
      "Iteration 103: 1.545869, 8.926254\n",
      "Iteration 104: 3.063712, 10.190526\n",
      "Iteration 105: 3.636402, 9.752208\n",
      "Iteration 106: 0.152643, 6.986540\n",
      "Iteration 107: 4.065232, 2.479972\n",
      "Iteration 108: 3.331197, 11.107383\n",
      "Iteration 109: 2.341991, 10.183371\n",
      "Iteration 110: 0.283187, 6.668899\n",
      "Iteration 111: 0.263468, 5.655910\n",
      "Iteration 112: 3.741825, 11.682291\n",
      "Iteration 113: 1.887757, 4.761955\n",
      "Iteration 114: 2.679787, 3.719344\n",
      "Iteration 115: 2.093603, 8.986288\n",
      "Iteration 116: 2.415959, 9.286109\n",
      "Iteration 117: 0.745120, 6.864099\n",
      "Iteration 118: 0.965396, 8.136611\n",
      "Iteration 119: 1.345427, 7.821388\n",
      "Iteration 120: 1.217371, 8.167497\n",
      "Iteration 121: 0.478016, 5.872957\n",
      "Iteration 122: 2.403678, 9.576141\n",
      "Iteration 123: 0.534652, 6.151473\n",
      "Iteration 124: 5.467025, 1.635205\n",
      "Iteration 125: 5.524225, 0.598985\n",
      "Iteration 126: 0.516369, 7.269518\n",
      "Iteration 127: 10.227313, 4.534175\n",
      "Iteration 128: 2.741577, 9.036927\n",
      "Iteration 129: 1.277251, 5.438592\n",
      "Iteration 130: 1.126950, 7.486337\n",
      "Iteration 131: 2.771379, 9.662312\n",
      "Iteration 132: 2.757306, 9.382543\n",
      "Iteration 133: 3.342716, 10.353186\n",
      "Iteration 134: 2.492720, 3.355676\n",
      "Iteration 135: 2.848161, 9.512793\n",
      "Iteration 136: 2.570204, 9.514323\n",
      "Iteration 137: 3.490514, 3.308376\n",
      "Iteration 138: 9.386443, 3.254220\n",
      "Iteration 139: 0.310488, 6.945434\n",
      "Iteration 140: 6.219561, 0.630740\n",
      "Iteration 141: 0.494512, 7.891097\n",
      "Iteration 142: 6.166563, 0.912285\n",
      "Iteration 143: 5.476249, 1.952042\n",
      "Iteration 144: 2.933870, 9.554625\n",
      "Iteration 145: 2.741234, 9.504580\n",
      "Iteration 146: 2.176361, 9.222945\n",
      "Iteration 147: 1.999261, 8.092796\n",
      "Iteration 148: 1.863341, 3.740798\n",
      "Iteration 149: 4.630667, 2.219865\n",
      "Iteration 150: 2.339880, 8.910014\n",
      "Iteration 151: 2.303003, 8.081407\n",
      "Iteration 152: 3.238761, 3.592619\n",
      "Iteration 153: 2.856956, 8.228380\n",
      "Iteration 154: 2.936510, 10.799637\n",
      "Iteration 155: 1.320991, 5.100893\n",
      "Iteration 156: 0.341475, 5.764232\n",
      "Iteration 157: 5.114861, 1.122662\n",
      "Iteration 158: 1.687679, 7.640352\n",
      "Iteration 159: 3.518701, 9.882591\n",
      "Iteration 160: 3.155274, 9.953993\n",
      "Iteration 161: 2.306857, 8.223971\n",
      "Iteration 162: 2.174969, 8.857853\n",
      "Iteration 163: 2.838355, 9.145668\n",
      "Iteration 164: 1.514630, 7.768451\n",
      "Iteration 165: 2.786024, 9.342418\n",
      "Iteration 166: 3.234810, 3.271193\n",
      "Iteration 167: 3.386157, 9.354794\n",
      "Iteration 168: 6.703027, 0.658805\n",
      "Iteration 169: 8.608046, 1.358024\n",
      "Iteration 170: 1.270899, 7.998696\n",
      "Iteration 171: 3.279850, 9.764994\n",
      "Iteration 172: 1.654312, 8.421316\n",
      "Iteration 173: 3.398372, 9.901397\n",
      "Iteration 174: 12.734872, 6.588743\n",
      "Iteration 175: 0.273918, 6.614580\n",
      "Iteration 176: 1.272976, 7.560759\n",
      "Iteration 177: 2.763923, 9.249277\n",
      "Iteration 178: 1.101480, 6.157158\n",
      "Iteration 179: 2.246378, 9.118636\n",
      "Iteration 180: 10.722188, 4.456409\n",
      "Iteration 181: 2.925705, 10.288410\n",
      "Iteration 182: 2.714480, 9.443016\n",
      "Iteration 183: 14.199101, 7.994598\n",
      "Iteration 184: 2.902604, 9.524159\n",
      "Iteration 185: 1.428734, 8.327140\n",
      "Iteration 186: 0.882381, 7.500280\n",
      "Iteration 187: 0.927008, 5.088745\n",
      "Iteration 188: 1.677195, 8.280751\n",
      "Iteration 189: 3.090008, 3.633716\n",
      "Iteration 190: 9.569105, 2.990180\n",
      "Iteration 191: 72.307762, 66.114978\n",
      "Iteration 192: 8.969423, 2.562000\n",
      "Iteration 193: 9.705345, 3.092589\n",
      "Iteration 194: 31.785494, 25.187693\n",
      "Iteration 195: 41.330173, 35.201707\n",
      "Iteration 196: 82.792298, 76.391542\n",
      "Iteration 197: 52.537454, 47.488185\n",
      "Iteration 198: 7.253487, 1.562108\n",
      "Iteration 199: 3.492206, 2.937146\n",
      "Iteration 200: 5.490256, 1.293112\n",
      "Iteration 201: 15.107161, 8.379732\n",
      "Iteration 202: 6.631483, 1.030099\n",
      "Iteration 203: 10.038857, 3.194113\n",
      "Iteration 204: 47.512434, 40.786098\n",
      "Iteration 205: 37.896528, 31.900158\n",
      "Iteration 206: 9.782110, 3.222952\n",
      "Iteration 207: 14.057628, 6.974383\n",
      "Iteration 208: 89.362348, 82.752779\n",
      "Iteration 209: 10.435138, 3.859134\n",
      "Iteration 210: 16.667204, 10.120596\n",
      "Iteration 211: 0.414963, 5.820932\n",
      "Iteration 212: 27.280209, 20.978561\n",
      "Iteration 213: 17.436991, 12.051961\n",
      "Iteration 214: 2.505962, 9.817540\n",
      "Iteration 215: 3.022416, 8.672633\n",
      "Iteration 216: 0.416711, 7.445976\n",
      "Iteration 217: 5.000398, 2.448940\n",
      "Iteration 218: 5.284392, 0.305737\n",
      "Iteration 219: 3.002831, 9.369064\n",
      "Iteration 220: 4.291010, 2.873438\n",
      "Iteration 221: 15.458363, 8.902346\n",
      "Iteration 222: 5.357908, 2.304360\n",
      "Iteration 223: 0.980962, 9.039746\n",
      "Iteration 224: 2.118559, 10.037143\n",
      "Iteration 225: 28.194349, 22.352188\n",
      "Iteration 226: 14.399296, 8.205796\n",
      "Iteration 227: 0.220008, 7.557802\n",
      "Iteration 228: 1.636511, 9.565993\n",
      "Iteration 229: 9.541008, 3.538475\n",
      "Iteration 230: 28.562088, 21.601182\n",
      "Iteration 231: 1.427582, 9.450613\n",
      "Iteration 232: 1.847404, 3.652827\n",
      "Iteration 233: 0.126947, 7.397068\n",
      "Iteration 234: 2.917668, 10.582334\n",
      "Iteration 235: 10.489734, 4.908542\n",
      "Iteration 236: 2.052516, 10.299580\n",
      "Iteration 237: 6.894452, 1.254131\n",
      "Iteration 238: 2.559353, 9.839331\n",
      "Iteration 239: 0.899366, 7.009080\n",
      "Iteration 240: 0.022919, 6.979758\n",
      "Iteration 241: 1.819194, 4.500815\n"
     ]
    },
    {
     "name": "stdout",
     "output_type": "stream",
     "text": [
      "Iteration 242: 19.359350, 12.020102\n",
      "Iteration 243: 9.542040, 3.266572\n",
      "Iteration 244: 6.734496, 1.092306\n",
      "Iteration 245: 0.149844, 6.784165\n",
      "Iteration 246: 3.065043, 4.004573\n",
      "Iteration 247: 19.811026, 12.341955\n",
      "Iteration 248: 1.109463, 8.482898\n",
      "Iteration 249: 17.681627, 11.433177\n",
      "Iteration 250: 2.958793, 9.456310\n",
      "Iteration 251: 17.237079, 10.405423\n",
      "Iteration 252: 1.343144, 9.032776\n",
      "Iteration 253: 0.573246, 5.341651\n",
      "Iteration 254: 1.685603, 8.234288\n",
      "Iteration 255: 2.763966, 9.033453\n",
      "Iteration 256: 19.082702, 11.192265\n",
      "Iteration 257: 4.370749, 1.553946\n",
      "Iteration 258: 2.857595, 3.579442\n",
      "Iteration 259: 7.711824, 1.450747\n",
      "Iteration 260: 2.027122, 7.911400\n",
      "Iteration 261: 2.225540, 1.530872\n",
      "Iteration 262: 0.266507, 7.256327\n",
      "Iteration 263: 2.267546, 8.599989\n",
      "Iteration 264: 2.370883, 6.168089\n",
      "Iteration 265: 2.413591, 9.179849\n",
      "Iteration 266: 2.064990, 7.597964\n",
      "Iteration 267: 2.796857, 7.848109\n",
      "Iteration 268: 2.627225, 8.768812\n",
      "Iteration 269: 7.640035, 1.290997\n",
      "Iteration 270: 10.879356, 5.373571\n",
      "Iteration 271: 11.459150, 5.658299\n",
      "Iteration 272: 6.513558, 1.282443\n",
      "Iteration 273: 8.099820, 1.821993\n",
      "Iteration 274: 0.639464, 5.430570\n",
      "Iteration 275: 1.409538, 7.816524\n",
      "Iteration 276: 4.491054, 0.303415\n",
      "Iteration 277: 19.660823, 13.791571\n",
      "Iteration 278: 0.142301, 5.450563\n",
      "Iteration 279: 1.201179, 4.921439\n",
      "Iteration 280: 8.643097, 3.600607\n",
      "Iteration 281: 2.150013, 7.479624\n",
      "Iteration 282: 2.393353, 7.541390\n",
      "Iteration 283: 0.929354, 4.079518\n",
      "Iteration 284: 7.956621, 3.090647\n",
      "Iteration 285: 4.650094, 9.762383\n",
      "Iteration 286: 0.859706, 7.259256\n",
      "Iteration 287: 1.818918, 6.675135\n",
      "Iteration 288: 8.418560, 2.503673\n",
      "Iteration 289: 5.752232, 1.619712\n",
      "Iteration 290: 1.439955, 6.088764\n",
      "Iteration 291: 2.465383, 8.885078\n",
      "Iteration 292: 0.027284, 5.748986\n",
      "Iteration 293: 1.778259, 2.559955\n",
      "Iteration 294: 0.297981, 5.940694\n",
      "Iteration 295: 7.286493, 1.564684\n",
      "Iteration 296: 11.074160, 4.993740\n",
      "Iteration 297: 2.204670, 8.215495\n",
      "Iteration 298: 2.116452, 6.598257\n",
      "Iteration 299: 3.065543, 8.527197\n",
      "Iteration 300: 8.635444, 2.824417\n",
      "Iteration 301: 3.585863, 8.457309\n",
      "Iteration 302: 1.405212, 4.722344\n",
      "Iteration 303: 1.251528, 6.724387\n",
      "Iteration 304: 1.460430, 4.022890\n",
      "Iteration 305: 1.900926, 7.477102\n",
      "Iteration 306: 12.611105, 5.147848\n",
      "Iteration 307: 19.404559, 13.087979\n",
      "Iteration 308: 18.050092, 11.279481\n",
      "Iteration 309: 32.999123, 26.133684\n",
      "Iteration 310: 4.857993, 1.480396\n",
      "Iteration 311: 0.937202, 7.754123\n",
      "Iteration 312: 4.527446, 2.146703\n",
      "Iteration 313: 0.903179, 9.058913\n",
      "Iteration 314: 1.392212, 5.882398\n",
      "Iteration 315: 5.455946, 0.900470\n",
      "Iteration 316: 2.459165, 9.365760\n",
      "Iteration 317: 0.789451, 7.336284\n",
      "Iteration 318: 5.682985, 0.815167\n",
      "Iteration 319: 0.890118, 7.385887\n",
      "Iteration 320: 10.476328, 4.423030\n",
      "Iteration 321: 7.958477, 1.064549\n",
      "Iteration 322: 13.300786, 6.531874\n",
      "Iteration 323: 7.889873, 2.306570\n",
      "Iteration 324: 13.032213, 8.103583\n",
      "Iteration 325: 14.738649, 7.259963\n",
      "Iteration 326: 3.635132, 3.144008\n",
      "Iteration 327: 4.740073, 1.541888\n",
      "Iteration 328: 4.469659, 1.166701\n",
      "Iteration 329: 4.369144, 1.229293\n",
      "Iteration 330: 1.238679, 6.726868\n",
      "Iteration 331: 1.450865, 3.847681\n",
      "Iteration 332: 2.384731, 7.448020\n",
      "Iteration 333: 1.612552, 3.911412\n",
      "Iteration 334: 0.009672, 5.996602\n",
      "Iteration 335: 2.367176, 6.817278\n",
      "Iteration 336: 1.904244, 5.046889\n",
      "Iteration 337: 0.502510, 6.269631\n",
      "Iteration 338: 2.039987, 7.335955\n",
      "Iteration 339: 2.502015, 2.692709\n",
      "Iteration 340: 3.879493, 1.350480\n",
      "Iteration 341: 0.471312, 5.959294\n",
      "Iteration 342: 0.301918, 4.066457\n",
      "Iteration 343: 1.135616, 2.738051\n",
      "Iteration 344: 0.283085, 5.358390\n",
      "Iteration 345: 0.734786, 4.343067\n",
      "Iteration 346: 2.673352, 3.215979\n",
      "Iteration 347: 1.248616, 5.412077\n",
      "Iteration 348: 7.237420, 2.727191\n",
      "Iteration 349: 2.814979, 3.333359\n",
      "Iteration 350: 4.782046, 0.688854\n",
      "Iteration 351: 1.053851, 5.120050\n",
      "Iteration 352: 1.199897, 5.733724\n",
      "Iteration 353: 1.641280, 6.147769\n",
      "Iteration 354: 0.954962, 3.815703\n",
      "Iteration 355: 0.244858, 5.066227\n",
      "Iteration 356: 7.785703, 3.154629\n",
      "Iteration 357: 1.969365, 7.956508\n",
      "Iteration 358: 2.166726, 8.980893\n",
      "Iteration 359: 2.232400, 6.055558\n",
      "Iteration 360: 2.168722, 8.135558\n",
      "Iteration 361: 2.166249, 3.628333\n",
      "Iteration 362: 4.511042, 0.241652\n",
      "Iteration 363: 3.099188, 5.845193\n",
      "Iteration 364: 1.132640, 5.479006\n",
      "Iteration 365: 2.747059, 6.637859\n",
      "Iteration 366: 2.483470, 6.607064\n",
      "Iteration 367: 1.817282, 6.975842\n",
      "Iteration 368: 0.093791, 2.241089\n",
      "Iteration 369: 1.899871, 7.548957\n",
      "Iteration 370: 1.868542, 5.103607\n",
      "Iteration 371: 3.149600, 9.682896\n",
      "Iteration 372: 5.104776, 1.307048\n",
      "Iteration 373: 2.428636, 8.641590\n",
      "Iteration 374: 0.729176, 3.526786\n",
      "Iteration 375: 1.913937, 6.289120\n",
      "Iteration 376: 3.300345, 7.341842\n",
      "Iteration 377: 3.387216, 2.648855\n",
      "Iteration 378: 11.444733, 7.139250\n",
      "Iteration 379: 5.318922, 0.601880\n",
      "Iteration 380: 1.944142, 7.443010\n",
      "Iteration 381: 0.102639, 4.920762\n",
      "Iteration 382: 0.680211, 5.663455\n",
      "Iteration 383: 1.723030, 4.130929\n",
      "Iteration 384: 1.599346, 5.279723\n",
      "Iteration 385: 1.247913, 6.811636\n",
      "Iteration 386: 3.959528, 2.453121\n",
      "Iteration 387: 4.591555, 2.414616\n",
      "Iteration 388: 1.120483, 8.311550\n",
      "Iteration 389: 2.323347, 4.369554\n",
      "Iteration 390: 8.556146, 0.970426\n",
      "Iteration 391: 50.507170, 43.646651\n",
      "Iteration 392: 76.482963, 69.799739\n",
      "Iteration 393: 62.438094, 55.221893\n",
      "Iteration 394: 2.040982, 7.768643\n",
      "Iteration 395: 8.229220, 1.708604\n",
      "Iteration 396: 45.691672, 38.269008\n",
      "Iteration 397: 13.007496, 6.332694\n",
      "Iteration 398: 39.527949, 33.101886\n",
      "Iteration 399: 12.899682, 7.016614\n",
      "Iteration 400: 4.062730, 3.042539\n",
      "Iteration 401: 4.583988, 2.511125\n",
      "Iteration 402: 20.629471, 14.630966\n",
      "Iteration 403: 4.663574, 1.364606\n",
      "Iteration 404: 3.442652, 3.041632\n",
      "Iteration 405: 13.726641, 7.146128\n",
      "Iteration 406: 62.353313, 55.885325\n",
      "Iteration 407: 14.169315, 7.426458\n",
      "Iteration 408: 10.657751, 3.211425\n",
      "Iteration 409: 12.487944, 5.348162\n",
      "Iteration 410: 9.824881, 3.767255\n",
      "Iteration 411: 11.726420, 5.584970\n",
      "Iteration 412: 44.065548, 38.429243\n",
      "Iteration 413: 4.888446, 1.213838\n",
      "Iteration 414: 26.305320, 20.471964\n",
      "Iteration 415: 1.740530, 3.812359\n",
      "Iteration 416: 2.477815, 3.679231\n",
      "Iteration 417: 18.808289, 13.022273\n",
      "Iteration 418: 25.866064, 20.073809\n",
      "Iteration 419: 10.074359, 4.226561\n",
      "Iteration 420: 33.236194, 27.453308\n",
      "Iteration 421: 2.232644, 7.771548\n",
      "Iteration 422: 0.813298, 6.751302\n",
      "Iteration 423: 0.420146, 6.781338\n",
      "Iteration 424: 37.866453, 32.181325\n",
      "Iteration 425: 0.905476, 6.467918\n",
      "Iteration 426: 40.135746, 35.434735\n",
      "Iteration 427: 45.142098, 39.136246\n",
      "Iteration 428: 2.639211, 2.594225\n",
      "Iteration 429: 35.437087, 29.646712\n",
      "Iteration 430: 0.904638, 7.612900\n",
      "Iteration 431: 13.769350, 8.205489\n",
      "Iteration 432: 3.801150, 2.023133\n",
      "Iteration 433: 4.099658, 2.208539\n",
      "Iteration 434: 2.656591, 3.400783\n",
      "Iteration 435: 41.559744, 35.599265\n",
      "Iteration 436: 0.636260, 3.798945\n",
      "Iteration 437: 25.277912, 19.958349\n",
      "Iteration 438: 75.806472, 71.045100\n",
      "Iteration 439: 7.106570, 1.090360\n",
      "Iteration 440: 51.460557, 45.339722\n",
      "Iteration 441: 3.333725, 2.115967\n",
      "Iteration 442: 1.020913, 7.274534\n",
      "Iteration 443: 74.435530, 69.597408\n",
      "Iteration 444: 2.411727, 3.812654\n",
      "Iteration 445: 19.972755, 14.005848\n",
      "Iteration 446: 49.380672, 43.595405\n",
      "Iteration 447: 88.000363, 81.813127\n",
      "Iteration 448: 4.212055, 0.969110\n",
      "Iteration 449: 8.394967, 1.292861\n",
      "Iteration 450: 14.812106, 8.599571\n",
      "Iteration 451: 2.302720, 8.509966\n"
     ]
    }
   ],
   "source": [
    "X_all = ERSP_all\n",
    "\n",
    "results = np.zeros((X_all.shape[0],3))\n",
    "loo = LeaveOneOut()\n",
    "for i, (train_index, test_index) in enumerate(loo.split(X_all)):\n",
    "    # Split data\n",
    "    X_train, X_test = X_all[train_index], X_all[test_index]\n",
    "    Y_train, Y_test = Y[train_index, :], Y[test_index, :]\n",
    "    \n",
    "    if method == 1:\n",
    "        pca = PCA(n_components=2)\n",
    "        pca.fit(X_train)\n",
    "        X_train = pca.transform(X_train)\n",
    "        X_test = pca.transform(X_test)\n",
    "    elif method == 2:\n",
    "        # PCA\n",
    "        X_train, X_test = PCA_corr(X_train, X_test, Y_train)\n",
    "    \n",
    "    # Decompose Y\n",
    "    Y_train_cla, Y_train_reg = Y_train[:,0], Y_train[:,1]\n",
    "    Y_test_cla, Y_test_reg = Y_test[:,0], Y_test[:,1]\n",
    "    \n",
    "    # LDA\n",
    "    clf = LDA()\n",
    "    clf.fit(X_train, Y_train_cla)\n",
    "    pred_test_cla = clf.predict(X_test)\n",
    "    \n",
    "    # 1. Regression over different groups\n",
    "    index_0 = np.where(Y_train_cla==0)[0]\n",
    "    clf_0 = LinearRegression()\n",
    "    clf_0.fit(X_train[index_0, :], Y_train_reg[index_0])\n",
    "    \n",
    "    index_1 = np.where(Y_train_cla==0)[0]\n",
    "    clf_1 = LinearRegression()\n",
    "    clf_1.fit(X_train[index_1, :], Y_train_reg[index_1])\n",
    "    \n",
    "    if pred_test_cla == 0:\n",
    "        pred_test_reg = clf_0.predict(X_test)\n",
    "    else:\n",
    "        pred_test_reg = clf_1.predict(X_test)\n",
    "    results[i,0] = pred_test_reg\n",
    "    results[i,2] = Y_test_reg\n",
    "    \n",
    "    # 2. Linear regression directly\n",
    "    clf = LinearRegression()\n",
    "    clf.fit(X_train, Y_train_reg)\n",
    "    pred_test_reg = clf.predict(X_test)\n",
    "    results[i,1] = pred_test_reg\n",
    "    \n",
    "    print('Iteration %d: %f, %f'%(i, np.abs(results[i,0]-results[i,2]), np.abs(results[i,1]-results[i,2])))\n",
    "    "
   ]
  },
  {
   "cell_type": "code",
   "execution_count": 8,
   "metadata": {},
   "outputs": [
    {
     "name": "stdout",
     "output_type": "stream",
     "text": [
      "Regression over groups: 7.924592\n",
      "Regression directly: 9.100871\n"
     ]
    }
   ],
   "source": [
    "print( 'Regression over groups: %f'%(np.mean(np.abs(results[:,0]-results[:,2]))) )\n",
    "print( 'Regression directly: %f'%(np.mean(np.abs(results[:,1]-results[:,2]))) )"
   ]
  },
  {
   "cell_type": "code",
   "execution_count": null,
   "metadata": {},
   "outputs": [],
   "source": []
  }
 ],
 "metadata": {
  "kernelspec": {
   "display_name": "Python 3",
   "language": "python",
   "name": "python3"
  },
  "language_info": {
   "codemirror_mode": {
    "name": "ipython",
    "version": 3
   },
   "file_extension": ".py",
   "mimetype": "text/x-python",
   "name": "python",
   "nbconvert_exporter": "python",
   "pygments_lexer": "ipython3",
   "version": "3.7.6"
  }
 },
 "nbformat": 4,
 "nbformat_minor": 4
}
