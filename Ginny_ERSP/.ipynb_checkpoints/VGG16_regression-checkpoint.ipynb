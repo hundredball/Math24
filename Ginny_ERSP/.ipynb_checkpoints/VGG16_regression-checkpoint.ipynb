{
 "cells": [
  {
   "cell_type": "code",
   "execution_count": 1,
   "metadata": {},
   "outputs": [
    {
     "name": "stdout",
     "output_type": "stream",
     "text": [
      "cuda:0\n"
     ]
    }
   ],
   "source": [
    "import torch\n",
    "import torch.nn as nn\n",
    "import torch.nn.functional as F\n",
    "import torch.utils.data as Data\n",
    "import torchvision\n",
    "import torchvision.models as models\n",
    "import torchvision.transforms as transforms\n",
    "\n",
    "import matplotlib.pyplot as plt\n",
    "from sklearn import linear_model\n",
    "from sklearn.decomposition import PCA\n",
    "from sklearn.cross_decomposition import PLSRegression\n",
    "from sklearn.metrics import mean_squared_error\n",
    "from sklearn.metrics import r2_score\n",
    "\n",
    "from scipy import stats\n",
    "import numpy as np\n",
    "import network_dataloader as ndl\n",
    "\n",
    "device = torch.device(\"cuda:0\" if torch.cuda.is_available() else \"cpu\")\n",
    "print(device)\n"
   ]
  },
  {
   "cell_type": "markdown",
   "metadata": {},
   "source": [
    "## Get pretrained model"
   ]
  },
  {
   "cell_type": "code",
   "execution_count": 2,
   "metadata": {},
   "outputs": [],
   "source": [
    "net = models.vgg16(pretrained=True, progress=True).to(device=device)"
   ]
  },
  {
   "cell_type": "markdown",
   "metadata": {},
   "source": [
    "## Modify the last layer to output the same as input"
   ]
  },
  {
   "cell_type": "code",
   "execution_count": 3,
   "metadata": {},
   "outputs": [],
   "source": [
    "class Identity(nn.Module):\n",
    "    def __init__(self):\n",
    "        super(Identity, self).__init__()\n",
    "        \n",
    "    def forward(self, x):\n",
    "        return x\n",
    "    \n",
    "net.classifier[6] = Identity()"
   ]
  },
  {
   "cell_type": "markdown",
   "metadata": {},
   "source": [
    "## Get dataset"
   ]
  },
  {
   "cell_type": "code",
   "execution_count": 4,
   "metadata": {},
   "outputs": [
    {
     "name": "stdout",
     "output_type": "stream",
     "text": [
      "Initializing Datasets and Dataloaders...\n",
      "> Found 406 images...\n",
      "> Found 46 images...\n"
     ]
    }
   ],
   "source": [
    "batchSize = 46\n",
    "input_size = 224\n",
    "# Load Data\n",
    "data_transforms = {\n",
    "        'train': transforms.Compose([\n",
    "                ndl.Rescale(input_size),\n",
    "                ndl.ToTensor()]), \n",
    "        'test': transforms.Compose([\n",
    "                ndl.Rescale(input_size),\n",
    "                ndl.ToTensor()])\n",
    "        }\n",
    "\n",
    "print(\"Initializing Datasets and Dataloaders...\")\n",
    "\n",
    "# Create training and testing datasets\n",
    "image_datasets = {x: ndl.TopoplotLoader('images', x, data_transforms[x]) for x in ['train', 'test']}\n",
    "\n",
    "# Create training and testing dataloaders\n",
    "dataloaders_dict = {'train': Data.DataLoader(image_datasets['train'], batch_size=batchSize, shuffle=True, num_workers=4),\n",
    "                    'test':  Data.DataLoader(image_datasets['test'], batch_size=batchSize, shuffle=False, num_workers=4)}"
   ]
  },
  {
   "cell_type": "markdown",
   "metadata": {},
   "source": [
    "## Extract features by VGG16 "
   ]
  },
  {
   "cell_type": "code",
   "execution_count": 5,
   "metadata": {},
   "outputs": [
    {
     "name": "stdout",
     "output_type": "stream",
     "text": [
      "X_train shape :  (406, 4096)\n",
      "Y_train shape :  (406,)\n",
      "X_test shape :  (46, 4096)\n",
      "Y_test shape :  (46,)\n"
     ]
    }
   ],
   "source": [
    "net.eval() # Disable batchnorm, dropout\n",
    "\n",
    "# Training data\n",
    "for i_samples, samples in enumerate(dataloaders_dict['train']):\n",
    "    imgs = samples['image'].to(device=device)\n",
    "    labels = samples['label'].to(device=device)\n",
    "    \n",
    "    if i_samples == 0:\n",
    "        with torch.no_grad():\n",
    "            X_train = net(imgs).cpu().numpy()\n",
    "        Y_train = labels.cpu().numpy()\n",
    "    else:\n",
    "        with torch.no_grad():\n",
    "            X_train = np.concatenate((X_train, net(imgs).cpu().numpy()), axis=0)\n",
    "        Y_train = np.concatenate((Y_train, labels.cpu().numpy()), axis=0)\n",
    "    \n",
    "print('X_train shape : ', X_train.shape)\n",
    "print('Y_train shape : ', Y_train.shape)\n",
    "    \n",
    "# Testing data\n",
    "for samples in dataloaders_dict['test']:\n",
    "    imgs = samples['image'].to(device=device)\n",
    "    labels = samples['label'].to(device=device)\n",
    "    \n",
    "    with torch.no_grad():\n",
    "        X_test = net(imgs).cpu().numpy()\n",
    "    Y_test = labels.cpu().numpy()\n",
    "    \n",
    "print('X_test shape : ', X_test.shape)\n",
    "print('Y_test shape : ', Y_test.shape)\n",
    "    \n"
   ]
  },
  {
   "cell_type": "markdown",
   "metadata": {},
   "source": [
    "## Apply PCA to reduct dimension"
   ]
  },
  {
   "cell_type": "code",
   "execution_count": 6,
   "metadata": {},
   "outputs": [
    {
     "name": "stdout",
     "output_type": "stream",
     "text": [
      "X_train_PCA shape :  (406, 12)\n",
      "X_test_PCA shape :  (46, 12)\n"
     ]
    }
   ],
   "source": [
    "pca = PCA(n_components=0.9, svd_solver='full')\n",
    "pca.fit(X_train)\n",
    "\n",
    "X_train_PCA = pca.transform(X_train)\n",
    "X_test_PCA = pca.transform(X_test)\n",
    "\n",
    "print('X_train_PCA shape : ', X_train_PCA.shape)\n",
    "print('X_test_PCA shape : ', X_test_PCA.shape)"
   ]
  },
  {
   "cell_type": "code",
   "execution_count": 7,
   "metadata": {},
   "outputs": [
    {
     "data": {
      "text/plain": [
       "array([76.09171  , 13.750803 ,  5.555066 ,  4.9348264,  2.4516296,\n",
       "        2.2638235,  1.8524793,  1.6454269,  1.4670233,  1.1643434,\n",
       "        0.9175661,  0.7922577], dtype=float32)"
      ]
     },
     "execution_count": 7,
     "metadata": {},
     "output_type": "execute_result"
    }
   ],
   "source": [
    "pca.explained_variance_"
   ]
  },
  {
   "cell_type": "markdown",
   "metadata": {},
   "source": [
    "## Regression to predict solution time"
   ]
  },
  {
   "cell_type": "code",
   "execution_count": null,
   "metadata": {},
   "outputs": [],
   "source": [
    "def plot_scatter(true, pred):\n",
    "    # Sort SLs in increasing order\n",
    "    sorted_indices = np.argsort(true)\n",
    "    sorted_true = true[sorted_indices]\n",
    "    sorted_pred = pred[sorted_indices]\n",
    "\n",
    "    max_value = np.max(np.hstack((true, pred)))\n",
    "    plt.scatter(sorted_true, sorted_pred)\n",
    "    axes = plt.gca()\n",
    "    axes.set_xlim([0, max_value])\n",
    "    axes.set_ylim([0, max_value])\n",
    "    plt.xlabel('True')\n",
    "    plt.ylabel('Pred')"
   ]
  },
  {
   "cell_type": "code",
   "execution_count": 8,
   "metadata": {},
   "outputs": [
    {
     "data": {
      "text/plain": [
       "LinearRegression(copy_X=True, fit_intercept=True, n_jobs=None, normalize=False)"
      ]
     },
     "execution_count": 8,
     "metadata": {},
     "output_type": "execute_result"
    }
   ],
   "source": [
    "X_train_Reg = X_train_PCA\n",
    "X_test_Reg = X_test_PCA\n",
    "clf = linear_model.LinearRegression()\n",
    "clf.fit(X_train_Reg, Y_train)"
   ]
  },
  {
   "cell_type": "code",
   "execution_count": 9,
   "metadata": {},
   "outputs": [
    {
     "name": "stdout",
     "output_type": "stream",
     "text": [
      "R squared: 0.118342\n",
      "Standard error: 13.419797\n"
     ]
    },
    {
     "data": {
      "image/png": "[encoded data removed]",
      "text/plain": [
       "<Figure size 432x288 with 1 Axes>"
      ]
     },
     "metadata": {
      "needs_background": "light"
     },
     "output_type": "display_data"
    }
   ],
   "source": [
    "num_train = len(Y_train)\n",
    "pred_train = clf.predict(X_train_Reg).flatten()\n",
    "plt.plot(range(num_train), Y_train)\n",
    "plt.plot(range(num_train), pred_train)\n",
    "plt.xlabel('Trials')\n",
    "plt.ylabel('SL (seconds)')\n",
    "plt.legend(('True', 'Pred'))\n",
    "\n",
    "print('R squared: %f'%(r2_score(Y_train, pred_train)))\n",
    "print('Standard error: %f'%(mean_squared_error(Y_train, pred_train)**0.5))"
   ]
  },
  {
   "cell_type": "code",
   "execution_count": 21,
   "metadata": {},
   "outputs": [
    {
     "data": {
      "text/plain": [
       "Text(0, 0.5, 'Pred')"
      ]
     },
     "execution_count": 21,
     "metadata": {},
     "output_type": "execute_result"
    },
    {
     "data": {
      "image/png": "[encoded data removed]",
      "text/plain": [
       "<Figure size 432x288 with 1 Axes>"
      ]
     },
     "metadata": {
      "needs_background": "light"
     },
     "output_type": "display_data"
    }
   ],
   "source": [
    "# Sort SLs in increasing order\n",
    "sorted_indices = np.argsort(Y_train)\n",
    "sorted_Y_train = Y_train[sorted_indices]\n",
    "sorted_pred_train = pred_train[sorted_indices]\n",
    "\n",
    "max_value = np.max(np.hstack((Y_train, pred_train)))\n",
    "plt.scatter(sorted_Y_train, sorted_pred_train)\n",
    "axes = plt.gca()\n",
    "axes.set_xlim([0, max_value])\n",
    "axes.set_ylim([0, max_value])\n",
    "plt.xlabel('True')\n",
    "plt.ylabel('Pred')"
   ]
  },
  {
   "cell_type": "code",
   "execution_count": 10,
   "metadata": {},
   "outputs": [
    {
     "name": "stdout",
     "output_type": "stream",
     "text": [
      "R squared: 0.161661\n",
      "Standard error: 15.635821\n"
     ]
    },
    {
     "data": {
      "image/png": "[encoded data removed]",
      "text/plain": [
       "<Figure size 432x288 with 1 Axes>"
      ]
     },
     "metadata": {
      "needs_background": "light"
     },
     "output_type": "display_data"
    }
   ],
   "source": [
    "num_test = len(Y_test)\n",
    "pred_test = clf.predict(X_test_Reg).flatten()\n",
    "plt.plot(range(len(Y_test)), Y_test)\n",
    "plt.plot(range(len(Y_test)), pred_test)\n",
    "plt.xlabel('Trials')\n",
    "plt.ylabel('SL (seconds)')\n",
    "plt.legend(('True', 'Pred'))\n",
    "\n",
    "print('R squared: %f'%(r2_score(Y_test, pred_test)))\n",
    "print('Standard error: %f'%(mean_squared_error(Y_test, pred_test)**0.5))"
   ]
  },
  {
   "cell_type": "markdown",
   "metadata": {},
   "source": [
    "## Binary classification"
   ]
  },
  {
   "cell_type": "code",
   "execution_count": 6,
   "metadata": {},
   "outputs": [],
   "source": [
    "Y_train_Cla = Y_train\n",
    "Y_test_Cla = Y_test"
   ]
  },
  {
   "cell_type": "code",
   "execution_count": 7,
   "metadata": {},
   "outputs": [],
   "source": [
    "Y_train_Cla[Y_train<=30] = 0\n",
    "Y_train_Cla[Y_train>30] = 1\n",
    "Y_test_Cla[Y_test<=30] = 0\n",
    "Y_test_Cla[Y_test>30] = 1 "
   ]
  },
  {
   "cell_type": "code",
   "execution_count": 8,
   "metadata": {},
   "outputs": [
    {
     "data": {
      "text/plain": [
       "SVC(C=1.0, break_ties=False, cache_size=200, class_weight=None, coef0=0.0,\n",
       "    decision_function_shape='ovr', degree=3, gamma='scale', kernel='rbf',\n",
       "    max_iter=-1, probability=False, random_state=None, shrinking=True,\n",
       "    tol=0.001, verbose=False)"
      ]
     },
     "execution_count": 8,
     "metadata": {},
     "output_type": "execute_result"
    }
   ],
   "source": [
    "clf = svm.SVC()\n",
    "clf.fit(X_train, Y_train_Cla)"
   ]
  },
  {
   "cell_type": "code",
   "execution_count": 13,
   "metadata": {},
   "outputs": [
    {
     "name": "stdout",
     "output_type": "stream",
     "text": [
      "Training : (45, 56)\n",
      "Accuracy : 80.357143\n",
      "Testing : (6, 7)\n",
      "Accuracy : 85.714286\n"
     ]
    }
   ],
   "source": [
    "num_train = len(Y_train)\n",
    "pred_train = clf.predict(X_train)\n",
    "\n",
    "print('Training : (%d, %d)'%(np.sum(pred_train == Y_train_Cla), num_train))\n",
    "print('Accuracy : %f'%(np.sum(pred_train == Y_train_Cla)/num_train*100))\n",
    "\n",
    "num_test = len(Y_test)\n",
    "pred_test = clf.predict(X_test)\n",
    "\n",
    "print('Testing : (%d, %d)'%(np.sum(pred_test == Y_test_Cla), num_test))\n",
    "print('Accuracy : %f'%(np.sum(pred_test == Y_test_Cla)/num_test*100))"
   ]
  },
  {
   "cell_type": "code",
   "execution_count": null,
   "metadata": {},
   "outputs": [],
   "source": []
  }
 ],
 "metadata": {
  "kernelspec": {
   "display_name": "Python 3",
   "language": "python",
   "name": "python3"
  },
  "language_info": {
   "codemirror_mode": {
    "name": "ipython",
    "version": 3
   },
   "file_extension": ".py",
   "mimetype": "text/x-python",
   "name": "python",
   "nbconvert_exporter": "python",
   "pygments_lexer": "ipython3",
   "version": "3.7.3"
  }
 },
 "nbformat": 4,
 "nbformat_minor": 2
}
