{
 "cells": [
  {
   "cell_type": "code",
   "execution_count": 1,
   "metadata": {},
   "outputs": [],
   "source": [
    "import numpy as np\n",
    "import pandas as pd\n",
    "import matplotlib.pyplot as plt\n",
    "from sklearn.discriminant_analysis import LinearDiscriminantAnalysis as LDA\n",
    "from sklearn.model_selection import train_test_split\n",
    "from sklearn.decomposition import PCA\n",
    "from sklearn.model_selection import LeaveOneOut, KFold\n",
    "from sklearn.linear_model import LinearRegression, Ridge, Lasso\n",
    "from sklearn.cross_decomposition import PLSRegression\n",
    "from sklearn.ensemble import RandomForestRegressor\n",
    "from sklearn import svm\n",
    "from sklearn.metrics import mean_squared_error\n",
    "from sklearn.metrics import r2_score\n",
    "\n",
    "from scipy.optimize import curve_fit\n",
    "from scipy import stats\n",
    "\n",
    "import dataloader\n",
    "import preprocessing\n",
    "import sampling\n"
   ]
  },
  {
   "cell_type": "markdown",
   "metadata": {},
   "source": [
    "# Load data"
   ]
  },
  {
   "cell_type": "code",
   "execution_count": 2,
   "metadata": {},
   "outputs": [
    {
     "name": "stdout",
     "output_type": "stream",
     "text": [
      "Shape of ERSP_all:  (452, 12, 114, 200)\n",
      "Shape of tmp_all:  (452, 3)\n",
      "Shape of freqs:  (114,)\n"
     ]
    }
   ],
   "source": [
    "# Load preprocessed ERSP data\n",
    "ERSP_all, tmp_all, freqs = dataloader.load_data()"
   ]
  },
  {
   "cell_type": "markdown",
   "metadata": {},
   "source": [
    "# Data preprocessing"
   ]
  },
  {
   "cell_type": "code",
   "execution_count": 64,
   "metadata": {},
   "outputs": [],
   "source": [
    "#ERSP_all, tmp_all = preprocessing.remove_trials(ERSP_all, tmp_all, 25)\n",
    "ERSP_all, SLs = preprocessing.standardize(ERSP_all, tmp_all)"
   ]
  },
  {
   "cell_type": "markdown",
   "metadata": {},
   "source": [
    "## Remain original ERSP"
   ]
  },
  {
   "cell_type": "code",
   "execution_count": 65,
   "metadata": {},
   "outputs": [
    {
     "name": "stdout",
     "output_type": "stream",
     "text": [
      "Shape of ERSP_all:  (452, 12)\n"
     ]
    }
   ],
   "source": [
    "num_epoch = ERSP_all.shape[0]\n",
    "method = 3 # 1,2,3\n",
    "\n",
    "if method != 3:\n",
    "    # Concatenate over channels (PCA -> LDA)\n",
    "    ERSP_all = ERSP_all.reshape((num_epoch, -1))\n",
    "    print('Shape of ERSP_all: ', ERSP_all.shape)\n",
    "    \n",
    "else:\n",
    "    '''\n",
    "    # Concatenate over channels (PCA -> LDA)\n",
    "    ERSP_all = ERSP_all.reshape((num_epoch, -1))\n",
    "    print('Shape of ERSP_all: ', ERSP_all.shape)\n",
    "    '''\n",
    "    '''\n",
    "    # Average power over channels (LDA directly)\n",
    "    ERSP_all = np.mean(ERSP_all, axis=2)\n",
    "    print('Shape of ERSP_all: ', ERSP_all.shape)\n",
    "    '''\n",
    "    ERSP_all = preprocessing.bandpower(ERSP_all, freqs, 5, 15)\n",
    "    print('Shape of ERSP_all: ', ERSP_all.shape)\n",
    "    "
   ]
  },
  {
   "cell_type": "markdown",
   "metadata": {},
   "source": [
    "## Trim mean"
   ]
  },
  {
   "cell_type": "code",
   "execution_count": 4,
   "metadata": {},
   "outputs": [],
   "source": [
    "ERSP_all, new_SLs = preprocessing.trimMean(ERSP_all, SLs, freqs)\n",
    "Y = preprocessing.make_target(new_SLs)\n",
    "\n",
    "method = 3"
   ]
  },
  {
   "cell_type": "markdown",
   "metadata": {},
   "source": [
    "## Bandpower"
   ]
  },
  {
   "cell_type": "code",
   "execution_count": 4,
   "metadata": {},
   "outputs": [
    {
     "name": "stdout",
     "output_type": "stream",
     "text": [
      "25.554513197351692\n"
     ]
    }
   ],
   "source": [
    "ERSP_1 = preprocessing.bandpower(ERSP_all, freqs, 5, 10)\n",
    "ERSP_2 = preprocessing.bandpower(ERSP_all, freqs, 10, 15)\n",
    "ERSP_all = np.concatenate((ERSP_1, ERSP_2), axis=1)\n",
    "\n",
    "threshold = np.mean(SLs)+np.std(SLs)\n",
    "print(threshold)\n",
    "Y = preprocessing.make_target(SLs, threshold)\n",
    "\n",
    "method = 3"
   ]
  },
  {
   "cell_type": "markdown",
   "metadata": {},
   "source": [
    "# Holdout Method"
   ]
  },
  {
   "cell_type": "markdown",
   "metadata": {},
   "source": [
    "## Split data"
   ]
  },
  {
   "cell_type": "code",
   "execution_count": 5,
   "metadata": {},
   "outputs": [
    {
     "name": "stdout",
     "output_type": "stream",
     "text": [
      "X_train shape :  (406, 1368)\n",
      "X_test shape :  (46, 1368)\n"
     ]
    }
   ],
   "source": [
    "# Split for training and testing data\n",
    "X_train, X_test, Y_train, Y_test = train_test_split(ERSP_all, Y, test_size=0.1, random_state=42)\n",
    "print('X_train shape : ', X_train.shape)\n",
    "print('X_test shape : ', X_test.shape)"
   ]
  },
  {
   "cell_type": "markdown",
   "metadata": {},
   "source": [
    "## PCA (1) Largest eigenvalues"
   ]
  },
  {
   "cell_type": "code",
   "execution_count": 5,
   "metadata": {},
   "outputs": [
    {
     "ename": "NameError",
     "evalue": "name 'X_train' is not defined",
     "output_type": "error",
     "traceback": [
      "\u001b[0;31m---------------------------------------------------------------------------\u001b[0m",
      "\u001b[0;31mNameError\u001b[0m                                 Traceback (most recent call last)",
      "\u001b[0;32m<ipython-input-5-17071db1c6e5>\u001b[0m in \u001b[0;36m<module>\u001b[0;34m\u001b[0m\n\u001b[1;32m      1\u001b[0m \u001b[0;31m# Apply PCA to training data and testing data\u001b[0m\u001b[0;34m\u001b[0m\u001b[0;34m\u001b[0m\u001b[0;34m\u001b[0m\u001b[0m\n\u001b[1;32m      2\u001b[0m \u001b[0mpca\u001b[0m \u001b[0;34m=\u001b[0m \u001b[0mPCA\u001b[0m\u001b[0;34m(\u001b[0m\u001b[0mn_components\u001b[0m\u001b[0;34m=\u001b[0m\u001b[0;36m2\u001b[0m\u001b[0;34m)\u001b[0m\u001b[0;34m\u001b[0m\u001b[0;34m\u001b[0m\u001b[0m\n\u001b[0;32m----> 3\u001b[0;31m \u001b[0mpca\u001b[0m\u001b[0;34m.\u001b[0m\u001b[0mfit\u001b[0m\u001b[0;34m(\u001b[0m\u001b[0mX_train\u001b[0m\u001b[0;34m)\u001b[0m\u001b[0;34m\u001b[0m\u001b[0;34m\u001b[0m\u001b[0m\n\u001b[0m\u001b[1;32m      4\u001b[0m \u001b[0;34m\u001b[0m\u001b[0m\n\u001b[1;32m      5\u001b[0m \u001b[0mX_train\u001b[0m \u001b[0;34m=\u001b[0m \u001b[0mpca\u001b[0m\u001b[0;34m.\u001b[0m\u001b[0mtransform\u001b[0m\u001b[0;34m(\u001b[0m\u001b[0mX_train\u001b[0m\u001b[0;34m)\u001b[0m\u001b[0;34m\u001b[0m\u001b[0;34m\u001b[0m\u001b[0m\n",
      "\u001b[0;31mNameError\u001b[0m: name 'X_train' is not defined"
     ]
    }
   ],
   "source": [
    "# Apply PCA to training data and testing data\n",
    "pca = PCA(n_components=2)\n",
    "pca.fit(X_train)\n",
    "\n",
    "X_train = pca.transform(X_train)\n",
    "X_test = pca.transform(X_test)\n",
    "\n",
    "print('X_train shape : ', X_train.shape)\n",
    "print('X_test shape : ', X_test.shape)"
   ]
  },
  {
   "cell_type": "markdown",
   "metadata": {},
   "source": [
    "## PCA (2) Most correlated"
   ]
  },
  {
   "cell_type": "code",
   "execution_count": 5,
   "metadata": {},
   "outputs": [],
   "source": [
    "def PCA_corr(X_train, X_test, Y_train):\n",
    "    # PCA fit\n",
    "    num_train = X_train.shape[0]\n",
    "    mean_X = 1/num_train * np.dot(X_train.T, np.ones((num_train,1))).T\n",
    "    cen_X_train = X_train - mean_X\n",
    "    cov_X_train = 1/num_train * np.dot(cen_X_train.T, cen_X_train)\n",
    "    w, v = np.linalg.eig(cov_X_train)\n",
    "\n",
    "    # Sort the eigenvalues and eigenvectors in decreasing order\n",
    "    sorted_indices = np.argsort(w)[::-1]\n",
    "    sorted_v = v[:, sorted_indices]\n",
    "    sorted_w = np.sort(w)[::-1]\n",
    "\n",
    "    # Retain PCs with 80% eigenvalues\n",
    "    ratios = np.add.accumulate(sorted_w.real)/np.sum(sorted_w.real)\n",
    "    num_PCs = np.sum(ratios<=0.8)\n",
    "    PCs = sorted_v[:, :num_PCs]\n",
    "\n",
    "    # PCA predict\n",
    "    X_train = np.dot(cen_X_train, PCs)\n",
    "\n",
    "    # Find two PCs correlated most strongly with SLs\n",
    "    corr_coef = np.zeros(num_PCs)\n",
    "    for i in range(num_PCs):\n",
    "        corr_coef[i] = abs(np.corrcoef(X_train[:,i], Y_train[:,1])[0,1])\n",
    "\n",
    "    #print(corr_coef)\n",
    "    max_1_index = np.argmax(corr_coef)\n",
    "    #print('Max: ', max_1_index)\n",
    "    corr_coef[max_1_index] = 0\n",
    "    max_2_index = np.argmax(corr_coef)\n",
    "    #print('Second: ', max_2_index)\n",
    "    PC_2 = sorted_v[:, [max_1_index, max_2_index]]\n",
    "\n",
    "\n",
    "    # PCA predict\n",
    "    X_train = abs(np.dot(cen_X_train, PC_2))\n",
    "    X_test = abs(np.dot(X_test-mean_X, PC_2))\n",
    "\n",
    "    #print('X_train shape : ', X_train.shape)\n",
    "    #print('X_test shape : ', X_test.shape)\n",
    "    \n",
    "    return X_train, X_test"
   ]
  },
  {
   "cell_type": "code",
   "execution_count": 7,
   "metadata": {},
   "outputs": [
    {
     "name": "stdout",
     "output_type": "stream",
     "text": [
      "[0.10016149 0.13321825 0.19431854 0.1501953  0.1506912  0.05088907\n",
      " 0.14942456 0.12343108 0.06527064 0.0030398  0.02589858 0.06059784\n",
      " 0.06922075 0.04778581 0.0834417  0.08851105 0.09370633 0.03329117\n",
      " 0.08084067 0.00824471 0.00701375 0.09780048 0.05044458 0.0233989 ]\n",
      "Max:  2\n",
      "Second:  4\n"
     ]
    }
   ],
   "source": [
    "X_train, X_test = PCA_corr(X_train, X_test, Y_train)"
   ]
  },
  {
   "cell_type": "code",
   "execution_count": 8,
   "metadata": {},
   "outputs": [],
   "source": [
    "# Sort SLs in increasing order\n",
    "sorted_indices = np.argsort(Y_train[:,1])\n",
    "sorted_x = X_train[sorted_indices, :]\n",
    "sorted_y = Y_train[sorted_indices, :]\n",
    "\n",
    "# Curve fitting\n",
    "def func(X, a, b, c):\n",
    "    x1, x2 = X\n",
    "    return a + b*x1 + c*x2\n",
    "\n",
    "xdata = (sorted_x[:,0], sorted_x[:,1])\n",
    "ydata = sorted_y[:,1]\n",
    "popt, pcov = curve_fit(func, xdata, ydata)"
   ]
  },
  {
   "cell_type": "code",
   "execution_count": 9,
   "metadata": {},
   "outputs": [
    {
     "data": {
      "text/plain": [
       "Text(0.5, 1.0, 'r = 0.043601')"
      ]
     },
     "execution_count": 9,
     "metadata": {},
     "output_type": "execute_result"
    },
    {
     "data": {
      "image/png": "[encoded data removed]",
      "text/plain": [
       "<Figure size 432x288 with 1 Axes>"
      ]
     },
     "metadata": {
      "needs_background": "light"
     },
     "output_type": "display_data"
    }
   ],
   "source": [
    "# Plot them\n",
    "y_reg = func(xdata, popt[0], popt[1], popt[2])\n",
    "plt.scatter(ydata, y_reg, marker = '.')\n",
    "\n",
    "slope, intercept, r_value, p_value, std_err = stats.linregress(ydata, y_reg)\n",
    "y_range = np.linspace(np.min(ydata), np.max(ydata), 100)\n",
    "plt.plot(y_range, slope*y_range+intercept, 'r-')\n",
    "\n",
    "plt.xlabel('SL (s)')\n",
    "plt.ylabel('%.2f + %.2f*PC1 + %.2f*PC2'%(popt[0],popt[1],popt[2]))\n",
    "plt.title('r = %f'%(np.corrcoef(y_reg, ydata)[0,1]))\n"
   ]
  },
  {
   "cell_type": "markdown",
   "metadata": {},
   "source": [
    "# Leave-one-out cross validation"
   ]
  },
  {
   "cell_type": "code",
   "execution_count": 5,
   "metadata": {},
   "outputs": [
    {
     "name": "stdout",
     "output_type": "stream",
     "text": [
      "Threshold 1: 99.557522\n",
      "Threshold 2: 88.716814\n",
      "Threshold 3: 75.663717\n",
      "Threshold 4: 64.823009\n",
      "Threshold 5: 62.168142\n",
      "Threshold 6: 66.150442\n",
      "Threshold 7: 70.796460\n",
      "Threshold 8: 70.796460\n",
      "Threshold 9: 71.902655\n",
      "Threshold 10: 73.672566\n",
      "Threshold 11: 76.327434\n",
      "Threshold 12: 76.106195\n",
      "Threshold 13: 77.876106\n",
      "Threshold 14: 77.876106\n",
      "Threshold 15: 80.973451\n",
      "Threshold 16: 82.964602\n",
      "Threshold 17: 83.849558\n",
      "Threshold 18: 85.176991\n",
      "Threshold 19: 86.504425\n",
      "Threshold 20: 87.389381\n",
      "Threshold 21: 87.610619\n",
      "Threshold 22: 88.053097\n",
      "Threshold 23: 88.938053\n",
      "Threshold 24: 89.601770\n",
      "Threshold 25: 90.929204\n",
      "Threshold 26: 91.150442\n",
      "Threshold 27: 91.371681\n",
      "Threshold 28: 91.371681\n",
      "Threshold 29: 91.592920\n",
      "Threshold 30: 91.592920\n",
      "Threshold 31: 92.256637\n",
      "Threshold 32: 92.699115\n",
      "Threshold 33: 93.141593\n",
      "Threshold 34: 93.362832\n",
      "Threshold 35: 93.362832\n",
      "Threshold 36: 93.362832\n",
      "Threshold 37: 93.584071\n",
      "Threshold 38: 94.026549\n",
      "Threshold 39: 94.026549\n",
      "Threshold 40: 94.026549\n",
      "Threshold 41: 94.247788\n",
      "Threshold 42: 94.247788\n",
      "Threshold 43: 94.690265\n",
      "Threshold 44: 94.690265\n",
      "Threshold 45: 94.911504\n",
      "Threshold 46: 95.353982\n",
      "Threshold 47: 95.575221\n",
      "Threshold 48: 95.796460\n",
      "Threshold 49: 96.017699\n"
     ]
    }
   ],
   "source": [
    "X_all = ERSP_all\n",
    "\n",
    "test_acc_SL = []\n",
    "thresholds = list(range(1,50))\n",
    "\n",
    "for threshold in thresholds:\n",
    "    Y = preprocessing.make_target(SLs, float(threshold))\n",
    "    \n",
    "    train_acc_list = []\n",
    "    test_acc_list = []\n",
    "    loo = LeaveOneOut()\n",
    "    for i, (train_index, test_index) in enumerate(loo.split(X_all)):\n",
    "\n",
    "        # No trim mean\n",
    "        # Split data\n",
    "        X_train, X_test = X_all[train_index, :], X_all[test_index, :]\n",
    "        Y_train, Y_test = Y[train_index, :], Y[test_index, :]\n",
    "\n",
    "        if method == 1:\n",
    "            pca = PCA(n_components=2)\n",
    "            pca.fit(X_train)\n",
    "            X_train = pca.transform(X_train)\n",
    "            X_test = pca.transform(X_test)\n",
    "        elif method == 2:\n",
    "            # PCA\n",
    "            X_train, X_test = PCA_corr(X_train, X_test, Y_train)\n",
    "\n",
    "        # Decompose Y\n",
    "        Y_train = Y_train[:,0]\n",
    "        Y_test = Y_test[:,0]\n",
    "\n",
    "        '''\n",
    "        # Trim mean after removing the validation data\n",
    "        # Split data\n",
    "        X_train, X_test = X_all[train_index], X_all[test_index]\n",
    "        X_train, new_SLs = trimMean(X_train, SLs[train_index], freqs)\n",
    "        X_test = bandpower(X_test, freqs, 10, 15)\n",
    "\n",
    "        # Let mean of SLs be the threshold\n",
    "        threshold = np.mean(new_SLs) \n",
    "        Y_train = np.asarray(new_SLs >= threshold, float)\n",
    "        Y_test = np.asarray(SLs[test_index] >= threshold, float)\n",
    "        '''\n",
    "\n",
    "        '''\n",
    "        # Trim mean before removing the validation data\n",
    "        # Split data\n",
    "        X_train, X_test = X_all[train_index], X_all[test_index]\n",
    "        Y_train, Y_test = Y[train_index, :], Y[test_index, :]\n",
    "\n",
    "        # Decompose Y\n",
    "        Y_train = Y_train[:,0]\n",
    "        Y_test = Y_test[:,0]\n",
    "        '''\n",
    "\n",
    "        # LDA\n",
    "        clf = svm.SVC()\n",
    "        clf.fit(X_train, Y_train)\n",
    "\n",
    "        num_train = len(Y_train)\n",
    "        pred_train = clf.predict(X_train)\n",
    "        train_acc = np.sum(pred_train == Y_train)/num_train*100\n",
    "        #print('Training Accuracy : %f'%(train_acc))\n",
    "        train_acc_list.append(train_acc)\n",
    "\n",
    "        num_test = len(Y_test)\n",
    "        pred_test = clf.predict(X_test)\n",
    "        test_acc = np.sum(pred_test == Y_test)*100\n",
    "        #print('Testing Accuracy : %f'%(test_acc))\n",
    "        test_acc_list.append(test_acc)\n",
    "\n",
    "        # print('Iteration %d: (%f, %f)'%(i, train_acc, test_acc))\n",
    "        \n",
    "    print('Threshold %d: %f'%(threshold, sum(test_acc_list)/len(test_acc_list)))\n",
    "    test_acc_SL.append(sum(test_acc_list)/len(test_acc_list))\n",
    "    "
   ]
  },
  {
   "cell_type": "code",
   "execution_count": 6,
   "metadata": {},
   "outputs": [
    {
     "name": "stdout",
     "output_type": "stream",
     "text": [
      "False trials, Min: 26.693359, Max: 94.105469\n",
      "True trials, Min: 0.152344, Max: 25.238281\n"
     ]
    }
   ],
   "source": [
    "test_acc_array = np.asarray(test_acc_list)\n",
    "false_trials = SLs[np.where(test_acc_array==0)[0]]\n",
    "true_trials = SLs[np.where(test_acc_array==100)[0]]\n",
    "print('False trials, Min: %f, Max: %f'%(np.min(false_trials), np.max(false_trials)))\n",
    "print('True trials, Min: %f, Max: %f'%(np.min(true_trials), np.max(true_trials)))"
   ]
  },
  {
   "cell_type": "code",
   "execution_count": 6,
   "metadata": {},
   "outputs": [
    {
     "name": "stdout",
     "output_type": "stream",
     "text": [
      "Training accuracy: 91.150442\n",
      "Testing accuracy: 91.150442\n"
     ]
    }
   ],
   "source": [
    "print('Training accuracy: %f'%(sum(train_acc_list)/len(train_acc_list)))\n",
    "print('Testing accuracy: %f'%(sum(test_acc_list)/len(test_acc_list)))"
   ]
  },
  {
   "cell_type": "code",
   "execution_count": 9,
   "metadata": {},
   "outputs": [
    {
     "data": {
      "text/plain": [
       "Text(0, 0.5, 'Accuracy (%)')"
      ]
     },
     "execution_count": 9,
     "metadata": {},
     "output_type": "execute_result"
    },
    {
     "data": {
      "image/png": "[encoded data removed]",
      "text/plain": [
       "<Figure size 432x288 with 1 Axes>"
      ]
     },
     "metadata": {
      "needs_background": "light"
     },
     "output_type": "display_data"
    }
   ],
   "source": [
    "plt.plot(thresholds, test_acc_SL)\n",
    "plt.xlabel('Threshold (s)')\n",
    "plt.ylabel('Accuracy (%)')"
   ]
  },
  {
   "cell_type": "code",
   "execution_count": 6,
   "metadata": {},
   "outputs": [],
   "source": [
    "ratios = []\n",
    "for threshold in thresholds:\n",
    "    ratio = max(np.sum(SLs<=threshold), np.sum(SLs>threshold))/len(SLs)\n",
    "    ratios.append(ratio*100)"
   ]
  },
  {
   "cell_type": "code",
   "execution_count": 7,
   "metadata": {},
   "outputs": [
    {
     "data": {
      "text/plain": [
       "<matplotlib.legend.Legend at 0x7ffbfd424050>"
      ]
     },
     "execution_count": 7,
     "metadata": {},
     "output_type": "execute_result"
    },
    {
     "data": {
      "image/png": "[encoded data removed]",
      "text/plain": [
       "<Figure size 432x288 with 1 Axes>"
      ]
     },
     "metadata": {
      "needs_background": "light"
     },
     "output_type": "display_data"
    }
   ],
   "source": [
    "plt.plot(thresholds, test_acc_SL, 'b-', thresholds, ratios, 'r--')\n",
    "plt.xlabel('Threshold (sec)')\n",
    "plt.ylabel('(%)')\n",
    "plt.legend(('Accuracy', 'Ratio'))"
   ]
  },
  {
   "cell_type": "markdown",
   "metadata": {},
   "source": [
    "# Regression"
   ]
  },
  {
   "cell_type": "code",
   "execution_count": 52,
   "metadata": {},
   "outputs": [],
   "source": [
    "def standard_error(pred, target):\n",
    "    \n",
    "    assert pred.shape[0] == target.shape[0]\n",
    "    \n",
    "    return (np.sum( np.power(pred-target,2) )/len(pred))**0.5\n",
    "\n",
    "def plot_scatter(true, pred):\n",
    "\n",
    "    max_value = np.max(np.hstack((true, pred)))\n",
    "    plt.scatter(true, pred, marker='.')\n",
    "    axes = plt.gca()\n",
    "    axes.set_xlim([0, max_value])\n",
    "    axes.set_ylim([0, max_value])\n",
    "    plt.xlabel('True')\n",
    "    plt.ylabel('Pred')\n",
    "    \n",
    "def regression(X_train, Y_train, X_test, Y_test, regressor):\n",
    "    \n",
    "    results = regressor.fit(X_train,Y_train)\n",
    "    pred_train = regressor.predict(X_train)\n",
    "    pred_test = regressor.predict(X_test)\n",
    "    \n",
    "    train_std = mean_squared_error(Y_train, pred_train)**0.5\n",
    "    test_std = mean_squared_error(Y_test, pred_test)**0.5\n",
    "    train_r2 = r2_score(Y_train, pred_train)\n",
    "    test_r2 = r2_score(Y_test, pred_test)\n",
    "    \n",
    "    return results, train_std, test_std, train_r2, test_r2, pred_train, pred_test"
   ]
  },
  {
   "cell_type": "code",
   "execution_count": 63,
   "metadata": {},
   "outputs": [
    {
     "name": "stdout",
     "output_type": "stream",
     "text": [
      "---Iteration 0---\n",
      "\n",
      "[0]\n",
      "Select 342 features\n",
      "First: 0, 0.215668\n",
      "Second: 7, 0.072511\n",
      "Method 1: 14.595821 | 15.949130\n",
      "\n",
      "Baseline: 14.597772 | 15.774182\n",
      "\n",
      "---Iteration 1---\n",
      "\n",
      "[1]\n"
     ]
    },
    {
     "name": "stderr",
     "output_type": "stream",
     "text": [
      "/Users/hundredball/anaconda3/envs/Math24/lib/python3.7/site-packages/sklearn/metrics/_regression.py:582: UndefinedMetricWarning: R^2 score is not well-defined with less than two samples.\n",
      "  warnings.warn(msg, UndefinedMetricWarning)\n",
      "/Users/hundredball/anaconda3/envs/Math24/lib/python3.7/site-packages/sklearn/metrics/_regression.py:582: UndefinedMetricWarning: R^2 score is not well-defined with less than two samples.\n",
      "  warnings.warn(msg, UndefinedMetricWarning)\n"
     ]
    },
    {
     "name": "stdout",
     "output_type": "stream",
     "text": [
      "Select 342 features\n",
      "First: 0, 0.214198\n",
      "Second: 7, 0.068568\n",
      "Method 1: 14.603674 | 11.042845\n",
      "\n",
      "Baseline: 14.607475 | 10.988203\n",
      "\n",
      "---Iteration 2---\n",
      "\n",
      "[2]\n"
     ]
    },
    {
     "name": "stderr",
     "output_type": "stream",
     "text": [
      "/Users/hundredball/anaconda3/envs/Math24/lib/python3.7/site-packages/sklearn/metrics/_regression.py:582: UndefinedMetricWarning: R^2 score is not well-defined with less than two samples.\n",
      "  warnings.warn(msg, UndefinedMetricWarning)\n",
      "/Users/hundredball/anaconda3/envs/Math24/lib/python3.7/site-packages/sklearn/metrics/_regression.py:582: UndefinedMetricWarning: R^2 score is not well-defined with less than two samples.\n",
      "  warnings.warn(msg, UndefinedMetricWarning)\n"
     ]
    },
    {
     "name": "stdout",
     "output_type": "stream",
     "text": [
      "Select 342 features\n",
      "First: 0, 0.212449\n",
      "Second: 7, 0.071362\n",
      "Method 1: 14.614191 | 1.288154\n",
      "\n",
      "Baseline: 14.616477 | 1.349640\n",
      "\n",
      "---Iteration 3---\n",
      "\n",
      "[3]\n"
     ]
    },
    {
     "name": "stderr",
     "output_type": "stream",
     "text": [
      "/Users/hundredball/anaconda3/envs/Math24/lib/python3.7/site-packages/sklearn/metrics/_regression.py:582: UndefinedMetricWarning: R^2 score is not well-defined with less than two samples.\n",
      "  warnings.warn(msg, UndefinedMetricWarning)\n",
      "/Users/hundredball/anaconda3/envs/Math24/lib/python3.7/site-packages/sklearn/metrics/_regression.py:582: UndefinedMetricWarning: R^2 score is not well-defined with less than two samples.\n",
      "  warnings.warn(msg, UndefinedMetricWarning)\n"
     ]
    },
    {
     "name": "stdout",
     "output_type": "stream",
     "text": [
      "Select 342 features\n",
      "First: 0, 0.212273\n",
      "Second: 7, 0.071799\n",
      "Method 1: 14.614501 | 1.956841\n",
      "\n",
      "Baseline: 14.616352 | 1.864451\n",
      "\n",
      "---Iteration 4---\n",
      "\n",
      "[4]\n"
     ]
    },
    {
     "name": "stderr",
     "output_type": "stream",
     "text": [
      "/Users/hundredball/anaconda3/envs/Math24/lib/python3.7/site-packages/sklearn/metrics/_regression.py:582: UndefinedMetricWarning: R^2 score is not well-defined with less than two samples.\n",
      "  warnings.warn(msg, UndefinedMetricWarning)\n",
      "/Users/hundredball/anaconda3/envs/Math24/lib/python3.7/site-packages/sklearn/metrics/_regression.py:582: UndefinedMetricWarning: R^2 score is not well-defined with less than two samples.\n",
      "  warnings.warn(msg, UndefinedMetricWarning)\n"
     ]
    },
    {
     "name": "stdout",
     "output_type": "stream",
     "text": [
      "Select 342 features\n",
      "First: 0, 0.211709\n",
      "Second: 7, 0.076265\n",
      "Method 1: 14.608932 | 7.375127\n",
      "\n",
      "Baseline: 14.612866 | 7.038006\n",
      "\n",
      "---Iteration 5---\n",
      "\n",
      "[5]\n"
     ]
    },
    {
     "name": "stderr",
     "output_type": "stream",
     "text": [
      "/Users/hundredball/anaconda3/envs/Math24/lib/python3.7/site-packages/sklearn/metrics/_regression.py:582: UndefinedMetricWarning: R^2 score is not well-defined with less than two samples.\n",
      "  warnings.warn(msg, UndefinedMetricWarning)\n",
      "/Users/hundredball/anaconda3/envs/Math24/lib/python3.7/site-packages/sklearn/metrics/_regression.py:582: UndefinedMetricWarning: R^2 score is not well-defined with less than two samples.\n",
      "  warnings.warn(msg, UndefinedMetricWarning)\n"
     ]
    },
    {
     "name": "stdout",
     "output_type": "stream",
     "text": [
      "Select 342 features\n",
      "First: 0, 0.211325\n",
      "Second: 7, 0.075561\n",
      "Method 1: 14.611095 | 6.056653\n",
      "\n",
      "Baseline: 14.613458 | 6.458599\n",
      "\n",
      "---Iteration 6---\n",
      "\n",
      "[6]\n"
     ]
    },
    {
     "name": "stderr",
     "output_type": "stream",
     "text": [
      "/Users/hundredball/anaconda3/envs/Math24/lib/python3.7/site-packages/sklearn/metrics/_regression.py:582: UndefinedMetricWarning: R^2 score is not well-defined with less than two samples.\n",
      "  warnings.warn(msg, UndefinedMetricWarning)\n",
      "/Users/hundredball/anaconda3/envs/Math24/lib/python3.7/site-packages/sklearn/metrics/_regression.py:582: UndefinedMetricWarning: R^2 score is not well-defined with less than two samples.\n",
      "  warnings.warn(msg, UndefinedMetricWarning)\n"
     ]
    },
    {
     "name": "stdout",
     "output_type": "stream",
     "text": [
      "Select 342 features\n",
      "First: 0, 0.216592\n",
      "Second: 7, 0.071510\n",
      "Method 1: 14.590426 | 17.948636\n",
      "\n",
      "Baseline: 14.592564 | 17.819724\n",
      "\n",
      "---Iteration 7---\n",
      "\n",
      "[7]\n"
     ]
    },
    {
     "name": "stderr",
     "output_type": "stream",
     "text": [
      "/Users/hundredball/anaconda3/envs/Math24/lib/python3.7/site-packages/sklearn/metrics/_regression.py:582: UndefinedMetricWarning: R^2 score is not well-defined with less than two samples.\n",
      "  warnings.warn(msg, UndefinedMetricWarning)\n",
      "/Users/hundredball/anaconda3/envs/Math24/lib/python3.7/site-packages/sklearn/metrics/_regression.py:582: UndefinedMetricWarning: R^2 score is not well-defined with less than two samples.\n",
      "  warnings.warn(msg, UndefinedMetricWarning)\n"
     ]
    },
    {
     "name": "stdout",
     "output_type": "stream",
     "text": [
      "Select 342 features\n",
      "First: 0, 0.211002\n",
      "Second: 7, 0.075700\n",
      "Method 1: 14.608612 | 8.625756\n",
      "\n",
      "Baseline: 14.611093 | 8.541332\n",
      "\n",
      "---Iteration 8---\n",
      "\n",
      "[8]\n"
     ]
    },
    {
     "name": "stderr",
     "output_type": "stream",
     "text": [
      "/Users/hundredball/anaconda3/envs/Math24/lib/python3.7/site-packages/sklearn/metrics/_regression.py:582: UndefinedMetricWarning: R^2 score is not well-defined with less than two samples.\n",
      "  warnings.warn(msg, UndefinedMetricWarning)\n",
      "/Users/hundredball/anaconda3/envs/Math24/lib/python3.7/site-packages/sklearn/metrics/_regression.py:582: UndefinedMetricWarning: R^2 score is not well-defined with less than two samples.\n",
      "  warnings.warn(msg, UndefinedMetricWarning)\n"
     ]
    },
    {
     "name": "stdout",
     "output_type": "stream",
     "text": [
      "Select 342 features\n",
      "First: 0, 0.212145\n",
      "Second: 7, 0.075634\n",
      "Method 1: 14.613699 | 2.562930\n",
      "\n",
      "Baseline: 14.615986 | 2.884285\n",
      "\n",
      "---Iteration 9---\n",
      "\n",
      "[9]\n"
     ]
    },
    {
     "name": "stderr",
     "output_type": "stream",
     "text": [
      "/Users/hundredball/anaconda3/envs/Math24/lib/python3.7/site-packages/sklearn/metrics/_regression.py:582: UndefinedMetricWarning: R^2 score is not well-defined with less than two samples.\n",
      "  warnings.warn(msg, UndefinedMetricWarning)\n",
      "/Users/hundredball/anaconda3/envs/Math24/lib/python3.7/site-packages/sklearn/metrics/_regression.py:582: UndefinedMetricWarning: R^2 score is not well-defined with less than two samples.\n",
      "  warnings.warn(msg, UndefinedMetricWarning)\n"
     ]
    },
    {
     "name": "stdout",
     "output_type": "stream",
     "text": [
      "Select 342 features\n",
      "First: 0, 0.212039\n",
      "Second: 7, 0.077176\n",
      "Method 1: 14.612528 | 3.910229\n",
      "\n",
      "Baseline: 14.615510 | 3.821906\n",
      "\n",
      "---Iteration 10---\n",
      "\n",
      "[10]\n"
     ]
    },
    {
     "name": "stderr",
     "output_type": "stream",
     "text": [
      "/Users/hundredball/anaconda3/envs/Math24/lib/python3.7/site-packages/sklearn/metrics/_regression.py:582: UndefinedMetricWarning: R^2 score is not well-defined with less than two samples.\n",
      "  warnings.warn(msg, UndefinedMetricWarning)\n",
      "/Users/hundredball/anaconda3/envs/Math24/lib/python3.7/site-packages/sklearn/metrics/_regression.py:582: UndefinedMetricWarning: R^2 score is not well-defined with less than two samples.\n",
      "  warnings.warn(msg, UndefinedMetricWarning)\n"
     ]
    },
    {
     "name": "stdout",
     "output_type": "stream",
     "text": [
      "Select 342 features\n",
      "First: 0, 0.215901\n",
      "Second: 2, 0.068463\n",
      "Method 1: 14.563589 | 19.094469\n",
      "\n",
      "Baseline: 14.584037 | 20.736332\n",
      "\n",
      "---Iteration 11---\n",
      "\n",
      "[11]\n"
     ]
    },
    {
     "name": "stderr",
     "output_type": "stream",
     "text": [
      "/Users/hundredball/anaconda3/envs/Math24/lib/python3.7/site-packages/sklearn/metrics/_regression.py:582: UndefinedMetricWarning: R^2 score is not well-defined with less than two samples.\n",
      "  warnings.warn(msg, UndefinedMetricWarning)\n",
      "/Users/hundredball/anaconda3/envs/Math24/lib/python3.7/site-packages/sklearn/metrics/_regression.py:582: UndefinedMetricWarning: R^2 score is not well-defined with less than two samples.\n",
      "  warnings.warn(msg, UndefinedMetricWarning)\n"
     ]
    },
    {
     "name": "stdout",
     "output_type": "stream",
     "text": [
      "Select 342 features\n",
      "First: 0, 0.211369\n",
      "Second: 7, 0.076521\n",
      "Method 1: 14.610452 | 6.563912\n",
      "\n",
      "Baseline: 14.612959 | 6.949920\n",
      "\n",
      "---Iteration 12---\n",
      "\n",
      "[12]\n"
     ]
    },
    {
     "name": "stderr",
     "output_type": "stream",
     "text": [
      "/Users/hundredball/anaconda3/envs/Math24/lib/python3.7/site-packages/sklearn/metrics/_regression.py:582: UndefinedMetricWarning: R^2 score is not well-defined with less than two samples.\n",
      "  warnings.warn(msg, UndefinedMetricWarning)\n",
      "/Users/hundredball/anaconda3/envs/Math24/lib/python3.7/site-packages/sklearn/metrics/_regression.py:582: UndefinedMetricWarning: R^2 score is not well-defined with less than two samples.\n",
      "  warnings.warn(msg, UndefinedMetricWarning)\n"
     ]
    },
    {
     "name": "stdout",
     "output_type": "stream",
     "text": [
      "Select 342 features\n",
      "First: 0, 0.211898\n",
      "Second: 7, 0.072442\n",
      "Method 1: 14.611968 | 5.985737\n",
      "\n",
      "Baseline: 14.614110 | 5.753915\n",
      "\n",
      "---Iteration 13---\n",
      "\n",
      "[13]\n"
     ]
    },
    {
     "name": "stderr",
     "output_type": "stream",
     "text": [
      "/Users/hundredball/anaconda3/envs/Math24/lib/python3.7/site-packages/sklearn/metrics/_regression.py:582: UndefinedMetricWarning: R^2 score is not well-defined with less than two samples.\n",
      "  warnings.warn(msg, UndefinedMetricWarning)\n",
      "/Users/hundredball/anaconda3/envs/Math24/lib/python3.7/site-packages/sklearn/metrics/_regression.py:582: UndefinedMetricWarning: R^2 score is not well-defined with less than two samples.\n",
      "  warnings.warn(msg, UndefinedMetricWarning)\n"
     ]
    },
    {
     "name": "stdout",
     "output_type": "stream",
     "text": [
      "Select 342 features\n",
      "First: 0, 0.212173\n",
      "Second: 7, 0.075896\n",
      "Method 1: 14.613622 | 2.430568\n",
      "\n",
      "Baseline: 14.615997 | 2.858838\n",
      "\n",
      "---Iteration 14---\n",
      "\n",
      "[14]\n"
     ]
    },
    {
     "name": "stderr",
     "output_type": "stream",
     "text": [
      "/Users/hundredball/anaconda3/envs/Math24/lib/python3.7/site-packages/sklearn/metrics/_regression.py:582: UndefinedMetricWarning: R^2 score is not well-defined with less than two samples.\n",
      "  warnings.warn(msg, UndefinedMetricWarning)\n",
      "/Users/hundredball/anaconda3/envs/Math24/lib/python3.7/site-packages/sklearn/metrics/_regression.py:582: UndefinedMetricWarning: R^2 score is not well-defined with less than two samples.\n",
      "  warnings.warn(msg, UndefinedMetricWarning)\n"
     ]
    },
    {
     "name": "stdout",
     "output_type": "stream",
     "text": [
      "Select 342 features\n",
      "First: 0, 0.211405\n",
      "Second: 7, 0.075911\n",
      "Method 1: 14.610049 | 7.164938\n",
      "\n",
      "Baseline: 14.612573 | 7.308135\n",
      "\n",
      "---Iteration 15---\n",
      "\n",
      "[15]\n"
     ]
    },
    {
     "name": "stderr",
     "output_type": "stream",
     "text": [
      "/Users/hundredball/anaconda3/envs/Math24/lib/python3.7/site-packages/sklearn/metrics/_regression.py:582: UndefinedMetricWarning: R^2 score is not well-defined with less than two samples.\n",
      "  warnings.warn(msg, UndefinedMetricWarning)\n",
      "/Users/hundredball/anaconda3/envs/Math24/lib/python3.7/site-packages/sklearn/metrics/_regression.py:582: UndefinedMetricWarning: R^2 score is not well-defined with less than two samples.\n",
      "  warnings.warn(msg, UndefinedMetricWarning)\n"
     ]
    },
    {
     "name": "stdout",
     "output_type": "stream",
     "text": [
      "Select 342 features\n",
      "First: 0, 0.217075\n",
      "Second: 7, 0.069791\n",
      "Method 1: 14.585337 | 19.760358\n",
      "\n",
      "Baseline: 14.587870 | 19.479646\n",
      "\n",
      "---Iteration 16---\n",
      "\n",
      "[16]\n"
     ]
    },
    {
     "name": "stderr",
     "output_type": "stream",
     "text": [
      "/Users/hundredball/anaconda3/envs/Math24/lib/python3.7/site-packages/sklearn/metrics/_regression.py:582: UndefinedMetricWarning: R^2 score is not well-defined with less than two samples.\n",
      "  warnings.warn(msg, UndefinedMetricWarning)\n",
      "/Users/hundredball/anaconda3/envs/Math24/lib/python3.7/site-packages/sklearn/metrics/_regression.py:582: UndefinedMetricWarning: R^2 score is not well-defined with less than two samples.\n",
      "  warnings.warn(msg, UndefinedMetricWarning)\n"
     ]
    },
    {
     "name": "stdout",
     "output_type": "stream",
     "text": [
      "Select 342 features\n",
      "First: 0, 0.221343\n",
      "Second: 2, 0.069475\n",
      "Method 1: 14.485652 | 35.604611\n",
      "\n",
      "Baseline: 14.515354 | 36.515382\n",
      "\n",
      "---Iteration 17---\n",
      "\n",
      "[17]\n"
     ]
    },
    {
     "name": "stderr",
     "output_type": "stream",
     "text": [
      "/Users/hundredball/anaconda3/envs/Math24/lib/python3.7/site-packages/sklearn/metrics/_regression.py:582: UndefinedMetricWarning: R^2 score is not well-defined with less than two samples.\n",
      "  warnings.warn(msg, UndefinedMetricWarning)\n",
      "/Users/hundredball/anaconda3/envs/Math24/lib/python3.7/site-packages/sklearn/metrics/_regression.py:582: UndefinedMetricWarning: R^2 score is not well-defined with less than two samples.\n",
      "  warnings.warn(msg, UndefinedMetricWarning)\n"
     ]
    },
    {
     "name": "stdout",
     "output_type": "stream",
     "text": [
      "Select 342 features\n",
      "First: 0, 0.214517\n",
      "Second: 7, 0.071075\n",
      "Method 1: 14.600749 | 13.519736\n",
      "\n",
      "Baseline: 14.602672 | 13.570087\n",
      "\n",
      "---Iteration 18---\n",
      "\n",
      "[18]\n"
     ]
    },
    {
     "name": "stderr",
     "output_type": "stream",
     "text": [
      "/Users/hundredball/anaconda3/envs/Math24/lib/python3.7/site-packages/sklearn/metrics/_regression.py:582: UndefinedMetricWarning: R^2 score is not well-defined with less than two samples.\n",
      "  warnings.warn(msg, UndefinedMetricWarning)\n",
      "/Users/hundredball/anaconda3/envs/Math24/lib/python3.7/site-packages/sklearn/metrics/_regression.py:582: UndefinedMetricWarning: R^2 score is not well-defined with less than two samples.\n",
      "  warnings.warn(msg, UndefinedMetricWarning)\n"
     ]
    },
    {
     "name": "stdout",
     "output_type": "stream",
     "text": [
      "Select 342 features\n",
      "First: 0, 0.212616\n",
      "Second: 7, 0.073742\n",
      "Method 1: 14.613811 | 0.009414\n",
      "\n",
      "Baseline: 14.616612 | 0.196698\n",
      "\n",
      "---Iteration 19---\n",
      "\n",
      "[19]\n"
     ]
    },
    {
     "name": "stderr",
     "output_type": "stream",
     "text": [
      "/Users/hundredball/anaconda3/envs/Math24/lib/python3.7/site-packages/sklearn/metrics/_regression.py:582: UndefinedMetricWarning: R^2 score is not well-defined with less than two samples.\n",
      "  warnings.warn(msg, UndefinedMetricWarning)\n",
      "/Users/hundredball/anaconda3/envs/Math24/lib/python3.7/site-packages/sklearn/metrics/_regression.py:582: UndefinedMetricWarning: R^2 score is not well-defined with less than two samples.\n",
      "  warnings.warn(msg, UndefinedMetricWarning)\n"
     ]
    },
    {
     "name": "stdout",
     "output_type": "stream",
     "text": [
      "Select 342 features\n",
      "First: 0, 0.221803\n",
      "Second: 7, 0.086256\n",
      "Method 1: 14.465490 | 44.569520\n",
      "\n",
      "Baseline: 14.466014 | 44.493972\n",
      "\n",
      "---Iteration 20---\n",
      "\n",
      "[20]\n"
     ]
    },
    {
     "name": "stderr",
     "output_type": "stream",
     "text": [
      "/Users/hundredball/anaconda3/envs/Math24/lib/python3.7/site-packages/sklearn/metrics/_regression.py:582: UndefinedMetricWarning: R^2 score is not well-defined with less than two samples.\n",
      "  warnings.warn(msg, UndefinedMetricWarning)\n",
      "/Users/hundredball/anaconda3/envs/Math24/lib/python3.7/site-packages/sklearn/metrics/_regression.py:582: UndefinedMetricWarning: R^2 score is not well-defined with less than two samples.\n",
      "  warnings.warn(msg, UndefinedMetricWarning)\n"
     ]
    },
    {
     "name": "stdout",
     "output_type": "stream",
     "text": [
      "Select 342 features\n",
      "First: 0, 0.212547\n",
      "Second: 7, 0.074461\n",
      "Method 1: 14.613875 | 0.902045\n",
      "\n",
      "Baseline: 14.616499 | 1.238065\n",
      "\n",
      "---Iteration 21---\n",
      "\n",
      "[21]\n"
     ]
    },
    {
     "name": "stderr",
     "output_type": "stream",
     "text": [
      "/Users/hundredball/anaconda3/envs/Math24/lib/python3.7/site-packages/sklearn/metrics/_regression.py:582: UndefinedMetricWarning: R^2 score is not well-defined with less than two samples.\n",
      "  warnings.warn(msg, UndefinedMetricWarning)\n",
      "/Users/hundredball/anaconda3/envs/Math24/lib/python3.7/site-packages/sklearn/metrics/_regression.py:582: UndefinedMetricWarning: R^2 score is not well-defined with less than two samples.\n",
      "  warnings.warn(msg, UndefinedMetricWarning)\n"
     ]
    },
    {
     "name": "stdout",
     "output_type": "stream",
     "text": [
      "Select 342 features\n",
      "First: 0, 0.211465\n",
      "Second: 7, 0.075609\n",
      "Method 1: 14.610947 | 6.553091\n",
      "\n",
      "Baseline: 14.613058 | 6.855962\n",
      "\n",
      "---Iteration 22---\n",
      "\n",
      "[22]\n"
     ]
    },
    {
     "name": "stderr",
     "output_type": "stream",
     "text": [
      "/Users/hundredball/anaconda3/envs/Math24/lib/python3.7/site-packages/sklearn/metrics/_regression.py:582: UndefinedMetricWarning: R^2 score is not well-defined with less than two samples.\n",
      "  warnings.warn(msg, UndefinedMetricWarning)\n",
      "/Users/hundredball/anaconda3/envs/Math24/lib/python3.7/site-packages/sklearn/metrics/_regression.py:582: UndefinedMetricWarning: R^2 score is not well-defined with less than two samples.\n",
      "  warnings.warn(msg, UndefinedMetricWarning)\n"
     ]
    },
    {
     "name": "stdout",
     "output_type": "stream",
     "text": [
      "Select 342 features\n",
      "First: 0, 0.221264\n",
      "Second: 2, 0.066974\n",
      "Method 1: 14.471453 | 37.705543\n",
      "\n",
      "Baseline: 14.503634 | 38.562881\n",
      "\n",
      "---Iteration 23---\n",
      "\n",
      "[23]\n"
     ]
    },
    {
     "name": "stderr",
     "output_type": "stream",
     "text": [
      "/Users/hundredball/anaconda3/envs/Math24/lib/python3.7/site-packages/sklearn/metrics/_regression.py:582: UndefinedMetricWarning: R^2 score is not well-defined with less than two samples.\n",
      "  warnings.warn(msg, UndefinedMetricWarning)\n",
      "/Users/hundredball/anaconda3/envs/Math24/lib/python3.7/site-packages/sklearn/metrics/_regression.py:582: UndefinedMetricWarning: R^2 score is not well-defined with less than two samples.\n",
      "  warnings.warn(msg, UndefinedMetricWarning)\n"
     ]
    },
    {
     "name": "stdout",
     "output_type": "stream",
     "text": [
      "Select 342 features\n",
      "First: 0, 0.212460\n",
      "Second: 7, 0.072299\n",
      "Method 1: 14.613908 | 1.447188\n",
      "\n",
      "Baseline: 14.616439 | 1.525811\n",
      "\n",
      "---Iteration 24---\n",
      "\n",
      "[24]\n"
     ]
    },
    {
     "name": "stderr",
     "output_type": "stream",
     "text": [
      "/Users/hundredball/anaconda3/envs/Math24/lib/python3.7/site-packages/sklearn/metrics/_regression.py:582: UndefinedMetricWarning: R^2 score is not well-defined with less than two samples.\n",
      "  warnings.warn(msg, UndefinedMetricWarning)\n",
      "/Users/hundredball/anaconda3/envs/Math24/lib/python3.7/site-packages/sklearn/metrics/_regression.py:582: UndefinedMetricWarning: R^2 score is not well-defined with less than two samples.\n",
      "  warnings.warn(msg, UndefinedMetricWarning)\n"
     ]
    },
    {
     "name": "stdout",
     "output_type": "stream",
     "text": [
      "Select 342 features\n",
      "First: 0, 0.211438\n",
      "Second: 7, 0.073615\n",
      "Method 1: 14.608795 | 8.277706\n",
      "\n",
      "Baseline: 14.611353 | 8.337756\n",
      "\n",
      "---Iteration 25---\n",
      "\n",
      "[25]\n"
     ]
    },
    {
     "name": "stderr",
     "output_type": "stream",
     "text": [
      "/Users/hundredball/anaconda3/envs/Math24/lib/python3.7/site-packages/sklearn/metrics/_regression.py:582: UndefinedMetricWarning: R^2 score is not well-defined with less than two samples.\n",
      "  warnings.warn(msg, UndefinedMetricWarning)\n",
      "/Users/hundredball/anaconda3/envs/Math24/lib/python3.7/site-packages/sklearn/metrics/_regression.py:582: UndefinedMetricWarning: R^2 score is not well-defined with less than two samples.\n",
      "  warnings.warn(msg, UndefinedMetricWarning)\n"
     ]
    },
    {
     "name": "stdout",
     "output_type": "stream",
     "text": [
      "Select 342 features\n",
      "First: 0, 0.212220\n",
      "Second: 7, 0.075650\n",
      "Method 1: 14.613918 | 2.538274\n",
      "\n",
      "Baseline: 14.616090 | 2.635688\n",
      "\n",
      "---Iteration 26---\n",
      "\n",
      "[26]\n"
     ]
    },
    {
     "name": "stderr",
     "output_type": "stream",
     "text": [
      "/Users/hundredball/anaconda3/envs/Math24/lib/python3.7/site-packages/sklearn/metrics/_regression.py:582: UndefinedMetricWarning: R^2 score is not well-defined with less than two samples.\n",
      "  warnings.warn(msg, UndefinedMetricWarning)\n",
      "/Users/hundredball/anaconda3/envs/Math24/lib/python3.7/site-packages/sklearn/metrics/_regression.py:582: UndefinedMetricWarning: R^2 score is not well-defined with less than two samples.\n",
      "  warnings.warn(msg, UndefinedMetricWarning)\n"
     ]
    },
    {
     "name": "stdout",
     "output_type": "stream",
     "text": [
      "Select 342 features\n",
      "First: 0, 0.212399\n",
      "Second: 7, 0.075695\n",
      "Method 1: 14.614410 | 0.769759\n",
      "\n",
      "Baseline: 14.616564 | 0.821127\n",
      "\n",
      "---Iteration 27---\n",
      "\n",
      "[27]\n"
     ]
    },
    {
     "name": "stderr",
     "output_type": "stream",
     "text": [
      "/Users/hundredball/anaconda3/envs/Math24/lib/python3.7/site-packages/sklearn/metrics/_regression.py:582: UndefinedMetricWarning: R^2 score is not well-defined with less than two samples.\n",
      "  warnings.warn(msg, UndefinedMetricWarning)\n",
      "/Users/hundredball/anaconda3/envs/Math24/lib/python3.7/site-packages/sklearn/metrics/_regression.py:582: UndefinedMetricWarning: R^2 score is not well-defined with less than two samples.\n",
      "  warnings.warn(msg, UndefinedMetricWarning)\n"
     ]
    },
    {
     "name": "stdout",
     "output_type": "stream",
     "text": [
      "Select 342 features\n",
      "First: 0, 0.211531\n",
      "Second: 7, 0.075407\n",
      "Method 1: 14.609953 | 7.419917\n",
      "\n",
      "Baseline: 14.613276 | 6.642600\n",
      "\n",
      "---Iteration 28---\n",
      "\n",
      "[28]\n"
     ]
    },
    {
     "name": "stderr",
     "output_type": "stream",
     "text": [
      "/Users/hundredball/anaconda3/envs/Math24/lib/python3.7/site-packages/sklearn/metrics/_regression.py:582: UndefinedMetricWarning: R^2 score is not well-defined with less than two samples.\n",
      "  warnings.warn(msg, UndefinedMetricWarning)\n",
      "/Users/hundredball/anaconda3/envs/Math24/lib/python3.7/site-packages/sklearn/metrics/_regression.py:582: UndefinedMetricWarning: R^2 score is not well-defined with less than two samples.\n",
      "  warnings.warn(msg, UndefinedMetricWarning)\n"
     ]
    },
    {
     "name": "stdout",
     "output_type": "stream",
     "text": [
      "Select 342 features\n",
      "First: 0, 0.211538\n",
      "Second: 7, 0.075605\n",
      "Method 1: 14.610523 | 7.061799\n",
      "\n",
      "Baseline: 14.612734 | 7.161326\n",
      "\n",
      "---Iteration 29---\n",
      "\n",
      "[29]\n"
     ]
    },
    {
     "name": "stderr",
     "output_type": "stream",
     "text": [
      "/Users/hundredball/anaconda3/envs/Math24/lib/python3.7/site-packages/sklearn/metrics/_regression.py:582: UndefinedMetricWarning: R^2 score is not well-defined with less than two samples.\n",
      "  warnings.warn(msg, UndefinedMetricWarning)\n",
      "/Users/hundredball/anaconda3/envs/Math24/lib/python3.7/site-packages/sklearn/metrics/_regression.py:582: UndefinedMetricWarning: R^2 score is not well-defined with less than two samples.\n",
      "  warnings.warn(msg, UndefinedMetricWarning)\n"
     ]
    },
    {
     "name": "stdout",
     "output_type": "stream",
     "text": [
      "Select 342 features\n",
      "First: 0, 0.212912\n",
      "Second: 7, 0.074534\n",
      "Method 1: 14.614464 | 0.791684\n",
      "\n",
      "Baseline: 14.616595 | 0.517773\n",
      "\n",
      "---Iteration 30---\n",
      "\n",
      "[30]\n"
     ]
    },
    {
     "name": "stderr",
     "output_type": "stream",
     "text": [
      "/Users/hundredball/anaconda3/envs/Math24/lib/python3.7/site-packages/sklearn/metrics/_regression.py:582: UndefinedMetricWarning: R^2 score is not well-defined with less than two samples.\n",
      "  warnings.warn(msg, UndefinedMetricWarning)\n",
      "/Users/hundredball/anaconda3/envs/Math24/lib/python3.7/site-packages/sklearn/metrics/_regression.py:582: UndefinedMetricWarning: R^2 score is not well-defined with less than two samples.\n",
      "  warnings.warn(msg, UndefinedMetricWarning)\n"
     ]
    },
    {
     "name": "stdout",
     "output_type": "stream",
     "text": [
      "Select 342 features\n",
      "First: 0, 0.211374\n",
      "Second: 7, 0.074983\n",
      "Method 1: 14.610308 | 7.268411\n",
      "\n",
      "Baseline: 14.612320 | 7.533242\n",
      "\n",
      "---Iteration 31---\n",
      "\n",
      "[31]\n"
     ]
    },
    {
     "name": "stderr",
     "output_type": "stream",
     "text": [
      "/Users/hundredball/anaconda3/envs/Math24/lib/python3.7/site-packages/sklearn/metrics/_regression.py:582: UndefinedMetricWarning: R^2 score is not well-defined with less than two samples.\n",
      "  warnings.warn(msg, UndefinedMetricWarning)\n",
      "/Users/hundredball/anaconda3/envs/Math24/lib/python3.7/site-packages/sklearn/metrics/_regression.py:582: UndefinedMetricWarning: R^2 score is not well-defined with less than two samples.\n",
      "  warnings.warn(msg, UndefinedMetricWarning)\n"
     ]
    },
    {
     "name": "stdout",
     "output_type": "stream",
     "text": [
      "Select 342 features\n",
      "First: 0, 0.212515\n",
      "Second: 7, 0.075757\n",
      "Method 1: 14.614074 | 1.198405\n",
      "\n",
      "Baseline: 14.616476 | 1.357470\n",
      "\n",
      "---Iteration 32---\n",
      "\n",
      "[32]\n"
     ]
    },
    {
     "name": "stderr",
     "output_type": "stream",
     "text": [
      "/Users/hundredball/anaconda3/envs/Math24/lib/python3.7/site-packages/sklearn/metrics/_regression.py:582: UndefinedMetricWarning: R^2 score is not well-defined with less than two samples.\n",
      "  warnings.warn(msg, UndefinedMetricWarning)\n",
      "/Users/hundredball/anaconda3/envs/Math24/lib/python3.7/site-packages/sklearn/metrics/_regression.py:582: UndefinedMetricWarning: R^2 score is not well-defined with less than two samples.\n",
      "  warnings.warn(msg, UndefinedMetricWarning)\n"
     ]
    },
    {
     "name": "stdout",
     "output_type": "stream",
     "text": [
      "Select 342 features\n",
      "First: 0, 0.211475\n",
      "Second: 7, 0.073403\n",
      "Method 1: 14.609763 | 7.922983\n",
      "\n",
      "Baseline: 14.611698 | 8.059798\n",
      "\n",
      "---Iteration 33---\n",
      "\n",
      "[33]\n"
     ]
    },
    {
     "name": "stderr",
     "output_type": "stream",
     "text": [
      "/Users/hundredball/anaconda3/envs/Math24/lib/python3.7/site-packages/sklearn/metrics/_regression.py:582: UndefinedMetricWarning: R^2 score is not well-defined with less than two samples.\n",
      "  warnings.warn(msg, UndefinedMetricWarning)\n",
      "/Users/hundredball/anaconda3/envs/Math24/lib/python3.7/site-packages/sklearn/metrics/_regression.py:582: UndefinedMetricWarning: R^2 score is not well-defined with less than two samples.\n",
      "  warnings.warn(msg, UndefinedMetricWarning)\n"
     ]
    },
    {
     "name": "stdout",
     "output_type": "stream",
     "text": [
      "Select 342 features\n",
      "First: 0, 0.212219\n",
      "Second: 7, 0.076668\n",
      "Method 1: 14.613615 | 2.593408\n",
      "\n",
      "Baseline: 14.616115 | 2.571092\n",
      "\n",
      "---Iteration 34---\n",
      "\n",
      "[34]\n"
     ]
    },
    {
     "name": "stderr",
     "output_type": "stream",
     "text": [
      "/Users/hundredball/anaconda3/envs/Math24/lib/python3.7/site-packages/sklearn/metrics/_regression.py:582: UndefinedMetricWarning: R^2 score is not well-defined with less than two samples.\n",
      "  warnings.warn(msg, UndefinedMetricWarning)\n",
      "/Users/hundredball/anaconda3/envs/Math24/lib/python3.7/site-packages/sklearn/metrics/_regression.py:582: UndefinedMetricWarning: R^2 score is not well-defined with less than two samples.\n",
      "  warnings.warn(msg, UndefinedMetricWarning)\n"
     ]
    },
    {
     "name": "stdout",
     "output_type": "stream",
     "text": [
      "Select 342 features\n",
      "First: 0, 0.212266\n",
      "Second: 7, 0.075179\n",
      "Method 1: 14.613845 | 2.487249\n",
      "\n",
      "Baseline: 14.616278 | 2.111090\n",
      "\n",
      "---Iteration 35---\n",
      "\n",
      "[35]\n"
     ]
    },
    {
     "name": "stderr",
     "output_type": "stream",
     "text": [
      "/Users/hundredball/anaconda3/envs/Math24/lib/python3.7/site-packages/sklearn/metrics/_regression.py:582: UndefinedMetricWarning: R^2 score is not well-defined with less than two samples.\n",
      "  warnings.warn(msg, UndefinedMetricWarning)\n",
      "/Users/hundredball/anaconda3/envs/Math24/lib/python3.7/site-packages/sklearn/metrics/_regression.py:582: UndefinedMetricWarning: R^2 score is not well-defined with less than two samples.\n",
      "  warnings.warn(msg, UndefinedMetricWarning)\n"
     ]
    },
    {
     "name": "stdout",
     "output_type": "stream",
     "text": [
      "Select 342 features\n",
      "First: 0, 0.212055\n",
      "Second: 7, 0.074222\n",
      "Method 1: 14.613314 | 3.998048\n",
      "\n",
      "Baseline: 14.615367 | 4.060716\n",
      "\n",
      "---Iteration 36---\n",
      "\n",
      "[36]\n"
     ]
    },
    {
     "name": "stderr",
     "output_type": "stream",
     "text": [
      "/Users/hundredball/anaconda3/envs/Math24/lib/python3.7/site-packages/sklearn/metrics/_regression.py:582: UndefinedMetricWarning: R^2 score is not well-defined with less than two samples.\n",
      "  warnings.warn(msg, UndefinedMetricWarning)\n",
      "/Users/hundredball/anaconda3/envs/Math24/lib/python3.7/site-packages/sklearn/metrics/_regression.py:582: UndefinedMetricWarning: R^2 score is not well-defined with less than two samples.\n",
      "  warnings.warn(msg, UndefinedMetricWarning)\n"
     ]
    },
    {
     "name": "stdout",
     "output_type": "stream",
     "text": [
      "Select 342 features\n",
      "First: 0, 0.212341\n",
      "Second: 7, 0.076424\n",
      "Method 1: 14.614002 | 2.384458\n",
      "\n",
      "Baseline: 14.616293 | 2.064111\n",
      "\n",
      "---Iteration 37---\n",
      "\n",
      "[37]\n"
     ]
    },
    {
     "name": "stderr",
     "output_type": "stream",
     "text": [
      "/Users/hundredball/anaconda3/envs/Math24/lib/python3.7/site-packages/sklearn/metrics/_regression.py:582: UndefinedMetricWarning: R^2 score is not well-defined with less than two samples.\n",
      "  warnings.warn(msg, UndefinedMetricWarning)\n",
      "/Users/hundredball/anaconda3/envs/Math24/lib/python3.7/site-packages/sklearn/metrics/_regression.py:582: UndefinedMetricWarning: R^2 score is not well-defined with less than two samples.\n",
      "  warnings.warn(msg, UndefinedMetricWarning)\n"
     ]
    },
    {
     "name": "stdout",
     "output_type": "stream",
     "text": [
      "Select 342 features\n",
      "First: 0, 0.213537\n",
      "Second: 7, 0.076618\n",
      "Method 1: 14.611462 | 6.106697\n",
      "\n",
      "Baseline: 14.613925 | 5.961457\n",
      "\n",
      "---Iteration 38---\n",
      "\n",
      "[38]\n"
     ]
    },
    {
     "name": "stderr",
     "output_type": "stream",
     "text": [
      "/Users/hundredball/anaconda3/envs/Math24/lib/python3.7/site-packages/sklearn/metrics/_regression.py:582: UndefinedMetricWarning: R^2 score is not well-defined with less than two samples.\n",
      "  warnings.warn(msg, UndefinedMetricWarning)\n",
      "/Users/hundredball/anaconda3/envs/Math24/lib/python3.7/site-packages/sklearn/metrics/_regression.py:582: UndefinedMetricWarning: R^2 score is not well-defined with less than two samples.\n",
      "  warnings.warn(msg, UndefinedMetricWarning)\n"
     ]
    },
    {
     "name": "stdout",
     "output_type": "stream",
     "text": [
      "Select 342 features\n",
      "First: 0, 0.212129\n",
      "Second: 7, 0.075855\n",
      "Method 1: 14.612936 | 4.314779\n",
      "\n",
      "Baseline: 14.615525 | 3.796459\n",
      "\n",
      "---Iteration 39---\n",
      "\n",
      "[39]\n"
     ]
    },
    {
     "name": "stderr",
     "output_type": "stream",
     "text": [
      "/Users/hundredball/anaconda3/envs/Math24/lib/python3.7/site-packages/sklearn/metrics/_regression.py:582: UndefinedMetricWarning: R^2 score is not well-defined with less than two samples.\n",
      "  warnings.warn(msg, UndefinedMetricWarning)\n",
      "/Users/hundredball/anaconda3/envs/Math24/lib/python3.7/site-packages/sklearn/metrics/_regression.py:582: UndefinedMetricWarning: R^2 score is not well-defined with less than two samples.\n",
      "  warnings.warn(msg, UndefinedMetricWarning)\n"
     ]
    },
    {
     "name": "stdout",
     "output_type": "stream",
     "text": [
      "Select 342 features\n",
      "First: 0, 0.211448\n",
      "Second: 7, 0.075141\n",
      "Method 1: 14.608649 | 8.867759\n",
      "\n",
      "Baseline: 14.610562 | 8.942610\n",
      "\n",
      "---Iteration 40---\n",
      "\n",
      "[40]\n"
     ]
    },
    {
     "name": "stderr",
     "output_type": "stream",
     "text": [
      "/Users/hundredball/anaconda3/envs/Math24/lib/python3.7/site-packages/sklearn/metrics/_regression.py:582: UndefinedMetricWarning: R^2 score is not well-defined with less than two samples.\n",
      "  warnings.warn(msg, UndefinedMetricWarning)\n",
      "/Users/hundredball/anaconda3/envs/Math24/lib/python3.7/site-packages/sklearn/metrics/_regression.py:582: UndefinedMetricWarning: R^2 score is not well-defined with less than two samples.\n",
      "  warnings.warn(msg, UndefinedMetricWarning)\n"
     ]
    },
    {
     "name": "stdout",
     "output_type": "stream",
     "text": [
      "Select 342 features\n",
      "First: 0, 0.211742\n",
      "Second: 7, 0.075119\n",
      "Method 1: 14.610920 | 6.837034\n",
      "\n",
      "Baseline: 14.613072 | 6.842260\n",
      "\n",
      "---Iteration 41---\n",
      "\n",
      "[41]\n"
     ]
    },
    {
     "name": "stderr",
     "output_type": "stream",
     "text": [
      "/Users/hundredball/anaconda3/envs/Math24/lib/python3.7/site-packages/sklearn/metrics/_regression.py:582: UndefinedMetricWarning: R^2 score is not well-defined with less than two samples.\n",
      "  warnings.warn(msg, UndefinedMetricWarning)\n",
      "/Users/hundredball/anaconda3/envs/Math24/lib/python3.7/site-packages/sklearn/metrics/_regression.py:582: UndefinedMetricWarning: R^2 score is not well-defined with less than two samples.\n",
      "  warnings.warn(msg, UndefinedMetricWarning)\n"
     ]
    },
    {
     "name": "stdout",
     "output_type": "stream",
     "text": [
      "Select 342 features\n",
      "First: 0, 0.214166\n",
      "Second: 7, 0.078373\n",
      "Method 1: 14.601710 | 13.151943\n",
      "\n",
      "Baseline: 14.603108 | 13.356725\n",
      "\n",
      "---Iteration 42---\n",
      "\n",
      "[42]\n"
     ]
    },
    {
     "name": "stderr",
     "output_type": "stream",
     "text": [
      "/Users/hundredball/anaconda3/envs/Math24/lib/python3.7/site-packages/sklearn/metrics/_regression.py:582: UndefinedMetricWarning: R^2 score is not well-defined with less than two samples.\n",
      "  warnings.warn(msg, UndefinedMetricWarning)\n",
      "/Users/hundredball/anaconda3/envs/Math24/lib/python3.7/site-packages/sklearn/metrics/_regression.py:582: UndefinedMetricWarning: R^2 score is not well-defined with less than two samples.\n",
      "  warnings.warn(msg, UndefinedMetricWarning)\n"
     ]
    },
    {
     "name": "stdout",
     "output_type": "stream",
     "text": [
      "Select 342 features\n",
      "First: 0, 0.212716\n",
      "Second: 7, 0.077746\n",
      "Method 1: 14.614211 | 1.725752\n",
      "\n",
      "Baseline: 14.616374 | 1.784247\n",
      "\n",
      "---Iteration 43---\n",
      "\n",
      "[43]\n"
     ]
    },
    {
     "name": "stderr",
     "output_type": "stream",
     "text": [
      "/Users/hundredball/anaconda3/envs/Math24/lib/python3.7/site-packages/sklearn/metrics/_regression.py:582: UndefinedMetricWarning: R^2 score is not well-defined with less than two samples.\n",
      "  warnings.warn(msg, UndefinedMetricWarning)\n",
      "/Users/hundredball/anaconda3/envs/Math24/lib/python3.7/site-packages/sklearn/metrics/_regression.py:582: UndefinedMetricWarning: R^2 score is not well-defined with less than two samples.\n",
      "  warnings.warn(msg, UndefinedMetricWarning)\n"
     ]
    },
    {
     "name": "stdout",
     "output_type": "stream",
     "text": [
      "Select 342 features\n",
      "First: 0, 0.211985\n",
      "Second: 7, 0.075144\n",
      "Method 1: 14.609984 | 6.982061\n",
      "\n",
      "Baseline: 14.613422 | 6.495791\n",
      "\n",
      "---Iteration 44---\n",
      "\n",
      "[44]\n"
     ]
    },
    {
     "name": "stderr",
     "output_type": "stream",
     "text": [
      "/Users/hundredball/anaconda3/envs/Math24/lib/python3.7/site-packages/sklearn/metrics/_regression.py:582: UndefinedMetricWarning: R^2 score is not well-defined with less than two samples.\n",
      "  warnings.warn(msg, UndefinedMetricWarning)\n",
      "/Users/hundredball/anaconda3/envs/Math24/lib/python3.7/site-packages/sklearn/metrics/_regression.py:582: UndefinedMetricWarning: R^2 score is not well-defined with less than two samples.\n",
      "  warnings.warn(msg, UndefinedMetricWarning)\n"
     ]
    },
    {
     "name": "stdout",
     "output_type": "stream",
     "text": [
      "Select 342 features\n",
      "First: 0, 0.211831\n",
      "Second: 7, 0.076649\n",
      "Method 1: 14.611985 | 4.865529\n",
      "\n",
      "Baseline: 14.614773 | 4.933741\n",
      "\n",
      "---Iteration 45---\n",
      "\n",
      "[45]\n"
     ]
    },
    {
     "name": "stderr",
     "output_type": "stream",
     "text": [
      "/Users/hundredball/anaconda3/envs/Math24/lib/python3.7/site-packages/sklearn/metrics/_regression.py:582: UndefinedMetricWarning: R^2 score is not well-defined with less than two samples.\n",
      "  warnings.warn(msg, UndefinedMetricWarning)\n",
      "/Users/hundredball/anaconda3/envs/Math24/lib/python3.7/site-packages/sklearn/metrics/_regression.py:582: UndefinedMetricWarning: R^2 score is not well-defined with less than two samples.\n",
      "  warnings.warn(msg, UndefinedMetricWarning)\n"
     ]
    },
    {
     "name": "stdout",
     "output_type": "stream",
     "text": [
      "Select 342 features\n",
      "First: 0, 0.212525\n",
      "Second: 7, 0.078376\n",
      "Method 1: 14.613976 | 0.482692\n",
      "\n",
      "Baseline: 14.616607 | 0.339593\n",
      "\n",
      "---Iteration 46---\n",
      "\n",
      "[46]\n"
     ]
    },
    {
     "name": "stderr",
     "output_type": "stream",
     "text": [
      "/Users/hundredball/anaconda3/envs/Math24/lib/python3.7/site-packages/sklearn/metrics/_regression.py:582: UndefinedMetricWarning: R^2 score is not well-defined with less than two samples.\n",
      "  warnings.warn(msg, UndefinedMetricWarning)\n",
      "/Users/hundredball/anaconda3/envs/Math24/lib/python3.7/site-packages/sklearn/metrics/_regression.py:582: UndefinedMetricWarning: R^2 score is not well-defined with less than two samples.\n",
      "  warnings.warn(msg, UndefinedMetricWarning)\n"
     ]
    },
    {
     "name": "stdout",
     "output_type": "stream",
     "text": [
      "Select 342 features\n",
      "First: 0, 0.211911\n",
      "Second: 7, 0.077451\n",
      "Method 1: 14.611812 | 5.550878\n",
      "\n",
      "Baseline: 14.614873 | 4.798677\n",
      "\n",
      "---Iteration 47---\n",
      "\n",
      "[47]\n"
     ]
    },
    {
     "name": "stderr",
     "output_type": "stream",
     "text": [
      "/Users/hundredball/anaconda3/envs/Math24/lib/python3.7/site-packages/sklearn/metrics/_regression.py:582: UndefinedMetricWarning: R^2 score is not well-defined with less than two samples.\n",
      "  warnings.warn(msg, UndefinedMetricWarning)\n",
      "/Users/hundredball/anaconda3/envs/Math24/lib/python3.7/site-packages/sklearn/metrics/_regression.py:582: UndefinedMetricWarning: R^2 score is not well-defined with less than two samples.\n",
      "  warnings.warn(msg, UndefinedMetricWarning)\n"
     ]
    },
    {
     "name": "stdout",
     "output_type": "stream",
     "text": [
      "Select 342 features\n",
      "First: 0, 0.212946\n",
      "Second: 7, 0.077864\n",
      "Method 1: 14.612575 | 3.160865\n",
      "\n",
      "Baseline: 14.615675 | 3.524425\n",
      "\n",
      "---Iteration 48---\n",
      "\n",
      "[48]\n"
     ]
    },
    {
     "name": "stderr",
     "output_type": "stream",
     "text": [
      "/Users/hundredball/anaconda3/envs/Math24/lib/python3.7/site-packages/sklearn/metrics/_regression.py:582: UndefinedMetricWarning: R^2 score is not well-defined with less than two samples.\n",
      "  warnings.warn(msg, UndefinedMetricWarning)\n",
      "/Users/hundredball/anaconda3/envs/Math24/lib/python3.7/site-packages/sklearn/metrics/_regression.py:582: UndefinedMetricWarning: R^2 score is not well-defined with less than two samples.\n",
      "  warnings.warn(msg, UndefinedMetricWarning)\n"
     ]
    },
    {
     "name": "stdout",
     "output_type": "stream",
     "text": [
      "Select 342 features\n",
      "First: 0, 0.211551\n",
      "Second: 7, 0.075720\n",
      "Method 1: 14.609805 | 7.836406\n",
      "\n",
      "Baseline: 14.611815 | 7.963882\n",
      "\n",
      "---Iteration 49---\n",
      "\n",
      "[49]\n"
     ]
    },
    {
     "name": "stderr",
     "output_type": "stream",
     "text": [
      "/Users/hundredball/anaconda3/envs/Math24/lib/python3.7/site-packages/sklearn/metrics/_regression.py:582: UndefinedMetricWarning: R^2 score is not well-defined with less than two samples.\n",
      "  warnings.warn(msg, UndefinedMetricWarning)\n",
      "/Users/hundredball/anaconda3/envs/Math24/lib/python3.7/site-packages/sklearn/metrics/_regression.py:582: UndefinedMetricWarning: R^2 score is not well-defined with less than two samples.\n",
      "  warnings.warn(msg, UndefinedMetricWarning)\n"
     ]
    },
    {
     "name": "stdout",
     "output_type": "stream",
     "text": [
      "Select 342 features\n",
      "First: 0, 0.212696\n",
      "Second: 7, 0.079586\n",
      "Method 1: 14.614043 | 0.614906\n",
      "\n",
      "Baseline: 14.616564 | 0.823136\n",
      "\n",
      "---Iteration 50---\n",
      "\n",
      "[50]\n"
     ]
    },
    {
     "name": "stderr",
     "output_type": "stream",
     "text": [
      "/Users/hundredball/anaconda3/envs/Math24/lib/python3.7/site-packages/sklearn/metrics/_regression.py:582: UndefinedMetricWarning: R^2 score is not well-defined with less than two samples.\n",
      "  warnings.warn(msg, UndefinedMetricWarning)\n",
      "/Users/hundredball/anaconda3/envs/Math24/lib/python3.7/site-packages/sklearn/metrics/_regression.py:582: UndefinedMetricWarning: R^2 score is not well-defined with less than two samples.\n",
      "  warnings.warn(msg, UndefinedMetricWarning)\n"
     ]
    },
    {
     "name": "stdout",
     "output_type": "stream",
     "text": [
      "Select 342 features\n",
      "First: 0, 0.212632\n",
      "Second: 7, 0.076158\n",
      "Method 1: 14.613571 | 0.549345\n",
      "\n",
      "Baseline: 14.616576 | 0.719339\n",
      "\n",
      "---Iteration 51---\n",
      "\n",
      "[51]\n"
     ]
    },
    {
     "name": "stderr",
     "output_type": "stream",
     "text": [
      "/Users/hundredball/anaconda3/envs/Math24/lib/python3.7/site-packages/sklearn/metrics/_regression.py:582: UndefinedMetricWarning: R^2 score is not well-defined with less than two samples.\n",
      "  warnings.warn(msg, UndefinedMetricWarning)\n",
      "/Users/hundredball/anaconda3/envs/Math24/lib/python3.7/site-packages/sklearn/metrics/_regression.py:582: UndefinedMetricWarning: R^2 score is not well-defined with less than two samples.\n",
      "  warnings.warn(msg, UndefinedMetricWarning)\n"
     ]
    },
    {
     "name": "stdout",
     "output_type": "stream",
     "text": [
      "Select 342 features\n",
      "First: 0, 0.212291\n",
      "Second: 7, 0.078375\n",
      "Method 1: 14.614395 | 0.202726\n",
      "\n",
      "Baseline: 14.616580 | 0.680242\n",
      "\n",
      "---Iteration 52---\n",
      "\n",
      "[52]\n"
     ]
    },
    {
     "name": "stderr",
     "output_type": "stream",
     "text": [
      "/Users/hundredball/anaconda3/envs/Math24/lib/python3.7/site-packages/sklearn/metrics/_regression.py:582: UndefinedMetricWarning: R^2 score is not well-defined with less than two samples.\n",
      "  warnings.warn(msg, UndefinedMetricWarning)\n",
      "/Users/hundredball/anaconda3/envs/Math24/lib/python3.7/site-packages/sklearn/metrics/_regression.py:582: UndefinedMetricWarning: R^2 score is not well-defined with less than two samples.\n",
      "  warnings.warn(msg, UndefinedMetricWarning)\n"
     ]
    },
    {
     "name": "stdout",
     "output_type": "stream",
     "text": [
      "Select 342 features\n",
      "First: 0, 0.211241\n",
      "Second: 7, 0.075445\n",
      "Method 1: 14.609409 | 7.697151\n",
      "\n",
      "Baseline: 14.611904 | 7.889499\n",
      "\n",
      "---Iteration 53---\n",
      "\n",
      "[53]\n"
     ]
    },
    {
     "name": "stderr",
     "output_type": "stream",
     "text": [
      "/Users/hundredball/anaconda3/envs/Math24/lib/python3.7/site-packages/sklearn/metrics/_regression.py:582: UndefinedMetricWarning: R^2 score is not well-defined with less than two samples.\n",
      "  warnings.warn(msg, UndefinedMetricWarning)\n",
      "/Users/hundredball/anaconda3/envs/Math24/lib/python3.7/site-packages/sklearn/metrics/_regression.py:582: UndefinedMetricWarning: R^2 score is not well-defined with less than two samples.\n",
      "  warnings.warn(msg, UndefinedMetricWarning)\n"
     ]
    },
    {
     "name": "stdout",
     "output_type": "stream",
     "text": [
      "Select 342 features\n",
      "First: 0, 0.211699\n",
      "Second: 7, 0.075580\n",
      "Method 1: 14.612374 | 5.115557\n",
      "\n",
      "Baseline: 14.614303 | 5.526850\n",
      "\n",
      "---Iteration 54---\n",
      "\n",
      "[54]\n"
     ]
    },
    {
     "name": "stderr",
     "output_type": "stream",
     "text": [
      "/Users/hundredball/anaconda3/envs/Math24/lib/python3.7/site-packages/sklearn/metrics/_regression.py:582: UndefinedMetricWarning: R^2 score is not well-defined with less than two samples.\n",
      "  warnings.warn(msg, UndefinedMetricWarning)\n",
      "/Users/hundredball/anaconda3/envs/Math24/lib/python3.7/site-packages/sklearn/metrics/_regression.py:582: UndefinedMetricWarning: R^2 score is not well-defined with less than two samples.\n",
      "  warnings.warn(msg, UndefinedMetricWarning)\n"
     ]
    },
    {
     "name": "stdout",
     "output_type": "stream",
     "text": [
      "Select 342 features\n",
      "First: 0, 0.211220\n",
      "Second: 7, 0.076209\n",
      "Method 1: 14.609426 | 8.309443\n",
      "\n",
      "Baseline: 14.611060 | 8.566779\n",
      "\n",
      "---Iteration 55---\n",
      "\n",
      "[55]\n"
     ]
    },
    {
     "name": "stderr",
     "output_type": "stream",
     "text": [
      "/Users/hundredball/anaconda3/envs/Math24/lib/python3.7/site-packages/sklearn/metrics/_regression.py:582: UndefinedMetricWarning: R^2 score is not well-defined with less than two samples.\n",
      "  warnings.warn(msg, UndefinedMetricWarning)\n",
      "/Users/hundredball/anaconda3/envs/Math24/lib/python3.7/site-packages/sklearn/metrics/_regression.py:582: UndefinedMetricWarning: R^2 score is not well-defined with less than two samples.\n",
      "  warnings.warn(msg, UndefinedMetricWarning)\n"
     ]
    },
    {
     "name": "stdout",
     "output_type": "stream",
     "text": [
      "Select 342 features\n",
      "First: 0, 0.211364\n",
      "Second: 7, 0.074133\n",
      "Method 1: 14.606842 | 9.719486\n",
      "\n",
      "Baseline: 14.609243 | 9.868487\n",
      "\n",
      "---Iteration 56---\n",
      "\n",
      "[56]\n"
     ]
    },
    {
     "name": "stderr",
     "output_type": "stream",
     "text": [
      "/Users/hundredball/anaconda3/envs/Math24/lib/python3.7/site-packages/sklearn/metrics/_regression.py:582: UndefinedMetricWarning: R^2 score is not well-defined with less than two samples.\n",
      "  warnings.warn(msg, UndefinedMetricWarning)\n",
      "/Users/hundredball/anaconda3/envs/Math24/lib/python3.7/site-packages/sklearn/metrics/_regression.py:582: UndefinedMetricWarning: R^2 score is not well-defined with less than two samples.\n",
      "  warnings.warn(msg, UndefinedMetricWarning)\n"
     ]
    },
    {
     "name": "stdout",
     "output_type": "stream",
     "text": [
      "Select 342 features\n",
      "First: 0, 0.210843\n",
      "Second: 7, 0.073036\n",
      "Method 1: 14.608979 | 8.998255\n",
      "\n",
      "Baseline: 14.610447 | 9.026781\n",
      "\n",
      "---Iteration 57---\n",
      "\n",
      "[57]\n"
     ]
    },
    {
     "name": "stderr",
     "output_type": "stream",
     "text": [
      "/Users/hundredball/anaconda3/envs/Math24/lib/python3.7/site-packages/sklearn/metrics/_regression.py:582: UndefinedMetricWarning: R^2 score is not well-defined with less than two samples.\n",
      "  warnings.warn(msg, UndefinedMetricWarning)\n",
      "/Users/hundredball/anaconda3/envs/Math24/lib/python3.7/site-packages/sklearn/metrics/_regression.py:582: UndefinedMetricWarning: R^2 score is not well-defined with less than two samples.\n",
      "  warnings.warn(msg, UndefinedMetricWarning)\n"
     ]
    },
    {
     "name": "stdout",
     "output_type": "stream",
     "text": [
      "Select 342 features\n",
      "First: 0, 0.211275\n",
      "Second: 7, 0.076203\n",
      "Method 1: 14.606974 | 9.858149\n",
      "\n",
      "Baseline: 14.609507 | 9.690358\n",
      "\n",
      "---Iteration 58---\n",
      "\n",
      "[58]\n"
     ]
    },
    {
     "name": "stderr",
     "output_type": "stream",
     "text": [
      "/Users/hundredball/anaconda3/envs/Math24/lib/python3.7/site-packages/sklearn/metrics/_regression.py:582: UndefinedMetricWarning: R^2 score is not well-defined with less than two samples.\n",
      "  warnings.warn(msg, UndefinedMetricWarning)\n",
      "/Users/hundredball/anaconda3/envs/Math24/lib/python3.7/site-packages/sklearn/metrics/_regression.py:582: UndefinedMetricWarning: R^2 score is not well-defined with less than two samples.\n",
      "  warnings.warn(msg, UndefinedMetricWarning)\n"
     ]
    },
    {
     "name": "stdout",
     "output_type": "stream",
     "text": [
      "Select 342 features\n",
      "First: 0, 0.211458\n",
      "Second: 7, 0.069551\n",
      "Method 1: 14.610332 | 8.056496\n",
      "\n",
      "Baseline: 14.611727 | 8.036308\n",
      "\n",
      "---Iteration 59---\n",
      "\n",
      "[59]\n"
     ]
    },
    {
     "name": "stderr",
     "output_type": "stream",
     "text": [
      "/Users/hundredball/anaconda3/envs/Math24/lib/python3.7/site-packages/sklearn/metrics/_regression.py:582: UndefinedMetricWarning: R^2 score is not well-defined with less than two samples.\n",
      "  warnings.warn(msg, UndefinedMetricWarning)\n",
      "/Users/hundredball/anaconda3/envs/Math24/lib/python3.7/site-packages/sklearn/metrics/_regression.py:582: UndefinedMetricWarning: R^2 score is not well-defined with less than two samples.\n",
      "  warnings.warn(msg, UndefinedMetricWarning)\n"
     ]
    },
    {
     "name": "stdout",
     "output_type": "stream",
     "text": [
      "Select 342 features\n",
      "First: 0, 0.211245\n",
      "Second: 7, 0.076194\n",
      "Method 1: 14.610168 | 7.560516\n",
      "\n",
      "Baseline: 14.612360 | 7.498008\n",
      "\n",
      "---Iteration 60---\n",
      "\n",
      "[60]\n"
     ]
    },
    {
     "name": "stderr",
     "output_type": "stream",
     "text": [
      "/Users/hundredball/anaconda3/envs/Math24/lib/python3.7/site-packages/sklearn/metrics/_regression.py:582: UndefinedMetricWarning: R^2 score is not well-defined with less than two samples.\n",
      "  warnings.warn(msg, UndefinedMetricWarning)\n",
      "/Users/hundredball/anaconda3/envs/Math24/lib/python3.7/site-packages/sklearn/metrics/_regression.py:582: UndefinedMetricWarning: R^2 score is not well-defined with less than two samples.\n",
      "  warnings.warn(msg, UndefinedMetricWarning)\n"
     ]
    },
    {
     "name": "stdout",
     "output_type": "stream",
     "text": [
      "Select 342 features\n",
      "First: 0, 0.211489\n",
      "Second: 7, 0.076474\n",
      "Method 1: 14.610776 | 6.415827\n",
      "\n",
      "Baseline: 14.613138 | 6.777664\n",
      "\n",
      "---Iteration 61---\n",
      "\n",
      "[61]\n"
     ]
    },
    {
     "name": "stderr",
     "output_type": "stream",
     "text": [
      "/Users/hundredball/anaconda3/envs/Math24/lib/python3.7/site-packages/sklearn/metrics/_regression.py:582: UndefinedMetricWarning: R^2 score is not well-defined with less than two samples.\n",
      "  warnings.warn(msg, UndefinedMetricWarning)\n",
      "/Users/hundredball/anaconda3/envs/Math24/lib/python3.7/site-packages/sklearn/metrics/_regression.py:582: UndefinedMetricWarning: R^2 score is not well-defined with less than two samples.\n",
      "  warnings.warn(msg, UndefinedMetricWarning)\n"
     ]
    },
    {
     "name": "stdout",
     "output_type": "stream",
     "text": [
      "Select 342 features\n",
      "First: 0, 0.211371\n",
      "Second: 7, 0.074940\n",
      "Method 1: 14.609069 | 8.213898\n",
      "\n",
      "Baseline: 14.611309 | 8.372991\n",
      "\n",
      "---Iteration 62---\n",
      "\n",
      "[62]\n"
     ]
    },
    {
     "name": "stderr",
     "output_type": "stream",
     "text": [
      "/Users/hundredball/anaconda3/envs/Math24/lib/python3.7/site-packages/sklearn/metrics/_regression.py:582: UndefinedMetricWarning: R^2 score is not well-defined with less than two samples.\n",
      "  warnings.warn(msg, UndefinedMetricWarning)\n",
      "/Users/hundredball/anaconda3/envs/Math24/lib/python3.7/site-packages/sklearn/metrics/_regression.py:582: UndefinedMetricWarning: R^2 score is not well-defined with less than two samples.\n",
      "  warnings.warn(msg, UndefinedMetricWarning)\n"
     ]
    },
    {
     "name": "stdout",
     "output_type": "stream",
     "text": [
      "Select 342 features\n",
      "First: 0, 0.211216\n",
      "Second: 7, 0.073265\n",
      "Method 1: 14.609812 | 8.218448\n",
      "\n",
      "Baseline: 14.611466 | 8.247713\n",
      "\n",
      "---Iteration 63---\n",
      "\n",
      "[63]\n"
     ]
    },
    {
     "name": "stderr",
     "output_type": "stream",
     "text": [
      "/Users/hundredball/anaconda3/envs/Math24/lib/python3.7/site-packages/sklearn/metrics/_regression.py:582: UndefinedMetricWarning: R^2 score is not well-defined with less than two samples.\n",
      "  warnings.warn(msg, UndefinedMetricWarning)\n",
      "/Users/hundredball/anaconda3/envs/Math24/lib/python3.7/site-packages/sklearn/metrics/_regression.py:582: UndefinedMetricWarning: R^2 score is not well-defined with less than two samples.\n",
      "  warnings.warn(msg, UndefinedMetricWarning)\n"
     ]
    },
    {
     "name": "stdout",
     "output_type": "stream",
     "text": [
      "Select 342 features\n",
      "First: 0, 0.211764\n",
      "Second: 7, 0.075399\n",
      "Method 1: 14.612162 | 5.223508\n",
      "\n",
      "Baseline: 14.614391 | 5.421147\n",
      "\n",
      "---Iteration 64---\n",
      "\n",
      "[64]\n"
     ]
    },
    {
     "name": "stderr",
     "output_type": "stream",
     "text": [
      "/Users/hundredball/anaconda3/envs/Math24/lib/python3.7/site-packages/sklearn/metrics/_regression.py:582: UndefinedMetricWarning: R^2 score is not well-defined with less than two samples.\n",
      "  warnings.warn(msg, UndefinedMetricWarning)\n",
      "/Users/hundredball/anaconda3/envs/Math24/lib/python3.7/site-packages/sklearn/metrics/_regression.py:582: UndefinedMetricWarning: R^2 score is not well-defined with less than two samples.\n",
      "  warnings.warn(msg, UndefinedMetricWarning)\n"
     ]
    },
    {
     "name": "stdout",
     "output_type": "stream",
     "text": [
      "Select 342 features\n",
      "First: 0, 0.211293\n",
      "Second: 7, 0.073420\n",
      "Method 1: 14.610856 | 6.618347\n",
      "\n",
      "Baseline: 14.613138 | 6.777664\n",
      "\n",
      "---Iteration 65---\n",
      "\n",
      "[65]\n"
     ]
    },
    {
     "name": "stderr",
     "output_type": "stream",
     "text": [
      "/Users/hundredball/anaconda3/envs/Math24/lib/python3.7/site-packages/sklearn/metrics/_regression.py:582: UndefinedMetricWarning: R^2 score is not well-defined with less than two samples.\n",
      "  warnings.warn(msg, UndefinedMetricWarning)\n",
      "/Users/hundredball/anaconda3/envs/Math24/lib/python3.7/site-packages/sklearn/metrics/_regression.py:582: UndefinedMetricWarning: R^2 score is not well-defined with less than two samples.\n",
      "  warnings.warn(msg, UndefinedMetricWarning)\n"
     ]
    },
    {
     "name": "stdout",
     "output_type": "stream",
     "text": [
      "Select 342 features\n",
      "First: 0, 0.211108\n",
      "Second: 7, 0.074309\n",
      "Method 1: 14.610620 | 7.101535\n",
      "\n",
      "Baseline: 14.612367 | 7.492136\n",
      "\n",
      "---Iteration 66---\n",
      "\n",
      "[66]\n"
     ]
    },
    {
     "name": "stderr",
     "output_type": "stream",
     "text": [
      "/Users/hundredball/anaconda3/envs/Math24/lib/python3.7/site-packages/sklearn/metrics/_regression.py:582: UndefinedMetricWarning: R^2 score is not well-defined with less than two samples.\n",
      "  warnings.warn(msg, UndefinedMetricWarning)\n",
      "/Users/hundredball/anaconda3/envs/Math24/lib/python3.7/site-packages/sklearn/metrics/_regression.py:582: UndefinedMetricWarning: R^2 score is not well-defined with less than two samples.\n",
      "  warnings.warn(msg, UndefinedMetricWarning)\n"
     ]
    },
    {
     "name": "stdout",
     "output_type": "stream",
     "text": [
      "Select 342 features\n",
      "First: 0, 0.211936\n",
      "Second: 7, 0.075490\n",
      "Method 1: 14.612962 | 4.301640\n",
      "\n",
      "Baseline: 14.615055 | 4.540292\n",
      "\n",
      "---Iteration 67---\n",
      "\n",
      "[67]\n"
     ]
    },
    {
     "name": "stderr",
     "output_type": "stream",
     "text": [
      "/Users/hundredball/anaconda3/envs/Math24/lib/python3.7/site-packages/sklearn/metrics/_regression.py:582: UndefinedMetricWarning: R^2 score is not well-defined with less than two samples.\n",
      "  warnings.warn(msg, UndefinedMetricWarning)\n",
      "/Users/hundredball/anaconda3/envs/Math24/lib/python3.7/site-packages/sklearn/metrics/_regression.py:582: UndefinedMetricWarning: R^2 score is not well-defined with less than two samples.\n",
      "  warnings.warn(msg, UndefinedMetricWarning)\n"
     ]
    },
    {
     "name": "stdout",
     "output_type": "stream",
     "text": [
      "Select 342 features\n",
      "First: 0, 0.212066\n",
      "Second: 7, 0.075657\n",
      "Method 1: 14.613490 | 3.205651\n",
      "\n",
      "Baseline: 14.615664 | 3.545905\n",
      "\n",
      "---Iteration 68---\n",
      "\n",
      "[68]\n"
     ]
    },
    {
     "name": "stderr",
     "output_type": "stream",
     "text": [
      "/Users/hundredball/anaconda3/envs/Math24/lib/python3.7/site-packages/sklearn/metrics/_regression.py:582: UndefinedMetricWarning: R^2 score is not well-defined with less than two samples.\n",
      "  warnings.warn(msg, UndefinedMetricWarning)\n",
      "/Users/hundredball/anaconda3/envs/Math24/lib/python3.7/site-packages/sklearn/metrics/_regression.py:582: UndefinedMetricWarning: R^2 score is not well-defined with less than two samples.\n",
      "  warnings.warn(msg, UndefinedMetricWarning)\n"
     ]
    },
    {
     "name": "stdout",
     "output_type": "stream",
     "text": [
      "Select 342 features\n",
      "First: 0, 0.211888\n",
      "Second: 7, 0.075634\n",
      "Method 1: 14.612921 | 4.262740\n",
      "\n",
      "Baseline: 14.615020 | 4.591186\n",
      "\n",
      "---Iteration 69---\n",
      "\n",
      "[69]\n"
     ]
    },
    {
     "name": "stderr",
     "output_type": "stream",
     "text": [
      "/Users/hundredball/anaconda3/envs/Math24/lib/python3.7/site-packages/sklearn/metrics/_regression.py:582: UndefinedMetricWarning: R^2 score is not well-defined with less than two samples.\n",
      "  warnings.warn(msg, UndefinedMetricWarning)\n",
      "/Users/hundredball/anaconda3/envs/Math24/lib/python3.7/site-packages/sklearn/metrics/_regression.py:582: UndefinedMetricWarning: R^2 score is not well-defined with less than two samples.\n",
      "  warnings.warn(msg, UndefinedMetricWarning)\n"
     ]
    },
    {
     "name": "stdout",
     "output_type": "stream",
     "text": [
      "Select 342 features\n",
      "First: 0, 0.212045\n",
      "Second: 7, 0.077544\n",
      "Method 1: 14.612114 | 3.913643\n",
      "\n",
      "Baseline: 14.615540 | 3.769055\n",
      "\n",
      "---Iteration 70---\n",
      "\n",
      "[70]\n"
     ]
    },
    {
     "name": "stderr",
     "output_type": "stream",
     "text": [
      "/Users/hundredball/anaconda3/envs/Math24/lib/python3.7/site-packages/sklearn/metrics/_regression.py:582: UndefinedMetricWarning: R^2 score is not well-defined with less than two samples.\n",
      "  warnings.warn(msg, UndefinedMetricWarning)\n",
      "/Users/hundredball/anaconda3/envs/Math24/lib/python3.7/site-packages/sklearn/metrics/_regression.py:582: UndefinedMetricWarning: R^2 score is not well-defined with less than two samples.\n",
      "  warnings.warn(msg, UndefinedMetricWarning)\n"
     ]
    },
    {
     "name": "stdout",
     "output_type": "stream",
     "text": [
      "Select 342 features\n",
      "First: 0, 0.211289\n",
      "Second: 7, 0.075720\n",
      "Method 1: 14.610340 | 7.263842\n",
      "\n",
      "Baseline: 14.612212 | 7.627200\n",
      "\n",
      "---Iteration 71---\n",
      "\n",
      "[71]\n"
     ]
    },
    {
     "name": "stderr",
     "output_type": "stream",
     "text": [
      "/Users/hundredball/anaconda3/envs/Math24/lib/python3.7/site-packages/sklearn/metrics/_regression.py:582: UndefinedMetricWarning: R^2 score is not well-defined with less than two samples.\n",
      "  warnings.warn(msg, UndefinedMetricWarning)\n",
      "/Users/hundredball/anaconda3/envs/Math24/lib/python3.7/site-packages/sklearn/metrics/_regression.py:582: UndefinedMetricWarning: R^2 score is not well-defined with less than two samples.\n",
      "  warnings.warn(msg, UndefinedMetricWarning)\n"
     ]
    },
    {
     "name": "stdout",
     "output_type": "stream",
     "text": [
      "Select 342 features\n",
      "First: 0, 0.211638\n",
      "Second: 7, 0.074017\n",
      "Method 1: 14.610837 | 5.893027\n",
      "\n",
      "Baseline: 14.613904 | 5.984895\n",
      "\n",
      "---Iteration 72---\n",
      "\n",
      "[72]\n"
     ]
    },
    {
     "name": "stderr",
     "output_type": "stream",
     "text": [
      "/Users/hundredball/anaconda3/envs/Math24/lib/python3.7/site-packages/sklearn/metrics/_regression.py:582: UndefinedMetricWarning: R^2 score is not well-defined with less than two samples.\n",
      "  warnings.warn(msg, UndefinedMetricWarning)\n",
      "/Users/hundredball/anaconda3/envs/Math24/lib/python3.7/site-packages/sklearn/metrics/_regression.py:582: UndefinedMetricWarning: R^2 score is not well-defined with less than two samples.\n",
      "  warnings.warn(msg, UndefinedMetricWarning)\n"
     ]
    },
    {
     "name": "stdout",
     "output_type": "stream",
     "text": [
      "Select 342 features\n",
      "First: 0, 0.211139\n",
      "Second: 7, 0.074946\n",
      "Method 1: 14.607577 | 8.837821\n",
      "\n",
      "Baseline: 14.610229 | 9.185335\n",
      "\n",
      "---Iteration 73---\n",
      "\n",
      "[73]\n"
     ]
    },
    {
     "name": "stderr",
     "output_type": "stream",
     "text": [
      "/Users/hundredball/anaconda3/envs/Math24/lib/python3.7/site-packages/sklearn/metrics/_regression.py:582: UndefinedMetricWarning: R^2 score is not well-defined with less than two samples.\n",
      "  warnings.warn(msg, UndefinedMetricWarning)\n",
      "/Users/hundredball/anaconda3/envs/Math24/lib/python3.7/site-packages/sklearn/metrics/_regression.py:582: UndefinedMetricWarning: R^2 score is not well-defined with less than two samples.\n",
      "  warnings.warn(msg, UndefinedMetricWarning)\n"
     ]
    },
    {
     "name": "stdout",
     "output_type": "stream",
     "text": [
      "Select 342 features\n",
      "First: 0, 0.211359\n",
      "Second: 7, 0.075681\n",
      "Method 1: 14.609166 | 7.198006\n",
      "\n",
      "Baseline: 14.612466 | 7.404050\n",
      "\n",
      "---Iteration 74---\n",
      "\n",
      "[74]\n"
     ]
    },
    {
     "name": "stderr",
     "output_type": "stream",
     "text": [
      "/Users/hundredball/anaconda3/envs/Math24/lib/python3.7/site-packages/sklearn/metrics/_regression.py:582: UndefinedMetricWarning: R^2 score is not well-defined with less than two samples.\n",
      "  warnings.warn(msg, UndefinedMetricWarning)\n",
      "/Users/hundredball/anaconda3/envs/Math24/lib/python3.7/site-packages/sklearn/metrics/_regression.py:582: UndefinedMetricWarning: R^2 score is not well-defined with less than two samples.\n",
      "  warnings.warn(msg, UndefinedMetricWarning)\n"
     ]
    },
    {
     "name": "stdout",
     "output_type": "stream",
     "text": [
      "Select 342 features\n",
      "First: 0, 0.210906\n",
      "Second: 7, 0.077641\n",
      "Method 1: 14.607266 | 9.573774\n",
      "\n",
      "Baseline: 14.609426 | 9.745167\n",
      "\n",
      "---Iteration 75---\n",
      "\n",
      "[75]\n"
     ]
    },
    {
     "name": "stderr",
     "output_type": "stream",
     "text": [
      "/Users/hundredball/anaconda3/envs/Math24/lib/python3.7/site-packages/sklearn/metrics/_regression.py:582: UndefinedMetricWarning: R^2 score is not well-defined with less than two samples.\n",
      "  warnings.warn(msg, UndefinedMetricWarning)\n",
      "/Users/hundredball/anaconda3/envs/Math24/lib/python3.7/site-packages/sklearn/metrics/_regression.py:582: UndefinedMetricWarning: R^2 score is not well-defined with less than two samples.\n",
      "  warnings.warn(msg, UndefinedMetricWarning)\n"
     ]
    },
    {
     "name": "stdout",
     "output_type": "stream",
     "text": [
      "Select 342 features\n",
      "First: 0, 0.211326\n",
      "Second: 7, 0.074419\n",
      "Method 1: 14.607834 | 9.540777\n",
      "\n",
      "Baseline: 14.609556 | 9.657081\n",
      "\n",
      "---Iteration 76---\n",
      "\n",
      "[76]\n"
     ]
    },
    {
     "name": "stderr",
     "output_type": "stream",
     "text": [
      "/Users/hundredball/anaconda3/envs/Math24/lib/python3.7/site-packages/sklearn/metrics/_regression.py:582: UndefinedMetricWarning: R^2 score is not well-defined with less than two samples.\n",
      "  warnings.warn(msg, UndefinedMetricWarning)\n",
      "/Users/hundredball/anaconda3/envs/Math24/lib/python3.7/site-packages/sklearn/metrics/_regression.py:582: UndefinedMetricWarning: R^2 score is not well-defined with less than two samples.\n",
      "  warnings.warn(msg, UndefinedMetricWarning)\n"
     ]
    },
    {
     "name": "stdout",
     "output_type": "stream",
     "text": [
      "Select 342 features\n",
      "First: 0, 0.211542\n",
      "Second: 7, 0.076288\n",
      "Method 1: 14.610121 | 7.679166\n",
      "\n",
      "Baseline: 14.612155 | 7.676136\n",
      "\n",
      "---Iteration 77---\n",
      "\n",
      "[77]\n"
     ]
    },
    {
     "name": "stderr",
     "output_type": "stream",
     "text": [
      "/Users/hundredball/anaconda3/envs/Math24/lib/python3.7/site-packages/sklearn/metrics/_regression.py:582: UndefinedMetricWarning: R^2 score is not well-defined with less than two samples.\n",
      "  warnings.warn(msg, UndefinedMetricWarning)\n",
      "/Users/hundredball/anaconda3/envs/Math24/lib/python3.7/site-packages/sklearn/metrics/_regression.py:582: UndefinedMetricWarning: R^2 score is not well-defined with less than two samples.\n",
      "  warnings.warn(msg, UndefinedMetricWarning)\n"
     ]
    },
    {
     "name": "stdout",
     "output_type": "stream",
     "text": [
      "Select 342 features\n",
      "First: 0, 0.210578\n",
      "Second: 7, 0.075955\n",
      "Method 1: 14.607604 | 9.368763\n",
      "\n",
      "Baseline: 14.609290 | 9.837167\n",
      "\n",
      "---Iteration 78---\n",
      "\n",
      "[78]\n"
     ]
    },
    {
     "name": "stderr",
     "output_type": "stream",
     "text": [
      "/Users/hundredball/anaconda3/envs/Math24/lib/python3.7/site-packages/sklearn/metrics/_regression.py:582: UndefinedMetricWarning: R^2 score is not well-defined with less than two samples.\n",
      "  warnings.warn(msg, UndefinedMetricWarning)\n",
      "/Users/hundredball/anaconda3/envs/Math24/lib/python3.7/site-packages/sklearn/metrics/_regression.py:582: UndefinedMetricWarning: R^2 score is not well-defined with less than two samples.\n",
      "  warnings.warn(msg, UndefinedMetricWarning)\n"
     ]
    },
    {
     "name": "stdout",
     "output_type": "stream",
     "text": [
      "Select 342 features\n",
      "First: 0, 0.211758\n",
      "Second: 7, 0.077155\n",
      "Method 1: 14.608906 | 8.402237\n",
      "\n",
      "Baseline: 14.611420 | 8.284905\n",
      "\n",
      "---Iteration 79---\n",
      "\n",
      "[79]\n"
     ]
    },
    {
     "name": "stderr",
     "output_type": "stream",
     "text": [
      "/Users/hundredball/anaconda3/envs/Math24/lib/python3.7/site-packages/sklearn/metrics/_regression.py:582: UndefinedMetricWarning: R^2 score is not well-defined with less than two samples.\n",
      "  warnings.warn(msg, UndefinedMetricWarning)\n",
      "/Users/hundredball/anaconda3/envs/Math24/lib/python3.7/site-packages/sklearn/metrics/_regression.py:582: UndefinedMetricWarning: R^2 score is not well-defined with less than two samples.\n",
      "  warnings.warn(msg, UndefinedMetricWarning)\n"
     ]
    },
    {
     "name": "stdout",
     "output_type": "stream",
     "text": [
      "Select 342 features\n",
      "First: 0, 0.211613\n",
      "Second: 7, 0.071793\n",
      "Method 1: 14.609942 | 8.005136\n",
      "\n",
      "Baseline: 14.611862 | 7.924733\n",
      "\n",
      "---Iteration 80---\n",
      "\n",
      "[80]\n"
     ]
    },
    {
     "name": "stderr",
     "output_type": "stream",
     "text": [
      "/Users/hundredball/anaconda3/envs/Math24/lib/python3.7/site-packages/sklearn/metrics/_regression.py:582: UndefinedMetricWarning: R^2 score is not well-defined with less than two samples.\n",
      "  warnings.warn(msg, UndefinedMetricWarning)\n",
      "/Users/hundredball/anaconda3/envs/Math24/lib/python3.7/site-packages/sklearn/metrics/_regression.py:582: UndefinedMetricWarning: R^2 score is not well-defined with less than two samples.\n",
      "  warnings.warn(msg, UndefinedMetricWarning)\n"
     ]
    },
    {
     "name": "stdout",
     "output_type": "stream",
     "text": [
      "Select 342 features\n",
      "First: 0, 0.211966\n",
      "Second: 7, 0.075746\n",
      "Method 1: 14.613211 | 4.077334\n",
      "\n",
      "Baseline: 14.615245 | 4.254504\n",
      "\n",
      "---Iteration 81---\n",
      "\n",
      "[81]\n"
     ]
    },
    {
     "name": "stderr",
     "output_type": "stream",
     "text": [
      "/Users/hundredball/anaconda3/envs/Math24/lib/python3.7/site-packages/sklearn/metrics/_regression.py:582: UndefinedMetricWarning: R^2 score is not well-defined with less than two samples.\n",
      "  warnings.warn(msg, UndefinedMetricWarning)\n",
      "/Users/hundredball/anaconda3/envs/Math24/lib/python3.7/site-packages/sklearn/metrics/_regression.py:582: UndefinedMetricWarning: R^2 score is not well-defined with less than two samples.\n",
      "  warnings.warn(msg, UndefinedMetricWarning)\n"
     ]
    },
    {
     "name": "stdout",
     "output_type": "stream",
     "text": [
      "Select 342 features\n",
      "First: 0, 0.211263\n",
      "Second: 7, 0.076328\n",
      "Method 1: 14.608225 | 8.982596\n",
      "\n",
      "Baseline: 14.610240 | 9.177505\n",
      "\n",
      "---Iteration 82---\n",
      "\n",
      "[82]\n"
     ]
    },
    {
     "name": "stderr",
     "output_type": "stream",
     "text": [
      "/Users/hundredball/anaconda3/envs/Math24/lib/python3.7/site-packages/sklearn/metrics/_regression.py:582: UndefinedMetricWarning: R^2 score is not well-defined with less than two samples.\n",
      "  warnings.warn(msg, UndefinedMetricWarning)\n",
      "/Users/hundredball/anaconda3/envs/Math24/lib/python3.7/site-packages/sklearn/metrics/_regression.py:582: UndefinedMetricWarning: R^2 score is not well-defined with less than two samples.\n",
      "  warnings.warn(msg, UndefinedMetricWarning)\n"
     ]
    },
    {
     "name": "stdout",
     "output_type": "stream",
     "text": [
      "Select 342 features\n",
      "First: 0, 0.210768\n",
      "Second: 7, 0.072584\n",
      "Method 1: 14.607361 | 9.124885\n",
      "\n",
      "Baseline: 14.609670 | 9.578783\n",
      "\n",
      "---Iteration 83---\n",
      "\n",
      "[83]\n"
     ]
    },
    {
     "name": "stderr",
     "output_type": "stream",
     "text": [
      "/Users/hundredball/anaconda3/envs/Math24/lib/python3.7/site-packages/sklearn/metrics/_regression.py:582: UndefinedMetricWarning: R^2 score is not well-defined with less than two samples.\n",
      "  warnings.warn(msg, UndefinedMetricWarning)\n",
      "/Users/hundredball/anaconda3/envs/Math24/lib/python3.7/site-packages/sklearn/metrics/_regression.py:582: UndefinedMetricWarning: R^2 score is not well-defined with less than two samples.\n",
      "  warnings.warn(msg, UndefinedMetricWarning)\n"
     ]
    },
    {
     "name": "stdout",
     "output_type": "stream",
     "text": [
      "Select 342 features\n",
      "First: 0, 0.212090\n",
      "Second: 7, 0.075700\n",
      "Method 1: 14.613550 | 3.287468\n",
      "\n",
      "Baseline: 14.615657 | 3.557650\n",
      "\n",
      "---Iteration 84---\n",
      "\n",
      "[84]\n"
     ]
    },
    {
     "name": "stderr",
     "output_type": "stream",
     "text": [
      "/Users/hundredball/anaconda3/envs/Math24/lib/python3.7/site-packages/sklearn/metrics/_regression.py:582: UndefinedMetricWarning: R^2 score is not well-defined with less than two samples.\n",
      "  warnings.warn(msg, UndefinedMetricWarning)\n",
      "/Users/hundredball/anaconda3/envs/Math24/lib/python3.7/site-packages/sklearn/metrics/_regression.py:582: UndefinedMetricWarning: R^2 score is not well-defined with less than two samples.\n",
      "  warnings.warn(msg, UndefinedMetricWarning)\n"
     ]
    },
    {
     "name": "stdout",
     "output_type": "stream",
     "text": [
      "Select 342 features\n",
      "First: 0, 0.211244\n",
      "Second: 7, 0.075805\n",
      "Method 1: 14.609855 | 6.690316\n",
      "\n",
      "Baseline: 14.612879 | 7.026261\n",
      "\n",
      "---Iteration 85---\n",
      "\n",
      "[85]\n"
     ]
    },
    {
     "name": "stderr",
     "output_type": "stream",
     "text": [
      "/Users/hundredball/anaconda3/envs/Math24/lib/python3.7/site-packages/sklearn/metrics/_regression.py:582: UndefinedMetricWarning: R^2 score is not well-defined with less than two samples.\n",
      "  warnings.warn(msg, UndefinedMetricWarning)\n",
      "/Users/hundredball/anaconda3/envs/Math24/lib/python3.7/site-packages/sklearn/metrics/_regression.py:582: UndefinedMetricWarning: R^2 score is not well-defined with less than two samples.\n",
      "  warnings.warn(msg, UndefinedMetricWarning)\n"
     ]
    },
    {
     "name": "stdout",
     "output_type": "stream",
     "text": [
      "Select 342 features\n",
      "First: 0, 0.212051\n",
      "Second: 7, 0.075723\n",
      "Method 1: 14.613242 | 4.005490\n",
      "\n",
      "Baseline: 14.615346 | 4.095950\n",
      "\n",
      "---Iteration 86---\n",
      "\n",
      "[86]\n"
     ]
    },
    {
     "name": "stderr",
     "output_type": "stream",
     "text": [
      "/Users/hundredball/anaconda3/envs/Math24/lib/python3.7/site-packages/sklearn/metrics/_regression.py:582: UndefinedMetricWarning: R^2 score is not well-defined with less than two samples.\n",
      "  warnings.warn(msg, UndefinedMetricWarning)\n",
      "/Users/hundredball/anaconda3/envs/Math24/lib/python3.7/site-packages/sklearn/metrics/_regression.py:582: UndefinedMetricWarning: R^2 score is not well-defined with less than two samples.\n",
      "  warnings.warn(msg, UndefinedMetricWarning)\n"
     ]
    },
    {
     "name": "stdout",
     "output_type": "stream",
     "text": [
      "Select 342 features\n",
      "First: 0, 0.211569\n",
      "Second: 7, 0.073466\n",
      "Method 1: 14.610635 | 7.100980\n",
      "\n",
      "Baseline: 14.612689 | 7.202432\n",
      "\n",
      "---Iteration 87---\n",
      "\n",
      "[87]\n"
     ]
    },
    {
     "name": "stderr",
     "output_type": "stream",
     "text": [
      "/Users/hundredball/anaconda3/envs/Math24/lib/python3.7/site-packages/sklearn/metrics/_regression.py:582: UndefinedMetricWarning: R^2 score is not well-defined with less than two samples.\n",
      "  warnings.warn(msg, UndefinedMetricWarning)\n",
      "/Users/hundredball/anaconda3/envs/Math24/lib/python3.7/site-packages/sklearn/metrics/_regression.py:582: UndefinedMetricWarning: R^2 score is not well-defined with less than two samples.\n",
      "  warnings.warn(msg, UndefinedMetricWarning)\n"
     ]
    },
    {
     "name": "stdout",
     "output_type": "stream",
     "text": [
      "Select 342 features\n",
      "First: 0, 0.210912\n",
      "Second: 7, 0.076172\n",
      "Method 1: 14.608577 | 8.480158\n",
      "\n",
      "Baseline: 14.610580 | 8.928908\n",
      "\n",
      "---Iteration 88---\n",
      "\n",
      "[88]\n"
     ]
    },
    {
     "name": "stderr",
     "output_type": "stream",
     "text": [
      "/Users/hundredball/anaconda3/envs/Math24/lib/python3.7/site-packages/sklearn/metrics/_regression.py:582: UndefinedMetricWarning: R^2 score is not well-defined with less than two samples.\n",
      "  warnings.warn(msg, UndefinedMetricWarning)\n",
      "/Users/hundredball/anaconda3/envs/Math24/lib/python3.7/site-packages/sklearn/metrics/_regression.py:582: UndefinedMetricWarning: R^2 score is not well-defined with less than two samples.\n",
      "  warnings.warn(msg, UndefinedMetricWarning)\n"
     ]
    },
    {
     "name": "stdout",
     "output_type": "stream",
     "text": [
      "Select 342 features\n",
      "First: 0, 0.211306\n",
      "Second: 7, 0.075515\n",
      "Method 1: 14.606996 | 9.335028\n",
      "\n",
      "Baseline: 14.609718 | 9.545507\n",
      "\n",
      "---Iteration 89---\n",
      "\n",
      "[89]\n"
     ]
    },
    {
     "name": "stderr",
     "output_type": "stream",
     "text": [
      "/Users/hundredball/anaconda3/envs/Math24/lib/python3.7/site-packages/sklearn/metrics/_regression.py:582: UndefinedMetricWarning: R^2 score is not well-defined with less than two samples.\n",
      "  warnings.warn(msg, UndefinedMetricWarning)\n",
      "/Users/hundredball/anaconda3/envs/Math24/lib/python3.7/site-packages/sklearn/metrics/_regression.py:582: UndefinedMetricWarning: R^2 score is not well-defined with less than two samples.\n",
      "  warnings.warn(msg, UndefinedMetricWarning)\n"
     ]
    },
    {
     "name": "stdout",
     "output_type": "stream",
     "text": [
      "Select 342 features\n",
      "First: 0, 0.211206\n",
      "Second: 7, 0.073715\n",
      "Method 1: 14.607708 | 9.513286\n",
      "\n",
      "Baseline: 14.609467 | 9.717763\n",
      "\n",
      "---Iteration 90---\n",
      "\n",
      "[90]\n"
     ]
    },
    {
     "name": "stderr",
     "output_type": "stream",
     "text": [
      "/Users/hundredball/anaconda3/envs/Math24/lib/python3.7/site-packages/sklearn/metrics/_regression.py:582: UndefinedMetricWarning: R^2 score is not well-defined with less than two samples.\n",
      "  warnings.warn(msg, UndefinedMetricWarning)\n",
      "/Users/hundredball/anaconda3/envs/Math24/lib/python3.7/site-packages/sklearn/metrics/_regression.py:582: UndefinedMetricWarning: R^2 score is not well-defined with less than two samples.\n",
      "  warnings.warn(msg, UndefinedMetricWarning)\n"
     ]
    },
    {
     "name": "stdout",
     "output_type": "stream",
     "text": [
      "Select 342 features\n",
      "First: 0, 0.211043\n",
      "Second: 7, 0.073606\n",
      "Method 1: 14.607822 | 9.416698\n",
      "\n",
      "Baseline: 14.609833 | 9.465251\n",
      "\n",
      "---Iteration 91---\n",
      "\n",
      "[91]\n"
     ]
    },
    {
     "name": "stderr",
     "output_type": "stream",
     "text": [
      "/Users/hundredball/anaconda3/envs/Math24/lib/python3.7/site-packages/sklearn/metrics/_regression.py:582: UndefinedMetricWarning: R^2 score is not well-defined with less than two samples.\n",
      "  warnings.warn(msg, UndefinedMetricWarning)\n",
      "/Users/hundredball/anaconda3/envs/Math24/lib/python3.7/site-packages/sklearn/metrics/_regression.py:582: UndefinedMetricWarning: R^2 score is not well-defined with less than two samples.\n",
      "  warnings.warn(msg, UndefinedMetricWarning)\n"
     ]
    },
    {
     "name": "stdout",
     "output_type": "stream",
     "text": [
      "Select 342 features\n",
      "First: 0, 0.211290\n",
      "Second: 7, 0.076480\n",
      "Method 1: 14.607463 | 9.573239\n",
      "\n",
      "Baseline: 14.609579 | 9.641422\n",
      "\n",
      "---Iteration 92---\n",
      "\n",
      "[92]\n"
     ]
    },
    {
     "name": "stderr",
     "output_type": "stream",
     "text": [
      "/Users/hundredball/anaconda3/envs/Math24/lib/python3.7/site-packages/sklearn/metrics/_regression.py:582: UndefinedMetricWarning: R^2 score is not well-defined with less than two samples.\n",
      "  warnings.warn(msg, UndefinedMetricWarning)\n",
      "/Users/hundredball/anaconda3/envs/Math24/lib/python3.7/site-packages/sklearn/metrics/_regression.py:582: UndefinedMetricWarning: R^2 score is not well-defined with less than two samples.\n",
      "  warnings.warn(msg, UndefinedMetricWarning)\n"
     ]
    },
    {
     "name": "stdout",
     "output_type": "stream",
     "text": [
      "Select 342 features\n",
      "First: 0, 0.210854\n",
      "Second: 7, 0.074310\n",
      "Method 1: 14.608438 | 8.966364\n",
      "\n",
      "Baseline: 14.610111 | 9.269505\n",
      "\n",
      "---Iteration 93---\n",
      "\n",
      "[93]\n"
     ]
    },
    {
     "name": "stderr",
     "output_type": "stream",
     "text": [
      "/Users/hundredball/anaconda3/envs/Math24/lib/python3.7/site-packages/sklearn/metrics/_regression.py:582: UndefinedMetricWarning: R^2 score is not well-defined with less than two samples.\n",
      "  warnings.warn(msg, UndefinedMetricWarning)\n",
      "/Users/hundredball/anaconda3/envs/Math24/lib/python3.7/site-packages/sklearn/metrics/_regression.py:582: UndefinedMetricWarning: R^2 score is not well-defined with less than two samples.\n",
      "  warnings.warn(msg, UndefinedMetricWarning)\n"
     ]
    },
    {
     "name": "stdout",
     "output_type": "stream",
     "text": [
      "Select 342 features\n",
      "First: 0, 0.211041\n",
      "Second: 7, 0.075742\n",
      "Method 1: 14.609469 | 7.963852\n",
      "\n",
      "Baseline: 14.611266 | 8.406267\n",
      "\n",
      "---Iteration 94---\n",
      "\n",
      "[94]\n"
     ]
    },
    {
     "name": "stderr",
     "output_type": "stream",
     "text": [
      "/Users/hundredball/anaconda3/envs/Math24/lib/python3.7/site-packages/sklearn/metrics/_regression.py:582: UndefinedMetricWarning: R^2 score is not well-defined with less than two samples.\n",
      "  warnings.warn(msg, UndefinedMetricWarning)\n",
      "/Users/hundredball/anaconda3/envs/Math24/lib/python3.7/site-packages/sklearn/metrics/_regression.py:582: UndefinedMetricWarning: R^2 score is not well-defined with less than two samples.\n",
      "  warnings.warn(msg, UndefinedMetricWarning)\n"
     ]
    },
    {
     "name": "stdout",
     "output_type": "stream",
     "text": [
      "Select 342 features\n",
      "First: 0, 0.211596\n",
      "Second: 7, 0.075593\n",
      "Method 1: 14.612073 | 5.318989\n",
      "\n",
      "Baseline: 14.614034 | 5.840043\n",
      "\n",
      "---Iteration 95---\n",
      "\n",
      "[95]\n"
     ]
    },
    {
     "name": "stderr",
     "output_type": "stream",
     "text": [
      "/Users/hundredball/anaconda3/envs/Math24/lib/python3.7/site-packages/sklearn/metrics/_regression.py:582: UndefinedMetricWarning: R^2 score is not well-defined with less than two samples.\n",
      "  warnings.warn(msg, UndefinedMetricWarning)\n",
      "/Users/hundredball/anaconda3/envs/Math24/lib/python3.7/site-packages/sklearn/metrics/_regression.py:582: UndefinedMetricWarning: R^2 score is not well-defined with less than two samples.\n",
      "  warnings.warn(msg, UndefinedMetricWarning)\n"
     ]
    },
    {
     "name": "stdout",
     "output_type": "stream",
     "text": [
      "Select 342 features\n",
      "First: 0, 0.211664\n",
      "Second: 7, 0.075714\n",
      "Method 1: 14.612351 | 4.926264\n",
      "\n",
      "Baseline: 14.614328 | 5.497488\n",
      "\n",
      "---Iteration 96---\n",
      "\n",
      "[96]\n"
     ]
    },
    {
     "name": "stderr",
     "output_type": "stream",
     "text": [
      "/Users/hundredball/anaconda3/envs/Math24/lib/python3.7/site-packages/sklearn/metrics/_regression.py:582: UndefinedMetricWarning: R^2 score is not well-defined with less than two samples.\n",
      "  warnings.warn(msg, UndefinedMetricWarning)\n",
      "/Users/hundredball/anaconda3/envs/Math24/lib/python3.7/site-packages/sklearn/metrics/_regression.py:582: UndefinedMetricWarning: R^2 score is not well-defined with less than two samples.\n",
      "  warnings.warn(msg, UndefinedMetricWarning)\n"
     ]
    },
    {
     "name": "stdout",
     "output_type": "stream",
     "text": [
      "Select 342 features\n",
      "First: 0, 0.211168\n",
      "Second: 7, 0.073821\n",
      "Method 1: 14.609494 | 8.281135\n",
      "\n",
      "Baseline: 14.611156 | 8.492395\n",
      "\n",
      "---Iteration 97---\n",
      "\n",
      "[97]\n"
     ]
    },
    {
     "name": "stderr",
     "output_type": "stream",
     "text": [
      "/Users/hundredball/anaconda3/envs/Math24/lib/python3.7/site-packages/sklearn/metrics/_regression.py:582: UndefinedMetricWarning: R^2 score is not well-defined with less than two samples.\n",
      "  warnings.warn(msg, UndefinedMetricWarning)\n",
      "/Users/hundredball/anaconda3/envs/Math24/lib/python3.7/site-packages/sklearn/metrics/_regression.py:582: UndefinedMetricWarning: R^2 score is not well-defined with less than two samples.\n",
      "  warnings.warn(msg, UndefinedMetricWarning)\n"
     ]
    },
    {
     "name": "stdout",
     "output_type": "stream",
     "text": [
      "Select 342 features\n",
      "First: 0, 0.210914\n",
      "Second: 7, 0.075394\n",
      "Method 1: 14.606928 | 9.846839\n",
      "\n",
      "Baseline: 14.609185 | 9.907636\n",
      "\n",
      "---Iteration 98---\n",
      "\n",
      "[98]\n"
     ]
    },
    {
     "name": "stderr",
     "output_type": "stream",
     "text": [
      "/Users/hundredball/anaconda3/envs/Math24/lib/python3.7/site-packages/sklearn/metrics/_regression.py:582: UndefinedMetricWarning: R^2 score is not well-defined with less than two samples.\n",
      "  warnings.warn(msg, UndefinedMetricWarning)\n",
      "/Users/hundredball/anaconda3/envs/Math24/lib/python3.7/site-packages/sklearn/metrics/_regression.py:582: UndefinedMetricWarning: R^2 score is not well-defined with less than two samples.\n",
      "  warnings.warn(msg, UndefinedMetricWarning)\n"
     ]
    },
    {
     "name": "stdout",
     "output_type": "stream",
     "text": [
      "Select 342 features\n",
      "First: 0, 0.211232\n",
      "Second: 7, 0.073637\n",
      "Method 1: 14.609571 | 8.057895\n",
      "\n",
      "Baseline: 14.611571 | 8.163543\n",
      "\n",
      "---Iteration 99---\n",
      "\n",
      "[99]\n"
     ]
    },
    {
     "name": "stderr",
     "output_type": "stream",
     "text": [
      "/Users/hundredball/anaconda3/envs/Math24/lib/python3.7/site-packages/sklearn/metrics/_regression.py:582: UndefinedMetricWarning: R^2 score is not well-defined with less than two samples.\n",
      "  warnings.warn(msg, UndefinedMetricWarning)\n",
      "/Users/hundredball/anaconda3/envs/Math24/lib/python3.7/site-packages/sklearn/metrics/_regression.py:582: UndefinedMetricWarning: R^2 score is not well-defined with less than two samples.\n",
      "  warnings.warn(msg, UndefinedMetricWarning)\n"
     ]
    },
    {
     "name": "stdout",
     "output_type": "stream",
     "text": [
      "Select 342 features\n",
      "First: 0, 0.211201\n",
      "Second: 7, 0.075035\n",
      "Method 1: 14.609827 | 7.592462\n",
      "\n",
      "Baseline: 14.611955 | 7.846435\n",
      "\n",
      "---Iteration 100---\n",
      "\n",
      "[100]\n"
     ]
    },
    {
     "name": "stderr",
     "output_type": "stream",
     "text": [
      "/Users/hundredball/anaconda3/envs/Math24/lib/python3.7/site-packages/sklearn/metrics/_regression.py:582: UndefinedMetricWarning: R^2 score is not well-defined with less than two samples.\n",
      "  warnings.warn(msg, UndefinedMetricWarning)\n",
      "/Users/hundredball/anaconda3/envs/Math24/lib/python3.7/site-packages/sklearn/metrics/_regression.py:582: UndefinedMetricWarning: R^2 score is not well-defined with less than two samples.\n",
      "  warnings.warn(msg, UndefinedMetricWarning)\n"
     ]
    },
    {
     "name": "stdout",
     "output_type": "stream",
     "text": [
      "Select 342 features\n",
      "First: 0, 0.211449\n",
      "Second: 7, 0.075414\n",
      "Method 1: 14.611662 | 5.803781\n",
      "\n",
      "Baseline: 14.613674 | 6.233492\n",
      "\n",
      "---Iteration 101---\n",
      "\n",
      "[101]\n"
     ]
    },
    {
     "name": "stderr",
     "output_type": "stream",
     "text": [
      "/Users/hundredball/anaconda3/envs/Math24/lib/python3.7/site-packages/sklearn/metrics/_regression.py:582: UndefinedMetricWarning: R^2 score is not well-defined with less than two samples.\n",
      "  warnings.warn(msg, UndefinedMetricWarning)\n",
      "/Users/hundredball/anaconda3/envs/Math24/lib/python3.7/site-packages/sklearn/metrics/_regression.py:582: UndefinedMetricWarning: R^2 score is not well-defined with less than two samples.\n",
      "  warnings.warn(msg, UndefinedMetricWarning)\n"
     ]
    },
    {
     "name": "stdout",
     "output_type": "stream",
     "text": [
      "Select 342 features\n",
      "First: 0, 0.211426\n",
      "Second: 7, 0.075119\n",
      "Method 1: 14.608673 | 9.035933\n",
      "\n",
      "Baseline: 14.610378 | 9.077675\n",
      "\n",
      "---Iteration 102---\n",
      "\n",
      "[102]\n"
     ]
    },
    {
     "name": "stderr",
     "output_type": "stream",
     "text": [
      "/Users/hundredball/anaconda3/envs/Math24/lib/python3.7/site-packages/sklearn/metrics/_regression.py:582: UndefinedMetricWarning: R^2 score is not well-defined with less than two samples.\n",
      "  warnings.warn(msg, UndefinedMetricWarning)\n",
      "/Users/hundredball/anaconda3/envs/Math24/lib/python3.7/site-packages/sklearn/metrics/_regression.py:582: UndefinedMetricWarning: R^2 score is not well-defined with less than two samples.\n",
      "  warnings.warn(msg, UndefinedMetricWarning)\n"
     ]
    },
    {
     "name": "stdout",
     "output_type": "stream",
     "text": [
      "Select 342 features\n",
      "First: 0, 0.210828\n",
      "Second: 7, 0.071488\n",
      "Method 1: 14.608670 | 9.127685\n",
      "\n",
      "Baseline: 14.610394 | 9.065930\n",
      "\n",
      "---Iteration 103---\n",
      "\n",
      "[103]\n"
     ]
    },
    {
     "name": "stderr",
     "output_type": "stream",
     "text": [
      "/Users/hundredball/anaconda3/envs/Math24/lib/python3.7/site-packages/sklearn/metrics/_regression.py:582: UndefinedMetricWarning: R^2 score is not well-defined with less than two samples.\n",
      "  warnings.warn(msg, UndefinedMetricWarning)\n",
      "/Users/hundredball/anaconda3/envs/Math24/lib/python3.7/site-packages/sklearn/metrics/_regression.py:582: UndefinedMetricWarning: R^2 score is not well-defined with less than two samples.\n",
      "  warnings.warn(msg, UndefinedMetricWarning)\n"
     ]
    },
    {
     "name": "stdout",
     "output_type": "stream",
     "text": [
      "Select 342 features\n",
      "First: 0, 0.211063\n",
      "Second: 7, 0.074371\n",
      "Method 1: 14.609931 | 7.609344\n",
      "\n",
      "Baseline: 14.611824 | 7.956053\n",
      "\n",
      "---Iteration 104---\n",
      "\n",
      "[104]\n"
     ]
    },
    {
     "name": "stderr",
     "output_type": "stream",
     "text": [
      "/Users/hundredball/anaconda3/envs/Math24/lib/python3.7/site-packages/sklearn/metrics/_regression.py:582: UndefinedMetricWarning: R^2 score is not well-defined with less than two samples.\n",
      "  warnings.warn(msg, UndefinedMetricWarning)\n",
      "/Users/hundredball/anaconda3/envs/Math24/lib/python3.7/site-packages/sklearn/metrics/_regression.py:582: UndefinedMetricWarning: R^2 score is not well-defined with less than two samples.\n",
      "  warnings.warn(msg, UndefinedMetricWarning)\n"
     ]
    },
    {
     "name": "stdout",
     "output_type": "stream",
     "text": [
      "Select 342 features\n",
      "First: 0, 0.211061\n",
      "Second: 7, 0.078448\n",
      "Method 1: 14.605068 | 9.988585\n",
      "\n",
      "Baseline: 14.609867 | 9.441761\n",
      "\n",
      "---Iteration 105---\n",
      "\n",
      "[105]\n"
     ]
    },
    {
     "name": "stderr",
     "output_type": "stream",
     "text": [
      "/Users/hundredball/anaconda3/envs/Math24/lib/python3.7/site-packages/sklearn/metrics/_regression.py:582: UndefinedMetricWarning: R^2 score is not well-defined with less than two samples.\n",
      "  warnings.warn(msg, UndefinedMetricWarning)\n",
      "/Users/hundredball/anaconda3/envs/Math24/lib/python3.7/site-packages/sklearn/metrics/_regression.py:582: UndefinedMetricWarning: R^2 score is not well-defined with less than two samples.\n",
      "  warnings.warn(msg, UndefinedMetricWarning)\n"
     ]
    },
    {
     "name": "stdout",
     "output_type": "stream",
     "text": [
      "Select 342 features\n",
      "First: 0, 0.210974\n",
      "Second: 7, 0.074024\n",
      "Method 1: 14.607297 | 9.792500\n",
      "\n",
      "Baseline: 14.609226 | 9.880231\n",
      "\n",
      "---Iteration 106---\n",
      "\n",
      "[106]\n"
     ]
    },
    {
     "name": "stderr",
     "output_type": "stream",
     "text": [
      "/Users/hundredball/anaconda3/envs/Math24/lib/python3.7/site-packages/sklearn/metrics/_regression.py:582: UndefinedMetricWarning: R^2 score is not well-defined with less than two samples.\n",
      "  warnings.warn(msg, UndefinedMetricWarning)\n",
      "/Users/hundredball/anaconda3/envs/Math24/lib/python3.7/site-packages/sklearn/metrics/_regression.py:582: UndefinedMetricWarning: R^2 score is not well-defined with less than two samples.\n",
      "  warnings.warn(msg, UndefinedMetricWarning)\n"
     ]
    },
    {
     "name": "stdout",
     "output_type": "stream",
     "text": [
      "Select 342 features\n",
      "First: 0, 0.211281\n",
      "Second: 7, 0.075280\n",
      "Method 1: 14.610962 | 6.336381\n",
      "\n",
      "Baseline: 14.613325 | 6.593663\n",
      "\n",
      "---Iteration 107---\n",
      "\n",
      "[107]\n"
     ]
    },
    {
     "name": "stderr",
     "output_type": "stream",
     "text": [
      "/Users/hundredball/anaconda3/envs/Math24/lib/python3.7/site-packages/sklearn/metrics/_regression.py:582: UndefinedMetricWarning: R^2 score is not well-defined with less than two samples.\n",
      "  warnings.warn(msg, UndefinedMetricWarning)\n",
      "/Users/hundredball/anaconda3/envs/Math24/lib/python3.7/site-packages/sklearn/metrics/_regression.py:582: UndefinedMetricWarning: R^2 score is not well-defined with less than two samples.\n",
      "  warnings.warn(msg, UndefinedMetricWarning)\n"
     ]
    },
    {
     "name": "stdout",
     "output_type": "stream",
     "text": [
      "Select 342 features\n",
      "First: 0, 0.212250\n",
      "Second: 7, 0.076103\n",
      "Method 1: 14.613939 | 2.184680\n",
      "\n",
      "Baseline: 14.616224 | 2.273559\n",
      "\n",
      "---Iteration 108---\n",
      "\n",
      "[108]\n"
     ]
    },
    {
     "name": "stderr",
     "output_type": "stream",
     "text": [
      "/Users/hundredball/anaconda3/envs/Math24/lib/python3.7/site-packages/sklearn/metrics/_regression.py:582: UndefinedMetricWarning: R^2 score is not well-defined with less than two samples.\n",
      "  warnings.warn(msg, UndefinedMetricWarning)\n",
      "/Users/hundredball/anaconda3/envs/Math24/lib/python3.7/site-packages/sklearn/metrics/_regression.py:582: UndefinedMetricWarning: R^2 score is not well-defined with less than two samples.\n",
      "  warnings.warn(msg, UndefinedMetricWarning)\n"
     ]
    },
    {
     "name": "stdout",
     "output_type": "stream",
     "text": [
      "Select 342 features\n",
      "First: 0, 0.211257\n",
      "Second: 7, 0.076963\n",
      "Method 1: 14.607317 | 9.537764\n",
      "\n",
      "Baseline: 14.609604 | 9.623805\n",
      "\n",
      "---Iteration 109---\n",
      "\n",
      "[109]\n"
     ]
    },
    {
     "name": "stderr",
     "output_type": "stream",
     "text": [
      "/Users/hundredball/anaconda3/envs/Math24/lib/python3.7/site-packages/sklearn/metrics/_regression.py:582: UndefinedMetricWarning: R^2 score is not well-defined with less than two samples.\n",
      "  warnings.warn(msg, UndefinedMetricWarning)\n",
      "/Users/hundredball/anaconda3/envs/Math24/lib/python3.7/site-packages/sklearn/metrics/_regression.py:582: UndefinedMetricWarning: R^2 score is not well-defined with less than two samples.\n",
      "  warnings.warn(msg, UndefinedMetricWarning)\n"
     ]
    },
    {
     "name": "stdout",
     "output_type": "stream",
     "text": [
      "Select 342 features\n",
      "First: 0, 0.211147\n",
      "Second: 7, 0.075737\n",
      "Method 1: 14.608722 | 8.427939\n",
      "\n",
      "Baseline: 14.610935 | 8.662694\n",
      "\n",
      "---Iteration 110---\n",
      "\n",
      "[110]\n"
     ]
    },
    {
     "name": "stderr",
     "output_type": "stream",
     "text": [
      "/Users/hundredball/anaconda3/envs/Math24/lib/python3.7/site-packages/sklearn/metrics/_regression.py:582: UndefinedMetricWarning: R^2 score is not well-defined with less than two samples.\n",
      "  warnings.warn(msg, UndefinedMetricWarning)\n",
      "/Users/hundredball/anaconda3/envs/Math24/lib/python3.7/site-packages/sklearn/metrics/_regression.py:582: UndefinedMetricWarning: R^2 score is not well-defined with less than two samples.\n",
      "  warnings.warn(msg, UndefinedMetricWarning)\n"
     ]
    },
    {
     "name": "stdout",
     "output_type": "stream",
     "text": [
      "Select 342 features\n",
      "First: 0, 0.211704\n",
      "Second: 7, 0.075361\n",
      "Method 1: 14.611623 | 5.972615\n",
      "\n",
      "Baseline: 14.613742 | 6.161066\n",
      "\n",
      "---Iteration 111---\n",
      "\n",
      "[111]\n"
     ]
    },
    {
     "name": "stderr",
     "output_type": "stream",
     "text": [
      "/Users/hundredball/anaconda3/envs/Math24/lib/python3.7/site-packages/sklearn/metrics/_regression.py:582: UndefinedMetricWarning: R^2 score is not well-defined with less than two samples.\n",
      "  warnings.warn(msg, UndefinedMetricWarning)\n",
      "/Users/hundredball/anaconda3/envs/Math24/lib/python3.7/site-packages/sklearn/metrics/_regression.py:582: UndefinedMetricWarning: R^2 score is not well-defined with less than two samples.\n",
      "  warnings.warn(msg, UndefinedMetricWarning)\n"
     ]
    },
    {
     "name": "stdout",
     "output_type": "stream",
     "text": [
      "Select 342 features\n",
      "First: 0, 0.211878\n",
      "Second: 7, 0.076748\n",
      "Method 1: 14.609499 | 6.759630\n",
      "\n",
      "Baseline: 14.613435 | 6.482088\n",
      "\n",
      "---Iteration 112---\n",
      "\n",
      "[112]\n"
     ]
    },
    {
     "name": "stderr",
     "output_type": "stream",
     "text": [
      "/Users/hundredball/anaconda3/envs/Math24/lib/python3.7/site-packages/sklearn/metrics/_regression.py:582: UndefinedMetricWarning: R^2 score is not well-defined with less than two samples.\n",
      "  warnings.warn(msg, UndefinedMetricWarning)\n",
      "/Users/hundredball/anaconda3/envs/Math24/lib/python3.7/site-packages/sklearn/metrics/_regression.py:582: UndefinedMetricWarning: R^2 score is not well-defined with less than two samples.\n",
      "  warnings.warn(msg, UndefinedMetricWarning)\n"
     ]
    },
    {
     "name": "stdout",
     "output_type": "stream",
     "text": [
      "Select 342 features\n",
      "First: 0, 0.210644\n",
      "Second: 7, 0.075203\n",
      "Method 1: 14.606698 | 9.706471\n",
      "\n",
      "Baseline: 14.609055 | 9.993764\n",
      "\n",
      "---Iteration 113---\n",
      "\n",
      "[113]\n"
     ]
    },
    {
     "name": "stderr",
     "output_type": "stream",
     "text": [
      "/Users/hundredball/anaconda3/envs/Math24/lib/python3.7/site-packages/sklearn/metrics/_regression.py:582: UndefinedMetricWarning: R^2 score is not well-defined with less than two samples.\n",
      "  warnings.warn(msg, UndefinedMetricWarning)\n",
      "/Users/hundredball/anaconda3/envs/Math24/lib/python3.7/site-packages/sklearn/metrics/_regression.py:582: UndefinedMetricWarning: R^2 score is not well-defined with less than two samples.\n",
      "  warnings.warn(msg, UndefinedMetricWarning)\n"
     ]
    },
    {
     "name": "stdout",
     "output_type": "stream",
     "text": [
      "Select 342 features\n",
      "First: 0, 0.211951\n",
      "Second: 7, 0.077036\n",
      "Method 1: 14.612936 | 4.499836\n",
      "\n",
      "Baseline: 14.615094 | 4.483526\n",
      "\n",
      "---Iteration 114---\n",
      "\n",
      "[114]\n"
     ]
    },
    {
     "name": "stderr",
     "output_type": "stream",
     "text": [
      "/Users/hundredball/anaconda3/envs/Math24/lib/python3.7/site-packages/sklearn/metrics/_regression.py:582: UndefinedMetricWarning: R^2 score is not well-defined with less than two samples.\n",
      "  warnings.warn(msg, UndefinedMetricWarning)\n",
      "/Users/hundredball/anaconda3/envs/Math24/lib/python3.7/site-packages/sklearn/metrics/_regression.py:582: UndefinedMetricWarning: R^2 score is not well-defined with less than two samples.\n",
      "  warnings.warn(msg, UndefinedMetricWarning)\n"
     ]
    },
    {
     "name": "stdout",
     "output_type": "stream",
     "text": [
      "Select 342 features\n",
      "First: 0, 0.212094\n",
      "Second: 7, 0.075321\n",
      "Method 1: 14.613878 | 3.760709\n",
      "\n",
      "Baseline: 14.615620 | 3.626161\n",
      "\n",
      "---Iteration 115---\n",
      "\n",
      "[115]\n"
     ]
    },
    {
     "name": "stderr",
     "output_type": "stream",
     "text": [
      "/Users/hundredball/anaconda3/envs/Math24/lib/python3.7/site-packages/sklearn/metrics/_regression.py:582: UndefinedMetricWarning: R^2 score is not well-defined with less than two samples.\n",
      "  warnings.warn(msg, UndefinedMetricWarning)\n",
      "/Users/hundredball/anaconda3/envs/Math24/lib/python3.7/site-packages/sklearn/metrics/_regression.py:582: UndefinedMetricWarning: R^2 score is not well-defined with less than two samples.\n",
      "  warnings.warn(msg, UndefinedMetricWarning)\n"
     ]
    },
    {
     "name": "stdout",
     "output_type": "stream",
     "text": [
      "Select 342 features\n",
      "First: 0, 0.211198\n",
      "Second: 7, 0.077145\n",
      "Method 1: 14.608745 | 8.519429\n",
      "\n",
      "Baseline: 14.611128 | 8.513927\n",
      "\n",
      "---Iteration 116---\n",
      "\n",
      "[116]\n"
     ]
    },
    {
     "name": "stderr",
     "output_type": "stream",
     "text": [
      "/Users/hundredball/anaconda3/envs/Math24/lib/python3.7/site-packages/sklearn/metrics/_regression.py:582: UndefinedMetricWarning: R^2 score is not well-defined with less than two samples.\n",
      "  warnings.warn(msg, UndefinedMetricWarning)\n",
      "/Users/hundredball/anaconda3/envs/Math24/lib/python3.7/site-packages/sklearn/metrics/_regression.py:582: UndefinedMetricWarning: R^2 score is not well-defined with less than two samples.\n",
      "  warnings.warn(msg, UndefinedMetricWarning)\n"
     ]
    },
    {
     "name": "stdout",
     "output_type": "stream",
     "text": [
      "Select 342 features\n",
      "First: 0, 0.210882\n",
      "Second: 7, 0.073525\n",
      "Method 1: 14.608261 | 8.580055\n",
      "\n",
      "Baseline: 14.610683 | 8.852567\n",
      "\n",
      "---Iteration 117---\n",
      "\n",
      "[117]\n"
     ]
    },
    {
     "name": "stderr",
     "output_type": "stream",
     "text": [
      "/Users/hundredball/anaconda3/envs/Math24/lib/python3.7/site-packages/sklearn/metrics/_regression.py:582: UndefinedMetricWarning: R^2 score is not well-defined with less than two samples.\n",
      "  warnings.warn(msg, UndefinedMetricWarning)\n",
      "/Users/hundredball/anaconda3/envs/Math24/lib/python3.7/site-packages/sklearn/metrics/_regression.py:582: UndefinedMetricWarning: R^2 score is not well-defined with less than two samples.\n",
      "  warnings.warn(msg, UndefinedMetricWarning)\n"
     ]
    },
    {
     "name": "stdout",
     "output_type": "stream",
     "text": [
      "Select 342 features\n",
      "First: 0, 0.211273\n",
      "Second: 7, 0.076647\n",
      "Method 1: 14.610554 | 6.786594\n",
      "\n",
      "Baseline: 14.612833 | 7.069325\n",
      "\n",
      "---Iteration 118---\n",
      "\n",
      "[118]\n"
     ]
    },
    {
     "name": "stderr",
     "output_type": "stream",
     "text": [
      "/Users/hundredball/anaconda3/envs/Math24/lib/python3.7/site-packages/sklearn/metrics/_regression.py:582: UndefinedMetricWarning: R^2 score is not well-defined with less than two samples.\n",
      "  warnings.warn(msg, UndefinedMetricWarning)\n",
      "/Users/hundredball/anaconda3/envs/Math24/lib/python3.7/site-packages/sklearn/metrics/_regression.py:582: UndefinedMetricWarning: R^2 score is not well-defined with less than two samples.\n",
      "  warnings.warn(msg, UndefinedMetricWarning)\n"
     ]
    },
    {
     "name": "stdout",
     "output_type": "stream",
     "text": [
      "Select 342 features\n",
      "First: 0, 0.211358\n",
      "Second: 7, 0.075340\n",
      "Method 1: 14.610521 | 7.103737\n",
      "\n",
      "Baseline: 14.612581 | 7.300305\n",
      "\n",
      "---Iteration 119---\n",
      "\n",
      "[119]\n"
     ]
    },
    {
     "name": "stderr",
     "output_type": "stream",
     "text": [
      "/Users/hundredball/anaconda3/envs/Math24/lib/python3.7/site-packages/sklearn/metrics/_regression.py:582: UndefinedMetricWarning: R^2 score is not well-defined with less than two samples.\n",
      "  warnings.warn(msg, UndefinedMetricWarning)\n",
      "/Users/hundredball/anaconda3/envs/Math24/lib/python3.7/site-packages/sklearn/metrics/_regression.py:582: UndefinedMetricWarning: R^2 score is not well-defined with less than two samples.\n",
      "  warnings.warn(msg, UndefinedMetricWarning)\n"
     ]
    },
    {
     "name": "stdout",
     "output_type": "stream",
     "text": [
      "Select 342 features\n",
      "First: 0, 0.211241\n",
      "Second: 7, 0.074944\n",
      "Method 1: 14.610461 | 7.433809\n",
      "\n",
      "Baseline: 14.612087 | 7.734860\n",
      "\n",
      "---Iteration 120---\n",
      "\n",
      "[120]\n"
     ]
    },
    {
     "name": "stderr",
     "output_type": "stream",
     "text": [
      "/Users/hundredball/anaconda3/envs/Math24/lib/python3.7/site-packages/sklearn/metrics/_regression.py:582: UndefinedMetricWarning: R^2 score is not well-defined with less than two samples.\n",
      "  warnings.warn(msg, UndefinedMetricWarning)\n",
      "/Users/hundredball/anaconda3/envs/Math24/lib/python3.7/site-packages/sklearn/metrics/_regression.py:582: UndefinedMetricWarning: R^2 score is not well-defined with less than two samples.\n",
      "  warnings.warn(msg, UndefinedMetricWarning)\n"
     ]
    },
    {
     "name": "stdout",
     "output_type": "stream",
     "text": [
      "Select 342 features\n",
      "First: 0, 0.211356\n",
      "Second: 7, 0.074834\n",
      "Method 1: 14.610254 | 7.420703\n",
      "\n",
      "Baseline: 14.612162 | 7.670264\n",
      "\n",
      "---Iteration 121---\n",
      "\n",
      "[121]\n"
     ]
    },
    {
     "name": "stderr",
     "output_type": "stream",
     "text": [
      "/Users/hundredball/anaconda3/envs/Math24/lib/python3.7/site-packages/sklearn/metrics/_regression.py:582: UndefinedMetricWarning: R^2 score is not well-defined with less than two samples.\n",
      "  warnings.warn(msg, UndefinedMetricWarning)\n",
      "/Users/hundredball/anaconda3/envs/Math24/lib/python3.7/site-packages/sklearn/metrics/_regression.py:582: UndefinedMetricWarning: R^2 score is not well-defined with less than two samples.\n",
      "  warnings.warn(msg, UndefinedMetricWarning)\n"
     ]
    },
    {
     "name": "stdout",
     "output_type": "stream",
     "text": [
      "Select 342 features\n",
      "First: 0, 0.211586\n",
      "Second: 7, 0.075474\n",
      "Method 1: 14.612024 | 5.345663\n",
      "\n",
      "Baseline: 14.614027 | 5.847873\n",
      "\n",
      "---Iteration 122---\n",
      "\n",
      "[122]\n"
     ]
    },
    {
     "name": "stderr",
     "output_type": "stream",
     "text": [
      "/Users/hundredball/anaconda3/envs/Math24/lib/python3.7/site-packages/sklearn/metrics/_regression.py:582: UndefinedMetricWarning: R^2 score is not well-defined with less than two samples.\n",
      "  warnings.warn(msg, UndefinedMetricWarning)\n",
      "/Users/hundredball/anaconda3/envs/Math24/lib/python3.7/site-packages/sklearn/metrics/_regression.py:582: UndefinedMetricWarning: R^2 score is not well-defined with less than two samples.\n",
      "  warnings.warn(msg, UndefinedMetricWarning)\n"
     ]
    },
    {
     "name": "stdout",
     "output_type": "stream",
     "text": [
      "Select 342 features\n",
      "First: 0, 0.210830\n",
      "Second: 7, 0.073179\n",
      "Method 1: 14.609331 | 8.486556\n",
      "\n",
      "Baseline: 14.610806 | 8.760567\n",
      "\n",
      "---Iteration 123---\n",
      "\n",
      "[123]\n"
     ]
    },
    {
     "name": "stderr",
     "output_type": "stream",
     "text": [
      "/Users/hundredball/anaconda3/envs/Math24/lib/python3.7/site-packages/sklearn/metrics/_regression.py:582: UndefinedMetricWarning: R^2 score is not well-defined with less than two samples.\n",
      "  warnings.warn(msg, UndefinedMetricWarning)\n",
      "/Users/hundredball/anaconda3/envs/Math24/lib/python3.7/site-packages/sklearn/metrics/_regression.py:582: UndefinedMetricWarning: R^2 score is not well-defined with less than two samples.\n",
      "  warnings.warn(msg, UndefinedMetricWarning)\n"
     ]
    },
    {
     "name": "stdout",
     "output_type": "stream",
     "text": [
      "Select 342 features\n",
      "First: 0, 0.211958\n",
      "Second: 7, 0.074790\n",
      "Method 1: 14.611237 | 6.876973\n",
      "\n",
      "Baseline: 14.613226 | 6.691536\n",
      "\n",
      "---Iteration 124---\n",
      "\n",
      "[124]\n"
     ]
    },
    {
     "name": "stderr",
     "output_type": "stream",
     "text": [
      "/Users/hundredball/anaconda3/envs/Math24/lib/python3.7/site-packages/sklearn/metrics/_regression.py:582: UndefinedMetricWarning: R^2 score is not well-defined with less than two samples.\n",
      "  warnings.warn(msg, UndefinedMetricWarning)\n",
      "/Users/hundredball/anaconda3/envs/Math24/lib/python3.7/site-packages/sklearn/metrics/_regression.py:582: UndefinedMetricWarning: R^2 score is not well-defined with less than two samples.\n",
      "  warnings.warn(msg, UndefinedMetricWarning)\n"
     ]
    },
    {
     "name": "stdout",
     "output_type": "stream",
     "text": [
      "Select 342 features\n",
      "First: 0, 0.212356\n",
      "Second: 7, 0.076341\n",
      "Method 1: 14.614297 | 1.049117\n",
      "\n",
      "Baseline: 14.616546 | 0.960106\n",
      "\n",
      "---Iteration 125---\n",
      "\n",
      "[125]\n"
     ]
    },
    {
     "name": "stderr",
     "output_type": "stream",
     "text": [
      "/Users/hundredball/anaconda3/envs/Math24/lib/python3.7/site-packages/sklearn/metrics/_regression.py:582: UndefinedMetricWarning: R^2 score is not well-defined with less than two samples.\n",
      "  warnings.warn(msg, UndefinedMetricWarning)\n",
      "/Users/hundredball/anaconda3/envs/Math24/lib/python3.7/site-packages/sklearn/metrics/_regression.py:582: UndefinedMetricWarning: R^2 score is not well-defined with less than two samples.\n",
      "  warnings.warn(msg, UndefinedMetricWarning)\n"
     ]
    },
    {
     "name": "stdout",
     "output_type": "stream",
     "text": [
      "Select 342 features\n",
      "First: 0, 0.212357\n",
      "Second: 7, 0.076636\n",
      "Method 1: 14.614565 | 1.098010\n",
      "\n",
      "Baseline: 14.616570 | 0.772190\n",
      "\n",
      "---Iteration 126---\n",
      "\n",
      "[126]\n"
     ]
    },
    {
     "name": "stderr",
     "output_type": "stream",
     "text": [
      "/Users/hundredball/anaconda3/envs/Math24/lib/python3.7/site-packages/sklearn/metrics/_regression.py:582: UndefinedMetricWarning: R^2 score is not well-defined with less than two samples.\n",
      "  warnings.warn(msg, UndefinedMetricWarning)\n",
      "/Users/hundredball/anaconda3/envs/Math24/lib/python3.7/site-packages/sklearn/metrics/_regression.py:582: UndefinedMetricWarning: R^2 score is not well-defined with less than two samples.\n",
      "  warnings.warn(msg, UndefinedMetricWarning)\n"
     ]
    },
    {
     "name": "stdout",
     "output_type": "stream",
     "text": [
      "Select 342 features\n",
      "First: 0, 0.212012\n",
      "Second: 7, 0.075256\n",
      "Method 1: 14.610832 | 7.018406\n",
      "\n",
      "Baseline: 14.612959 | 6.949920\n",
      "\n",
      "---Iteration 127---\n",
      "\n",
      "[127]\n"
     ]
    },
    {
     "name": "stderr",
     "output_type": "stream",
     "text": [
      "/Users/hundredball/anaconda3/envs/Math24/lib/python3.7/site-packages/sklearn/metrics/_regression.py:582: UndefinedMetricWarning: R^2 score is not well-defined with less than two samples.\n",
      "  warnings.warn(msg, UndefinedMetricWarning)\n",
      "/Users/hundredball/anaconda3/envs/Math24/lib/python3.7/site-packages/sklearn/metrics/_regression.py:582: UndefinedMetricWarning: R^2 score is not well-defined with less than two samples.\n",
      "  warnings.warn(msg, UndefinedMetricWarning)\n"
     ]
    },
    {
     "name": "stdout",
     "output_type": "stream",
     "text": [
      "Select 342 features\n",
      "First: 0, 0.212255\n",
      "Second: 7, 0.075433\n",
      "Method 1: 14.613591 | 3.803440\n",
      "\n",
      "Baseline: 14.615436 | 3.947235\n",
      "\n",
      "---Iteration 128---\n",
      "\n",
      "[128]\n"
     ]
    },
    {
     "name": "stderr",
     "output_type": "stream",
     "text": [
      "/Users/hundredball/anaconda3/envs/Math24/lib/python3.7/site-packages/sklearn/metrics/_regression.py:582: UndefinedMetricWarning: R^2 score is not well-defined with less than two samples.\n",
      "  warnings.warn(msg, UndefinedMetricWarning)\n",
      "/Users/hundredball/anaconda3/envs/Math24/lib/python3.7/site-packages/sklearn/metrics/_regression.py:582: UndefinedMetricWarning: R^2 score is not well-defined with less than two samples.\n",
      "  warnings.warn(msg, UndefinedMetricWarning)\n"
     ]
    },
    {
     "name": "stdout",
     "output_type": "stream",
     "text": [
      "Select 342 features\n",
      "First: 0, 0.212389\n",
      "Second: 7, 0.072151\n",
      "Method 1: 14.607445 | 9.334318\n",
      "\n",
      "Baseline: 14.610370 | 9.083547\n",
      "\n",
      "---Iteration 129---\n",
      "\n",
      "[129]\n"
     ]
    },
    {
     "name": "stderr",
     "output_type": "stream",
     "text": [
      "/Users/hundredball/anaconda3/envs/Math24/lib/python3.7/site-packages/sklearn/metrics/_regression.py:582: UndefinedMetricWarning: R^2 score is not well-defined with less than two samples.\n",
      "  warnings.warn(msg, UndefinedMetricWarning)\n",
      "/Users/hundredball/anaconda3/envs/Math24/lib/python3.7/site-packages/sklearn/metrics/_regression.py:582: UndefinedMetricWarning: R^2 score is not well-defined with less than two samples.\n",
      "  warnings.warn(msg, UndefinedMetricWarning)\n"
     ]
    },
    {
     "name": "stdout",
     "output_type": "stream",
     "text": [
      "Select 342 features\n",
      "First: 0, 0.211672\n",
      "Second: 7, 0.076190\n",
      "Method 1: 14.612087 | 5.063164\n",
      "\n",
      "Baseline: 14.614618 | 5.137316\n",
      "\n",
      "---Iteration 130---\n",
      "\n",
      "[130]\n"
     ]
    },
    {
     "name": "stderr",
     "output_type": "stream",
     "text": [
      "/Users/hundredball/anaconda3/envs/Math24/lib/python3.7/site-packages/sklearn/metrics/_regression.py:582: UndefinedMetricWarning: R^2 score is not well-defined with less than two samples.\n",
      "  warnings.warn(msg, UndefinedMetricWarning)\n",
      "/Users/hundredball/anaconda3/envs/Math24/lib/python3.7/site-packages/sklearn/metrics/_regression.py:582: UndefinedMetricWarning: R^2 score is not well-defined with less than two samples.\n",
      "  warnings.warn(msg, UndefinedMetricWarning)\n"
     ]
    },
    {
     "name": "stdout",
     "output_type": "stream",
     "text": [
      "Select 342 features\n",
      "First: 0, 0.212179\n",
      "Second: 7, 0.071863\n",
      "Method 1: 14.610344 | 7.840594\n",
      "\n",
      "Baseline: 14.612333 | 7.521497\n",
      "\n",
      "---Iteration 131---\n",
      "\n",
      "[131]\n"
     ]
    },
    {
     "name": "stderr",
     "output_type": "stream",
     "text": [
      "/Users/hundredball/anaconda3/envs/Math24/lib/python3.7/site-packages/sklearn/metrics/_regression.py:582: UndefinedMetricWarning: R^2 score is not well-defined with less than two samples.\n",
      "  warnings.warn(msg, UndefinedMetricWarning)\n",
      "/Users/hundredball/anaconda3/envs/Math24/lib/python3.7/site-packages/sklearn/metrics/_regression.py:582: UndefinedMetricWarning: R^2 score is not well-defined with less than two samples.\n",
      "  warnings.warn(msg, UndefinedMetricWarning)\n"
     ]
    },
    {
     "name": "stdout",
     "output_type": "stream",
     "text": [
      "Select 342 features\n",
      "First: 0, 0.211840\n",
      "Second: 7, 0.075680\n",
      "Method 1: 14.608330 | 9.261072\n",
      "\n",
      "Baseline: 14.610329 | 9.112909\n",
      "\n",
      "---Iteration 132---\n",
      "\n",
      "[132]\n"
     ]
    },
    {
     "name": "stderr",
     "output_type": "stream",
     "text": [
      "/Users/hundredball/anaconda3/envs/Math24/lib/python3.7/site-packages/sklearn/metrics/_regression.py:582: UndefinedMetricWarning: R^2 score is not well-defined with less than two samples.\n",
      "  warnings.warn(msg, UndefinedMetricWarning)\n",
      "/Users/hundredball/anaconda3/envs/Math24/lib/python3.7/site-packages/sklearn/metrics/_regression.py:582: UndefinedMetricWarning: R^2 score is not well-defined with less than two samples.\n",
      "  warnings.warn(msg, UndefinedMetricWarning)\n"
     ]
    },
    {
     "name": "stdout",
     "output_type": "stream",
     "text": [
      "Select 342 features\n",
      "First: 0, 0.211603\n",
      "Second: 7, 0.074247\n",
      "Method 1: 14.607713 | 9.300443\n",
      "\n",
      "Baseline: 14.610297 | 9.136398\n",
      "\n",
      "---Iteration 133---\n",
      "\n",
      "[133]\n"
     ]
    },
    {
     "name": "stderr",
     "output_type": "stream",
     "text": [
      "/Users/hundredball/anaconda3/envs/Math24/lib/python3.7/site-packages/sklearn/metrics/_regression.py:582: UndefinedMetricWarning: R^2 score is not well-defined with less than two samples.\n",
      "  warnings.warn(msg, UndefinedMetricWarning)\n",
      "/Users/hundredball/anaconda3/envs/Math24/lib/python3.7/site-packages/sklearn/metrics/_regression.py:582: UndefinedMetricWarning: R^2 score is not well-defined with less than two samples.\n",
      "  warnings.warn(msg, UndefinedMetricWarning)\n"
     ]
    },
    {
     "name": "stdout",
     "output_type": "stream",
     "text": [
      "Select 342 features\n",
      "First: 0, 0.211723\n",
      "Second: 7, 0.074380\n",
      "Method 1: 14.607734 | 9.976197\n",
      "\n",
      "Baseline: 14.609438 | 9.737337\n",
      "\n",
      "---Iteration 134---\n",
      "\n",
      "[134]\n"
     ]
    },
    {
     "name": "stderr",
     "output_type": "stream",
     "text": [
      "/Users/hundredball/anaconda3/envs/Math24/lib/python3.7/site-packages/sklearn/metrics/_regression.py:582: UndefinedMetricWarning: R^2 score is not well-defined with less than two samples.\n",
      "  warnings.warn(msg, UndefinedMetricWarning)\n",
      "/Users/hundredball/anaconda3/envs/Math24/lib/python3.7/site-packages/sklearn/metrics/_regression.py:582: UndefinedMetricWarning: R^2 score is not well-defined with less than two samples.\n",
      "  warnings.warn(msg, UndefinedMetricWarning)\n"
     ]
    },
    {
     "name": "stdout",
     "output_type": "stream",
     "text": [
      "Select 342 features\n",
      "First: 0, 0.212243\n",
      "Second: 7, 0.075949\n",
      "Method 1: 14.613396 | 3.973572\n",
      "\n",
      "Baseline: 14.615506 | 3.827779\n",
      "\n",
      "---Iteration 135---\n",
      "\n",
      "[135]\n"
     ]
    },
    {
     "name": "stderr",
     "output_type": "stream",
     "text": [
      "/Users/hundredball/anaconda3/envs/Math24/lib/python3.7/site-packages/sklearn/metrics/_regression.py:582: UndefinedMetricWarning: R^2 score is not well-defined with less than two samples.\n",
      "  warnings.warn(msg, UndefinedMetricWarning)\n",
      "/Users/hundredball/anaconda3/envs/Math24/lib/python3.7/site-packages/sklearn/metrics/_regression.py:582: UndefinedMetricWarning: R^2 score is not well-defined with less than two samples.\n",
      "  warnings.warn(msg, UndefinedMetricWarning)\n"
     ]
    },
    {
     "name": "stdout",
     "output_type": "stream",
     "text": [
      "Select 342 features\n",
      "First: 0, 0.212008\n",
      "Second: 7, 0.075379\n",
      "Method 1: 14.607854 | 9.502565\n",
      "\n",
      "Baseline: 14.610150 | 9.242101\n",
      "\n",
      "---Iteration 136---\n",
      "\n",
      "[136]\n"
     ]
    },
    {
     "name": "stderr",
     "output_type": "stream",
     "text": [
      "/Users/hundredball/anaconda3/envs/Math24/lib/python3.7/site-packages/sklearn/metrics/_regression.py:582: UndefinedMetricWarning: R^2 score is not well-defined with less than two samples.\n",
      "  warnings.warn(msg, UndefinedMetricWarning)\n",
      "/Users/hundredball/anaconda3/envs/Math24/lib/python3.7/site-packages/sklearn/metrics/_regression.py:582: UndefinedMetricWarning: R^2 score is not well-defined with less than two samples.\n",
      "  warnings.warn(msg, UndefinedMetricWarning)\n"
     ]
    },
    {
     "name": "stdout",
     "output_type": "stream",
     "text": [
      "Select 342 features\n",
      "First: 0, 0.211898\n",
      "Second: 7, 0.076343\n",
      "Method 1: 14.607591 | 9.334664\n",
      "\n",
      "Baseline: 14.610607 | 8.909333\n",
      "\n",
      "---Iteration 137---\n",
      "\n",
      "[137]\n"
     ]
    },
    {
     "name": "stderr",
     "output_type": "stream",
     "text": [
      "/Users/hundredball/anaconda3/envs/Math24/lib/python3.7/site-packages/sklearn/metrics/_regression.py:582: UndefinedMetricWarning: R^2 score is not well-defined with less than two samples.\n",
      "  warnings.warn(msg, UndefinedMetricWarning)\n",
      "/Users/hundredball/anaconda3/envs/Math24/lib/python3.7/site-packages/sklearn/metrics/_regression.py:582: UndefinedMetricWarning: R^2 score is not well-defined with less than two samples.\n",
      "  warnings.warn(msg, UndefinedMetricWarning)\n"
     ]
    },
    {
     "name": "stdout",
     "output_type": "stream",
     "text": [
      "Select 342 features\n",
      "First: 0, 0.212198\n",
      "Second: 7, 0.075813\n",
      "Method 1: 14.613717 | 2.970686\n",
      "\n",
      "Baseline: 14.615937 | 2.993902\n",
      "\n",
      "---Iteration 138---\n",
      "\n",
      "[138]\n"
     ]
    },
    {
     "name": "stderr",
     "output_type": "stream",
     "text": [
      "/Users/hundredball/anaconda3/envs/Math24/lib/python3.7/site-packages/sklearn/metrics/_regression.py:582: UndefinedMetricWarning: R^2 score is not well-defined with less than two samples.\n",
      "  warnings.warn(msg, UndefinedMetricWarning)\n",
      "/Users/hundredball/anaconda3/envs/Math24/lib/python3.7/site-packages/sklearn/metrics/_regression.py:582: UndefinedMetricWarning: R^2 score is not well-defined with less than two samples.\n",
      "  warnings.warn(msg, UndefinedMetricWarning)\n"
     ]
    },
    {
     "name": "stdout",
     "output_type": "stream",
     "text": [
      "Select 342 features\n",
      "First: 0, 0.212572\n",
      "Second: 7, 0.076322\n",
      "Method 1: 14.613880 | 2.743103\n",
      "\n",
      "Baseline: 14.615903 | 3.068338\n",
      "\n",
      "---Iteration 139---\n",
      "\n",
      "[139]\n"
     ]
    },
    {
     "name": "stderr",
     "output_type": "stream",
     "text": [
      "/Users/hundredball/anaconda3/envs/Math24/lib/python3.7/site-packages/sklearn/metrics/_regression.py:582: UndefinedMetricWarning: R^2 score is not well-defined with less than two samples.\n",
      "  warnings.warn(msg, UndefinedMetricWarning)\n",
      "/Users/hundredball/anaconda3/envs/Math24/lib/python3.7/site-packages/sklearn/metrics/_regression.py:582: UndefinedMetricWarning: R^2 score is not well-defined with less than two samples.\n",
      "  warnings.warn(msg, UndefinedMetricWarning)\n"
     ]
    },
    {
     "name": "stdout",
     "output_type": "stream",
     "text": [
      "Select 342 features\n",
      "First: 0, 0.212231\n",
      "Second: 7, 0.072301\n",
      "Method 1: 14.611074 | 6.503214\n",
      "\n",
      "Baseline: 14.613847 | 6.047533\n",
      "\n",
      "---Iteration 140---\n",
      "\n",
      "[140]\n"
     ]
    },
    {
     "name": "stderr",
     "output_type": "stream",
     "text": [
      "/Users/hundredball/anaconda3/envs/Math24/lib/python3.7/site-packages/sklearn/metrics/_regression.py:582: UndefinedMetricWarning: R^2 score is not well-defined with less than two samples.\n",
      "  warnings.warn(msg, UndefinedMetricWarning)\n",
      "/Users/hundredball/anaconda3/envs/Math24/lib/python3.7/site-packages/sklearn/metrics/_regression.py:582: UndefinedMetricWarning: R^2 score is not well-defined with less than two samples.\n",
      "  warnings.warn(msg, UndefinedMetricWarning)\n"
     ]
    },
    {
     "name": "stdout",
     "output_type": "stream",
     "text": [
      "Select 342 features\n",
      "First: 0, 0.212446\n",
      "Second: 7, 0.076379\n",
      "Method 1: 14.614251 | 0.293551\n",
      "\n",
      "Baseline: 14.616611 | 0.243677\n",
      "\n",
      "---Iteration 141---\n",
      "\n",
      "[141]\n"
     ]
    },
    {
     "name": "stderr",
     "output_type": "stream",
     "text": [
      "/Users/hundredball/anaconda3/envs/Math24/lib/python3.7/site-packages/sklearn/metrics/_regression.py:582: UndefinedMetricWarning: R^2 score is not well-defined with less than two samples.\n",
      "  warnings.warn(msg, UndefinedMetricWarning)\n",
      "/Users/hundredball/anaconda3/envs/Math24/lib/python3.7/site-packages/sklearn/metrics/_regression.py:582: UndefinedMetricWarning: R^2 score is not well-defined with less than two samples.\n",
      "  warnings.warn(msg, UndefinedMetricWarning)\n"
     ]
    },
    {
     "name": "stdout",
     "output_type": "stream",
     "text": [
      "Select 342 features\n",
      "First: 0, 0.212388\n",
      "Second: 7, 0.073364\n",
      "Method 1: 14.611250 | 7.164203\n",
      "\n",
      "Baseline: 14.613035 | 6.877494\n",
      "\n",
      "---Iteration 142---\n",
      "\n",
      "[142]\n"
     ]
    },
    {
     "name": "stderr",
     "output_type": "stream",
     "text": [
      "/Users/hundredball/anaconda3/envs/Math24/lib/python3.7/site-packages/sklearn/metrics/_regression.py:582: UndefinedMetricWarning: R^2 score is not well-defined with less than two samples.\n",
      "  warnings.warn(msg, UndefinedMetricWarning)\n",
      "/Users/hundredball/anaconda3/envs/Math24/lib/python3.7/site-packages/sklearn/metrics/_regression.py:582: UndefinedMetricWarning: R^2 score is not well-defined with less than two samples.\n",
      "  warnings.warn(msg, UndefinedMetricWarning)\n"
     ]
    },
    {
     "name": "stdout",
     "output_type": "stream",
     "text": [
      "Select 342 features\n",
      "First: 0, 0.212390\n",
      "Second: 7, 0.074243\n",
      "Method 1: 14.614648 | 0.538065\n",
      "\n",
      "Baseline: 14.616607 | 0.331763\n",
      "\n",
      "---Iteration 143---\n",
      "\n",
      "[143]\n"
     ]
    },
    {
     "name": "stderr",
     "output_type": "stream",
     "text": [
      "/Users/hundredball/anaconda3/envs/Math24/lib/python3.7/site-packages/sklearn/metrics/_regression.py:582: UndefinedMetricWarning: R^2 score is not well-defined with less than two samples.\n",
      "  warnings.warn(msg, UndefinedMetricWarning)\n",
      "/Users/hundredball/anaconda3/envs/Math24/lib/python3.7/site-packages/sklearn/metrics/_regression.py:582: UndefinedMetricWarning: R^2 score is not well-defined with less than two samples.\n",
      "  warnings.warn(msg, UndefinedMetricWarning)\n"
     ]
    },
    {
     "name": "stdout",
     "output_type": "stream",
     "text": [
      "Select 342 features\n",
      "First: 0, 0.212358\n",
      "Second: 7, 0.075647\n",
      "Method 1: 14.614508 | 1.110828\n",
      "\n",
      "Baseline: 14.616549 | 0.934659\n",
      "\n",
      "---Iteration 144---\n",
      "\n",
      "[144]\n"
     ]
    },
    {
     "name": "stderr",
     "output_type": "stream",
     "text": [
      "/Users/hundredball/anaconda3/envs/Math24/lib/python3.7/site-packages/sklearn/metrics/_regression.py:582: UndefinedMetricWarning: R^2 score is not well-defined with less than two samples.\n",
      "  warnings.warn(msg, UndefinedMetricWarning)\n",
      "/Users/hundredball/anaconda3/envs/Math24/lib/python3.7/site-packages/sklearn/metrics/_regression.py:582: UndefinedMetricWarning: R^2 score is not well-defined with less than two samples.\n",
      "  warnings.warn(msg, UndefinedMetricWarning)\n"
     ]
    },
    {
     "name": "stdout",
     "output_type": "stream",
     "text": [
      "Select 342 features\n",
      "First: 0, 0.211942\n",
      "Second: 7, 0.075564\n",
      "Method 1: 14.607616 | 9.453780\n",
      "\n",
      "Baseline: 14.610048 | 9.314527\n",
      "\n",
      "---Iteration 145---\n",
      "\n",
      "[145]\n"
     ]
    },
    {
     "name": "stderr",
     "output_type": "stream",
     "text": [
      "/Users/hundredball/anaconda3/envs/Math24/lib/python3.7/site-packages/sklearn/metrics/_regression.py:582: UndefinedMetricWarning: R^2 score is not well-defined with less than two samples.\n",
      "  warnings.warn(msg, UndefinedMetricWarning)\n",
      "/Users/hundredball/anaconda3/envs/Math24/lib/python3.7/site-packages/sklearn/metrics/_regression.py:582: UndefinedMetricWarning: R^2 score is not well-defined with less than two samples.\n",
      "  warnings.warn(msg, UndefinedMetricWarning)\n"
     ]
    },
    {
     "name": "stdout",
     "output_type": "stream",
     "text": [
      "Select 342 features\n",
      "First: 0, 0.211192\n",
      "Second: 7, 0.077688\n",
      "Method 1: 14.608392 | 8.839277\n",
      "\n",
      "Baseline: 14.610429 | 9.040483\n",
      "\n",
      "---Iteration 146---\n",
      "\n",
      "[146]\n"
     ]
    },
    {
     "name": "stderr",
     "output_type": "stream",
     "text": [
      "/Users/hundredball/anaconda3/envs/Math24/lib/python3.7/site-packages/sklearn/metrics/_regression.py:582: UndefinedMetricWarning: R^2 score is not well-defined with less than two samples.\n",
      "  warnings.warn(msg, UndefinedMetricWarning)\n",
      "/Users/hundredball/anaconda3/envs/Math24/lib/python3.7/site-packages/sklearn/metrics/_regression.py:582: UndefinedMetricWarning: R^2 score is not well-defined with less than two samples.\n",
      "  warnings.warn(msg, UndefinedMetricWarning)\n"
     ]
    },
    {
     "name": "stdout",
     "output_type": "stream",
     "text": [
      "Select 342 features\n",
      "First: 0, 0.211992\n",
      "Second: 7, 0.073552\n",
      "Method 1: 14.608590 | 8.691071\n",
      "\n",
      "Baseline: 14.611063 | 8.564821\n",
      "\n",
      "---Iteration 147---\n",
      "\n",
      "[147]\n"
     ]
    },
    {
     "name": "stderr",
     "output_type": "stream",
     "text": [
      "/Users/hundredball/anaconda3/envs/Math24/lib/python3.7/site-packages/sklearn/metrics/_regression.py:582: UndefinedMetricWarning: R^2 score is not well-defined with less than two samples.\n",
      "  warnings.warn(msg, UndefinedMetricWarning)\n",
      "/Users/hundredball/anaconda3/envs/Math24/lib/python3.7/site-packages/sklearn/metrics/_regression.py:582: UndefinedMetricWarning: R^2 score is not well-defined with less than two samples.\n",
      "  warnings.warn(msg, UndefinedMetricWarning)\n"
     ]
    },
    {
     "name": "stdout",
     "output_type": "stream",
     "text": [
      "Select 342 features\n",
      "First: 0, 0.212271\n",
      "Second: 7, 0.075172\n",
      "Method 1: 14.609515 | 8.710337\n",
      "\n",
      "Baseline: 14.611395 | 8.304480\n",
      "\n",
      "---Iteration 148---\n",
      "\n",
      "[148]\n"
     ]
    },
    {
     "name": "stderr",
     "output_type": "stream",
     "text": [
      "/Users/hundredball/anaconda3/envs/Math24/lib/python3.7/site-packages/sklearn/metrics/_regression.py:582: UndefinedMetricWarning: R^2 score is not well-defined with less than two samples.\n",
      "  warnings.warn(msg, UndefinedMetricWarning)\n",
      "/Users/hundredball/anaconda3/envs/Math24/lib/python3.7/site-packages/sklearn/metrics/_regression.py:582: UndefinedMetricWarning: R^2 score is not well-defined with less than two samples.\n",
      "  warnings.warn(msg, UndefinedMetricWarning)\n"
     ]
    },
    {
     "name": "stdout",
     "output_type": "stream",
     "text": [
      "Select 342 features\n",
      "First: 0, 0.212090\n",
      "Second: 7, 0.074355\n",
      "Method 1: 14.613030 | 4.683278\n",
      "\n",
      "Baseline: 14.615124 | 4.438505\n",
      "\n",
      "---Iteration 149---\n",
      "\n",
      "[149]\n"
     ]
    },
    {
     "name": "stderr",
     "output_type": "stream",
     "text": [
      "/Users/hundredball/anaconda3/envs/Math24/lib/python3.7/site-packages/sklearn/metrics/_regression.py:582: UndefinedMetricWarning: R^2 score is not well-defined with less than two samples.\n",
      "  warnings.warn(msg, UndefinedMetricWarning)\n",
      "/Users/hundredball/anaconda3/envs/Math24/lib/python3.7/site-packages/sklearn/metrics/_regression.py:582: UndefinedMetricWarning: R^2 score is not well-defined with less than two samples.\n",
      "  warnings.warn(msg, UndefinedMetricWarning)\n"
     ]
    },
    {
     "name": "stdout",
     "output_type": "stream",
     "text": [
      "Select 342 features\n",
      "First: 0, 0.212336\n",
      "Second: 7, 0.075803\n",
      "Method 1: 14.614078 | 1.756961\n",
      "\n",
      "Baseline: 14.616399 | 1.692194\n",
      "\n",
      "---Iteration 150---\n",
      "\n",
      "[150]\n"
     ]
    },
    {
     "name": "stderr",
     "output_type": "stream",
     "text": [
      "/Users/hundredball/anaconda3/envs/Math24/lib/python3.7/site-packages/sklearn/metrics/_regression.py:582: UndefinedMetricWarning: R^2 score is not well-defined with less than two samples.\n",
      "  warnings.warn(msg, UndefinedMetricWarning)\n",
      "/Users/hundredball/anaconda3/envs/Math24/lib/python3.7/site-packages/sklearn/metrics/_regression.py:582: UndefinedMetricWarning: R^2 score is not well-defined with less than two samples.\n",
      "  warnings.warn(msg, UndefinedMetricWarning)\n"
     ]
    },
    {
     "name": "stdout",
     "output_type": "stream",
     "text": [
      "Select 342 features\n",
      "First: 0, 0.211962\n",
      "Second: 7, 0.073377\n",
      "Method 1: 14.609083 | 8.812822\n",
      "\n",
      "Baseline: 14.610873 | 8.709673\n",
      "\n",
      "---Iteration 151---\n",
      "\n",
      "[151]\n"
     ]
    },
    {
     "name": "stderr",
     "output_type": "stream",
     "text": [
      "/Users/hundredball/anaconda3/envs/Math24/lib/python3.7/site-packages/sklearn/metrics/_regression.py:582: UndefinedMetricWarning: R^2 score is not well-defined with less than two samples.\n",
      "  warnings.warn(msg, UndefinedMetricWarning)\n",
      "/Users/hundredball/anaconda3/envs/Math24/lib/python3.7/site-packages/sklearn/metrics/_regression.py:582: UndefinedMetricWarning: R^2 score is not well-defined with less than two samples.\n",
      "  warnings.warn(msg, UndefinedMetricWarning)\n"
     ]
    },
    {
     "name": "stdout",
     "output_type": "stream",
     "text": [
      "Select 342 features\n",
      "First: 0, 0.212099\n",
      "Second: 7, 0.075509\n",
      "Method 1: 14.608272 | 8.897602\n",
      "\n",
      "Baseline: 14.610999 | 8.613758\n",
      "\n",
      "---Iteration 152---\n",
      "\n",
      "[152]\n"
     ]
    },
    {
     "name": "stderr",
     "output_type": "stream",
     "text": [
      "/Users/hundredball/anaconda3/envs/Math24/lib/python3.7/site-packages/sklearn/metrics/_regression.py:582: UndefinedMetricWarning: R^2 score is not well-defined with less than two samples.\n",
      "  warnings.warn(msg, UndefinedMetricWarning)\n",
      "/Users/hundredball/anaconda3/envs/Math24/lib/python3.7/site-packages/sklearn/metrics/_regression.py:582: UndefinedMetricWarning: R^2 score is not well-defined with less than two samples.\n",
      "  warnings.warn(msg, UndefinedMetricWarning)\n"
     ]
    },
    {
     "name": "stdout",
     "output_type": "stream",
     "text": [
      "Select 342 features\n",
      "First: 0, 0.212166\n",
      "Second: 7, 0.076692\n",
      "Method 1: 14.613502 | 3.234402\n",
      "\n",
      "Baseline: 14.615831 | 3.219010\n",
      "\n",
      "---Iteration 153---\n",
      "\n",
      "[153]\n"
     ]
    },
    {
     "name": "stderr",
     "output_type": "stream",
     "text": [
      "/Users/hundredball/anaconda3/envs/Math24/lib/python3.7/site-packages/sklearn/metrics/_regression.py:582: UndefinedMetricWarning: R^2 score is not well-defined with less than two samples.\n",
      "  warnings.warn(msg, UndefinedMetricWarning)\n",
      "/Users/hundredball/anaconda3/envs/Math24/lib/python3.7/site-packages/sklearn/metrics/_regression.py:582: UndefinedMetricWarning: R^2 score is not well-defined with less than two samples.\n",
      "  warnings.warn(msg, UndefinedMetricWarning)\n"
     ]
    },
    {
     "name": "stdout",
     "output_type": "stream",
     "text": [
      "Select 342 features\n",
      "First: 0, 0.212052\n",
      "Second: 7, 0.074148\n",
      "Method 1: 14.608020 | 9.301550\n",
      "\n",
      "Baseline: 14.610337 | 9.107036\n",
      "\n",
      "---Iteration 154---\n",
      "\n",
      "[154]\n"
     ]
    },
    {
     "name": "stderr",
     "output_type": "stream",
     "text": [
      "/Users/hundredball/anaconda3/envs/Math24/lib/python3.7/site-packages/sklearn/metrics/_regression.py:582: UndefinedMetricWarning: R^2 score is not well-defined with less than two samples.\n",
      "  warnings.warn(msg, UndefinedMetricWarning)\n",
      "/Users/hundredball/anaconda3/envs/Math24/lib/python3.7/site-packages/sklearn/metrics/_regression.py:582: UndefinedMetricWarning: R^2 score is not well-defined with less than two samples.\n",
      "  warnings.warn(msg, UndefinedMetricWarning)\n"
     ]
    },
    {
     "name": "stdout",
     "output_type": "stream",
     "text": [
      "Select 342 features\n",
      "First: 0, 0.211844\n",
      "Second: 7, 0.074974\n",
      "Method 1: 14.607967 | 9.412592\n",
      "\n",
      "Baseline: 14.610152 | 9.240143\n",
      "\n",
      "---Iteration 155---\n",
      "\n",
      "[155]\n"
     ]
    },
    {
     "name": "stderr",
     "output_type": "stream",
     "text": [
      "/Users/hundredball/anaconda3/envs/Math24/lib/python3.7/site-packages/sklearn/metrics/_regression.py:582: UndefinedMetricWarning: R^2 score is not well-defined with less than two samples.\n",
      "  warnings.warn(msg, UndefinedMetricWarning)\n",
      "/Users/hundredball/anaconda3/envs/Math24/lib/python3.7/site-packages/sklearn/metrics/_regression.py:582: UndefinedMetricWarning: R^2 score is not well-defined with less than two samples.\n",
      "  warnings.warn(msg, UndefinedMetricWarning)\n"
     ]
    },
    {
     "name": "stdout",
     "output_type": "stream",
     "text": [
      "Select 342 features\n",
      "First: 0, 0.211977\n",
      "Second: 7, 0.074142\n",
      "Method 1: 14.612842 | 5.072445\n",
      "\n",
      "Baseline: 14.614755 | 4.957230\n",
      "\n",
      "---Iteration 156---\n",
      "\n",
      "[156]\n"
     ]
    },
    {
     "name": "stderr",
     "output_type": "stream",
     "text": [
      "/Users/hundredball/anaconda3/envs/Math24/lib/python3.7/site-packages/sklearn/metrics/_regression.py:582: UndefinedMetricWarning: R^2 score is not well-defined with less than two samples.\n",
      "  warnings.warn(msg, UndefinedMetricWarning)\n",
      "/Users/hundredball/anaconda3/envs/Math24/lib/python3.7/site-packages/sklearn/metrics/_regression.py:582: UndefinedMetricWarning: R^2 score is not well-defined with less than two samples.\n",
      "  warnings.warn(msg, UndefinedMetricWarning)\n"
     ]
    },
    {
     "name": "stdout",
     "output_type": "stream",
     "text": [
      "Select 342 features\n",
      "First: 0, 0.212019\n",
      "Second: 7, 0.075690\n",
      "Method 1: 14.611845 | 5.985672\n",
      "\n",
      "Baseline: 14.613941 | 5.943788\n",
      "\n",
      "---Iteration 157---\n",
      "\n",
      "[157]\n"
     ]
    },
    {
     "name": "stderr",
     "output_type": "stream",
     "text": [
      "/Users/hundredball/anaconda3/envs/Math24/lib/python3.7/site-packages/sklearn/metrics/_regression.py:582: UndefinedMetricWarning: R^2 score is not well-defined with less than two samples.\n",
      "  warnings.warn(msg, UndefinedMetricWarning)\n",
      "/Users/hundredball/anaconda3/envs/Math24/lib/python3.7/site-packages/sklearn/metrics/_regression.py:582: UndefinedMetricWarning: R^2 score is not well-defined with less than two samples.\n",
      "  warnings.warn(msg, UndefinedMetricWarning)\n"
     ]
    },
    {
     "name": "stdout",
     "output_type": "stream",
     "text": [
      "Select 342 features\n",
      "First: 0, 0.212371\n",
      "Second: 7, 0.076367\n",
      "Method 1: 14.614324 | 1.502993\n",
      "\n",
      "Baseline: 14.616509 | 1.183256\n",
      "\n",
      "---Iteration 158---\n",
      "\n",
      "[158]\n"
     ]
    },
    {
     "name": "stderr",
     "output_type": "stream",
     "text": [
      "/Users/hundredball/anaconda3/envs/Math24/lib/python3.7/site-packages/sklearn/metrics/_regression.py:582: UndefinedMetricWarning: R^2 score is not well-defined with less than two samples.\n",
      "  warnings.warn(msg, UndefinedMetricWarning)\n",
      "/Users/hundredball/anaconda3/envs/Math24/lib/python3.7/site-packages/sklearn/metrics/_regression.py:582: UndefinedMetricWarning: R^2 score is not well-defined with less than two samples.\n",
      "  warnings.warn(msg, UndefinedMetricWarning)\n"
     ]
    },
    {
     "name": "stdout",
     "output_type": "stream",
     "text": [
      "Select 342 features\n",
      "First: 0, 0.212238\n",
      "Second: 7, 0.075154\n",
      "Method 1: 14.609816 | 8.081363\n",
      "\n",
      "Baseline: 14.611888 | 7.903201\n",
      "\n",
      "---Iteration 159---\n",
      "\n",
      "[159]\n"
     ]
    },
    {
     "name": "stderr",
     "output_type": "stream",
     "text": [
      "/Users/hundredball/anaconda3/envs/Math24/lib/python3.7/site-packages/sklearn/metrics/_regression.py:582: UndefinedMetricWarning: R^2 score is not well-defined with less than two samples.\n",
      "  warnings.warn(msg, UndefinedMetricWarning)\n",
      "/Users/hundredball/anaconda3/envs/Math24/lib/python3.7/site-packages/sklearn/metrics/_regression.py:582: UndefinedMetricWarning: R^2 score is not well-defined with less than two samples.\n",
      "  warnings.warn(msg, UndefinedMetricWarning)\n"
     ]
    },
    {
     "name": "stdout",
     "output_type": "stream",
     "text": [
      "Select 342 features\n",
      "First: 0, 0.211774\n",
      "Second: 7, 0.076199\n",
      "Method 1: 14.606873 | 9.995330\n",
      "\n",
      "Baseline: 14.609255 | 9.860657\n",
      "\n",
      "---Iteration 160---\n",
      "\n",
      "[160]\n"
     ]
    },
    {
     "name": "stderr",
     "output_type": "stream",
     "text": [
      "/Users/hundredball/anaconda3/envs/Math24/lib/python3.7/site-packages/sklearn/metrics/_regression.py:582: UndefinedMetricWarning: R^2 score is not well-defined with less than two samples.\n",
      "  warnings.warn(msg, UndefinedMetricWarning)\n",
      "/Users/hundredball/anaconda3/envs/Math24/lib/python3.7/site-packages/sklearn/metrics/_regression.py:582: UndefinedMetricWarning: R^2 score is not well-defined with less than two samples.\n",
      "  warnings.warn(msg, UndefinedMetricWarning)\n"
     ]
    },
    {
     "name": "stdout",
     "output_type": "stream",
     "text": [
      "Select 342 features\n",
      "First: 0, 0.212116\n",
      "Second: 7, 0.075628\n",
      "Method 1: 14.606645 | 9.951367\n",
      "\n",
      "Baseline: 14.609658 | 9.586613\n",
      "\n",
      "---Iteration 161---\n",
      "\n",
      "[161]\n"
     ]
    },
    {
     "name": "stderr",
     "output_type": "stream",
     "text": [
      "/Users/hundredball/anaconda3/envs/Math24/lib/python3.7/site-packages/sklearn/metrics/_regression.py:582: UndefinedMetricWarning: R^2 score is not well-defined with less than two samples.\n",
      "  warnings.warn(msg, UndefinedMetricWarning)\n",
      "/Users/hundredball/anaconda3/envs/Math24/lib/python3.7/site-packages/sklearn/metrics/_regression.py:582: UndefinedMetricWarning: R^2 score is not well-defined with less than two samples.\n",
      "  warnings.warn(msg, UndefinedMetricWarning)\n"
     ]
    },
    {
     "name": "stdout",
     "output_type": "stream",
     "text": [
      "Select 342 features\n",
      "First: 0, 0.211298\n",
      "Second: 7, 0.076759\n",
      "Method 1: 14.608220 | 8.492811\n",
      "\n",
      "Baseline: 14.611080 | 8.551119\n",
      "\n",
      "---Iteration 162---\n",
      "\n",
      "[162]\n"
     ]
    },
    {
     "name": "stderr",
     "output_type": "stream",
     "text": [
      "/Users/hundredball/anaconda3/envs/Math24/lib/python3.7/site-packages/sklearn/metrics/_regression.py:582: UndefinedMetricWarning: R^2 score is not well-defined with less than two samples.\n",
      "  warnings.warn(msg, UndefinedMetricWarning)\n",
      "/Users/hundredball/anaconda3/envs/Math24/lib/python3.7/site-packages/sklearn/metrics/_regression.py:582: UndefinedMetricWarning: R^2 score is not well-defined with less than two samples.\n",
      "  warnings.warn(msg, UndefinedMetricWarning)\n"
     ]
    },
    {
     "name": "stdout",
     "output_type": "stream",
     "text": [
      "Select 342 features\n",
      "First: 0, 0.212000\n",
      "Second: 7, 0.073895\n",
      "Method 1: 14.608810 | 8.795127\n",
      "\n",
      "Baseline: 14.611103 | 8.533502\n",
      "\n",
      "---Iteration 163---\n",
      "\n",
      "[163]\n"
     ]
    },
    {
     "name": "stderr",
     "output_type": "stream",
     "text": [
      "/Users/hundredball/anaconda3/envs/Math24/lib/python3.7/site-packages/sklearn/metrics/_regression.py:582: UndefinedMetricWarning: R^2 score is not well-defined with less than two samples.\n",
      "  warnings.warn(msg, UndefinedMetricWarning)\n",
      "/Users/hundredball/anaconda3/envs/Math24/lib/python3.7/site-packages/sklearn/metrics/_regression.py:582: UndefinedMetricWarning: R^2 score is not well-defined with less than two samples.\n",
      "  warnings.warn(msg, UndefinedMetricWarning)\n"
     ]
    },
    {
     "name": "stdout",
     "output_type": "stream",
     "text": [
      "Select 342 features\n",
      "First: 0, 0.212031\n",
      "Second: 7, 0.077007\n",
      "Method 1: 14.607724 | 9.388310\n",
      "\n",
      "Baseline: 14.610196 | 9.208824\n",
      "\n",
      "---Iteration 164---\n",
      "\n",
      "[164]\n"
     ]
    },
    {
     "name": "stderr",
     "output_type": "stream",
     "text": [
      "/Users/hundredball/anaconda3/envs/Math24/lib/python3.7/site-packages/sklearn/metrics/_regression.py:582: UndefinedMetricWarning: R^2 score is not well-defined with less than two samples.\n",
      "  warnings.warn(msg, UndefinedMetricWarning)\n",
      "/Users/hundredball/anaconda3/envs/Math24/lib/python3.7/site-packages/sklearn/metrics/_regression.py:582: UndefinedMetricWarning: R^2 score is not well-defined with less than two samples.\n",
      "  warnings.warn(msg, UndefinedMetricWarning)\n"
     ]
    },
    {
     "name": "stdout",
     "output_type": "stream",
     "text": [
      "Select 342 features\n",
      "First: 0, 0.212284\n",
      "Second: 7, 0.077412\n",
      "Method 1: 14.608984 | 8.255961\n",
      "\n",
      "Baseline: 14.611925 | 7.871882\n",
      "\n",
      "---Iteration 165---\n",
      "\n",
      "[165]\n"
     ]
    },
    {
     "name": "stderr",
     "output_type": "stream",
     "text": [
      "/Users/hundredball/anaconda3/envs/Math24/lib/python3.7/site-packages/sklearn/metrics/_regression.py:582: UndefinedMetricWarning: R^2 score is not well-defined with less than two samples.\n",
      "  warnings.warn(msg, UndefinedMetricWarning)\n",
      "/Users/hundredball/anaconda3/envs/Math24/lib/python3.7/site-packages/sklearn/metrics/_regression.py:582: UndefinedMetricWarning: R^2 score is not well-defined with less than two samples.\n",
      "  warnings.warn(msg, UndefinedMetricWarning)\n"
     ]
    },
    {
     "name": "stdout",
     "output_type": "stream",
     "text": [
      "Select 342 features\n",
      "First: 0, 0.211839\n",
      "Second: 7, 0.073033\n",
      "Method 1: 14.607404 | 9.159810\n",
      "\n",
      "Baseline: 14.610210 | 9.199037\n",
      "\n",
      "---Iteration 166---\n",
      "\n",
      "[166]\n"
     ]
    },
    {
     "name": "stderr",
     "output_type": "stream",
     "text": [
      "/Users/hundredball/anaconda3/envs/Math24/lib/python3.7/site-packages/sklearn/metrics/_regression.py:582: UndefinedMetricWarning: R^2 score is not well-defined with less than two samples.\n",
      "  warnings.warn(msg, UndefinedMetricWarning)\n",
      "/Users/hundredball/anaconda3/envs/Math24/lib/python3.7/site-packages/sklearn/metrics/_regression.py:582: UndefinedMetricWarning: R^2 score is not well-defined with less than two samples.\n",
      "  warnings.warn(msg, UndefinedMetricWarning)\n"
     ]
    },
    {
     "name": "stdout",
     "output_type": "stream",
     "text": [
      "Select 342 features\n",
      "First: 0, 0.212248\n",
      "Second: 7, 0.075741\n",
      "Method 1: 14.613726 | 3.226945\n",
      "\n",
      "Baseline: 14.615858 | 3.164201\n",
      "\n",
      "---Iteration 167---\n",
      "\n",
      "[167]\n"
     ]
    },
    {
     "name": "stderr",
     "output_type": "stream",
     "text": [
      "/Users/hundredball/anaconda3/envs/Math24/lib/python3.7/site-packages/sklearn/metrics/_regression.py:582: UndefinedMetricWarning: R^2 score is not well-defined with less than two samples.\n",
      "  warnings.warn(msg, UndefinedMetricWarning)\n",
      "/Users/hundredball/anaconda3/envs/Math24/lib/python3.7/site-packages/sklearn/metrics/_regression.py:582: UndefinedMetricWarning: R^2 score is not well-defined with less than two samples.\n",
      "  warnings.warn(msg, UndefinedMetricWarning)\n"
     ]
    },
    {
     "name": "stdout",
     "output_type": "stream",
     "text": [
      "Select 342 features\n",
      "First: 0, 0.211471\n",
      "Second: 7, 0.076112\n",
      "Method 1: 14.606812 | 9.840880\n",
      "\n",
      "Baseline: 14.609610 | 9.619890\n",
      "\n",
      "---Iteration 168---\n",
      "\n",
      "[168]\n"
     ]
    },
    {
     "name": "stderr",
     "output_type": "stream",
     "text": [
      "/Users/hundredball/anaconda3/envs/Math24/lib/python3.7/site-packages/sklearn/metrics/_regression.py:582: UndefinedMetricWarning: R^2 score is not well-defined with less than two samples.\n",
      "  warnings.warn(msg, UndefinedMetricWarning)\n",
      "/Users/hundredball/anaconda3/envs/Math24/lib/python3.7/site-packages/sklearn/metrics/_regression.py:582: UndefinedMetricWarning: R^2 score is not well-defined with less than two samples.\n",
      "  warnings.warn(msg, UndefinedMetricWarning)\n"
     ]
    },
    {
     "name": "stdout",
     "output_type": "stream",
     "text": [
      "Select 342 features\n",
      "First: 0, 0.212370\n",
      "Second: 7, 0.073705\n",
      "Method 1: 14.614727 | 0.142983\n",
      "\n",
      "Baseline: 14.616596 | 0.509943\n",
      "\n",
      "---Iteration 169---\n",
      "\n",
      "[169]\n"
     ]
    },
    {
     "name": "stderr",
     "output_type": "stream",
     "text": [
      "/Users/hundredball/anaconda3/envs/Math24/lib/python3.7/site-packages/sklearn/metrics/_regression.py:582: UndefinedMetricWarning: R^2 score is not well-defined with less than two samples.\n",
      "  warnings.warn(msg, UndefinedMetricWarning)\n",
      "/Users/hundredball/anaconda3/envs/Math24/lib/python3.7/site-packages/sklearn/metrics/_regression.py:582: UndefinedMetricWarning: R^2 score is not well-defined with less than two samples.\n",
      "  warnings.warn(msg, UndefinedMetricWarning)\n"
     ]
    },
    {
     "name": "stdout",
     "output_type": "stream",
     "text": [
      "Select 342 features\n",
      "First: 0, 0.212617\n",
      "Second: 7, 0.075280\n",
      "Method 1: 14.614074 | 2.137418\n",
      "\n",
      "Baseline: 14.616237 | 2.234462\n",
      "\n",
      "---Iteration 170---\n",
      "\n",
      "[170]\n"
     ]
    },
    {
     "name": "stderr",
     "output_type": "stream",
     "text": [
      "/Users/hundredball/anaconda3/envs/Math24/lib/python3.7/site-packages/sklearn/metrics/_regression.py:582: UndefinedMetricWarning: R^2 score is not well-defined with less than two samples.\n",
      "  warnings.warn(msg, UndefinedMetricWarning)\n",
      "/Users/hundredball/anaconda3/envs/Math24/lib/python3.7/site-packages/sklearn/metrics/_regression.py:582: UndefinedMetricWarning: R^2 score is not well-defined with less than two samples.\n",
      "  warnings.warn(msg, UndefinedMetricWarning)\n"
     ]
    },
    {
     "name": "stdout",
     "output_type": "stream",
     "text": [
      "Select 342 features\n",
      "First: 0, 0.211493\n",
      "Second: 7, 0.073753\n",
      "Method 1: 14.610616 | 7.495695\n",
      "\n",
      "Baseline: 14.612304 | 7.546944\n",
      "\n",
      "---Iteration 171---\n",
      "\n",
      "[171]\n"
     ]
    },
    {
     "name": "stderr",
     "output_type": "stream",
     "text": [
      "/Users/hundredball/anaconda3/envs/Math24/lib/python3.7/site-packages/sklearn/metrics/_regression.py:582: UndefinedMetricWarning: R^2 score is not well-defined with less than two samples.\n",
      "  warnings.warn(msg, UndefinedMetricWarning)\n",
      "/Users/hundredball/anaconda3/envs/Math24/lib/python3.7/site-packages/sklearn/metrics/_regression.py:582: UndefinedMetricWarning: R^2 score is not well-defined with less than two samples.\n",
      "  warnings.warn(msg, UndefinedMetricWarning)\n"
     ]
    },
    {
     "name": "stdout",
     "output_type": "stream",
     "text": [
      "Select 342 features\n",
      "First: 0, 0.212225\n",
      "Second: 7, 0.078021\n",
      "Method 1: 14.606949 | 10.189230\n",
      "\n",
      "Baseline: 14.609544 | 9.664911\n",
      "\n",
      "---Iteration 172---\n",
      "\n",
      "[172]\n"
     ]
    },
    {
     "name": "stderr",
     "output_type": "stream",
     "text": [
      "/Users/hundredball/anaconda3/envs/Math24/lib/python3.7/site-packages/sklearn/metrics/_regression.py:582: UndefinedMetricWarning: R^2 score is not well-defined with less than two samples.\n",
      "  warnings.warn(msg, UndefinedMetricWarning)\n",
      "/Users/hundredball/anaconda3/envs/Math24/lib/python3.7/site-packages/sklearn/metrics/_regression.py:582: UndefinedMetricWarning: R^2 score is not well-defined with less than two samples.\n",
      "  warnings.warn(msg, UndefinedMetricWarning)\n"
     ]
    },
    {
     "name": "stdout",
     "output_type": "stream",
     "text": [
      "Select 342 features\n",
      "First: 0, 0.212111\n",
      "Second: 7, 0.077527\n",
      "Method 1: 14.608389 | 8.402560\n",
      "\n",
      "Baseline: 14.611744 | 8.022606\n",
      "\n",
      "---Iteration 173---\n",
      "\n",
      "[173]\n"
     ]
    },
    {
     "name": "stderr",
     "output_type": "stream",
     "text": [
      "/Users/hundredball/anaconda3/envs/Math24/lib/python3.7/site-packages/sklearn/metrics/_regression.py:582: UndefinedMetricWarning: R^2 score is not well-defined with less than two samples.\n",
      "  warnings.warn(msg, UndefinedMetricWarning)\n",
      "/Users/hundredball/anaconda3/envs/Math24/lib/python3.7/site-packages/sklearn/metrics/_regression.py:582: UndefinedMetricWarning: R^2 score is not well-defined with less than two samples.\n",
      "  warnings.warn(msg, UndefinedMetricWarning)\n"
     ]
    },
    {
     "name": "stdout",
     "output_type": "stream",
     "text": [
      "Select 342 features\n",
      "First: 0, 0.211972\n",
      "Second: 7, 0.075222\n",
      "Method 1: 14.607487 | 9.883759\n",
      "\n",
      "Baseline: 14.609458 | 9.723635\n",
      "\n",
      "---Iteration 174---\n",
      "\n",
      "[174]\n"
     ]
    },
    {
     "name": "stderr",
     "output_type": "stream",
     "text": [
      "/Users/hundredball/anaconda3/envs/Math24/lib/python3.7/site-packages/sklearn/metrics/_regression.py:582: UndefinedMetricWarning: R^2 score is not well-defined with less than two samples.\n",
      "  warnings.warn(msg, UndefinedMetricWarning)\n",
      "/Users/hundredball/anaconda3/envs/Math24/lib/python3.7/site-packages/sklearn/metrics/_regression.py:582: UndefinedMetricWarning: R^2 score is not well-defined with less than two samples.\n",
      "  warnings.warn(msg, UndefinedMetricWarning)\n"
     ]
    },
    {
     "name": "stdout",
     "output_type": "stream",
     "text": [
      "Select 342 features\n",
      "First: 0, 0.212601\n",
      "Second: 7, 0.073867\n",
      "Method 1: 14.612139 | 6.160533\n",
      "\n",
      "Baseline: 14.613536 | 6.378395\n",
      "\n",
      "---Iteration 175---\n",
      "\n",
      "[175]\n"
     ]
    },
    {
     "name": "stderr",
     "output_type": "stream",
     "text": [
      "/Users/hundredball/anaconda3/envs/Math24/lib/python3.7/site-packages/sklearn/metrics/_regression.py:582: UndefinedMetricWarning: R^2 score is not well-defined with less than two samples.\n",
      "  warnings.warn(msg, UndefinedMetricWarning)\n",
      "/Users/hundredball/anaconda3/envs/Math24/lib/python3.7/site-packages/sklearn/metrics/_regression.py:582: UndefinedMetricWarning: R^2 score is not well-defined with less than two samples.\n",
      "  warnings.warn(msg, UndefinedMetricWarning)\n"
     ]
    },
    {
     "name": "stdout",
     "output_type": "stream",
     "text": [
      "Select 342 features\n",
      "First: 0, 0.211587\n",
      "Second: 7, 0.077559\n",
      "Method 1: 14.609216 | 6.828304\n",
      "\n",
      "Baseline: 14.613342 | 6.576046\n",
      "\n",
      "---Iteration 176---\n",
      "\n",
      "[176]\n"
     ]
    },
    {
     "name": "stderr",
     "output_type": "stream",
     "text": [
      "/Users/hundredball/anaconda3/envs/Math24/lib/python3.7/site-packages/sklearn/metrics/_regression.py:582: UndefinedMetricWarning: R^2 score is not well-defined with less than two samples.\n",
      "  warnings.warn(msg, UndefinedMetricWarning)\n",
      "/Users/hundredball/anaconda3/envs/Math24/lib/python3.7/site-packages/sklearn/metrics/_regression.py:582: UndefinedMetricWarning: R^2 score is not well-defined with less than two samples.\n",
      "  warnings.warn(msg, UndefinedMetricWarning)\n"
     ]
    },
    {
     "name": "stdout",
     "output_type": "stream",
     "text": [
      "Select 342 features\n",
      "First: 0, 0.212114\n",
      "Second: 7, 0.073351\n",
      "Method 1: 14.609824 | 7.987423\n",
      "\n",
      "Baseline: 14.612192 | 7.644817\n",
      "\n",
      "---Iteration 177---\n",
      "\n",
      "[177]\n"
     ]
    },
    {
     "name": "stderr",
     "output_type": "stream",
     "text": [
      "/Users/hundredball/anaconda3/envs/Math24/lib/python3.7/site-packages/sklearn/metrics/_regression.py:582: UndefinedMetricWarning: R^2 score is not well-defined with less than two samples.\n",
      "  warnings.warn(msg, UndefinedMetricWarning)\n",
      "/Users/hundredball/anaconda3/envs/Math24/lib/python3.7/site-packages/sklearn/metrics/_regression.py:582: UndefinedMetricWarning: R^2 score is not well-defined with less than two samples.\n",
      "  warnings.warn(msg, UndefinedMetricWarning)\n"
     ]
    },
    {
     "name": "stdout",
     "output_type": "stream",
     "text": [
      "Select 342 features\n",
      "First: 0, 0.212074\n",
      "Second: 7, 0.075226\n",
      "Method 1: 14.607446 | 9.366214\n",
      "\n",
      "Baseline: 14.610307 | 9.128568\n",
      "\n",
      "---Iteration 178---\n",
      "\n",
      "[178]\n"
     ]
    },
    {
     "name": "stderr",
     "output_type": "stream",
     "text": [
      "/Users/hundredball/anaconda3/envs/Math24/lib/python3.7/site-packages/sklearn/metrics/_regression.py:582: UndefinedMetricWarning: R^2 score is not well-defined with less than two samples.\n",
      "  warnings.warn(msg, UndefinedMetricWarning)\n",
      "/Users/hundredball/anaconda3/envs/Math24/lib/python3.7/site-packages/sklearn/metrics/_regression.py:582: UndefinedMetricWarning: R^2 score is not well-defined with less than two samples.\n",
      "  warnings.warn(msg, UndefinedMetricWarning)\n"
     ]
    },
    {
     "name": "stdout",
     "output_type": "stream",
     "text": [
      "Select 342 features\n",
      "First: 0, 0.212117\n",
      "Second: 7, 0.073723\n",
      "Method 1: 14.612204 | 5.591947\n",
      "\n",
      "Baseline: 14.614521 | 5.260636\n",
      "\n",
      "---Iteration 179---\n",
      "\n",
      "[179]\n"
     ]
    },
    {
     "name": "stderr",
     "output_type": "stream",
     "text": [
      "/Users/hundredball/anaconda3/envs/Math24/lib/python3.7/site-packages/sklearn/metrics/_regression.py:582: UndefinedMetricWarning: R^2 score is not well-defined with less than two samples.\n",
      "  warnings.warn(msg, UndefinedMetricWarning)\n",
      "/Users/hundredball/anaconda3/envs/Math24/lib/python3.7/site-packages/sklearn/metrics/_regression.py:582: UndefinedMetricWarning: R^2 score is not well-defined with less than two samples.\n",
      "  warnings.warn(msg, UndefinedMetricWarning)\n"
     ]
    },
    {
     "name": "stdout",
     "output_type": "stream",
     "text": [
      "Select 342 features\n",
      "First: 0, 0.211949\n",
      "Second: 7, 0.072658\n",
      "Method 1: 14.608812 | 8.866738\n",
      "\n",
      "Baseline: 14.610935 | 8.662694\n",
      "\n",
      "---Iteration 180---\n",
      "\n",
      "[180]\n"
     ]
    },
    {
     "name": "stderr",
     "output_type": "stream",
     "text": [
      "/Users/hundredball/anaconda3/envs/Math24/lib/python3.7/site-packages/sklearn/metrics/_regression.py:582: UndefinedMetricWarning: R^2 score is not well-defined with less than two samples.\n",
      "  warnings.warn(msg, UndefinedMetricWarning)\n",
      "/Users/hundredball/anaconda3/envs/Math24/lib/python3.7/site-packages/sklearn/metrics/_regression.py:582: UndefinedMetricWarning: R^2 score is not well-defined with less than two samples.\n",
      "  warnings.warn(msg, UndefinedMetricWarning)\n"
     ]
    },
    {
     "name": "stdout",
     "output_type": "stream",
     "text": [
      "Select 342 features\n",
      "First: 0, 0.212894\n",
      "Second: 7, 0.076509\n",
      "Method 1: 14.612656 | 4.435208\n",
      "\n",
      "Baseline: 14.615167 | 4.373961\n",
      "\n",
      "---Iteration 181---\n",
      "\n",
      "[181]\n"
     ]
    },
    {
     "name": "stderr",
     "output_type": "stream",
     "text": [
      "/Users/hundredball/anaconda3/envs/Math24/lib/python3.7/site-packages/sklearn/metrics/_regression.py:582: UndefinedMetricWarning: R^2 score is not well-defined with less than two samples.\n",
      "  warnings.warn(msg, UndefinedMetricWarning)\n",
      "/Users/hundredball/anaconda3/envs/Math24/lib/python3.7/site-packages/sklearn/metrics/_regression.py:582: UndefinedMetricWarning: R^2 score is not well-defined with less than two samples.\n",
      "  warnings.warn(msg, UndefinedMetricWarning)\n"
     ]
    },
    {
     "name": "stdout",
     "output_type": "stream",
     "text": [
      "Select 342 features\n",
      "First: 0, 0.211731\n",
      "Second: 7, 0.076946\n",
      "Method 1: 14.607518 | 9.527727\n",
      "\n",
      "Baseline: 14.610037 | 9.322357\n",
      "\n",
      "---Iteration 182---\n",
      "\n",
      "[182]\n"
     ]
    },
    {
     "name": "stderr",
     "output_type": "stream",
     "text": [
      "/Users/hundredball/anaconda3/envs/Math24/lib/python3.7/site-packages/sklearn/metrics/_regression.py:582: UndefinedMetricWarning: R^2 score is not well-defined with less than two samples.\n",
      "  warnings.warn(msg, UndefinedMetricWarning)\n",
      "/Users/hundredball/anaconda3/envs/Math24/lib/python3.7/site-packages/sklearn/metrics/_regression.py:582: UndefinedMetricWarning: R^2 score is not well-defined with less than two samples.\n",
      "  warnings.warn(msg, UndefinedMetricWarning)\n"
     ]
    },
    {
     "name": "stdout",
     "output_type": "stream",
     "text": [
      "Select 342 features\n",
      "First: 0, 0.211479\n",
      "Second: 7, 0.073560\n",
      "Method 1: 14.608006 | 9.272830\n",
      "\n",
      "Baseline: 14.610283 | 9.146186\n",
      "\n",
      "---Iteration 183---\n",
      "\n",
      "[183]\n"
     ]
    },
    {
     "name": "stderr",
     "output_type": "stream",
     "text": [
      "/Users/hundredball/anaconda3/envs/Math24/lib/python3.7/site-packages/sklearn/metrics/_regression.py:582: UndefinedMetricWarning: R^2 score is not well-defined with less than two samples.\n",
      "  warnings.warn(msg, UndefinedMetricWarning)\n",
      "/Users/hundredball/anaconda3/envs/Math24/lib/python3.7/site-packages/sklearn/metrics/_regression.py:582: UndefinedMetricWarning: R^2 score is not well-defined with less than two samples.\n",
      "  warnings.warn(msg, UndefinedMetricWarning)\n"
     ]
    },
    {
     "name": "stdout",
     "output_type": "stream",
     "text": [
      "Select 342 features\n",
      "First: 0, 0.212244\n",
      "Second: 7, 0.075367\n",
      "Method 1: 14.610063 | 7.678687\n",
      "\n",
      "Baseline: 14.611944 | 7.856274\n",
      "\n",
      "---Iteration 184---\n",
      "\n",
      "[184]\n"
     ]
    },
    {
     "name": "stderr",
     "output_type": "stream",
     "text": [
      "/Users/hundredball/anaconda3/envs/Math24/lib/python3.7/site-packages/sklearn/metrics/_regression.py:582: UndefinedMetricWarning: R^2 score is not well-defined with less than two samples.\n",
      "  warnings.warn(msg, UndefinedMetricWarning)\n",
      "/Users/hundredball/anaconda3/envs/Math24/lib/python3.7/site-packages/sklearn/metrics/_regression.py:582: UndefinedMetricWarning: R^2 score is not well-defined with less than two samples.\n",
      "  warnings.warn(msg, UndefinedMetricWarning)\n"
     ]
    },
    {
     "name": "stdout",
     "output_type": "stream",
     "text": [
      "Select 342 features\n",
      "First: 0, 0.211897\n",
      "Second: 7, 0.070873\n",
      "Method 1: 14.608055 | 9.250951\n",
      "\n",
      "Baseline: 14.610223 | 9.189250\n",
      "\n",
      "---Iteration 185---\n",
      "\n",
      "[185]\n"
     ]
    },
    {
     "name": "stderr",
     "output_type": "stream",
     "text": [
      "/Users/hundredball/anaconda3/envs/Math24/lib/python3.7/site-packages/sklearn/metrics/_regression.py:582: UndefinedMetricWarning: R^2 score is not well-defined with less than two samples.\n",
      "  warnings.warn(msg, UndefinedMetricWarning)\n",
      "/Users/hundredball/anaconda3/envs/Math24/lib/python3.7/site-packages/sklearn/metrics/_regression.py:582: UndefinedMetricWarning: R^2 score is not well-defined with less than two samples.\n",
      "  warnings.warn(msg, UndefinedMetricWarning)\n"
     ]
    },
    {
     "name": "stdout",
     "output_type": "stream",
     "text": [
      "Select 342 features\n",
      "First: 0, 0.212564\n",
      "Second: 7, 0.076532\n",
      "Method 1: 14.607957 | 8.918375\n",
      "\n",
      "Baseline: 14.611948 | 7.852307\n",
      "\n",
      "---Iteration 186---\n",
      "\n",
      "[186]\n"
     ]
    },
    {
     "name": "stderr",
     "output_type": "stream",
     "text": [
      "/Users/hundredball/anaconda3/envs/Math24/lib/python3.7/site-packages/sklearn/metrics/_regression.py:582: UndefinedMetricWarning: R^2 score is not well-defined with less than two samples.\n",
      "  warnings.warn(msg, UndefinedMetricWarning)\n",
      "/Users/hundredball/anaconda3/envs/Math24/lib/python3.7/site-packages/sklearn/metrics/_regression.py:582: UndefinedMetricWarning: R^2 score is not well-defined with less than two samples.\n",
      "  warnings.warn(msg, UndefinedMetricWarning)\n"
     ]
    },
    {
     "name": "stdout",
     "output_type": "stream",
     "text": [
      "Select 342 features\n",
      "First: 0, 0.211589\n",
      "Second: 7, 0.076746\n",
      "Method 1: 14.610760 | 7.329282\n",
      "\n",
      "Baseline: 14.612635 | 7.251368\n",
      "\n",
      "---Iteration 187---\n",
      "\n",
      "[187]\n"
     ]
    },
    {
     "name": "stderr",
     "output_type": "stream",
     "text": [
      "/Users/hundredball/anaconda3/envs/Math24/lib/python3.7/site-packages/sklearn/metrics/_regression.py:582: UndefinedMetricWarning: R^2 score is not well-defined with less than two samples.\n",
      "  warnings.warn(msg, UndefinedMetricWarning)\n",
      "/Users/hundredball/anaconda3/envs/Math24/lib/python3.7/site-packages/sklearn/metrics/_regression.py:582: UndefinedMetricWarning: R^2 score is not well-defined with less than two samples.\n",
      "  warnings.warn(msg, UndefinedMetricWarning)\n"
     ]
    },
    {
     "name": "stdout",
     "output_type": "stream",
     "text": [
      "Select 342 features\n",
      "First: 0, 0.212042\n",
      "Second: 7, 0.075544\n",
      "Method 1: 14.612328 | 5.586132\n",
      "\n",
      "Baseline: 14.614410 | 5.397658\n",
      "\n",
      "---Iteration 188---\n",
      "\n",
      "[188]\n"
     ]
    },
    {
     "name": "stderr",
     "output_type": "stream",
     "text": [
      "/Users/hundredball/anaconda3/envs/Math24/lib/python3.7/site-packages/sklearn/metrics/_regression.py:582: UndefinedMetricWarning: R^2 score is not well-defined with less than two samples.\n",
      "  warnings.warn(msg, UndefinedMetricWarning)\n",
      "/Users/hundredball/anaconda3/envs/Math24/lib/python3.7/site-packages/sklearn/metrics/_regression.py:582: UndefinedMetricWarning: R^2 score is not well-defined with less than two samples.\n",
      "  warnings.warn(msg, UndefinedMetricWarning)\n"
     ]
    },
    {
     "name": "stdout",
     "output_type": "stream",
     "text": [
      "Select 342 features\n",
      "First: 0, 0.212037\n",
      "Second: 7, 0.076285\n",
      "Method 1: 14.609861 | 8.210351\n",
      "\n",
      "Baseline: 14.611843 | 7.940393\n",
      "\n",
      "---Iteration 189---\n",
      "\n",
      "[189]\n"
     ]
    },
    {
     "name": "stderr",
     "output_type": "stream",
     "text": [
      "/Users/hundredball/anaconda3/envs/Math24/lib/python3.7/site-packages/sklearn/metrics/_regression.py:582: UndefinedMetricWarning: R^2 score is not well-defined with less than two samples.\n",
      "  warnings.warn(msg, UndefinedMetricWarning)\n",
      "/Users/hundredball/anaconda3/envs/Math24/lib/python3.7/site-packages/sklearn/metrics/_regression.py:582: UndefinedMetricWarning: R^2 score is not well-defined with less than two samples.\n",
      "  warnings.warn(msg, UndefinedMetricWarning)\n"
     ]
    },
    {
     "name": "stdout",
     "output_type": "stream",
     "text": [
      "Select 342 features\n",
      "First: 0, 0.212297\n",
      "Second: 7, 0.078986\n",
      "Method 1: 14.612862 | 3.807616\n",
      "\n",
      "Baseline: 14.615751 | 3.379521\n",
      "\n",
      "---Iteration 190---\n",
      "\n",
      "[190]\n"
     ]
    },
    {
     "name": "stderr",
     "output_type": "stream",
     "text": [
      "/Users/hundredball/anaconda3/envs/Math24/lib/python3.7/site-packages/sklearn/metrics/_regression.py:582: UndefinedMetricWarning: R^2 score is not well-defined with less than two samples.\n",
      "  warnings.warn(msg, UndefinedMetricWarning)\n",
      "/Users/hundredball/anaconda3/envs/Math24/lib/python3.7/site-packages/sklearn/metrics/_regression.py:582: UndefinedMetricWarning: R^2 score is not well-defined with less than two samples.\n",
      "  warnings.warn(msg, UndefinedMetricWarning)\n"
     ]
    },
    {
     "name": "stdout",
     "output_type": "stream",
     "text": [
      "Select 342 features\n",
      "First: 0, 0.212500\n",
      "Second: 7, 0.075775\n",
      "Method 1: 14.613791 | 3.144580\n",
      "\n",
      "Baseline: 14.615814 | 3.254296\n",
      "\n",
      "---Iteration 191---\n",
      "\n",
      "[191]\n"
     ]
    },
    {
     "name": "stderr",
     "output_type": "stream",
     "text": [
      "/Users/hundredball/anaconda3/envs/Math24/lib/python3.7/site-packages/sklearn/metrics/_regression.py:582: UndefinedMetricWarning: R^2 score is not well-defined with less than two samples.\n",
      "  warnings.warn(msg, UndefinedMetricWarning)\n",
      "/Users/hundredball/anaconda3/envs/Math24/lib/python3.7/site-packages/sklearn/metrics/_regression.py:582: UndefinedMetricWarning: R^2 score is not well-defined with less than two samples.\n",
      "  warnings.warn(msg, UndefinedMetricWarning)\n"
     ]
    },
    {
     "name": "stdout",
     "output_type": "stream",
     "text": [
      "Select 342 features\n",
      "First: 0, 0.217416\n",
      "Second: 7, 0.066831\n",
      "Method 1: 14.281248 | 65.986337\n",
      "\n",
      "Baseline: 14.282921 | 66.022069\n",
      "\n",
      "---Iteration 192---\n",
      "\n",
      "[192]\n"
     ]
    },
    {
     "name": "stderr",
     "output_type": "stream",
     "text": [
      "/Users/hundredball/anaconda3/envs/Math24/lib/python3.7/site-packages/sklearn/metrics/_regression.py:582: UndefinedMetricWarning: R^2 score is not well-defined with less than two samples.\n",
      "  warnings.warn(msg, UndefinedMetricWarning)\n",
      "/Users/hundredball/anaconda3/envs/Math24/lib/python3.7/site-packages/sklearn/metrics/_regression.py:582: UndefinedMetricWarning: R^2 score is not well-defined with less than two samples.\n",
      "  warnings.warn(msg, UndefinedMetricWarning)\n"
     ]
    },
    {
     "name": "stdout",
     "output_type": "stream",
     "text": [
      "Select 342 features\n",
      "First: 0, 0.212342\n",
      "Second: 7, 0.079452\n",
      "Method 1: 14.613515 | 1.947515\n",
      "\n",
      "Baseline: 14.616117 | 2.567229\n",
      "\n",
      "---Iteration 193---\n",
      "\n",
      "[193]\n"
     ]
    },
    {
     "name": "stderr",
     "output_type": "stream",
     "text": [
      "/Users/hundredball/anaconda3/envs/Math24/lib/python3.7/site-packages/sklearn/metrics/_regression.py:582: UndefinedMetricWarning: R^2 score is not well-defined with less than two samples.\n",
      "  warnings.warn(msg, UndefinedMetricWarning)\n",
      "/Users/hundredball/anaconda3/envs/Math24/lib/python3.7/site-packages/sklearn/metrics/_regression.py:582: UndefinedMetricWarning: R^2 score is not well-defined with less than two samples.\n",
      "  warnings.warn(msg, UndefinedMetricWarning)\n"
     ]
    },
    {
     "name": "stdout",
     "output_type": "stream",
     "text": [
      "Select 342 features\n",
      "First: 0, 0.212251\n",
      "Second: 7, 0.074200\n",
      "Method 1: 14.614150 | 3.088057\n",
      "\n",
      "Baseline: 14.615792 | 3.297360\n",
      "\n",
      "---Iteration 194---\n",
      "\n",
      "[194]\n"
     ]
    },
    {
     "name": "stderr",
     "output_type": "stream",
     "text": [
      "/Users/hundredball/anaconda3/envs/Math24/lib/python3.7/site-packages/sklearn/metrics/_regression.py:582: UndefinedMetricWarning: R^2 score is not well-defined with less than two samples.\n",
      "  warnings.warn(msg, UndefinedMetricWarning)\n",
      "/Users/hundredball/anaconda3/envs/Math24/lib/python3.7/site-packages/sklearn/metrics/_regression.py:582: UndefinedMetricWarning: R^2 score is not well-defined with less than two samples.\n",
      "  warnings.warn(msg, UndefinedMetricWarning)\n"
     ]
    },
    {
     "name": "stdout",
     "output_type": "stream",
     "text": [
      "Select 342 features\n",
      "First: 0, 0.214354\n",
      "Second: 7, 0.084129\n",
      "Method 1: 14.565425 | 25.299661\n",
      "\n",
      "Baseline: 14.567545 | 25.442056\n",
      "\n",
      "---Iteration 195---\n",
      "\n",
      "[195]\n"
     ]
    },
    {
     "name": "stderr",
     "output_type": "stream",
     "text": [
      "/Users/hundredball/anaconda3/envs/Math24/lib/python3.7/site-packages/sklearn/metrics/_regression.py:582: UndefinedMetricWarning: R^2 score is not well-defined with less than two samples.\n",
      "  warnings.warn(msg, UndefinedMetricWarning)\n",
      "/Users/hundredball/anaconda3/envs/Math24/lib/python3.7/site-packages/sklearn/metrics/_regression.py:582: UndefinedMetricWarning: R^2 score is not well-defined with less than two samples.\n",
      "  warnings.warn(msg, UndefinedMetricWarning)\n"
     ]
    },
    {
     "name": "stdout",
     "output_type": "stream",
     "text": [
      "Select 342 features\n",
      "First: 0, 0.217919\n",
      "Second: 7, 0.079591\n",
      "Method 1: 14.520296 | 34.823572\n",
      "\n",
      "Baseline: 14.523421 | 35.035546\n",
      "\n",
      "---Iteration 196---\n",
      "\n",
      "[196]\n"
     ]
    },
    {
     "name": "stderr",
     "output_type": "stream",
     "text": [
      "/Users/hundredball/anaconda3/envs/Math24/lib/python3.7/site-packages/sklearn/metrics/_regression.py:582: UndefinedMetricWarning: R^2 score is not well-defined with less than two samples.\n",
      "  warnings.warn(msg, UndefinedMetricWarning)\n",
      "/Users/hundredball/anaconda3/envs/Math24/lib/python3.7/site-packages/sklearn/metrics/_regression.py:582: UndefinedMetricWarning: R^2 score is not well-defined with less than two samples.\n",
      "  warnings.warn(msg, UndefinedMetricWarning)\n"
     ]
    },
    {
     "name": "stdout",
     "output_type": "stream",
     "text": [
      "Select 342 features\n",
      "First: 0, 0.220355\n",
      "Second: 7, 0.068553\n",
      "Method 1: 14.163651 | 76.502387\n",
      "\n",
      "Baseline: 14.165711 | 76.590372\n",
      "\n",
      "---Iteration 197---\n",
      "\n",
      "[197]\n"
     ]
    },
    {
     "name": "stderr",
     "output_type": "stream",
     "text": [
      "/Users/hundredball/anaconda3/envs/Math24/lib/python3.7/site-packages/sklearn/metrics/_regression.py:582: UndefinedMetricWarning: R^2 score is not well-defined with less than two samples.\n",
      "  warnings.warn(msg, UndefinedMetricWarning)\n",
      "/Users/hundredball/anaconda3/envs/Math24/lib/python3.7/site-packages/sklearn/metrics/_regression.py:582: UndefinedMetricWarning: R^2 score is not well-defined with less than two samples.\n",
      "  warnings.warn(msg, UndefinedMetricWarning)\n"
     ]
    },
    {
     "name": "stdout",
     "output_type": "stream",
     "text": [
      "Select 342 features\n",
      "First: 0, 0.217232\n",
      "Second: 7, 0.081997\n",
      "Method 1: 14.451121 | 46.301261\n",
      "\n",
      "Baseline: 14.452505 | 46.435768\n",
      "\n",
      "---Iteration 198---\n",
      "\n",
      "[198]\n"
     ]
    },
    {
     "name": "stderr",
     "output_type": "stream",
     "text": [
      "/Users/hundredball/anaconda3/envs/Math24/lib/python3.7/site-packages/sklearn/metrics/_regression.py:582: UndefinedMetricWarning: R^2 score is not well-defined with less than two samples.\n",
      "  warnings.warn(msg, UndefinedMetricWarning)\n",
      "/Users/hundredball/anaconda3/envs/Math24/lib/python3.7/site-packages/sklearn/metrics/_regression.py:582: UndefinedMetricWarning: R^2 score is not well-defined with less than two samples.\n",
      "  warnings.warn(msg, UndefinedMetricWarning)\n"
     ]
    },
    {
     "name": "stdout",
     "output_type": "stream",
     "text": [
      "Select 342 features\n",
      "First: 0, 0.212443\n",
      "Second: 7, 0.075988\n",
      "Method 1: 14.614280 | 0.587545\n",
      "\n",
      "Baseline: 14.616544 | 0.973860\n",
      "\n",
      "---Iteration 199---\n",
      "\n",
      "[199]\n"
     ]
    },
    {
     "name": "stderr",
     "output_type": "stream",
     "text": [
      "/Users/hundredball/anaconda3/envs/Math24/lib/python3.7/site-packages/sklearn/metrics/_regression.py:582: UndefinedMetricWarning: R^2 score is not well-defined with less than two samples.\n",
      "  warnings.warn(msg, UndefinedMetricWarning)\n",
      "/Users/hundredball/anaconda3/envs/Math24/lib/python3.7/site-packages/sklearn/metrics/_regression.py:582: UndefinedMetricWarning: R^2 score is not well-defined with less than two samples.\n",
      "  warnings.warn(msg, UndefinedMetricWarning)\n"
     ]
    },
    {
     "name": "stdout",
     "output_type": "stream",
     "text": [
      "Select 342 features\n",
      "First: 0, 0.212435\n",
      "Second: 7, 0.074698\n",
      "Method 1: 14.613658 | 3.069394\n",
      "\n",
      "Baseline: 14.615977 | 2.903859\n",
      "\n",
      "---Iteration 200---\n",
      "\n",
      "[200]\n"
     ]
    },
    {
     "name": "stderr",
     "output_type": "stream",
     "text": [
      "/Users/hundredball/anaconda3/envs/Math24/lib/python3.7/site-packages/sklearn/metrics/_regression.py:582: UndefinedMetricWarning: R^2 score is not well-defined with less than two samples.\n",
      "  warnings.warn(msg, UndefinedMetricWarning)\n",
      "/Users/hundredball/anaconda3/envs/Math24/lib/python3.7/site-packages/sklearn/metrics/_regression.py:582: UndefinedMetricWarning: R^2 score is not well-defined with less than two samples.\n",
      "  warnings.warn(msg, UndefinedMetricWarning)\n"
     ]
    },
    {
     "name": "stdout",
     "output_type": "stream",
     "text": [
      "Select 342 features\n",
      "First: 0, 0.212483\n",
      "Second: 7, 0.072721\n",
      "Method 1: 14.614873 | 0.808645\n",
      "\n",
      "Baseline: 14.616565 | 0.813297\n",
      "\n",
      "---Iteration 201---\n",
      "\n",
      "[201]\n"
     ]
    },
    {
     "name": "stderr",
     "output_type": "stream",
     "text": [
      "/Users/hundredball/anaconda3/envs/Math24/lib/python3.7/site-packages/sklearn/metrics/_regression.py:582: UndefinedMetricWarning: R^2 score is not well-defined with less than two samples.\n",
      "  warnings.warn(msg, UndefinedMetricWarning)\n",
      "/Users/hundredball/anaconda3/envs/Math24/lib/python3.7/site-packages/sklearn/metrics/_regression.py:582: UndefinedMetricWarning: R^2 score is not well-defined with less than two samples.\n",
      "  warnings.warn(msg, UndefinedMetricWarning)\n"
     ]
    },
    {
     "name": "stdout",
     "output_type": "stream",
     "text": [
      "Select 342 features\n",
      "First: 0, 0.212574\n",
      "Second: 7, 0.072738\n",
      "Method 1: 14.609400 | 8.552181\n",
      "\n",
      "Baseline: 14.610759 | 8.795853\n",
      "\n",
      "---Iteration 202---\n",
      "\n",
      "[202]\n"
     ]
    },
    {
     "name": "stderr",
     "output_type": "stream",
     "text": [
      "/Users/hundredball/anaconda3/envs/Math24/lib/python3.7/site-packages/sklearn/metrics/_regression.py:582: UndefinedMetricWarning: R^2 score is not well-defined with less than two samples.\n",
      "  warnings.warn(msg, UndefinedMetricWarning)\n",
      "/Users/hundredball/anaconda3/envs/Math24/lib/python3.7/site-packages/sklearn/metrics/_regression.py:582: UndefinedMetricWarning: R^2 score is not well-defined with less than two samples.\n",
      "  warnings.warn(msg, UndefinedMetricWarning)\n"
     ]
    },
    {
     "name": "stdout",
     "output_type": "stream",
     "text": [
      "Select 342 features\n",
      "First: 0, 0.212511\n",
      "Second: 7, 0.075497\n",
      "Method 1: 14.614422 | 0.421995\n",
      "\n",
      "Baseline: 14.616607 | 0.339645\n",
      "\n",
      "---Iteration 203---\n",
      "\n",
      "[203]\n"
     ]
    },
    {
     "name": "stderr",
     "output_type": "stream",
     "text": [
      "/Users/hundredball/anaconda3/envs/Math24/lib/python3.7/site-packages/sklearn/metrics/_regression.py:582: UndefinedMetricWarning: R^2 score is not well-defined with less than two samples.\n",
      "  warnings.warn(msg, UndefinedMetricWarning)\n",
      "/Users/hundredball/anaconda3/envs/Math24/lib/python3.7/site-packages/sklearn/metrics/_regression.py:582: UndefinedMetricWarning: R^2 score is not well-defined with less than two samples.\n",
      "  warnings.warn(msg, UndefinedMetricWarning)\n"
     ]
    },
    {
     "name": "stdout",
     "output_type": "stream",
     "text": [
      "Select 342 features\n",
      "First: 0, 0.212238\n",
      "Second: 7, 0.074562\n",
      "Method 1: 14.614074 | 3.335056\n",
      "\n",
      "Baseline: 14.615618 | 3.630127\n",
      "\n",
      "---Iteration 204---\n",
      "\n",
      "[204]\n"
     ]
    },
    {
     "name": "stderr",
     "output_type": "stream",
     "text": [
      "/Users/hundredball/anaconda3/envs/Math24/lib/python3.7/site-packages/sklearn/metrics/_regression.py:582: UndefinedMetricWarning: R^2 score is not well-defined with less than two samples.\n",
      "  warnings.warn(msg, UndefinedMetricWarning)\n",
      "/Users/hundredball/anaconda3/envs/Math24/lib/python3.7/site-packages/sklearn/metrics/_regression.py:582: UndefinedMetricWarning: R^2 score is not well-defined with less than two samples.\n",
      "  warnings.warn(msg, UndefinedMetricWarning)\n"
     ]
    },
    {
     "name": "stdout",
     "output_type": "stream",
     "text": [
      "Select 342 features\n",
      "First: 0, 0.212283\n",
      "Second: 7, 0.064514\n",
      "Method 1: 14.484687 | 41.512227\n",
      "\n",
      "Baseline: 14.487671 | 41.185872\n",
      "\n",
      "---Iteration 205---\n",
      "\n",
      "[205]\n"
     ]
    },
    {
     "name": "stderr",
     "output_type": "stream",
     "text": [
      "/Users/hundredball/anaconda3/envs/Math24/lib/python3.7/site-packages/sklearn/metrics/_regression.py:582: UndefinedMetricWarning: R^2 score is not well-defined with less than two samples.\n",
      "  warnings.warn(msg, UndefinedMetricWarning)\n",
      "/Users/hundredball/anaconda3/envs/Math24/lib/python3.7/site-packages/sklearn/metrics/_regression.py:582: UndefinedMetricWarning: R^2 score is not well-defined with less than two samples.\n",
      "  warnings.warn(msg, UndefinedMetricWarning)\n"
     ]
    },
    {
     "name": "stdout",
     "output_type": "stream",
     "text": [
      "Select 342 features\n",
      "First: 0, 0.213757\n",
      "Second: 7, 0.073206\n",
      "Method 1: 14.538280 | 31.539991\n",
      "\n",
      "Baseline: 14.540752 | 31.619786\n",
      "\n",
      "---Iteration 206---\n",
      "\n",
      "[206]\n"
     ]
    },
    {
     "name": "stderr",
     "output_type": "stream",
     "text": [
      "/Users/hundredball/anaconda3/envs/Math24/lib/python3.7/site-packages/sklearn/metrics/_regression.py:582: UndefinedMetricWarning: R^2 score is not well-defined with less than two samples.\n",
      "  warnings.warn(msg, UndefinedMetricWarning)\n",
      "/Users/hundredball/anaconda3/envs/Math24/lib/python3.7/site-packages/sklearn/metrics/_regression.py:582: UndefinedMetricWarning: R^2 score is not well-defined with less than two samples.\n",
      "  warnings.warn(msg, UndefinedMetricWarning)\n"
     ]
    },
    {
     "name": "stdout",
     "output_type": "stream",
     "text": [
      "Select 342 features\n",
      "First: 0, 0.212280\n",
      "Second: 7, 0.076339\n",
      "Method 1: 14.613710 | 3.160450\n",
      "\n",
      "Baseline: 14.615719 | 3.442212\n",
      "\n",
      "---Iteration 207---\n",
      "\n",
      "[207]\n"
     ]
    },
    {
     "name": "stderr",
     "output_type": "stream",
     "text": [
      "/Users/hundredball/anaconda3/envs/Math24/lib/python3.7/site-packages/sklearn/metrics/_regression.py:582: UndefinedMetricWarning: R^2 score is not well-defined with less than two samples.\n",
      "  warnings.warn(msg, UndefinedMetricWarning)\n",
      "/Users/hundredball/anaconda3/envs/Math24/lib/python3.7/site-packages/sklearn/metrics/_regression.py:582: UndefinedMetricWarning: R^2 score is not well-defined with less than two samples.\n",
      "  warnings.warn(msg, UndefinedMetricWarning)\n"
     ]
    },
    {
     "name": "stdout",
     "output_type": "stream",
     "text": [
      "Select 342 features\n",
      "First: 0, 0.212123\n",
      "Second: 7, 0.076852\n",
      "Method 1: 14.609614 | 7.341319\n",
      "\n",
      "Baseline: 14.612096 | 7.727082\n",
      "\n",
      "---Iteration 208---\n",
      "\n",
      "[208]\n"
     ]
    },
    {
     "name": "stderr",
     "output_type": "stream",
     "text": [
      "/Users/hundredball/anaconda3/envs/Math24/lib/python3.7/site-packages/sklearn/metrics/_regression.py:582: UndefinedMetricWarning: R^2 score is not well-defined with less than two samples.\n",
      "  warnings.warn(msg, UndefinedMetricWarning)\n",
      "/Users/hundredball/anaconda3/envs/Math24/lib/python3.7/site-packages/sklearn/metrics/_regression.py:582: UndefinedMetricWarning: R^2 score is not well-defined with less than two samples.\n",
      "  warnings.warn(msg, UndefinedMetricWarning)\n"
     ]
    },
    {
     "name": "stdout",
     "output_type": "stream",
     "text": [
      "Select 342 features\n",
      "First: 0, 0.226021\n",
      "Second: 5, 0.074358\n",
      "Method 1: 14.069224 | 83.068463\n",
      "\n",
      "Baseline: 14.081219 | 83.335764\n",
      "\n",
      "---Iteration 209---\n",
      "\n",
      "[209]\n"
     ]
    },
    {
     "name": "stderr",
     "output_type": "stream",
     "text": [
      "/Users/hundredball/anaconda3/envs/Math24/lib/python3.7/site-packages/sklearn/metrics/_regression.py:582: UndefinedMetricWarning: R^2 score is not well-defined with less than two samples.\n",
      "  warnings.warn(msg, UndefinedMetricWarning)\n",
      "/Users/hundredball/anaconda3/envs/Math24/lib/python3.7/site-packages/sklearn/metrics/_regression.py:582: UndefinedMetricWarning: R^2 score is not well-defined with less than two samples.\n",
      "  warnings.warn(msg, UndefinedMetricWarning)\n"
     ]
    },
    {
     "name": "stdout",
     "output_type": "stream",
     "text": [
      "Select 342 features\n",
      "First: 0, 0.212169\n",
      "Second: 7, 0.074586\n",
      "Method 1: 14.613855 | 3.897603\n",
      "\n",
      "Baseline: 14.615397 | 4.011831\n",
      "\n",
      "---Iteration 210---\n",
      "\n",
      "[210]\n"
     ]
    },
    {
     "name": "stderr",
     "output_type": "stream",
     "text": [
      "/Users/hundredball/anaconda3/envs/Math24/lib/python3.7/site-packages/sklearn/metrics/_regression.py:582: UndefinedMetricWarning: R^2 score is not well-defined with less than two samples.\n",
      "  warnings.warn(msg, UndefinedMetricWarning)\n",
      "/Users/hundredball/anaconda3/envs/Math24/lib/python3.7/site-packages/sklearn/metrics/_regression.py:582: UndefinedMetricWarning: R^2 score is not well-defined with less than two samples.\n",
      "  warnings.warn(msg, UndefinedMetricWarning)\n"
     ]
    },
    {
     "name": "stdout",
     "output_type": "stream",
     "text": [
      "Select 342 features\n",
      "First: 0, 0.212468\n",
      "Second: 7, 0.077224\n",
      "Method 1: 14.606870 | 10.041581\n",
      "\n",
      "Baseline: 14.608509 | 10.348115\n",
      "\n",
      "---Iteration 211---\n",
      "\n",
      "[211]\n"
     ]
    },
    {
     "name": "stderr",
     "output_type": "stream",
     "text": [
      "/Users/hundredball/anaconda3/envs/Math24/lib/python3.7/site-packages/sklearn/metrics/_regression.py:582: UndefinedMetricWarning: R^2 score is not well-defined with less than two samples.\n",
      "  warnings.warn(msg, UndefinedMetricWarning)\n",
      "/Users/hundredball/anaconda3/envs/Math24/lib/python3.7/site-packages/sklearn/metrics/_regression.py:582: UndefinedMetricWarning: R^2 score is not well-defined with less than two samples.\n",
      "  warnings.warn(msg, UndefinedMetricWarning)\n"
     ]
    },
    {
     "name": "stdout",
     "output_type": "stream",
     "text": [
      "Select 342 features\n",
      "First: 0, 0.214565\n",
      "Second: 7, 0.067865\n",
      "Method 1: 14.611881 | 6.737349\n",
      "\n",
      "Baseline: 14.613283 | 6.634770\n",
      "\n",
      "---Iteration 212---\n",
      "\n",
      "[212]\n"
     ]
    },
    {
     "name": "stderr",
     "output_type": "stream",
     "text": [
      "/Users/hundredball/anaconda3/envs/Math24/lib/python3.7/site-packages/sklearn/metrics/_regression.py:582: UndefinedMetricWarning: R^2 score is not well-defined with less than two samples.\n",
      "  warnings.warn(msg, UndefinedMetricWarning)\n",
      "/Users/hundredball/anaconda3/envs/Math24/lib/python3.7/site-packages/sklearn/metrics/_regression.py:582: UndefinedMetricWarning: R^2 score is not well-defined with less than two samples.\n",
      "  warnings.warn(msg, UndefinedMetricWarning)\n"
     ]
    },
    {
     "name": "stdout",
     "output_type": "stream",
     "text": [
      "Select 342 features\n",
      "First: 0, 0.207567\n",
      "Second: 7, 0.095664\n",
      "Method 1: 14.579793 | 21.426902\n",
      "\n",
      "Baseline: 14.582611 | 21.184590\n",
      "\n",
      "---Iteration 213---\n",
      "\n",
      "[213]\n"
     ]
    },
    {
     "name": "stderr",
     "output_type": "stream",
     "text": [
      "/Users/hundredball/anaconda3/envs/Math24/lib/python3.7/site-packages/sklearn/metrics/_regression.py:582: UndefinedMetricWarning: R^2 score is not well-defined with less than two samples.\n",
      "  warnings.warn(msg, UndefinedMetricWarning)\n",
      "/Users/hundredball/anaconda3/envs/Math24/lib/python3.7/site-packages/sklearn/metrics/_regression.py:582: UndefinedMetricWarning: R^2 score is not well-defined with less than two samples.\n",
      "  warnings.warn(msg, UndefinedMetricWarning)\n"
     ]
    },
    {
     "name": "stdout",
     "output_type": "stream",
     "text": [
      "Select 342 features\n",
      "First: 0, 0.210541\n",
      "Second: 7, 0.076885\n",
      "Method 1: 14.605019 | 11.583906\n",
      "\n",
      "Baseline: 14.606608 | 11.497142\n",
      "\n",
      "---Iteration 214---\n",
      "\n",
      "[214]\n"
     ]
    },
    {
     "name": "stderr",
     "output_type": "stream",
     "text": [
      "/Users/hundredball/anaconda3/envs/Math24/lib/python3.7/site-packages/sklearn/metrics/_regression.py:582: UndefinedMetricWarning: R^2 score is not well-defined with less than two samples.\n",
      "  warnings.warn(msg, UndefinedMetricWarning)\n",
      "/Users/hundredball/anaconda3/envs/Math24/lib/python3.7/site-packages/sklearn/metrics/_regression.py:582: UndefinedMetricWarning: R^2 score is not well-defined with less than two samples.\n",
      "  warnings.warn(msg, UndefinedMetricWarning)\n"
     ]
    },
    {
     "name": "stdout",
     "output_type": "stream",
     "text": [
      "Select 342 features\n",
      "First: 0, 0.215071\n",
      "Second: 7, 0.072348\n",
      "Method 1: 14.609038 | 8.180727\n",
      "\n",
      "Baseline: 14.610996 | 8.615715\n",
      "\n",
      "---Iteration 215---\n",
      "\n",
      "[215]\n"
     ]
    },
    {
     "name": "stderr",
     "output_type": "stream",
     "text": [
      "/Users/hundredball/anaconda3/envs/Math24/lib/python3.7/site-packages/sklearn/metrics/_regression.py:582: UndefinedMetricWarning: R^2 score is not well-defined with less than two samples.\n",
      "  warnings.warn(msg, UndefinedMetricWarning)\n",
      "/Users/hundredball/anaconda3/envs/Math24/lib/python3.7/site-packages/sklearn/metrics/_regression.py:582: UndefinedMetricWarning: R^2 score is not well-defined with less than two samples.\n",
      "  warnings.warn(msg, UndefinedMetricWarning)\n"
     ]
    },
    {
     "name": "stdout",
     "output_type": "stream",
     "text": [
      "Select 342 features\n",
      "First: 0, 0.215681\n",
      "Second: 7, 0.073004\n",
      "Method 1: 14.609285 | 8.696473\n",
      "\n",
      "Baseline: 14.610557 | 8.946525\n",
      "\n",
      "---Iteration 216---\n",
      "\n",
      "[216]\n"
     ]
    },
    {
     "name": "stderr",
     "output_type": "stream",
     "text": [
      "/Users/hundredball/anaconda3/envs/Math24/lib/python3.7/site-packages/sklearn/metrics/_regression.py:582: UndefinedMetricWarning: R^2 score is not well-defined with less than two samples.\n",
      "  warnings.warn(msg, UndefinedMetricWarning)\n",
      "/Users/hundredball/anaconda3/envs/Math24/lib/python3.7/site-packages/sklearn/metrics/_regression.py:582: UndefinedMetricWarning: R^2 score is not well-defined with less than two samples.\n",
      "  warnings.warn(msg, UndefinedMetricWarning)\n"
     ]
    },
    {
     "name": "stdout",
     "output_type": "stream",
     "text": [
      "Select 342 features\n",
      "First: 0, 0.214513\n",
      "Second: 7, 0.075222\n",
      "Method 1: 14.611913 | 5.767188\n",
      "\n",
      "Baseline: 14.614055 | 5.816553\n",
      "\n",
      "---Iteration 217---\n",
      "\n",
      "[217]\n"
     ]
    },
    {
     "name": "stderr",
     "output_type": "stream",
     "text": [
      "/Users/hundredball/anaconda3/envs/Math24/lib/python3.7/site-packages/sklearn/metrics/_regression.py:582: UndefinedMetricWarning: R^2 score is not well-defined with less than two samples.\n",
      "  warnings.warn(msg, UndefinedMetricWarning)\n",
      "/Users/hundredball/anaconda3/envs/Math24/lib/python3.7/site-packages/sklearn/metrics/_regression.py:582: UndefinedMetricWarning: R^2 score is not well-defined with less than two samples.\n",
      "  warnings.warn(msg, UndefinedMetricWarning)\n"
     ]
    },
    {
     "name": "stdout",
     "output_type": "stream",
     "text": [
      "Select 342 features\n",
      "First: 0, 0.213211\n",
      "Second: 7, 0.076576\n",
      "Method 1: 14.614580 | 0.874932\n",
      "\n",
      "Baseline: 14.616496 | 1.253724\n",
      "\n",
      "---Iteration 218---\n",
      "\n",
      "[218]\n"
     ]
    },
    {
     "name": "stderr",
     "output_type": "stream",
     "text": [
      "/Users/hundredball/anaconda3/envs/Math24/lib/python3.7/site-packages/sklearn/metrics/_regression.py:582: UndefinedMetricWarning: R^2 score is not well-defined with less than two samples.\n",
      "  warnings.warn(msg, UndefinedMetricWarning)\n",
      "/Users/hundredball/anaconda3/envs/Math24/lib/python3.7/site-packages/sklearn/metrics/_regression.py:582: UndefinedMetricWarning: R^2 score is not well-defined with less than two samples.\n",
      "  warnings.warn(msg, UndefinedMetricWarning)\n"
     ]
    },
    {
     "name": "stdout",
     "output_type": "stream",
     "text": [
      "Select 342 features\n",
      "First: 0, 0.213012\n",
      "Second: 7, 0.076112\n",
      "Method 1: 14.614819 | 0.495311\n",
      "\n",
      "Baseline: 14.616566 | 0.811339\n",
      "\n",
      "---Iteration 219---\n",
      "\n",
      "[219]\n"
     ]
    },
    {
     "name": "stderr",
     "output_type": "stream",
     "text": [
      "/Users/hundredball/anaconda3/envs/Math24/lib/python3.7/site-packages/sklearn/metrics/_regression.py:582: UndefinedMetricWarning: R^2 score is not well-defined with less than two samples.\n",
      "  warnings.warn(msg, UndefinedMetricWarning)\n",
      "/Users/hundredball/anaconda3/envs/Math24/lib/python3.7/site-packages/sklearn/metrics/_regression.py:582: UndefinedMetricWarning: R^2 score is not well-defined with less than two samples.\n",
      "  warnings.warn(msg, UndefinedMetricWarning)\n"
     ]
    },
    {
     "name": "stdout",
     "output_type": "stream",
     "text": [
      "Select 342 features\n",
      "First: 0, 0.216165\n",
      "Second: 7, 0.073329\n",
      "Method 1: 14.608870 | 8.767154\n",
      "\n",
      "Baseline: 14.610283 | 9.146186\n",
      "\n",
      "---Iteration 220---\n",
      "\n",
      "[220]\n"
     ]
    },
    {
     "name": "stderr",
     "output_type": "stream",
     "text": [
      "/Users/hundredball/anaconda3/envs/Math24/lib/python3.7/site-packages/sklearn/metrics/_regression.py:582: UndefinedMetricWarning: R^2 score is not well-defined with less than two samples.\n",
      "  warnings.warn(msg, UndefinedMetricWarning)\n",
      "/Users/hundredball/anaconda3/envs/Math24/lib/python3.7/site-packages/sklearn/metrics/_regression.py:582: UndefinedMetricWarning: R^2 score is not well-defined with less than two samples.\n",
      "  warnings.warn(msg, UndefinedMetricWarning)\n"
     ]
    },
    {
     "name": "stdout",
     "output_type": "stream",
     "text": [
      "Select 342 features\n",
      "First: 0, 0.213584\n",
      "Second: 7, 0.075070\n",
      "Method 1: 14.614780 | 1.788438\n",
      "\n",
      "Baseline: 14.616312 | 2.001472\n",
      "\n",
      "---Iteration 221---\n",
      "\n",
      "[221]\n"
     ]
    },
    {
     "name": "stderr",
     "output_type": "stream",
     "text": [
      "/Users/hundredball/anaconda3/envs/Math24/lib/python3.7/site-packages/sklearn/metrics/_regression.py:582: UndefinedMetricWarning: R^2 score is not well-defined with less than two samples.\n",
      "  warnings.warn(msg, UndefinedMetricWarning)\n",
      "/Users/hundredball/anaconda3/envs/Math24/lib/python3.7/site-packages/sklearn/metrics/_regression.py:582: UndefinedMetricWarning: R^2 score is not well-defined with less than two samples.\n",
      "  warnings.warn(msg, UndefinedMetricWarning)\n"
     ]
    },
    {
     "name": "stdout",
     "output_type": "stream",
     "text": [
      "Select 342 features\n",
      "First: 0, 0.211014\n",
      "Second: 7, 0.073586\n",
      "Method 1: 14.607575 | 9.735131\n",
      "\n",
      "Baseline: 14.610028 | 9.328281\n",
      "\n",
      "---Iteration 222---\n",
      "\n",
      "[222]\n"
     ]
    },
    {
     "name": "stderr",
     "output_type": "stream",
     "text": [
      "/Users/hundredball/anaconda3/envs/Math24/lib/python3.7/site-packages/sklearn/metrics/_regression.py:582: UndefinedMetricWarning: R^2 score is not well-defined with less than two samples.\n",
      "  warnings.warn(msg, UndefinedMetricWarning)\n",
      "/Users/hundredball/anaconda3/envs/Math24/lib/python3.7/site-packages/sklearn/metrics/_regression.py:582: UndefinedMetricWarning: R^2 score is not well-defined with less than two samples.\n",
      "  warnings.warn(msg, UndefinedMetricWarning)\n"
     ]
    },
    {
     "name": "stdout",
     "output_type": "stream",
     "text": [
      "Select 342 features\n",
      "First: 0, 0.213294\n",
      "Second: 7, 0.075043\n",
      "Method 1: 14.614764 | 0.807546\n",
      "\n",
      "Baseline: 14.616536 | 1.020787\n",
      "\n",
      "---Iteration 223---\n",
      "\n",
      "[223]\n"
     ]
    },
    {
     "name": "stderr",
     "output_type": "stream",
     "text": [
      "/Users/hundredball/anaconda3/envs/Math24/lib/python3.7/site-packages/sklearn/metrics/_regression.py:582: UndefinedMetricWarning: R^2 score is not well-defined with less than two samples.\n",
      "  warnings.warn(msg, UndefinedMetricWarning)\n",
      "/Users/hundredball/anaconda3/envs/Math24/lib/python3.7/site-packages/sklearn/metrics/_regression.py:582: UndefinedMetricWarning: R^2 score is not well-defined with less than two samples.\n",
      "  warnings.warn(msg, UndefinedMetricWarning)\n"
     ]
    },
    {
     "name": "stdout",
     "output_type": "stream",
     "text": [
      "Select 342 features\n",
      "First: 0, 0.214792\n",
      "Second: 7, 0.070878\n",
      "Method 1: 14.610268 | 6.910687\n",
      "\n",
      "Baseline: 14.612706 | 7.186772\n",
      "\n",
      "---Iteration 224---\n",
      "\n",
      "[224]\n"
     ]
    },
    {
     "name": "stderr",
     "output_type": "stream",
     "text": [
      "/Users/hundredball/anaconda3/envs/Math24/lib/python3.7/site-packages/sklearn/metrics/_regression.py:582: UndefinedMetricWarning: R^2 score is not well-defined with less than two samples.\n",
      "  warnings.warn(msg, UndefinedMetricWarning)\n",
      "/Users/hundredball/anaconda3/envs/Math24/lib/python3.7/site-packages/sklearn/metrics/_regression.py:582: UndefinedMetricWarning: R^2 score is not well-defined with less than two samples.\n",
      "  warnings.warn(msg, UndefinedMetricWarning)\n"
     ]
    },
    {
     "name": "stdout",
     "output_type": "stream",
     "text": [
      "Select 342 features\n",
      "First: 0, 0.214920\n",
      "Second: 7, 0.076773\n",
      "Method 1: 14.608892 | 8.107135\n",
      "\n",
      "Baseline: 14.611358 | 8.333841\n",
      "\n",
      "---Iteration 225---\n",
      "\n",
      "[225]\n"
     ]
    },
    {
     "name": "stderr",
     "output_type": "stream",
     "text": [
      "/Users/hundredball/anaconda3/envs/Math24/lib/python3.7/site-packages/sklearn/metrics/_regression.py:582: UndefinedMetricWarning: R^2 score is not well-defined with less than two samples.\n",
      "  warnings.warn(msg, UndefinedMetricWarning)\n",
      "/Users/hundredball/anaconda3/envs/Math24/lib/python3.7/site-packages/sklearn/metrics/_regression.py:582: UndefinedMetricWarning: R^2 score is not well-defined with less than two samples.\n",
      "  warnings.warn(msg, UndefinedMetricWarning)\n"
     ]
    },
    {
     "name": "stdout",
     "output_type": "stream",
     "text": [
      "Select 342 features\n",
      "First: 0, 0.208558\n",
      "Second: 7, 0.080640\n",
      "Method 1: 14.575695 | 22.753832\n",
      "\n",
      "Baseline: 14.579649 | 22.086977\n",
      "\n",
      "---Iteration 226---\n",
      "\n",
      "[226]\n"
     ]
    },
    {
     "name": "stderr",
     "output_type": "stream",
     "text": [
      "/Users/hundredball/anaconda3/envs/Math24/lib/python3.7/site-packages/sklearn/metrics/_regression.py:582: UndefinedMetricWarning: R^2 score is not well-defined with less than two samples.\n",
      "  warnings.warn(msg, UndefinedMetricWarning)\n",
      "/Users/hundredball/anaconda3/envs/Math24/lib/python3.7/site-packages/sklearn/metrics/_regression.py:582: UndefinedMetricWarning: R^2 score is not well-defined with less than two samples.\n",
      "  warnings.warn(msg, UndefinedMetricWarning)\n"
     ]
    },
    {
     "name": "stdout",
     "output_type": "stream",
     "text": [
      "Select 342 features\n",
      "First: 0, 0.210937\n",
      "Second: 7, 0.076648\n",
      "Method 1: 14.608601 | 9.007588\n",
      "\n",
      "Baseline: 14.611395 | 8.304532\n",
      "\n",
      "---Iteration 227---\n",
      "\n",
      "[227]\n"
     ]
    },
    {
     "name": "stderr",
     "output_type": "stream",
     "text": [
      "/Users/hundredball/anaconda3/envs/Math24/lib/python3.7/site-packages/sklearn/metrics/_regression.py:582: UndefinedMetricWarning: R^2 score is not well-defined with less than two samples.\n",
      "  warnings.warn(msg, UndefinedMetricWarning)\n",
      "/Users/hundredball/anaconda3/envs/Math24/lib/python3.7/site-packages/sklearn/metrics/_regression.py:582: UndefinedMetricWarning: R^2 score is not well-defined with less than two samples.\n",
      "  warnings.warn(msg, UndefinedMetricWarning)\n"
     ]
    },
    {
     "name": "stdout",
     "output_type": "stream",
     "text": [
      "Select 342 features\n",
      "First: 0, 0.214921\n",
      "Second: 7, 0.075044\n",
      "Method 1: 14.612144 | 5.881945\n",
      "\n",
      "Baseline: 14.613551 | 6.362684\n",
      "\n",
      "---Iteration 228---\n",
      "\n",
      "[228]\n"
     ]
    },
    {
     "name": "stderr",
     "output_type": "stream",
     "text": [
      "/Users/hundredball/anaconda3/envs/Math24/lib/python3.7/site-packages/sklearn/metrics/_regression.py:582: UndefinedMetricWarning: R^2 score is not well-defined with less than two samples.\n",
      "  warnings.warn(msg, UndefinedMetricWarning)\n",
      "/Users/hundredball/anaconda3/envs/Math24/lib/python3.7/site-packages/sklearn/metrics/_regression.py:582: UndefinedMetricWarning: R^2 score is not well-defined with less than two samples.\n",
      "  warnings.warn(msg, UndefinedMetricWarning)\n"
     ]
    },
    {
     "name": "stdout",
     "output_type": "stream",
     "text": [
      "Select 342 features\n",
      "First: 0, 0.214769\n",
      "Second: 7, 0.077200\n",
      "Method 1: 14.608627 | 7.636035\n",
      "\n",
      "Baseline: 14.611960 | 7.842520\n",
      "\n",
      "---Iteration 229---\n",
      "\n",
      "[229]\n"
     ]
    },
    {
     "name": "stderr",
     "output_type": "stream",
     "text": [
      "/Users/hundredball/anaconda3/envs/Math24/lib/python3.7/site-packages/sklearn/metrics/_regression.py:582: UndefinedMetricWarning: R^2 score is not well-defined with less than two samples.\n",
      "  warnings.warn(msg, UndefinedMetricWarning)\n",
      "/Users/hundredball/anaconda3/envs/Math24/lib/python3.7/site-packages/sklearn/metrics/_regression.py:582: UndefinedMetricWarning: R^2 score is not well-defined with less than two samples.\n",
      "  warnings.warn(msg, UndefinedMetricWarning)\n"
     ]
    },
    {
     "name": "stdout",
     "output_type": "stream",
     "text": [
      "Select 342 features\n",
      "First: 0, 0.212134\n",
      "Second: 7, 0.076745\n",
      "Method 1: 14.613749 | 3.714918\n",
      "\n",
      "Baseline: 14.615725 | 3.430467\n",
      "\n",
      "---Iteration 230---\n",
      "\n",
      "[230]\n"
     ]
    },
    {
     "name": "stderr",
     "output_type": "stream",
     "text": [
      "/Users/hundredball/anaconda3/envs/Math24/lib/python3.7/site-packages/sklearn/metrics/_regression.py:582: UndefinedMetricWarning: R^2 score is not well-defined with less than two samples.\n",
      "  warnings.warn(msg, UndefinedMetricWarning)\n",
      "/Users/hundredball/anaconda3/envs/Math24/lib/python3.7/site-packages/sklearn/metrics/_regression.py:582: UndefinedMetricWarning: R^2 score is not well-defined with less than two samples.\n",
      "  warnings.warn(msg, UndefinedMetricWarning)\n"
     ]
    },
    {
     "name": "stdout",
     "output_type": "stream",
     "text": [
      "Select 342 features\n",
      "First: 0, 0.208301\n",
      "Second: 7, 0.088589\n",
      "Method 1: 14.575321 | 22.870912\n",
      "\n",
      "Baseline: 14.578445 | 22.443234\n",
      "\n",
      "---Iteration 231---\n",
      "\n",
      "[231]\n"
     ]
    },
    {
     "name": "stderr",
     "output_type": "stream",
     "text": [
      "/Users/hundredball/anaconda3/envs/Math24/lib/python3.7/site-packages/sklearn/metrics/_regression.py:582: UndefinedMetricWarning: R^2 score is not well-defined with less than two samples.\n",
      "  warnings.warn(msg, UndefinedMetricWarning)\n",
      "/Users/hundredball/anaconda3/envs/Math24/lib/python3.7/site-packages/sklearn/metrics/_regression.py:582: UndefinedMetricWarning: R^2 score is not well-defined with less than two samples.\n",
      "  warnings.warn(msg, UndefinedMetricWarning)\n"
     ]
    },
    {
     "name": "stdout",
     "output_type": "stream",
     "text": [
      "Select 342 features\n",
      "First: 0, 0.214808\n",
      "Second: 7, 0.077666\n",
      "Method 1: 14.609921 | 7.172989\n",
      "\n",
      "Baseline: 14.612217 | 7.623285\n",
      "\n",
      "---Iteration 232---\n",
      "\n",
      "[232]\n"
     ]
    },
    {
     "name": "stderr",
     "output_type": "stream",
     "text": [
      "/Users/hundredball/anaconda3/envs/Math24/lib/python3.7/site-packages/sklearn/metrics/_regression.py:582: UndefinedMetricWarning: R^2 score is not well-defined with less than two samples.\n",
      "  warnings.warn(msg, UndefinedMetricWarning)\n",
      "/Users/hundredball/anaconda3/envs/Math24/lib/python3.7/site-packages/sklearn/metrics/_regression.py:582: UndefinedMetricWarning: R^2 score is not well-defined with less than two samples.\n",
      "  warnings.warn(msg, UndefinedMetricWarning)\n"
     ]
    },
    {
     "name": "stdout",
     "output_type": "stream",
     "text": [
      "Select 342 features\n",
      "First: 0, 0.214449\n",
      "Second: 7, 0.071832\n",
      "Method 1: 14.614127 | 4.109512\n",
      "\n",
      "Baseline: 14.615267 | 4.221227\n",
      "\n",
      "---Iteration 233---\n",
      "\n",
      "[233]\n"
     ]
    },
    {
     "name": "stderr",
     "output_type": "stream",
     "text": [
      "/Users/hundredball/anaconda3/envs/Math24/lib/python3.7/site-packages/sklearn/metrics/_regression.py:582: UndefinedMetricWarning: R^2 score is not well-defined with less than two samples.\n",
      "  warnings.warn(msg, UndefinedMetricWarning)\n",
      "/Users/hundredball/anaconda3/envs/Math24/lib/python3.7/site-packages/sklearn/metrics/_regression.py:582: UndefinedMetricWarning: R^2 score is not well-defined with less than two samples.\n",
      "  warnings.warn(msg, UndefinedMetricWarning)\n"
     ]
    },
    {
     "name": "stdout",
     "output_type": "stream",
     "text": [
      "Select 342 features\n",
      "First: 0, 0.214564\n",
      "Second: 7, 0.074839\n",
      "Method 1: 14.612081 | 5.812963\n",
      "\n",
      "Baseline: 14.613862 | 6.031874\n",
      "\n",
      "---Iteration 234---\n",
      "\n",
      "[234]\n"
     ]
    },
    {
     "name": "stderr",
     "output_type": "stream",
     "text": [
      "/Users/hundredball/anaconda3/envs/Math24/lib/python3.7/site-packages/sklearn/metrics/_regression.py:582: UndefinedMetricWarning: R^2 score is not well-defined with less than two samples.\n",
      "  warnings.warn(msg, UndefinedMetricWarning)\n",
      "/Users/hundredball/anaconda3/envs/Math24/lib/python3.7/site-packages/sklearn/metrics/_regression.py:582: UndefinedMetricWarning: R^2 score is not well-defined with less than two samples.\n",
      "  warnings.warn(msg, UndefinedMetricWarning)\n"
     ]
    },
    {
     "name": "stdout",
     "output_type": "stream",
     "text": [
      "Select 342 features\n",
      "First: 0, 0.214471\n",
      "Second: 7, 0.073662\n",
      "Method 1: 14.608693 | 8.861928\n",
      "\n",
      "Baseline: 14.610386 | 9.071802\n",
      "\n",
      "---Iteration 235---\n",
      "\n",
      "[235]\n"
     ]
    },
    {
     "name": "stderr",
     "output_type": "stream",
     "text": [
      "/Users/hundredball/anaconda3/envs/Math24/lib/python3.7/site-packages/sklearn/metrics/_regression.py:582: UndefinedMetricWarning: R^2 score is not well-defined with less than two samples.\n",
      "  warnings.warn(msg, UndefinedMetricWarning)\n",
      "/Users/hundredball/anaconda3/envs/Math24/lib/python3.7/site-packages/sklearn/metrics/_regression.py:582: UndefinedMetricWarning: R^2 score is not well-defined with less than two samples.\n",
      "  warnings.warn(msg, UndefinedMetricWarning)\n"
     ]
    },
    {
     "name": "stdout",
     "output_type": "stream",
     "text": [
      "Select 342 features\n",
      "First: 0, 0.211948\n",
      "Second: 7, 0.077261\n",
      "Method 1: 14.613455 | 4.808207\n",
      "\n",
      "Baseline: 14.615114 | 4.454216\n",
      "\n",
      "---Iteration 236---\n",
      "\n",
      "[236]\n"
     ]
    },
    {
     "name": "stderr",
     "output_type": "stream",
     "text": [
      "/Users/hundredball/anaconda3/envs/Math24/lib/python3.7/site-packages/sklearn/metrics/_regression.py:582: UndefinedMetricWarning: R^2 score is not well-defined with less than two samples.\n",
      "  warnings.warn(msg, UndefinedMetricWarning)\n",
      "/Users/hundredball/anaconda3/envs/Math24/lib/python3.7/site-packages/sklearn/metrics/_regression.py:582: UndefinedMetricWarning: R^2 score is not well-defined with less than two samples.\n",
      "  warnings.warn(msg, UndefinedMetricWarning)\n"
     ]
    },
    {
     "name": "stdout",
     "output_type": "stream",
     "text": [
      "Select 342 features\n",
      "First: 0, 0.214934\n",
      "Second: 7, 0.069054\n",
      "Method 1: 14.610028 | 8.017436\n",
      "\n",
      "Baseline: 14.611520 | 8.204649\n",
      "\n",
      "---Iteration 237---\n",
      "\n",
      "[237]\n"
     ]
    },
    {
     "name": "stderr",
     "output_type": "stream",
     "text": [
      "/Users/hundredball/anaconda3/envs/Math24/lib/python3.7/site-packages/sklearn/metrics/_regression.py:582: UndefinedMetricWarning: R^2 score is not well-defined with less than two samples.\n",
      "  warnings.warn(msg, UndefinedMetricWarning)\n",
      "/Users/hundredball/anaconda3/envs/Math24/lib/python3.7/site-packages/sklearn/metrics/_regression.py:582: UndefinedMetricWarning: R^2 score is not well-defined with less than two samples.\n",
      "  warnings.warn(msg, UndefinedMetricWarning)\n"
     ]
    },
    {
     "name": "stdout",
     "output_type": "stream",
     "text": [
      "Select 342 features\n",
      "First: 0, 0.212903\n",
      "Second: 7, 0.075460\n",
      "Method 1: 14.614877 | 0.789136\n",
      "\n",
      "Baseline: 14.616585 | 0.629348\n",
      "\n",
      "---Iteration 238---\n",
      "\n",
      "[238]\n"
     ]
    },
    {
     "name": "stderr",
     "output_type": "stream",
     "text": [
      "/Users/hundredball/anaconda3/envs/Math24/lib/python3.7/site-packages/sklearn/metrics/_regression.py:582: UndefinedMetricWarning: R^2 score is not well-defined with less than two samples.\n",
      "  warnings.warn(msg, UndefinedMetricWarning)\n",
      "/Users/hundredball/anaconda3/envs/Math24/lib/python3.7/site-packages/sklearn/metrics/_regression.py:582: UndefinedMetricWarning: R^2 score is not well-defined with less than two samples.\n",
      "  warnings.warn(msg, UndefinedMetricWarning)\n"
     ]
    },
    {
     "name": "stdout",
     "output_type": "stream",
     "text": [
      "Select 342 features\n",
      "First: 0, 0.215417\n",
      "Second: 7, 0.074216\n",
      "Method 1: 14.609270 | 8.225619\n",
      "\n",
      "Baseline: 14.610881 | 8.703801\n",
      "\n",
      "---Iteration 239---\n",
      "\n",
      "[239]\n"
     ]
    },
    {
     "name": "stderr",
     "output_type": "stream",
     "text": [
      "/Users/hundredball/anaconda3/envs/Math24/lib/python3.7/site-packages/sklearn/metrics/_regression.py:582: UndefinedMetricWarning: R^2 score is not well-defined with less than two samples.\n",
      "  warnings.warn(msg, UndefinedMetricWarning)\n",
      "/Users/hundredball/anaconda3/envs/Math24/lib/python3.7/site-packages/sklearn/metrics/_regression.py:582: UndefinedMetricWarning: R^2 score is not well-defined with less than two samples.\n",
      "  warnings.warn(msg, UndefinedMetricWarning)\n"
     ]
    },
    {
     "name": "stdout",
     "output_type": "stream",
     "text": [
      "Select 342 features\n",
      "First: 0, 0.214381\n",
      "Second: 7, 0.075424\n",
      "Method 1: 14.611260 | 6.984907\n",
      "\n",
      "Baseline: 14.612862 | 7.041921\n",
      "\n",
      "---Iteration 240---\n",
      "\n",
      "[240]\n"
     ]
    },
    {
     "name": "stderr",
     "output_type": "stream",
     "text": [
      "/Users/hundredball/anaconda3/envs/Math24/lib/python3.7/site-packages/sklearn/metrics/_regression.py:582: UndefinedMetricWarning: R^2 score is not well-defined with less than two samples.\n",
      "  warnings.warn(msg, UndefinedMetricWarning)\n",
      "/Users/hundredball/anaconda3/envs/Math24/lib/python3.7/site-packages/sklearn/metrics/_regression.py:582: UndefinedMetricWarning: R^2 score is not well-defined with less than two samples.\n",
      "  warnings.warn(msg, UndefinedMetricWarning)\n"
     ]
    },
    {
     "name": "stdout",
     "output_type": "stream",
     "text": [
      "Select 342 features\n",
      "First: 0, 0.214967\n",
      "Second: 7, 0.075742\n",
      "Method 1: 14.612251 | 5.654102\n",
      "\n",
      "Baseline: 14.613766 | 6.135619\n",
      "\n",
      "---Iteration 241---\n",
      "\n",
      "[241]\n"
     ]
    },
    {
     "name": "stderr",
     "output_type": "stream",
     "text": [
      "/Users/hundredball/anaconda3/envs/Math24/lib/python3.7/site-packages/sklearn/metrics/_regression.py:582: UndefinedMetricWarning: R^2 score is not well-defined with less than two samples.\n",
      "  warnings.warn(msg, UndefinedMetricWarning)\n",
      "/Users/hundredball/anaconda3/envs/Math24/lib/python3.7/site-packages/sklearn/metrics/_regression.py:582: UndefinedMetricWarning: R^2 score is not well-defined with less than two samples.\n",
      "  warnings.warn(msg, UndefinedMetricWarning)\n"
     ]
    },
    {
     "name": "stdout",
     "output_type": "stream",
     "text": [
      "Select 342 features\n",
      "First: 0, 0.214092\n",
      "Second: 7, 0.073906\n",
      "Method 1: 14.613310 | 4.176310\n",
      "\n",
      "Baseline: 14.615154 | 4.393483\n",
      "\n",
      "---Iteration 242---\n",
      "\n",
      "[242]\n"
     ]
    },
    {
     "name": "stderr",
     "output_type": "stream",
     "text": [
      "/Users/hundredball/anaconda3/envs/Math24/lib/python3.7/site-packages/sklearn/metrics/_regression.py:582: UndefinedMetricWarning: R^2 score is not well-defined with less than two samples.\n",
      "  warnings.warn(msg, UndefinedMetricWarning)\n",
      "/Users/hundredball/anaconda3/envs/Math24/lib/python3.7/site-packages/sklearn/metrics/_regression.py:582: UndefinedMetricWarning: R^2 score is not well-defined with less than two samples.\n",
      "  warnings.warn(msg, UndefinedMetricWarning)\n"
     ]
    },
    {
     "name": "stdout",
     "output_type": "stream",
     "text": [
      "Select 342 features\n",
      "First: 0, 0.209982\n",
      "Second: 7, 0.081025\n",
      "Method 1: 14.601441 | 13.149838\n",
      "\n",
      "Baseline: 14.603676 | 13.072894\n",
      "\n",
      "---Iteration 243---\n",
      "\n",
      "[243]\n"
     ]
    },
    {
     "name": "stderr",
     "output_type": "stream",
     "text": [
      "/Users/hundredball/anaconda3/envs/Math24/lib/python3.7/site-packages/sklearn/metrics/_regression.py:582: UndefinedMetricWarning: R^2 score is not well-defined with less than two samples.\n",
      "  warnings.warn(msg, UndefinedMetricWarning)\n",
      "/Users/hundredball/anaconda3/envs/Math24/lib/python3.7/site-packages/sklearn/metrics/_regression.py:582: UndefinedMetricWarning: R^2 score is not well-defined with less than two samples.\n",
      "  warnings.warn(msg, UndefinedMetricWarning)\n"
     ]
    },
    {
     "name": "stdout",
     "output_type": "stream",
     "text": [
      "Select 342 features\n",
      "First: 0, 0.212214\n",
      "Second: 7, 0.073924\n",
      "Method 1: 14.614129 | 3.795510\n",
      "\n",
      "Baseline: 14.615708 | 3.461786\n",
      "\n",
      "---Iteration 244---\n",
      "\n",
      "[244]\n"
     ]
    },
    {
     "name": "stderr",
     "output_type": "stream",
     "text": [
      "/Users/hundredball/anaconda3/envs/Math24/lib/python3.7/site-packages/sklearn/metrics/_regression.py:582: UndefinedMetricWarning: R^2 score is not well-defined with less than two samples.\n",
      "  warnings.warn(msg, UndefinedMetricWarning)\n",
      "/Users/hundredball/anaconda3/envs/Math24/lib/python3.7/site-packages/sklearn/metrics/_regression.py:582: UndefinedMetricWarning: R^2 score is not well-defined with less than two samples.\n",
      "  warnings.warn(msg, UndefinedMetricWarning)\n"
     ]
    },
    {
     "name": "stdout",
     "output_type": "stream",
     "text": [
      "Select 342 features\n",
      "First: 0, 0.212911\n",
      "Second: 7, 0.076407\n",
      "Method 1: 14.614612 | 0.884681\n",
      "\n",
      "Baseline: 14.616597 | 0.492326\n",
      "\n",
      "---Iteration 245---\n",
      "\n",
      "[245]\n"
     ]
    },
    {
     "name": "stderr",
     "output_type": "stream",
     "text": [
      "/Users/hundredball/anaconda3/envs/Math24/lib/python3.7/site-packages/sklearn/metrics/_regression.py:582: UndefinedMetricWarning: R^2 score is not well-defined with less than two samples.\n",
      "  warnings.warn(msg, UndefinedMetricWarning)\n",
      "/Users/hundredball/anaconda3/envs/Math24/lib/python3.7/site-packages/sklearn/metrics/_regression.py:582: UndefinedMetricWarning: R^2 score is not well-defined with less than two samples.\n",
      "  warnings.warn(msg, UndefinedMetricWarning)\n"
     ]
    },
    {
     "name": "stdout",
     "output_type": "stream",
     "text": [
      "Select 342 features\n",
      "First: 0, 0.214267\n",
      "Second: 7, 0.072954\n",
      "Method 1: 14.612011 | 6.083925\n",
      "\n",
      "Baseline: 14.613591 | 6.321577\n",
      "\n",
      "---Iteration 246---\n",
      "\n",
      "[246]\n"
     ]
    },
    {
     "name": "stderr",
     "output_type": "stream",
     "text": [
      "/Users/hundredball/anaconda3/envs/Math24/lib/python3.7/site-packages/sklearn/metrics/_regression.py:582: UndefinedMetricWarning: R^2 score is not well-defined with less than two samples.\n",
      "  warnings.warn(msg, UndefinedMetricWarning)\n",
      "/Users/hundredball/anaconda3/envs/Math24/lib/python3.7/site-packages/sklearn/metrics/_regression.py:582: UndefinedMetricWarning: R^2 score is not well-defined with less than two samples.\n",
      "  warnings.warn(msg, UndefinedMetricWarning)\n"
     ]
    },
    {
     "name": "stdout",
     "output_type": "stream",
     "text": [
      "Select 342 features\n",
      "First: 0, 0.213005\n",
      "Second: 7, 0.075330\n",
      "Method 1: 14.614094 | 3.106141\n",
      "\n",
      "Baseline: 14.615843 | 3.193563\n",
      "\n",
      "---Iteration 247---\n",
      "\n",
      "[247]\n"
     ]
    },
    {
     "name": "stderr",
     "output_type": "stream",
     "text": [
      "/Users/hundredball/anaconda3/envs/Math24/lib/python3.7/site-packages/sklearn/metrics/_regression.py:582: UndefinedMetricWarning: R^2 score is not well-defined with less than two samples.\n",
      "  warnings.warn(msg, UndefinedMetricWarning)\n",
      "/Users/hundredball/anaconda3/envs/Math24/lib/python3.7/site-packages/sklearn/metrics/_regression.py:582: UndefinedMetricWarning: R^2 score is not well-defined with less than two samples.\n",
      "  warnings.warn(msg, UndefinedMetricWarning)\n"
     ]
    },
    {
     "name": "stdout",
     "output_type": "stream",
     "text": [
      "Select 342 features\n",
      "First: 0, 0.210598\n",
      "Second: 7, 0.079347\n",
      "Method 1: 14.600769 | 13.449525\n",
      "\n",
      "Baseline: 14.602805 | 13.505491\n",
      "\n",
      "---Iteration 248---\n",
      "\n",
      "[248]\n"
     ]
    },
    {
     "name": "stderr",
     "output_type": "stream",
     "text": [
      "/Users/hundredball/anaconda3/envs/Math24/lib/python3.7/site-packages/sklearn/metrics/_regression.py:582: UndefinedMetricWarning: R^2 score is not well-defined with less than two samples.\n",
      "  warnings.warn(msg, UndefinedMetricWarning)\n",
      "/Users/hundredball/anaconda3/envs/Math24/lib/python3.7/site-packages/sklearn/metrics/_regression.py:582: UndefinedMetricWarning: R^2 score is not well-defined with less than two samples.\n",
      "  warnings.warn(msg, UndefinedMetricWarning)\n"
     ]
    },
    {
     "name": "stdout",
     "output_type": "stream",
     "text": [
      "Select 342 features\n",
      "First: 0, 0.214576\n",
      "Second: 7, 0.075709\n",
      "Method 1: 14.610389 | 7.316137\n",
      "\n",
      "Baseline: 14.612429 | 7.437327\n",
      "\n",
      "---Iteration 249---\n",
      "\n",
      "[249]\n"
     ]
    },
    {
     "name": "stderr",
     "output_type": "stream",
     "text": [
      "/Users/hundredball/anaconda3/envs/Math24/lib/python3.7/site-packages/sklearn/metrics/_regression.py:582: UndefinedMetricWarning: R^2 score is not well-defined with less than two samples.\n",
      "  warnings.warn(msg, UndefinedMetricWarning)\n",
      "/Users/hundredball/anaconda3/envs/Math24/lib/python3.7/site-packages/sklearn/metrics/_regression.py:582: UndefinedMetricWarning: R^2 score is not well-defined with less than two samples.\n",
      "  warnings.warn(msg, UndefinedMetricWarning)\n"
     ]
    },
    {
     "name": "stdout",
     "output_type": "stream",
     "text": [
      "Select 342 features\n",
      "First: 0, 0.210741\n",
      "Second: 7, 0.081145\n",
      "Method 1: 14.604100 | 11.603976\n",
      "\n",
      "Baseline: 14.606378 | 11.628291\n",
      "\n",
      "---Iteration 250---\n",
      "\n",
      "[250]\n"
     ]
    },
    {
     "name": "stderr",
     "output_type": "stream",
     "text": [
      "/Users/hundredball/anaconda3/envs/Math24/lib/python3.7/site-packages/sklearn/metrics/_regression.py:582: UndefinedMetricWarning: R^2 score is not well-defined with less than two samples.\n",
      "  warnings.warn(msg, UndefinedMetricWarning)\n",
      "/Users/hundredball/anaconda3/envs/Math24/lib/python3.7/site-packages/sklearn/metrics/_regression.py:582: UndefinedMetricWarning: R^2 score is not well-defined with less than two samples.\n",
      "  warnings.warn(msg, UndefinedMetricWarning)\n"
     ]
    },
    {
     "name": "stdout",
     "output_type": "stream",
     "text": [
      "Select 342 features\n",
      "First: 0, 0.214554\n",
      "Second: 7, 0.076783\n",
      "Method 1: 14.608104 | 9.012316\n",
      "\n",
      "Baseline: 14.610297 | 9.136398\n",
      "\n",
      "---Iteration 251---\n",
      "\n",
      "[251]\n"
     ]
    },
    {
     "name": "stderr",
     "output_type": "stream",
     "text": [
      "/Users/hundredball/anaconda3/envs/Math24/lib/python3.7/site-packages/sklearn/metrics/_regression.py:582: UndefinedMetricWarning: R^2 score is not well-defined with less than two samples.\n",
      "  warnings.warn(msg, UndefinedMetricWarning)\n",
      "/Users/hundredball/anaconda3/envs/Math24/lib/python3.7/site-packages/sklearn/metrics/_regression.py:582: UndefinedMetricWarning: R^2 score is not well-defined with less than two samples.\n",
      "  warnings.warn(msg, UndefinedMetricWarning)\n"
     ]
    },
    {
     "name": "stdout",
     "output_type": "stream",
     "text": [
      "Select 342 features\n",
      "First: 0, 0.210542\n",
      "Second: 7, 0.074825\n",
      "Method 1: 14.603746 | 11.816699\n",
      "\n",
      "Baseline: 14.607073 | 11.227013\n",
      "\n",
      "---Iteration 252---\n",
      "\n",
      "[252]\n"
     ]
    },
    {
     "name": "stderr",
     "output_type": "stream",
     "text": [
      "/Users/hundredball/anaconda3/envs/Math24/lib/python3.7/site-packages/sklearn/metrics/_regression.py:582: UndefinedMetricWarning: R^2 score is not well-defined with less than two samples.\n",
      "  warnings.warn(msg, UndefinedMetricWarning)\n",
      "/Users/hundredball/anaconda3/envs/Math24/lib/python3.7/site-packages/sklearn/metrics/_regression.py:582: UndefinedMetricWarning: R^2 score is not well-defined with less than two samples.\n",
      "  warnings.warn(msg, UndefinedMetricWarning)\n"
     ]
    },
    {
     "name": "stdout",
     "output_type": "stream",
     "text": [
      "Select 342 features\n",
      "First: 0, 0.213947\n",
      "Second: 7, 0.073981\n",
      "Method 1: 14.610743 | 7.279011\n",
      "\n",
      "Baseline: 14.612404 | 7.458859\n",
      "\n",
      "---Iteration 253---\n",
      "\n",
      "[253]\n"
     ]
    },
    {
     "name": "stderr",
     "output_type": "stream",
     "text": [
      "/Users/hundredball/anaconda3/envs/Math24/lib/python3.7/site-packages/sklearn/metrics/_regression.py:582: UndefinedMetricWarning: R^2 score is not well-defined with less than two samples.\n",
      "  warnings.warn(msg, UndefinedMetricWarning)\n",
      "/Users/hundredball/anaconda3/envs/Math24/lib/python3.7/site-packages/sklearn/metrics/_regression.py:582: UndefinedMetricWarning: R^2 score is not well-defined with less than two samples.\n",
      "  warnings.warn(msg, UndefinedMetricWarning)\n"
     ]
    },
    {
     "name": "stdout",
     "output_type": "stream",
     "text": [
      "Select 342 features\n",
      "First: 0, 0.213958\n",
      "Second: 7, 0.073152\n",
      "Method 1: 14.612185 | 5.860329\n",
      "\n",
      "Baseline: 14.614236 | 5.607106\n",
      "\n",
      "---Iteration 254---\n",
      "\n",
      "[254]\n"
     ]
    },
    {
     "name": "stderr",
     "output_type": "stream",
     "text": [
      "/Users/hundredball/anaconda3/envs/Math24/lib/python3.7/site-packages/sklearn/metrics/_regression.py:582: UndefinedMetricWarning: R^2 score is not well-defined with less than two samples.\n",
      "  warnings.warn(msg, UndefinedMetricWarning)\n",
      "/Users/hundredball/anaconda3/envs/Math24/lib/python3.7/site-packages/sklearn/metrics/_regression.py:582: UndefinedMetricWarning: R^2 score is not well-defined with less than two samples.\n",
      "  warnings.warn(msg, UndefinedMetricWarning)\n"
     ]
    },
    {
     "name": "stdout",
     "output_type": "stream",
     "text": [
      "Select 342 features\n",
      "First: 0, 0.214481\n",
      "Second: 7, 0.073599\n",
      "Method 1: 14.610783 | 7.576837\n",
      "\n",
      "Baseline: 14.612034 | 7.779882\n",
      "\n",
      "---Iteration 255---\n",
      "\n",
      "[255]\n"
     ]
    },
    {
     "name": "stderr",
     "output_type": "stream",
     "text": [
      "/Users/hundredball/anaconda3/envs/Math24/lib/python3.7/site-packages/sklearn/metrics/_regression.py:582: UndefinedMetricWarning: R^2 score is not well-defined with less than two samples.\n",
      "  warnings.warn(msg, UndefinedMetricWarning)\n",
      "/Users/hundredball/anaconda3/envs/Math24/lib/python3.7/site-packages/sklearn/metrics/_regression.py:582: UndefinedMetricWarning: R^2 score is not well-defined with less than two samples.\n",
      "  warnings.warn(msg, UndefinedMetricWarning)\n"
     ]
    },
    {
     "name": "stdout",
     "output_type": "stream",
     "text": [
      "Select 342 features\n",
      "First: 0, 0.214768\n",
      "Second: 7, 0.071732\n",
      "Method 1: 14.608652 | 8.980898\n",
      "\n",
      "Baseline: 14.610670 | 8.862354\n",
      "\n",
      "---Iteration 256---\n",
      "\n",
      "[256]\n"
     ]
    },
    {
     "name": "stderr",
     "output_type": "stream",
     "text": [
      "/Users/hundredball/anaconda3/envs/Math24/lib/python3.7/site-packages/sklearn/metrics/_regression.py:582: UndefinedMetricWarning: R^2 score is not well-defined with less than two samples.\n",
      "  warnings.warn(msg, UndefinedMetricWarning)\n",
      "/Users/hundredball/anaconda3/envs/Math24/lib/python3.7/site-packages/sklearn/metrics/_regression.py:582: UndefinedMetricWarning: R^2 score is not well-defined with less than two samples.\n",
      "  warnings.warn(msg, UndefinedMetricWarning)\n"
     ]
    },
    {
     "name": "stdout",
     "output_type": "stream",
     "text": [
      "Select 342 features\n",
      "First: 0, 0.210206\n",
      "Second: 7, 0.075565\n",
      "Method 1: 14.602734 | 12.966299\n",
      "\n",
      "Baseline: 14.604266 | 12.771445\n",
      "\n",
      "---Iteration 257---\n",
      "\n",
      "[257]\n"
     ]
    },
    {
     "name": "stderr",
     "output_type": "stream",
     "text": [
      "/Users/hundredball/anaconda3/envs/Math24/lib/python3.7/site-packages/sklearn/metrics/_regression.py:582: UndefinedMetricWarning: R^2 score is not well-defined with less than two samples.\n",
      "  warnings.warn(msg, UndefinedMetricWarning)\n",
      "/Users/hundredball/anaconda3/envs/Math24/lib/python3.7/site-packages/sklearn/metrics/_regression.py:582: UndefinedMetricWarning: R^2 score is not well-defined with less than two samples.\n",
      "  warnings.warn(msg, UndefinedMetricWarning)\n"
     ]
    },
    {
     "name": "stdout",
     "output_type": "stream",
     "text": [
      "Select 342 features\n",
      "First: 0, 0.212378\n",
      "Second: 7, 0.077486\n",
      "Method 1: 14.613945 | 2.206731\n",
      "\n",
      "Baseline: 14.616332 | 1.934919\n",
      "\n",
      "---Iteration 258---\n",
      "\n",
      "[258]\n"
     ]
    },
    {
     "name": "stderr",
     "output_type": "stream",
     "text": [
      "/Users/hundredball/anaconda3/envs/Math24/lib/python3.7/site-packages/sklearn/metrics/_regression.py:582: UndefinedMetricWarning: R^2 score is not well-defined with less than two samples.\n",
      "  warnings.warn(msg, UndefinedMetricWarning)\n",
      "/Users/hundredball/anaconda3/envs/Math24/lib/python3.7/site-packages/sklearn/metrics/_regression.py:582: UndefinedMetricWarning: R^2 score is not well-defined with less than two samples.\n",
      "  warnings.warn(msg, UndefinedMetricWarning)\n"
     ]
    },
    {
     "name": "stdout",
     "output_type": "stream",
     "text": [
      "Select 342 features\n",
      "First: 0, 0.212428\n",
      "Second: 7, 0.076561\n",
      "Method 1: 14.613429 | 3.732007\n",
      "\n",
      "Baseline: 14.615693 | 3.491096\n",
      "\n",
      "---Iteration 259---\n",
      "\n",
      "[259]\n"
     ]
    },
    {
     "name": "stderr",
     "output_type": "stream",
     "text": [
      "/Users/hundredball/anaconda3/envs/Math24/lib/python3.7/site-packages/sklearn/metrics/_regression.py:582: UndefinedMetricWarning: R^2 score is not well-defined with less than two samples.\n",
      "  warnings.warn(msg, UndefinedMetricWarning)\n",
      "/Users/hundredball/anaconda3/envs/Math24/lib/python3.7/site-packages/sklearn/metrics/_regression.py:582: UndefinedMetricWarning: R^2 score is not well-defined with less than two samples.\n",
      "  warnings.warn(msg, UndefinedMetricWarning)\n"
     ]
    },
    {
     "name": "stdout",
     "output_type": "stream",
     "text": [
      "Select 342 features\n",
      "First: 0, 0.212462\n",
      "Second: 7, 0.075856\n",
      "Method 1: 14.614312 | 1.248207\n",
      "\n",
      "Baseline: 14.616469 | 1.388841\n",
      "\n",
      "---Iteration 260---\n",
      "\n",
      "[260]\n"
     ]
    },
    {
     "name": "stderr",
     "output_type": "stream",
     "text": [
      "/Users/hundredball/anaconda3/envs/Math24/lib/python3.7/site-packages/sklearn/metrics/_regression.py:582: UndefinedMetricWarning: R^2 score is not well-defined with less than two samples.\n",
      "  warnings.warn(msg, UndefinedMetricWarning)\n",
      "/Users/hundredball/anaconda3/envs/Math24/lib/python3.7/site-packages/sklearn/metrics/_regression.py:582: UndefinedMetricWarning: R^2 score is not well-defined with less than two samples.\n",
      "  warnings.warn(msg, UndefinedMetricWarning)\n"
     ]
    },
    {
     "name": "stdout",
     "output_type": "stream",
     "text": [
      "Select 342 features\n",
      "First: 0, 0.212527\n",
      "Second: 7, 0.075515\n",
      "Method 1: 14.609151 | 8.535452\n",
      "\n",
      "Baseline: 14.611356 | 8.335799\n",
      "\n",
      "---Iteration 261---\n",
      "\n",
      "[261]\n"
     ]
    },
    {
     "name": "stderr",
     "output_type": "stream",
     "text": [
      "/Users/hundredball/anaconda3/envs/Math24/lib/python3.7/site-packages/sklearn/metrics/_regression.py:582: UndefinedMetricWarning: R^2 score is not well-defined with less than two samples.\n",
      "  warnings.warn(msg, UndefinedMetricWarning)\n",
      "/Users/hundredball/anaconda3/envs/Math24/lib/python3.7/site-packages/sklearn/metrics/_regression.py:582: UndefinedMetricWarning: R^2 score is not well-defined with less than two samples.\n",
      "  warnings.warn(msg, UndefinedMetricWarning)\n"
     ]
    },
    {
     "name": "stdout",
     "output_type": "stream",
     "text": [
      "Select 342 features\n",
      "First: 0, 0.212290\n",
      "Second: 7, 0.075519\n",
      "Method 1: 14.612992 | 4.058661\n",
      "\n",
      "Baseline: 14.615493 | 3.851268\n",
      "\n",
      "---Iteration 262---\n",
      "\n",
      "[262]\n"
     ]
    },
    {
     "name": "stderr",
     "output_type": "stream",
     "text": [
      "/Users/hundredball/anaconda3/envs/Math24/lib/python3.7/site-packages/sklearn/metrics/_regression.py:582: UndefinedMetricWarning: R^2 score is not well-defined with less than two samples.\n",
      "  warnings.warn(msg, UndefinedMetricWarning)\n",
      "/Users/hundredball/anaconda3/envs/Math24/lib/python3.7/site-packages/sklearn/metrics/_regression.py:582: UndefinedMetricWarning: R^2 score is not well-defined with less than two samples.\n",
      "  warnings.warn(msg, UndefinedMetricWarning)\n"
     ]
    },
    {
     "name": "stdout",
     "output_type": "stream",
     "text": [
      "Select 342 features\n",
      "First: 0, 0.212415\n",
      "Second: 7, 0.071871\n",
      "Method 1: 14.610907 | 7.034743\n",
      "\n",
      "Baseline: 14.613362 | 6.556472\n",
      "\n",
      "---Iteration 263---\n",
      "\n",
      "[263]\n"
     ]
    },
    {
     "name": "stderr",
     "output_type": "stream",
     "text": [
      "/Users/hundredball/anaconda3/envs/Math24/lib/python3.7/site-packages/sklearn/metrics/_regression.py:582: UndefinedMetricWarning: R^2 score is not well-defined with less than two samples.\n",
      "  warnings.warn(msg, UndefinedMetricWarning)\n",
      "/Users/hundredball/anaconda3/envs/Math24/lib/python3.7/site-packages/sklearn/metrics/_regression.py:582: UndefinedMetricWarning: R^2 score is not well-defined with less than two samples.\n",
      "  warnings.warn(msg, UndefinedMetricWarning)\n"
     ]
    },
    {
     "name": "stdout",
     "output_type": "stream",
     "text": [
      "Select 342 features\n",
      "First: 0, 0.213167\n",
      "Second: 7, 0.076036\n",
      "Method 1: 14.607682 | 8.770177\n",
      "\n",
      "Baseline: 14.610948 | 8.652907\n",
      "\n",
      "---Iteration 264---\n",
      "\n",
      "[264]\n"
     ]
    },
    {
     "name": "stderr",
     "output_type": "stream",
     "text": [
      "/Users/hundredball/anaconda3/envs/Math24/lib/python3.7/site-packages/sklearn/metrics/_regression.py:582: UndefinedMetricWarning: R^2 score is not well-defined with less than two samples.\n",
      "  warnings.warn(msg, UndefinedMetricWarning)\n",
      "/Users/hundredball/anaconda3/envs/Math24/lib/python3.7/site-packages/sklearn/metrics/_regression.py:582: UndefinedMetricWarning: R^2 score is not well-defined with less than two samples.\n",
      "  warnings.warn(msg, UndefinedMetricWarning)\n"
     ]
    },
    {
     "name": "stdout",
     "output_type": "stream",
     "text": [
      "Select 342 features\n",
      "First: 0, 0.211529\n",
      "Second: 7, 0.074942\n",
      "Method 1: 14.608918 | 8.248944\n",
      "\n",
      "Baseline: 14.611370 | 8.324054\n",
      "\n",
      "---Iteration 265---\n",
      "\n",
      "[265]\n"
     ]
    },
    {
     "name": "stderr",
     "output_type": "stream",
     "text": [
      "/Users/hundredball/anaconda3/envs/Math24/lib/python3.7/site-packages/sklearn/metrics/_regression.py:582: UndefinedMetricWarning: R^2 score is not well-defined with less than two samples.\n",
      "  warnings.warn(msg, UndefinedMetricWarning)\n",
      "/Users/hundredball/anaconda3/envs/Math24/lib/python3.7/site-packages/sklearn/metrics/_regression.py:582: UndefinedMetricWarning: R^2 score is not well-defined with less than two samples.\n",
      "  warnings.warn(msg, UndefinedMetricWarning)\n"
     ]
    },
    {
     "name": "stdout",
     "output_type": "stream",
     "text": [
      "Select 342 features\n",
      "First: 0, 0.212326\n",
      "Second: 7, 0.076794\n",
      "Method 1: 14.607080 | 9.126505\n",
      "\n",
      "Baseline: 14.610808 | 8.758609\n",
      "\n",
      "---Iteration 266---\n",
      "\n",
      "[266]\n"
     ]
    },
    {
     "name": "stderr",
     "output_type": "stream",
     "text": [
      "/Users/hundredball/anaconda3/envs/Math24/lib/python3.7/site-packages/sklearn/metrics/_regression.py:582: UndefinedMetricWarning: R^2 score is not well-defined with less than two samples.\n",
      "  warnings.warn(msg, UndefinedMetricWarning)\n",
      "/Users/hundredball/anaconda3/envs/Math24/lib/python3.7/site-packages/sklearn/metrics/_regression.py:582: UndefinedMetricWarning: R^2 score is not well-defined with less than two samples.\n",
      "  warnings.warn(msg, UndefinedMetricWarning)\n"
     ]
    },
    {
     "name": "stdout",
     "output_type": "stream",
     "text": [
      "Select 342 features\n",
      "First: 0, 0.212093\n",
      "Second: 7, 0.072916\n",
      "Method 1: 14.608455 | 8.531144\n",
      "\n",
      "Baseline: 14.611390 | 8.308395\n",
      "\n",
      "---Iteration 267---\n",
      "\n",
      "[267]\n"
     ]
    },
    {
     "name": "stderr",
     "output_type": "stream",
     "text": [
      "/Users/hundredball/anaconda3/envs/Math24/lib/python3.7/site-packages/sklearn/metrics/_regression.py:582: UndefinedMetricWarning: R^2 score is not well-defined with less than two samples.\n",
      "  warnings.warn(msg, UndefinedMetricWarning)\n",
      "/Users/hundredball/anaconda3/envs/Math24/lib/python3.7/site-packages/sklearn/metrics/_regression.py:582: UndefinedMetricWarning: R^2 score is not well-defined with less than two samples.\n",
      "  warnings.warn(msg, UndefinedMetricWarning)\n"
     ]
    },
    {
     "name": "stdout",
     "output_type": "stream",
     "text": [
      "Select 342 features\n",
      "First: 0, 0.212090\n",
      "Second: 7, 0.076586\n",
      "Method 1: 14.607532 | 9.280193\n",
      "\n",
      "Baseline: 14.610482 | 9.001334\n",
      "\n",
      "---Iteration 268---\n",
      "\n",
      "[268]\n"
     ]
    },
    {
     "name": "stderr",
     "output_type": "stream",
     "text": [
      "/Users/hundredball/anaconda3/envs/Math24/lib/python3.7/site-packages/sklearn/metrics/_regression.py:582: UndefinedMetricWarning: R^2 score is not well-defined with less than two samples.\n",
      "  warnings.warn(msg, UndefinedMetricWarning)\n",
      "/Users/hundredball/anaconda3/envs/Math24/lib/python3.7/site-packages/sklearn/metrics/_regression.py:582: UndefinedMetricWarning: R^2 score is not well-defined with less than two samples.\n",
      "  warnings.warn(msg, UndefinedMetricWarning)\n"
     ]
    },
    {
     "name": "stdout",
     "output_type": "stream",
     "text": [
      "Select 342 features\n",
      "First: 0, 0.212350\n",
      "Second: 7, 0.075521\n",
      "Method 1: 14.608072 | 9.468620\n",
      "\n",
      "Baseline: 14.610511 | 8.979802\n",
      "\n",
      "---Iteration 269---\n",
      "\n",
      "[269]\n"
     ]
    },
    {
     "name": "stderr",
     "output_type": "stream",
     "text": [
      "/Users/hundredball/anaconda3/envs/Math24/lib/python3.7/site-packages/sklearn/metrics/_regression.py:582: UndefinedMetricWarning: R^2 score is not well-defined with less than two samples.\n",
      "  warnings.warn(msg, UndefinedMetricWarning)\n",
      "/Users/hundredball/anaconda3/envs/Math24/lib/python3.7/site-packages/sklearn/metrics/_regression.py:582: UndefinedMetricWarning: R^2 score is not well-defined with less than two samples.\n",
      "  warnings.warn(msg, UndefinedMetricWarning)\n"
     ]
    },
    {
     "name": "stdout",
     "output_type": "stream",
     "text": [
      "Select 342 features\n",
      "First: 0, 0.212333\n",
      "Second: 7, 0.076267\n",
      "Method 1: 14.614430 | 1.321864\n",
      "\n",
      "Baseline: 14.616457 | 1.447564\n",
      "\n",
      "---Iteration 270---\n",
      "\n",
      "[270]\n"
     ]
    },
    {
     "name": "stderr",
     "output_type": "stream",
     "text": [
      "/Users/hundredball/anaconda3/envs/Math24/lib/python3.7/site-packages/sklearn/metrics/_regression.py:582: UndefinedMetricWarning: R^2 score is not well-defined with less than two samples.\n",
      "  warnings.warn(msg, UndefinedMetricWarning)\n",
      "/Users/hundredball/anaconda3/envs/Math24/lib/python3.7/site-packages/sklearn/metrics/_regression.py:582: UndefinedMetricWarning: R^2 score is not well-defined with less than two samples.\n",
      "  warnings.warn(msg, UndefinedMetricWarning)\n"
     ]
    },
    {
     "name": "stdout",
     "output_type": "stream",
     "text": [
      "Select 342 features\n",
      "First: 0, 0.212551\n",
      "Second: 7, 0.075318\n",
      "Method 1: 14.613028 | 4.554276\n",
      "\n",
      "Baseline: 14.615006 | 4.610813\n",
      "\n",
      "---Iteration 271---\n",
      "\n",
      "[271]\n"
     ]
    },
    {
     "name": "stderr",
     "output_type": "stream",
     "text": [
      "/Users/hundredball/anaconda3/envs/Math24/lib/python3.7/site-packages/sklearn/metrics/_regression.py:582: UndefinedMetricWarning: R^2 score is not well-defined with less than two samples.\n",
      "  warnings.warn(msg, UndefinedMetricWarning)\n",
      "/Users/hundredball/anaconda3/envs/Math24/lib/python3.7/site-packages/sklearn/metrics/_regression.py:582: UndefinedMetricWarning: R^2 score is not well-defined with less than two samples.\n",
      "  warnings.warn(msg, UndefinedMetricWarning)\n"
     ]
    },
    {
     "name": "stdout",
     "output_type": "stream",
     "text": [
      "Select 342 features\n",
      "First: 0, 0.212957\n",
      "Second: 7, 0.070768\n",
      "Method 1: 14.613115 | 5.099982\n",
      "\n",
      "Baseline: 14.614575 | 5.192177\n",
      "\n",
      "---Iteration 272---\n",
      "\n",
      "[272]\n"
     ]
    },
    {
     "name": "stderr",
     "output_type": "stream",
     "text": [
      "/Users/hundredball/anaconda3/envs/Math24/lib/python3.7/site-packages/sklearn/metrics/_regression.py:582: UndefinedMetricWarning: R^2 score is not well-defined with less than two samples.\n",
      "  warnings.warn(msg, UndefinedMetricWarning)\n",
      "/Users/hundredball/anaconda3/envs/Math24/lib/python3.7/site-packages/sklearn/metrics/_regression.py:582: UndefinedMetricWarning: R^2 score is not well-defined with less than two samples.\n",
      "  warnings.warn(msg, UndefinedMetricWarning)\n"
     ]
    },
    {
     "name": "stdout",
     "output_type": "stream",
     "text": [
      "Select 342 features\n",
      "First: 0, 0.212546\n",
      "Second: 7, 0.075395\n",
      "Method 1: 14.614373 | 0.426166\n",
      "\n",
      "Baseline: 14.616605 | 0.367049\n",
      "\n",
      "---Iteration 273---\n",
      "\n",
      "[273]\n"
     ]
    },
    {
     "name": "stderr",
     "output_type": "stream",
     "text": [
      "/Users/hundredball/anaconda3/envs/Math24/lib/python3.7/site-packages/sklearn/metrics/_regression.py:582: UndefinedMetricWarning: R^2 score is not well-defined with less than two samples.\n",
      "  warnings.warn(msg, UndefinedMetricWarning)\n",
      "/Users/hundredball/anaconda3/envs/Math24/lib/python3.7/site-packages/sklearn/metrics/_regression.py:582: UndefinedMetricWarning: R^2 score is not well-defined with less than two samples.\n",
      "  warnings.warn(msg, UndefinedMetricWarning)\n"
     ]
    },
    {
     "name": "stdout",
     "output_type": "stream",
     "text": [
      "Select 342 features\n",
      "First: 0, 0.212570\n",
      "Second: 7, 0.075652\n",
      "Method 1: 14.614271 | 1.831543\n",
      "\n",
      "Baseline: 14.616359 | 1.841013\n",
      "\n",
      "---Iteration 274---\n",
      "\n",
      "[274]\n"
     ]
    },
    {
     "name": "stderr",
     "output_type": "stream",
     "text": [
      "/Users/hundredball/anaconda3/envs/Math24/lib/python3.7/site-packages/sklearn/metrics/_regression.py:582: UndefinedMetricWarning: R^2 score is not well-defined with less than two samples.\n",
      "  warnings.warn(msg, UndefinedMetricWarning)\n",
      "/Users/hundredball/anaconda3/envs/Math24/lib/python3.7/site-packages/sklearn/metrics/_regression.py:582: UndefinedMetricWarning: R^2 score is not well-defined with less than two samples.\n",
      "  warnings.warn(msg, UndefinedMetricWarning)\n"
     ]
    },
    {
     "name": "stdout",
     "output_type": "stream",
     "text": [
      "Select 342 features\n",
      "First: 0, 0.211880\n",
      "Second: 7, 0.075879\n",
      "Method 1: 14.610837 | 6.714892\n",
      "\n",
      "Baseline: 14.613144 | 6.771792\n",
      "\n",
      "---Iteration 275---\n",
      "\n",
      "[275]\n"
     ]
    },
    {
     "name": "stderr",
     "output_type": "stream",
     "text": [
      "/Users/hundredball/anaconda3/envs/Math24/lib/python3.7/site-packages/sklearn/metrics/_regression.py:582: UndefinedMetricWarning: R^2 score is not well-defined with less than two samples.\n",
      "  warnings.warn(msg, UndefinedMetricWarning)\n",
      "/Users/hundredball/anaconda3/envs/Math24/lib/python3.7/site-packages/sklearn/metrics/_regression.py:582: UndefinedMetricWarning: R^2 score is not well-defined with less than two samples.\n",
      "  warnings.warn(msg, UndefinedMetricWarning)\n"
     ]
    },
    {
     "name": "stdout",
     "output_type": "stream",
     "text": [
      "Select 342 features\n",
      "First: 0, 0.212290\n",
      "Second: 7, 0.072595\n",
      "Method 1: 14.609572 | 8.284066\n",
      "\n",
      "Baseline: 14.611997 | 7.811201\n",
      "\n",
      "---Iteration 276---\n",
      "\n",
      "[276]\n"
     ]
    },
    {
     "name": "stderr",
     "output_type": "stream",
     "text": [
      "/Users/hundredball/anaconda3/envs/Math24/lib/python3.7/site-packages/sklearn/metrics/_regression.py:582: UndefinedMetricWarning: R^2 score is not well-defined with less than two samples.\n",
      "  warnings.warn(msg, UndefinedMetricWarning)\n",
      "/Users/hundredball/anaconda3/envs/Math24/lib/python3.7/site-packages/sklearn/metrics/_regression.py:582: UndefinedMetricWarning: R^2 score is not well-defined with less than two samples.\n",
      "  warnings.warn(msg, UndefinedMetricWarning)\n"
     ]
    },
    {
     "name": "stdout",
     "output_type": "stream",
     "text": [
      "Select 342 features\n",
      "First: 0, 0.212306\n",
      "Second: 7, 0.075851\n",
      "Method 1: 14.614172 | 1.805377\n",
      "\n",
      "Baseline: 14.616412 | 1.639343\n",
      "\n",
      "---Iteration 277---\n",
      "\n",
      "[277]\n"
     ]
    },
    {
     "name": "stderr",
     "output_type": "stream",
     "text": [
      "/Users/hundredball/anaconda3/envs/Math24/lib/python3.7/site-packages/sklearn/metrics/_regression.py:582: UndefinedMetricWarning: R^2 score is not well-defined with less than two samples.\n",
      "  warnings.warn(msg, UndefinedMetricWarning)\n",
      "/Users/hundredball/anaconda3/envs/Math24/lib/python3.7/site-packages/sklearn/metrics/_regression.py:582: UndefinedMetricWarning: R^2 score is not well-defined with less than two samples.\n",
      "  warnings.warn(msg, UndefinedMetricWarning)\n"
     ]
    },
    {
     "name": "stdout",
     "output_type": "stream",
     "text": [
      "Select 342 features\n",
      "First: 0, 0.213868\n",
      "Second: 7, 0.076929\n",
      "Method 1: 14.600990 | 13.419015\n",
      "\n",
      "Baseline: 14.602757 | 13.528981\n",
      "\n",
      "---Iteration 278---\n",
      "\n",
      "[278]\n"
     ]
    },
    {
     "name": "stderr",
     "output_type": "stream",
     "text": [
      "/Users/hundredball/anaconda3/envs/Math24/lib/python3.7/site-packages/sklearn/metrics/_regression.py:582: UndefinedMetricWarning: R^2 score is not well-defined with less than two samples.\n",
      "  warnings.warn(msg, UndefinedMetricWarning)\n",
      "/Users/hundredball/anaconda3/envs/Math24/lib/python3.7/site-packages/sklearn/metrics/_regression.py:582: UndefinedMetricWarning: R^2 score is not well-defined with less than two samples.\n",
      "  warnings.warn(msg, UndefinedMetricWarning)\n"
     ]
    },
    {
     "name": "stdout",
     "output_type": "stream",
     "text": [
      "Select 342 features\n",
      "First: 0, 0.212093\n",
      "Second: 7, 0.075901\n",
      "Method 1: 14.611494 | 6.102424\n",
      "\n",
      "Baseline: 14.613862 | 6.031874\n",
      "\n",
      "---Iteration 279---\n",
      "\n",
      "[279]\n"
     ]
    },
    {
     "name": "stderr",
     "output_type": "stream",
     "text": [
      "/Users/hundredball/anaconda3/envs/Math24/lib/python3.7/site-packages/sklearn/metrics/_regression.py:582: UndefinedMetricWarning: R^2 score is not well-defined with less than two samples.\n",
      "  warnings.warn(msg, UndefinedMetricWarning)\n",
      "/Users/hundredball/anaconda3/envs/Math24/lib/python3.7/site-packages/sklearn/metrics/_regression.py:582: UndefinedMetricWarning: R^2 score is not well-defined with less than two samples.\n",
      "  warnings.warn(msg, UndefinedMetricWarning)\n"
     ]
    },
    {
     "name": "stdout",
     "output_type": "stream",
     "text": [
      "Select 342 features\n",
      "First: 0, 0.211934\n",
      "Second: 7, 0.071629\n",
      "Method 1: 14.612599 | 5.234852\n",
      "\n",
      "Baseline: 14.614627 | 5.125572\n",
      "\n",
      "---Iteration 280---\n",
      "\n",
      "[280]\n"
     ]
    },
    {
     "name": "stderr",
     "output_type": "stream",
     "text": [
      "/Users/hundredball/anaconda3/envs/Math24/lib/python3.7/site-packages/sklearn/metrics/_regression.py:582: UndefinedMetricWarning: R^2 score is not well-defined with less than two samples.\n",
      "  warnings.warn(msg, UndefinedMetricWarning)\n",
      "/Users/hundredball/anaconda3/envs/Math24/lib/python3.7/site-packages/sklearn/metrics/_regression.py:582: UndefinedMetricWarning: R^2 score is not well-defined with less than two samples.\n",
      "  warnings.warn(msg, UndefinedMetricWarning)\n"
     ]
    },
    {
     "name": "stdout",
     "output_type": "stream",
     "text": [
      "Select 342 features\n",
      "First: 0, 0.212372\n",
      "Second: 7, 0.074357\n",
      "Method 1: 14.614567 | 2.331698\n",
      "\n",
      "Baseline: 14.616122 | 2.553527\n",
      "\n",
      "---Iteration 281---\n",
      "\n",
      "[281]\n"
     ]
    },
    {
     "name": "stderr",
     "output_type": "stream",
     "text": [
      "/Users/hundredball/anaconda3/envs/Math24/lib/python3.7/site-packages/sklearn/metrics/_regression.py:582: UndefinedMetricWarning: R^2 score is not well-defined with less than two samples.\n",
      "  warnings.warn(msg, UndefinedMetricWarning)\n",
      "/Users/hundredball/anaconda3/envs/Math24/lib/python3.7/site-packages/sklearn/metrics/_regression.py:582: UndefinedMetricWarning: R^2 score is not well-defined with less than two samples.\n",
      "  warnings.warn(msg, UndefinedMetricWarning)\n"
     ]
    },
    {
     "name": "stdout",
     "output_type": "stream",
     "text": [
      "Select 342 features\n",
      "First: 0, 0.212014\n",
      "Second: 7, 0.075990\n",
      "Method 1: 14.608574 | 8.608102\n",
      "\n",
      "Baseline: 14.611289 | 8.388650\n",
      "\n",
      "---Iteration 282---\n",
      "\n",
      "[282]\n"
     ]
    },
    {
     "name": "stderr",
     "output_type": "stream",
     "text": [
      "/Users/hundredball/anaconda3/envs/Math24/lib/python3.7/site-packages/sklearn/metrics/_regression.py:582: UndefinedMetricWarning: R^2 score is not well-defined with less than two samples.\n",
      "  warnings.warn(msg, UndefinedMetricWarning)\n",
      "/Users/hundredball/anaconda3/envs/Math24/lib/python3.7/site-packages/sklearn/metrics/_regression.py:582: UndefinedMetricWarning: R^2 score is not well-defined with less than two samples.\n",
      "  warnings.warn(msg, UndefinedMetricWarning)\n"
     ]
    },
    {
     "name": "stdout",
     "output_type": "stream",
     "text": [
      "Select 342 features\n",
      "First: 0, 0.211399\n",
      "Second: 7, 0.071836\n",
      "Method 1: 14.608664 | 8.741116\n",
      "\n",
      "Baseline: 14.611019 | 8.598098\n",
      "\n",
      "---Iteration 283---\n",
      "\n",
      "[283]\n"
     ]
    },
    {
     "name": "stderr",
     "output_type": "stream",
     "text": [
      "/Users/hundredball/anaconda3/envs/Math24/lib/python3.7/site-packages/sklearn/metrics/_regression.py:582: UndefinedMetricWarning: R^2 score is not well-defined with less than two samples.\n",
      "  warnings.warn(msg, UndefinedMetricWarning)\n",
      "/Users/hundredball/anaconda3/envs/Math24/lib/python3.7/site-packages/sklearn/metrics/_regression.py:582: UndefinedMetricWarning: R^2 score is not well-defined with less than two samples.\n",
      "  warnings.warn(msg, UndefinedMetricWarning)\n"
     ]
    },
    {
     "name": "stdout",
     "output_type": "stream",
     "text": [
      "Select 342 features\n",
      "First: 0, 0.211958\n",
      "Second: 7, 0.074194\n",
      "Method 1: 14.611891 | 5.113255\n",
      "\n",
      "Baseline: 14.614525 | 5.254764\n",
      "\n",
      "---Iteration 284---\n",
      "\n",
      "[284]\n"
     ]
    },
    {
     "name": "stderr",
     "output_type": "stream",
     "text": [
      "/Users/hundredball/anaconda3/envs/Math24/lib/python3.7/site-packages/sklearn/metrics/_regression.py:582: UndefinedMetricWarning: R^2 score is not well-defined with less than two samples.\n",
      "  warnings.warn(msg, UndefinedMetricWarning)\n",
      "/Users/hundredball/anaconda3/envs/Math24/lib/python3.7/site-packages/sklearn/metrics/_regression.py:582: UndefinedMetricWarning: R^2 score is not well-defined with less than two samples.\n",
      "  warnings.warn(msg, UndefinedMetricWarning)\n"
     ]
    },
    {
     "name": "stdout",
     "output_type": "stream",
     "text": [
      "Select 342 features\n",
      "First: 0, 0.212661\n",
      "Second: 7, 0.075574\n",
      "Method 1: 14.614077 | 1.753104\n",
      "\n",
      "Baseline: 14.616370 | 1.799906\n",
      "\n",
      "---Iteration 285---\n",
      "\n",
      "[285]\n"
     ]
    },
    {
     "name": "stderr",
     "output_type": "stream",
     "text": [
      "/Users/hundredball/anaconda3/envs/Math24/lib/python3.7/site-packages/sklearn/metrics/_regression.py:582: UndefinedMetricWarning: R^2 score is not well-defined with less than two samples.\n",
      "  warnings.warn(msg, UndefinedMetricWarning)\n",
      "/Users/hundredball/anaconda3/envs/Math24/lib/python3.7/site-packages/sklearn/metrics/_regression.py:582: UndefinedMetricWarning: R^2 score is not well-defined with less than two samples.\n",
      "  warnings.warn(msg, UndefinedMetricWarning)\n"
     ]
    },
    {
     "name": "stdout",
     "output_type": "stream",
     "text": [
      "Select 342 features\n",
      "First: 0, 0.211908\n",
      "Second: 7, 0.076609\n",
      "Method 1: 14.602408 | 11.198541\n",
      "\n",
      "Baseline: 14.607743 | 10.825683\n",
      "\n",
      "---Iteration 286---\n",
      "\n",
      "[286]\n"
     ]
    },
    {
     "name": "stderr",
     "output_type": "stream",
     "text": [
      "/Users/hundredball/anaconda3/envs/Math24/lib/python3.7/site-packages/sklearn/metrics/_regression.py:582: UndefinedMetricWarning: R^2 score is not well-defined with less than two samples.\n",
      "  warnings.warn(msg, UndefinedMetricWarning)\n",
      "/Users/hundredball/anaconda3/envs/Math24/lib/python3.7/site-packages/sklearn/metrics/_regression.py:582: UndefinedMetricWarning: R^2 score is not well-defined with less than two samples.\n",
      "  warnings.warn(msg, UndefinedMetricWarning)\n"
     ]
    },
    {
     "name": "stdout",
     "output_type": "stream",
     "text": [
      "Select 342 features\n",
      "First: 0, 0.212178\n",
      "Second: 7, 0.071836\n",
      "Method 1: 14.610415 | 7.734936\n",
      "\n",
      "Baseline: 14.612742 | 7.153496\n",
      "\n",
      "---Iteration 287---\n",
      "\n",
      "[287]\n"
     ]
    },
    {
     "name": "stderr",
     "output_type": "stream",
     "text": [
      "/Users/hundredball/anaconda3/envs/Math24/lib/python3.7/site-packages/sklearn/metrics/_regression.py:582: UndefinedMetricWarning: R^2 score is not well-defined with less than two samples.\n",
      "  warnings.warn(msg, UndefinedMetricWarning)\n",
      "/Users/hundredball/anaconda3/envs/Math24/lib/python3.7/site-packages/sklearn/metrics/_regression.py:582: UndefinedMetricWarning: R^2 score is not well-defined with less than two samples.\n",
      "  warnings.warn(msg, UndefinedMetricWarning)\n"
     ]
    },
    {
     "name": "stdout",
     "output_type": "stream",
     "text": [
      "Select 342 features\n",
      "First: 0, 0.211557\n",
      "Second: 7, 0.073491\n",
      "Method 1: 14.609545 | 8.148645\n",
      "\n",
      "Baseline: 14.611831 | 7.950180\n",
      "\n",
      "---Iteration 288---\n",
      "\n",
      "[288]\n"
     ]
    },
    {
     "name": "stderr",
     "output_type": "stream",
     "text": [
      "/Users/hundredball/anaconda3/envs/Math24/lib/python3.7/site-packages/sklearn/metrics/_regression.py:582: UndefinedMetricWarning: R^2 score is not well-defined with less than two samples.\n",
      "  warnings.warn(msg, UndefinedMetricWarning)\n",
      "/Users/hundredball/anaconda3/envs/Math24/lib/python3.7/site-packages/sklearn/metrics/_regression.py:582: UndefinedMetricWarning: R^2 score is not well-defined with less than two samples.\n",
      "  warnings.warn(msg, UndefinedMetricWarning)\n"
     ]
    },
    {
     "name": "stdout",
     "output_type": "stream",
     "text": [
      "Select 342 features\n",
      "First: 0, 0.212475\n",
      "Second: 7, 0.076643\n",
      "Method 1: 14.614044 | 1.975504\n",
      "\n",
      "Baseline: 14.616257 | 2.175738\n",
      "\n",
      "---Iteration 289---\n",
      "\n",
      "[289]\n"
     ]
    },
    {
     "name": "stderr",
     "output_type": "stream",
     "text": [
      "/Users/hundredball/anaconda3/envs/Math24/lib/python3.7/site-packages/sklearn/metrics/_regression.py:582: UndefinedMetricWarning: R^2 score is not well-defined with less than two samples.\n",
      "  warnings.warn(msg, UndefinedMetricWarning)\n",
      "/Users/hundredball/anaconda3/envs/Math24/lib/python3.7/site-packages/sklearn/metrics/_regression.py:582: UndefinedMetricWarning: R^2 score is not well-defined with less than two samples.\n",
      "  warnings.warn(msg, UndefinedMetricWarning)\n"
     ]
    },
    {
     "name": "stdout",
     "output_type": "stream",
     "text": [
      "Select 342 features\n",
      "First: 0, 0.212385\n",
      "Second: 7, 0.076453\n",
      "Method 1: 14.614634 | 0.723292\n",
      "\n",
      "Baseline: 14.616604 | 0.382657\n",
      "\n",
      "---Iteration 290---\n",
      "\n",
      "[290]\n"
     ]
    },
    {
     "name": "stderr",
     "output_type": "stream",
     "text": [
      "/Users/hundredball/anaconda3/envs/Math24/lib/python3.7/site-packages/sklearn/metrics/_regression.py:582: UndefinedMetricWarning: R^2 score is not well-defined with less than two samples.\n",
      "  warnings.warn(msg, UndefinedMetricWarning)\n",
      "/Users/hundredball/anaconda3/envs/Math24/lib/python3.7/site-packages/sklearn/metrics/_regression.py:582: UndefinedMetricWarning: R^2 score is not well-defined with less than two samples.\n",
      "  warnings.warn(msg, UndefinedMetricWarning)\n"
     ]
    },
    {
     "name": "stdout",
     "output_type": "stream",
     "text": [
      "Select 342 features\n",
      "First: 0, 0.211951\n",
      "Second: 7, 0.077304\n",
      "Method 1: 14.608681 | 7.734895\n",
      "\n",
      "Baseline: 14.612255 | 7.590008\n",
      "\n",
      "---Iteration 291---\n",
      "\n",
      "[291]\n"
     ]
    },
    {
     "name": "stderr",
     "output_type": "stream",
     "text": [
      "/Users/hundredball/anaconda3/envs/Math24/lib/python3.7/site-packages/sklearn/metrics/_regression.py:582: UndefinedMetricWarning: R^2 score is not well-defined with less than two samples.\n",
      "  warnings.warn(msg, UndefinedMetricWarning)\n",
      "/Users/hundredball/anaconda3/envs/Math24/lib/python3.7/site-packages/sklearn/metrics/_regression.py:582: UndefinedMetricWarning: R^2 score is not well-defined with less than two samples.\n",
      "  warnings.warn(msg, UndefinedMetricWarning)\n"
     ]
    },
    {
     "name": "stdout",
     "output_type": "stream",
     "text": [
      "Select 342 features\n",
      "First: 0, 0.212704\n",
      "Second: 7, 0.074020\n",
      "Method 1: 14.608448 | 8.966544\n",
      "\n",
      "Baseline: 14.610743 | 8.807546\n",
      "\n",
      "---Iteration 292---\n",
      "\n",
      "[292]\n"
     ]
    },
    {
     "name": "stderr",
     "output_type": "stream",
     "text": [
      "/Users/hundredball/anaconda3/envs/Math24/lib/python3.7/site-packages/sklearn/metrics/_regression.py:582: UndefinedMetricWarning: R^2 score is not well-defined with less than two samples.\n",
      "  warnings.warn(msg, UndefinedMetricWarning)\n",
      "/Users/hundredball/anaconda3/envs/Math24/lib/python3.7/site-packages/sklearn/metrics/_regression.py:582: UndefinedMetricWarning: R^2 score is not well-defined with less than two samples.\n",
      "  warnings.warn(msg, UndefinedMetricWarning)\n"
     ]
    },
    {
     "name": "stdout",
     "output_type": "stream",
     "text": [
      "Select 342 features\n",
      "First: 0, 0.212619\n",
      "Second: 7, 0.074590\n",
      "Method 1: 14.611045 | 6.364119\n",
      "\n",
      "Baseline: 14.613684 | 6.223704\n",
      "\n",
      "---Iteration 293---\n",
      "\n",
      "[293]\n"
     ]
    },
    {
     "name": "stderr",
     "output_type": "stream",
     "text": [
      "/Users/hundredball/anaconda3/envs/Math24/lib/python3.7/site-packages/sklearn/metrics/_regression.py:582: UndefinedMetricWarning: R^2 score is not well-defined with less than two samples.\n",
      "  warnings.warn(msg, UndefinedMetricWarning)\n",
      "/Users/hundredball/anaconda3/envs/Math24/lib/python3.7/site-packages/sklearn/metrics/_regression.py:582: UndefinedMetricWarning: R^2 score is not well-defined with less than two samples.\n",
      "  warnings.warn(msg, UndefinedMetricWarning)\n"
     ]
    },
    {
     "name": "stdout",
     "output_type": "stream",
     "text": [
      "Select 342 features\n",
      "First: 0, 0.212031\n",
      "Second: 7, 0.074646\n",
      "Method 1: 14.612375 | 4.692949\n",
      "\n",
      "Baseline: 14.615209 | 4.311270\n",
      "\n",
      "---Iteration 294---\n",
      "\n",
      "[294]\n"
     ]
    },
    {
     "name": "stderr",
     "output_type": "stream",
     "text": [
      "/Users/hundredball/anaconda3/envs/Math24/lib/python3.7/site-packages/sklearn/metrics/_regression.py:582: UndefinedMetricWarning: R^2 score is not well-defined with less than two samples.\n",
      "  warnings.warn(msg, UndefinedMetricWarning)\n",
      "/Users/hundredball/anaconda3/envs/Math24/lib/python3.7/site-packages/sklearn/metrics/_regression.py:582: UndefinedMetricWarning: R^2 score is not well-defined with less than two samples.\n",
      "  warnings.warn(msg, UndefinedMetricWarning)\n"
     ]
    },
    {
     "name": "stdout",
     "output_type": "stream",
     "text": [
      "Select 342 features\n",
      "First: 0, 0.212006\n",
      "Second: 7, 0.074733\n",
      "Method 1: 14.610498 | 6.591828\n",
      "\n",
      "Baseline: 14.613402 | 6.515365\n",
      "\n",
      "---Iteration 295---\n",
      "\n",
      "[295]\n"
     ]
    },
    {
     "name": "stderr",
     "output_type": "stream",
     "text": [
      "/Users/hundredball/anaconda3/envs/Math24/lib/python3.7/site-packages/sklearn/metrics/_regression.py:582: UndefinedMetricWarning: R^2 score is not well-defined with less than two samples.\n",
      "  warnings.warn(msg, UndefinedMetricWarning)\n",
      "/Users/hundredball/anaconda3/envs/Math24/lib/python3.7/site-packages/sklearn/metrics/_regression.py:582: UndefinedMetricWarning: R^2 score is not well-defined with less than two samples.\n",
      "  warnings.warn(msg, UndefinedMetricWarning)\n"
     ]
    },
    {
     "name": "stdout",
     "output_type": "stream",
     "text": [
      "Select 342 features\n",
      "First: 0, 0.212426\n",
      "Second: 7, 0.076109\n",
      "Method 1: 14.614240 | 0.987808\n",
      "\n",
      "Baseline: 14.616526 | 1.085435\n",
      "\n",
      "---Iteration 296---\n",
      "\n",
      "[296]\n"
     ]
    },
    {
     "name": "stderr",
     "output_type": "stream",
     "text": [
      "/Users/hundredball/anaconda3/envs/Math24/lib/python3.7/site-packages/sklearn/metrics/_regression.py:582: UndefinedMetricWarning: R^2 score is not well-defined with less than two samples.\n",
      "  warnings.warn(msg, UndefinedMetricWarning)\n",
      "/Users/hundredball/anaconda3/envs/Math24/lib/python3.7/site-packages/sklearn/metrics/_regression.py:582: UndefinedMetricWarning: R^2 score is not well-defined with less than two samples.\n",
      "  warnings.warn(msg, UndefinedMetricWarning)\n"
     ]
    },
    {
     "name": "stdout",
     "output_type": "stream",
     "text": [
      "Select 342 features\n",
      "First: 0, 0.212638\n",
      "Second: 7, 0.074044\n",
      "Method 1: 14.613060 | 4.566837\n",
      "\n",
      "Baseline: 14.614854 | 4.824175\n",
      "\n",
      "---Iteration 297---\n",
      "\n",
      "[297]\n"
     ]
    },
    {
     "name": "stderr",
     "output_type": "stream",
     "text": [
      "/Users/hundredball/anaconda3/envs/Math24/lib/python3.7/site-packages/sklearn/metrics/_regression.py:582: UndefinedMetricWarning: R^2 score is not well-defined with less than two samples.\n",
      "  warnings.warn(msg, UndefinedMetricWarning)\n",
      "/Users/hundredball/anaconda3/envs/Math24/lib/python3.7/site-packages/sklearn/metrics/_regression.py:582: UndefinedMetricWarning: R^2 score is not well-defined with less than two samples.\n",
      "  warnings.warn(msg, UndefinedMetricWarning)\n"
     ]
    },
    {
     "name": "stdout",
     "output_type": "stream",
     "text": [
      "Select 342 features\n",
      "First: 0, 0.212006\n",
      "Second: 7, 0.074760\n",
      "Method 1: 14.608372 | 8.728443\n",
      "\n",
      "Baseline: 14.611131 | 8.511970\n",
      "\n",
      "---Iteration 298---\n",
      "\n",
      "[298]\n"
     ]
    },
    {
     "name": "stderr",
     "output_type": "stream",
     "text": [
      "/Users/hundredball/anaconda3/envs/Math24/lib/python3.7/site-packages/sklearn/metrics/_regression.py:582: UndefinedMetricWarning: R^2 score is not well-defined with less than two samples.\n",
      "  warnings.warn(msg, UndefinedMetricWarning)\n",
      "/Users/hundredball/anaconda3/envs/Math24/lib/python3.7/site-packages/sklearn/metrics/_regression.py:582: UndefinedMetricWarning: R^2 score is not well-defined with less than two samples.\n",
      "  warnings.warn(msg, UndefinedMetricWarning)\n"
     ]
    },
    {
     "name": "stdout",
     "output_type": "stream",
     "text": [
      "Select 342 features\n",
      "First: 0, 0.211958\n",
      "Second: 7, 0.077318\n",
      "Method 1: 14.608266 | 8.453432\n",
      "\n",
      "Baseline: 14.611525 | 8.200734\n",
      "\n",
      "---Iteration 299---\n",
      "\n",
      "[299]\n"
     ]
    },
    {
     "name": "stderr",
     "output_type": "stream",
     "text": [
      "/Users/hundredball/anaconda3/envs/Math24/lib/python3.7/site-packages/sklearn/metrics/_regression.py:582: UndefinedMetricWarning: R^2 score is not well-defined with less than two samples.\n",
      "  warnings.warn(msg, UndefinedMetricWarning)\n",
      "/Users/hundredball/anaconda3/envs/Math24/lib/python3.7/site-packages/sklearn/metrics/_regression.py:582: UndefinedMetricWarning: R^2 score is not well-defined with less than two samples.\n",
      "  warnings.warn(msg, UndefinedMetricWarning)\n"
     ]
    },
    {
     "name": "stdout",
     "output_type": "stream",
     "text": [
      "Select 342 features\n",
      "First: 0, 0.212053\n",
      "Second: 7, 0.075460\n",
      "Method 1: 14.606783 | 9.404227\n",
      "\n",
      "Baseline: 14.610207 | 9.200994\n",
      "\n",
      "---Iteration 300---\n",
      "\n",
      "[300]\n"
     ]
    },
    {
     "name": "stderr",
     "output_type": "stream",
     "text": [
      "/Users/hundredball/anaconda3/envs/Math24/lib/python3.7/site-packages/sklearn/metrics/_regression.py:582: UndefinedMetricWarning: R^2 score is not well-defined with less than two samples.\n",
      "  warnings.warn(msg, UndefinedMetricWarning)\n",
      "/Users/hundredball/anaconda3/envs/Math24/lib/python3.7/site-packages/sklearn/metrics/_regression.py:582: UndefinedMetricWarning: R^2 score is not well-defined with less than two samples.\n",
      "  warnings.warn(msg, UndefinedMetricWarning)\n"
     ]
    },
    {
     "name": "stdout",
     "output_type": "stream",
     "text": [
      "Select 342 features\n",
      "First: 0, 0.212296\n",
      "Second: 7, 0.077399\n",
      "Method 1: 14.614140 | 2.072577\n",
      "\n",
      "Baseline: 14.616176 | 2.408675\n",
      "\n",
      "---Iteration 301---\n",
      "\n",
      "[301]\n"
     ]
    },
    {
     "name": "stderr",
     "output_type": "stream",
     "text": [
      "/Users/hundredball/anaconda3/envs/Math24/lib/python3.7/site-packages/sklearn/metrics/_regression.py:582: UndefinedMetricWarning: R^2 score is not well-defined with less than two samples.\n",
      "  warnings.warn(msg, UndefinedMetricWarning)\n",
      "/Users/hundredball/anaconda3/envs/Math24/lib/python3.7/site-packages/sklearn/metrics/_regression.py:582: UndefinedMetricWarning: R^2 score is not well-defined with less than two samples.\n",
      "  warnings.warn(msg, UndefinedMetricWarning)\n"
     ]
    },
    {
     "name": "stdout",
     "output_type": "stream",
     "text": [
      "Select 342 features\n",
      "First: 0, 0.211765\n",
      "Second: 7, 0.075209\n",
      "Method 1: 14.605652 | 9.766093\n",
      "\n",
      "Baseline: 14.609464 | 9.719720\n",
      "\n",
      "---Iteration 302---\n",
      "\n",
      "[302]\n"
     ]
    },
    {
     "name": "stderr",
     "output_type": "stream",
     "text": [
      "/Users/hundredball/anaconda3/envs/Math24/lib/python3.7/site-packages/sklearn/metrics/_regression.py:582: UndefinedMetricWarning: R^2 score is not well-defined with less than two samples.\n",
      "  warnings.warn(msg, UndefinedMetricWarning)\n",
      "/Users/hundredball/anaconda3/envs/Math24/lib/python3.7/site-packages/sklearn/metrics/_regression.py:582: UndefinedMetricWarning: R^2 score is not well-defined with less than two samples.\n",
      "  warnings.warn(msg, UndefinedMetricWarning)\n"
     ]
    },
    {
     "name": "stdout",
     "output_type": "stream",
     "text": [
      "Select 342 features\n",
      "First: 0, 0.212137\n",
      "Second: 7, 0.075427\n",
      "Method 1: 14.612400 | 5.195028\n",
      "\n",
      "Baseline: 14.614780 | 4.923954\n",
      "\n",
      "---Iteration 303---\n",
      "\n",
      "[303]\n"
     ]
    },
    {
     "name": "stderr",
     "output_type": "stream",
     "text": [
      "/Users/hundredball/anaconda3/envs/Math24/lib/python3.7/site-packages/sklearn/metrics/_regression.py:582: UndefinedMetricWarning: R^2 score is not well-defined with less than two samples.\n",
      "  warnings.warn(msg, UndefinedMetricWarning)\n",
      "/Users/hundredball/anaconda3/envs/Math24/lib/python3.7/site-packages/sklearn/metrics/_regression.py:582: UndefinedMetricWarning: R^2 score is not well-defined with less than two samples.\n",
      "  warnings.warn(msg, UndefinedMetricWarning)\n"
     ]
    },
    {
     "name": "stdout",
     "output_type": "stream",
     "text": [
      "Select 342 features\n",
      "First: 0, 0.212137\n",
      "Second: 7, 0.077307\n",
      "Method 1: 14.607590 | 8.048068\n",
      "\n",
      "Baseline: 14.612349 | 7.507795\n",
      "\n",
      "---Iteration 304---\n",
      "\n",
      "[304]\n"
     ]
    },
    {
     "name": "stderr",
     "output_type": "stream",
     "text": [
      "/Users/hundredball/anaconda3/envs/Math24/lib/python3.7/site-packages/sklearn/metrics/_regression.py:582: UndefinedMetricWarning: R^2 score is not well-defined with less than two samples.\n",
      "  warnings.warn(msg, UndefinedMetricWarning)\n",
      "/Users/hundredball/anaconda3/envs/Math24/lib/python3.7/site-packages/sklearn/metrics/_regression.py:582: UndefinedMetricWarning: R^2 score is not well-defined with less than two samples.\n",
      "  warnings.warn(msg, UndefinedMetricWarning)\n"
     ]
    },
    {
     "name": "stdout",
     "output_type": "stream",
     "text": [
      "Select 342 features\n",
      "First: 0, 0.212336\n",
      "Second: 7, 0.075687\n",
      "Method 1: 14.612851 | 4.655120\n",
      "\n",
      "Baseline: 14.615126 | 4.436547\n",
      "\n",
      "---Iteration 305---\n",
      "\n",
      "[305]\n"
     ]
    },
    {
     "name": "stderr",
     "output_type": "stream",
     "text": [
      "/Users/hundredball/anaconda3/envs/Math24/lib/python3.7/site-packages/sklearn/metrics/_regression.py:582: UndefinedMetricWarning: R^2 score is not well-defined with less than two samples.\n",
      "  warnings.warn(msg, UndefinedMetricWarning)\n",
      "/Users/hundredball/anaconda3/envs/Math24/lib/python3.7/site-packages/sklearn/metrics/_regression.py:582: UndefinedMetricWarning: R^2 score is not well-defined with less than two samples.\n",
      "  warnings.warn(msg, UndefinedMetricWarning)\n"
     ]
    },
    {
     "name": "stdout",
     "output_type": "stream",
     "text": [
      "Select 342 features\n",
      "First: 0, 0.211773\n",
      "Second: 7, 0.070094\n",
      "Method 1: 14.610257 | 8.008900\n",
      "\n",
      "Baseline: 14.611967 | 7.836648\n",
      "\n",
      "---Iteration 306---\n",
      "\n",
      "[306]\n"
     ]
    },
    {
     "name": "stderr",
     "output_type": "stream",
     "text": [
      "/Users/hundredball/anaconda3/envs/Math24/lib/python3.7/site-packages/sklearn/metrics/_regression.py:582: UndefinedMetricWarning: R^2 score is not well-defined with less than two samples.\n",
      "  warnings.warn(msg, UndefinedMetricWarning)\n",
      "/Users/hundredball/anaconda3/envs/Math24/lib/python3.7/site-packages/sklearn/metrics/_regression.py:582: UndefinedMetricWarning: R^2 score is not well-defined with less than two samples.\n",
      "  warnings.warn(msg, UndefinedMetricWarning)\n"
     ]
    },
    {
     "name": "stdout",
     "output_type": "stream",
     "text": [
      "Select 342 features\n",
      "First: 0, 0.212861\n",
      "Second: 7, 0.074883\n",
      "Method 1: 14.610725 | 6.298798\n",
      "\n",
      "Baseline: 14.613628 | 6.282480\n",
      "\n",
      "---Iteration 307---\n",
      "\n",
      "[307]\n"
     ]
    },
    {
     "name": "stderr",
     "output_type": "stream",
     "text": [
      "/Users/hundredball/anaconda3/envs/Math24/lib/python3.7/site-packages/sklearn/metrics/_regression.py:582: UndefinedMetricWarning: R^2 score is not well-defined with less than two samples.\n",
      "  warnings.warn(msg, UndefinedMetricWarning)\n",
      "/Users/hundredball/anaconda3/envs/Math24/lib/python3.7/site-packages/sklearn/metrics/_regression.py:582: UndefinedMetricWarning: R^2 score is not well-defined with less than two samples.\n",
      "  warnings.warn(msg, UndefinedMetricWarning)\n"
     ]
    },
    {
     "name": "stdout",
     "output_type": "stream",
     "text": [
      "Select 342 features\n",
      "First: 0, 0.212354\n",
      "Second: 7, 0.073640\n",
      "Method 1: 14.600815 | 13.086251\n",
      "\n",
      "Baseline: 14.603198 | 13.311703\n",
      "\n",
      "---Iteration 308---\n",
      "\n",
      "[308]\n"
     ]
    },
    {
     "name": "stderr",
     "output_type": "stream",
     "text": [
      "/Users/hundredball/anaconda3/envs/Math24/lib/python3.7/site-packages/sklearn/metrics/_regression.py:582: UndefinedMetricWarning: R^2 score is not well-defined with less than two samples.\n",
      "  warnings.warn(msg, UndefinedMetricWarning)\n",
      "/Users/hundredball/anaconda3/envs/Math24/lib/python3.7/site-packages/sklearn/metrics/_regression.py:582: UndefinedMetricWarning: R^2 score is not well-defined with less than two samples.\n",
      "  warnings.warn(msg, UndefinedMetricWarning)\n"
     ]
    },
    {
     "name": "stdout",
     "output_type": "stream",
     "text": [
      "Select 342 features\n",
      "First: 0, 0.212748\n",
      "Second: 7, 0.074738\n",
      "Method 1: 14.604212 | 11.848519\n",
      "\n",
      "Baseline: 14.605904 | 11.894505\n",
      "\n",
      "---Iteration 309---\n",
      "\n",
      "[309]\n"
     ]
    },
    {
     "name": "stderr",
     "output_type": "stream",
     "text": [
      "/Users/hundredball/anaconda3/envs/Math24/lib/python3.7/site-packages/sklearn/metrics/_regression.py:582: UndefinedMetricWarning: R^2 score is not well-defined with less than two samples.\n",
      "  warnings.warn(msg, UndefinedMetricWarning)\n",
      "/Users/hundredball/anaconda3/envs/Math24/lib/python3.7/site-packages/sklearn/metrics/_regression.py:582: UndefinedMetricWarning: R^2 score is not well-defined with less than two samples.\n",
      "  warnings.warn(msg, UndefinedMetricWarning)\n"
     ]
    },
    {
     "name": "stdout",
     "output_type": "stream",
     "text": [
      "Select 342 features\n",
      "First: 0, 0.216043\n",
      "Second: 2, 0.062111\n",
      "Method 1: 14.540586 | 26.070018\n",
      "\n",
      "Baseline: 14.561563 | 26.945382\n",
      "\n",
      "---Iteration 310---\n",
      "\n",
      "[310]\n"
     ]
    },
    {
     "name": "stderr",
     "output_type": "stream",
     "text": [
      "/Users/hundredball/anaconda3/envs/Math24/lib/python3.7/site-packages/sklearn/metrics/_regression.py:582: UndefinedMetricWarning: R^2 score is not well-defined with less than two samples.\n",
      "  warnings.warn(msg, UndefinedMetricWarning)\n",
      "/Users/hundredball/anaconda3/envs/Math24/lib/python3.7/site-packages/sklearn/metrics/_regression.py:582: UndefinedMetricWarning: R^2 score is not well-defined with less than two samples.\n",
      "  warnings.warn(msg, UndefinedMetricWarning)\n"
     ]
    },
    {
     "name": "stdout",
     "output_type": "stream",
     "text": [
      "Select 342 features\n",
      "First: 0, 0.212426\n",
      "Second: 7, 0.074743\n",
      "Method 1: 14.614725 | 1.656862\n",
      "\n",
      "Baseline: 14.616484 | 1.318320\n",
      "\n",
      "---Iteration 311---\n",
      "\n",
      "[311]\n"
     ]
    },
    {
     "name": "stderr",
     "output_type": "stream",
     "text": [
      "/Users/hundredball/anaconda3/envs/Math24/lib/python3.7/site-packages/sklearn/metrics/_regression.py:582: UndefinedMetricWarning: R^2 score is not well-defined with less than two samples.\n",
      "  warnings.warn(msg, UndefinedMetricWarning)\n",
      "/Users/hundredball/anaconda3/envs/Math24/lib/python3.7/site-packages/sklearn/metrics/_regression.py:582: UndefinedMetricWarning: R^2 score is not well-defined with less than two samples.\n",
      "  warnings.warn(msg, UndefinedMetricWarning)\n"
     ]
    },
    {
     "name": "stdout",
     "output_type": "stream",
     "text": [
      "Select 342 features\n",
      "First: 0, 0.211950\n",
      "Second: 7, 0.069383\n",
      "Method 1: 14.611161 | 7.435241\n",
      "\n",
      "Baseline: 14.612795 | 7.104559\n",
      "\n",
      "---Iteration 312---\n",
      "\n",
      "[312]\n"
     ]
    },
    {
     "name": "stderr",
     "output_type": "stream",
     "text": [
      "/Users/hundredball/anaconda3/envs/Math24/lib/python3.7/site-packages/sklearn/metrics/_regression.py:582: UndefinedMetricWarning: R^2 score is not well-defined with less than two samples.\n",
      "  warnings.warn(msg, UndefinedMetricWarning)\n",
      "/Users/hundredball/anaconda3/envs/Math24/lib/python3.7/site-packages/sklearn/metrics/_regression.py:582: UndefinedMetricWarning: R^2 score is not well-defined with less than two samples.\n",
      "  warnings.warn(msg, UndefinedMetricWarning)\n"
     ]
    },
    {
     "name": "stdout",
     "output_type": "stream",
     "text": [
      "Select 342 features\n",
      "First: 0, 0.212326\n",
      "Second: 7, 0.075334\n",
      "Method 1: 14.614341 | 1.604546\n",
      "\n",
      "Baseline: 14.616452 | 1.471002\n",
      "\n",
      "---Iteration 313---\n",
      "\n",
      "[313]\n"
     ]
    },
    {
     "name": "stderr",
     "output_type": "stream",
     "text": [
      "/Users/hundredball/anaconda3/envs/Math24/lib/python3.7/site-packages/sklearn/metrics/_regression.py:582: UndefinedMetricWarning: R^2 score is not well-defined with less than two samples.\n",
      "  warnings.warn(msg, UndefinedMetricWarning)\n",
      "/Users/hundredball/anaconda3/envs/Math24/lib/python3.7/site-packages/sklearn/metrics/_regression.py:582: UndefinedMetricWarning: R^2 score is not well-defined with less than two samples.\n",
      "  warnings.warn(msg, UndefinedMetricWarning)\n"
     ]
    },
    {
     "name": "stdout",
     "output_type": "stream",
     "text": [
      "Select 342 features\n",
      "First: 0, 0.211819\n",
      "Second: 7, 0.076969\n",
      "Method 1: 14.610169 | 7.154340\n",
      "\n",
      "Baseline: 14.613005 | 6.906856\n",
      "\n",
      "---Iteration 314---\n",
      "\n",
      "[314]\n"
     ]
    },
    {
     "name": "stderr",
     "output_type": "stream",
     "text": [
      "/Users/hundredball/anaconda3/envs/Math24/lib/python3.7/site-packages/sklearn/metrics/_regression.py:582: UndefinedMetricWarning: R^2 score is not well-defined with less than two samples.\n",
      "  warnings.warn(msg, UndefinedMetricWarning)\n",
      "/Users/hundredball/anaconda3/envs/Math24/lib/python3.7/site-packages/sklearn/metrics/_regression.py:582: UndefinedMetricWarning: R^2 score is not well-defined with less than two samples.\n",
      "  warnings.warn(msg, UndefinedMetricWarning)\n"
     ]
    },
    {
     "name": "stdout",
     "output_type": "stream",
     "text": [
      "Select 342 features\n",
      "First: 0, 0.212243\n",
      "Second: 7, 0.075705\n",
      "Method 1: 14.612788 | 4.782078\n",
      "\n",
      "Baseline: 14.614969 | 4.663612\n",
      "\n",
      "---Iteration 315---\n",
      "\n",
      "[315]\n"
     ]
    },
    {
     "name": "stderr",
     "output_type": "stream",
     "text": [
      "/Users/hundredball/anaconda3/envs/Math24/lib/python3.7/site-packages/sklearn/metrics/_regression.py:582: UndefinedMetricWarning: R^2 score is not well-defined with less than two samples.\n",
      "  warnings.warn(msg, UndefinedMetricWarning)\n",
      "/Users/hundredball/anaconda3/envs/Math24/lib/python3.7/site-packages/sklearn/metrics/_regression.py:582: UndefinedMetricWarning: R^2 score is not well-defined with less than two samples.\n",
      "  warnings.warn(msg, UndefinedMetricWarning)\n"
     ]
    },
    {
     "name": "stdout",
     "output_type": "stream",
     "text": [
      "Select 342 features\n",
      "First: 0, 0.212399\n",
      "Second: 7, 0.077271\n",
      "Method 1: 14.614558 | 0.919290\n",
      "\n",
      "Baseline: 14.616584 | 0.639083\n",
      "\n",
      "---Iteration 316---\n",
      "\n",
      "[316]\n"
     ]
    },
    {
     "name": "stderr",
     "output_type": "stream",
     "text": [
      "/Users/hundredball/anaconda3/envs/Math24/lib/python3.7/site-packages/sklearn/metrics/_regression.py:582: UndefinedMetricWarning: R^2 score is not well-defined with less than two samples.\n",
      "  warnings.warn(msg, UndefinedMetricWarning)\n",
      "/Users/hundredball/anaconda3/envs/Math24/lib/python3.7/site-packages/sklearn/metrics/_regression.py:582: UndefinedMetricWarning: R^2 score is not well-defined with less than two samples.\n",
      "  warnings.warn(msg, UndefinedMetricWarning)\n"
     ]
    },
    {
     "name": "stdout",
     "output_type": "stream",
     "text": [
      "Select 342 features\n",
      "First: 0, 0.212250\n",
      "Second: 7, 0.073601\n",
      "Method 1: 14.608967 | 8.954904\n",
      "\n",
      "Baseline: 14.611042 | 8.580481\n",
      "\n",
      "---Iteration 317---\n",
      "\n",
      "[317]\n"
     ]
    },
    {
     "name": "stderr",
     "output_type": "stream",
     "text": [
      "/Users/hundredball/anaconda3/envs/Math24/lib/python3.7/site-packages/sklearn/metrics/_regression.py:582: UndefinedMetricWarning: R^2 score is not well-defined with less than two samples.\n",
      "  warnings.warn(msg, UndefinedMetricWarning)\n",
      "/Users/hundredball/anaconda3/envs/Math24/lib/python3.7/site-packages/sklearn/metrics/_regression.py:582: UndefinedMetricWarning: R^2 score is not well-defined with less than two samples.\n",
      "  warnings.warn(msg, UndefinedMetricWarning)\n"
     ]
    },
    {
     "name": "stdout",
     "output_type": "stream",
     "text": [
      "Select 342 features\n",
      "First: 0, 0.212080\n",
      "Second: 7, 0.075937\n",
      "Method 1: 14.610265 | 7.315888\n",
      "\n",
      "Baseline: 14.612990 | 6.920558\n",
      "\n",
      "---Iteration 318---\n",
      "\n",
      "[318]\n"
     ]
    },
    {
     "name": "stderr",
     "output_type": "stream",
     "text": [
      "/Users/hundredball/anaconda3/envs/Math24/lib/python3.7/site-packages/sklearn/metrics/_regression.py:582: UndefinedMetricWarning: R^2 score is not well-defined with less than two samples.\n",
      "  warnings.warn(msg, UndefinedMetricWarning)\n",
      "/Users/hundredball/anaconda3/envs/Math24/lib/python3.7/site-packages/sklearn/metrics/_regression.py:582: UndefinedMetricWarning: R^2 score is not well-defined with less than two samples.\n",
      "  warnings.warn(msg, UndefinedMetricWarning)\n"
     ]
    },
    {
     "name": "stdout",
     "output_type": "stream",
     "text": [
      "Select 342 features\n",
      "First: 0, 0.212366\n",
      "Second: 7, 0.075912\n",
      "Method 1: 14.614279 | 0.827645\n",
      "\n",
      "Baseline: 14.616577 | 0.709552\n",
      "\n",
      "---Iteration 319---\n",
      "\n",
      "[319]\n"
     ]
    },
    {
     "name": "stderr",
     "output_type": "stream",
     "text": [
      "/Users/hundredball/anaconda3/envs/Math24/lib/python3.7/site-packages/sklearn/metrics/_regression.py:582: UndefinedMetricWarning: R^2 score is not well-defined with less than two samples.\n",
      "  warnings.warn(msg, UndefinedMetricWarning)\n",
      "/Users/hundredball/anaconda3/envs/Math24/lib/python3.7/site-packages/sklearn/metrics/_regression.py:582: UndefinedMetricWarning: R^2 score is not well-defined with less than two samples.\n",
      "  warnings.warn(msg, UndefinedMetricWarning)\n"
     ]
    },
    {
     "name": "stdout",
     "output_type": "stream",
     "text": [
      "Select 342 features\n",
      "First: 0, 0.212066\n",
      "Second: 7, 0.072658\n",
      "Method 1: 14.611213 | 7.348498\n",
      "\n",
      "Baseline: 14.612852 | 7.051708\n",
      "\n",
      "---Iteration 320---\n",
      "\n",
      "[320]\n"
     ]
    },
    {
     "name": "stderr",
     "output_type": "stream",
     "text": [
      "/Users/hundredball/anaconda3/envs/Math24/lib/python3.7/site-packages/sklearn/metrics/_regression.py:582: UndefinedMetricWarning: R^2 score is not well-defined with less than two samples.\n",
      "  warnings.warn(msg, UndefinedMetricWarning)\n",
      "/Users/hundredball/anaconda3/envs/Math24/lib/python3.7/site-packages/sklearn/metrics/_regression.py:582: UndefinedMetricWarning: R^2 score is not well-defined with less than two samples.\n",
      "  warnings.warn(msg, UndefinedMetricWarning)\n"
     ]
    },
    {
     "name": "stdout",
     "output_type": "stream",
     "text": [
      "Select 342 features\n",
      "First: 0, 0.212579\n",
      "Second: 7, 0.076183\n",
      "Method 1: 14.613284 | 4.198451\n",
      "\n",
      "Baseline: 14.615144 | 4.409195\n",
      "\n",
      "---Iteration 321---\n",
      "\n",
      "[321]\n"
     ]
    },
    {
     "name": "stderr",
     "output_type": "stream",
     "text": [
      "/Users/hundredball/anaconda3/envs/Math24/lib/python3.7/site-packages/sklearn/metrics/_regression.py:582: UndefinedMetricWarning: R^2 score is not well-defined with less than two samples.\n",
      "  warnings.warn(msg, UndefinedMetricWarning)\n",
      "/Users/hundredball/anaconda3/envs/Math24/lib/python3.7/site-packages/sklearn/metrics/_regression.py:582: UndefinedMetricWarning: R^2 score is not well-defined with less than two samples.\n",
      "  warnings.warn(msg, UndefinedMetricWarning)\n"
     ]
    },
    {
     "name": "stdout",
     "output_type": "stream",
     "text": [
      "Select 342 features\n",
      "First: 0, 0.212439\n",
      "Second: 7, 0.075699\n",
      "Method 1: 14.614274 | 1.729132\n",
      "\n",
      "Baseline: 14.616366 | 1.815566\n",
      "\n",
      "---Iteration 322---\n",
      "\n",
      "[322]\n"
     ]
    },
    {
     "name": "stderr",
     "output_type": "stream",
     "text": [
      "/Users/hundredball/anaconda3/envs/Math24/lib/python3.7/site-packages/sklearn/metrics/_regression.py:582: UndefinedMetricWarning: R^2 score is not well-defined with less than two samples.\n",
      "  warnings.warn(msg, UndefinedMetricWarning)\n",
      "/Users/hundredball/anaconda3/envs/Math24/lib/python3.7/site-packages/sklearn/metrics/_regression.py:582: UndefinedMetricWarning: R^2 score is not well-defined with less than two samples.\n",
      "  warnings.warn(msg, UndefinedMetricWarning)\n"
     ]
    },
    {
     "name": "stdout",
     "output_type": "stream",
     "text": [
      "Select 342 features\n",
      "First: 0, 0.212463\n",
      "Second: 7, 0.076636\n",
      "Method 1: 14.610525 | 6.892777\n",
      "\n",
      "Baseline: 14.612492 | 7.380613\n",
      "\n",
      "---Iteration 323---\n",
      "\n",
      "[323]\n"
     ]
    },
    {
     "name": "stderr",
     "output_type": "stream",
     "text": [
      "/Users/hundredball/anaconda3/envs/Math24/lib/python3.7/site-packages/sklearn/metrics/_regression.py:582: UndefinedMetricWarning: R^2 score is not well-defined with less than two samples.\n",
      "  warnings.warn(msg, UndefinedMetricWarning)\n",
      "/Users/hundredball/anaconda3/envs/Math24/lib/python3.7/site-packages/sklearn/metrics/_regression.py:582: UndefinedMetricWarning: R^2 score is not well-defined with less than two samples.\n",
      "  warnings.warn(msg, UndefinedMetricWarning)\n"
     ]
    },
    {
     "name": "stdout",
     "output_type": "stream",
     "text": [
      "Select 342 features\n",
      "First: 0, 0.212355\n",
      "Second: 7, 0.074732\n",
      "Method 1: 14.613636 | 1.480759\n",
      "\n",
      "Baseline: 14.616343 | 1.897779\n",
      "\n",
      "---Iteration 324---\n",
      "\n",
      "[324]\n"
     ]
    },
    {
     "name": "stderr",
     "output_type": "stream",
     "text": [
      "/Users/hundredball/anaconda3/envs/Math24/lib/python3.7/site-packages/sklearn/metrics/_regression.py:582: UndefinedMetricWarning: R^2 score is not well-defined with less than two samples.\n",
      "  warnings.warn(msg, UndefinedMetricWarning)\n",
      "/Users/hundredball/anaconda3/envs/Math24/lib/python3.7/site-packages/sklearn/metrics/_regression.py:582: UndefinedMetricWarning: R^2 score is not well-defined with less than two samples.\n",
      "  warnings.warn(msg, UndefinedMetricWarning)\n"
     ]
    },
    {
     "name": "stdout",
     "output_type": "stream",
     "text": [
      "Select 342 features\n",
      "First: 0, 0.212286\n",
      "Second: 7, 0.073781\n",
      "Method 1: 14.610927 | 6.669378\n",
      "\n",
      "Baseline: 14.612885 | 7.020441\n",
      "\n",
      "---Iteration 325---\n",
      "\n",
      "[325]\n"
     ]
    },
    {
     "name": "stderr",
     "output_type": "stream",
     "text": [
      "/Users/hundredball/anaconda3/envs/Math24/lib/python3.7/site-packages/sklearn/metrics/_regression.py:582: UndefinedMetricWarning: R^2 score is not well-defined with less than two samples.\n",
      "  warnings.warn(msg, UndefinedMetricWarning)\n",
      "/Users/hundredball/anaconda3/envs/Math24/lib/python3.7/site-packages/sklearn/metrics/_regression.py:582: UndefinedMetricWarning: R^2 score is not well-defined with less than two samples.\n",
      "  warnings.warn(msg, UndefinedMetricWarning)\n"
     ]
    },
    {
     "name": "stdout",
     "output_type": "stream",
     "text": [
      "Select 342 features\n",
      "First: 0, 0.213044\n",
      "Second: 7, 0.075112\n",
      "Method 1: 14.608346 | 8.653128\n",
      "\n",
      "Baseline: 14.610881 | 8.703853\n",
      "\n",
      "---Iteration 326---\n",
      "\n",
      "[326]\n"
     ]
    },
    {
     "name": "stderr",
     "output_type": "stream",
     "text": [
      "/Users/hundredball/anaconda3/envs/Math24/lib/python3.7/site-packages/sklearn/metrics/_regression.py:582: UndefinedMetricWarning: R^2 score is not well-defined with less than two samples.\n",
      "  warnings.warn(msg, UndefinedMetricWarning)\n",
      "/Users/hundredball/anaconda3/envs/Math24/lib/python3.7/site-packages/sklearn/metrics/_regression.py:582: UndefinedMetricWarning: R^2 score is not well-defined with less than two samples.\n",
      "  warnings.warn(msg, UndefinedMetricWarning)\n"
     ]
    },
    {
     "name": "stdout",
     "output_type": "stream",
     "text": [
      "Select 342 features\n",
      "First: 0, 0.212282\n",
      "Second: 7, 0.075782\n",
      "Method 1: 14.614059 | 2.729027\n",
      "\n",
      "Baseline: 14.616138 | 2.512368\n",
      "\n",
      "---Iteration 327---\n",
      "\n",
      "[327]\n"
     ]
    },
    {
     "name": "stderr",
     "output_type": "stream",
     "text": [
      "/Users/hundredball/anaconda3/envs/Math24/lib/python3.7/site-packages/sklearn/metrics/_regression.py:582: UndefinedMetricWarning: R^2 score is not well-defined with less than two samples.\n",
      "  warnings.warn(msg, UndefinedMetricWarning)\n",
      "/Users/hundredball/anaconda3/envs/Math24/lib/python3.7/site-packages/sklearn/metrics/_regression.py:582: UndefinedMetricWarning: R^2 score is not well-defined with less than two samples.\n",
      "  warnings.warn(msg, UndefinedMetricWarning)\n"
     ]
    },
    {
     "name": "stdout",
     "output_type": "stream",
     "text": [
      "Select 342 features\n",
      "First: 0, 0.212731\n",
      "Second: 7, 0.075519\n",
      "Method 1: 14.614752 | 1.556672\n",
      "\n",
      "Baseline: 14.616438 | 1.529726\n",
      "\n",
      "---Iteration 328---\n",
      "\n",
      "[328]\n"
     ]
    },
    {
     "name": "stderr",
     "output_type": "stream",
     "text": [
      "/Users/hundredball/anaconda3/envs/Math24/lib/python3.7/site-packages/sklearn/metrics/_regression.py:582: UndefinedMetricWarning: R^2 score is not well-defined with less than two samples.\n",
      "  warnings.warn(msg, UndefinedMetricWarning)\n",
      "/Users/hundredball/anaconda3/envs/Math24/lib/python3.7/site-packages/sklearn/metrics/_regression.py:582: UndefinedMetricWarning: R^2 score is not well-defined with less than two samples.\n",
      "  warnings.warn(msg, UndefinedMetricWarning)\n"
     ]
    },
    {
     "name": "stdout",
     "output_type": "stream",
     "text": [
      "Select 342 features\n",
      "First: 0, 0.213050\n",
      "Second: 7, 0.075746\n",
      "Method 1: 14.614674 | 1.402097\n",
      "\n",
      "Baseline: 14.616403 | 1.676535\n",
      "\n",
      "---Iteration 329---\n",
      "\n",
      "[329]\n"
     ]
    },
    {
     "name": "stderr",
     "output_type": "stream",
     "text": [
      "/Users/hundredball/anaconda3/envs/Math24/lib/python3.7/site-packages/sklearn/metrics/_regression.py:582: UndefinedMetricWarning: R^2 score is not well-defined with less than two samples.\n",
      "  warnings.warn(msg, UndefinedMetricWarning)\n",
      "/Users/hundredball/anaconda3/envs/Math24/lib/python3.7/site-packages/sklearn/metrics/_regression.py:582: UndefinedMetricWarning: R^2 score is not well-defined with less than two samples.\n",
      "  warnings.warn(msg, UndefinedMetricWarning)\n"
     ]
    },
    {
     "name": "stdout",
     "output_type": "stream",
     "text": [
      "Select 342 features\n",
      "First: 0, 0.213057\n",
      "Second: 7, 0.076426\n",
      "Method 1: 14.614337 | 1.547797\n",
      "\n",
      "Baseline: 14.616355 | 1.854663\n",
      "\n",
      "---Iteration 330---\n",
      "\n",
      "[330]\n"
     ]
    },
    {
     "name": "stderr",
     "output_type": "stream",
     "text": [
      "/Users/hundredball/anaconda3/envs/Math24/lib/python3.7/site-packages/sklearn/metrics/_regression.py:582: UndefinedMetricWarning: R^2 score is not well-defined with less than two samples.\n",
      "  warnings.warn(msg, UndefinedMetricWarning)\n",
      "/Users/hundredball/anaconda3/envs/Math24/lib/python3.7/site-packages/sklearn/metrics/_regression.py:582: UndefinedMetricWarning: R^2 score is not well-defined with less than two samples.\n",
      "  warnings.warn(msg, UndefinedMetricWarning)\n"
     ]
    },
    {
     "name": "stdout",
     "output_type": "stream",
     "text": [
      "Select 342 features\n",
      "First: 0, 0.214261\n",
      "Second: 7, 0.076553\n",
      "Method 1: 14.609835 | 7.220504\n",
      "\n",
      "Baseline: 14.612411 | 7.452986\n",
      "\n",
      "---Iteration 331---\n",
      "\n",
      "[331]\n"
     ]
    },
    {
     "name": "stderr",
     "output_type": "stream",
     "text": [
      "/Users/hundredball/anaconda3/envs/Math24/lib/python3.7/site-packages/sklearn/metrics/_regression.py:582: UndefinedMetricWarning: R^2 score is not well-defined with less than two samples.\n",
      "  warnings.warn(msg, UndefinedMetricWarning)\n",
      "/Users/hundredball/anaconda3/envs/Math24/lib/python3.7/site-packages/sklearn/metrics/_regression.py:582: UndefinedMetricWarning: R^2 score is not well-defined with less than two samples.\n",
      "  warnings.warn(msg, UndefinedMetricWarning)\n"
     ]
    },
    {
     "name": "stdout",
     "output_type": "stream",
     "text": [
      "Select 342 features\n",
      "First: 0, 0.213112\n",
      "Second: 7, 0.076005\n",
      "Method 1: 14.613508 | 4.698304\n",
      "\n",
      "Baseline: 14.614948 | 4.692974\n",
      "\n",
      "---Iteration 332---\n",
      "\n",
      "[332]\n"
     ]
    },
    {
     "name": "stderr",
     "output_type": "stream",
     "text": [
      "/Users/hundredball/anaconda3/envs/Math24/lib/python3.7/site-packages/sklearn/metrics/_regression.py:582: UndefinedMetricWarning: R^2 score is not well-defined with less than two samples.\n",
      "  warnings.warn(msg, UndefinedMetricWarning)\n",
      "/Users/hundredball/anaconda3/envs/Math24/lib/python3.7/site-packages/sklearn/metrics/_regression.py:582: UndefinedMetricWarning: R^2 score is not well-defined with less than two samples.\n",
      "  warnings.warn(msg, UndefinedMetricWarning)\n"
     ]
    },
    {
     "name": "stdout",
     "output_type": "stream",
     "text": [
      "Select 342 features\n",
      "First: 0, 0.213280\n",
      "Second: 7, 0.075001\n",
      "Method 1: 14.609183 | 8.698646\n",
      "\n",
      "Baseline: 14.611022 | 8.596141\n",
      "\n",
      "---Iteration 333---\n",
      "\n",
      "[333]\n"
     ]
    },
    {
     "name": "stderr",
     "output_type": "stream",
     "text": [
      "/Users/hundredball/anaconda3/envs/Math24/lib/python3.7/site-packages/sklearn/metrics/_regression.py:582: UndefinedMetricWarning: R^2 score is not well-defined with less than two samples.\n",
      "  warnings.warn(msg, UndefinedMetricWarning)\n",
      "/Users/hundredball/anaconda3/envs/Math24/lib/python3.7/site-packages/sklearn/metrics/_regression.py:582: UndefinedMetricWarning: R^2 score is not well-defined with less than two samples.\n",
      "  warnings.warn(msg, UndefinedMetricWarning)\n"
     ]
    },
    {
     "name": "stdout",
     "output_type": "stream",
     "text": [
      "Select 342 features\n",
      "First: 0, 0.212770\n",
      "Second: 7, 0.074521\n",
      "Method 1: 14.613242 | 4.648247\n",
      "\n",
      "Baseline: 14.615023 | 4.587271\n",
      "\n",
      "---Iteration 334---\n",
      "\n",
      "[334]\n"
     ]
    },
    {
     "name": "stderr",
     "output_type": "stream",
     "text": [
      "/Users/hundredball/anaconda3/envs/Math24/lib/python3.7/site-packages/sklearn/metrics/_regression.py:582: UndefinedMetricWarning: R^2 score is not well-defined with less than two samples.\n",
      "  warnings.warn(msg, UndefinedMetricWarning)\n",
      "/Users/hundredball/anaconda3/envs/Math24/lib/python3.7/site-packages/sklearn/metrics/_regression.py:582: UndefinedMetricWarning: R^2 score is not well-defined with less than two samples.\n",
      "  warnings.warn(msg, UndefinedMetricWarning)\n"
     ]
    },
    {
     "name": "stdout",
     "output_type": "stream",
     "text": [
      "Select 342 features\n",
      "First: 0, 0.213366\n",
      "Second: 7, 0.075143\n",
      "Method 1: 14.611864 | 6.211892\n",
      "\n",
      "Baseline: 14.613722 | 6.182598\n",
      "\n",
      "---Iteration 335---\n",
      "\n",
      "[335]\n"
     ]
    },
    {
     "name": "stderr",
     "output_type": "stream",
     "text": [
      "/Users/hundredball/anaconda3/envs/Math24/lib/python3.7/site-packages/sklearn/metrics/_regression.py:582: UndefinedMetricWarning: R^2 score is not well-defined with less than two samples.\n",
      "  warnings.warn(msg, UndefinedMetricWarning)\n",
      "/Users/hundredball/anaconda3/envs/Math24/lib/python3.7/site-packages/sklearn/metrics/_regression.py:582: UndefinedMetricWarning: R^2 score is not well-defined with less than two samples.\n",
      "  warnings.warn(msg, UndefinedMetricWarning)\n"
     ]
    },
    {
     "name": "stdout",
     "output_type": "stream",
     "text": [
      "Select 342 features\n",
      "First: 0, 0.212905\n",
      "Second: 7, 0.074178\n",
      "Method 1: 14.608953 | 8.620213\n",
      "\n",
      "Baseline: 14.611184 | 8.470863\n",
      "\n",
      "---Iteration 336---\n",
      "\n",
      "[336]\n"
     ]
    },
    {
     "name": "stderr",
     "output_type": "stream",
     "text": [
      "/Users/hundredball/anaconda3/envs/Math24/lib/python3.7/site-packages/sklearn/metrics/_regression.py:582: UndefinedMetricWarning: R^2 score is not well-defined with less than two samples.\n",
      "  warnings.warn(msg, UndefinedMetricWarning)\n",
      "/Users/hundredball/anaconda3/envs/Math24/lib/python3.7/site-packages/sklearn/metrics/_regression.py:582: UndefinedMetricWarning: R^2 score is not well-defined with less than two samples.\n",
      "  warnings.warn(msg, UndefinedMetricWarning)\n"
     ]
    },
    {
     "name": "stdout",
     "output_type": "stream",
     "text": [
      "Select 342 features\n",
      "First: 0, 0.212666\n",
      "Second: 7, 0.076932\n",
      "Method 1: 14.609068 | 8.128320\n",
      "\n",
      "Baseline: 14.612018 | 7.793584\n",
      "\n",
      "---Iteration 337---\n",
      "\n",
      "[337]\n"
     ]
    },
    {
     "name": "stderr",
     "output_type": "stream",
     "text": [
      "/Users/hundredball/anaconda3/envs/Math24/lib/python3.7/site-packages/sklearn/metrics/_regression.py:582: UndefinedMetricWarning: R^2 score is not well-defined with less than two samples.\n",
      "  warnings.warn(msg, UndefinedMetricWarning)\n",
      "/Users/hundredball/anaconda3/envs/Math24/lib/python3.7/site-packages/sklearn/metrics/_regression.py:582: UndefinedMetricWarning: R^2 score is not well-defined with less than two samples.\n",
      "  warnings.warn(msg, UndefinedMetricWarning)\n"
     ]
    },
    {
     "name": "stdout",
     "output_type": "stream",
     "text": [
      "Select 342 features\n",
      "First: 0, 0.213704\n",
      "Second: 7, 0.075665\n",
      "Method 1: 14.612666 | 5.356040\n",
      "\n",
      "Baseline: 14.614229 | 5.614936\n",
      "\n",
      "---Iteration 338---\n",
      "\n",
      "[338]\n"
     ]
    },
    {
     "name": "stderr",
     "output_type": "stream",
     "text": [
      "/Users/hundredball/anaconda3/envs/Math24/lib/python3.7/site-packages/sklearn/metrics/_regression.py:582: UndefinedMetricWarning: R^2 score is not well-defined with less than two samples.\n",
      "  warnings.warn(msg, UndefinedMetricWarning)\n",
      "/Users/hundredball/anaconda3/envs/Math24/lib/python3.7/site-packages/sklearn/metrics/_regression.py:582: UndefinedMetricWarning: R^2 score is not well-defined with less than two samples.\n",
      "  warnings.warn(msg, UndefinedMetricWarning)\n"
     ]
    },
    {
     "name": "stdout",
     "output_type": "stream",
     "text": [
      "Select 342 features\n",
      "First: 0, 0.213699\n",
      "Second: 7, 0.074569\n",
      "Method 1: 14.609515 | 8.189737\n",
      "\n",
      "Baseline: 14.611505 | 8.216394\n",
      "\n",
      "---Iteration 339---\n",
      "\n",
      "[339]\n"
     ]
    },
    {
     "name": "stderr",
     "output_type": "stream",
     "text": [
      "/Users/hundredball/anaconda3/envs/Math24/lib/python3.7/site-packages/sklearn/metrics/_regression.py:582: UndefinedMetricWarning: R^2 score is not well-defined with less than two samples.\n",
      "  warnings.warn(msg, UndefinedMetricWarning)\n",
      "/Users/hundredball/anaconda3/envs/Math24/lib/python3.7/site-packages/sklearn/metrics/_regression.py:582: UndefinedMetricWarning: R^2 score is not well-defined with less than two samples.\n",
      "  warnings.warn(msg, UndefinedMetricWarning)\n"
     ]
    },
    {
     "name": "stdout",
     "output_type": "stream",
     "text": [
      "Select 342 features\n",
      "First: 0, 0.212872\n",
      "Second: 7, 0.078243\n",
      "Method 1: 14.613248 | 3.953525\n",
      "\n",
      "Baseline: 14.615602 | 3.659437\n",
      "\n",
      "---Iteration 340---\n",
      "\n",
      "[340]\n"
     ]
    },
    {
     "name": "stderr",
     "output_type": "stream",
     "text": [
      "/Users/hundredball/anaconda3/envs/Math24/lib/python3.7/site-packages/sklearn/metrics/_regression.py:582: UndefinedMetricWarning: R^2 score is not well-defined with less than two samples.\n",
      "  warnings.warn(msg, UndefinedMetricWarning)\n",
      "/Users/hundredball/anaconda3/envs/Math24/lib/python3.7/site-packages/sklearn/metrics/_regression.py:582: UndefinedMetricWarning: R^2 score is not well-defined with less than two samples.\n",
      "  warnings.warn(msg, UndefinedMetricWarning)\n"
     ]
    },
    {
     "name": "stdout",
     "output_type": "stream",
     "text": [
      "Select 342 features\n",
      "First: 0, 0.212791\n",
      "Second: 7, 0.075868\n",
      "Method 1: 14.614310 | 2.246714\n",
      "\n",
      "Baseline: 14.616193 | 2.361644\n",
      "\n",
      "---Iteration 341---\n",
      "\n",
      "[341]\n"
     ]
    },
    {
     "name": "stderr",
     "output_type": "stream",
     "text": [
      "/Users/hundredball/anaconda3/envs/Math24/lib/python3.7/site-packages/sklearn/metrics/_regression.py:582: UndefinedMetricWarning: R^2 score is not well-defined with less than two samples.\n",
      "  warnings.warn(msg, UndefinedMetricWarning)\n",
      "/Users/hundredball/anaconda3/envs/Math24/lib/python3.7/site-packages/sklearn/metrics/_regression.py:582: UndefinedMetricWarning: R^2 score is not well-defined with less than two samples.\n",
      "  warnings.warn(msg, UndefinedMetricWarning)\n"
     ]
    },
    {
     "name": "stdout",
     "output_type": "stream",
     "text": [
      "Select 342 features\n",
      "First: 0, 0.213675\n",
      "Second: 7, 0.074025\n",
      "Method 1: 14.611296 | 6.350913\n",
      "\n",
      "Baseline: 14.613293 | 6.624983\n",
      "\n",
      "---Iteration 342---\n",
      "\n",
      "[342]\n"
     ]
    },
    {
     "name": "stderr",
     "output_type": "stream",
     "text": [
      "/Users/hundredball/anaconda3/envs/Math24/lib/python3.7/site-packages/sklearn/metrics/_regression.py:582: UndefinedMetricWarning: R^2 score is not well-defined with less than two samples.\n",
      "  warnings.warn(msg, UndefinedMetricWarning)\n",
      "/Users/hundredball/anaconda3/envs/Math24/lib/python3.7/site-packages/sklearn/metrics/_regression.py:582: UndefinedMetricWarning: R^2 score is not well-defined with less than two samples.\n",
      "  warnings.warn(msg, UndefinedMetricWarning)\n"
     ]
    },
    {
     "name": "stdout",
     "output_type": "stream",
     "text": [
      "Select 342 features\n",
      "First: 0, 0.213052\n",
      "Second: 7, 0.074039\n",
      "Method 1: 14.612122 | 5.720186\n",
      "\n",
      "Baseline: 14.614084 | 5.783277\n",
      "\n",
      "---Iteration 343---\n",
      "\n",
      "[343]\n"
     ]
    },
    {
     "name": "stderr",
     "output_type": "stream",
     "text": [
      "/Users/hundredball/anaconda3/envs/Math24/lib/python3.7/site-packages/sklearn/metrics/_regression.py:582: UndefinedMetricWarning: R^2 score is not well-defined with less than two samples.\n",
      "  warnings.warn(msg, UndefinedMetricWarning)\n",
      "/Users/hundredball/anaconda3/envs/Math24/lib/python3.7/site-packages/sklearn/metrics/_regression.py:582: UndefinedMetricWarning: R^2 score is not well-defined with less than two samples.\n",
      "  warnings.warn(msg, UndefinedMetricWarning)\n"
     ]
    },
    {
     "name": "stdout",
     "output_type": "stream",
     "text": [
      "Select 342 features\n",
      "First: 0, 0.212558\n",
      "Second: 7, 0.076805\n",
      "Method 1: 14.612130 | 4.980342\n",
      "\n",
      "Baseline: 14.614831 | 4.855443\n",
      "\n",
      "---Iteration 344---\n",
      "\n",
      "[344]\n"
     ]
    },
    {
     "name": "stderr",
     "output_type": "stream",
     "text": [
      "/Users/hundredball/anaconda3/envs/Math24/lib/python3.7/site-packages/sklearn/metrics/_regression.py:582: UndefinedMetricWarning: R^2 score is not well-defined with less than two samples.\n",
      "  warnings.warn(msg, UndefinedMetricWarning)\n",
      "/Users/hundredball/anaconda3/envs/Math24/lib/python3.7/site-packages/sklearn/metrics/_regression.py:582: UndefinedMetricWarning: R^2 score is not well-defined with less than two samples.\n",
      "  warnings.warn(msg, UndefinedMetricWarning)\n"
     ]
    },
    {
     "name": "stdout",
     "output_type": "stream",
     "text": [
      "Select 342 features\n",
      "First: 0, 0.213792\n",
      "Second: 7, 0.073473\n",
      "Method 1: 14.612401 | 5.591962\n",
      "\n",
      "Baseline: 14.613984 | 5.896809\n",
      "\n",
      "---Iteration 345---\n",
      "\n",
      "[345]\n"
     ]
    },
    {
     "name": "stderr",
     "output_type": "stream",
     "text": [
      "/Users/hundredball/anaconda3/envs/Math24/lib/python3.7/site-packages/sklearn/metrics/_regression.py:582: UndefinedMetricWarning: R^2 score is not well-defined with less than two samples.\n",
      "  warnings.warn(msg, UndefinedMetricWarning)\n",
      "/Users/hundredball/anaconda3/envs/Math24/lib/python3.7/site-packages/sklearn/metrics/_regression.py:582: UndefinedMetricWarning: R^2 score is not well-defined with less than two samples.\n",
      "  warnings.warn(msg, UndefinedMetricWarning)\n"
     ]
    },
    {
     "name": "stdout",
     "output_type": "stream",
     "text": [
      "Select 342 features\n",
      "First: 0, 0.213455\n",
      "Second: 7, 0.075131\n",
      "Method 1: 14.612560 | 5.334149\n",
      "\n",
      "Baseline: 14.614323 | 5.503361\n",
      "\n",
      "---Iteration 346---\n",
      "\n",
      "[346]\n"
     ]
    },
    {
     "name": "stderr",
     "output_type": "stream",
     "text": [
      "/Users/hundredball/anaconda3/envs/Math24/lib/python3.7/site-packages/sklearn/metrics/_regression.py:582: UndefinedMetricWarning: R^2 score is not well-defined with less than two samples.\n",
      "  warnings.warn(msg, UndefinedMetricWarning)\n",
      "/Users/hundredball/anaconda3/envs/Math24/lib/python3.7/site-packages/sklearn/metrics/_regression.py:582: UndefinedMetricWarning: R^2 score is not well-defined with less than two samples.\n",
      "  warnings.warn(msg, UndefinedMetricWarning)\n"
     ]
    },
    {
     "name": "stdout",
     "output_type": "stream",
     "text": [
      "Select 342 features\n",
      "First: 0, 0.213039\n",
      "Second: 7, 0.075693\n",
      "Method 1: 14.613929 | 3.324393\n",
      "\n",
      "Baseline: 14.615689 | 3.498926\n",
      "\n",
      "---Iteration 347---\n",
      "\n",
      "[347]\n"
     ]
    },
    {
     "name": "stderr",
     "output_type": "stream",
     "text": [
      "/Users/hundredball/anaconda3/envs/Math24/lib/python3.7/site-packages/sklearn/metrics/_regression.py:582: UndefinedMetricWarning: R^2 score is not well-defined with less than two samples.\n",
      "  warnings.warn(msg, UndefinedMetricWarning)\n",
      "/Users/hundredball/anaconda3/envs/Math24/lib/python3.7/site-packages/sklearn/metrics/_regression.py:582: UndefinedMetricWarning: R^2 score is not well-defined with less than two samples.\n",
      "  warnings.warn(msg, UndefinedMetricWarning)\n"
     ]
    },
    {
     "name": "stdout",
     "output_type": "stream",
     "text": [
      "Select 342 features\n",
      "First: 0, 0.213276\n",
      "Second: 7, 0.075401\n",
      "Method 1: 14.610633 | 7.193410\n",
      "\n",
      "Baseline: 14.612685 | 7.206347\n",
      "\n",
      "---Iteration 348---\n",
      "\n",
      "[348]\n"
     ]
    },
    {
     "name": "stderr",
     "output_type": "stream",
     "text": [
      "/Users/hundredball/anaconda3/envs/Math24/lib/python3.7/site-packages/sklearn/metrics/_regression.py:582: UndefinedMetricWarning: R^2 score is not well-defined with less than two samples.\n",
      "  warnings.warn(msg, UndefinedMetricWarning)\n",
      "/Users/hundredball/anaconda3/envs/Math24/lib/python3.7/site-packages/sklearn/metrics/_regression.py:582: UndefinedMetricWarning: R^2 score is not well-defined with less than two samples.\n",
      "  warnings.warn(msg, UndefinedMetricWarning)\n"
     ]
    },
    {
     "name": "stdout",
     "output_type": "stream",
     "text": [
      "Select 342 features\n",
      "First: 0, 0.212348\n",
      "Second: 7, 0.075901\n",
      "Method 1: 14.614524 | 1.207797\n",
      "\n",
      "Baseline: 14.616508 | 1.189180\n",
      "\n",
      "---Iteration 349---\n",
      "\n",
      "[349]\n"
     ]
    },
    {
     "name": "stderr",
     "output_type": "stream",
     "text": [
      "/Users/hundredball/anaconda3/envs/Math24/lib/python3.7/site-packages/sklearn/metrics/_regression.py:582: UndefinedMetricWarning: R^2 score is not well-defined with less than two samples.\n",
      "  warnings.warn(msg, UndefinedMetricWarning)\n",
      "/Users/hundredball/anaconda3/envs/Math24/lib/python3.7/site-packages/sklearn/metrics/_regression.py:582: UndefinedMetricWarning: R^2 score is not well-defined with less than two samples.\n",
      "  warnings.warn(msg, UndefinedMetricWarning)\n"
     ]
    },
    {
     "name": "stdout",
     "output_type": "stream",
     "text": [
      "Select 342 features\n",
      "First: 0, 0.212943\n",
      "Second: 7, 0.075745\n",
      "Method 1: 14.613926 | 3.298001\n",
      "\n",
      "Baseline: 14.615758 | 3.365819\n",
      "\n",
      "---Iteration 350---\n",
      "\n",
      "[350]\n"
     ]
    },
    {
     "name": "stderr",
     "output_type": "stream",
     "text": [
      "/Users/hundredball/anaconda3/envs/Math24/lib/python3.7/site-packages/sklearn/metrics/_regression.py:582: UndefinedMetricWarning: R^2 score is not well-defined with less than two samples.\n",
      "  warnings.warn(msg, UndefinedMetricWarning)\n",
      "/Users/hundredball/anaconda3/envs/Math24/lib/python3.7/site-packages/sklearn/metrics/_regression.py:582: UndefinedMetricWarning: R^2 score is not well-defined with less than two samples.\n",
      "  warnings.warn(msg, UndefinedMetricWarning)\n"
     ]
    },
    {
     "name": "stdout",
     "output_type": "stream",
     "text": [
      "Select 342 features\n",
      "First: 0, 0.213154\n",
      "Second: 7, 0.075633\n",
      "Method 1: 14.614794 | 1.092262\n",
      "\n",
      "Baseline: 14.616458 | 1.441640\n",
      "\n",
      "---Iteration 351---\n",
      "\n",
      "[351]\n"
     ]
    },
    {
     "name": "stderr",
     "output_type": "stream",
     "text": [
      "/Users/hundredball/anaconda3/envs/Math24/lib/python3.7/site-packages/sklearn/metrics/_regression.py:582: UndefinedMetricWarning: R^2 score is not well-defined with less than two samples.\n",
      "  warnings.warn(msg, UndefinedMetricWarning)\n",
      "/Users/hundredball/anaconda3/envs/Math24/lib/python3.7/site-packages/sklearn/metrics/_regression.py:582: UndefinedMetricWarning: R^2 score is not well-defined with less than two samples.\n",
      "  warnings.warn(msg, UndefinedMetricWarning)\n"
     ]
    },
    {
     "name": "stdout",
     "output_type": "stream",
     "text": [
      "Select 342 features\n",
      "First: 0, 0.213190\n",
      "Second: 7, 0.076146\n",
      "Method 1: 14.612777 | 5.116963\n",
      "\n",
      "Baseline: 14.614589 | 5.174508\n",
      "\n",
      "---Iteration 352---\n",
      "\n",
      "[352]\n"
     ]
    },
    {
     "name": "stderr",
     "output_type": "stream",
     "text": [
      "/Users/hundredball/anaconda3/envs/Math24/lib/python3.7/site-packages/sklearn/metrics/_regression.py:582: UndefinedMetricWarning: R^2 score is not well-defined with less than two samples.\n",
      "  warnings.warn(msg, UndefinedMetricWarning)\n",
      "/Users/hundredball/anaconda3/envs/Math24/lib/python3.7/site-packages/sklearn/metrics/_regression.py:582: UndefinedMetricWarning: R^2 score is not well-defined with less than two samples.\n",
      "  warnings.warn(msg, UndefinedMetricWarning)\n"
     ]
    },
    {
     "name": "stdout",
     "output_type": "stream",
     "text": [
      "Select 342 features\n",
      "First: 0, 0.213284\n",
      "Second: 7, 0.073403\n",
      "Method 1: 14.610796 | 7.084257\n",
      "\n",
      "Baseline: 14.612642 | 7.245496\n",
      "\n",
      "---Iteration 353---\n",
      "\n",
      "[353]\n"
     ]
    },
    {
     "name": "stderr",
     "output_type": "stream",
     "text": [
      "/Users/hundredball/anaconda3/envs/Math24/lib/python3.7/site-packages/sklearn/metrics/_regression.py:582: UndefinedMetricWarning: R^2 score is not well-defined with less than two samples.\n",
      "  warnings.warn(msg, UndefinedMetricWarning)\n",
      "/Users/hundredball/anaconda3/envs/Math24/lib/python3.7/site-packages/sklearn/metrics/_regression.py:582: UndefinedMetricWarning: R^2 score is not well-defined with less than two samples.\n",
      "  warnings.warn(msg, UndefinedMetricWarning)\n"
     ]
    },
    {
     "name": "stdout",
     "output_type": "stream",
     "text": [
      "Select 342 features\n",
      "First: 0, 0.213047\n",
      "Second: 7, 0.076741\n",
      "Method 1: 14.610279 | 7.690579\n",
      "\n",
      "Baseline: 14.612230 | 7.611540\n",
      "\n",
      "---Iteration 354---\n",
      "\n",
      "[354]\n"
     ]
    },
    {
     "name": "stderr",
     "output_type": "stream",
     "text": [
      "/Users/hundredball/anaconda3/envs/Math24/lib/python3.7/site-packages/sklearn/metrics/_regression.py:582: UndefinedMetricWarning: R^2 score is not well-defined with less than two samples.\n",
      "  warnings.warn(msg, UndefinedMetricWarning)\n",
      "/Users/hundredball/anaconda3/envs/Math24/lib/python3.7/site-packages/sklearn/metrics/_regression.py:582: UndefinedMetricWarning: R^2 score is not well-defined with less than two samples.\n",
      "  warnings.warn(msg, UndefinedMetricWarning)\n"
     ]
    },
    {
     "name": "stdout",
     "output_type": "stream",
     "text": [
      "Select 342 features\n",
      "First: 0, 0.213299\n",
      "Second: 7, 0.076189\n",
      "Method 1: 14.612539 | 5.025012\n",
      "\n",
      "Baseline: 14.614609 | 5.149061\n",
      "\n",
      "---Iteration 355---\n",
      "\n",
      "[355]\n"
     ]
    },
    {
     "name": "stderr",
     "output_type": "stream",
     "text": [
      "/Users/hundredball/anaconda3/envs/Math24/lib/python3.7/site-packages/sklearn/metrics/_regression.py:582: UndefinedMetricWarning: R^2 score is not well-defined with less than two samples.\n",
      "  warnings.warn(msg, UndefinedMetricWarning)\n",
      "/Users/hundredball/anaconda3/envs/Math24/lib/python3.7/site-packages/sklearn/metrics/_regression.py:582: UndefinedMetricWarning: R^2 score is not well-defined with less than two samples.\n",
      "  warnings.warn(msg, UndefinedMetricWarning)\n"
     ]
    },
    {
     "name": "stdout",
     "output_type": "stream",
     "text": [
      "Select 342 features\n",
      "First: 0, 0.212904\n",
      "Second: 7, 0.072522\n",
      "Method 1: 14.611904 | 6.592291\n",
      "\n",
      "Baseline: 14.613473 | 6.442939\n",
      "\n",
      "---Iteration 356---\n",
      "\n",
      "[356]\n"
     ]
    },
    {
     "name": "stderr",
     "output_type": "stream",
     "text": [
      "/Users/hundredball/anaconda3/envs/Math24/lib/python3.7/site-packages/sklearn/metrics/_regression.py:582: UndefinedMetricWarning: R^2 score is not well-defined with less than two samples.\n",
      "  warnings.warn(msg, UndefinedMetricWarning)\n",
      "/Users/hundredball/anaconda3/envs/Math24/lib/python3.7/site-packages/sklearn/metrics/_regression.py:582: UndefinedMetricWarning: R^2 score is not well-defined with less than two samples.\n",
      "  warnings.warn(msg, UndefinedMetricWarning)\n"
     ]
    },
    {
     "name": "stdout",
     "output_type": "stream",
     "text": [
      "Select 342 features\n",
      "First: 0, 0.212328\n",
      "Second: 7, 0.074804\n",
      "Method 1: 14.614444 | 1.529682\n",
      "\n",
      "Baseline: 14.616393 | 1.713778\n",
      "\n",
      "---Iteration 357---\n",
      "\n",
      "[357]\n"
     ]
    },
    {
     "name": "stderr",
     "output_type": "stream",
     "text": [
      "/Users/hundredball/anaconda3/envs/Math24/lib/python3.7/site-packages/sklearn/metrics/_regression.py:582: UndefinedMetricWarning: R^2 score is not well-defined with less than two samples.\n",
      "  warnings.warn(msg, UndefinedMetricWarning)\n",
      "/Users/hundredball/anaconda3/envs/Math24/lib/python3.7/site-packages/sklearn/metrics/_regression.py:582: UndefinedMetricWarning: R^2 score is not well-defined with less than two samples.\n",
      "  warnings.warn(msg, UndefinedMetricWarning)\n"
     ]
    },
    {
     "name": "stdout",
     "output_type": "stream",
     "text": [
      "Select 342 features\n",
      "First: 0, 0.213552\n",
      "Second: 7, 0.075465\n",
      "Method 1: 14.609650 | 8.130578\n",
      "\n",
      "Baseline: 14.611449 | 8.261416\n",
      "\n",
      "---Iteration 358---\n",
      "\n",
      "[358]\n"
     ]
    },
    {
     "name": "stderr",
     "output_type": "stream",
     "text": [
      "/Users/hundredball/anaconda3/envs/Math24/lib/python3.7/site-packages/sklearn/metrics/_regression.py:582: UndefinedMetricWarning: R^2 score is not well-defined with less than two samples.\n",
      "  warnings.warn(msg, UndefinedMetricWarning)\n",
      "/Users/hundredball/anaconda3/envs/Math24/lib/python3.7/site-packages/sklearn/metrics/_regression.py:582: UndefinedMetricWarning: R^2 score is not well-defined with less than two samples.\n",
      "  warnings.warn(msg, UndefinedMetricWarning)\n"
     ]
    },
    {
     "name": "stdout",
     "output_type": "stream",
     "text": [
      "Select 342 features\n",
      "First: 0, 0.214664\n",
      "Second: 7, 0.076167\n",
      "Method 1: 14.609577 | 8.102549\n",
      "\n",
      "Baseline: 14.611286 | 8.390608\n",
      "\n",
      "---Iteration 359---\n",
      "\n",
      "[359]\n"
     ]
    },
    {
     "name": "stderr",
     "output_type": "stream",
     "text": [
      "/Users/hundredball/anaconda3/envs/Math24/lib/python3.7/site-packages/sklearn/metrics/_regression.py:582: UndefinedMetricWarning: R^2 score is not well-defined with less than two samples.\n",
      "  warnings.warn(msg, UndefinedMetricWarning)\n",
      "/Users/hundredball/anaconda3/envs/Math24/lib/python3.7/site-packages/sklearn/metrics/_regression.py:582: UndefinedMetricWarning: R^2 score is not well-defined with less than two samples.\n",
      "  warnings.warn(msg, UndefinedMetricWarning)\n"
     ]
    },
    {
     "name": "stdout",
     "output_type": "stream",
     "text": [
      "Select 342 features\n",
      "First: 0, 0.213064\n",
      "Second: 7, 0.072730\n",
      "Method 1: 14.608685 | 8.008951\n",
      "\n",
      "Baseline: 14.611629 | 8.116564\n",
      "\n",
      "---Iteration 360---\n",
      "\n",
      "[360]\n"
     ]
    },
    {
     "name": "stderr",
     "output_type": "stream",
     "text": [
      "/Users/hundredball/anaconda3/envs/Math24/lib/python3.7/site-packages/sklearn/metrics/_regression.py:582: UndefinedMetricWarning: R^2 score is not well-defined with less than two samples.\n",
      "  warnings.warn(msg, UndefinedMetricWarning)\n",
      "/Users/hundredball/anaconda3/envs/Math24/lib/python3.7/site-packages/sklearn/metrics/_regression.py:582: UndefinedMetricWarning: R^2 score is not well-defined with less than two samples.\n",
      "  warnings.warn(msg, UndefinedMetricWarning)\n"
     ]
    },
    {
     "name": "stdout",
     "output_type": "stream",
     "text": [
      "Select 342 features\n",
      "First: 0, 0.213753\n",
      "Second: 7, 0.074815\n",
      "Method 1: 14.609777 | 8.208492\n",
      "\n",
      "Baseline: 14.611319 | 8.365161\n",
      "\n",
      "---Iteration 361---\n",
      "\n",
      "[361]\n"
     ]
    },
    {
     "name": "stderr",
     "output_type": "stream",
     "text": [
      "/Users/hundredball/anaconda3/envs/Math24/lib/python3.7/site-packages/sklearn/metrics/_regression.py:582: UndefinedMetricWarning: R^2 score is not well-defined with less than two samples.\n",
      "  warnings.warn(msg, UndefinedMetricWarning)\n",
      "/Users/hundredball/anaconda3/envs/Math24/lib/python3.7/site-packages/sklearn/metrics/_regression.py:582: UndefinedMetricWarning: R^2 score is not well-defined with less than two samples.\n",
      "  warnings.warn(msg, UndefinedMetricWarning)\n"
     ]
    },
    {
     "name": "stdout",
     "output_type": "stream",
     "text": [
      "Select 342 features\n",
      "First: 0, 0.212373\n",
      "Second: 7, 0.075717\n",
      "Method 1: 14.609006 | 8.026914\n",
      "\n",
      "Baseline: 14.612025 | 7.787711\n",
      "\n",
      "---Iteration 362---\n",
      "\n",
      "[362]\n"
     ]
    },
    {
     "name": "stderr",
     "output_type": "stream",
     "text": [
      "/Users/hundredball/anaconda3/envs/Math24/lib/python3.7/site-packages/sklearn/metrics/_regression.py:582: UndefinedMetricWarning: R^2 score is not well-defined with less than two samples.\n",
      "  warnings.warn(msg, UndefinedMetricWarning)\n",
      "/Users/hundredball/anaconda3/envs/Math24/lib/python3.7/site-packages/sklearn/metrics/_regression.py:582: UndefinedMetricWarning: R^2 score is not well-defined with less than two samples.\n",
      "  warnings.warn(msg, UndefinedMetricWarning)\n"
     ]
    },
    {
     "name": "stdout",
     "output_type": "stream",
     "text": [
      "Select 342 features\n",
      "First: 0, 0.212900\n",
      "Second: 7, 0.074001\n",
      "Method 1: 14.614512 | 1.589547\n",
      "\n",
      "Baseline: 14.616426 | 1.582577\n",
      "\n",
      "---Iteration 363---\n",
      "\n",
      "[363]\n"
     ]
    },
    {
     "name": "stderr",
     "output_type": "stream",
     "text": [
      "/Users/hundredball/anaconda3/envs/Math24/lib/python3.7/site-packages/sklearn/metrics/_regression.py:582: UndefinedMetricWarning: R^2 score is not well-defined with less than two samples.\n",
      "  warnings.warn(msg, UndefinedMetricWarning)\n",
      "/Users/hundredball/anaconda3/envs/Math24/lib/python3.7/site-packages/sklearn/metrics/_regression.py:582: UndefinedMetricWarning: R^2 score is not well-defined with less than two samples.\n",
      "  warnings.warn(msg, UndefinedMetricWarning)\n"
     ]
    },
    {
     "name": "stdout",
     "output_type": "stream",
     "text": [
      "Select 342 features\n",
      "First: 0, 0.213055\n",
      "Second: 7, 0.076178\n",
      "Method 1: 14.606599 | 8.968975\n",
      "\n",
      "Baseline: 14.610821 | 8.748822\n",
      "\n",
      "---Iteration 364---\n",
      "\n",
      "[364]\n"
     ]
    },
    {
     "name": "stderr",
     "output_type": "stream",
     "text": [
      "/Users/hundredball/anaconda3/envs/Math24/lib/python3.7/site-packages/sklearn/metrics/_regression.py:582: UndefinedMetricWarning: R^2 score is not well-defined with less than two samples.\n",
      "  warnings.warn(msg, UndefinedMetricWarning)\n",
      "/Users/hundredball/anaconda3/envs/Math24/lib/python3.7/site-packages/sklearn/metrics/_regression.py:582: UndefinedMetricWarning: R^2 score is not well-defined with less than two samples.\n",
      "  warnings.warn(msg, UndefinedMetricWarning)\n"
     ]
    },
    {
     "name": "stdout",
     "output_type": "stream",
     "text": [
      "Select 342 features\n",
      "First: 0, 0.212855\n",
      "Second: 7, 0.075757\n",
      "Method 1: 14.610827 | 7.151442\n",
      "\n",
      "Baseline: 14.612784 | 7.114347\n",
      "\n",
      "---Iteration 365---\n",
      "\n",
      "[365]\n"
     ]
    },
    {
     "name": "stderr",
     "output_type": "stream",
     "text": [
      "/Users/hundredball/anaconda3/envs/Math24/lib/python3.7/site-packages/sklearn/metrics/_regression.py:582: UndefinedMetricWarning: R^2 score is not well-defined with less than two samples.\n",
      "  warnings.warn(msg, UndefinedMetricWarning)\n",
      "/Users/hundredball/anaconda3/envs/Math24/lib/python3.7/site-packages/sklearn/metrics/_regression.py:582: UndefinedMetricWarning: R^2 score is not well-defined with less than two samples.\n",
      "  warnings.warn(msg, UndefinedMetricWarning)\n"
     ]
    },
    {
     "name": "stdout",
     "output_type": "stream",
     "text": [
      "Select 342 features\n",
      "First: 0, 0.212936\n",
      "Second: 7, 0.075616\n",
      "Method 1: 14.609032 | 8.782132\n",
      "\n",
      "Baseline: 14.610956 | 8.647034\n",
      "\n",
      "---Iteration 366---\n",
      "\n",
      "[366]\n"
     ]
    },
    {
     "name": "stderr",
     "output_type": "stream",
     "text": [
      "/Users/hundredball/anaconda3/envs/Math24/lib/python3.7/site-packages/sklearn/metrics/_regression.py:582: UndefinedMetricWarning: R^2 score is not well-defined with less than two samples.\n",
      "  warnings.warn(msg, UndefinedMetricWarning)\n",
      "/Users/hundredball/anaconda3/envs/Math24/lib/python3.7/site-packages/sklearn/metrics/_regression.py:582: UndefinedMetricWarning: R^2 score is not well-defined with less than two samples.\n",
      "  warnings.warn(msg, UndefinedMetricWarning)\n"
     ]
    },
    {
     "name": "stdout",
     "output_type": "stream",
     "text": [
      "Select 342 features\n",
      "First: 0, 0.212857\n",
      "Second: 7, 0.073168\n",
      "Method 1: 14.609724 | 8.465694\n",
      "\n",
      "Baseline: 14.611316 | 8.367118\n",
      "\n",
      "---Iteration 367---\n",
      "\n",
      "[367]\n"
     ]
    },
    {
     "name": "stderr",
     "output_type": "stream",
     "text": [
      "/Users/hundredball/anaconda3/envs/Math24/lib/python3.7/site-packages/sklearn/metrics/_regression.py:582: UndefinedMetricWarning: R^2 score is not well-defined with less than two samples.\n",
      "  warnings.warn(msg, UndefinedMetricWarning)\n",
      "/Users/hundredball/anaconda3/envs/Math24/lib/python3.7/site-packages/sklearn/metrics/_regression.py:582: UndefinedMetricWarning: R^2 score is not well-defined with less than two samples.\n",
      "  warnings.warn(msg, UndefinedMetricWarning)\n"
     ]
    },
    {
     "name": "stdout",
     "output_type": "stream",
     "text": [
      "Select 342 features\n",
      "First: 0, 0.213466\n",
      "Second: 7, 0.075907\n",
      "Method 1: 14.610366 | 7.942567\n",
      "\n",
      "Baseline: 14.611911 | 7.883627\n",
      "\n",
      "---Iteration 368---\n",
      "\n",
      "[368]\n"
     ]
    },
    {
     "name": "stderr",
     "output_type": "stream",
     "text": [
      "/Users/hundredball/anaconda3/envs/Math24/lib/python3.7/site-packages/sklearn/metrics/_regression.py:582: UndefinedMetricWarning: R^2 score is not well-defined with less than two samples.\n",
      "  warnings.warn(msg, UndefinedMetricWarning)\n",
      "/Users/hundredball/anaconda3/envs/Math24/lib/python3.7/site-packages/sklearn/metrics/_regression.py:582: UndefinedMetricWarning: R^2 score is not well-defined with less than two samples.\n",
      "  warnings.warn(msg, UndefinedMetricWarning)\n"
     ]
    },
    {
     "name": "stdout",
     "output_type": "stream",
     "text": [
      "Select 342 features\n",
      "First: 0, 0.212399\n",
      "Second: 7, 0.074345\n",
      "Method 1: 14.610602 | 6.223364\n",
      "\n",
      "Baseline: 14.614099 | 5.765660\n",
      "\n",
      "---Iteration 369---\n",
      "\n",
      "[369]\n"
     ]
    },
    {
     "name": "stderr",
     "output_type": "stream",
     "text": [
      "/Users/hundredball/anaconda3/envs/Math24/lib/python3.7/site-packages/sklearn/metrics/_regression.py:582: UndefinedMetricWarning: R^2 score is not well-defined with less than two samples.\n",
      "  warnings.warn(msg, UndefinedMetricWarning)\n",
      "/Users/hundredball/anaconda3/envs/Math24/lib/python3.7/site-packages/sklearn/metrics/_regression.py:582: UndefinedMetricWarning: R^2 score is not well-defined with less than two samples.\n",
      "  warnings.warn(msg, UndefinedMetricWarning)\n"
     ]
    },
    {
     "name": "stdout",
     "output_type": "stream",
     "text": [
      "Select 342 features\n",
      "First: 0, 0.213745\n",
      "Second: 7, 0.077771\n",
      "Method 1: 14.609457 | 7.869066\n",
      "\n",
      "Baseline: 14.611782 | 7.991287\n",
      "\n",
      "---Iteration 370---\n",
      "\n",
      "[370]\n"
     ]
    },
    {
     "name": "stderr",
     "output_type": "stream",
     "text": [
      "/Users/hundredball/anaconda3/envs/Math24/lib/python3.7/site-packages/sklearn/metrics/_regression.py:582: UndefinedMetricWarning: R^2 score is not well-defined with less than two samples.\n",
      "  warnings.warn(msg, UndefinedMetricWarning)\n",
      "/Users/hundredball/anaconda3/envs/Math24/lib/python3.7/site-packages/sklearn/metrics/_regression.py:582: UndefinedMetricWarning: R^2 score is not well-defined with less than two samples.\n",
      "  warnings.warn(msg, UndefinedMetricWarning)\n"
     ]
    },
    {
     "name": "stdout",
     "output_type": "stream",
     "text": [
      "Select 342 features\n",
      "First: 0, 0.212624\n",
      "Second: 7, 0.075982\n",
      "Method 1: 14.609396 | 7.838525\n",
      "\n",
      "Baseline: 14.612164 | 7.668307\n",
      "\n",
      "---Iteration 371---\n",
      "\n",
      "[371]\n"
     ]
    },
    {
     "name": "stderr",
     "output_type": "stream",
     "text": [
      "/Users/hundredball/anaconda3/envs/Math24/lib/python3.7/site-packages/sklearn/metrics/_regression.py:582: UndefinedMetricWarning: R^2 score is not well-defined with less than two samples.\n",
      "  warnings.warn(msg, UndefinedMetricWarning)\n",
      "/Users/hundredball/anaconda3/envs/Math24/lib/python3.7/site-packages/sklearn/metrics/_regression.py:582: UndefinedMetricWarning: R^2 score is not well-defined with less than two samples.\n",
      "  warnings.warn(msg, UndefinedMetricWarning)\n"
     ]
    },
    {
     "name": "stdout",
     "output_type": "stream",
     "text": [
      "Select 342 features\n",
      "First: 0, 0.214345\n",
      "Second: 7, 0.075221\n",
      "Method 1: 14.608796 | 9.219023\n",
      "\n",
      "Baseline: 14.609951 | 9.383038\n",
      "\n",
      "---Iteration 372---\n",
      "\n",
      "[372]\n"
     ]
    },
    {
     "name": "stderr",
     "output_type": "stream",
     "text": [
      "/Users/hundredball/anaconda3/envs/Math24/lib/python3.7/site-packages/sklearn/metrics/_regression.py:582: UndefinedMetricWarning: R^2 score is not well-defined with less than two samples.\n",
      "  warnings.warn(msg, UndefinedMetricWarning)\n",
      "/Users/hundredball/anaconda3/envs/Math24/lib/python3.7/site-packages/sklearn/metrics/_regression.py:582: UndefinedMetricWarning: R^2 score is not well-defined with less than two samples.\n",
      "  warnings.warn(msg, UndefinedMetricWarning)\n"
     ]
    },
    {
     "name": "stdout",
     "output_type": "stream",
     "text": [
      "Select 342 features\n",
      "First: 0, 0.212956\n",
      "Second: 7, 0.076102\n",
      "Method 1: 14.614811 | 1.046331\n",
      "\n",
      "Baseline: 14.616511 | 1.175426\n",
      "\n",
      "---Iteration 373---\n",
      "\n",
      "[373]\n"
     ]
    },
    {
     "name": "stderr",
     "output_type": "stream",
     "text": [
      "/Users/hundredball/anaconda3/envs/Math24/lib/python3.7/site-packages/sklearn/metrics/_regression.py:582: UndefinedMetricWarning: R^2 score is not well-defined with less than two samples.\n",
      "  warnings.warn(msg, UndefinedMetricWarning)\n",
      "/Users/hundredball/anaconda3/envs/Math24/lib/python3.7/site-packages/sklearn/metrics/_regression.py:582: UndefinedMetricWarning: R^2 score is not well-defined with less than two samples.\n",
      "  warnings.warn(msg, UndefinedMetricWarning)\n"
     ]
    },
    {
     "name": "stdout",
     "output_type": "stream",
     "text": [
      "Select 342 features\n",
      "First: 0, 0.213779\n",
      "Second: 7, 0.075182\n",
      "Method 1: 14.609098 | 8.559886\n",
      "\n",
      "Baseline: 14.610894 | 8.694013\n",
      "\n",
      "---Iteration 374---\n",
      "\n",
      "[374]\n"
     ]
    },
    {
     "name": "stderr",
     "output_type": "stream",
     "text": [
      "/Users/hundredball/anaconda3/envs/Math24/lib/python3.7/site-packages/sklearn/metrics/_regression.py:582: UndefinedMetricWarning: R^2 score is not well-defined with less than two samples.\n",
      "  warnings.warn(msg, UndefinedMetricWarning)\n",
      "/Users/hundredball/anaconda3/envs/Math24/lib/python3.7/site-packages/sklearn/metrics/_regression.py:582: UndefinedMetricWarning: R^2 score is not well-defined with less than two samples.\n",
      "  warnings.warn(msg, UndefinedMetricWarning)\n"
     ]
    },
    {
     "name": "stdout",
     "output_type": "stream",
     "text": [
      "Select 342 features\n",
      "First: 0, 0.213327\n",
      "Second: 7, 0.076770\n",
      "Method 1: 14.612582 | 5.256669\n",
      "\n",
      "Baseline: 14.614417 | 5.389828\n",
      "\n",
      "---Iteration 375---\n",
      "\n",
      "[375]\n"
     ]
    },
    {
     "name": "stderr",
     "output_type": "stream",
     "text": [
      "/Users/hundredball/anaconda3/envs/Math24/lib/python3.7/site-packages/sklearn/metrics/_regression.py:582: UndefinedMetricWarning: R^2 score is not well-defined with less than two samples.\n",
      "  warnings.warn(msg, UndefinedMetricWarning)\n",
      "/Users/hundredball/anaconda3/envs/Math24/lib/python3.7/site-packages/sklearn/metrics/_regression.py:582: UndefinedMetricWarning: R^2 score is not well-defined with less than two samples.\n",
      "  warnings.warn(msg, UndefinedMetricWarning)\n"
     ]
    },
    {
     "name": "stdout",
     "output_type": "stream",
     "text": [
      "Select 342 features\n",
      "First: 0, 0.213776\n",
      "Second: 7, 0.076071\n",
      "Method 1: 14.610121 | 7.887176\n",
      "\n",
      "Baseline: 14.611822 | 7.958010\n",
      "\n",
      "---Iteration 376---\n",
      "\n",
      "[376]\n"
     ]
    },
    {
     "name": "stderr",
     "output_type": "stream",
     "text": [
      "/Users/hundredball/anaconda3/envs/Math24/lib/python3.7/site-packages/sklearn/metrics/_regression.py:582: UndefinedMetricWarning: R^2 score is not well-defined with less than two samples.\n",
      "  warnings.warn(msg, UndefinedMetricWarning)\n",
      "/Users/hundredball/anaconda3/envs/Math24/lib/python3.7/site-packages/sklearn/metrics/_regression.py:582: UndefinedMetricWarning: R^2 score is not well-defined with less than two samples.\n",
      "  warnings.warn(msg, UndefinedMetricWarning)\n"
     ]
    },
    {
     "name": "stdout",
     "output_type": "stream",
     "text": [
      "Select 342 features\n",
      "First: 0, 0.212398\n",
      "Second: 7, 0.074834\n",
      "Method 1: 14.606926 | 9.584726\n",
      "\n",
      "Baseline: 14.610267 | 9.157930\n",
      "\n",
      "---Iteration 377---\n",
      "\n",
      "[377]\n"
     ]
    },
    {
     "name": "stderr",
     "output_type": "stream",
     "text": [
      "/Users/hundredball/anaconda3/envs/Math24/lib/python3.7/site-packages/sklearn/metrics/_regression.py:582: UndefinedMetricWarning: R^2 score is not well-defined with less than two samples.\n",
      "  warnings.warn(msg, UndefinedMetricWarning)\n",
      "/Users/hundredball/anaconda3/envs/Math24/lib/python3.7/site-packages/sklearn/metrics/_regression.py:582: UndefinedMetricWarning: R^2 score is not well-defined with less than two samples.\n",
      "  warnings.warn(msg, UndefinedMetricWarning)\n"
     ]
    },
    {
     "name": "stdout",
     "output_type": "stream",
     "text": [
      "Select 342 features\n",
      "First: 0, 0.212975\n",
      "Second: 7, 0.074565\n",
      "Method 1: 14.614282 | 2.675506\n",
      "\n",
      "Baseline: 14.616004 | 2.841221\n",
      "\n",
      "---Iteration 378---\n",
      "\n",
      "[378]\n"
     ]
    },
    {
     "name": "stderr",
     "output_type": "stream",
     "text": [
      "/Users/hundredball/anaconda3/envs/Math24/lib/python3.7/site-packages/sklearn/metrics/_regression.py:582: UndefinedMetricWarning: R^2 score is not well-defined with less than two samples.\n",
      "  warnings.warn(msg, UndefinedMetricWarning)\n",
      "/Users/hundredball/anaconda3/envs/Math24/lib/python3.7/site-packages/sklearn/metrics/_regression.py:582: UndefinedMetricWarning: R^2 score is not well-defined with less than two samples.\n",
      "  warnings.warn(msg, UndefinedMetricWarning)\n"
     ]
    },
    {
     "name": "stdout",
     "output_type": "stream",
     "text": [
      "Select 342 features\n",
      "First: 0, 0.211876\n",
      "Second: 7, 0.074374\n",
      "Method 1: 14.613084 | 5.428194\n",
      "\n",
      "Baseline: 14.614375 | 5.440774\n",
      "\n",
      "---Iteration 379---\n",
      "\n",
      "[379]\n"
     ]
    },
    {
     "name": "stderr",
     "output_type": "stream",
     "text": [
      "/Users/hundredball/anaconda3/envs/Math24/lib/python3.7/site-packages/sklearn/metrics/_regression.py:582: UndefinedMetricWarning: R^2 score is not well-defined with less than two samples.\n",
      "  warnings.warn(msg, UndefinedMetricWarning)\n",
      "/Users/hundredball/anaconda3/envs/Math24/lib/python3.7/site-packages/sklearn/metrics/_regression.py:582: UndefinedMetricWarning: R^2 score is not well-defined with less than two samples.\n",
      "  warnings.warn(msg, UndefinedMetricWarning)\n"
     ]
    },
    {
     "name": "stdout",
     "output_type": "stream",
     "text": [
      "Select 342 features\n",
      "First: 0, 0.212678\n",
      "Second: 7, 0.076213\n",
      "Method 1: 14.614607 | 0.878349\n",
      "\n",
      "Baseline: 14.616554 | 0.901382\n",
      "\n",
      "---Iteration 380---\n",
      "\n",
      "[380]\n"
     ]
    },
    {
     "name": "stderr",
     "output_type": "stream",
     "text": [
      "/Users/hundredball/anaconda3/envs/Math24/lib/python3.7/site-packages/sklearn/metrics/_regression.py:582: UndefinedMetricWarning: R^2 score is not well-defined with less than two samples.\n",
      "  warnings.warn(msg, UndefinedMetricWarning)\n",
      "/Users/hundredball/anaconda3/envs/Math24/lib/python3.7/site-packages/sklearn/metrics/_regression.py:582: UndefinedMetricWarning: R^2 score is not well-defined with less than two samples.\n",
      "  warnings.warn(msg, UndefinedMetricWarning)\n"
     ]
    },
    {
     "name": "stdout",
     "output_type": "stream",
     "text": [
      "Select 342 features\n",
      "First: 0, 0.214379\n",
      "Second: 7, 0.075788\n",
      "Method 1: 14.609284 | 7.883495\n",
      "\n",
      "Baseline: 14.611568 | 8.165500\n",
      "\n",
      "---Iteration 381---\n",
      "\n",
      "[381]\n"
     ]
    },
    {
     "name": "stderr",
     "output_type": "stream",
     "text": [
      "/Users/hundredball/anaconda3/envs/Math24/lib/python3.7/site-packages/sklearn/metrics/_regression.py:582: UndefinedMetricWarning: R^2 score is not well-defined with less than two samples.\n",
      "  warnings.warn(msg, UndefinedMetricWarning)\n",
      "/Users/hundredball/anaconda3/envs/Math24/lib/python3.7/site-packages/sklearn/metrics/_regression.py:582: UndefinedMetricWarning: R^2 score is not well-defined with less than two samples.\n",
      "  warnings.warn(msg, UndefinedMetricWarning)\n"
     ]
    },
    {
     "name": "stdout",
     "output_type": "stream",
     "text": [
      "Select 342 features\n",
      "First: 0, 0.212928\n",
      "Second: 7, 0.076841\n",
      "Method 1: 14.611548 | 6.138018\n",
      "\n",
      "Baseline: 14.613797 | 6.102342\n",
      "\n",
      "---Iteration 382---\n",
      "\n",
      "[382]\n"
     ]
    },
    {
     "name": "stderr",
     "output_type": "stream",
     "text": [
      "/Users/hundredball/anaconda3/envs/Math24/lib/python3.7/site-packages/sklearn/metrics/_regression.py:582: UndefinedMetricWarning: R^2 score is not well-defined with less than two samples.\n",
      "  warnings.warn(msg, UndefinedMetricWarning)\n",
      "/Users/hundredball/anaconda3/envs/Math24/lib/python3.7/site-packages/sklearn/metrics/_regression.py:582: UndefinedMetricWarning: R^2 score is not well-defined with less than two samples.\n",
      "  warnings.warn(msg, UndefinedMetricWarning)\n"
     ]
    },
    {
     "name": "stdout",
     "output_type": "stream",
     "text": [
      "Select 342 features\n",
      "First: 0, 0.213159\n",
      "Second: 7, 0.073814\n",
      "Method 1: 14.611436 | 6.794994\n",
      "\n",
      "Baseline: 14.613126 | 6.789409\n",
      "\n",
      "---Iteration 383---\n",
      "\n",
      "[383]\n"
     ]
    },
    {
     "name": "stderr",
     "output_type": "stream",
     "text": [
      "/Users/hundredball/anaconda3/envs/Math24/lib/python3.7/site-packages/sklearn/metrics/_regression.py:582: UndefinedMetricWarning: R^2 score is not well-defined with less than two samples.\n",
      "  warnings.warn(msg, UndefinedMetricWarning)\n",
      "/Users/hundredball/anaconda3/envs/Math24/lib/python3.7/site-packages/sklearn/metrics/_regression.py:582: UndefinedMetricWarning: R^2 score is not well-defined with less than two samples.\n",
      "  warnings.warn(msg, UndefinedMetricWarning)\n"
     ]
    },
    {
     "name": "stdout",
     "output_type": "stream",
     "text": [
      "Select 342 features\n",
      "First: 0, 0.212819\n",
      "Second: 7, 0.074923\n",
      "Method 1: 14.613440 | 4.448100\n",
      "\n",
      "Baseline: 14.615124 | 4.438505\n",
      "\n",
      "---Iteration 384---\n",
      "\n",
      "[384]\n"
     ]
    },
    {
     "name": "stderr",
     "output_type": "stream",
     "text": [
      "/Users/hundredball/anaconda3/envs/Math24/lib/python3.7/site-packages/sklearn/metrics/_regression.py:582: UndefinedMetricWarning: R^2 score is not well-defined with less than two samples.\n",
      "  warnings.warn(msg, UndefinedMetricWarning)\n",
      "/Users/hundredball/anaconda3/envs/Math24/lib/python3.7/site-packages/sklearn/metrics/_regression.py:582: UndefinedMetricWarning: R^2 score is not well-defined with less than two samples.\n",
      "  warnings.warn(msg, UndefinedMetricWarning)\n"
     ]
    },
    {
     "name": "stdout",
     "output_type": "stream",
     "text": [
      "Select 342 features\n",
      "First: 0, 0.213083\n",
      "Second: 7, 0.077094\n",
      "Method 1: 14.609509 | 7.476928\n",
      "\n",
      "Baseline: 14.612355 | 7.501923\n",
      "\n",
      "---Iteration 385---\n",
      "\n",
      "[385]\n"
     ]
    },
    {
     "name": "stderr",
     "output_type": "stream",
     "text": [
      "/Users/hundredball/anaconda3/envs/Math24/lib/python3.7/site-packages/sklearn/metrics/_regression.py:582: UndefinedMetricWarning: R^2 score is not well-defined with less than two samples.\n",
      "  warnings.warn(msg, UndefinedMetricWarning)\n",
      "/Users/hundredball/anaconda3/envs/Math24/lib/python3.7/site-packages/sklearn/metrics/_regression.py:582: UndefinedMetricWarning: R^2 score is not well-defined with less than two samples.\n",
      "  warnings.warn(msg, UndefinedMetricWarning)\n"
     ]
    },
    {
     "name": "stdout",
     "output_type": "stream",
     "text": [
      "Select 342 features\n",
      "First: 0, 0.213273\n",
      "Second: 7, 0.072160\n",
      "Method 1: 14.610145 | 7.466773\n",
      "\n",
      "Baseline: 14.612492 | 7.380561\n",
      "\n",
      "---Iteration 386---\n",
      "\n",
      "[386]\n"
     ]
    },
    {
     "name": "stderr",
     "output_type": "stream",
     "text": [
      "/Users/hundredball/anaconda3/envs/Math24/lib/python3.7/site-packages/sklearn/metrics/_regression.py:582: UndefinedMetricWarning: R^2 score is not well-defined with less than two samples.\n",
      "  warnings.warn(msg, UndefinedMetricWarning)\n",
      "/Users/hundredball/anaconda3/envs/Math24/lib/python3.7/site-packages/sklearn/metrics/_regression.py:582: UndefinedMetricWarning: R^2 score is not well-defined with less than two samples.\n",
      "  warnings.warn(msg, UndefinedMetricWarning)\n"
     ]
    },
    {
     "name": "stdout",
     "output_type": "stream",
     "text": [
      "Select 342 features\n",
      "First: 0, 0.213102\n",
      "Second: 7, 0.075113\n",
      "Method 1: 14.614690 | 2.051244\n",
      "\n",
      "Baseline: 14.616204 | 2.330325\n",
      "\n",
      "---Iteration 387---\n",
      "\n",
      "[387]\n"
     ]
    },
    {
     "name": "stderr",
     "output_type": "stream",
     "text": [
      "/Users/hundredball/anaconda3/envs/Math24/lib/python3.7/site-packages/sklearn/metrics/_regression.py:582: UndefinedMetricWarning: R^2 score is not well-defined with less than two samples.\n",
      "  warnings.warn(msg, UndefinedMetricWarning)\n",
      "/Users/hundredball/anaconda3/envs/Math24/lib/python3.7/site-packages/sklearn/metrics/_regression.py:582: UndefinedMetricWarning: R^2 score is not well-defined with less than two samples.\n",
      "  warnings.warn(msg, UndefinedMetricWarning)\n"
     ]
    },
    {
     "name": "stdout",
     "output_type": "stream",
     "text": [
      "Select 342 features\n",
      "First: 0, 0.213057\n",
      "Second: 7, 0.075004\n",
      "Method 1: 14.614743 | 1.490909\n",
      "\n",
      "Baseline: 14.616394 | 1.711769\n",
      "\n",
      "---Iteration 388---\n",
      "\n",
      "[388]\n"
     ]
    },
    {
     "name": "stderr",
     "output_type": "stream",
     "text": [
      "/Users/hundredball/anaconda3/envs/Math24/lib/python3.7/site-packages/sklearn/metrics/_regression.py:582: UndefinedMetricWarning: R^2 score is not well-defined with less than two samples.\n",
      "  warnings.warn(msg, UndefinedMetricWarning)\n",
      "/Users/hundredball/anaconda3/envs/Math24/lib/python3.7/site-packages/sklearn/metrics/_regression.py:582: UndefinedMetricWarning: R^2 score is not well-defined with less than two samples.\n",
      "  warnings.warn(msg, UndefinedMetricWarning)\n"
     ]
    },
    {
     "name": "stdout",
     "output_type": "stream",
     "text": [
      "Select 342 features\n",
      "First: 0, 0.214004\n",
      "Second: 7, 0.069710\n",
      "Method 1: 14.611292 | 7.397551\n",
      "\n",
      "Baseline: 14.612415 | 7.449072\n",
      "\n",
      "---Iteration 389---\n",
      "\n",
      "[389]\n"
     ]
    },
    {
     "name": "stderr",
     "output_type": "stream",
     "text": [
      "/Users/hundredball/anaconda3/envs/Math24/lib/python3.7/site-packages/sklearn/metrics/_regression.py:582: UndefinedMetricWarning: R^2 score is not well-defined with less than two samples.\n",
      "  warnings.warn(msg, UndefinedMetricWarning)\n",
      "/Users/hundredball/anaconda3/envs/Math24/lib/python3.7/site-packages/sklearn/metrics/_regression.py:582: UndefinedMetricWarning: R^2 score is not well-defined with less than two samples.\n",
      "  warnings.warn(msg, UndefinedMetricWarning)\n"
     ]
    },
    {
     "name": "stdout",
     "output_type": "stream",
     "text": [
      "Select 342 features\n",
      "First: 0, 0.213203\n",
      "Second: 7, 0.075035\n",
      "Method 1: 14.613751 | 3.810974\n",
      "\n",
      "Baseline: 14.615441 | 3.939354\n",
      "\n",
      "---Iteration 390---\n",
      "\n",
      "[390]\n"
     ]
    },
    {
     "name": "stderr",
     "output_type": "stream",
     "text": [
      "/Users/hundredball/anaconda3/envs/Math24/lib/python3.7/site-packages/sklearn/metrics/_regression.py:582: UndefinedMetricWarning: R^2 score is not well-defined with less than two samples.\n",
      "  warnings.warn(msg, UndefinedMetricWarning)\n",
      "/Users/hundredball/anaconda3/envs/Math24/lib/python3.7/site-packages/sklearn/metrics/_regression.py:582: UndefinedMetricWarning: R^2 score is not well-defined with less than two samples.\n",
      "  warnings.warn(msg, UndefinedMetricWarning)\n"
     ]
    },
    {
     "name": "stdout",
     "output_type": "stream",
     "text": [
      "Select 342 features\n",
      "First: 0, 0.212240\n",
      "Second: 7, 0.072409\n",
      "Method 1: 14.614897 | 2.171393\n",
      "\n",
      "Baseline: 14.616213 | 2.306887\n",
      "\n",
      "---Iteration 391---\n",
      "\n",
      "[391]\n"
     ]
    },
    {
     "name": "stderr",
     "output_type": "stream",
     "text": [
      "/Users/hundredball/anaconda3/envs/Math24/lib/python3.7/site-packages/sklearn/metrics/_regression.py:582: UndefinedMetricWarning: R^2 score is not well-defined with less than two samples.\n",
      "  warnings.warn(msg, UndefinedMetricWarning)\n",
      "/Users/hundredball/anaconda3/envs/Math24/lib/python3.7/site-packages/sklearn/metrics/_regression.py:582: UndefinedMetricWarning: R^2 score is not well-defined with less than two samples.\n",
      "  warnings.warn(msg, UndefinedMetricWarning)\n"
     ]
    },
    {
     "name": "stdout",
     "output_type": "stream",
     "text": [
      "Select 342 features\n",
      "First: 0, 0.209740\n",
      "Second: 7, 0.068240\n",
      "Method 1: 14.459155 | 44.300701\n",
      "\n",
      "Baseline: 14.467912 | 44.214056\n",
      "\n",
      "---Iteration 392---\n",
      "\n",
      "[392]\n"
     ]
    },
    {
     "name": "stderr",
     "output_type": "stream",
     "text": [
      "/Users/hundredball/anaconda3/envs/Math24/lib/python3.7/site-packages/sklearn/metrics/_regression.py:582: UndefinedMetricWarning: R^2 score is not well-defined with less than two samples.\n",
      "  warnings.warn(msg, UndefinedMetricWarning)\n",
      "/Users/hundredball/anaconda3/envs/Math24/lib/python3.7/site-packages/sklearn/metrics/_regression.py:582: UndefinedMetricWarning: R^2 score is not well-defined with less than two samples.\n",
      "  warnings.warn(msg, UndefinedMetricWarning)\n"
     ]
    },
    {
     "name": "stdout",
     "output_type": "stream",
     "text": [
      "Select 342 features\n",
      "First: 0, 0.209421\n",
      "Second: 7, 0.086413\n",
      "Method 1: 14.233239 | 70.233719\n",
      "\n",
      "Baseline: 14.238633 | 70.212982\n",
      "\n",
      "---Iteration 393---\n",
      "\n",
      "[393]\n"
     ]
    },
    {
     "name": "stderr",
     "output_type": "stream",
     "text": [
      "/Users/hundredball/anaconda3/envs/Math24/lib/python3.7/site-packages/sklearn/metrics/_regression.py:582: UndefinedMetricWarning: R^2 score is not well-defined with less than two samples.\n",
      "  warnings.warn(msg, UndefinedMetricWarning)\n",
      "/Users/hundredball/anaconda3/envs/Math24/lib/python3.7/site-packages/sklearn/metrics/_regression.py:582: UndefinedMetricWarning: R^2 score is not well-defined with less than two samples.\n",
      "  warnings.warn(msg, UndefinedMetricWarning)\n"
     ]
    },
    {
     "name": "stdout",
     "output_type": "stream",
     "text": [
      "Select 342 features\n",
      "First: 0, 0.210090\n",
      "Second: 7, 0.071950\n",
      "Method 1: 14.357962 | 56.377753\n",
      "\n",
      "Baseline: 14.375074 | 56.260238\n",
      "\n",
      "---Iteration 394---\n",
      "\n",
      "[394]\n"
     ]
    },
    {
     "name": "stderr",
     "output_type": "stream",
     "text": [
      "/Users/hundredball/anaconda3/envs/Math24/lib/python3.7/site-packages/sklearn/metrics/_regression.py:582: UndefinedMetricWarning: R^2 score is not well-defined with less than two samples.\n",
      "  warnings.warn(msg, UndefinedMetricWarning)\n",
      "/Users/hundredball/anaconda3/envs/Math24/lib/python3.7/site-packages/sklearn/metrics/_regression.py:582: UndefinedMetricWarning: R^2 score is not well-defined with less than two samples.\n",
      "  warnings.warn(msg, UndefinedMetricWarning)\n"
     ]
    },
    {
     "name": "stdout",
     "output_type": "stream",
     "text": [
      "Select 342 features\n",
      "First: 0, 0.215553\n",
      "Second: 7, 0.074124\n",
      "Method 1: 14.609796 | 8.033826\n",
      "\n",
      "Baseline: 14.611366 | 8.327969\n",
      "\n",
      "---Iteration 395---\n",
      "\n",
      "[395]\n"
     ]
    },
    {
     "name": "stderr",
     "output_type": "stream",
     "text": [
      "/Users/hundredball/anaconda3/envs/Math24/lib/python3.7/site-packages/sklearn/metrics/_regression.py:582: UndefinedMetricWarning: R^2 score is not well-defined with less than two samples.\n",
      "  warnings.warn(msg, UndefinedMetricWarning)\n",
      "/Users/hundredball/anaconda3/envs/Math24/lib/python3.7/site-packages/sklearn/metrics/_regression.py:582: UndefinedMetricWarning: R^2 score is not well-defined with less than two samples.\n",
      "  warnings.warn(msg, UndefinedMetricWarning)\n"
     ]
    },
    {
     "name": "stdout",
     "output_type": "stream",
     "text": [
      "Select 342 features\n",
      "First: 0, 0.212291\n",
      "Second: 7, 0.074414\n",
      "Method 1: 14.614783 | 2.201592\n",
      "\n",
      "Baseline: 14.616290 | 2.071993\n",
      "\n",
      "---Iteration 396---\n",
      "\n",
      "[396]\n"
     ]
    },
    {
     "name": "stderr",
     "output_type": "stream",
     "text": [
      "/Users/hundredball/anaconda3/envs/Math24/lib/python3.7/site-packages/sklearn/metrics/_regression.py:582: UndefinedMetricWarning: R^2 score is not well-defined with less than two samples.\n",
      "  warnings.warn(msg, UndefinedMetricWarning)\n",
      "/Users/hundredball/anaconda3/envs/Math24/lib/python3.7/site-packages/sklearn/metrics/_regression.py:582: UndefinedMetricWarning: R^2 score is not well-defined with less than two samples.\n",
      "  warnings.warn(msg, UndefinedMetricWarning)\n"
     ]
    },
    {
     "name": "stdout",
     "output_type": "stream",
     "text": [
      "Select 342 features\n",
      "First: 0, 0.208117\n",
      "Second: 7, 0.118113\n",
      "Method 1: 14.492452 | 39.337396\n",
      "\n",
      "Baseline: 14.498463 | 39.431991\n",
      "\n",
      "---Iteration 397---\n",
      "\n",
      "[397]\n"
     ]
    },
    {
     "name": "stderr",
     "output_type": "stream",
     "text": [
      "/Users/hundredball/anaconda3/envs/Math24/lib/python3.7/site-packages/sklearn/metrics/_regression.py:582: UndefinedMetricWarning: R^2 score is not well-defined with less than two samples.\n",
      "  warnings.warn(msg, UndefinedMetricWarning)\n",
      "/Users/hundredball/anaconda3/envs/Math24/lib/python3.7/site-packages/sklearn/metrics/_regression.py:582: UndefinedMetricWarning: R^2 score is not well-defined with less than two samples.\n",
      "  warnings.warn(msg, UndefinedMetricWarning)\n"
     ]
    },
    {
     "name": "stdout",
     "output_type": "stream",
     "text": [
      "Select 342 features\n",
      "First: 0, 0.211466\n",
      "Second: 7, 0.075921\n",
      "Method 1: 14.610539 | 7.105997\n",
      "\n",
      "Baseline: 14.613146 | 6.769886\n",
      "\n",
      "---Iteration 398---\n",
      "\n",
      "[398]\n"
     ]
    },
    {
     "name": "stderr",
     "output_type": "stream",
     "text": [
      "/Users/hundredball/anaconda3/envs/Math24/lib/python3.7/site-packages/sklearn/metrics/_regression.py:582: UndefinedMetricWarning: R^2 score is not well-defined with less than two samples.\n",
      "  warnings.warn(msg, UndefinedMetricWarning)\n",
      "/Users/hundredball/anaconda3/envs/Math24/lib/python3.7/site-packages/sklearn/metrics/_regression.py:582: UndefinedMetricWarning: R^2 score is not well-defined with less than two samples.\n",
      "  warnings.warn(msg, UndefinedMetricWarning)\n"
     ]
    },
    {
     "name": "stdout",
     "output_type": "stream",
     "text": [
      "Select 342 features\n",
      "First: 0, 0.205763\n",
      "Second: 7, 0.067187\n",
      "Method 1: 14.527679 | 33.547995\n",
      "\n",
      "Baseline: 14.532147 | 33.359964\n",
      "\n",
      "---Iteration 399---\n",
      "\n",
      "[399]\n"
     ]
    },
    {
     "name": "stderr",
     "output_type": "stream",
     "text": [
      "/Users/hundredball/anaconda3/envs/Math24/lib/python3.7/site-packages/sklearn/metrics/_regression.py:582: UndefinedMetricWarning: R^2 score is not well-defined with less than two samples.\n",
      "  warnings.warn(msg, UndefinedMetricWarning)\n",
      "/Users/hundredball/anaconda3/envs/Math24/lib/python3.7/site-packages/sklearn/metrics/_regression.py:582: UndefinedMetricWarning: R^2 score is not well-defined with less than two samples.\n",
      "  warnings.warn(msg, UndefinedMetricWarning)\n"
     ]
    },
    {
     "name": "stdout",
     "output_type": "stream",
     "text": [
      "Select 342 features\n",
      "First: 0, 0.211366\n",
      "Second: 7, 0.074085\n",
      "Method 1: 14.610789 | 7.204090\n",
      "\n",
      "Baseline: 14.613307 | 6.611332\n",
      "\n",
      "---Iteration 400---\n",
      "\n",
      "[400]\n"
     ]
    },
    {
     "name": "stderr",
     "output_type": "stream",
     "text": [
      "/Users/hundredball/anaconda3/envs/Math24/lib/python3.7/site-packages/sklearn/metrics/_regression.py:582: UndefinedMetricWarning: R^2 score is not well-defined with less than two samples.\n",
      "  warnings.warn(msg, UndefinedMetricWarning)\n",
      "/Users/hundredball/anaconda3/envs/Math24/lib/python3.7/site-packages/sklearn/metrics/_regression.py:582: UndefinedMetricWarning: R^2 score is not well-defined with less than two samples.\n",
      "  warnings.warn(msg, UndefinedMetricWarning)\n"
     ]
    },
    {
     "name": "stdout",
     "output_type": "stream",
     "text": [
      "Select 342 features\n",
      "First: 0, 0.212954\n",
      "Second: 7, 0.074333\n",
      "Method 1: 14.614516 | 2.288105\n",
      "\n",
      "Baseline: 14.616176 | 2.408623\n",
      "\n",
      "---Iteration 401---\n",
      "\n",
      "[401]\n"
     ]
    },
    {
     "name": "stderr",
     "output_type": "stream",
     "text": [
      "/Users/hundredball/anaconda3/envs/Math24/lib/python3.7/site-packages/sklearn/metrics/_regression.py:582: UndefinedMetricWarning: R^2 score is not well-defined with less than two samples.\n",
      "  warnings.warn(msg, UndefinedMetricWarning)\n",
      "/Users/hundredball/anaconda3/envs/Math24/lib/python3.7/site-packages/sklearn/metrics/_regression.py:582: UndefinedMetricWarning: R^2 score is not well-defined with less than two samples.\n",
      "  warnings.warn(msg, UndefinedMetricWarning)\n"
     ]
    },
    {
     "name": "stdout",
     "output_type": "stream",
     "text": [
      "Select 342 features\n",
      "First: 0, 0.212825\n",
      "Second: 7, 0.078181\n",
      "Method 1: 14.613836 | 1.804162\n",
      "\n",
      "Baseline: 14.616357 | 1.846833\n",
      "\n",
      "---Iteration 402---\n",
      "\n",
      "[402]\n"
     ]
    },
    {
     "name": "stderr",
     "output_type": "stream",
     "text": [
      "/Users/hundredball/anaconda3/envs/Math24/lib/python3.7/site-packages/sklearn/metrics/_regression.py:582: UndefinedMetricWarning: R^2 score is not well-defined with less than two samples.\n",
      "  warnings.warn(msg, UndefinedMetricWarning)\n",
      "/Users/hundredball/anaconda3/envs/Math24/lib/python3.7/site-packages/sklearn/metrics/_regression.py:582: UndefinedMetricWarning: R^2 score is not well-defined with less than two samples.\n",
      "  warnings.warn(msg, UndefinedMetricWarning)\n"
     ]
    },
    {
     "name": "stdout",
     "output_type": "stream",
     "text": [
      "Select 342 features\n",
      "First: 0, 0.210096\n",
      "Second: 7, 0.074326\n",
      "Method 1: 14.598280 | 14.517937\n",
      "\n",
      "Baseline: 14.601097 | 14.315878\n",
      "\n",
      "---Iteration 403---\n",
      "\n",
      "[403]\n"
     ]
    },
    {
     "name": "stderr",
     "output_type": "stream",
     "text": [
      "/Users/hundredball/anaconda3/envs/Math24/lib/python3.7/site-packages/sklearn/metrics/_regression.py:582: UndefinedMetricWarning: R^2 score is not well-defined with less than two samples.\n",
      "  warnings.warn(msg, UndefinedMetricWarning)\n",
      "/Users/hundredball/anaconda3/envs/Math24/lib/python3.7/site-packages/sklearn/metrics/_regression.py:582: UndefinedMetricWarning: R^2 score is not well-defined with less than two samples.\n",
      "  warnings.warn(msg, UndefinedMetricWarning)\n"
     ]
    },
    {
     "name": "stdout",
     "output_type": "stream",
     "text": [
      "Select 342 features\n",
      "First: 0, 0.213023\n",
      "Second: 7, 0.075158\n",
      "Method 1: 14.614826 | 1.312627\n",
      "\n",
      "Baseline: 14.616437 | 1.535598\n",
      "\n",
      "---Iteration 404---\n",
      "\n",
      "[404]\n"
     ]
    },
    {
     "name": "stderr",
     "output_type": "stream",
     "text": [
      "/Users/hundredball/anaconda3/envs/Math24/lib/python3.7/site-packages/sklearn/metrics/_regression.py:582: UndefinedMetricWarning: R^2 score is not well-defined with less than two samples.\n",
      "  warnings.warn(msg, UndefinedMetricWarning)\n",
      "/Users/hundredball/anaconda3/envs/Math24/lib/python3.7/site-packages/sklearn/metrics/_regression.py:582: UndefinedMetricWarning: R^2 score is not well-defined with less than two samples.\n",
      "  warnings.warn(msg, UndefinedMetricWarning)\n"
     ]
    },
    {
     "name": "stdout",
     "output_type": "stream",
     "text": [
      "Select 342 features\n",
      "First: 0, 0.213275\n",
      "Second: 7, 0.078339\n",
      "Method 1: 14.613517 | 2.812545\n",
      "\n",
      "Baseline: 14.615950 | 2.964541\n",
      "\n",
      "---Iteration 405---\n",
      "\n",
      "[405]\n"
     ]
    },
    {
     "name": "stderr",
     "output_type": "stream",
     "text": [
      "/Users/hundredball/anaconda3/envs/Math24/lib/python3.7/site-packages/sklearn/metrics/_regression.py:582: UndefinedMetricWarning: R^2 score is not well-defined with less than two samples.\n",
      "  warnings.warn(msg, UndefinedMetricWarning)\n",
      "/Users/hundredball/anaconda3/envs/Math24/lib/python3.7/site-packages/sklearn/metrics/_regression.py:582: UndefinedMetricWarning: R^2 score is not well-defined with less than two samples.\n",
      "  warnings.warn(msg, UndefinedMetricWarning)\n"
     ]
    },
    {
     "name": "stdout",
     "output_type": "stream",
     "text": [
      "Select 342 features\n",
      "First: 0, 0.211177\n",
      "Second: 7, 0.074261\n",
      "Method 1: 14.609925 | 7.924439\n",
      "\n",
      "Baseline: 14.612558 | 7.321889\n",
      "\n",
      "---Iteration 406---\n",
      "\n",
      "[406]\n"
     ]
    },
    {
     "name": "stderr",
     "output_type": "stream",
     "text": [
      "/Users/hundredball/anaconda3/envs/Math24/lib/python3.7/site-packages/sklearn/metrics/_regression.py:582: UndefinedMetricWarning: R^2 score is not well-defined with less than two samples.\n",
      "  warnings.warn(msg, UndefinedMetricWarning)\n",
      "/Users/hundredball/anaconda3/envs/Math24/lib/python3.7/site-packages/sklearn/metrics/_regression.py:582: UndefinedMetricWarning: R^2 score is not well-defined with less than two samples.\n",
      "  warnings.warn(msg, UndefinedMetricWarning)\n"
     ]
    },
    {
     "name": "stdout",
     "output_type": "stream",
     "text": [
      "Select 342 features\n",
      "First: 0, 0.203927\n",
      "Second: 7, 0.089172\n",
      "Method 1: 14.371393 | 56.458817\n",
      "\n",
      "Baseline: 14.376665 | 56.076237\n",
      "\n",
      "---Iteration 407---\n",
      "\n",
      "[407]\n"
     ]
    },
    {
     "name": "stderr",
     "output_type": "stream",
     "text": [
      "/Users/hundredball/anaconda3/envs/Math24/lib/python3.7/site-packages/sklearn/metrics/_regression.py:582: UndefinedMetricWarning: R^2 score is not well-defined with less than two samples.\n",
      "  warnings.warn(msg, UndefinedMetricWarning)\n",
      "/Users/hundredball/anaconda3/envs/Math24/lib/python3.7/site-packages/sklearn/metrics/_regression.py:582: UndefinedMetricWarning: R^2 score is not well-defined with less than two samples.\n",
      "  warnings.warn(msg, UndefinedMetricWarning)\n"
     ]
    },
    {
     "name": "stdout",
     "output_type": "stream",
     "text": [
      "Select 342 features\n",
      "First: 0, 0.211029\n",
      "Second: 7, 0.072713\n",
      "Method 1: 14.608670 | 8.448800\n",
      "\n",
      "Baseline: 14.611848 | 7.936530\n",
      "\n",
      "---Iteration 408---\n",
      "\n",
      "[408]\n"
     ]
    },
    {
     "name": "stderr",
     "output_type": "stream",
     "text": [
      "/Users/hundredball/anaconda3/envs/Math24/lib/python3.7/site-packages/sklearn/metrics/_regression.py:582: UndefinedMetricWarning: R^2 score is not well-defined with less than two samples.\n",
      "  warnings.warn(msg, UndefinedMetricWarning)\n",
      "/Users/hundredball/anaconda3/envs/Math24/lib/python3.7/site-packages/sklearn/metrics/_regression.py:582: UndefinedMetricWarning: R^2 score is not well-defined with less than two samples.\n",
      "  warnings.warn(msg, UndefinedMetricWarning)\n"
     ]
    },
    {
     "name": "stdout",
     "output_type": "stream",
     "text": [
      "Select 342 features\n",
      "First: 0, 0.211885\n",
      "Second: 7, 0.074331\n",
      "Method 1: 14.612801 | 4.778915\n",
      "\n",
      "Baseline: 14.615135 | 4.422897\n",
      "\n",
      "---Iteration 409---\n",
      "\n",
      "[409]\n"
     ]
    },
    {
     "name": "stderr",
     "output_type": "stream",
     "text": [
      "/Users/hundredball/anaconda3/envs/Math24/lib/python3.7/site-packages/sklearn/metrics/_regression.py:582: UndefinedMetricWarning: R^2 score is not well-defined with less than two samples.\n",
      "  warnings.warn(msg, UndefinedMetricWarning)\n",
      "/Users/hundredball/anaconda3/envs/Math24/lib/python3.7/site-packages/sklearn/metrics/_regression.py:582: UndefinedMetricWarning: R^2 score is not well-defined with less than two samples.\n",
      "  warnings.warn(msg, UndefinedMetricWarning)\n"
     ]
    },
    {
     "name": "stdout",
     "output_type": "stream",
     "text": [
      "Select 342 features\n",
      "First: 0, 0.211632\n",
      "Second: 7, 0.075200\n",
      "Method 1: 14.610897 | 6.366510\n",
      "\n",
      "Baseline: 14.613676 | 6.231586\n",
      "\n",
      "---Iteration 410---\n",
      "\n",
      "[410]\n"
     ]
    },
    {
     "name": "stderr",
     "output_type": "stream",
     "text": [
      "/Users/hundredball/anaconda3/envs/Math24/lib/python3.7/site-packages/sklearn/metrics/_regression.py:582: UndefinedMetricWarning: R^2 score is not well-defined with less than two samples.\n",
      "  warnings.warn(msg, UndefinedMetricWarning)\n",
      "/Users/hundredball/anaconda3/envs/Math24/lib/python3.7/site-packages/sklearn/metrics/_regression.py:582: UndefinedMetricWarning: R^2 score is not well-defined with less than two samples.\n",
      "  warnings.warn(msg, UndefinedMetricWarning)\n"
     ]
    },
    {
     "name": "stdout",
     "output_type": "stream",
     "text": [
      "Select 342 features\n",
      "First: 0, 0.212042\n",
      "Second: 7, 0.075051\n",
      "Method 1: 14.613855 | 3.560395\n",
      "\n",
      "Baseline: 14.615695 | 3.487233\n",
      "\n",
      "---Iteration 411---\n",
      "\n",
      "[411]\n"
     ]
    },
    {
     "name": "stderr",
     "output_type": "stream",
     "text": [
      "/Users/hundredball/anaconda3/envs/Math24/lib/python3.7/site-packages/sklearn/metrics/_regression.py:582: UndefinedMetricWarning: R^2 score is not well-defined with less than two samples.\n",
      "  warnings.warn(msg, UndefinedMetricWarning)\n",
      "/Users/hundredball/anaconda3/envs/Math24/lib/python3.7/site-packages/sklearn/metrics/_regression.py:582: UndefinedMetricWarning: R^2 score is not well-defined with less than two samples.\n",
      "  warnings.warn(msg, UndefinedMetricWarning)\n"
     ]
    },
    {
     "name": "stdout",
     "output_type": "stream",
     "text": [
      "Select 342 features\n",
      "First: 0, 0.211671\n",
      "Second: 7, 0.074987\n",
      "Method 1: 14.612053 | 5.720888\n",
      "\n",
      "Baseline: 14.614402 | 5.407497\n",
      "\n",
      "---Iteration 412---\n",
      "\n",
      "[412]\n"
     ]
    },
    {
     "name": "stderr",
     "output_type": "stream",
     "text": [
      "/Users/hundredball/anaconda3/envs/Math24/lib/python3.7/site-packages/sklearn/metrics/_regression.py:582: UndefinedMetricWarning: R^2 score is not well-defined with less than two samples.\n",
      "  warnings.warn(msg, UndefinedMetricWarning)\n",
      "/Users/hundredball/anaconda3/envs/Math24/lib/python3.7/site-packages/sklearn/metrics/_regression.py:582: UndefinedMetricWarning: R^2 score is not well-defined with less than two samples.\n",
      "  warnings.warn(msg, UndefinedMetricWarning)\n"
     ]
    },
    {
     "name": "stdout",
     "output_type": "stream",
     "text": [
      "Select 342 features\n",
      "First: 0, 0.208625\n",
      "Second: 7, 0.070215\n",
      "Method 1: 14.504566 | 38.016025\n",
      "\n",
      "Baseline: 14.507017 | 37.983474\n",
      "\n",
      "---Iteration 413---\n",
      "\n",
      "[413]\n"
     ]
    },
    {
     "name": "stderr",
     "output_type": "stream",
     "text": [
      "/Users/hundredball/anaconda3/envs/Math24/lib/python3.7/site-packages/sklearn/metrics/_regression.py:582: UndefinedMetricWarning: R^2 score is not well-defined with less than two samples.\n",
      "  warnings.warn(msg, UndefinedMetricWarning)\n",
      "/Users/hundredball/anaconda3/envs/Math24/lib/python3.7/site-packages/sklearn/metrics/_regression.py:582: UndefinedMetricWarning: R^2 score is not well-defined with less than two samples.\n",
      "  warnings.warn(msg, UndefinedMetricWarning)\n"
     ]
    },
    {
     "name": "stdout",
     "output_type": "stream",
     "text": [
      "Select 342 features\n",
      "First: 0, 0.212924\n",
      "Second: 7, 0.076378\n",
      "Method 1: 14.614634 | 1.042643\n",
      "\n",
      "Baseline: 14.616499 | 1.241980\n",
      "\n",
      "---Iteration 414---\n",
      "\n",
      "[414]\n"
     ]
    },
    {
     "name": "stderr",
     "output_type": "stream",
     "text": [
      "/Users/hundredball/anaconda3/envs/Math24/lib/python3.7/site-packages/sklearn/metrics/_regression.py:582: UndefinedMetricWarning: R^2 score is not well-defined with less than two samples.\n",
      "  warnings.warn(msg, UndefinedMetricWarning)\n",
      "/Users/hundredball/anaconda3/envs/Math24/lib/python3.7/site-packages/sklearn/metrics/_regression.py:582: UndefinedMetricWarning: R^2 score is not well-defined with less than two samples.\n",
      "  warnings.warn(msg, UndefinedMetricWarning)\n"
     ]
    },
    {
     "name": "stdout",
     "output_type": "stream",
     "text": [
      "Select 342 features\n",
      "First: 0, 0.209627\n",
      "Second: 7, 0.072476\n",
      "Method 1: 14.581028 | 20.612429\n",
      "\n",
      "Baseline: 14.585546 | 20.250883\n",
      "\n",
      "---Iteration 415---\n",
      "\n",
      "[415]\n"
     ]
    },
    {
     "name": "stderr",
     "output_type": "stream",
     "text": [
      "/Users/hundredball/anaconda3/envs/Math24/lib/python3.7/site-packages/sklearn/metrics/_regression.py:582: UndefinedMetricWarning: R^2 score is not well-defined with less than two samples.\n",
      "  warnings.warn(msg, UndefinedMetricWarning)\n",
      "/Users/hundredball/anaconda3/envs/Math24/lib/python3.7/site-packages/sklearn/metrics/_regression.py:582: UndefinedMetricWarning: R^2 score is not well-defined with less than two samples.\n",
      "  warnings.warn(msg, UndefinedMetricWarning)\n"
     ]
    },
    {
     "name": "stdout",
     "output_type": "stream",
     "text": [
      "Select 342 features\n",
      "First: 0, 0.213552\n",
      "Second: 7, 0.075463\n",
      "Method 1: 14.612496 | 4.331156\n",
      "\n",
      "Baseline: 14.615170 | 4.369994\n",
      "\n",
      "---Iteration 416---\n",
      "\n",
      "[416]\n"
     ]
    },
    {
     "name": "stderr",
     "output_type": "stream",
     "text": [
      "/Users/hundredball/anaconda3/envs/Math24/lib/python3.7/site-packages/sklearn/metrics/_regression.py:582: UndefinedMetricWarning: R^2 score is not well-defined with less than two samples.\n",
      "  warnings.warn(msg, UndefinedMetricWarning)\n",
      "/Users/hundredball/anaconda3/envs/Math24/lib/python3.7/site-packages/sklearn/metrics/_regression.py:582: UndefinedMetricWarning: R^2 score is not well-defined with less than two samples.\n",
      "  warnings.warn(msg, UndefinedMetricWarning)\n"
     ]
    },
    {
     "name": "stdout",
     "output_type": "stream",
     "text": [
      "Select 342 features\n",
      "First: 0, 0.213363\n",
      "Second: 7, 0.076359\n",
      "Method 1: 14.614044 | 3.554844\n",
      "\n",
      "Baseline: 14.615597 | 3.667267\n",
      "\n",
      "---Iteration 417---\n",
      "\n",
      "[417]\n"
     ]
    },
    {
     "name": "stderr",
     "output_type": "stream",
     "text": [
      "/Users/hundredball/anaconda3/envs/Math24/lib/python3.7/site-packages/sklearn/metrics/_regression.py:582: UndefinedMetricWarning: R^2 score is not well-defined with less than two samples.\n",
      "  warnings.warn(msg, UndefinedMetricWarning)\n",
      "/Users/hundredball/anaconda3/envs/Math24/lib/python3.7/site-packages/sklearn/metrics/_regression.py:582: UndefinedMetricWarning: R^2 score is not well-defined with less than two samples.\n",
      "  warnings.warn(msg, UndefinedMetricWarning)\n"
     ]
    },
    {
     "name": "stdout",
     "output_type": "stream",
     "text": [
      "Select 342 features\n",
      "First: 0, 0.210791\n",
      "Second: 7, 0.067602\n",
      "Method 1: 14.603021 | 12.654129\n",
      "\n",
      "Baseline: 14.604507 | 12.646168\n",
      "\n",
      "---Iteration 418---\n",
      "\n",
      "[418]\n"
     ]
    },
    {
     "name": "stderr",
     "output_type": "stream",
     "text": [
      "/Users/hundredball/anaconda3/envs/Math24/lib/python3.7/site-packages/sklearn/metrics/_regression.py:582: UndefinedMetricWarning: R^2 score is not well-defined with less than two samples.\n",
      "  warnings.warn(msg, UndefinedMetricWarning)\n",
      "/Users/hundredball/anaconda3/envs/Math24/lib/python3.7/site-packages/sklearn/metrics/_regression.py:582: UndefinedMetricWarning: R^2 score is not well-defined with less than two samples.\n",
      "  warnings.warn(msg, UndefinedMetricWarning)\n"
     ]
    },
    {
     "name": "stdout",
     "output_type": "stream",
     "text": [
      "Select 342 features\n",
      "First: 0, 0.209807\n",
      "Second: 7, 0.073341\n",
      "Method 1: 14.585135 | 19.699950\n",
      "\n",
      "Baseline: 14.586978 | 19.779137\n",
      "\n",
      "---Iteration 419---\n",
      "\n",
      "[419]\n"
     ]
    },
    {
     "name": "stderr",
     "output_type": "stream",
     "text": [
      "/Users/hundredball/anaconda3/envs/Math24/lib/python3.7/site-packages/sklearn/metrics/_regression.py:582: UndefinedMetricWarning: R^2 score is not well-defined with less than two samples.\n",
      "  warnings.warn(msg, UndefinedMetricWarning)\n",
      "/Users/hundredball/anaconda3/envs/Math24/lib/python3.7/site-packages/sklearn/metrics/_regression.py:582: UndefinedMetricWarning: R^2 score is not well-defined with less than two samples.\n",
      "  warnings.warn(msg, UndefinedMetricWarning)\n"
     ]
    },
    {
     "name": "stdout",
     "output_type": "stream",
     "text": [
      "Select 342 features\n",
      "First: 0, 0.211983\n",
      "Second: 7, 0.075651\n",
      "Method 1: 14.613253 | 4.100592\n",
      "\n",
      "Baseline: 14.615402 | 4.004002\n",
      "\n",
      "---Iteration 420---\n",
      "\n",
      "[420]\n"
     ]
    },
    {
     "name": "stderr",
     "output_type": "stream",
     "text": [
      "/Users/hundredball/anaconda3/envs/Math24/lib/python3.7/site-packages/sklearn/metrics/_regression.py:582: UndefinedMetricWarning: R^2 score is not well-defined with less than two samples.\n",
      "  warnings.warn(msg, UndefinedMetricWarning)\n",
      "/Users/hundredball/anaconda3/envs/Math24/lib/python3.7/site-packages/sklearn/metrics/_regression.py:582: UndefinedMetricWarning: R^2 score is not well-defined with less than two samples.\n",
      "  warnings.warn(msg, UndefinedMetricWarning)\n"
     ]
    },
    {
     "name": "stdout",
     "output_type": "stream",
     "text": [
      "Select 342 features\n",
      "First: 0, 0.208706\n",
      "Second: 7, 0.067461\n",
      "Method 1: 14.558474 | 27.315249\n",
      "\n",
      "Baseline: 14.561106 | 27.056957\n",
      "\n",
      "---Iteration 421---\n",
      "\n",
      "[421]\n"
     ]
    },
    {
     "name": "stderr",
     "output_type": "stream",
     "text": [
      "/Users/hundredball/anaconda3/envs/Math24/lib/python3.7/site-packages/sklearn/metrics/_regression.py:582: UndefinedMetricWarning: R^2 score is not well-defined with less than two samples.\n",
      "  warnings.warn(msg, UndefinedMetricWarning)\n",
      "/Users/hundredball/anaconda3/envs/Math24/lib/python3.7/site-packages/sklearn/metrics/_regression.py:582: UndefinedMetricWarning: R^2 score is not well-defined with less than two samples.\n",
      "  warnings.warn(msg, UndefinedMetricWarning)\n"
     ]
    },
    {
     "name": "stdout",
     "output_type": "stream",
     "text": [
      "Select 342 features\n",
      "First: 0, 0.213610\n",
      "Second: 7, 0.076307\n",
      "Method 1: 14.609348 | 8.463640\n",
      "\n",
      "Baseline: 14.611461 | 8.251628\n",
      "\n",
      "---Iteration 422---\n",
      "\n",
      "[422]\n"
     ]
    },
    {
     "name": "stderr",
     "output_type": "stream",
     "text": [
      "/Users/hundredball/anaconda3/envs/Math24/lib/python3.7/site-packages/sklearn/metrics/_regression.py:582: UndefinedMetricWarning: R^2 score is not well-defined with less than two samples.\n",
      "  warnings.warn(msg, UndefinedMetricWarning)\n",
      "/Users/hundredball/anaconda3/envs/Math24/lib/python3.7/site-packages/sklearn/metrics/_regression.py:582: UndefinedMetricWarning: R^2 score is not well-defined with less than two samples.\n",
      "  warnings.warn(msg, UndefinedMetricWarning)\n"
     ]
    },
    {
     "name": "stdout",
     "output_type": "stream",
     "text": [
      "Select 342 features\n",
      "First: 0, 0.213792\n",
      "Second: 7, 0.075731\n",
      "Method 1: 14.611395 | 6.733692\n",
      "\n",
      "Baseline: 14.612990 | 6.920558\n",
      "\n",
      "---Iteration 423---\n",
      "\n",
      "[423]\n"
     ]
    },
    {
     "name": "stderr",
     "output_type": "stream",
     "text": [
      "/Users/hundredball/anaconda3/envs/Math24/lib/python3.7/site-packages/sklearn/metrics/_regression.py:582: UndefinedMetricWarning: R^2 score is not well-defined with less than two samples.\n",
      "  warnings.warn(msg, UndefinedMetricWarning)\n",
      "/Users/hundredball/anaconda3/envs/Math24/lib/python3.7/site-packages/sklearn/metrics/_regression.py:582: UndefinedMetricWarning: R^2 score is not well-defined with less than two samples.\n",
      "  warnings.warn(msg, UndefinedMetricWarning)\n"
     ]
    },
    {
     "name": "stdout",
     "output_type": "stream",
     "text": [
      "Select 342 features\n",
      "First: 0, 0.213933\n",
      "Second: 7, 0.076721\n",
      "Method 1: 14.611588 | 6.315428\n",
      "\n",
      "Baseline: 14.613371 | 6.546684\n",
      "\n",
      "---Iteration 424---\n",
      "\n",
      "[424]\n"
     ]
    },
    {
     "name": "stderr",
     "output_type": "stream",
     "text": [
      "/Users/hundredball/anaconda3/envs/Math24/lib/python3.7/site-packages/sklearn/metrics/_regression.py:582: UndefinedMetricWarning: R^2 score is not well-defined with less than two samples.\n",
      "  warnings.warn(msg, UndefinedMetricWarning)\n",
      "/Users/hundredball/anaconda3/envs/Math24/lib/python3.7/site-packages/sklearn/metrics/_regression.py:582: UndefinedMetricWarning: R^2 score is not well-defined with less than two samples.\n",
      "  warnings.warn(msg, UndefinedMetricWarning)\n"
     ]
    },
    {
     "name": "stdout",
     "output_type": "stream",
     "text": [
      "Select 342 features\n",
      "First: 0, 0.208810\n",
      "Second: 7, 0.068657\n",
      "Method 1: 14.537674 | 31.599582\n",
      "\n",
      "Baseline: 14.540025 | 31.770510\n",
      "\n",
      "---Iteration 425---\n",
      "\n",
      "[425]\n"
     ]
    },
    {
     "name": "stderr",
     "output_type": "stream",
     "text": [
      "/Users/hundredball/anaconda3/envs/Math24/lib/python3.7/site-packages/sklearn/metrics/_regression.py:582: UndefinedMetricWarning: R^2 score is not well-defined with less than two samples.\n",
      "  warnings.warn(msg, UndefinedMetricWarning)\n",
      "/Users/hundredball/anaconda3/envs/Math24/lib/python3.7/site-packages/sklearn/metrics/_regression.py:582: UndefinedMetricWarning: R^2 score is not well-defined with less than two samples.\n",
      "  warnings.warn(msg, UndefinedMetricWarning)\n"
     ]
    },
    {
     "name": "stdout",
     "output_type": "stream",
     "text": [
      "Select 342 features\n",
      "First: 0, 0.213743\n",
      "Second: 7, 0.077135\n",
      "Method 1: 14.609867 | 7.325223\n",
      "\n",
      "Baseline: 14.612860 | 7.043878\n",
      "\n",
      "---Iteration 426---\n",
      "\n",
      "[426]\n"
     ]
    },
    {
     "name": "stderr",
     "output_type": "stream",
     "text": [
      "/Users/hundredball/anaconda3/envs/Math24/lib/python3.7/site-packages/sklearn/metrics/_regression.py:582: UndefinedMetricWarning: R^2 score is not well-defined with less than two samples.\n",
      "  warnings.warn(msg, UndefinedMetricWarning)\n",
      "/Users/hundredball/anaconda3/envs/Math24/lib/python3.7/site-packages/sklearn/metrics/_regression.py:582: UndefinedMetricWarning: R^2 score is not well-defined with less than two samples.\n",
      "  warnings.warn(msg, UndefinedMetricWarning)\n"
     ]
    },
    {
     "name": "stdout",
     "output_type": "stream",
     "text": [
      "Select 342 features\n",
      "First: 0, 0.208056\n",
      "Second: 7, 0.071814\n",
      "Method 1: 14.521981 | 34.688140\n",
      "\n",
      "Baseline: 14.527757 | 34.213415\n",
      "\n",
      "---Iteration 427---\n",
      "\n",
      "[427]\n"
     ]
    },
    {
     "name": "stderr",
     "output_type": "stream",
     "text": [
      "/Users/hundredball/anaconda3/envs/Math24/lib/python3.7/site-packages/sklearn/metrics/_regression.py:582: UndefinedMetricWarning: R^2 score is not well-defined with less than two samples.\n",
      "  warnings.warn(msg, UndefinedMetricWarning)\n",
      "/Users/hundredball/anaconda3/envs/Math24/lib/python3.7/site-packages/sklearn/metrics/_regression.py:582: UndefinedMetricWarning: R^2 score is not well-defined with less than two samples.\n",
      "  warnings.warn(msg, UndefinedMetricWarning)\n"
     ]
    },
    {
     "name": "stdout",
     "output_type": "stream",
     "text": [
      "Select 342 features\n",
      "First: 0, 0.208512\n",
      "Second: 7, 0.073199\n",
      "Method 1: 14.496537 | 39.285707\n",
      "\n",
      "Baseline: 14.500469 | 39.097266\n",
      "\n",
      "---Iteration 428---\n",
      "\n",
      "[428]\n"
     ]
    },
    {
     "name": "stderr",
     "output_type": "stream",
     "text": [
      "/Users/hundredball/anaconda3/envs/Math24/lib/python3.7/site-packages/sklearn/metrics/_regression.py:582: UndefinedMetricWarning: R^2 score is not well-defined with less than two samples.\n",
      "  warnings.warn(msg, UndefinedMetricWarning)\n",
      "/Users/hundredball/anaconda3/envs/Math24/lib/python3.7/site-packages/sklearn/metrics/_regression.py:582: UndefinedMetricWarning: R^2 score is not well-defined with less than two samples.\n",
      "  warnings.warn(msg, UndefinedMetricWarning)\n"
     ]
    },
    {
     "name": "stdout",
     "output_type": "stream",
     "text": [
      "Select 342 features\n",
      "First: 0, 0.213402\n",
      "Second: 7, 0.075055\n",
      "Method 1: 14.613460 | 3.068159\n",
      "\n",
      "Baseline: 14.615747 | 3.387351\n",
      "\n",
      "---Iteration 429---\n",
      "\n",
      "[429]\n"
     ]
    },
    {
     "name": "stderr",
     "output_type": "stream",
     "text": [
      "/Users/hundredball/anaconda3/envs/Math24/lib/python3.7/site-packages/sklearn/metrics/_regression.py:582: UndefinedMetricWarning: R^2 score is not well-defined with less than two samples.\n",
      "  warnings.warn(msg, UndefinedMetricWarning)\n",
      "/Users/hundredball/anaconda3/envs/Math24/lib/python3.7/site-packages/sklearn/metrics/_regression.py:582: UndefinedMetricWarning: R^2 score is not well-defined with less than two samples.\n",
      "  warnings.warn(msg, UndefinedMetricWarning)\n"
     ]
    },
    {
     "name": "stdout",
     "output_type": "stream",
     "text": [
      "Select 342 features\n",
      "First: 0, 0.207223\n",
      "Second: 7, 0.074640\n",
      "Method 1: 14.547785 | 29.602067\n",
      "\n",
      "Baseline: 14.551289 | 29.347180\n",
      "\n",
      "---Iteration 430---\n",
      "\n",
      "[430]\n"
     ]
    },
    {
     "name": "stderr",
     "output_type": "stream",
     "text": [
      "/Users/hundredball/anaconda3/envs/Math24/lib/python3.7/site-packages/sklearn/metrics/_regression.py:582: UndefinedMetricWarning: R^2 score is not well-defined with less than two samples.\n",
      "  warnings.warn(msg, UndefinedMetricWarning)\n",
      "/Users/hundredball/anaconda3/envs/Math24/lib/python3.7/site-packages/sklearn/metrics/_regression.py:582: UndefinedMetricWarning: R^2 score is not well-defined with less than two samples.\n",
      "  warnings.warn(msg, UndefinedMetricWarning)\n"
     ]
    },
    {
     "name": "stdout",
     "output_type": "stream",
     "text": [
      "Select 342 features\n",
      "First: 0, 0.214076\n",
      "Second: 7, 0.075969\n",
      "Method 1: 14.610432 | 7.071366\n",
      "\n",
      "Baseline: 14.612835 | 7.067368\n",
      "\n",
      "---Iteration 431---\n",
      "\n",
      "[431]\n"
     ]
    },
    {
     "name": "stderr",
     "output_type": "stream",
     "text": [
      "/Users/hundredball/anaconda3/envs/Math24/lib/python3.7/site-packages/sklearn/metrics/_regression.py:582: UndefinedMetricWarning: R^2 score is not well-defined with less than two samples.\n",
      "  warnings.warn(msg, UndefinedMetricWarning)\n",
      "/Users/hundredball/anaconda3/envs/Math24/lib/python3.7/site-packages/sklearn/metrics/_regression.py:582: UndefinedMetricWarning: R^2 score is not well-defined with less than two samples.\n",
      "  warnings.warn(msg, UndefinedMetricWarning)\n"
     ]
    },
    {
     "name": "stdout",
     "output_type": "stream",
     "text": [
      "Select 342 features\n",
      "First: 0, 0.211073\n",
      "Second: 7, 0.079082\n",
      "Method 1: 14.609047 | 7.517554\n",
      "\n",
      "Baseline: 14.612068 | 7.750572\n",
      "\n",
      "---Iteration 432---\n",
      "\n",
      "[432]\n"
     ]
    },
    {
     "name": "stderr",
     "output_type": "stream",
     "text": [
      "/Users/hundredball/anaconda3/envs/Math24/lib/python3.7/site-packages/sklearn/metrics/_regression.py:582: UndefinedMetricWarning: R^2 score is not well-defined with less than two samples.\n",
      "  warnings.warn(msg, UndefinedMetricWarning)\n",
      "/Users/hundredball/anaconda3/envs/Math24/lib/python3.7/site-packages/sklearn/metrics/_regression.py:582: UndefinedMetricWarning: R^2 score is not well-defined with less than two samples.\n",
      "  warnings.warn(msg, UndefinedMetricWarning)\n"
     ]
    },
    {
     "name": "stdout",
     "output_type": "stream",
     "text": [
      "Select 342 features\n",
      "First: 0, 0.213100\n",
      "Second: 7, 0.072769\n",
      "Method 1: 14.613683 | 2.141239\n",
      "\n",
      "Baseline: 14.616158 | 2.457560\n",
      "\n",
      "---Iteration 433---\n",
      "\n",
      "[433]\n"
     ]
    },
    {
     "name": "stderr",
     "output_type": "stream",
     "text": [
      "/Users/hundredball/anaconda3/envs/Math24/lib/python3.7/site-packages/sklearn/metrics/_regression.py:582: UndefinedMetricWarning: R^2 score is not well-defined with less than two samples.\n",
      "  warnings.warn(msg, UndefinedMetricWarning)\n",
      "/Users/hundredball/anaconda3/envs/Math24/lib/python3.7/site-packages/sklearn/metrics/_regression.py:582: UndefinedMetricWarning: R^2 score is not well-defined with less than two samples.\n",
      "  warnings.warn(msg, UndefinedMetricWarning)\n"
     ]
    },
    {
     "name": "stdout",
     "output_type": "stream",
     "text": [
      "Select 342 features\n",
      "First: 0, 0.212832\n",
      "Second: 7, 0.075015\n",
      "Method 1: 14.614389 | 1.967326\n",
      "\n",
      "Baseline: 14.616269 | 2.138494\n",
      "\n",
      "---Iteration 434---\n",
      "\n",
      "[434]\n"
     ]
    },
    {
     "name": "stderr",
     "output_type": "stream",
     "text": [
      "/Users/hundredball/anaconda3/envs/Math24/lib/python3.7/site-packages/sklearn/metrics/_regression.py:582: UndefinedMetricWarning: R^2 score is not well-defined with less than two samples.\n",
      "  warnings.warn(msg, UndefinedMetricWarning)\n",
      "/Users/hundredball/anaconda3/envs/Math24/lib/python3.7/site-packages/sklearn/metrics/_regression.py:582: UndefinedMetricWarning: R^2 score is not well-defined with less than two samples.\n",
      "  warnings.warn(msg, UndefinedMetricWarning)\n"
     ]
    },
    {
     "name": "stdout",
     "output_type": "stream",
     "text": [
      "Select 342 features\n",
      "First: 0, 0.213158\n",
      "Second: 7, 0.078392\n",
      "Method 1: 14.613550 | 3.643297\n",
      "\n",
      "Baseline: 14.615654 | 3.563522\n",
      "\n",
      "---Iteration 435---\n",
      "\n",
      "[435]\n"
     ]
    },
    {
     "name": "stderr",
     "output_type": "stream",
     "text": [
      "/Users/hundredball/anaconda3/envs/Math24/lib/python3.7/site-packages/sklearn/metrics/_regression.py:582: UndefinedMetricWarning: R^2 score is not well-defined with less than two samples.\n",
      "  warnings.warn(msg, UndefinedMetricWarning)\n",
      "/Users/hundredball/anaconda3/envs/Math24/lib/python3.7/site-packages/sklearn/metrics/_regression.py:582: UndefinedMetricWarning: R^2 score is not well-defined with less than two samples.\n",
      "  warnings.warn(msg, UndefinedMetricWarning)\n"
     ]
    },
    {
     "name": "stdout",
     "output_type": "stream",
     "text": [
      "Select 342 features\n",
      "First: 0, 0.209513\n",
      "Second: 7, 0.069264\n",
      "Method 1: 14.519873 | 35.305019\n",
      "\n",
      "Baseline: 14.521531 | 35.387888\n",
      "\n",
      "---Iteration 436---\n",
      "\n",
      "[436]\n"
     ]
    },
    {
     "name": "stderr",
     "output_type": "stream",
     "text": [
      "/Users/hundredball/anaconda3/envs/Math24/lib/python3.7/site-packages/sklearn/metrics/_regression.py:582: UndefinedMetricWarning: R^2 score is not well-defined with less than two samples.\n",
      "  warnings.warn(msg, UndefinedMetricWarning)\n",
      "/Users/hundredball/anaconda3/envs/Math24/lib/python3.7/site-packages/sklearn/metrics/_regression.py:582: UndefinedMetricWarning: R^2 score is not well-defined with less than two samples.\n",
      "  warnings.warn(msg, UndefinedMetricWarning)\n"
     ]
    },
    {
     "name": "stdout",
     "output_type": "stream",
     "text": [
      "Select 342 features\n",
      "First: 0, 0.213918\n",
      "Second: 7, 0.078268\n",
      "Method 1: 14.613294 | 5.279679\n",
      "\n",
      "Baseline: 14.614447 | 5.352637\n",
      "\n",
      "---Iteration 437---\n",
      "\n",
      "[437]\n"
     ]
    },
    {
     "name": "stderr",
     "output_type": "stream",
     "text": [
      "/Users/hundredball/anaconda3/envs/Math24/lib/python3.7/site-packages/sklearn/metrics/_regression.py:582: UndefinedMetricWarning: R^2 score is not well-defined with less than two samples.\n",
      "  warnings.warn(msg, UndefinedMetricWarning)\n",
      "/Users/hundredball/anaconda3/envs/Math24/lib/python3.7/site-packages/sklearn/metrics/_regression.py:582: UndefinedMetricWarning: R^2 score is not well-defined with less than two samples.\n",
      "  warnings.warn(msg, UndefinedMetricWarning)\n"
     ]
    },
    {
     "name": "stdout",
     "output_type": "stream",
     "text": [
      "Select 342 features\n",
      "First: 0, 0.210231\n",
      "Second: 7, 0.074777\n",
      "Method 1: 14.586806 | 19.084656\n",
      "\n",
      "Baseline: 14.588924 | 19.119474\n",
      "\n",
      "---Iteration 438---\n",
      "\n",
      "[438]\n"
     ]
    },
    {
     "name": "stderr",
     "output_type": "stream",
     "text": [
      "/Users/hundredball/anaconda3/envs/Math24/lib/python3.7/site-packages/sklearn/metrics/_regression.py:582: UndefinedMetricWarning: R^2 score is not well-defined with less than two samples.\n",
      "  warnings.warn(msg, UndefinedMetricWarning)\n",
      "/Users/hundredball/anaconda3/envs/Math24/lib/python3.7/site-packages/sklearn/metrics/_regression.py:582: UndefinedMetricWarning: R^2 score is not well-defined with less than two samples.\n",
      "  warnings.warn(msg, UndefinedMetricWarning)\n"
     ]
    },
    {
     "name": "stdout",
     "output_type": "stream",
     "text": [
      "Select 342 features\n",
      "First: 0, 0.206584\n",
      "Second: 7, 0.061000\n",
      "Method 1: 14.235572 | 70.025933\n",
      "\n",
      "Baseline: 14.243252 | 69.788214\n",
      "\n",
      "---Iteration 439---\n",
      "\n",
      "[439]\n"
     ]
    },
    {
     "name": "stderr",
     "output_type": "stream",
     "text": [
      "/Users/hundredball/anaconda3/envs/Math24/lib/python3.7/site-packages/sklearn/metrics/_regression.py:582: UndefinedMetricWarning: R^2 score is not well-defined with less than two samples.\n",
      "  warnings.warn(msg, UndefinedMetricWarning)\n",
      "/Users/hundredball/anaconda3/envs/Math24/lib/python3.7/site-packages/sklearn/metrics/_regression.py:582: UndefinedMetricWarning: R^2 score is not well-defined with less than two samples.\n",
      "  warnings.warn(msg, UndefinedMetricWarning)\n"
     ]
    },
    {
     "name": "stdout",
     "output_type": "stream",
     "text": [
      "Select 342 features\n",
      "First: 0, 0.212572\n",
      "Second: 7, 0.075462\n",
      "Method 1: 14.614715 | 1.204774\n",
      "\n",
      "Baseline: 14.616547 | 0.950371\n",
      "\n",
      "---Iteration 440---\n",
      "\n",
      "[440]\n"
     ]
    },
    {
     "name": "stderr",
     "output_type": "stream",
     "text": [
      "/Users/hundredball/anaconda3/envs/Math24/lib/python3.7/site-packages/sklearn/metrics/_regression.py:582: UndefinedMetricWarning: R^2 score is not well-defined with less than two samples.\n",
      "  warnings.warn(msg, UndefinedMetricWarning)\n",
      "/Users/hundredball/anaconda3/envs/Math24/lib/python3.7/site-packages/sklearn/metrics/_regression.py:582: UndefinedMetricWarning: R^2 score is not well-defined with less than two samples.\n",
      "  warnings.warn(msg, UndefinedMetricWarning)\n"
     ]
    },
    {
     "name": "stdout",
     "output_type": "stream",
     "text": [
      "Select 342 features\n",
      "First: 0, 0.206647\n",
      "Second: 7, 0.067011\n",
      "Method 1: 14.456290 | 45.731217\n",
      "\n",
      "Baseline: 14.460081 | 45.357210\n",
      "\n",
      "---Iteration 441---\n",
      "\n",
      "[441]\n"
     ]
    },
    {
     "name": "stderr",
     "output_type": "stream",
     "text": [
      "/Users/hundredball/anaconda3/envs/Math24/lib/python3.7/site-packages/sklearn/metrics/_regression.py:582: UndefinedMetricWarning: R^2 score is not well-defined with less than two samples.\n",
      "  warnings.warn(msg, UndefinedMetricWarning)\n",
      "/Users/hundredball/anaconda3/envs/Math24/lib/python3.7/site-packages/sklearn/metrics/_regression.py:582: UndefinedMetricWarning: R^2 score is not well-defined with less than two samples.\n",
      "  warnings.warn(msg, UndefinedMetricWarning)\n"
     ]
    },
    {
     "name": "stdout",
     "output_type": "stream",
     "text": [
      "Select 342 features\n",
      "First: 0, 0.213061\n",
      "Second: 7, 0.077538\n",
      "Method 1: 14.610808 | 3.728005\n",
      "\n",
      "Baseline: 14.615998 | 2.856881\n",
      "\n",
      "---Iteration 442---\n",
      "\n",
      "[442]\n"
     ]
    },
    {
     "name": "stderr",
     "output_type": "stream",
     "text": [
      "/Users/hundredball/anaconda3/envs/Math24/lib/python3.7/site-packages/sklearn/metrics/_regression.py:582: UndefinedMetricWarning: R^2 score is not well-defined with less than two samples.\n",
      "  warnings.warn(msg, UndefinedMetricWarning)\n",
      "/Users/hundredball/anaconda3/envs/Math24/lib/python3.7/site-packages/sklearn/metrics/_regression.py:582: UndefinedMetricWarning: R^2 score is not well-defined with less than two samples.\n",
      "  warnings.warn(msg, UndefinedMetricWarning)\n"
     ]
    },
    {
     "name": "stdout",
     "output_type": "stream",
     "text": [
      "Select 342 features\n",
      "First: 0, 0.213519\n",
      "Second: 7, 0.074170\n",
      "Method 1: 14.611513 | 6.944811\n",
      "\n",
      "Baseline: 14.612860 | 7.043878\n",
      "\n",
      "---Iteration 443---\n",
      "\n",
      "[443]\n"
     ]
    },
    {
     "name": "stderr",
     "output_type": "stream",
     "text": [
      "/Users/hundredball/anaconda3/envs/Math24/lib/python3.7/site-packages/sklearn/metrics/_regression.py:582: UndefinedMetricWarning: R^2 score is not well-defined with less than two samples.\n",
      "  warnings.warn(msg, UndefinedMetricWarning)\n",
      "/Users/hundredball/anaconda3/envs/Math24/lib/python3.7/site-packages/sklearn/metrics/_regression.py:582: UndefinedMetricWarning: R^2 score is not well-defined with less than two samples.\n",
      "  warnings.warn(msg, UndefinedMetricWarning)\n"
     ]
    },
    {
     "name": "stdout",
     "output_type": "stream",
     "text": [
      "Select 342 features\n",
      "First: 0, 0.206620\n",
      "Second: 7, 0.062043\n",
      "Method 1: 14.252369 | 68.728409\n",
      "\n",
      "Baseline: 14.256517 | 68.553059\n",
      "\n",
      "---Iteration 444---\n",
      "\n",
      "[444]\n"
     ]
    },
    {
     "name": "stderr",
     "output_type": "stream",
     "text": [
      "/Users/hundredball/anaconda3/envs/Math24/lib/python3.7/site-packages/sklearn/metrics/_regression.py:582: UndefinedMetricWarning: R^2 score is not well-defined with less than two samples.\n",
      "  warnings.warn(msg, UndefinedMetricWarning)\n",
      "/Users/hundredball/anaconda3/envs/Math24/lib/python3.7/site-packages/sklearn/metrics/_regression.py:582: UndefinedMetricWarning: R^2 score is not well-defined with less than two samples.\n",
      "  warnings.warn(msg, UndefinedMetricWarning)\n"
     ]
    },
    {
     "name": "stdout",
     "output_type": "stream",
     "text": [
      "Select 342 features\n",
      "First: 0, 0.213168\n",
      "Second: 7, 0.074852\n",
      "Method 1: 14.613133 | 3.724051\n",
      "\n",
      "Baseline: 14.615580 | 3.698586\n",
      "\n",
      "---Iteration 445---\n",
      "\n",
      "[445]\n"
     ]
    },
    {
     "name": "stderr",
     "output_type": "stream",
     "text": [
      "/Users/hundredball/anaconda3/envs/Math24/lib/python3.7/site-packages/sklearn/metrics/_regression.py:582: UndefinedMetricWarning: R^2 score is not well-defined with less than two samples.\n",
      "  warnings.warn(msg, UndefinedMetricWarning)\n",
      "/Users/hundredball/anaconda3/envs/Math24/lib/python3.7/site-packages/sklearn/metrics/_regression.py:582: UndefinedMetricWarning: R^2 score is not well-defined with less than two samples.\n",
      "  warnings.warn(msg, UndefinedMetricWarning)\n"
     ]
    },
    {
     "name": "stdout",
     "output_type": "stream",
     "text": [
      "Select 342 features\n",
      "First: 0, 0.210226\n",
      "Second: 7, 0.075688\n",
      "Method 1: 14.599567 | 13.989866\n",
      "\n",
      "Baseline: 14.602169 | 13.812812\n",
      "\n",
      "---Iteration 446---\n",
      "\n",
      "[446]\n"
     ]
    },
    {
     "name": "stderr",
     "output_type": "stream",
     "text": [
      "/Users/hundredball/anaconda3/envs/Math24/lib/python3.7/site-packages/sklearn/metrics/_regression.py:582: UndefinedMetricWarning: R^2 score is not well-defined with less than two samples.\n",
      "  warnings.warn(msg, UndefinedMetricWarning)\n",
      "/Users/hundredball/anaconda3/envs/Math24/lib/python3.7/site-packages/sklearn/metrics/_regression.py:582: UndefinedMetricWarning: R^2 score is not well-defined with less than two samples.\n",
      "  warnings.warn(msg, UndefinedMetricWarning)\n"
     ]
    },
    {
     "name": "stdout",
     "output_type": "stream",
     "text": [
      "Select 342 features\n",
      "First: 0, 0.207984\n",
      "Second: 7, 0.063269\n",
      "Method 1: 14.472022 | 43.251249\n",
      "\n",
      "Baseline: 14.474390 | 43.245115\n",
      "\n",
      "---Iteration 447---\n",
      "\n",
      "[447]\n"
     ]
    },
    {
     "name": "stderr",
     "output_type": "stream",
     "text": [
      "/Users/hundredball/anaconda3/envs/Math24/lib/python3.7/site-packages/sklearn/metrics/_regression.py:582: UndefinedMetricWarning: R^2 score is not well-defined with less than two samples.\n",
      "  warnings.warn(msg, UndefinedMetricWarning)\n",
      "/Users/hundredball/anaconda3/envs/Math24/lib/python3.7/site-packages/sklearn/metrics/_regression.py:582: UndefinedMetricWarning: R^2 score is not well-defined with less than two samples.\n",
      "  warnings.warn(msg, UndefinedMetricWarning)\n"
     ]
    },
    {
     "name": "stdout",
     "output_type": "stream",
     "text": [
      "Select 342 features\n",
      "First: 0, 0.203632\n",
      "Second: 7, 0.079123\n",
      "Method 1: 14.092481 | 82.132440\n",
      "\n",
      "Baseline: 14.099781 | 81.904864\n",
      "\n",
      "---Iteration 448---\n",
      "\n",
      "[448]\n"
     ]
    },
    {
     "name": "stderr",
     "output_type": "stream",
     "text": [
      "/Users/hundredball/anaconda3/envs/Math24/lib/python3.7/site-packages/sklearn/metrics/_regression.py:582: UndefinedMetricWarning: R^2 score is not well-defined with less than two samples.\n",
      "  warnings.warn(msg, UndefinedMetricWarning)\n",
      "/Users/hundredball/anaconda3/envs/Math24/lib/python3.7/site-packages/sklearn/metrics/_regression.py:582: UndefinedMetricWarning: R^2 score is not well-defined with less than two samples.\n",
      "  warnings.warn(msg, UndefinedMetricWarning)\n"
     ]
    },
    {
     "name": "stdout",
     "output_type": "stream",
     "text": [
      "Select 342 features\n",
      "First: 0, 0.213140\n",
      "Second: 7, 0.076425\n",
      "Method 1: 14.614793 | 1.989761\n",
      "\n",
      "Baseline: 14.616326 | 1.954493\n",
      "\n",
      "---Iteration 449---\n",
      "\n",
      "[449]\n"
     ]
    },
    {
     "name": "stderr",
     "output_type": "stream",
     "text": [
      "/Users/hundredball/anaconda3/envs/Math24/lib/python3.7/site-packages/sklearn/metrics/_regression.py:582: UndefinedMetricWarning: R^2 score is not well-defined with less than two samples.\n",
      "  warnings.warn(msg, UndefinedMetricWarning)\n",
      "/Users/hundredball/anaconda3/envs/Math24/lib/python3.7/site-packages/sklearn/metrics/_regression.py:582: UndefinedMetricWarning: R^2 score is not well-defined with less than two samples.\n",
      "  warnings.warn(msg, UndefinedMetricWarning)\n"
     ]
    },
    {
     "name": "stdout",
     "output_type": "stream",
     "text": [
      "Select 342 features\n",
      "First: 0, 0.212288\n",
      "Second: 7, 0.076845\n",
      "Method 1: 14.614275 | 2.305145\n",
      "\n",
      "Baseline: 14.616221 | 2.283398\n",
      "\n",
      "---Iteration 450---\n",
      "\n",
      "[450]\n"
     ]
    },
    {
     "name": "stderr",
     "output_type": "stream",
     "text": [
      "/Users/hundredball/anaconda3/envs/Math24/lib/python3.7/site-packages/sklearn/metrics/_regression.py:582: UndefinedMetricWarning: R^2 score is not well-defined with less than two samples.\n",
      "  warnings.warn(msg, UndefinedMetricWarning)\n",
      "/Users/hundredball/anaconda3/envs/Math24/lib/python3.7/site-packages/sklearn/metrics/_regression.py:582: UndefinedMetricWarning: R^2 score is not well-defined with less than two samples.\n",
      "  warnings.warn(msg, UndefinedMetricWarning)\n"
     ]
    },
    {
     "name": "stdout",
     "output_type": "stream",
     "text": [
      "Select 342 features\n",
      "First: 0, 0.211231\n",
      "Second: 7, 0.074591\n",
      "Method 1: 14.608397 | 8.900136\n",
      "\n",
      "Baseline: 14.611093 | 8.541384\n",
      "\n",
      "---Iteration 451---\n",
      "\n",
      "[451]\n"
     ]
    },
    {
     "name": "stderr",
     "output_type": "stream",
     "text": [
      "/Users/hundredball/anaconda3/envs/Math24/lib/python3.7/site-packages/sklearn/metrics/_regression.py:582: UndefinedMetricWarning: R^2 score is not well-defined with less than two samples.\n",
      "  warnings.warn(msg, UndefinedMetricWarning)\n",
      "/Users/hundredball/anaconda3/envs/Math24/lib/python3.7/site-packages/sklearn/metrics/_regression.py:582: UndefinedMetricWarning: R^2 score is not well-defined with less than two samples.\n",
      "  warnings.warn(msg, UndefinedMetricWarning)\n"
     ]
    },
    {
     "name": "stdout",
     "output_type": "stream",
     "text": [
      "Select 342 features\n",
      "First: 0, 0.213736\n",
      "Second: 7, 0.076315\n",
      "Method 1: 14.609530 | 8.343894\n",
      "\n",
      "Baseline: 14.611236 | 8.429757\n",
      "\n"
     ]
    },
    {
     "name": "stderr",
     "output_type": "stream",
     "text": [
      "/Users/hundredball/anaconda3/envs/Math24/lib/python3.7/site-packages/sklearn/metrics/_regression.py:582: UndefinedMetricWarning: R^2 score is not well-defined with less than two samples.\n",
      "  warnings.warn(msg, UndefinedMetricWarning)\n",
      "/Users/hundredball/anaconda3/envs/Math24/lib/python3.7/site-packages/sklearn/metrics/_regression.py:582: UndefinedMetricWarning: R^2 score is not well-defined with less than two samples.\n",
      "  warnings.warn(msg, UndefinedMetricWarning)\n"
     ]
    }
   ],
   "source": [
    "num_fold = ERSP_all.shape[0]\n",
    "train_std = np.zeros((num_fold, 3))\n",
    "test_std = np.zeros((num_fold, 3))\n",
    "train_r2 = np.zeros((num_fold, 3))\n",
    "test_r2 = np.zeros((num_fold, 3))\n",
    "train_base = np.zeros(num_fold)\n",
    "test_base = np.zeros(num_fold)\n",
    "train_base_r2 = np.zeros(num_fold)\n",
    "test_base_r2 = np.zeros(num_fold)\n",
    "\n",
    "pred_Y = np.zeros(num_fold)\n",
    "\n",
    "kf = LeaveOneOut()\n",
    "#kf = KFold(n_splits=num_fold)\n",
    "method = 2\n",
    "select = []\n",
    "\n",
    "for i, (train_index, test_index) in enumerate(kf.split(ERSP_all)):\n",
    "    print('---Iteration %d---\\n'%(i))\n",
    "    print(test_index)\n",
    "    \n",
    "    # Standardize data\n",
    "    X_all, Y = preprocessing.standardize(ERSP_all, tmp_all, train_indices=train_index)\n",
    "    \n",
    "    # Select correlated ERSP\n",
    "    X_all, select_indices = preprocessing.select_correlated_ERSP(X_all, Y, threshold_corr=0.75, train_indices=train_index)\n",
    "    select.append(select_indices)\n",
    "    \n",
    "    # Flatten X_all\n",
    "    X_all = X_all.reshape((X_all.shape[0],-1))\n",
    "    \n",
    "    #X_all = preprocessing.bandpower(X_all, freqs, 5, 15)\n",
    "    \n",
    "    # Split data\n",
    "    X_train, X_test = X_all[train_index, :], X_all[test_index, :]\n",
    "    Y_train, Y_test = Y[train_index], Y[test_index]\n",
    "    \n",
    "    if method == 1:\n",
    "        pca = PCA(n_components=0.9)\n",
    "        pca.fit(X_train)\n",
    "        X_train = pca.transform(X_train)\n",
    "        X_test = pca.transform(X_test)\n",
    "    elif method == 2:\n",
    "        # PCA\n",
    "        X_train, X_test = preprocessing.PCA_corr(X_train, Y_train, X_test=X_test)\n",
    "    \n",
    "    # 1. Regression directly\n",
    "    #rgr = svm.SVR()\n",
    "    #rgr = Ridge(alpha=1)\n",
    "    rgr = LinearRegression()\n",
    "    results, train_std[i,0], test_std[i,0], train_r2[i,0], test_r2[i,0], pred_train1, pred_test1 = regression(\\\n",
    "        X_train, Y_train, X_test, Y_test, rgr)\n",
    "    print('Method 1: %f | %f\\n'%(train_std[i,0], test_std[i,0]))\n",
    "    pred_Y[i] = pred_test1\n",
    "    \n",
    "    '''\n",
    "    # 2. Undersampling -> Regression\n",
    "    new_X_train, new_Y_train = sampling.undersampling(X_train, Y_train)\n",
    "    _, train_std[i,1], test_std[i,1], train_r2[i,1], test_r2[i,1], _, _ = regression(\\\n",
    "        new_X_train, new_Y_train, X_test, Y_test, rgr)\n",
    "    print('Method 2: %f | %f\\n'%(train_std[i,1], test_std[i,1]))\n",
    "    \n",
    "    # 3. SMOTE -> Regression\n",
    "    new_X_train, new_Y_train = sampling.SMOTER(X_train, Y_train)\n",
    "    _, train_std[i,2], test_std[i,2], train_r2[i,2], test_r2[i,2], pred_train2, pred_test2 = regression(\\\n",
    "        new_X_train, new_Y_train, X_test, Y_test, rgr)\n",
    "    print('Method 3: %f | %f\\n'%(train_std[i,2], test_std[i,2]))\n",
    "    '''\n",
    "    \n",
    "    train_baseline = np.array([np.mean(Y_train)]*Y_train.shape[0])\n",
    "    test_baseline = np.array([np.mean(Y_train)]*Y_test.shape[0])\n",
    "    print('Baseline: %f | %f\\n'%(standard_error(train_baseline, Y_train), standard_error(test_baseline, Y_test)))\n",
    "    train_base[i] = standard_error(train_baseline, Y_train)\n",
    "    test_base[i] = standard_error(test_baseline, Y_test)\n",
    "    train_base_r2[i] = r2_score(Y_train, train_baseline)\n",
    "    test_base_r2[i] = r2_score(Y_test, test_baseline)\n",
    "    "
   ]
  },
  {
   "cell_type": "code",
   "execution_count": 68,
   "metadata": {},
   "outputs": [
    {
     "data": {
      "image/png": "[encoded data removed]",
      "text/plain": [
       "<Figure size 432x288 with 1 Axes>"
      ]
     },
     "metadata": {
      "needs_background": "light"
     },
     "output_type": "display_data"
    }
   ],
   "source": [
    "pred_Y = np.array(pred_Y).flatten()\n",
    "plot_scatter(tmp_all[:,2], pred_Y)"
   ]
  },
  {
   "cell_type": "code",
   "execution_count": 47,
   "metadata": {},
   "outputs": [
    {
     "name": "stdout",
     "output_type": "stream",
     "text": [
      "Method 1: std (13.360066, 13.250528), r2 (0.157363, -1.372513)\n",
      "Method 2: std (16.100431, 15.278357), r2 (0.186469, -3.988615)\n",
      "Method 3: std (15.199273, 15.317250), r2 (0.215075, -3.786945)\n",
      "Baseline: std (14.552871, 13.030628), r2 (0.000000, -1.766170)\n"
     ]
    },
    {
     "data": {
      "image/png": "[encoded data removed]",
      "text/plain": [
       "<Figure size 432x288 with 1 Axes>"
      ]
     },
     "metadata": {
      "needs_background": "light"
     },
     "output_type": "display_data"
    }
   ],
   "source": [
    "# Plot result\n",
    "iterations = list(range(num_fold))\n",
    "plt.plot(iterations, train_std[:,0], 'r-', iterations, train_std[:,1], 'b--', iterations, train_std[:,2], 'y-')\n",
    "plt.legend(('Method 1', 'Method 2', 'Method 3'))\n",
    "plt.title('Training standard error')\n",
    "\n",
    "for i in range(3):\n",
    "    print('Method %d: std (%f, %f), r2 (%f, %f)'%(i+1, \\\n",
    "        np.mean(train_std[:,i]), np.mean(test_std[:,i]), np.mean(train_r2[:,i]), np.mean(test_r2[:,i])))\n",
    "\n",
    "print('Baseline: std (%f, %f), r2 (%f, %f)'%(np.mean(train_base), np.mean(test_base), np.mean(train_base_r2)\n",
    "                                            , np.mean(test_base_r2)))"
   ]
  },
  {
   "cell_type": "code",
   "execution_count": 48,
   "metadata": {},
   "outputs": [
    {
     "data": {
      "image/png": "[encoded data removed]",
      "text/plain": [
       "<Figure size 432x288 with 1 Axes>"
      ]
     },
     "metadata": {
      "needs_background": "light"
     },
     "output_type": "display_data"
    }
   ],
   "source": [
    "plot_scatter(Y_test, pred_test1)"
   ]
  },
  {
   "cell_type": "code",
   "execution_count": 49,
   "metadata": {},
   "outputs": [
    {
     "data": {
      "image/png": "[encoded data removed]",
      "text/plain": [
       "<Figure size 432x288 with 1 Axes>"
      ]
     },
     "metadata": {
      "needs_background": "light"
     },
     "output_type": "display_data"
    }
   ],
   "source": [
    "plot_scatter(Y_test, pred_test2)"
   ]
  },
  {
   "cell_type": "code",
   "execution_count": 59,
   "metadata": {},
   "outputs": [
    {
     "name": "stdout",
     "output_type": "stream",
     "text": [
      "First: 2, 0.191566\n",
      "Second: 4, 0.175170\n"
     ]
    },
    {
     "data": {
      "image/png": "[encoded data removed]",
      "text/plain": [
       "<Figure size 432x288 with 1 Axes>"
      ]
     },
     "metadata": {
      "needs_background": "light"
     },
     "output_type": "display_data"
    }
   ],
   "source": [
    "X, Y = preprocessing.standardize(ERSP_all, tmp_all)\n",
    "\n",
    "# X, select_indices = preprocessing.select_correlated_ERSP(X, Y, threshold_corr=0.75)\n",
    "X = X.reshape((X.shape[0],-1))\n",
    "\n",
    "X = preprocessing.PCA_corr(X, Y)\n",
    "rgr = LinearRegression()\n",
    "rgr.fit(X, Y)\n",
    "\n",
    "pred_Y = rgr.predict(X)\n",
    "\n",
    "plot_scatter(Y, pred_Y)"
   ]
  },
  {
   "cell_type": "code",
   "execution_count": null,
   "metadata": {},
   "outputs": [],
   "source": [
    "Y = preprocessing.make_target(SLs)\n",
    "X = preprocessing.PCA_corr(ERSP_all, Y)\n",
    "\n",
    "Y = SLs\n",
    "clf = LinearRegression()\n",
    "clf.fit(X, SLs)\n",
    "pred_Y = clf.predict(X)\n",
    "\n",
    "print(standard_error(pred_Y, SLs))\n"
   ]
  },
  {
   "cell_type": "code",
   "execution_count": null,
   "metadata": {},
   "outputs": [],
   "source": [
    "std_list = []\n",
    "r2_list = []\n",
    "for remove_threshold in range(2,80,2):\n",
    "    \n",
    "    X_train, Y_train = preprocessing.remove_trials(ERSP_all, SLs, remove_threshold)\n",
    "    \n",
    "    pca = PCA(n_components=0.9)\n",
    "    pca.fit(X_train)\n",
    "    X_train = pca.transform(X_train)\n",
    "    \n",
    "    rgr = svm.SVR()\n",
    "    rgr.fit(X_train, Y_train)\n",
    "    pred_Y = rgr.predict(X_train)\n",
    "    \n",
    "    error = standard_error(Y_train, pred_Y)\n",
    "    r2 = r2_score(Y_train, pred_Y)\n",
    "    std_list.append(error)\n",
    "    r2_list.append(r2)\n",
    "    print('%d: %f, %f'%(remove_threshold, error, r2))"
   ]
  },
  {
   "cell_type": "code",
   "execution_count": 18,
   "metadata": {},
   "outputs": [
    {
     "data": {
      "text/plain": [
       "(array([ 3., 50., 56., 54., 38., 24., 22., 21., 16., 21., 19.,  7., 11.,\n",
       "        12.,  6.,  9.,  6.,  4.,  6.,  6.,  4.,  1.,  1.,  4.,  2.,  7.,\n",
       "         2.,  0.,  1.,  0.,  1.,  1.,  2.,  3.,  1.,  1.,  0.,  0.,  1.,\n",
       "         0.,  2.,  0.,  1.,  0.,  0.,  2.,  1.,  1.,  1.,  1.,  1.,  1.,\n",
       "         1.,  2.,  0.,  1.,  0.,  1.,  2.,  1.,  1.,  0.,  0.,  0.,  0.,\n",
       "         0.,  0.,  0.,  0.,  0.,  0.,  2.,  0.,  0.,  0.,  0.,  0.,  0.,\n",
       "         0.,  0.,  0.,  1.,  0.,  0.,  1.,  1.,  1.,  0.,  0.,  0.,  0.,\n",
       "         0.,  1.,  0.,  0.,  0.,  0.,  0.,  1.,  1.]),\n",
       " array([ 0.15234375,  1.091875  ,  2.03140625,  2.9709375 ,  3.91046875,\n",
       "         4.85      ,  5.78953125,  6.7290625 ,  7.66859375,  8.608125  ,\n",
       "         9.54765625, 10.4871875 , 11.42671875, 12.36625   , 13.30578125,\n",
       "        14.2453125 , 15.18484375, 16.124375  , 17.06390625, 18.0034375 ,\n",
       "        18.94296875, 19.8825    , 20.82203125, 21.7615625 , 22.70109375,\n",
       "        23.640625  , 24.58015625, 25.5196875 , 26.45921875, 27.39875   ,\n",
       "        28.33828125, 29.2778125 , 30.21734375, 31.156875  , 32.09640625,\n",
       "        33.0359375 , 33.97546875, 34.915     , 35.85453125, 36.7940625 ,\n",
       "        37.73359375, 38.673125  , 39.61265625, 40.5521875 , 41.49171875,\n",
       "        42.43125   , 43.37078125, 44.3103125 , 45.24984375, 46.189375  ,\n",
       "        47.12890625, 48.0684375 , 49.00796875, 49.9475    , 50.88703125,\n",
       "        51.8265625 , 52.76609375, 53.705625  , 54.64515625, 55.5846875 ,\n",
       "        56.52421875, 57.46375   , 58.40328125, 59.3428125 , 60.28234375,\n",
       "        61.221875  , 62.16140625, 63.1009375 , 64.04046875, 64.98      ,\n",
       "        65.91953125, 66.8590625 , 67.79859375, 68.738125  , 69.67765625,\n",
       "        70.6171875 , 71.55671875, 72.49625   , 73.43578125, 74.3753125 ,\n",
       "        75.31484375, 76.254375  , 77.19390625, 78.1334375 , 79.07296875,\n",
       "        80.0125    , 80.95203125, 81.8915625 , 82.83109375, 83.770625  ,\n",
       "        84.71015625, 85.6496875 , 86.58921875, 87.52875   , 88.46828125,\n",
       "        89.4078125 , 90.34734375, 91.286875  , 92.22640625, 93.1659375 ,\n",
       "        94.10546875]),\n",
       " <a list of 100 Patch objects>)"
      ]
     },
     "execution_count": 18,
     "metadata": {},
     "output_type": "execute_result"
    },
    {
     "data": {
      "image/png": "[encoded data removed]",
      "text/plain": [
       "<Figure size 432x288 with 1 Axes>"
      ]
     },
     "metadata": {
      "needs_background": "light"
     },
     "output_type": "display_data"
    }
   ],
   "source": [
    "plt.hist(SLs, bins=100)"
   ]
  },
  {
   "cell_type": "code",
   "execution_count": null,
   "metadata": {},
   "outputs": [],
   "source": []
  }
 ],
 "metadata": {
  "kernelspec": {
   "display_name": "Python 3",
   "language": "python",
   "name": "python3"
  },
  "language_info": {
   "codemirror_mode": {
    "name": "ipython",
    "version": 3
   },
   "file_extension": ".py",
   "mimetype": "text/x-python",
   "name": "python",
   "nbconvert_exporter": "python",
   "pygments_lexer": "ipython3",
   "version": "3.7.6"
  }
 },
 "nbformat": 4,
 "nbformat_minor": 4
}
