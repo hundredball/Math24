{
 "cells": [
  {
   "cell_type": "code",
   "execution_count": 34,
   "metadata": {},
   "outputs": [],
   "source": [
    "import numpy as np\n",
    "import pandas as pd\n",
    "import matplotlib.pyplot as plt\n",
    "from sklearn.discriminant_analysis import LinearDiscriminantAnalysis as LDA\n",
    "from sklearn.model_selection import train_test_split\n",
    "from sklearn.decomposition import PCA\n",
    "from sklearn.model_selection import LeaveOneOut, KFold\n",
    "from sklearn.linear_model import LinearRegression, Ridge, Lasso\n",
    "from sklearn.cross_decomposition import PLSRegression\n",
    "from sklearn.ensemble import RandomForestRegressor\n",
    "from sklearn import svm\n",
    "from sklearn.metrics import mean_squared_error\n",
    "from sklearn.metrics import r2_score\n",
    "\n",
    "from scipy.optimize import curve_fit\n",
    "from scipy import stats\n",
    "\n",
    "import dataloader\n",
    "import preprocessing\n",
    "import sampling\n"
   ]
  },
  {
   "cell_type": "markdown",
   "metadata": {},
   "source": [
    "# Load data"
   ]
  },
  {
   "cell_type": "code",
   "execution_count": 63,
   "metadata": {},
   "outputs": [
    {
     "name": "stdout",
     "output_type": "stream",
     "text": [
      "Shape of ERSP_all:  (452, 12, 114, 200)\n",
      "Shape of tmp_all:  (452, 3)\n",
      "Shape of freqs:  (114,)\n"
     ]
    }
   ],
   "source": [
    "ERSP_all, tmp_all, freqs = dataloader.load_data()"
   ]
  },
  {
   "cell_type": "markdown",
   "metadata": {},
   "source": [
    "# Data preprocessing"
   ]
  },
  {
   "cell_type": "code",
   "execution_count": 64,
   "metadata": {},
   "outputs": [],
   "source": [
    "#ERSP_all, tmp_all = preprocessing.remove_trials(ERSP_all, tmp_all, 25)\n",
    "ERSP_all, SLs = preprocessing.standardize(ERSP_all, tmp_all)"
   ]
  },
  {
   "cell_type": "markdown",
   "metadata": {},
   "source": [
    "## Remain original ERSP"
   ]
  },
  {
   "cell_type": "code",
   "execution_count": 65,
   "metadata": {},
   "outputs": [
    {
     "name": "stdout",
     "output_type": "stream",
     "text": [
      "Shape of ERSP_all:  (452, 12)\n"
     ]
    }
   ],
   "source": [
    "num_epoch = ERSP_all.shape[0]\n",
    "method = 3 # 1,2,3\n",
    "\n",
    "if method != 3:\n",
    "    # Concatenate over channels (PCA -> LDA)\n",
    "    ERSP_all = ERSP_all.reshape((num_epoch, -1))\n",
    "    print('Shape of ERSP_all: ', ERSP_all.shape)\n",
    "    \n",
    "else:\n",
    "    '''\n",
    "    # Concatenate over channels (PCA -> LDA)\n",
    "    ERSP_all = ERSP_all.reshape((num_epoch, -1))\n",
    "    print('Shape of ERSP_all: ', ERSP_all.shape)\n",
    "    '''\n",
    "    '''\n",
    "    # Average power over channels (LDA directly)\n",
    "    ERSP_all = np.mean(ERSP_all, axis=2)\n",
    "    print('Shape of ERSP_all: ', ERSP_all.shape)\n",
    "    '''\n",
    "    ERSP_all = preprocessing.bandpower(ERSP_all, freqs, 5, 15)\n",
    "    print('Shape of ERSP_all: ', ERSP_all.shape)\n",
    "    "
   ]
  },
  {
   "cell_type": "markdown",
   "metadata": {},
   "source": [
    "## Trim mean"
   ]
  },
  {
   "cell_type": "code",
   "execution_count": 4,
   "metadata": {},
   "outputs": [],
   "source": [
    "ERSP_all, new_SLs = preprocessing.trimMean(ERSP_all, SLs, freqs)\n",
    "Y = preprocessing.make_target(new_SLs)\n",
    "\n",
    "method = 3"
   ]
  },
  {
   "cell_type": "markdown",
   "metadata": {},
   "source": [
    "## Bandpower"
   ]
  },
  {
   "cell_type": "code",
   "execution_count": 4,
   "metadata": {},
   "outputs": [
    {
     "name": "stdout",
     "output_type": "stream",
     "text": [
      "25.554513197351692\n"
     ]
    }
   ],
   "source": [
    "ERSP_1 = preprocessing.bandpower(ERSP_all, freqs, 5, 10)\n",
    "ERSP_2 = preprocessing.bandpower(ERSP_all, freqs, 10, 15)\n",
    "ERSP_all = np.concatenate((ERSP_1, ERSP_2), axis=1)\n",
    "\n",
    "threshold = np.mean(SLs)+np.std(SLs)\n",
    "print(threshold)\n",
    "Y = preprocessing.make_target(SLs, threshold)\n",
    "\n",
    "method = 3"
   ]
  },
  {
   "cell_type": "markdown",
   "metadata": {},
   "source": [
    "# Holdout Method"
   ]
  },
  {
   "cell_type": "markdown",
   "metadata": {},
   "source": [
    "## Split data"
   ]
  },
  {
   "cell_type": "code",
   "execution_count": 5,
   "metadata": {},
   "outputs": [
    {
     "name": "stdout",
     "output_type": "stream",
     "text": [
      "X_train shape :  (406, 1368)\n",
      "X_test shape :  (46, 1368)\n"
     ]
    }
   ],
   "source": [
    "# Split for training and testing data\n",
    "X_train, X_test, Y_train, Y_test = train_test_split(ERSP_all, Y, test_size=0.1, random_state=42)\n",
    "print('X_train shape : ', X_train.shape)\n",
    "print('X_test shape : ', X_test.shape)"
   ]
  },
  {
   "cell_type": "markdown",
   "metadata": {},
   "source": [
    "## PCA (1) Largest eigenvalues"
   ]
  },
  {
   "cell_type": "code",
   "execution_count": 5,
   "metadata": {},
   "outputs": [
    {
     "ename": "NameError",
     "evalue": "name 'X_train' is not defined",
     "output_type": "error",
     "traceback": [
      "\u001b[0;31m---------------------------------------------------------------------------\u001b[0m",
      "\u001b[0;31mNameError\u001b[0m                                 Traceback (most recent call last)",
      "\u001b[0;32m<ipython-input-5-17071db1c6e5>\u001b[0m in \u001b[0;36m<module>\u001b[0;34m\u001b[0m\n\u001b[1;32m      1\u001b[0m \u001b[0;31m# Apply PCA to training data and testing data\u001b[0m\u001b[0;34m\u001b[0m\u001b[0;34m\u001b[0m\u001b[0;34m\u001b[0m\u001b[0m\n\u001b[1;32m      2\u001b[0m \u001b[0mpca\u001b[0m \u001b[0;34m=\u001b[0m \u001b[0mPCA\u001b[0m\u001b[0;34m(\u001b[0m\u001b[0mn_components\u001b[0m\u001b[0;34m=\u001b[0m\u001b[0;36m2\u001b[0m\u001b[0;34m)\u001b[0m\u001b[0;34m\u001b[0m\u001b[0;34m\u001b[0m\u001b[0m\n\u001b[0;32m----> 3\u001b[0;31m \u001b[0mpca\u001b[0m\u001b[0;34m.\u001b[0m\u001b[0mfit\u001b[0m\u001b[0;34m(\u001b[0m\u001b[0mX_train\u001b[0m\u001b[0;34m)\u001b[0m\u001b[0;34m\u001b[0m\u001b[0;34m\u001b[0m\u001b[0m\n\u001b[0m\u001b[1;32m      4\u001b[0m \u001b[0;34m\u001b[0m\u001b[0m\n\u001b[1;32m      5\u001b[0m \u001b[0mX_train\u001b[0m \u001b[0;34m=\u001b[0m \u001b[0mpca\u001b[0m\u001b[0;34m.\u001b[0m\u001b[0mtransform\u001b[0m\u001b[0;34m(\u001b[0m\u001b[0mX_train\u001b[0m\u001b[0;34m)\u001b[0m\u001b[0;34m\u001b[0m\u001b[0;34m\u001b[0m\u001b[0m\n",
      "\u001b[0;31mNameError\u001b[0m: name 'X_train' is not defined"
     ]
    }
   ],
   "source": [
    "# Apply PCA to training data and testing data\n",
    "pca = PCA(n_components=2)\n",
    "pca.fit(X_train)\n",
    "\n",
    "X_train = pca.transform(X_train)\n",
    "X_test = pca.transform(X_test)\n",
    "\n",
    "print('X_train shape : ', X_train.shape)\n",
    "print('X_test shape : ', X_test.shape)"
   ]
  },
  {
   "cell_type": "markdown",
   "metadata": {},
   "source": [
    "## PCA (2) Most correlated"
   ]
  },
  {
   "cell_type": "code",
   "execution_count": 5,
   "metadata": {},
   "outputs": [],
   "source": [
    "def PCA_corr(X_train, X_test, Y_train):\n",
    "    # PCA fit\n",
    "    num_train = X_train.shape[0]\n",
    "    mean_X = 1/num_train * np.dot(X_train.T, np.ones((num_train,1))).T\n",
    "    cen_X_train = X_train - mean_X\n",
    "    cov_X_train = 1/num_train * np.dot(cen_X_train.T, cen_X_train)\n",
    "    w, v = np.linalg.eig(cov_X_train)\n",
    "\n",
    "    # Sort the eigenvalues and eigenvectors in decreasing order\n",
    "    sorted_indices = np.argsort(w)[::-1]\n",
    "    sorted_v = v[:, sorted_indices]\n",
    "    sorted_w = np.sort(w)[::-1]\n",
    "\n",
    "    # Retain PCs with 80% eigenvalues\n",
    "    ratios = np.add.accumulate(sorted_w.real)/np.sum(sorted_w.real)\n",
    "    num_PCs = np.sum(ratios<=0.8)\n",
    "    PCs = sorted_v[:, :num_PCs]\n",
    "\n",
    "    # PCA predict\n",
    "    X_train = np.dot(cen_X_train, PCs)\n",
    "\n",
    "    # Find two PCs correlated most strongly with SLs\n",
    "    corr_coef = np.zeros(num_PCs)\n",
    "    for i in range(num_PCs):\n",
    "        corr_coef[i] = abs(np.corrcoef(X_train[:,i], Y_train[:,1])[0,1])\n",
    "\n",
    "    #print(corr_coef)\n",
    "    max_1_index = np.argmax(corr_coef)\n",
    "    #print('Max: ', max_1_index)\n",
    "    corr_coef[max_1_index] = 0\n",
    "    max_2_index = np.argmax(corr_coef)\n",
    "    #print('Second: ', max_2_index)\n",
    "    PC_2 = sorted_v[:, [max_1_index, max_2_index]]\n",
    "\n",
    "\n",
    "    # PCA predict\n",
    "    X_train = abs(np.dot(cen_X_train, PC_2))\n",
    "    X_test = abs(np.dot(X_test-mean_X, PC_2))\n",
    "\n",
    "    #print('X_train shape : ', X_train.shape)\n",
    "    #print('X_test shape : ', X_test.shape)\n",
    "    \n",
    "    return X_train, X_test"
   ]
  },
  {
   "cell_type": "code",
   "execution_count": 7,
   "metadata": {},
   "outputs": [
    {
     "name": "stdout",
     "output_type": "stream",
     "text": [
      "[0.10016149 0.13321825 0.19431854 0.1501953  0.1506912  0.05088907\n",
      " 0.14942456 0.12343108 0.06527064 0.0030398  0.02589858 0.06059784\n",
      " 0.06922075 0.04778581 0.0834417  0.08851105 0.09370633 0.03329117\n",
      " 0.08084067 0.00824471 0.00701375 0.09780048 0.05044458 0.0233989 ]\n",
      "Max:  2\n",
      "Second:  4\n"
     ]
    }
   ],
   "source": [
    "X_train, X_test = PCA_corr(X_train, X_test, Y_train)"
   ]
  },
  {
   "cell_type": "code",
   "execution_count": 8,
   "metadata": {},
   "outputs": [],
   "source": [
    "# Sort SLs in increasing order\n",
    "sorted_indices = np.argsort(Y_train[:,1])\n",
    "sorted_x = X_train[sorted_indices, :]\n",
    "sorted_y = Y_train[sorted_indices, :]\n",
    "\n",
    "# Curve fitting\n",
    "def func(X, a, b, c):\n",
    "    x1, x2 = X\n",
    "    return a + b*x1 + c*x2\n",
    "\n",
    "xdata = (sorted_x[:,0], sorted_x[:,1])\n",
    "ydata = sorted_y[:,1]\n",
    "popt, pcov = curve_fit(func, xdata, ydata)"
   ]
  },
  {
   "cell_type": "code",
   "execution_count": 9,
   "metadata": {},
   "outputs": [
    {
     "data": {
      "text/plain": [
       "Text(0.5, 1.0, 'r = 0.043601')"
      ]
     },
     "execution_count": 9,
     "metadata": {},
     "output_type": "execute_result"
    },
    {
     "data": {
      "image/png": "[encoded data removed]",
      "text/plain": [
       "<Figure size 432x288 with 1 Axes>"
      ]
     },
     "metadata": {
      "needs_background": "light"
     },
     "output_type": "display_data"
    }
   ],
   "source": [
    "# Plot them\n",
    "y_reg = func(xdata, popt[0], popt[1], popt[2])\n",
    "plt.scatter(ydata, y_reg, marker = '.')\n",
    "\n",
    "slope, intercept, r_value, p_value, std_err = stats.linregress(ydata, y_reg)\n",
    "y_range = np.linspace(np.min(ydata), np.max(ydata), 100)\n",
    "plt.plot(y_range, slope*y_range+intercept, 'r-')\n",
    "\n",
    "plt.xlabel('SL (s)')\n",
    "plt.ylabel('%.2f + %.2f*PC1 + %.2f*PC2'%(popt[0],popt[1],popt[2]))\n",
    "plt.title('r = %f'%(np.corrcoef(y_reg, ydata)[0,1]))\n"
   ]
  },
  {
   "cell_type": "markdown",
   "metadata": {},
   "source": [
    "# Leave-one-out cross validation"
   ]
  },
  {
   "cell_type": "code",
   "execution_count": 5,
   "metadata": {},
   "outputs": [
    {
     "name": "stdout",
     "output_type": "stream",
     "text": [
      "Threshold 1: 99.557522\n",
      "Threshold 2: 88.716814\n",
      "Threshold 3: 75.663717\n",
      "Threshold 4: 64.823009\n",
      "Threshold 5: 62.168142\n",
      "Threshold 6: 66.150442\n",
      "Threshold 7: 70.796460\n",
      "Threshold 8: 70.796460\n",
      "Threshold 9: 71.902655\n",
      "Threshold 10: 73.672566\n",
      "Threshold 11: 76.327434\n",
      "Threshold 12: 76.106195\n",
      "Threshold 13: 77.876106\n",
      "Threshold 14: 77.876106\n",
      "Threshold 15: 80.973451\n",
      "Threshold 16: 82.964602\n",
      "Threshold 17: 83.849558\n",
      "Threshold 18: 85.176991\n",
      "Threshold 19: 86.504425\n",
      "Threshold 20: 87.389381\n",
      "Threshold 21: 87.610619\n",
      "Threshold 22: 88.053097\n",
      "Threshold 23: 88.938053\n",
      "Threshold 24: 89.601770\n",
      "Threshold 25: 90.929204\n",
      "Threshold 26: 91.150442\n",
      "Threshold 27: 91.371681\n",
      "Threshold 28: 91.371681\n",
      "Threshold 29: 91.592920\n",
      "Threshold 30: 91.592920\n",
      "Threshold 31: 92.256637\n",
      "Threshold 32: 92.699115\n",
      "Threshold 33: 93.141593\n",
      "Threshold 34: 93.362832\n",
      "Threshold 35: 93.362832\n",
      "Threshold 36: 93.362832\n",
      "Threshold 37: 93.584071\n",
      "Threshold 38: 94.026549\n",
      "Threshold 39: 94.026549\n",
      "Threshold 40: 94.026549\n",
      "Threshold 41: 94.247788\n",
      "Threshold 42: 94.247788\n",
      "Threshold 43: 94.690265\n",
      "Threshold 44: 94.690265\n",
      "Threshold 45: 94.911504\n",
      "Threshold 46: 95.353982\n",
      "Threshold 47: 95.575221\n",
      "Threshold 48: 95.796460\n",
      "Threshold 49: 96.017699\n"
     ]
    }
   ],
   "source": [
    "X_all = ERSP_all\n",
    "\n",
    "test_acc_SL = []\n",
    "thresholds = list(range(1,50))\n",
    "\n",
    "for threshold in thresholds:\n",
    "    Y = preprocessing.make_target(SLs, float(threshold))\n",
    "    \n",
    "    train_acc_list = []\n",
    "    test_acc_list = []\n",
    "    loo = LeaveOneOut()\n",
    "    for i, (train_index, test_index) in enumerate(loo.split(X_all)):\n",
    "\n",
    "        # No trim mean\n",
    "        # Split data\n",
    "        X_train, X_test = X_all[train_index, :], X_all[test_index, :]\n",
    "        Y_train, Y_test = Y[train_index, :], Y[test_index, :]\n",
    "\n",
    "        if method == 1:\n",
    "            pca = PCA(n_components=2)\n",
    "            pca.fit(X_train)\n",
    "            X_train = pca.transform(X_train)\n",
    "            X_test = pca.transform(X_test)\n",
    "        elif method == 2:\n",
    "            # PCA\n",
    "            X_train, X_test = PCA_corr(X_train, X_test, Y_train)\n",
    "\n",
    "        # Decompose Y\n",
    "        Y_train = Y_train[:,0]\n",
    "        Y_test = Y_test[:,0]\n",
    "\n",
    "        '''\n",
    "        # Trim mean after removing the validation data\n",
    "        # Split data\n",
    "        X_train, X_test = X_all[train_index], X_all[test_index]\n",
    "        X_train, new_SLs = trimMean(X_train, SLs[train_index], freqs)\n",
    "        X_test = bandpower(X_test, freqs, 10, 15)\n",
    "\n",
    "        # Let mean of SLs be the threshold\n",
    "        threshold = np.mean(new_SLs) \n",
    "        Y_train = np.asarray(new_SLs >= threshold, float)\n",
    "        Y_test = np.asarray(SLs[test_index] >= threshold, float)\n",
    "        '''\n",
    "\n",
    "        '''\n",
    "        # Trim mean before removing the validation data\n",
    "        # Split data\n",
    "        X_train, X_test = X_all[train_index], X_all[test_index]\n",
    "        Y_train, Y_test = Y[train_index, :], Y[test_index, :]\n",
    "\n",
    "        # Decompose Y\n",
    "        Y_train = Y_train[:,0]\n",
    "        Y_test = Y_test[:,0]\n",
    "        '''\n",
    "\n",
    "        # LDA\n",
    "        clf = svm.SVC()\n",
    "        clf.fit(X_train, Y_train)\n",
    "\n",
    "        num_train = len(Y_train)\n",
    "        pred_train = clf.predict(X_train)\n",
    "        train_acc = np.sum(pred_train == Y_train)/num_train*100\n",
    "        #print('Training Accuracy : %f'%(train_acc))\n",
    "        train_acc_list.append(train_acc)\n",
    "\n",
    "        num_test = len(Y_test)\n",
    "        pred_test = clf.predict(X_test)\n",
    "        test_acc = np.sum(pred_test == Y_test)*100\n",
    "        #print('Testing Accuracy : %f'%(test_acc))\n",
    "        test_acc_list.append(test_acc)\n",
    "\n",
    "        # print('Iteration %d: (%f, %f)'%(i, train_acc, test_acc))\n",
    "        \n",
    "    print('Threshold %d: %f'%(threshold, sum(test_acc_list)/len(test_acc_list)))\n",
    "    test_acc_SL.append(sum(test_acc_list)/len(test_acc_list))\n",
    "    "
   ]
  },
  {
   "cell_type": "code",
   "execution_count": 6,
   "metadata": {},
   "outputs": [
    {
     "name": "stdout",
     "output_type": "stream",
     "text": [
      "False trials, Min: 26.693359, Max: 94.105469\n",
      "True trials, Min: 0.152344, Max: 25.238281\n"
     ]
    }
   ],
   "source": [
    "test_acc_array = np.asarray(test_acc_list)\n",
    "false_trials = SLs[np.where(test_acc_array==0)[0]]\n",
    "true_trials = SLs[np.where(test_acc_array==100)[0]]\n",
    "print('False trials, Min: %f, Max: %f'%(np.min(false_trials), np.max(false_trials)))\n",
    "print('True trials, Min: %f, Max: %f'%(np.min(true_trials), np.max(true_trials)))"
   ]
  },
  {
   "cell_type": "code",
   "execution_count": 6,
   "metadata": {},
   "outputs": [
    {
     "name": "stdout",
     "output_type": "stream",
     "text": [
      "Training accuracy: 91.150442\n",
      "Testing accuracy: 91.150442\n"
     ]
    }
   ],
   "source": [
    "print('Training accuracy: %f'%(sum(train_acc_list)/len(train_acc_list)))\n",
    "print('Testing accuracy: %f'%(sum(test_acc_list)/len(test_acc_list)))"
   ]
  },
  {
   "cell_type": "code",
   "execution_count": 9,
   "metadata": {},
   "outputs": [
    {
     "data": {
      "text/plain": [
       "Text(0, 0.5, 'Accuracy (%)')"
      ]
     },
     "execution_count": 9,
     "metadata": {},
     "output_type": "execute_result"
    },
    {
     "data": {
      "image/png": "[encoded data removed]",
      "text/plain": [
       "<Figure size 432x288 with 1 Axes>"
      ]
     },
     "metadata": {
      "needs_background": "light"
     },
     "output_type": "display_data"
    }
   ],
   "source": [
    "plt.plot(thresholds, test_acc_SL)\n",
    "plt.xlabel('Threshold (s)')\n",
    "plt.ylabel('Accuracy (%)')"
   ]
  },
  {
   "cell_type": "code",
   "execution_count": 6,
   "metadata": {},
   "outputs": [],
   "source": [
    "ratios = []\n",
    "for threshold in thresholds:\n",
    "    ratio = max(np.sum(SLs<=threshold), np.sum(SLs>threshold))/len(SLs)\n",
    "    ratios.append(ratio*100)"
   ]
  },
  {
   "cell_type": "code",
   "execution_count": 7,
   "metadata": {},
   "outputs": [
    {
     "data": {
      "text/plain": [
       "<matplotlib.legend.Legend at 0x7ffbfd424050>"
      ]
     },
     "execution_count": 7,
     "metadata": {},
     "output_type": "execute_result"
    },
    {
     "data": {
      "image/png": "[encoded data removed]",
      "text/plain": [
       "<Figure size 432x288 with 1 Axes>"
      ]
     },
     "metadata": {
      "needs_background": "light"
     },
     "output_type": "display_data"
    }
   ],
   "source": [
    "plt.plot(thresholds, test_acc_SL, 'b-', thresholds, ratios, 'r--')\n",
    "plt.xlabel('Threshold (sec)')\n",
    "plt.ylabel('(%)')\n",
    "plt.legend(('Accuracy', 'Ratio'))"
   ]
  },
  {
   "cell_type": "markdown",
   "metadata": {},
   "source": [
    "# Regression"
   ]
  },
  {
   "cell_type": "code",
   "execution_count": 66,
   "metadata": {},
   "outputs": [],
   "source": [
    "def standard_error(pred, target):\n",
    "    \n",
    "    assert pred.shape[0] == target.shape[0]\n",
    "    \n",
    "    return (np.sum( np.power(pred-target,2) )/len(pred))**0.5\n",
    "\n",
    "def plot_scatter(true, pred):\n",
    "\n",
    "    max_value = np.max(np.hstack((true, pred)))\n",
    "    plt.scatter(true, pred, marker='.')\n",
    "    axes = plt.gca()\n",
    "    axes.set_xlim([0, max_value])\n",
    "    axes.set_ylim([0, max_value])\n",
    "    plt.xlabel('True')\n",
    "    plt.ylabel('Pred')\n",
    "    \n",
    "def regression(X_train, Y_train, X_test, Y_test, regressor):\n",
    "    \n",
    "    regressor.fit(X_train,Y_train)\n",
    "    pred_train = regressor.predict(X_train)\n",
    "    pred_test = regressor.predict(X_test)\n",
    "    \n",
    "    train_std = mean_squared_error(Y_train, pred_train)**0.5\n",
    "    test_std = mean_squared_error(Y_test, pred_test)**0.5\n",
    "    train_r2 = r2_score(Y_train, pred_train)\n",
    "    test_r2 = r2_score(Y_test, pred_test)\n",
    "    \n",
    "    return train_std, test_std, train_r2, test_r2, pred_train, pred_test"
   ]
  },
  {
   "cell_type": "code",
   "execution_count": 59,
   "metadata": {},
   "outputs": [
    {
     "name": "stdout",
     "output_type": "stream",
     "text": [
      "---Iteration 0---\n",
      "\n",
      "Method 1: 14.537491 | 15.406767\n",
      "\n",
      "Undersampling threshold : 10.732379\n",
      "> After undersampling: (110,110)\n",
      "Method 2: 17.211564 | 14.043017\n",
      "\n",
      "SMOTER threshold : 10.732379\n",
      "> After SMOTER: (330,296)\n",
      "Method 3: 15.290081 | 14.117562\n",
      "\n",
      "---Iteration 1---\n",
      "\n",
      "Method 1: 15.214784 | 2.949936\n",
      "\n",
      "Undersampling threshold : 11.714978\n",
      "> After undersampling: (114,114)\n",
      "Method 2: 18.195804 | 4.875376\n",
      "\n",
      "SMOTER threshold : 11.714978\n",
      "> After SMOTER: (342,292)\n",
      "Method 3: 16.517682 | 4.437023\n",
      "\n",
      "---Iteration 2---\n",
      "\n",
      "Method 1: 15.142049 | 2.637612\n",
      "\n",
      "Undersampling threshold : 11.733338\n",
      "> After undersampling: (115,115)\n",
      "Method 2: 17.670492 | 4.039452\n",
      "\n",
      "SMOTER threshold : 11.733338\n",
      "> After SMOTER: (345,292)\n",
      "Method 3: 15.241509 | 4.238260\n",
      "\n",
      "---Iteration 3---\n",
      "\n",
      "Method 1: 14.967266 | 4.954686\n",
      "\n",
      "Undersampling threshold : 11.587180\n",
      "> After undersampling: (113,113)\n",
      "Method 2: 17.807423 | 8.911909\n",
      "\n",
      "SMOTER threshold : 11.587180\n",
      "> After SMOTER: (339,294)\n",
      "Method 3: 16.800269 | 8.371464\n",
      "\n",
      "---Iteration 4---\n",
      "\n",
      "Method 1: 12.741571 | 26.708588\n",
      "\n",
      "Undersampling threshold : 9.922772\n",
      "> After undersampling: (111,111)\n",
      "Method 2: 15.425617 | 25.086159\n",
      "\n",
      "SMOTER threshold : 9.922772\n",
      "> After SMOTER: (333,296)\n",
      "Method 3: 14.166108 | 24.470018\n",
      "\n",
      "---Iteration 5---\n",
      "\n",
      "Method 1: 14.667824 | 7.869002\n",
      "\n",
      "Undersampling threshold : 11.194007\n",
      "> After undersampling: (108,108)\n",
      "Method 2: 18.438499 | 8.832295\n",
      "\n",
      "SMOTER threshold : 11.194007\n",
      "> After SMOTER: (324,299)\n",
      "Method 3: 16.500296 | 9.598113\n",
      "\n",
      "---Iteration 6---\n",
      "\n",
      "Method 1: 14.999653 | 7.591800\n",
      "\n",
      "Undersampling threshold : 11.227143\n",
      "> After undersampling: (110,110)\n",
      "Method 2: 18.458773 | 8.571969\n",
      "\n",
      "SMOTER threshold : 11.227143\n",
      "> After SMOTER: (330,297)\n",
      "Method 3: 15.659123 | 8.558785\n",
      "\n",
      "---Iteration 7---\n",
      "\n",
      "Method 1: 15.208191 | 4.500950\n",
      "\n",
      "Undersampling threshold : 11.376910\n",
      "> After undersampling: (113,113)\n",
      "Method 2: 18.009600 | 6.912914\n",
      "\n",
      "SMOTER threshold : 11.376910\n",
      "> After SMOTER: (339,294)\n",
      "Method 3: 16.015949 | 4.192925\n",
      "\n",
      "---Iteration 8---\n",
      "\n",
      "Method 1: 13.821196 | 19.843940\n",
      "\n",
      "Undersampling threshold : 10.556353\n",
      "> After undersampling: (115,115)\n",
      "Method 2: 16.293961 | 18.299228\n",
      "\n",
      "SMOTER threshold : 10.556353\n",
      "> After SMOTER: (345,292)\n",
      "Method 3: 15.180753 | 17.804390\n",
      "\n",
      "---Iteration 9---\n",
      "\n",
      "Method 1: 12.538854 | 27.128315\n",
      "\n",
      "Undersampling threshold : 9.497020\n",
      "> After undersampling: (120,120)\n",
      "Method 2: 14.983313 | 25.390968\n",
      "\n",
      "SMOTER threshold : 9.497020\n",
      "> After SMOTER: (360,287)\n",
      "Method 3: 12.844140 | 24.297951\n",
      "\n"
     ]
    }
   ],
   "source": [
    "num_fold = 10\n",
    "train_std = np.zeros((num_fold, 3))\n",
    "test_std = np.zeros((num_fold, 3))\n",
    "train_r2 = np.zeros((num_fold, 3))\n",
    "test_r2 = np.zeros((num_fold, 3))\n",
    "kf = KFold(n_splits=num_fold)\n",
    "\n",
    "X_all = ERSP_all\n",
    "Y = preprocessing.make_target(SLs)\n",
    "for i, (train_index, test_index) in enumerate(kf.split(X_all)):\n",
    "    print('---Iteration %d---\\n'%(i))\n",
    "    \n",
    "    # Split data\n",
    "    X_train, X_test = X_all[train_index], X_all[test_index]\n",
    "    Y_train, Y_test = Y[train_index, :], Y[test_index, :]\n",
    "    \n",
    "    if method == 1:\n",
    "        pca = PCA(n_components=0.9)\n",
    "        pca.fit(X_train)\n",
    "        X_train = pca.transform(X_train)\n",
    "        X_test = pca.transform(X_test)\n",
    "    elif method == 2:\n",
    "        # PCA\n",
    "        X_train, X_test = PCA_corr(X_train, X_test, Y_train)\n",
    "    \n",
    "    # Decompose Y\n",
    "    Y_train_cla, Y_train_reg = Y_train[:,0], Y_train[:,1]\n",
    "    Y_test_cla, Y_test_reg = Y_test[:,0], Y_test[:,1]\n",
    "    \n",
    "    # 1. Regression directly\n",
    "    #rgr = svm.SVR()\n",
    "    #rgr = Ridge(alpha=1)\n",
    "    #rgr = LinearRegression()\n",
    "    train_std[i,0], test_std[i,0], train_r2[i,0], test_r2[i,0], pred_train1, pred_test1 = regression(\\\n",
    "        X_train, Y_train_reg, X_test, Y_test_reg, rgr)\n",
    "    print('Method 1: %f | %f\\n'%(train_std[i,0], test_std[i,0]))\n",
    "    \n",
    "    # 2. Undersampling -> Regression\n",
    "    \n",
    "    new_X_train, new_Y_train_reg = sampling.undersampling(X_train, Y_train_reg)\n",
    "    train_std[i,1], test_std[i,1], train_r2[i,1], test_r2[i,1], _, _ = regression(\\\n",
    "        new_X_train, new_Y_train_reg, X_test, Y_test_reg, rgr)\n",
    "    print('Method 2: %f | %f\\n'%(train_std[i,1], test_std[i,1]))\n",
    "    \n",
    "    # 3. SMOTE -> Regression\n",
    "    #rgr = svm.SVR()\n",
    "    new_X_train, new_Y_train_reg = sampling.SMOTER(X_train, Y_train_reg)\n",
    "    train_std[i,2], test_std[i,2], train_r2[i,2], test_r2[i,2], pred_train2, pred_test2 = regression(\\\n",
    "        new_X_train, new_Y_train_reg, X_test, Y_test_reg, rgr)\n",
    "    print('Method 3: %f | %f\\n'%(train_std[i,2], test_std[i,2]))\n",
    "    "
   ]
  },
  {
   "cell_type": "code",
   "execution_count": 60,
   "metadata": {},
   "outputs": [
    {
     "data": {
      "image/png": "[encoded data removed]",
      "text/plain": [
       "<Figure size 432x288 with 1 Axes>"
      ]
     },
     "metadata": {
      "needs_background": "light"
     },
     "output_type": "display_data"
    }
   ],
   "source": [
    "plot_scatter(Y_test_reg, pred_test1)"
   ]
  },
  {
   "cell_type": "code",
   "execution_count": 61,
   "metadata": {},
   "outputs": [
    {
     "data": {
      "image/png": "[encoded data removed]",
      "text/plain": [
       "<Figure size 432x288 with 1 Axes>"
      ]
     },
     "metadata": {
      "needs_background": "light"
     },
     "output_type": "display_data"
    }
   ],
   "source": [
    "plot_scatter(Y_test_reg, pred_test2)"
   ]
  },
  {
   "cell_type": "code",
   "execution_count": 62,
   "metadata": {},
   "outputs": [
    {
     "name": "stdout",
     "output_type": "stream",
     "text": [
      "Method 1: std (14.383888, 11.959160), r2 (0.023241, -0.163169)\n",
      "Method 2: std (17.249505, 12.496329), r2 (0.066162, -0.856270)\n",
      "Method 3: std (15.421591, 12.008649), r2 (0.176553, -0.635332)\n"
     ]
    },
    {
     "data": {
      "image/png": "[encoded data removed]",
      "text/plain": [
       "<Figure size 432x288 with 1 Axes>"
      ]
     },
     "metadata": {
      "needs_background": "light"
     },
     "output_type": "display_data"
    }
   ],
   "source": [
    "# Plot result\n",
    "iterations = list(range(num_fold))\n",
    "plt.plot(iterations, train_std[:,0], 'r-', iterations, train_std[:,1], 'b--', iterations, train_std[:,2], 'y-')\n",
    "plt.legend(('Method 1', 'Method 2', 'Method 3'))\n",
    "plt.title('Training standard error')\n",
    "\n",
    "for i in range(3):\n",
    "    print('Method %d: std (%f, %f), r2 (%f, %f)'%(i+1, \\\n",
    "        np.mean(train_std[:,i]), np.mean(test_std[:,i]), np.mean(train_r2[:,i]), np.mean(test_r2[:,i])))"
   ]
  },
  {
   "cell_type": "code",
   "execution_count": null,
   "metadata": {},
   "outputs": [],
   "source": [
    "Y = preprocessing.make_target(SLs)\n",
    "X = preprocessing.PCA_corr(ERSP_all, Y)\n",
    "\n",
    "Y = SLs\n",
    "clf = LinearRegression()\n",
    "clf.fit(X, SLs)\n",
    "pred_Y = clf.predict(X)\n",
    "\n",
    "print(standard_error(pred_Y, SLs))\n"
   ]
  },
  {
   "cell_type": "code",
   "execution_count": null,
   "metadata": {},
   "outputs": [],
   "source": [
    "std_list = []\n",
    "r2_list = []\n",
    "for remove_threshold in range(2,80,2):\n",
    "    \n",
    "    X_train, Y_train = preprocessing.remove_trials(ERSP_all, SLs, remove_threshold)\n",
    "    \n",
    "    pca = PCA(n_components=0.9)\n",
    "    pca.fit(X_train)\n",
    "    X_train = pca.transform(X_train)\n",
    "    \n",
    "    rgr = svm.SVR()\n",
    "    rgr.fit(X_train, Y_train)\n",
    "    pred_Y = rgr.predict(X_train)\n",
    "    \n",
    "    error = standard_error(Y_train, pred_Y)\n",
    "    r2 = r2_score(Y_train, pred_Y)\n",
    "    std_list.append(error)\n",
    "    r2_list.append(r2)\n",
    "    print('%d: %f, %f'%(remove_threshold, error, r2))"
   ]
  },
  {
   "cell_type": "code",
   "execution_count": 18,
   "metadata": {},
   "outputs": [
    {
     "data": {
      "text/plain": [
       "(array([ 3., 50., 56., 54., 38., 24., 22., 21., 16., 21., 19.,  7., 11.,\n",
       "        12.,  6.,  9.,  6.,  4.,  6.,  6.,  4.,  1.,  1.,  4.,  2.,  7.,\n",
       "         2.,  0.,  1.,  0.,  1.,  1.,  2.,  3.,  1.,  1.,  0.,  0.,  1.,\n",
       "         0.,  2.,  0.,  1.,  0.,  0.,  2.,  1.,  1.,  1.,  1.,  1.,  1.,\n",
       "         1.,  2.,  0.,  1.,  0.,  1.,  2.,  1.,  1.,  0.,  0.,  0.,  0.,\n",
       "         0.,  0.,  0.,  0.,  0.,  0.,  2.,  0.,  0.,  0.,  0.,  0.,  0.,\n",
       "         0.,  0.,  0.,  1.,  0.,  0.,  1.,  1.,  1.,  0.,  0.,  0.,  0.,\n",
       "         0.,  1.,  0.,  0.,  0.,  0.,  0.,  1.,  1.]),\n",
       " array([ 0.15234375,  1.091875  ,  2.03140625,  2.9709375 ,  3.91046875,\n",
       "         4.85      ,  5.78953125,  6.7290625 ,  7.66859375,  8.608125  ,\n",
       "         9.54765625, 10.4871875 , 11.42671875, 12.36625   , 13.30578125,\n",
       "        14.2453125 , 15.18484375, 16.124375  , 17.06390625, 18.0034375 ,\n",
       "        18.94296875, 19.8825    , 20.82203125, 21.7615625 , 22.70109375,\n",
       "        23.640625  , 24.58015625, 25.5196875 , 26.45921875, 27.39875   ,\n",
       "        28.33828125, 29.2778125 , 30.21734375, 31.156875  , 32.09640625,\n",
       "        33.0359375 , 33.97546875, 34.915     , 35.85453125, 36.7940625 ,\n",
       "        37.73359375, 38.673125  , 39.61265625, 40.5521875 , 41.49171875,\n",
       "        42.43125   , 43.37078125, 44.3103125 , 45.24984375, 46.189375  ,\n",
       "        47.12890625, 48.0684375 , 49.00796875, 49.9475    , 50.88703125,\n",
       "        51.8265625 , 52.76609375, 53.705625  , 54.64515625, 55.5846875 ,\n",
       "        56.52421875, 57.46375   , 58.40328125, 59.3428125 , 60.28234375,\n",
       "        61.221875  , 62.16140625, 63.1009375 , 64.04046875, 64.98      ,\n",
       "        65.91953125, 66.8590625 , 67.79859375, 68.738125  , 69.67765625,\n",
       "        70.6171875 , 71.55671875, 72.49625   , 73.43578125, 74.3753125 ,\n",
       "        75.31484375, 76.254375  , 77.19390625, 78.1334375 , 79.07296875,\n",
       "        80.0125    , 80.95203125, 81.8915625 , 82.83109375, 83.770625  ,\n",
       "        84.71015625, 85.6496875 , 86.58921875, 87.52875   , 88.46828125,\n",
       "        89.4078125 , 90.34734375, 91.286875  , 92.22640625, 93.1659375 ,\n",
       "        94.10546875]),\n",
       " <a list of 100 Patch objects>)"
      ]
     },
     "execution_count": 18,
     "metadata": {},
     "output_type": "execute_result"
    },
    {
     "data": {
      "image/png": "[encoded data removed]",
      "text/plain": [
       "<Figure size 432x288 with 1 Axes>"
      ]
     },
     "metadata": {
      "needs_background": "light"
     },
     "output_type": "display_data"
    }
   ],
   "source": [
    "plt.hist(SLs, bins=100)"
   ]
  },
  {
   "cell_type": "code",
   "execution_count": null,
   "metadata": {},
   "outputs": [],
   "source": []
  }
 ],
 "metadata": {
  "kernelspec": {
   "display_name": "Python 3",
   "language": "python",
   "name": "python3"
  },
  "language_info": {
   "codemirror_mode": {
    "name": "ipython",
    "version": 3
   },
   "file_extension": ".py",
   "mimetype": "text/x-python",
   "name": "python",
   "nbconvert_exporter": "python",
   "pygments_lexer": "ipython3",
   "version": "3.7.3"
  }
 },
 "nbformat": 4,
 "nbformat_minor": 4
}
