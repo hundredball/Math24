{
 "cells": [
  {
   "cell_type": "code",
   "execution_count": 1,
   "metadata": {},
   "outputs": [],
   "source": [
    "import pandas as pd\n",
    "import numpy as np\n",
    "import scipy.io as sio\n",
    "from scipy import signal\n",
    "from scipy.integrate import simps\n",
    "import matplotlib.pyplot as plt\n",
    "import seaborn as sns\n",
    "\n",
    "\n",
    "import dataloader as dl"
   ]
  },
  {
   "cell_type": "markdown",
   "metadata": {},
   "source": [
    "## Load data"
   ]
  },
  {
   "cell_type": "code",
   "execution_count": 16,
   "metadata": {},
   "outputs": [
    {
     "name": "stdout",
     "output_type": "stream",
     "text": [
      "Shape of data  (128, 596145)\n",
      "Shape of events  (321, 2)\n",
      "Shape of chanlocs  (1, 128)\n"
     ]
    }
   ],
   "source": [
    "fileName = '110414'\n",
    "EEG = sio.loadmat('./Data_Python/%s.mat'%(fileName))\n",
    "data = EEG['data']\n",
    "events = EEG['event']\n",
    "chanlocs = EEG['chanlocs']\n",
    "print('Shape of data ', data.shape)\n",
    "print('Shape of events ', events.shape)\n",
    "print('Shape of chanlocs ', chanlocs.shape)"
   ]
  },
  {
   "cell_type": "code",
   "execution_count": 17,
   "metadata": {},
   "outputs": [],
   "source": [
    "# Extract channel label, theta, arc length\n",
    "num_channel = chanlocs.shape[1]\n",
    "chan_label, chan_theta, chan_arc_length = [], [], []\n",
    "\n",
    "for i in range(num_channel):\n",
    "    chan_label.append(chanlocs[0,i][0][0])\n",
    "    chan_theta.append(chanlocs[0,i][1][0,0])\n",
    "    chan_arc_length.append(chanlocs[0,i][2][0,0])\n",
    "    \n",
    "# create dataframe for them\n",
    "d = {'label':chan_label, 'theta':chan_theta, 'arc_length':chan_arc_length}\n",
    "channels = pd.DataFrame(data=d)"
   ]
  },
  {
   "cell_type": "code",
   "execution_count": 22,
   "metadata": {},
   "outputs": [],
   "source": [
    "channels.to_csv('./Channel_coordinate/%s_channels.csv'%(fileName))"
   ]
  },
  {
   "cell_type": "code",
   "execution_count": 23,
   "metadata": {},
   "outputs": [],
   "source": [
    "A = pd.read_csv('./Channel_coordinate/%s_channels.csv'%(fileName))"
   ]
  },
  {
   "cell_type": "code",
   "execution_count": 25,
   "metadata": {},
   "outputs": [],
   "source": [
    "A = [1,3,5]"
   ]
  },
  {
   "cell_type": "code",
   "execution_count": 26,
   "metadata": {},
   "outputs": [
    {
     "name": "stdout",
     "output_type": "stream",
     "text": [
      "0\n",
      "1\n",
      "1\n",
      "3\n",
      "2\n",
      "5\n"
     ]
    }
   ],
   "source": [
    "for i, a in enumerate(A):\n",
    "    print(i)\n",
    "    print(a)"
   ]
  },
  {
   "cell_type": "code",
   "execution_count": 29,
   "metadata": {},
   "outputs": [
    {
     "data": {
      "text/plain": [
       "array([[array([[0.5]]), array(['0'], dtype='<U1')],\n",
       "       [array([[256]], dtype=uint16), array(['505'], dtype='<U3')],\n",
       "       [array([[773.5]]), array(['3'], dtype='<U1')],\n",
       "       [array([[2644.5]]), array(['501'], dtype='<U3')],\n",
       "       [array([[2900]], dtype=uint16), array(['0'], dtype='<U1')],\n",
       "       [array([[3027.5]]), array(['505'], dtype='<U3')],\n",
       "       [array([[3542]], dtype=uint16), array(['1'], dtype='<U1')],\n",
       "       [array([[6634.5]]), array(['501'], dtype='<U3')],\n",
       "       [array([[6890]], dtype=uint16), array(['0'], dtype='<U1')],\n",
       "       [array([[7017.5]]), array(['505'], dtype='<U3')],\n",
       "       [array([[7531]], dtype=uint16), array(['2'], dtype='<U1')],\n",
       "       [array([[8205.5]]), array(['501'], dtype='<U3')],\n",
       "       [array([[8461]], dtype=uint16), array(['0'], dtype='<U1')],\n",
       "       [array([[8588.5]]), array(['505'], dtype='<U3')],\n",
       "       [array([[9103.5]]), array(['1'], dtype='<U1')],\n",
       "       [array([[9764.5]]), array(['501'], dtype='<U3')],\n",
       "       [array([[10020]], dtype=uint16), array(['0'], dtype='<U1')],\n",
       "       [array([[10147.5]]), array(['505'], dtype='<U3')],\n",
       "       [array([[10661]], dtype=uint16), array(['1'], dtype='<U1')],\n",
       "       [array([[11849.5]]), array(['501'], dtype='<U3')],\n",
       "       [array([[12105]], dtype=uint16), array(['0'], dtype='<U1')],\n",
       "       [array([[12232.5]]), array(['505'], dtype='<U3')],\n",
       "       [array([[12747]], dtype=uint16), array(['2'], dtype='<U1')],\n",
       "       [array([[45095.5]]), array(['501'], dtype='<U3')],\n",
       "       [array([[45351]], dtype=uint16), array(['0'], dtype='<U1')],\n",
       "       [array([[45478.5]]), array(['505'], dtype='<U3')],\n",
       "       [array([[45993]], dtype=uint16), array(['2'], dtype='<U1')],\n",
       "       [array([[86347.5]]), array(['501'], dtype='<U3')],\n",
       "       [array([[86603]], dtype=int32), array(['0'], dtype='<U1')],\n",
       "       [array([[86730.5]]), array(['505'], dtype='<U3')],\n",
       "       [array([[87244.5]]), array(['3'], dtype='<U1')],\n",
       "       [array([[95405.5]]), array(['501'], dtype='<U3')],\n",
       "       [array([[95661]], dtype=int32), array(['0'], dtype='<U1')],\n",
       "       [array([[95788.5]]), array(['505'], dtype='<U3')],\n",
       "       [array([[96303]], dtype=int32), array(['2'], dtype='<U1')],\n",
       "       [array([[98434]], dtype=int32), array(['501'], dtype='<U3')],\n",
       "       [array([[98689.5]]), array(['0'], dtype='<U1')],\n",
       "       [array([[98817]], dtype=int32), array(['505'], dtype='<U3')],\n",
       "       [array([[99332.5]]), array(['3'], dtype='<U1')],\n",
       "       [array([[118258.5]]), array(['501'], dtype='<U3')],\n",
       "       [array([[118514]], dtype=int32), array(['0'], dtype='<U1')],\n",
       "       [array([[118641.5]]), array(['505'], dtype='<U3')],\n",
       "       [array([[119155.5]]), array(['1'], dtype='<U1')],\n",
       "       [array([[119715]], dtype=int32), array(['501'], dtype='<U3')],\n",
       "       [array([[119970.5]]), array(['0'], dtype='<U1')],\n",
       "       [array([[120098]], dtype=int32), array(['505'], dtype='<U3')],\n",
       "       [array([[120612]], dtype=int32), array(['1'], dtype='<U1')],\n",
       "       [array([[126457]], dtype=int32), array(['501'], dtype='<U3')],\n",
       "       [array([[126712.5]]), array(['0'], dtype='<U1')],\n",
       "       [array([[126840]], dtype=int32), array(['505'], dtype='<U3')],\n",
       "       [array([[127354.5]]), array(['3'], dtype='<U1')],\n",
       "       [array([[130864]], dtype=int32), array(['501'], dtype='<U3')],\n",
       "       [array([[131119.5]]), array(['0'], dtype='<U1')],\n",
       "       [array([[131247]], dtype=int32), array(['505'], dtype='<U3')],\n",
       "       [array([[131761.5]]), array(['2'], dtype='<U1')],\n",
       "       [array([[134356]], dtype=int32), array(['501'], dtype='<U3')],\n",
       "       [array([[134611.5]]), array(['0'], dtype='<U1')],\n",
       "       [array([[134739]], dtype=int32), array(['505'], dtype='<U3')],\n",
       "       [array([[135253.5]]), array(['1'], dtype='<U1')],\n",
       "       [array([[135775]], dtype=int32), array(['501'], dtype='<U3')],\n",
       "       [array([[136030.5]]), array(['0'], dtype='<U1')],\n",
       "       [array([[136158]], dtype=int32), array(['505'], dtype='<U3')],\n",
       "       [array([[136672]], dtype=int32), array(['3'], dtype='<U1')],\n",
       "       [array([[147816.5]]), array(['501'], dtype='<U3')],\n",
       "       [array([[148072]], dtype=int32), array(['0'], dtype='<U1')],\n",
       "       [array([[148199.5]]), array(['505'], dtype='<U3')],\n",
       "       [array([[148714.5]]), array(['2'], dtype='<U1')],\n",
       "       [array([[165009.5]]), array(['501'], dtype='<U3')],\n",
       "       [array([[165265]], dtype=int32), array(['0'], dtype='<U1')],\n",
       "       [array([[165392.5]]), array(['505'], dtype='<U3')],\n",
       "       [array([[165907]], dtype=int32), array(['2'], dtype='<U1')],\n",
       "       [array([[167014.5]]), array(['501'], dtype='<U3')],\n",
       "       [array([[167270]], dtype=int32), array(['0'], dtype='<U1')],\n",
       "       [array([[167397.5]]), array(['505'], dtype='<U3')],\n",
       "       [array([[167912]], dtype=int32), array(['3'], dtype='<U1')],\n",
       "       [array([[179853]], dtype=int32), array(['501'], dtype='<U3')],\n",
       "       [array([[180108.5]]), array(['0'], dtype='<U1')],\n",
       "       [array([[180236]], dtype=int32), array(['505'], dtype='<U3')],\n",
       "       [array([[180750.5]]), array(['3'], dtype='<U1')],\n",
       "       [array([[184825]], dtype=int32), array(['501'], dtype='<U3')],\n",
       "       [array([[185080.5]]), array(['0'], dtype='<U1')],\n",
       "       [array([[185208]], dtype=int32), array(['505'], dtype='<U3')],\n",
       "       [array([[185723]], dtype=int32), array(['1'], dtype='<U1')],\n",
       "       [array([[186566.5]]), array(['501'], dtype='<U3')],\n",
       "       [array([[186822]], dtype=int32), array(['0'], dtype='<U1')],\n",
       "       [array([[186949.5]]), array(['505'], dtype='<U3')],\n",
       "       [array([[187464]], dtype=int32), array(['1'], dtype='<U1')],\n",
       "       [array([[188369]], dtype=int32), array(['501'], dtype='<U3')],\n",
       "       [array([[188624.5]]), array(['0'], dtype='<U1')],\n",
       "       [array([[188752]], dtype=int32), array(['505'], dtype='<U3')],\n",
       "       [array([[189266]], dtype=int32), array(['1'], dtype='<U1')],\n",
       "       [array([[190512.5]]), array(['501'], dtype='<U3')],\n",
       "       [array([[190768]], dtype=int32), array(['0'], dtype='<U1')],\n",
       "       [array([[190895.5]]), array(['505'], dtype='<U3')],\n",
       "       [array([[191409]], dtype=int32), array(['2'], dtype='<U1')],\n",
       "       [array([[192384]], dtype=int32), array(['501'], dtype='<U3')],\n",
       "       [array([[192639.5]]), array(['0'], dtype='<U1')],\n",
       "       [array([[192767]], dtype=int32), array(['505'], dtype='<U3')],\n",
       "       [array([[193280.5]]), array(['3'], dtype='<U1')],\n",
       "       [array([[235492.5]]), array(['501'], dtype='<U3')],\n",
       "       [array([[235748]], dtype=int32), array(['0'], dtype='<U1')],\n",
       "       [array([[235875.5]]), array(['505'], dtype='<U3')],\n",
       "       [array([[236390]], dtype=int32), array(['2'], dtype='<U1')],\n",
       "       [array([[239326.5]]), array(['501'], dtype='<U3')],\n",
       "       [array([[239582]], dtype=int32), array(['0'], dtype='<U1')],\n",
       "       [array([[239709.5]]), array(['505'], dtype='<U3')],\n",
       "       [array([[240223.5]]), array(['1'], dtype='<U1')],\n",
       "       [array([[242889.5]]), array(['501'], dtype='<U3')],\n",
       "       [array([[243145]], dtype=int32), array(['0'], dtype='<U1')],\n",
       "       [array([[243272.5]]), array(['505'], dtype='<U3')],\n",
       "       [array([[243787]], dtype=int32), array(['2'], dtype='<U1')],\n",
       "       [array([[244667]], dtype=int32), array(['501'], dtype='<U3')],\n",
       "       [array([[244922.5]]), array(['0'], dtype='<U1')],\n",
       "       [array([[245050]], dtype=int32), array(['505'], dtype='<U3')],\n",
       "       [array([[245564]], dtype=int32), array(['2'], dtype='<U1')],\n",
       "       [array([[248021.5]]), array(['501'], dtype='<U3')],\n",
       "       [array([[248277]], dtype=int32), array(['0'], dtype='<U1')],\n",
       "       [array([[248404.5]]), array(['505'], dtype='<U3')],\n",
       "       [array([[248921]], dtype=int32), array(['1'], dtype='<U1')],\n",
       "       [array([[249764]], dtype=int32), array(['501'], dtype='<U3')],\n",
       "       [array([[250019.5]]), array(['0'], dtype='<U1')],\n",
       "       [array([[250147]], dtype=int32), array(['505'], dtype='<U3')],\n",
       "       [array([[250661.5]]), array(['1'], dtype='<U1')],\n",
       "       [array([[252148]], dtype=int32), array(['501'], dtype='<U3')],\n",
       "       [array([[252403.5]]), array(['0'], dtype='<U1')],\n",
       "       [array([[252531]], dtype=int32), array(['505'], dtype='<U3')],\n",
       "       [array([[253045]], dtype=int32), array(['2'], dtype='<U1')],\n",
       "       [array([[253790.5]]), array(['501'], dtype='<U3')],\n",
       "       [array([[254046]], dtype=int32), array(['0'], dtype='<U1')],\n",
       "       [array([[254173.5]]), array(['505'], dtype='<U3')],\n",
       "       [array([[254687.5]]), array(['2'], dtype='<U1')],\n",
       "       [array([[256835]], dtype=int32), array(['501'], dtype='<U3')],\n",
       "       [array([[257090.5]]), array(['0'], dtype='<U1')],\n",
       "       [array([[257218]], dtype=int32), array(['505'], dtype='<U3')],\n",
       "       [array([[257732.5]]), array(['2'], dtype='<U1')],\n",
       "       [array([[259997.5]]), array(['501'], dtype='<U3')],\n",
       "       [array([[260253]], dtype=int32), array(['0'], dtype='<U1')],\n",
       "       [array([[260380.5]]), array(['505'], dtype='<U3')],\n",
       "       [array([[260894.5]]), array(['2'], dtype='<U1')],\n",
       "       [array([[262661.5]]), array(['501'], dtype='<U3')],\n",
       "       [array([[262917]], dtype=int32), array(['0'], dtype='<U1')],\n",
       "       [array([[263044.5]]), array(['505'], dtype='<U3')],\n",
       "       [array([[263559]], dtype=int32), array(['2'], dtype='<U1')],\n",
       "       [array([[265836]], dtype=int32), array(['501'], dtype='<U3')],\n",
       "       [array([[266091.5]]), array(['0'], dtype='<U1')],\n",
       "       [array([[266219]], dtype=int32), array(['505'], dtype='<U3')],\n",
       "       [array([[266733.5]]), array(['2'], dtype='<U1')],\n",
       "       [array([[271060.5]]), array(['501'], dtype='<U3')],\n",
       "       [array([[271316]], dtype=int32), array(['0'], dtype='<U1')],\n",
       "       [array([[271443.5]]), array(['505'], dtype='<U3')],\n",
       "       [array([[271958]], dtype=int32), array(['2'], dtype='<U1')],\n",
       "       [array([[273792.5]]), array(['501'], dtype='<U3')],\n",
       "       [array([[274048]], dtype=int32), array(['0'], dtype='<U1')],\n",
       "       [array([[274175.5]]), array(['505'], dtype='<U3')],\n",
       "       [array([[274689.5]]), array(['2'], dtype='<U1')],\n",
       "       [array([[275209.5]]), array(['501'], dtype='<U3')],\n",
       "       [array([[275465]], dtype=int32), array(['0'], dtype='<U1')],\n",
       "       [array([[275592.5]]), array(['505'], dtype='<U3')],\n",
       "       [array([[276106.5]]), array(['1'], dtype='<U1')],\n",
       "       [array([[277061.5]]), array(['501'], dtype='<U3')],\n",
       "       [array([[277317]], dtype=int32), array(['0'], dtype='<U1')],\n",
       "       [array([[277444.5]]), array(['505'], dtype='<U3')],\n",
       "       [array([[277959]], dtype=int32), array(['3'], dtype='<U1')],\n",
       "       [array([[288233]], dtype=int32), array(['501'], dtype='<U3')],\n",
       "       [array([[288488.5]]), array(['0'], dtype='<U1')],\n",
       "       [array([[288616]], dtype=int32), array(['505'], dtype='<U3')],\n",
       "       [array([[289130]], dtype=int32), array(['2'], dtype='<U1')],\n",
       "       [array([[290186.5]]), array(['501'], dtype='<U3')],\n",
       "       [array([[290442]], dtype=int32), array(['0'], dtype='<U1')],\n",
       "       [array([[290569.5]]), array(['505'], dtype='<U3')],\n",
       "       [array([[291083.5]]), array(['2'], dtype='<U1')],\n",
       "       [array([[297299.5]]), array(['501'], dtype='<U3')],\n",
       "       [array([[297555]], dtype=int32), array(['0'], dtype='<U1')],\n",
       "       [array([[297682.5]]), array(['505'], dtype='<U3')],\n",
       "       [array([[298197]], dtype=int32), array(['1'], dtype='<U1')],\n",
       "       [array([[298528.5]]), array(['501'], dtype='<U3')],\n",
       "       [array([[298784]], dtype=int32), array(['0'], dtype='<U1')],\n",
       "       [array([[298911.5]]), array(['505'], dtype='<U3')],\n",
       "       [array([[299426.5]]), array(['1'], dtype='<U1')],\n",
       "       [array([[301819.5]]), array(['501'], dtype='<U3')],\n",
       "       [array([[302075]], dtype=int32), array(['0'], dtype='<U1')],\n",
       "       [array([[302202.5]]), array(['505'], dtype='<U3')],\n",
       "       [array([[302716]], dtype=int32), array(['3'], dtype='<U1')],\n",
       "       [array([[306969.5]]), array(['501'], dtype='<U3')],\n",
       "       [array([[307225]], dtype=int32), array(['0'], dtype='<U1')],\n",
       "       [array([[307352.5]]), array(['505'], dtype='<U3')],\n",
       "       [array([[307867]], dtype=int32), array(['1'], dtype='<U1')],\n",
       "       [array([[308482.5]]), array(['501'], dtype='<U3')],\n",
       "       [array([[308738]], dtype=int32), array(['0'], dtype='<U1')],\n",
       "       [array([[308865.5]]), array(['505'], dtype='<U3')],\n",
       "       [array([[309380]], dtype=int32), array(['2'], dtype='<U1')],\n",
       "       [array([[312640]], dtype=int32), array(['501'], dtype='<U3')],\n",
       "       [array([[312895.5]]), array(['0'], dtype='<U1')],\n",
       "       [array([[313023]], dtype=int32), array(['505'], dtype='<U3')],\n",
       "       [array([[313537.5]]), array(['3'], dtype='<U1')],\n",
       "       [array([[357334.5]]), array(['501'], dtype='<U3')],\n",
       "       [array([[357590]], dtype=int32), array(['0'], dtype='<U1')],\n",
       "       [array([[357717.5]]), array(['505'], dtype='<U3')],\n",
       "       [array([[358232]], dtype=int32), array(['2'], dtype='<U1')],\n",
       "       [array([[369175.5]]), array(['501'], dtype='<U3')],\n",
       "       [array([[369431]], dtype=int32), array(['0'], dtype='<U1')],\n",
       "       [array([[369558.5]]), array(['505'], dtype='<U3')],\n",
       "       [array([[370072]], dtype=int32), array(['3'], dtype='<U1')],\n",
       "       [array([[406402]], dtype=int32), array(['501'], dtype='<U3')],\n",
       "       [array([[406657.5]]), array(['0'], dtype='<U1')],\n",
       "       [array([[406785]], dtype=int32), array(['505'], dtype='<U3')],\n",
       "       [array([[407299]], dtype=int32), array(['1'], dtype='<U1')],\n",
       "       [array([[408196]], dtype=int32), array(['501'], dtype='<U3')],\n",
       "       [array([[408451.5]]), array(['0'], dtype='<U1')],\n",
       "       [array([[408579]], dtype=int32), array(['505'], dtype='<U3')],\n",
       "       [array([[409093]], dtype=int32), array(['3'], dtype='<U1')],\n",
       "       [array([[428220.5]]), array(['501'], dtype='<U3')],\n",
       "       [array([[428476]], dtype=int32), array(['0'], dtype='<U1')],\n",
       "       [array([[428603.5]]), array(['505'], dtype='<U3')],\n",
       "       [array([[429118]], dtype=int32), array(['1'], dtype='<U1')],\n",
       "       [array([[431806.5]]), array(['501'], dtype='<U3')],\n",
       "       [array([[432062]], dtype=int32), array(['0'], dtype='<U1')],\n",
       "       [array([[432189.5]]), array(['505'], dtype='<U3')],\n",
       "       [array([[432704.5]]), array(['1'], dtype='<U1')],\n",
       "       [array([[438884.5]]), array(['501'], dtype='<U3')],\n",
       "       [array([[439140]], dtype=int32), array(['0'], dtype='<U1')],\n",
       "       [array([[439267.5]]), array(['505'], dtype='<U3')],\n",
       "       [array([[439781.5]]), array(['2'], dtype='<U1')],\n",
       "       [array([[440926.5]]), array(['501'], dtype='<U3')],\n",
       "       [array([[441182]], dtype=int32), array(['0'], dtype='<U1')],\n",
       "       [array([[441309.5]]), array(['505'], dtype='<U3')],\n",
       "       [array([[441824]], dtype=int32), array(['3'], dtype='<U1')],\n",
       "       [array([[443523.5]]), array(['501'], dtype='<U3')],\n",
       "       [array([[443779]], dtype=int32), array(['0'], dtype='<U1')],\n",
       "       [array([[443906.5]]), array(['505'], dtype='<U3')],\n",
       "       [array([[444420.5]]), array(['2'], dtype='<U1')],\n",
       "       [array([[445964.5]]), array(['501'], dtype='<U3')],\n",
       "       [array([[446220]], dtype=int32), array(['0'], dtype='<U1')],\n",
       "       [array([[446347.5]]), array(['505'], dtype='<U3')],\n",
       "       [array([[446861.5]]), array(['2'], dtype='<U1')],\n",
       "       [array([[449579]], dtype=int32), array(['501'], dtype='<U3')],\n",
       "       [array([[449834.5]]), array(['0'], dtype='<U1')],\n",
       "       [array([[449962]], dtype=int32), array(['505'], dtype='<U3')],\n",
       "       [array([[450476.5]]), array(['2'], dtype='<U1')],\n",
       "       [array([[452055]], dtype=int32), array(['501'], dtype='<U3')],\n",
       "       [array([[452310.5]]), array(['0'], dtype='<U1')],\n",
       "       [array([[452438]], dtype=int32), array(['505'], dtype='<U3')],\n",
       "       [array([[452952.5]]), array(['2'], dtype='<U1')],\n",
       "       [array([[456657]], dtype=int32), array(['501'], dtype='<U3')],\n",
       "       [array([[456912.5]]), array(['0'], dtype='<U1')],\n",
       "       [array([[457040]], dtype=int32), array(['505'], dtype='<U3')],\n",
       "       [array([[457554]], dtype=int32), array(['3'], dtype='<U1')],\n",
       "       [array([[464427]], dtype=int32), array(['501'], dtype='<U3')],\n",
       "       [array([[464682.5]]), array(['0'], dtype='<U1')],\n",
       "       [array([[464810]], dtype=int32), array(['505'], dtype='<U3')],\n",
       "       [array([[465324]], dtype=int32), array(['2'], dtype='<U1')],\n",
       "       [array([[478107]], dtype=int32), array(['501'], dtype='<U3')],\n",
       "       [array([[478362.5]]), array(['0'], dtype='<U1')],\n",
       "       [array([[478490]], dtype=int32), array(['505'], dtype='<U3')],\n",
       "       [array([[479004.5]]), array(['2'], dtype='<U1')],\n",
       "       [array([[488676.5]]), array(['501'], dtype='<U3')],\n",
       "       [array([[488932]], dtype=int32), array(['0'], dtype='<U1')],\n",
       "       [array([[489059.5]]), array(['505'], dtype='<U3')],\n",
       "       [array([[489573]], dtype=int32), array(['1'], dtype='<U1')],\n",
       "       [array([[490308.5]]), array(['501'], dtype='<U3')],\n",
       "       [array([[490564]], dtype=int32), array(['0'], dtype='<U1')],\n",
       "       [array([[490691.5]]), array(['505'], dtype='<U3')],\n",
       "       [array([[491205]], dtype=int32), array(['2'], dtype='<U1')],\n",
       "       [array([[491975]], dtype=int32), array(['501'], dtype='<U3')],\n",
       "       [array([[492230.5]]), array(['0'], dtype='<U1')],\n",
       "       [array([[492358]], dtype=int32), array(['505'], dtype='<U3')],\n",
       "       [array([[492872]], dtype=int32), array(['2'], dtype='<U1')],\n",
       "       [array([[495886.5]]), array(['501'], dtype='<U3')],\n",
       "       [array([[496142]], dtype=int32), array(['0'], dtype='<U1')],\n",
       "       [array([[496269.5]]), array(['505'], dtype='<U3')],\n",
       "       [array([[496783.5]]), array(['3'], dtype='<U1')],\n",
       "       [array([[522644.5]]), array(['501'], dtype='<U3')],\n",
       "       [array([[522900]], dtype=int32), array(['0'], dtype='<U1')],\n",
       "       [array([[523027.5]]), array(['505'], dtype='<U3')],\n",
       "       [array([[523542]], dtype=int32), array(['2'], dtype='<U1')],\n",
       "       [array([[526162.5]]), array(['501'], dtype='<U3')],\n",
       "       [array([[526418]], dtype=int32), array(['0'], dtype='<U1')],\n",
       "       [array([[526545.5]]), array(['505'], dtype='<U3')],\n",
       "       [array([[527059.5]]), array(['2'], dtype='<U1')],\n",
       "       [array([[530037.5]]), array(['501'], dtype='<U3')],\n",
       "       [array([[530293]], dtype=int32), array(['0'], dtype='<U1')],\n",
       "       [array([[530420.5]]), array(['505'], dtype='<U3')],\n",
       "       [array([[530935.5]]), array(['3'], dtype='<U1')],\n",
       "       [array([[561498]], dtype=int32), array(['501'], dtype='<U3')],\n",
       "       [array([[561753.5]]), array(['0'], dtype='<U1')],\n",
       "       [array([[561881]], dtype=int32), array(['505'], dtype='<U3')],\n",
       "       [array([[562396]], dtype=int32), array(['1'], dtype='<U1')],\n",
       "       [array([[562911.5]]), array(['501'], dtype='<U3')],\n",
       "       [array([[563167]], dtype=int32), array(['0'], dtype='<U1')],\n",
       "       [array([[563294.5]]), array(['505'], dtype='<U3')],\n",
       "       [array([[563808.5]]), array(['2'], dtype='<U1')],\n",
       "       [array([[570277.5]]), array(['501'], dtype='<U3')],\n",
       "       [array([[570533]], dtype=int32), array(['0'], dtype='<U1')],\n",
       "       [array([[570660.5]]), array(['505'], dtype='<U3')],\n",
       "       [array([[571175]], dtype=int32), array(['3'], dtype='<U1')],\n",
       "       [array([[571922.5]]), array(['501'], dtype='<U3')],\n",
       "       [array([[572178]], dtype=int32), array(['0'], dtype='<U1')],\n",
       "       [array([[572305.5]]), array(['505'], dtype='<U3')],\n",
       "       [array([[572819.5]]), array(['1'], dtype='<U1')],\n",
       "       [array([[575240]], dtype=int32), array(['501'], dtype='<U3')],\n",
       "       [array([[575495.5]]), array(['0'], dtype='<U1')],\n",
       "       [array([[575623]], dtype=int32), array(['505'], dtype='<U3')],\n",
       "       [array([[576136.5]]), array(['2'], dtype='<U1')],\n",
       "       [array([[577382]], dtype=int32), array(['501'], dtype='<U3')],\n",
       "       [array([[577637.5]]), array(['0'], dtype='<U1')],\n",
       "       [array([[577765]], dtype=int32), array(['505'], dtype='<U3')],\n",
       "       [array([[578279.5]]), array(['3'], dtype='<U1')],\n",
       "       [array([[582725]], dtype=int32), array(['501'], dtype='<U3')],\n",
       "       [array([[582980.5]]), array(['0'], dtype='<U1')],\n",
       "       [array([[583108]], dtype=int32), array(['505'], dtype='<U3')],\n",
       "       [array([[583622]], dtype=int32), array(['2'], dtype='<U1')],\n",
       "       [array([[587068.5]]), array(['501'], dtype='<U3')],\n",
       "       [array([[587324]], dtype=int32), array(['0'], dtype='<U1')],\n",
       "       [array([[587451.5]]), array(['505'], dtype='<U3')],\n",
       "       [array([[587966]], dtype=int32), array(['1'], dtype='<U1')],\n",
       "       [array([[592916]], dtype=int32), array(['501'], dtype='<U3')],\n",
       "       [array([[593171.5]]), array(['0'], dtype='<U1')],\n",
       "       [array([[593299]], dtype=int32), array(['505'], dtype='<U3')],\n",
       "       [array([[593813.5]]), array(['1'], dtype='<U1')],\n",
       "       [array([[594863.5]]), array(['501'], dtype='<U3')],\n",
       "       [array([[596143]], dtype=int32), array(['0'], dtype='<U1')]],\n",
       "      dtype=object)"
      ]
     },
     "execution_count": 29,
     "metadata": {},
     "output_type": "execute_result"
    }
   ],
   "source": [
    "events"
   ]
  },
  {
   "cell_type": "code",
   "execution_count": 24,
   "metadata": {},
   "outputs": [
    {
     "data": {
      "text/html": [
       "<div>\n",
       "<style scoped>\n",
       "    .dataframe tbody tr th:only-of-type {\n",
       "        vertical-align: middle;\n",
       "    }\n",
       "\n",
       "    .dataframe tbody tr th {\n",
       "        vertical-align: top;\n",
       "    }\n",
       "\n",
       "    .dataframe thead th {\n",
       "        text-align: right;\n",
       "    }\n",
       "</style>\n",
       "<table border=\"1\" class=\"dataframe\">\n",
       "  <thead>\n",
       "    <tr style=\"text-align: right;\">\n",
       "      <th></th>\n",
       "      <th>Unnamed: 0</th>\n",
       "      <th>label</th>\n",
       "      <th>theta</th>\n",
       "      <th>arc_length</th>\n",
       "    </tr>\n",
       "  </thead>\n",
       "  <tbody>\n",
       "    <tr>\n",
       "      <th>0</th>\n",
       "      <td>0</td>\n",
       "      <td>A1</td>\n",
       "      <td>-27.224712</td>\n",
       "      <td>0.469855</td>\n",
       "    </tr>\n",
       "    <tr>\n",
       "      <th>1</th>\n",
       "      <td>1</td>\n",
       "      <td>A2</td>\n",
       "      <td>-35.351458</td>\n",
       "      <td>0.481330</td>\n",
       "    </tr>\n",
       "    <tr>\n",
       "      <th>2</th>\n",
       "      <td>2</td>\n",
       "      <td>A3</td>\n",
       "      <td>-33.804159</td>\n",
       "      <td>0.524365</td>\n",
       "    </tr>\n",
       "    <tr>\n",
       "      <th>3</th>\n",
       "      <td>3</td>\n",
       "      <td>A4</td>\n",
       "      <td>-41.068033</td>\n",
       "      <td>0.374972</td>\n",
       "    </tr>\n",
       "    <tr>\n",
       "      <th>4</th>\n",
       "      <td>4</td>\n",
       "      <td>A5</td>\n",
       "      <td>-48.141936</td>\n",
       "      <td>0.416668</td>\n",
       "    </tr>\n",
       "    <tr>\n",
       "      <th>...</th>\n",
       "      <td>...</td>\n",
       "      <td>...</td>\n",
       "      <td>...</td>\n",
       "      <td>...</td>\n",
       "    </tr>\n",
       "    <tr>\n",
       "      <th>123</th>\n",
       "      <td>123</td>\n",
       "      <td>D28</td>\n",
       "      <td>151.815690</td>\n",
       "      <td>0.551752</td>\n",
       "    </tr>\n",
       "    <tr>\n",
       "      <th>124</th>\n",
       "      <td>124</td>\n",
       "      <td>D29</td>\n",
       "      <td>135.795161</td>\n",
       "      <td>0.572686</td>\n",
       "    </tr>\n",
       "    <tr>\n",
       "      <th>125</th>\n",
       "      <td>125</td>\n",
       "      <td>D30</td>\n",
       "      <td>-134.479988</td>\n",
       "      <td>0.519932</td>\n",
       "    </tr>\n",
       "    <tr>\n",
       "      <th>126</th>\n",
       "      <td>126</td>\n",
       "      <td>D31</td>\n",
       "      <td>-148.339104</td>\n",
       "      <td>0.571811</td>\n",
       "    </tr>\n",
       "    <tr>\n",
       "      <th>127</th>\n",
       "      <td>127</td>\n",
       "      <td>D32</td>\n",
       "      <td>-129.969320</td>\n",
       "      <td>0.582356</td>\n",
       "    </tr>\n",
       "  </tbody>\n",
       "</table>\n",
       "<p>128 rows × 4 columns</p>\n",
       "</div>"
      ],
      "text/plain": [
       "     Unnamed: 0 label       theta  arc_length\n",
       "0             0    A1  -27.224712    0.469855\n",
       "1             1    A2  -35.351458    0.481330\n",
       "2             2    A3  -33.804159    0.524365\n",
       "3             3    A4  -41.068033    0.374972\n",
       "4             4    A5  -48.141936    0.416668\n",
       "..          ...   ...         ...         ...\n",
       "123         123   D28  151.815690    0.551752\n",
       "124         124   D29  135.795161    0.572686\n",
       "125         125   D30 -134.479988    0.519932\n",
       "126         126   D31 -148.339104    0.571811\n",
       "127         127   D32 -129.969320    0.582356\n",
       "\n",
       "[128 rows x 4 columns]"
      ]
     },
     "execution_count": 24,
     "metadata": {},
     "output_type": "execute_result"
    }
   ],
   "source": [
    "A"
   ]
  },
  {
   "cell_type": "markdown",
   "metadata": {},
   "source": [
    "## Epoch data"
   ]
  },
  {
   "cell_type": "code",
   "execution_count": 4,
   "metadata": {},
   "outputs": [
    {
     "name": "stdout",
     "output_type": "stream",
     "text": [
      "Number of event 1:  20\n",
      "Number of event 2:  33\n",
      "Number of event 3:  12\n"
     ]
    }
   ],
   "source": [
    "sampling_rate = 256\n",
    "num_epoch_1 = sum([1 if x[1]=='1' else 0 for x in events])\n",
    "num_epoch_2 = sum([1 if x[1]=='2' else 0 for x in events])\n",
    "num_epoch_3 = sum([1 if x[1]=='3' else 0 for x in events])\n",
    "X1 = np.zeros((num_epoch_1, num_channel, sampling_rate*2))\n",
    "Y1 = np.zeros(num_epoch_1)\n",
    "X2 = np.zeros((num_epoch_2, num_channel, sampling_rate*2))\n",
    "Y2 = np.zeros(num_epoch_2)\n",
    "X3 = np.zeros((num_epoch_3, num_channel, sampling_rate*2))\n",
    "Y3 = np.zeros(num_epoch_3)\n",
    "print('Number of event 1: ', num_epoch_1)\n",
    "print('Number of event 2: ', num_epoch_2)\n",
    "print('Number of event 3: ', num_epoch_3)"
   ]
  },
  {
   "cell_type": "code",
   "execution_count": 11,
   "metadata": {},
   "outputs": [
    {
     "name": "stdout",
     "output_type": "stream",
     "text": [
      "Shape of X1:  (20, 21, 512)\n",
      "Shape of X2:  (33, 21, 512)\n",
      "Shape of X3:  (12, 21, 512)\n"
     ]
    }
   ],
   "source": [
    "iter_event = np.zeros(3).astype('int')\n",
    "for i in range(events.shape[0]):\n",
    "    event = events[i]\n",
    "    event_time = int(event[0])\n",
    "    event_type = event[1]\n",
    "    \n",
    "    # Event 1\n",
    "    if event_type == '1':\n",
    "        X1[iter_event[0],:,:] = data[:, event_time-2*sampling_rate:event_time]\n",
    "        Y1[iter_event[0]] = int(events[i+1,0] - event_time)/sampling_rate\n",
    "        iter_event[0] += 1\n",
    "    # Event 2\n",
    "    elif event_type == '2':\n",
    "        X2[iter_event[1],:,:] = data[:, event_time-2*sampling_rate:event_time]\n",
    "        Y2[iter_event[1]] = int(events[i+1,0] - event_time)/sampling_rate\n",
    "        iter_event[1] += 1\n",
    "    # Event 3\n",
    "    elif event_type == '3':\n",
    "        X3[iter_event[2],:,:] = data[:, event_time-2*sampling_rate:event_time]\n",
    "        Y3[iter_event[2]] = int(events[i+1,0] - event_time)/sampling_rate\n",
    "        iter_event[2] += 1\n",
    "        \n",
    "print('Shape of X1: ', X1.shape)\n",
    "print('Shape of X2: ', X2.shape)\n",
    "print('Shape of X3: ', X3.shape)"
   ]
  },
  {
   "cell_type": "markdown",
   "metadata": {},
   "source": [
    "## Bandpower example (Separate)"
   ]
  },
  {
   "cell_type": "code",
   "execution_count": 2,
   "metadata": {},
   "outputs": [
    {
     "name": "stdout",
     "output_type": "stream",
     "text": [
      "Event 1 X shape:  (324, 21, 512)\n",
      "Event 2 X shape:  (546, 21, 512)\n",
      "Event 3 X shape:  (226, 21, 512)\n",
      "Combined X shape:  (1096, 21, 512)\n"
     ]
    }
   ],
   "source": [
    "X, Y = dl.read_data([1,2,3])"
   ]
  },
  {
   "cell_type": "code",
   "execution_count": 7,
   "metadata": {},
   "outputs": [
    {
     "name": "stdout",
     "output_type": "stream",
     "text": [
      "(512,)\n",
      "(65,)\n",
      "(65,)\n"
     ]
    },
    {
     "data": {
      "image/png": "[encoded data removed]",
      "text/plain": [
       "<Figure size 576x288 with 1 Axes>"
      ]
     },
     "metadata": {},
     "output_type": "display_data"
    }
   ],
   "source": [
    "fs = 256\n",
    "sample = X[525,12,:]\n",
    "print(sample.shape)\n",
    "# Define window length\n",
    "win = 0.5*fs\n",
    "freqs, psd = signal.welch(sample, fs, nperseg=win, noverlap=win/2)\n",
    "print(freqs.shape)\n",
    "print(psd.shape)\n",
    "\n",
    "# Plot the power spectrum\n",
    "\n",
    "sns.set(font_scale=1.2, style='white')\n",
    "plt.figure(figsize=(8, 4))\n",
    "plt.plot(freqs, psd, color='k', lw=2)\n",
    "plt.xlabel('Frequency (Hz)')\n",
    "plt.ylabel('Power spectral density (V^2 / Hz)')\n",
    "plt.ylim([0, psd.max() * 1.1])\n",
    "plt.title(\"Welch's periodogram\")\n",
    "plt.xlim([0, freqs.max()])\n",
    "sns.despine()\n"
   ]
  },
  {
   "cell_type": "code",
   "execution_count": 12,
   "metadata": {},
   "outputs": [
    {
     "data": {
      "image/png": "[encoded data removed]",
      "text/plain": [
       "<Figure size 504x288 with 1 Axes>"
      ]
     },
     "metadata": {},
     "output_type": "display_data"
    }
   ],
   "source": [
    "# Define lower and upper bounds\n",
    "low, high = 13, 30\n",
    "\n",
    "# Find intersecting values in frequency vector\n",
    "idx_theta = np.logical_and(freqs >= low, freqs <= high)\n",
    "\n",
    "# Plot the power spectral density and fill the delta area\n",
    "plt.figure(figsize=(7, 4))\n",
    "plt.plot(freqs, psd, lw=2, color='k')\n",
    "plt.fill_between(freqs, psd, where=idx_theta, color='skyblue')\n",
    "plt.xlabel('Frequency (Hz)')\n",
    "plt.ylabel('Power spectral density (uV^2 / Hz)')\n",
    "plt.xlim([0, 10])\n",
    "plt.ylim([0, psd.max() * 1.1])\n",
    "plt.title(\"Welch's periodogram\")\n",
    "sns.despine()"
   ]
  },
  {
   "cell_type": "code",
   "execution_count": 13,
   "metadata": {},
   "outputs": [
    {
     "name": "stdout",
     "output_type": "stream",
     "text": [
      "Absolute delta power: 1.332 uV^2\n"
     ]
    }
   ],
   "source": [
    "# Frequency resolution\n",
    "freq_res = freqs[1] - freqs[0]  # = 1 / 4 = 0.25\n",
    "\n",
    "# Compute the absolute power by approximating the area under the curve\n",
    "delta_power = simps(psd[idx_theta], dx=freq_res)\n",
    "print('Absolute delta power: %.3f uV^2' % delta_power)"
   ]
  },
  {
   "cell_type": "markdown",
   "metadata": {},
   "source": [
    "## Calculate theta, alpha, beta bandpower (Together)"
   ]
  },
  {
   "cell_type": "code",
   "execution_count": 2,
   "metadata": {},
   "outputs": [
    {
     "name": "stdout",
     "output_type": "stream",
     "text": [
      "Event 1 X shape:  (324, 21, 512)\n",
      "Event 2 X shape:  (546, 21, 512)\n",
      "Event 3 X shape:  (226, 21, 512)\n",
      "Combined X shape:  (1096, 21, 512)\n",
      "(65,)\n",
      "(1096, 21, 65)\n"
     ]
    }
   ],
   "source": [
    "X, Y = dl.read_data([1,2,3])\n",
    "fs = 256\n",
    "# Define window length\n",
    "win = 0.5*fs\n",
    "freqs, psd = signal.welch(X, fs, nperseg=win, noverlap=win/2)\n",
    "print(freqs.shape)\n",
    "print(psd.shape)"
   ]
  },
  {
   "cell_type": "code",
   "execution_count": 3,
   "metadata": {},
   "outputs": [],
   "source": [
    "# Define lower and upper bounds\n",
    "low, high = [4,7,13], [7,13,30]\n",
    "\n",
    "# Find intersecting values in frequency vector\n",
    "idx = np.logical_and(freqs[:,np.newaxis] >= low, freqs[:,np.newaxis] <= high)\n",
    "idx = idx.T   # (65,3)->(3,65)"
   ]
  },
  {
   "cell_type": "code",
   "execution_count": 5,
   "metadata": {},
   "outputs": [
    {
     "name": "stdout",
     "output_type": "stream",
     "text": [
      "(1096, 21, 3)\n"
     ]
    }
   ],
   "source": [
    "# Frequency resolution\n",
    "freq_res = freqs[1] - freqs[0]  # = 1/0.5 = 2\n",
    "\n",
    "# Compute the absolute power by approximating the area under the curve\n",
    "powers = np.zeros((X.shape[0],X.shape[1],3))\n",
    "for i in range(3):\n",
    "    idx_power = idx[i,:]\n",
    "    powers[:,:,i] = simps(psd[:,:,idx_power], dx=freq_res)\n",
    "\n",
    "print(powers.shape)"
   ]
  },
  {
   "cell_type": "code",
   "execution_count": 6,
   "metadata": {},
   "outputs": [
    {
     "name": "stdout",
     "output_type": "stream",
     "text": [
      "Absolute theta power: 0.222 uV^2\n",
      "Absolute alpha power: 0.291 uV^2\n",
      "Absolute beta power: 1.332 uV^2\n"
     ]
    }
   ],
   "source": [
    "print('Absolute theta power: %.3f uV^2' % powers[525, 12, 0])\n",
    "print('Absolute alpha power: %.3f uV^2' % powers[525, 12, 1])\n",
    "print('Absolute beta power: %.3f uV^2' % powers[525, 12, 2])"
   ]
  },
  {
   "cell_type": "markdown",
   "metadata": {},
   "source": [
    "## Test Dataloder"
   ]
  },
  {
   "cell_type": "code",
   "execution_count": 5,
   "metadata": {},
   "outputs": [],
   "source": [
    "import network_dataloader as ndl\n",
    "import torch\n",
    "from torchvision import models, transforms\n",
    "import torch.utils.data as Data\n",
    "import matplotlib.pyplot as plt"
   ]
  },
  {
   "cell_type": "code",
   "execution_count": 2,
   "metadata": {},
   "outputs": [
    {
     "name": "stdout",
     "output_type": "stream",
     "text": [
      "Initializing Datasets and Dataloaders...\n",
      "> Found 58 images...\n",
      "> Found 7 images...\n"
     ]
    }
   ],
   "source": [
    "batchSize = 10\n",
    "input_size = 224\n",
    "# Load Data\n",
    "data_transforms = {\n",
    "        'train': transforms.Compose([\n",
    "                ndl.Rescale(input_size),\n",
    "                ndl.ToTensor()]), \n",
    "        'test': transforms.Compose([\n",
    "                ndl.Rescale(input_size),\n",
    "                ndl.ToTensor()])\n",
    "        }\n",
    "\n",
    "print(\"Initializing Datasets and Dataloaders...\")\n",
    "\n",
    "# Create training and testing datasets\n",
    "image_datasets = {x: ndl.TopoplotLoader('images', x, data_transforms[x]) for x in ['train', 'test']}\n",
    "\n",
    "# Create training and testing dataloaders\n",
    "dataloaders_dict = {'train': Data.DataLoader(image_datasets['train'], batch_size=batchSize, shuffle=True, num_workers=4),\n",
    "                    'test':  Data.DataLoader(image_datasets['test'], batch_size=batchSize, shuffle=False, num_workers=4)}"
   ]
  },
  {
   "cell_type": "code",
   "execution_count": 3,
   "metadata": {},
   "outputs": [
    {
     "name": "stdout",
     "output_type": "stream",
     "text": [
      "torch.Size([7, 3, 224, 224])\n",
      "tensor([ 26.4258,  23.5195,   7.3984,   9.4297,   5.9844, 170.8711,   4.7344])\n"
     ]
    }
   ],
   "source": [
    "for samples in dataloaders_dict['test']:\n",
    "    print(samples['image'].shape)\n",
    "    print(samples['label'])"
   ]
  },
  {
   "cell_type": "code",
   "execution_count": 14,
   "metadata": {},
   "outputs": [
    {
     "data": {
      "text/plain": [
       "<matplotlib.image.AxesImage at 0x7f1414e7d320>"
      ]
     },
     "execution_count": 14,
     "metadata": {},
     "output_type": "execute_result"
    },
    {
     "data": {
      "image/png": "[encoded data removed]",
      "text/plain": [
       "<Figure size 432x288 with 1 Axes>"
      ]
     },
     "metadata": {
      "needs_background": "light"
     },
     "output_type": "display_data"
    }
   ],
   "source": [
    "image = samples['image'][0].numpy().transpose((1,2,0))\n",
    "plt.imshow(image)"
   ]
  },
  {
   "cell_type": "code",
   "execution_count": null,
   "metadata": {},
   "outputs": [],
   "source": []
  }
 ],
 "metadata": {
  "kernelspec": {
   "display_name": "Python 3",
   "language": "python",
   "name": "python3"
  },
  "language_info": {
   "codemirror_mode": {
    "name": "ipython",
    "version": 3
   },
   "file_extension": ".py",
   "mimetype": "text/x-python",
   "name": "python",
   "nbconvert_exporter": "python",
   "pygments_lexer": "ipython3",
   "version": "3.7.3"
  }
 },
 "nbformat": 4,
 "nbformat_minor": 4
}
