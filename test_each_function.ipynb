{
 "cells": [
  {
   "cell_type": "code",
   "execution_count": 1,
   "metadata": {},
   "outputs": [],
   "source": [
    "import pandas as pd\n",
    "import numpy as np\n",
    "import matplotlib.pyplot as plt\n",
    "import seaborn as sns\n",
    "\n",
    "import scipy.io as sio\n",
    "from scipy import signal\n",
    "from scipy.integrate import simps\n",
    "from scipy import signal\n",
    "from sklearn.decomposition import FastICA\n",
    "\n",
    "import torch\n",
    "import torch.nn as nn\n",
    "\n",
    "import dataloader as dl\n",
    "import raw_dataloader\n",
    "import models as models"
   ]
  },
  {
   "cell_type": "markdown",
   "metadata": {},
   "source": [
    "## Load data"
   ]
  },
  {
   "cell_type": "code",
   "execution_count": 16,
   "metadata": {},
   "outputs": [
    {
     "name": "stdout",
     "output_type": "stream",
     "text": [
      "Shape of data  (128, 596145)\n",
      "Shape of events  (321, 2)\n",
      "Shape of chanlocs  (1, 128)\n"
     ]
    }
   ],
   "source": [
    "fileName = '110414'\n",
    "EEG = sio.loadmat('./Data_Python/%s.mat'%(fileName))\n",
    "data = EEG['data']\n",
    "events = EEG['event']\n",
    "chanlocs = EEG['chanlocs']\n",
    "print('Shape of data ', data.shape)\n",
    "print('Shape of events ', events.shape)\n",
    "print('Shape of chanlocs ', chanlocs.shape)"
   ]
  },
  {
   "cell_type": "code",
   "execution_count": 17,
   "metadata": {},
   "outputs": [],
   "source": [
    "# Extract channel label, theta, arc length\n",
    "num_channel = chanlocs.shape[1]\n",
    "chan_label, chan_theta, chan_arc_length = [], [], []\n",
    "\n",
    "for i in range(num_channel):\n",
    "    chan_label.append(chanlocs[0,i][0][0])\n",
    "    chan_theta.append(chanlocs[0,i][1][0,0])\n",
    "    chan_arc_length.append(chanlocs[0,i][2][0,0])\n",
    "    \n",
    "# create dataframe for them\n",
    "d = {'label':chan_label, 'theta':chan_theta, 'arc_length':chan_arc_length}\n",
    "channels = pd.DataFrame(data=d)"
   ]
  },
  {
   "cell_type": "code",
   "execution_count": 22,
   "metadata": {},
   "outputs": [],
   "source": [
    "channels.to_csv('./Channel_coordinate/%s_channels.csv'%(fileName))"
   ]
  },
  {
   "cell_type": "code",
   "execution_count": 23,
   "metadata": {},
   "outputs": [],
   "source": [
    "A = pd.read_csv('./Channel_coordinate/%s_channels.csv'%(fileName))"
   ]
  },
  {
   "cell_type": "code",
   "execution_count": 25,
   "metadata": {},
   "outputs": [],
   "source": [
    "A = [1,3,5]"
   ]
  },
  {
   "cell_type": "code",
   "execution_count": 26,
   "metadata": {},
   "outputs": [
    {
     "name": "stdout",
     "output_type": "stream",
     "text": [
      "0\n",
      "1\n",
      "1\n",
      "3\n",
      "2\n",
      "5\n"
     ]
    }
   ],
   "source": [
    "for i, a in enumerate(A):\n",
    "    print(i)\n",
    "    print(a)"
   ]
  },
  {
   "cell_type": "code",
   "execution_count": 29,
   "metadata": {},
   "outputs": [
    {
     "data": {
      "text/plain": [
       "array([[array([[0.5]]), array(['0'], dtype='<U1')],\n",
       "       [array([[256]], dtype=uint16), array(['505'], dtype='<U3')],\n",
       "       [array([[773.5]]), array(['3'], dtype='<U1')],\n",
       "       [array([[2644.5]]), array(['501'], dtype='<U3')],\n",
       "       [array([[2900]], dtype=uint16), array(['0'], dtype='<U1')],\n",
       "       [array([[3027.5]]), array(['505'], dtype='<U3')],\n",
       "       [array([[3542]], dtype=uint16), array(['1'], dtype='<U1')],\n",
       "       [array([[6634.5]]), array(['501'], dtype='<U3')],\n",
       "       [array([[6890]], dtype=uint16), array(['0'], dtype='<U1')],\n",
       "       [array([[7017.5]]), array(['505'], dtype='<U3')],\n",
       "       [array([[7531]], dtype=uint16), array(['2'], dtype='<U1')],\n",
       "       [array([[8205.5]]), array(['501'], dtype='<U3')],\n",
       "       [array([[8461]], dtype=uint16), array(['0'], dtype='<U1')],\n",
       "       [array([[8588.5]]), array(['505'], dtype='<U3')],\n",
       "       [array([[9103.5]]), array(['1'], dtype='<U1')],\n",
       "       [array([[9764.5]]), array(['501'], dtype='<U3')],\n",
       "       [array([[10020]], dtype=uint16), array(['0'], dtype='<U1')],\n",
       "       [array([[10147.5]]), array(['505'], dtype='<U3')],\n",
       "       [array([[10661]], dtype=uint16), array(['1'], dtype='<U1')],\n",
       "       [array([[11849.5]]), array(['501'], dtype='<U3')],\n",
       "       [array([[12105]], dtype=uint16), array(['0'], dtype='<U1')],\n",
       "       [array([[12232.5]]), array(['505'], dtype='<U3')],\n",
       "       [array([[12747]], dtype=uint16), array(['2'], dtype='<U1')],\n",
       "       [array([[45095.5]]), array(['501'], dtype='<U3')],\n",
       "       [array([[45351]], dtype=uint16), array(['0'], dtype='<U1')],\n",
       "       [array([[45478.5]]), array(['505'], dtype='<U3')],\n",
       "       [array([[45993]], dtype=uint16), array(['2'], dtype='<U1')],\n",
       "       [array([[86347.5]]), array(['501'], dtype='<U3')],\n",
       "       [array([[86603]], dtype=int32), array(['0'], dtype='<U1')],\n",
       "       [array([[86730.5]]), array(['505'], dtype='<U3')],\n",
       "       [array([[87244.5]]), array(['3'], dtype='<U1')],\n",
       "       [array([[95405.5]]), array(['501'], dtype='<U3')],\n",
       "       [array([[95661]], dtype=int32), array(['0'], dtype='<U1')],\n",
       "       [array([[95788.5]]), array(['505'], dtype='<U3')],\n",
       "       [array([[96303]], dtype=int32), array(['2'], dtype='<U1')],\n",
       "       [array([[98434]], dtype=int32), array(['501'], dtype='<U3')],\n",
       "       [array([[98689.5]]), array(['0'], dtype='<U1')],\n",
       "       [array([[98817]], dtype=int32), array(['505'], dtype='<U3')],\n",
       "       [array([[99332.5]]), array(['3'], dtype='<U1')],\n",
       "       [array([[118258.5]]), array(['501'], dtype='<U3')],\n",
       "       [array([[118514]], dtype=int32), array(['0'], dtype='<U1')],\n",
       "       [array([[118641.5]]), array(['505'], dtype='<U3')],\n",
       "       [array([[119155.5]]), array(['1'], dtype='<U1')],\n",
       "       [array([[119715]], dtype=int32), array(['501'], dtype='<U3')],\n",
       "       [array([[119970.5]]), array(['0'], dtype='<U1')],\n",
       "       [array([[120098]], dtype=int32), array(['505'], dtype='<U3')],\n",
       "       [array([[120612]], dtype=int32), array(['1'], dtype='<U1')],\n",
       "       [array([[126457]], dtype=int32), array(['501'], dtype='<U3')],\n",
       "       [array([[126712.5]]), array(['0'], dtype='<U1')],\n",
       "       [array([[126840]], dtype=int32), array(['505'], dtype='<U3')],\n",
       "       [array([[127354.5]]), array(['3'], dtype='<U1')],\n",
       "       [array([[130864]], dtype=int32), array(['501'], dtype='<U3')],\n",
       "       [array([[131119.5]]), array(['0'], dtype='<U1')],\n",
       "       [array([[131247]], dtype=int32), array(['505'], dtype='<U3')],\n",
       "       [array([[131761.5]]), array(['2'], dtype='<U1')],\n",
       "       [array([[134356]], dtype=int32), array(['501'], dtype='<U3')],\n",
       "       [array([[134611.5]]), array(['0'], dtype='<U1')],\n",
       "       [array([[134739]], dtype=int32), array(['505'], dtype='<U3')],\n",
       "       [array([[135253.5]]), array(['1'], dtype='<U1')],\n",
       "       [array([[135775]], dtype=int32), array(['501'], dtype='<U3')],\n",
       "       [array([[136030.5]]), array(['0'], dtype='<U1')],\n",
       "       [array([[136158]], dtype=int32), array(['505'], dtype='<U3')],\n",
       "       [array([[136672]], dtype=int32), array(['3'], dtype='<U1')],\n",
       "       [array([[147816.5]]), array(['501'], dtype='<U3')],\n",
       "       [array([[148072]], dtype=int32), array(['0'], dtype='<U1')],\n",
       "       [array([[148199.5]]), array(['505'], dtype='<U3')],\n",
       "       [array([[148714.5]]), array(['2'], dtype='<U1')],\n",
       "       [array([[165009.5]]), array(['501'], dtype='<U3')],\n",
       "       [array([[165265]], dtype=int32), array(['0'], dtype='<U1')],\n",
       "       [array([[165392.5]]), array(['505'], dtype='<U3')],\n",
       "       [array([[165907]], dtype=int32), array(['2'], dtype='<U1')],\n",
       "       [array([[167014.5]]), array(['501'], dtype='<U3')],\n",
       "       [array([[167270]], dtype=int32), array(['0'], dtype='<U1')],\n",
       "       [array([[167397.5]]), array(['505'], dtype='<U3')],\n",
       "       [array([[167912]], dtype=int32), array(['3'], dtype='<U1')],\n",
       "       [array([[179853]], dtype=int32), array(['501'], dtype='<U3')],\n",
       "       [array([[180108.5]]), array(['0'], dtype='<U1')],\n",
       "       [array([[180236]], dtype=int32), array(['505'], dtype='<U3')],\n",
       "       [array([[180750.5]]), array(['3'], dtype='<U1')],\n",
       "       [array([[184825]], dtype=int32), array(['501'], dtype='<U3')],\n",
       "       [array([[185080.5]]), array(['0'], dtype='<U1')],\n",
       "       [array([[185208]], dtype=int32), array(['505'], dtype='<U3')],\n",
       "       [array([[185723]], dtype=int32), array(['1'], dtype='<U1')],\n",
       "       [array([[186566.5]]), array(['501'], dtype='<U3')],\n",
       "       [array([[186822]], dtype=int32), array(['0'], dtype='<U1')],\n",
       "       [array([[186949.5]]), array(['505'], dtype='<U3')],\n",
       "       [array([[187464]], dtype=int32), array(['1'], dtype='<U1')],\n",
       "       [array([[188369]], dtype=int32), array(['501'], dtype='<U3')],\n",
       "       [array([[188624.5]]), array(['0'], dtype='<U1')],\n",
       "       [array([[188752]], dtype=int32), array(['505'], dtype='<U3')],\n",
       "       [array([[189266]], dtype=int32), array(['1'], dtype='<U1')],\n",
       "       [array([[190512.5]]), array(['501'], dtype='<U3')],\n",
       "       [array([[190768]], dtype=int32), array(['0'], dtype='<U1')],\n",
       "       [array([[190895.5]]), array(['505'], dtype='<U3')],\n",
       "       [array([[191409]], dtype=int32), array(['2'], dtype='<U1')],\n",
       "       [array([[192384]], dtype=int32), array(['501'], dtype='<U3')],\n",
       "       [array([[192639.5]]), array(['0'], dtype='<U1')],\n",
       "       [array([[192767]], dtype=int32), array(['505'], dtype='<U3')],\n",
       "       [array([[193280.5]]), array(['3'], dtype='<U1')],\n",
       "       [array([[235492.5]]), array(['501'], dtype='<U3')],\n",
       "       [array([[235748]], dtype=int32), array(['0'], dtype='<U1')],\n",
       "       [array([[235875.5]]), array(['505'], dtype='<U3')],\n",
       "       [array([[236390]], dtype=int32), array(['2'], dtype='<U1')],\n",
       "       [array([[239326.5]]), array(['501'], dtype='<U3')],\n",
       "       [array([[239582]], dtype=int32), array(['0'], dtype='<U1')],\n",
       "       [array([[239709.5]]), array(['505'], dtype='<U3')],\n",
       "       [array([[240223.5]]), array(['1'], dtype='<U1')],\n",
       "       [array([[242889.5]]), array(['501'], dtype='<U3')],\n",
       "       [array([[243145]], dtype=int32), array(['0'], dtype='<U1')],\n",
       "       [array([[243272.5]]), array(['505'], dtype='<U3')],\n",
       "       [array([[243787]], dtype=int32), array(['2'], dtype='<U1')],\n",
       "       [array([[244667]], dtype=int32), array(['501'], dtype='<U3')],\n",
       "       [array([[244922.5]]), array(['0'], dtype='<U1')],\n",
       "       [array([[245050]], dtype=int32), array(['505'], dtype='<U3')],\n",
       "       [array([[245564]], dtype=int32), array(['2'], dtype='<U1')],\n",
       "       [array([[248021.5]]), array(['501'], dtype='<U3')],\n",
       "       [array([[248277]], dtype=int32), array(['0'], dtype='<U1')],\n",
       "       [array([[248404.5]]), array(['505'], dtype='<U3')],\n",
       "       [array([[248921]], dtype=int32), array(['1'], dtype='<U1')],\n",
       "       [array([[249764]], dtype=int32), array(['501'], dtype='<U3')],\n",
       "       [array([[250019.5]]), array(['0'], dtype='<U1')],\n",
       "       [array([[250147]], dtype=int32), array(['505'], dtype='<U3')],\n",
       "       [array([[250661.5]]), array(['1'], dtype='<U1')],\n",
       "       [array([[252148]], dtype=int32), array(['501'], dtype='<U3')],\n",
       "       [array([[252403.5]]), array(['0'], dtype='<U1')],\n",
       "       [array([[252531]], dtype=int32), array(['505'], dtype='<U3')],\n",
       "       [array([[253045]], dtype=int32), array(['2'], dtype='<U1')],\n",
       "       [array([[253790.5]]), array(['501'], dtype='<U3')],\n",
       "       [array([[254046]], dtype=int32), array(['0'], dtype='<U1')],\n",
       "       [array([[254173.5]]), array(['505'], dtype='<U3')],\n",
       "       [array([[254687.5]]), array(['2'], dtype='<U1')],\n",
       "       [array([[256835]], dtype=int32), array(['501'], dtype='<U3')],\n",
       "       [array([[257090.5]]), array(['0'], dtype='<U1')],\n",
       "       [array([[257218]], dtype=int32), array(['505'], dtype='<U3')],\n",
       "       [array([[257732.5]]), array(['2'], dtype='<U1')],\n",
       "       [array([[259997.5]]), array(['501'], dtype='<U3')],\n",
       "       [array([[260253]], dtype=int32), array(['0'], dtype='<U1')],\n",
       "       [array([[260380.5]]), array(['505'], dtype='<U3')],\n",
       "       [array([[260894.5]]), array(['2'], dtype='<U1')],\n",
       "       [array([[262661.5]]), array(['501'], dtype='<U3')],\n",
       "       [array([[262917]], dtype=int32), array(['0'], dtype='<U1')],\n",
       "       [array([[263044.5]]), array(['505'], dtype='<U3')],\n",
       "       [array([[263559]], dtype=int32), array(['2'], dtype='<U1')],\n",
       "       [array([[265836]], dtype=int32), array(['501'], dtype='<U3')],\n",
       "       [array([[266091.5]]), array(['0'], dtype='<U1')],\n",
       "       [array([[266219]], dtype=int32), array(['505'], dtype='<U3')],\n",
       "       [array([[266733.5]]), array(['2'], dtype='<U1')],\n",
       "       [array([[271060.5]]), array(['501'], dtype='<U3')],\n",
       "       [array([[271316]], dtype=int32), array(['0'], dtype='<U1')],\n",
       "       [array([[271443.5]]), array(['505'], dtype='<U3')],\n",
       "       [array([[271958]], dtype=int32), array(['2'], dtype='<U1')],\n",
       "       [array([[273792.5]]), array(['501'], dtype='<U3')],\n",
       "       [array([[274048]], dtype=int32), array(['0'], dtype='<U1')],\n",
       "       [array([[274175.5]]), array(['505'], dtype='<U3')],\n",
       "       [array([[274689.5]]), array(['2'], dtype='<U1')],\n",
       "       [array([[275209.5]]), array(['501'], dtype='<U3')],\n",
       "       [array([[275465]], dtype=int32), array(['0'], dtype='<U1')],\n",
       "       [array([[275592.5]]), array(['505'], dtype='<U3')],\n",
       "       [array([[276106.5]]), array(['1'], dtype='<U1')],\n",
       "       [array([[277061.5]]), array(['501'], dtype='<U3')],\n",
       "       [array([[277317]], dtype=int32), array(['0'], dtype='<U1')],\n",
       "       [array([[277444.5]]), array(['505'], dtype='<U3')],\n",
       "       [array([[277959]], dtype=int32), array(['3'], dtype='<U1')],\n",
       "       [array([[288233]], dtype=int32), array(['501'], dtype='<U3')],\n",
       "       [array([[288488.5]]), array(['0'], dtype='<U1')],\n",
       "       [array([[288616]], dtype=int32), array(['505'], dtype='<U3')],\n",
       "       [array([[289130]], dtype=int32), array(['2'], dtype='<U1')],\n",
       "       [array([[290186.5]]), array(['501'], dtype='<U3')],\n",
       "       [array([[290442]], dtype=int32), array(['0'], dtype='<U1')],\n",
       "       [array([[290569.5]]), array(['505'], dtype='<U3')],\n",
       "       [array([[291083.5]]), array(['2'], dtype='<U1')],\n",
       "       [array([[297299.5]]), array(['501'], dtype='<U3')],\n",
       "       [array([[297555]], dtype=int32), array(['0'], dtype='<U1')],\n",
       "       [array([[297682.5]]), array(['505'], dtype='<U3')],\n",
       "       [array([[298197]], dtype=int32), array(['1'], dtype='<U1')],\n",
       "       [array([[298528.5]]), array(['501'], dtype='<U3')],\n",
       "       [array([[298784]], dtype=int32), array(['0'], dtype='<U1')],\n",
       "       [array([[298911.5]]), array(['505'], dtype='<U3')],\n",
       "       [array([[299426.5]]), array(['1'], dtype='<U1')],\n",
       "       [array([[301819.5]]), array(['501'], dtype='<U3')],\n",
       "       [array([[302075]], dtype=int32), array(['0'], dtype='<U1')],\n",
       "       [array([[302202.5]]), array(['505'], dtype='<U3')],\n",
       "       [array([[302716]], dtype=int32), array(['3'], dtype='<U1')],\n",
       "       [array([[306969.5]]), array(['501'], dtype='<U3')],\n",
       "       [array([[307225]], dtype=int32), array(['0'], dtype='<U1')],\n",
       "       [array([[307352.5]]), array(['505'], dtype='<U3')],\n",
       "       [array([[307867]], dtype=int32), array(['1'], dtype='<U1')],\n",
       "       [array([[308482.5]]), array(['501'], dtype='<U3')],\n",
       "       [array([[308738]], dtype=int32), array(['0'], dtype='<U1')],\n",
       "       [array([[308865.5]]), array(['505'], dtype='<U3')],\n",
       "       [array([[309380]], dtype=int32), array(['2'], dtype='<U1')],\n",
       "       [array([[312640]], dtype=int32), array(['501'], dtype='<U3')],\n",
       "       [array([[312895.5]]), array(['0'], dtype='<U1')],\n",
       "       [array([[313023]], dtype=int32), array(['505'], dtype='<U3')],\n",
       "       [array([[313537.5]]), array(['3'], dtype='<U1')],\n",
       "       [array([[357334.5]]), array(['501'], dtype='<U3')],\n",
       "       [array([[357590]], dtype=int32), array(['0'], dtype='<U1')],\n",
       "       [array([[357717.5]]), array(['505'], dtype='<U3')],\n",
       "       [array([[358232]], dtype=int32), array(['2'], dtype='<U1')],\n",
       "       [array([[369175.5]]), array(['501'], dtype='<U3')],\n",
       "       [array([[369431]], dtype=int32), array(['0'], dtype='<U1')],\n",
       "       [array([[369558.5]]), array(['505'], dtype='<U3')],\n",
       "       [array([[370072]], dtype=int32), array(['3'], dtype='<U1')],\n",
       "       [array([[406402]], dtype=int32), array(['501'], dtype='<U3')],\n",
       "       [array([[406657.5]]), array(['0'], dtype='<U1')],\n",
       "       [array([[406785]], dtype=int32), array(['505'], dtype='<U3')],\n",
       "       [array([[407299]], dtype=int32), array(['1'], dtype='<U1')],\n",
       "       [array([[408196]], dtype=int32), array(['501'], dtype='<U3')],\n",
       "       [array([[408451.5]]), array(['0'], dtype='<U1')],\n",
       "       [array([[408579]], dtype=int32), array(['505'], dtype='<U3')],\n",
       "       [array([[409093]], dtype=int32), array(['3'], dtype='<U1')],\n",
       "       [array([[428220.5]]), array(['501'], dtype='<U3')],\n",
       "       [array([[428476]], dtype=int32), array(['0'], dtype='<U1')],\n",
       "       [array([[428603.5]]), array(['505'], dtype='<U3')],\n",
       "       [array([[429118]], dtype=int32), array(['1'], dtype='<U1')],\n",
       "       [array([[431806.5]]), array(['501'], dtype='<U3')],\n",
       "       [array([[432062]], dtype=int32), array(['0'], dtype='<U1')],\n",
       "       [array([[432189.5]]), array(['505'], dtype='<U3')],\n",
       "       [array([[432704.5]]), array(['1'], dtype='<U1')],\n",
       "       [array([[438884.5]]), array(['501'], dtype='<U3')],\n",
       "       [array([[439140]], dtype=int32), array(['0'], dtype='<U1')],\n",
       "       [array([[439267.5]]), array(['505'], dtype='<U3')],\n",
       "       [array([[439781.5]]), array(['2'], dtype='<U1')],\n",
       "       [array([[440926.5]]), array(['501'], dtype='<U3')],\n",
       "       [array([[441182]], dtype=int32), array(['0'], dtype='<U1')],\n",
       "       [array([[441309.5]]), array(['505'], dtype='<U3')],\n",
       "       [array([[441824]], dtype=int32), array(['3'], dtype='<U1')],\n",
       "       [array([[443523.5]]), array(['501'], dtype='<U3')],\n",
       "       [array([[443779]], dtype=int32), array(['0'], dtype='<U1')],\n",
       "       [array([[443906.5]]), array(['505'], dtype='<U3')],\n",
       "       [array([[444420.5]]), array(['2'], dtype='<U1')],\n",
       "       [array([[445964.5]]), array(['501'], dtype='<U3')],\n",
       "       [array([[446220]], dtype=int32), array(['0'], dtype='<U1')],\n",
       "       [array([[446347.5]]), array(['505'], dtype='<U3')],\n",
       "       [array([[446861.5]]), array(['2'], dtype='<U1')],\n",
       "       [array([[449579]], dtype=int32), array(['501'], dtype='<U3')],\n",
       "       [array([[449834.5]]), array(['0'], dtype='<U1')],\n",
       "       [array([[449962]], dtype=int32), array(['505'], dtype='<U3')],\n",
       "       [array([[450476.5]]), array(['2'], dtype='<U1')],\n",
       "       [array([[452055]], dtype=int32), array(['501'], dtype='<U3')],\n",
       "       [array([[452310.5]]), array(['0'], dtype='<U1')],\n",
       "       [array([[452438]], dtype=int32), array(['505'], dtype='<U3')],\n",
       "       [array([[452952.5]]), array(['2'], dtype='<U1')],\n",
       "       [array([[456657]], dtype=int32), array(['501'], dtype='<U3')],\n",
       "       [array([[456912.5]]), array(['0'], dtype='<U1')],\n",
       "       [array([[457040]], dtype=int32), array(['505'], dtype='<U3')],\n",
       "       [array([[457554]], dtype=int32), array(['3'], dtype='<U1')],\n",
       "       [array([[464427]], dtype=int32), array(['501'], dtype='<U3')],\n",
       "       [array([[464682.5]]), array(['0'], dtype='<U1')],\n",
       "       [array([[464810]], dtype=int32), array(['505'], dtype='<U3')],\n",
       "       [array([[465324]], dtype=int32), array(['2'], dtype='<U1')],\n",
       "       [array([[478107]], dtype=int32), array(['501'], dtype='<U3')],\n",
       "       [array([[478362.5]]), array(['0'], dtype='<U1')],\n",
       "       [array([[478490]], dtype=int32), array(['505'], dtype='<U3')],\n",
       "       [array([[479004.5]]), array(['2'], dtype='<U1')],\n",
       "       [array([[488676.5]]), array(['501'], dtype='<U3')],\n",
       "       [array([[488932]], dtype=int32), array(['0'], dtype='<U1')],\n",
       "       [array([[489059.5]]), array(['505'], dtype='<U3')],\n",
       "       [array([[489573]], dtype=int32), array(['1'], dtype='<U1')],\n",
       "       [array([[490308.5]]), array(['501'], dtype='<U3')],\n",
       "       [array([[490564]], dtype=int32), array(['0'], dtype='<U1')],\n",
       "       [array([[490691.5]]), array(['505'], dtype='<U3')],\n",
       "       [array([[491205]], dtype=int32), array(['2'], dtype='<U1')],\n",
       "       [array([[491975]], dtype=int32), array(['501'], dtype='<U3')],\n",
       "       [array([[492230.5]]), array(['0'], dtype='<U1')],\n",
       "       [array([[492358]], dtype=int32), array(['505'], dtype='<U3')],\n",
       "       [array([[492872]], dtype=int32), array(['2'], dtype='<U1')],\n",
       "       [array([[495886.5]]), array(['501'], dtype='<U3')],\n",
       "       [array([[496142]], dtype=int32), array(['0'], dtype='<U1')],\n",
       "       [array([[496269.5]]), array(['505'], dtype='<U3')],\n",
       "       [array([[496783.5]]), array(['3'], dtype='<U1')],\n",
       "       [array([[522644.5]]), array(['501'], dtype='<U3')],\n",
       "       [array([[522900]], dtype=int32), array(['0'], dtype='<U1')],\n",
       "       [array([[523027.5]]), array(['505'], dtype='<U3')],\n",
       "       [array([[523542]], dtype=int32), array(['2'], dtype='<U1')],\n",
       "       [array([[526162.5]]), array(['501'], dtype='<U3')],\n",
       "       [array([[526418]], dtype=int32), array(['0'], dtype='<U1')],\n",
       "       [array([[526545.5]]), array(['505'], dtype='<U3')],\n",
       "       [array([[527059.5]]), array(['2'], dtype='<U1')],\n",
       "       [array([[530037.5]]), array(['501'], dtype='<U3')],\n",
       "       [array([[530293]], dtype=int32), array(['0'], dtype='<U1')],\n",
       "       [array([[530420.5]]), array(['505'], dtype='<U3')],\n",
       "       [array([[530935.5]]), array(['3'], dtype='<U1')],\n",
       "       [array([[561498]], dtype=int32), array(['501'], dtype='<U3')],\n",
       "       [array([[561753.5]]), array(['0'], dtype='<U1')],\n",
       "       [array([[561881]], dtype=int32), array(['505'], dtype='<U3')],\n",
       "       [array([[562396]], dtype=int32), array(['1'], dtype='<U1')],\n",
       "       [array([[562911.5]]), array(['501'], dtype='<U3')],\n",
       "       [array([[563167]], dtype=int32), array(['0'], dtype='<U1')],\n",
       "       [array([[563294.5]]), array(['505'], dtype='<U3')],\n",
       "       [array([[563808.5]]), array(['2'], dtype='<U1')],\n",
       "       [array([[570277.5]]), array(['501'], dtype='<U3')],\n",
       "       [array([[570533]], dtype=int32), array(['0'], dtype='<U1')],\n",
       "       [array([[570660.5]]), array(['505'], dtype='<U3')],\n",
       "       [array([[571175]], dtype=int32), array(['3'], dtype='<U1')],\n",
       "       [array([[571922.5]]), array(['501'], dtype='<U3')],\n",
       "       [array([[572178]], dtype=int32), array(['0'], dtype='<U1')],\n",
       "       [array([[572305.5]]), array(['505'], dtype='<U3')],\n",
       "       [array([[572819.5]]), array(['1'], dtype='<U1')],\n",
       "       [array([[575240]], dtype=int32), array(['501'], dtype='<U3')],\n",
       "       [array([[575495.5]]), array(['0'], dtype='<U1')],\n",
       "       [array([[575623]], dtype=int32), array(['505'], dtype='<U3')],\n",
       "       [array([[576136.5]]), array(['2'], dtype='<U1')],\n",
       "       [array([[577382]], dtype=int32), array(['501'], dtype='<U3')],\n",
       "       [array([[577637.5]]), array(['0'], dtype='<U1')],\n",
       "       [array([[577765]], dtype=int32), array(['505'], dtype='<U3')],\n",
       "       [array([[578279.5]]), array(['3'], dtype='<U1')],\n",
       "       [array([[582725]], dtype=int32), array(['501'], dtype='<U3')],\n",
       "       [array([[582980.5]]), array(['0'], dtype='<U1')],\n",
       "       [array([[583108]], dtype=int32), array(['505'], dtype='<U3')],\n",
       "       [array([[583622]], dtype=int32), array(['2'], dtype='<U1')],\n",
       "       [array([[587068.5]]), array(['501'], dtype='<U3')],\n",
       "       [array([[587324]], dtype=int32), array(['0'], dtype='<U1')],\n",
       "       [array([[587451.5]]), array(['505'], dtype='<U3')],\n",
       "       [array([[587966]], dtype=int32), array(['1'], dtype='<U1')],\n",
       "       [array([[592916]], dtype=int32), array(['501'], dtype='<U3')],\n",
       "       [array([[593171.5]]), array(['0'], dtype='<U1')],\n",
       "       [array([[593299]], dtype=int32), array(['505'], dtype='<U3')],\n",
       "       [array([[593813.5]]), array(['1'], dtype='<U1')],\n",
       "       [array([[594863.5]]), array(['501'], dtype='<U3')],\n",
       "       [array([[596143]], dtype=int32), array(['0'], dtype='<U1')]],\n",
       "      dtype=object)"
      ]
     },
     "execution_count": 29,
     "metadata": {},
     "output_type": "execute_result"
    }
   ],
   "source": [
    "events"
   ]
  },
  {
   "cell_type": "code",
   "execution_count": 24,
   "metadata": {},
   "outputs": [
    {
     "data": {
      "text/html": [
       "<div>\n",
       "<style scoped>\n",
       "    .dataframe tbody tr th:only-of-type {\n",
       "        vertical-align: middle;\n",
       "    }\n",
       "\n",
       "    .dataframe tbody tr th {\n",
       "        vertical-align: top;\n",
       "    }\n",
       "\n",
       "    .dataframe thead th {\n",
       "        text-align: right;\n",
       "    }\n",
       "</style>\n",
       "<table border=\"1\" class=\"dataframe\">\n",
       "  <thead>\n",
       "    <tr style=\"text-align: right;\">\n",
       "      <th></th>\n",
       "      <th>Unnamed: 0</th>\n",
       "      <th>label</th>\n",
       "      <th>theta</th>\n",
       "      <th>arc_length</th>\n",
       "    </tr>\n",
       "  </thead>\n",
       "  <tbody>\n",
       "    <tr>\n",
       "      <th>0</th>\n",
       "      <td>0</td>\n",
       "      <td>A1</td>\n",
       "      <td>-27.224712</td>\n",
       "      <td>0.469855</td>\n",
       "    </tr>\n",
       "    <tr>\n",
       "      <th>1</th>\n",
       "      <td>1</td>\n",
       "      <td>A2</td>\n",
       "      <td>-35.351458</td>\n",
       "      <td>0.481330</td>\n",
       "    </tr>\n",
       "    <tr>\n",
       "      <th>2</th>\n",
       "      <td>2</td>\n",
       "      <td>A3</td>\n",
       "      <td>-33.804159</td>\n",
       "      <td>0.524365</td>\n",
       "    </tr>\n",
       "    <tr>\n",
       "      <th>3</th>\n",
       "      <td>3</td>\n",
       "      <td>A4</td>\n",
       "      <td>-41.068033</td>\n",
       "      <td>0.374972</td>\n",
       "    </tr>\n",
       "    <tr>\n",
       "      <th>4</th>\n",
       "      <td>4</td>\n",
       "      <td>A5</td>\n",
       "      <td>-48.141936</td>\n",
       "      <td>0.416668</td>\n",
       "    </tr>\n",
       "    <tr>\n",
       "      <th>...</th>\n",
       "      <td>...</td>\n",
       "      <td>...</td>\n",
       "      <td>...</td>\n",
       "      <td>...</td>\n",
       "    </tr>\n",
       "    <tr>\n",
       "      <th>123</th>\n",
       "      <td>123</td>\n",
       "      <td>D28</td>\n",
       "      <td>151.815690</td>\n",
       "      <td>0.551752</td>\n",
       "    </tr>\n",
       "    <tr>\n",
       "      <th>124</th>\n",
       "      <td>124</td>\n",
       "      <td>D29</td>\n",
       "      <td>135.795161</td>\n",
       "      <td>0.572686</td>\n",
       "    </tr>\n",
       "    <tr>\n",
       "      <th>125</th>\n",
       "      <td>125</td>\n",
       "      <td>D30</td>\n",
       "      <td>-134.479988</td>\n",
       "      <td>0.519932</td>\n",
       "    </tr>\n",
       "    <tr>\n",
       "      <th>126</th>\n",
       "      <td>126</td>\n",
       "      <td>D31</td>\n",
       "      <td>-148.339104</td>\n",
       "      <td>0.571811</td>\n",
       "    </tr>\n",
       "    <tr>\n",
       "      <th>127</th>\n",
       "      <td>127</td>\n",
       "      <td>D32</td>\n",
       "      <td>-129.969320</td>\n",
       "      <td>0.582356</td>\n",
       "    </tr>\n",
       "  </tbody>\n",
       "</table>\n",
       "<p>128 rows × 4 columns</p>\n",
       "</div>"
      ],
      "text/plain": [
       "     Unnamed: 0 label       theta  arc_length\n",
       "0             0    A1  -27.224712    0.469855\n",
       "1             1    A2  -35.351458    0.481330\n",
       "2             2    A3  -33.804159    0.524365\n",
       "3             3    A4  -41.068033    0.374972\n",
       "4             4    A5  -48.141936    0.416668\n",
       "..          ...   ...         ...         ...\n",
       "123         123   D28  151.815690    0.551752\n",
       "124         124   D29  135.795161    0.572686\n",
       "125         125   D30 -134.479988    0.519932\n",
       "126         126   D31 -148.339104    0.571811\n",
       "127         127   D32 -129.969320    0.582356\n",
       "\n",
       "[128 rows x 4 columns]"
      ]
     },
     "execution_count": 24,
     "metadata": {},
     "output_type": "execute_result"
    }
   ],
   "source": [
    "A"
   ]
  },
  {
   "cell_type": "markdown",
   "metadata": {},
   "source": [
    "## Epoch data"
   ]
  },
  {
   "cell_type": "code",
   "execution_count": 4,
   "metadata": {},
   "outputs": [
    {
     "name": "stdout",
     "output_type": "stream",
     "text": [
      "Number of event 1:  20\n",
      "Number of event 2:  33\n",
      "Number of event 3:  12\n"
     ]
    }
   ],
   "source": [
    "sampling_rate = 256\n",
    "num_epoch_1 = sum([1 if x[1]=='1' else 0 for x in events])\n",
    "num_epoch_2 = sum([1 if x[1]=='2' else 0 for x in events])\n",
    "num_epoch_3 = sum([1 if x[1]=='3' else 0 for x in events])\n",
    "X1 = np.zeros((num_epoch_1, num_channel, sampling_rate*2))\n",
    "Y1 = np.zeros(num_epoch_1)\n",
    "X2 = np.zeros((num_epoch_2, num_channel, sampling_rate*2))\n",
    "Y2 = np.zeros(num_epoch_2)\n",
    "X3 = np.zeros((num_epoch_3, num_channel, sampling_rate*2))\n",
    "Y3 = np.zeros(num_epoch_3)\n",
    "print('Number of event 1: ', num_epoch_1)\n",
    "print('Number of event 2: ', num_epoch_2)\n",
    "print('Number of event 3: ', num_epoch_3)"
   ]
  },
  {
   "cell_type": "code",
   "execution_count": 11,
   "metadata": {},
   "outputs": [
    {
     "name": "stdout",
     "output_type": "stream",
     "text": [
      "Shape of X1:  (20, 21, 512)\n",
      "Shape of X2:  (33, 21, 512)\n",
      "Shape of X3:  (12, 21, 512)\n"
     ]
    }
   ],
   "source": [
    "iter_event = np.zeros(3).astype('int')\n",
    "for i in range(events.shape[0]):\n",
    "    event = events[i]\n",
    "    event_time = int(event[0])\n",
    "    event_type = event[1]\n",
    "    \n",
    "    # Event 1\n",
    "    if event_type == '1':\n",
    "        X1[iter_event[0],:,:] = data[:, event_time-2*sampling_rate:event_time]\n",
    "        Y1[iter_event[0]] = int(events[i+1,0] - event_time)/sampling_rate\n",
    "        iter_event[0] += 1\n",
    "    # Event 2\n",
    "    elif event_type == '2':\n",
    "        X2[iter_event[1],:,:] = data[:, event_time-2*sampling_rate:event_time]\n",
    "        Y2[iter_event[1]] = int(events[i+1,0] - event_time)/sampling_rate\n",
    "        iter_event[1] += 1\n",
    "    # Event 3\n",
    "    elif event_type == '3':\n",
    "        X3[iter_event[2],:,:] = data[:, event_time-2*sampling_rate:event_time]\n",
    "        Y3[iter_event[2]] = int(events[i+1,0] - event_time)/sampling_rate\n",
    "        iter_event[2] += 1\n",
    "        \n",
    "print('Shape of X1: ', X1.shape)\n",
    "print('Shape of X2: ', X2.shape)\n",
    "print('Shape of X3: ', X3.shape)"
   ]
  },
  {
   "cell_type": "markdown",
   "metadata": {},
   "source": [
    "## Bandpower example (Separate)"
   ]
  },
  {
   "cell_type": "code",
   "execution_count": 2,
   "metadata": {},
   "outputs": [
    {
     "name": "stdout",
     "output_type": "stream",
     "text": [
      "Event 1 X shape:  (324, 21, 512)\n",
      "Event 2 X shape:  (546, 21, 512)\n",
      "Event 3 X shape:  (226, 21, 512)\n",
      "Combined X shape:  (1096, 21, 512)\n"
     ]
    }
   ],
   "source": [
    "X, Y = dl.read_data([1,2,3])"
   ]
  },
  {
   "cell_type": "code",
   "execution_count": 7,
   "metadata": {},
   "outputs": [
    {
     "name": "stdout",
     "output_type": "stream",
     "text": [
      "(512,)\n",
      "(65,)\n",
      "(65,)\n"
     ]
    },
    {
     "data": {
      "image/png": "[encoded data removed]",
      "text/plain": [
       "<Figure size 576x288 with 1 Axes>"
      ]
     },
     "metadata": {},
     "output_type": "display_data"
    }
   ],
   "source": [
    "fs = 256\n",
    "sample = X[525,12,:]\n",
    "print(sample.shape)\n",
    "# Define window length\n",
    "win = 0.5*fs\n",
    "freqs, psd = signal.welch(sample, fs, nperseg=win, noverlap=win/2)\n",
    "print(freqs.shape)\n",
    "print(psd.shape)\n",
    "\n",
    "# Plot the power spectrum\n",
    "\n",
    "sns.set(font_scale=1.2, style='white')\n",
    "plt.figure(figsize=(8, 4))\n",
    "plt.plot(freqs, psd, color='k', lw=2)\n",
    "plt.xlabel('Frequency (Hz)')\n",
    "plt.ylabel('Power spectral density (V^2 / Hz)')\n",
    "plt.ylim([0, psd.max() * 1.1])\n",
    "plt.title(\"Welch's periodogram\")\n",
    "plt.xlim([0, freqs.max()])\n",
    "sns.despine()\n"
   ]
  },
  {
   "cell_type": "code",
   "execution_count": 12,
   "metadata": {},
   "outputs": [
    {
     "data": {
      "image/png": "[encoded data removed]",
      "text/plain": [
       "<Figure size 504x288 with 1 Axes>"
      ]
     },
     "metadata": {},
     "output_type": "display_data"
    }
   ],
   "source": [
    "# Define lower and upper bounds\n",
    "low, high = 13, 30\n",
    "\n",
    "# Find intersecting values in frequency vector\n",
    "idx_theta = np.logical_and(freqs >= low, freqs <= high)\n",
    "\n",
    "# Plot the power spectral density and fill the delta area\n",
    "plt.figure(figsize=(7, 4))\n",
    "plt.plot(freqs, psd, lw=2, color='k')\n",
    "plt.fill_between(freqs, psd, where=idx_theta, color='skyblue')\n",
    "plt.xlabel('Frequency (Hz)')\n",
    "plt.ylabel('Power spectral density (uV^2 / Hz)')\n",
    "plt.xlim([0, 10])\n",
    "plt.ylim([0, psd.max() * 1.1])\n",
    "plt.title(\"Welch's periodogram\")\n",
    "sns.despine()"
   ]
  },
  {
   "cell_type": "code",
   "execution_count": 13,
   "metadata": {},
   "outputs": [
    {
     "name": "stdout",
     "output_type": "stream",
     "text": [
      "Absolute delta power: 1.332 uV^2\n"
     ]
    }
   ],
   "source": [
    "# Frequency resolution\n",
    "freq_res = freqs[1] - freqs[0]  # = 1 / 4 = 0.25\n",
    "\n",
    "# Compute the absolute power by approximating the area under the curve\n",
    "delta_power = simps(psd[idx_theta], dx=freq_res)\n",
    "print('Absolute delta power: %.3f uV^2' % delta_power)"
   ]
  },
  {
   "cell_type": "markdown",
   "metadata": {},
   "source": [
    "## Calculate theta, alpha, beta bandpower (Together)"
   ]
  },
  {
   "cell_type": "code",
   "execution_count": 2,
   "metadata": {},
   "outputs": [
    {
     "name": "stdout",
     "output_type": "stream",
     "text": [
      "Event 1 X shape:  (324, 21, 512)\n",
      "Event 2 X shape:  (546, 21, 512)\n",
      "Event 3 X shape:  (226, 21, 512)\n",
      "Combined X shape:  (1096, 21, 512)\n",
      "(65,)\n",
      "(1096, 21, 65)\n"
     ]
    }
   ],
   "source": [
    "X, Y = dl.read_data([1,2,3])\n",
    "fs = 256\n",
    "# Define window length\n",
    "win = 0.5*fs\n",
    "freqs, psd = signal.welch(X, fs, nperseg=win, noverlap=win/2)\n",
    "print(freqs.shape)\n",
    "print(psd.shape)"
   ]
  },
  {
   "cell_type": "code",
   "execution_count": 3,
   "metadata": {},
   "outputs": [],
   "source": [
    "# Define lower and upper bounds\n",
    "low, high = [4,7,13], [7,13,30]\n",
    "\n",
    "# Find intersecting values in frequency vector\n",
    "idx = np.logical_and(freqs[:,np.newaxis] >= low, freqs[:,np.newaxis] <= high)\n",
    "idx = idx.T   # (65,3)->(3,65)"
   ]
  },
  {
   "cell_type": "code",
   "execution_count": 5,
   "metadata": {},
   "outputs": [
    {
     "name": "stdout",
     "output_type": "stream",
     "text": [
      "(1096, 21, 3)\n"
     ]
    }
   ],
   "source": [
    "# Frequency resolution\n",
    "freq_res = freqs[1] - freqs[0]  # = 1/0.5 = 2\n",
    "\n",
    "# Compute the absolute power by approximating the area under the curve\n",
    "powers = np.zeros((X.shape[0],X.shape[1],3))\n",
    "for i in range(3):\n",
    "    idx_power = idx[i,:]\n",
    "    powers[:,:,i] = simps(psd[:,:,idx_power], dx=freq_res)\n",
    "\n",
    "print(powers.shape)"
   ]
  },
  {
   "cell_type": "code",
   "execution_count": 6,
   "metadata": {},
   "outputs": [
    {
     "name": "stdout",
     "output_type": "stream",
     "text": [
      "Absolute theta power: 0.222 uV^2\n",
      "Absolute alpha power: 0.291 uV^2\n",
      "Absolute beta power: 1.332 uV^2\n"
     ]
    }
   ],
   "source": [
    "print('Absolute theta power: %.3f uV^2' % powers[525, 12, 0])\n",
    "print('Absolute alpha power: %.3f uV^2' % powers[525, 12, 1])\n",
    "print('Absolute beta power: %.3f uV^2' % powers[525, 12, 2])"
   ]
  },
  {
   "cell_type": "markdown",
   "metadata": {},
   "source": [
    "## Test Dataloder"
   ]
  },
  {
   "cell_type": "code",
   "execution_count": 5,
   "metadata": {},
   "outputs": [],
   "source": [
    "import network_dataloader as ndl\n",
    "import torch\n",
    "from torchvision import models, transforms\n",
    "import torch.utils.data as Data\n",
    "import matplotlib.pyplot as plt"
   ]
  },
  {
   "cell_type": "code",
   "execution_count": 2,
   "metadata": {},
   "outputs": [
    {
     "name": "stdout",
     "output_type": "stream",
     "text": [
      "Initializing Datasets and Dataloaders...\n",
      "> Found 58 images...\n",
      "> Found 7 images...\n"
     ]
    }
   ],
   "source": [
    "batchSize = 10\n",
    "input_size = 224\n",
    "# Load Data\n",
    "data_transforms = {\n",
    "        'train': transforms.Compose([\n",
    "                ndl.Rescale(input_size),\n",
    "                ndl.ToTensor()]), \n",
    "        'test': transforms.Compose([\n",
    "                ndl.Rescale(input_size),\n",
    "                ndl.ToTensor()])\n",
    "        }\n",
    "\n",
    "print(\"Initializing Datasets and Dataloaders...\")\n",
    "\n",
    "# Create training and testing datasets\n",
    "image_datasets = {x: ndl.TopoplotLoader('images', x, data_transforms[x]) for x in ['train', 'test']}\n",
    "\n",
    "# Create training and testing dataloaders\n",
    "dataloaders_dict = {'train': Data.DataLoader(image_datasets['train'], batch_size=batchSize, shuffle=True, num_workers=4),\n",
    "                    'test':  Data.DataLoader(image_datasets['test'], batch_size=batchSize, shuffle=False, num_workers=4)}"
   ]
  },
  {
   "cell_type": "code",
   "execution_count": 3,
   "metadata": {},
   "outputs": [
    {
     "name": "stdout",
     "output_type": "stream",
     "text": [
      "torch.Size([7, 3, 224, 224])\n",
      "tensor([ 26.4258,  23.5195,   7.3984,   9.4297,   5.9844, 170.8711,   4.7344])\n"
     ]
    }
   ],
   "source": [
    "for samples in dataloaders_dict['test']:\n",
    "    print(samples['image'].shape)\n",
    "    print(samples['label'])"
   ]
  },
  {
   "cell_type": "code",
   "execution_count": 14,
   "metadata": {},
   "outputs": [
    {
     "data": {
      "text/plain": [
       "<matplotlib.image.AxesImage at 0x7f1414e7d320>"
      ]
     },
     "execution_count": 14,
     "metadata": {},
     "output_type": "execute_result"
    },
    {
     "data": {
      "image/png": "[encoded data removed]",
      "text/plain": [
       "<Figure size 432x288 with 1 Axes>"
      ]
     },
     "metadata": {
      "needs_background": "light"
     },
     "output_type": "display_data"
    }
   ],
   "source": [
    "image = samples['image'][0].numpy().transpose((1,2,0))\n",
    "plt.imshow(image)"
   ]
  },
  {
   "cell_type": "markdown",
   "metadata": {},
   "source": [
    "# Transform ICA into neural network"
   ]
  },
  {
   "cell_type": "code",
   "execution_count": 84,
   "metadata": {},
   "outputs": [],
   "source": [
    "class ICANN(nn.Module):\n",
    "    \n",
    "    def __init__(self, num_channel, V_weight, W_weight, V_bias):\n",
    "        super(ICANN, self).__init__()\n",
    "        self.V = nn.Linear(num_channel, num_channel)\n",
    "        self.W = nn.Linear(num_channel, num_channel, bias=False)\n",
    "        \n",
    "        # Initialize V by whitenting matrix and W by unmixing matrix\n",
    "        with torch.no_grad():\n",
    "            # Weight in Linear: (out_features, in_features)\n",
    "            self.V.weight = nn.Parameter(torch.FloatTensor(V_weight))\n",
    "            self.W.weight = nn.Parameter(torch.FloatTensor(W_weight))\n",
    "            self.V.bias = nn.Parameter(torch.FloatTensor(V_bias))\n",
    "        self.V.weight.requires_grad = False\n",
    "        self.W.weight.requires_grad = False\n",
    "        self.V.bias.requires_grad=False\n",
    "        \n",
    "    def forward(self, x):\n",
    "        \n",
    "        # Dimension of x: (batch, time, channel)\n",
    "        \n",
    "        x = self.V(x)\n",
    "        x = self.W(x)\n",
    "        \n",
    "        return x\n",
    "        \n",
    "def icann(data):\n",
    "    \n",
    "    # Shape of data: (time, channel)\n",
    "    num_channel = data.shape[1]\n",
    "    ica = FastICA(n_components=num_channel, random_state=23)\n",
    "    ica.fit(data)\n",
    "    \n",
    "    unmixing_matrix = ica.components_.dot(np.linalg.inv(ica.whitening_))\n",
    "    bias = -ica.whitening_.dot(ica.mean_)\n",
    "    \n",
    "    return ICANN(num_channel, ica.whitening_, unmixing_matrix, bias)\n",
    "    "
   ]
  },
  {
   "cell_type": "code",
   "execution_count": 86,
   "metadata": {},
   "outputs": [
    {
     "name": "stdout",
     "output_type": "stream",
     "text": [
      "Shape of S: (2000, 3), Shape of X: (2000, 3)\n"
     ]
    },
    {
     "data": {
      "image/png": "[encoded data removed]",
      "text/plain": [
       "<Figure size 360x792 with 5 Axes>"
      ]
     },
     "metadata": {
      "needs_background": "light"
     },
     "output_type": "display_data"
    }
   ],
   "source": [
    "# Generate source signal\n",
    "np.random.seed(0)\n",
    "n_samples = 2000\n",
    "time = np.linspace(0, 8, n_samples)\n",
    "s1 = np.sin(2 * time)+1\n",
    "s2 = np.sign(np.sin(3 * time))+1\n",
    "s3 = signal.sawtooth(2 * np.pi * time)+1\n",
    "S = np.c_[s1, s2, s3]\n",
    "\n",
    "# Add noise\n",
    "S += 0.2 * np.random.normal(size=S.shape)\n",
    "S /= S.std(axis=0)\n",
    "\n",
    "# Mix source signal\n",
    "A = np.array([[1, 1, 1], [0.5, 2, 1.0], [1.5, 1.0, 2.0]])\n",
    "X = np.dot(S, A.T)\n",
    "print('Shape of S: %s, Shape of X: %s'%(S.shape, X.shape))\n",
    "\n",
    "# Use ICA to seperate them\n",
    "ica = FastICA(n_components=3, random_state=23)\n",
    "ica.fit(X)\n",
    "S_1 = ica.transform(X)\n",
    "\n",
    "unmixing_matrix = ica.components_.dot(np.linalg.inv(ica.whitening_))\n",
    "#S_2 = unmixing_matrix.dot(ica.whitening_).dot((X-ica.mean_).T).T\n",
    "#S_2 = (X-ica.mean_).dot(ica.whitening_.T).dot(unmixing_matrix.T)\n",
    "S_2 = (X.dot(ica.whitening_.T)-ica.whitening_.dot(ica.mean_)).dot(unmixing_matrix.T)\n",
    "\n",
    "icann_model = icann(X)\n",
    "X_tensor = torch.FloatTensor(X.reshape((1,X.shape[0],X.shape[1])))\n",
    "S_3 = icann_model(X_tensor).detach().numpy()\n",
    "S_3 = S_3.reshape((S_3.shape[1],-1))\n",
    "\n",
    "fig = plt.figure(figsize=(5,11))\n",
    "models = [X, S, S_1,S_2, S_3]\n",
    "names = ['mixtures', 'real sources', 'predicted sources 1', 'predicted sources 2', 'predicted sources 3']\n",
    "colors = ['red', 'blue', 'orange']\n",
    "for i, (name, model) in enumerate(zip(names, models)):\n",
    "    plt.subplot(6, 1, i+1)\n",
    "    plt.title(name)\n",
    "    for sig, color in zip (model.T, colors):\n",
    "        plt.plot(sig, color=color)\n",
    "\n",
    "fig.tight_layout()        \n",
    "plt.show()"
   ]
  },
  {
   "cell_type": "markdown",
   "metadata": {},
   "source": [
    "# Test if rnn can classify three sine waves\n",
    "https://datascience.oneoffcoder.com/rnn-classify-signals.html"
   ]
  },
  {
   "cell_type": "code",
   "execution_count": 2,
   "metadata": {},
   "outputs": [],
   "source": [
    "def random_sin(a, f, p, start, stop, n, e_mean=0.0, e_var=0.02):\n",
    "    \"\"\"\n",
    "    Gets a sine wave according to y(t) = a sin(2*pi*f*t + p) + e, where\n",
    "\n",
    "    * a = amplitude\n",
    "    * f = frequency\n",
    "    * t = time\n",
    "    * p = phase\n",
    "    * e = error ~ N(e_mean, e_var); error is normally distributed with mean e_mean and variance e_var.\n",
    "\n",
    "    :param a: Amplitude.\n",
    "    :param f: Frequency.\n",
    "    :param p: Phase.\n",
    "    :param start: Start time (inclusive).\n",
    "    :param stop: Stop time (inclusive).\n",
    "    :param n: Number of samples to generate between start and stop.\n",
    "    :param e_mean: Error mean.\n",
    "    :param e_var: Error variance.\n",
    "    :return: Sine wave.\n",
    "    \"\"\"\n",
    "\n",
    "    def sin_of(a, f, p, t, e_mean=0.0, e_var=0.02):\n",
    "        \"\"\"\n",
    "        Gets a sine wave according to y(t) = a sin(2*pi*f*t + p) + e, where\n",
    "\n",
    "        * a = amplitude\n",
    "        * f = frequency\n",
    "        * t = time\n",
    "        * p = phase\n",
    "        * e = error ~ N(e_mean, e_var); error is normally distributed with mean e_mean and variance e_var.\n",
    "\n",
    "        :param a: Amplitude.\n",
    "        :param f: Frequency.\n",
    "        :param p: Phase.\n",
    "        :param t: Time.\n",
    "        :param e_mean: Error mean.\n",
    "        :param e_var: Error variance.\n",
    "        :return: Sine wave.\n",
    "        \"\"\"\n",
    "        return a * np.sin(2 * np.pi * f * t + p) + np.random.normal(e_mean, e_var)\n",
    "\n",
    "    return np.array([[t, sin_of(a, f, p, t, e_mean, e_var)] for t in np.linspace(start, stop, n)], dtype=np.float)\n",
    "\n",
    "def get_sin_samples(a, f, p, start, stop, n, total=100, e_mean=0.0, e_var=0.02):\n",
    "    \"\"\"\n",
    "    Gets a sample of sine waves according to y(t) = a sin(2*pi*f*t + p) + e, where\n",
    "\n",
    "    * a = amplitude\n",
    "    * f = frequency\n",
    "    * t = time\n",
    "    * p = phase\n",
    "    * e = error ~ N(e_mean, e_var); error is normally distributed with mean e_mean and variance e_var.\n",
    "\n",
    "    :param a: Amplitude.\n",
    "    :param f: Frequency.\n",
    "    :param p: Phase.\n",
    "    :param start: Start time (inclusive).\n",
    "    :param stop: Stop time (inclusive).\n",
    "    :param n: Number of samples to generate between start and stop.\n",
    "    :param total: Total number of samples.\n",
    "    :param e_mean: Error mean.\n",
    "    :param e_var: Error variance.\n",
    "    :return: A sample of sine waves.\n",
    "    \"\"\"\n",
    "    return [random_sin(a, f, p, start, stop, n, e_mean, e_var) for i in range(100)]"
   ]
  },
  {
   "cell_type": "code",
   "execution_count": 3,
   "metadata": {},
   "outputs": [
    {
     "data": {
      "text/plain": [
       "Text(0, 0.5, '$y(t)$')"
      ]
     },
     "execution_count": 3,
     "metadata": {},
     "output_type": "execute_result"
    },
    {
     "data": {
      "image/png": "[encoded data removed]",
      "text/plain": [
       "<Figure size 720x360 with 1 Axes>"
      ]
     },
     "metadata": {
      "needs_background": "light"
     },
     "output_type": "display_data"
    }
   ],
   "source": [
    "n = 100\n",
    "total = 100\n",
    "\n",
    "samples1 = get_sin_samples(a=1, f=10, p=0, start=0, stop=1, n=n, total=total)\n",
    "samples2 = get_sin_samples(a=2, f=10, p=0, start=0, stop=1, n=n, total=total)\n",
    "samples3 = get_sin_samples(a=1, f=5, p=0, start=0, stop=1, n=n, total=total)\n",
    "\n",
    "fig, ax = plt.subplots(figsize=(10, 5))\n",
    "\n",
    "ax.plot(samples1[0][:, 0], samples1[0][:, 1], 'r--', label='1', alpha=0.2)\n",
    "ax.plot(samples2[0][:, 0], samples2[0][:, 1], 'k:', label='2', alpha=0.5)\n",
    "ax.plot(samples3[0][:, 0], samples3[0][:, 1], 'k', label=3, alpha=0.7)\n",
    "ax.legend()\n",
    "ax.set_title('One sine wave from each sample')\n",
    "ax.set_xlabel(r'$t$ (time)')\n",
    "ax.set_ylabel(r'$y(t)$')"
   ]
  },
  {
   "cell_type": "code",
   "execution_count": 4,
   "metadata": {},
   "outputs": [
    {
     "name": "stdout",
     "output_type": "stream",
     "text": [
      "(300, 100)\n",
      "(300, 1)\n"
     ]
    }
   ],
   "source": [
    "x1 = np.array([samples1[i][:, 1] for i in range(len(samples1))], dtype=np.float)\n",
    "x2 = np.array([samples2[i][:, 1] for i in range(len(samples2))], dtype=np.float)\n",
    "x3 = np.array([samples3[i][:, 1] for i in range(len(samples3))], dtype=np.float)\n",
    "y1 = np.full((total, 1), 0)\n",
    "y2 = np.full((total, 1), 1)\n",
    "y3 = np.full((total, 1), 2)\n",
    "\n",
    "X = np.vstack([x1, x2, x3])\n",
    "y = np.vstack([y1, y2, y3])\n",
    "\n",
    "print(X.shape)\n",
    "print(y.shape)"
   ]
  },
  {
   "cell_type": "code",
   "execution_count": 11,
   "metadata": {},
   "outputs": [],
   "source": [
    "def signal_to_tensor(s, mode):\n",
    "    \"\"\"\n",
    "    Converts a signal to a tensor of type float with n x 1 x n dimension. (0)\n",
    "    Converts a signal to a tensor of type float with n x 1 x 1 dimension. (1)\n",
    "\n",
    "    :param s: A sine signal.\n",
    "    :return: A float tensor.\n",
    "    \"\"\"\n",
    "    device = torch.device('cuda') if torch.cuda.is_available() else torch.device('cpu')\n",
    "    n = len(s)\n",
    "    if mode == 0:\n",
    "        tensor = torch.zeros(n, 1, n, dtype=torch.float, device=device)\n",
    "        for t, y in enumerate(s):\n",
    "            tensor[t][0][t] = y\n",
    "    elif mode == 1:\n",
    "        tensor = torch.zeros(n, 1, 1, dtype=torch.float, device=device)\n",
    "        for t, y in enumerate(s):\n",
    "            tensor[t][0][0] = y\n",
    "    \n",
    "    \n",
    "    return tensor\n",
    "\n",
    "def category_to_tensor(y):\n",
    "    \"\"\"\n",
    "    Converts a category/class label to a tensor of type long with 1 x 1 dimension.\n",
    "\n",
    "    :param y: A label.\n",
    "    :return: A long tensor.\n",
    "    \"\"\"\n",
    "    device = torch.device('cuda') if torch.cuda.is_available() else torch.device('cpu')\n",
    "    return torch.tensor([y], dtype=torch.long, device=device)\n",
    "\n",
    "def random_example(X, y, mode):\n",
    "    \"\"\"\n",
    "    Picks a random sample from X and y. Note that X and y are numpy arrays\n",
    "    but the returned values will be tensors.\n",
    "\n",
    "    :param X: Matrix of sine waves.\n",
    "    :param y: Matrix of labels.\n",
    "    :return: A random sample from X, y that are tensors.\n",
    "    \"\"\"\n",
    "    idx = np.random.randint(low=0, high=X.shape[0]-1)\n",
    "    return get_example(X, y, idx, mode)\n",
    "\n",
    "def get_example(X, y, idx, mode):\n",
    "    \"\"\"\n",
    "    Selects the sample specified by `idx` and converts it to a pair of tensors.\n",
    "\n",
    "    :param X: Matrix of sine waves.\n",
    "    :param y: Matrix of labels.\n",
    "    :param idx: Index (or row) of the matrices to convert.\n",
    "    :return: A pair of tensors from X, y.\n",
    "    \"\"\"\n",
    "    X_ex = X[idx, :]\n",
    "    y_ex = y[idx, 0]\n",
    "\n",
    "    X_tensor = signal_to_tensor(X_ex, mode)\n",
    "    y_tensor = category_to_tensor(y_ex)\n",
    "\n",
    "    return X_tensor, y_tensor\n",
    "\n",
    "def train_one(X, y, rnn, criterion, learning_rate):\n",
    "    \"\"\"\n",
    "    Does training on one sample.\n",
    "\n",
    "    :param X: A tensor representing a sine wave.\n",
    "    :param y: A tensor representing a label.\n",
    "    :param rnn: A RNN model.\n",
    "    :param criterion: Loss function.\n",
    "    :param learning_rate: Learning rate.\n",
    "    :return: Returns the output prediction and loss.\n",
    "    \"\"\"\n",
    "    hidden = rnn.initHidden()\n",
    "\n",
    "    rnn.zero_grad()\n",
    "    for i in range(X.size()[0]):\n",
    "        output, hidden = rnn(X[i], hidden)\n",
    "\n",
    "    loss = criterion(output, y)\n",
    "    loss.backward()\n",
    "\n",
    "    for p in rnn.parameters():\n",
    "        p.data.add_(-learning_rate, p.grad.data)\n",
    "\n",
    "    return output, loss.item()\n",
    "\n",
    "class RNN(nn.Module):\n",
    "    def __init__(self, input_size, hidden_size, output_size):\n",
    "        super(RNN, self).__init__()\n",
    "\n",
    "        self.hidden_size = hidden_size\n",
    "\n",
    "        self.i2h = nn.Linear(input_size + hidden_size, hidden_size)\n",
    "        self.i2o = nn.Linear(input_size + hidden_size, output_size)\n",
    "        self.softmax = nn.LogSoftmax(dim=1)\n",
    "\n",
    "    def forward(self, data, hidden):\n",
    "        combined = torch.cat((data, hidden), 1)\n",
    "        hidden = self.i2h(combined)\n",
    "        output = self.i2o(combined)\n",
    "        output = self.softmax(output)\n",
    "        return output, hidden\n",
    "\n",
    "    def initHidden(self):\n",
    "        device = torch.device('cuda') if torch.cuda.is_available() else torch.device('cpu')\n",
    "        return torch.zeros(1, self.hidden_size, device=device)\n",
    "    \n",
    "def train_loop(X, y, rnn, criterion, learning_rate):\n",
    "    \"\"\"\n",
    "    Does training on one sample.\n",
    "\n",
    "    :param X: A tensor representing a sine wave.\n",
    "    :param y: A tensor representing a label.\n",
    "    :param rnn: A RNN model.\n",
    "    :param criterion: Loss function.\n",
    "    :param learning_rate: Learning rate.\n",
    "    :return: Returns the output prediction and loss.\n",
    "    \"\"\"\n",
    "    hidden = rnn.initHidden()\n",
    "\n",
    "    rnn.zero_grad()\n",
    "    output, hidden = rnn(X, hidden)\n",
    "\n",
    "    loss = criterion(output, y)\n",
    "    #optimizer.zero_grad()\n",
    "    loss.backward()\n",
    "    #optimizer.step()\n",
    "\n",
    "    \n",
    "    for p in rnn.parameters():\n",
    "        p.data.add_(-learning_rate, p.grad.data)\n",
    "    \n",
    "\n",
    "    return output, loss.item()\n",
    "    \n",
    "class RNN_LOOP(nn.Module):\n",
    "    '''\n",
    "    Train the entire sequence at a time\n",
    "    '''\n",
    "    def __init__(self, input_size, hidden_size, output_size):\n",
    "        super(RNN_LOOP, self).__init__()\n",
    "\n",
    "        self.hidden_size = hidden_size\n",
    "\n",
    "        self.i2h = nn.Linear(input_size + hidden_size, hidden_size)\n",
    "        self.i2o = nn.Linear(input_size + hidden_size, output_size)\n",
    "        self.softmax = nn.LogSoftmax(dim=1)\n",
    "\n",
    "    def forward(self, data, hidden):\n",
    "        \n",
    "        for data_t in data:\n",
    "            combined = torch.cat((data_t, hidden), 1)\n",
    "            hidden = self.i2h(combined)\n",
    "            \n",
    "        output = self.i2o(combined)\n",
    "        output = self.softmax(output)\n",
    "        return output, hidden\n",
    "\n",
    "    def initHidden(self):\n",
    "        device = torch.device('cuda') if torch.cuda.is_available() else torch.device('cpu')\n",
    "        return torch.zeros(1, self.hidden_size, device=device)\n",
    "        \n",
    "def train_pt(X, y, rnn, criterion, learning_rate):\n",
    "    \n",
    "    hidden = rnn.initHidden()\n",
    "\n",
    "    rnn.zero_grad()\n",
    "    output, hidden = rnn(X, hidden)\n",
    "\n",
    "    loss = criterion(output, y)\n",
    "    loss.backward()\n",
    "    \n",
    "    for p in rnn.parameters():\n",
    "        p.data.add_(p.grad.data, alpha=-learning_rate)\n",
    "\n",
    "    return output, loss.item()\n",
    "        \n",
    "class RNN_PYTORCH(nn.Module):\n",
    "    \n",
    "    def __init__(self, input_size, hidden_size, output_size):\n",
    "        \n",
    "        super(RNN_PYTORCH, self).__init__()\n",
    "        self.hidden_size = hidden_size\n",
    "        \n",
    "        self.rnn = nn.RNN(input_size, hidden_size)\n",
    "        self.fc = nn.Linear(hidden_size, output_size)\n",
    "        self.softmax = nn.LogSoftmax(dim=1)\n",
    "        \n",
    "    def forward(self, data, hidden):\n",
    "        \n",
    "        output, hn = self.rnn(data, hidden)\n",
    "        # Select last output\n",
    "        x = output[-1,:,:]\n",
    "        x = self.fc(x)\n",
    "        x = self.softmax(x)\n",
    "        \n",
    "        return x, hn\n",
    "    \n",
    "    def initHidden(self):\n",
    "        device = torch.device('cuda') if torch.cuda.is_available() else torch.device('cpu')\n",
    "        return torch.zeros(1, 1, self.hidden_size, device=device)\n",
    "        "
   ]
  },
  {
   "cell_type": "code",
   "execution_count": 20,
   "metadata": {},
   "outputs": [
    {
     "name": "stderr",
     "output_type": "stream",
     "text": [
      "100%|██████████| 700/700 [00:08<00:00, 80.68it/s]\n"
     ]
    }
   ],
   "source": [
    "from tqdm import tqdm\n",
    "\n",
    "device = torch.device('cuda') if torch.cuda.is_available() else torch.device('cpu')\n",
    "mode = 'pt'\n",
    "input_size = 1 if (mode=='pt') else n\n",
    "n_hidden = 128\n",
    "output_size = 3\n",
    "example_mode = 1 if (mode=='pt') else 0\n",
    "\n",
    "if mode == 'one':\n",
    "    rnn = RNN(input_size, n_hidden, output_size)\n",
    "elif mode == 'loop':\n",
    "    rnn = RNN_LOOP(input_size, n_hidden, output_size)\n",
    "elif mode == 'pt':\n",
    "    rnn = RNN_PYTORCH(input_size, n_hidden, output_size)\n",
    "rnn = rnn.to(device)\n",
    "\n",
    "criterion = nn.NLLLoss()\n",
    "learning_rate = 0.005\n",
    "optimizer = torch.optim.Adam(rnn.parameters(), lr=learning_rate)\n",
    "\n",
    "n_iters = 700\n",
    "plot_every = 5\n",
    "\n",
    "current_loss = 0\n",
    "losses = []\n",
    "iters = []\n",
    "\n",
    "for i in tqdm(range(1, n_iters + 1)):\n",
    "    X_tensor, y_tensor = random_example(X, y, example_mode)\n",
    "    X_tensor, y_tensor = X_tensor.to(device), y_tensor.to(device)\n",
    "    if mode == 'one':\n",
    "        output, loss = train_one(X_tensor, y_tensor, rnn, criterion, learning_rate)\n",
    "    elif mode == 'loop':\n",
    "        output, loss = train_loop(X_tensor, y_tensor, rnn, criterion, learning_rate)\n",
    "    elif mode == 'pt':\n",
    "        output, loss = train_pt(X_tensor, y_tensor, rnn, criterion, learning_rate)\n",
    "    current_loss += loss\n",
    "\n",
    "    if i % plot_every == 0:\n",
    "        losses.append(current_loss / plot_every)\n",
    "        iters.append(i)\n",
    "        current_loss = 0\n",
    "        "
   ]
  },
  {
   "cell_type": "code",
   "execution_count": 21,
   "metadata": {},
   "outputs": [
    {
     "data": {
      "text/plain": [
       "Text(0, 0.5, 'loss')"
      ]
     },
     "execution_count": 21,
     "metadata": {},
     "output_type": "execute_result"
    },
    {
     "data": {
      "image/png": "[encoded data removed]",
      "text/plain": [
       "<Figure size 720x360 with 1 Axes>"
      ]
     },
     "metadata": {
      "needs_background": "light"
     },
     "output_type": "display_data"
    }
   ],
   "source": [
    "fig, ax = plt.subplots(figsize=(10, 5))\n",
    "plt.plot(iters, losses, 'k--')\n",
    "ax.set_title('Loss over time')\n",
    "ax.set_xlabel(r'iteration')\n",
    "ax.set_ylabel(r'loss')"
   ]
  },
  {
   "cell_type": "code",
   "execution_count": 22,
   "metadata": {},
   "outputs": [],
   "source": [
    "def evaluate(X, rnn, mode):\n",
    "    hidden = rnn.initHidden()\n",
    "    if mode == 'one':\n",
    "        for i in range(X.size()[0]):\n",
    "            output, hidden = rnn(X[i], hidden)\n",
    "    elif mode in ['loop','pt']:\n",
    "        output, hidden = rnn(X, hidden)\n",
    "\n",
    "    return output\n",
    "\n",
    "def predict(X, rnn, n_predictions=3, mode='one'):\n",
    "    with torch.no_grad():\n",
    "        output = evaluate(X, rnn, mode)\n",
    "\n",
    "        topv, topi = output.topk(n_predictions, 1, True)\n",
    "        probs = np.zeros((1, n_predictions))\n",
    "\n",
    "        for i in range(n_predictions):\n",
    "            v = output[0][i].item()\n",
    "            c = output[0][i].item()\n",
    "            e = np.exp(v)\n",
    "            probs[0][i] = e\n",
    "\n",
    "        probs = probs / np.sum(probs)\n",
    "        return probs\n",
    "\n",
    "def predict_all(X, y, rnn, n_predictions=3, mode='one', example_mode=0):\n",
    "    y_pred = np.zeros((X.shape[0], n_predictions))\n",
    "    y_true = np.zeros((X.shape[0], n_predictions))\n",
    "\n",
    "    for r in range(X.shape[0]):\n",
    "        p = predict(signal_to_tensor(X[r, :], example_mode), rnn, mode=mode)\n",
    "        for c in range(n_predictions):\n",
    "            y_pred[r, c] = p[0, c]\n",
    "        y_true[r, y[r]] = 1.0\n",
    "    return y_true, y_pred"
   ]
  },
  {
   "cell_type": "code",
   "execution_count": 23,
   "metadata": {},
   "outputs": [
    {
     "name": "stdout",
     "output_type": "stream",
     "text": [
      "> Brier score\n",
      "0.03516: class 0\n",
      "0.02798: class 1\n",
      "0.00095: class 2\n",
      "\n",
      "> Multilabel ranking metrics\n",
      "1.00000: coverage error\n",
      "1.00000: label ranking average precision score\n",
      "0.00000: label ranking loss\n"
     ]
    }
   ],
   "source": [
    "y_true, y_pred = predict_all(X, y, rnn, mode=mode, example_mode=example_mode)\n",
    "\n",
    "from sklearn.metrics import brier_score_loss, roc_auc_score, coverage_error\n",
    "from sklearn.metrics import label_ranking_average_precision_score, label_ranking_loss\n",
    "\n",
    "bscore0 = brier_score_loss(y_true[:, 0], y_pred[:, 0])\n",
    "bscore1 = brier_score_loss(y_true[:, 1], y_pred[:, 1])\n",
    "bscore2 = brier_score_loss(y_true[:, 2], y_pred[:, 2])\n",
    "\n",
    "print('> Brier score')\n",
    "print(f'{bscore0:.5f}: class 0')\n",
    "print(f'{bscore1:.5f}: class 1')\n",
    "print(f'{bscore2:.5f}: class 2')\n",
    "\n",
    "cov_err = coverage_error(y_true, y_pred)\n",
    "avg_pre = label_ranking_average_precision_score(y_true, y_pred)\n",
    "rank_loss = label_ranking_loss(y_true, y_pred)\n",
    "\n",
    "print('')\n",
    "print('> Multilabel ranking metrics')\n",
    "print(f'{cov_err:.5f}: coverage error')\n",
    "print(f'{avg_pre:.5f}: label ranking average precision score')\n",
    "print(f'{rank_loss:.5f}: label ranking loss')"
   ]
  },
  {
   "cell_type": "markdown",
   "metadata": {},
   "source": [
    "# Freeze ICA layers"
   ]
  },
  {
   "cell_type": "code",
   "execution_count": 24,
   "metadata": {},
   "outputs": [],
   "source": [
    "from models import *"
   ]
  },
  {
   "cell_type": "code",
   "execution_count": 25,
   "metadata": {},
   "outputs": [
    {
     "name": "stdout",
     "output_type": "stream",
     "text": [
      "ICARNN(\n",
      "  (V): Linear(in_features=5, out_features=5, bias=True)\n",
      "  (W): Linear(in_features=5, out_features=5, bias=False)\n",
      "  (rnn): RNN(5, 32)\n",
      "  (fc): Linear(in_features=32, out_features=1, bias=True)\n",
      ")\n"
     ]
    }
   ],
   "source": [
    "train_data, train_target = np.random.rand(4,5,6), np.random.rand(4)\n",
    "model = icarnn(train_data, train_target, hidden_size=32, output_size=1)\n",
    "print(model)"
   ]
  },
  {
   "cell_type": "code",
   "execution_count": 33,
   "metadata": {},
   "outputs": [],
   "source": [
    "for name, item in model._modules.items():\n",
    "    if name in ['V','W']:\n",
    "        for p in item.parameters():\n",
    "            p.requires_grad = False"
   ]
  },
  {
   "cell_type": "code",
   "execution_count": 34,
   "metadata": {},
   "outputs": [
    {
     "name": "stdout",
     "output_type": "stream",
     "text": [
      "False\n",
      "False\n",
      "False\n"
     ]
    }
   ],
   "source": [
    "for name, item in model._modules.items():\n",
    "    if name in ['V','W']:\n",
    "        for p in item.parameters():\n",
    "            print(p.requires_grad)"
   ]
  },
  {
   "cell_type": "markdown",
   "metadata": {},
   "source": [
    "# Put subID in pytorch dataloader"
   ]
  },
  {
   "cell_type": "code",
   "execution_count": 38,
   "metadata": {},
   "outputs": [
    {
     "name": "stdout",
     "output_type": "stream",
     "text": [
      "After removing trials longer than 60s, X shape:  (1039, 21, 512)\n",
      "Arrange all the channels as the same order\n",
      "\n"
     ]
    }
   ],
   "source": [
    "import torch.utils.data as Data\n",
    "X,Y,_,S,D = raw_dataloader.read_data([1,2,3], range(11), channel_limit=21, rm_baseline=True)\n",
    "XTS,YTS,STS = map(torch.from_numpy, (X,Y,S))\n",
    "dataset = Data.TensorDataset(XTS,YTS,STS)\n",
    "loader = Data.DataLoader(dataset, batch_size=64, shuffle=True)"
   ]
  },
  {
   "cell_type": "code",
   "execution_count": 41,
   "metadata": {},
   "outputs": [
    {
     "name": "stdout",
     "output_type": "stream",
     "text": [
      "---0---\n",
      "tensor([ 5,  2,  0,  4,  3,  5,  8,  3, 10, 10,  3,  9,  6,  7,  6,  5,  1,  7,\n",
      "         2,  2,  2,  1,  6,  6, 10,  2,  3,  5,  2,  4,  8,  9,  3,  6,  0,  3,\n",
      "        10,  3,  6,  2,  1,  2, 10,  3,  6,  5,  8,  0,  8, 10,  3,  4,  5, 10,\n",
      "         2,  2, 10,  1,  6,  5,  5,  8,  5,  6])\n",
      "---1---\n",
      "tensor([ 4,  8,  6,  8,  1,  9,  8,  7,  9,  6,  1,  4, 10,  6,  3,  8,  1,  8,\n",
      "         7,  8,  3,  6,  9,  8,  6,  1,  3, 10,  0,  6,  8,  6,  7,  6,  5,  6,\n",
      "         8,  3,  5,  6,  9,  2,  7,  3,  8,  8,  2,  8,  6,  7,  3,  8, 10,  6,\n",
      "         1,  2,  3,  9,  6,  3,  5,  0,  2,  2])\n",
      "---2---\n",
      "tensor([ 7,  0,  0,  3,  8,  7,  4,  6,  2,  3,  6,  3,  5,  3,  5,  2,  8,  2,\n",
      "        10,  3,  5,  3,  1,  4,  8,  8,  5,  2,  2,  8,  6,  3,  8,  5,  8,  6,\n",
      "         6,  2,  5,  6,  2,  7,  1, 10,  4, 10,  6,  9,  4,  3,  2,  8,  4,  2,\n",
      "         8,  9,  8, 10,  2,  6,  3,  6,  5,  7])\n",
      "---3---\n",
      "tensor([ 7,  8,  1,  2,  6,  3,  3,  1,  2,  3,  2,  7,  8,  8,  2,  4,  8,  2,\n",
      "         8,  8,  5,  2,  1,  8,  2,  2,  3,  8,  6,  6,  4, 10,  8,  0,  5,  1,\n",
      "         2, 10,  4,  8, 10,  1,  2,  6,  1,  9,  7,  6,  0,  3,  3,  7,  5,  3,\n",
      "         2,  2,  8,  2,  3,  1,  4,  0,  1,  5])\n",
      "---4---\n",
      "tensor([ 9, 10,  2,  2,  2,  3,  0,  5,  0,  5,  9,  3,  2,  2,  0,  6,  6,  4,\n",
      "        10,  2,  5, 10,  1,  6,  2,  8,  0,  7,  1,  0,  5,  9,  9,  8,  2,  9,\n",
      "         8,  3,  8,  8,  8,  3, 10,  2, 10,  5,  3,  8,  6,  2,  7, 10,  2,  4,\n",
      "         6, 10,  7,  9,  3,  8,  3, 10,  2,  8])\n",
      "---5---\n",
      "tensor([ 9,  2,  6,  3,  8,  1,  0,  8,  5,  0,  8,  1,  9,  9,  6,  6,  9,  8,\n",
      "         1,  8,  2,  6,  0,  6,  8,  4,  7, 10,  3,  1,  2,  3,  8,  1,  2,  7,\n",
      "         6,  3,  3, 10,  2,  1,  9,  3,  6,  6,  3,  6,  3,  1,  2,  3,  6, 10,\n",
      "         0,  1,  1,  0,  6,  9,  0,  5, 10,  4])\n",
      "---6---\n",
      "tensor([ 2,  6,  2,  8,  7,  7,  3,  3,  5,  5,  0,  1,  2,  2,  2,  0,  8,  2,\n",
      "         8,  6,  3,  0,  8,  2,  9,  2,  6,  1,  1,  3,  0,  5,  2,  0,  1,  4,\n",
      "         2,  3,  3, 10,  3,  4,  9,  6,  2,  2, 10,  5,  1,  2, 10,  2,  2,  2,\n",
      "         2,  0,  5,  2,  3,  3,  8,  3,  1,  5])\n",
      "---7---\n",
      "tensor([ 3,  3, 10, 10,  3,  2,  6,  1, 10, 10,  8,  2,  7, 10,  5,  2,  1,  6,\n",
      "         6,  2,  6,  0,  8,  7, 10,  8,  5,  9,  0,  8,  6,  9,  6, 10,  8,  8,\n",
      "         8,  9,  2,  2,  8,  8, 10,  3,  2,  7,  6, 10, 10,  5,  7,  6,  1,  2,\n",
      "         5,  6,  9,  9,  1,  5,  6,  6,  5, 10])\n",
      "---8---\n",
      "tensor([ 3,  2,  8,  6,  2,  2,  1,  8,  5,  1,  3,  8,  3,  3,  5,  2,  4,  6,\n",
      "         3,  8,  5,  4,  2,  8,  8,  7,  8,  0,  8,  3,  9,  8,  8,  9,  0,  8,\n",
      "         5,  3,  5,  5,  4,  2,  6,  6, 10,  8,  8,  1,  2,  8,  2,  2,  2,  8,\n",
      "         2,  8,  3,  0,  6,  5,  5,  8,  2,  7])\n",
      "---9---\n",
      "tensor([ 3,  2,  5,  3,  1,  3,  2,  2,  2,  5,  1, 10,  5,  2,  3,  6, 10,  2,\n",
      "         8, 10,  2,  5,  2,  8,  5,  5,  2,  7,  7,  3,  8,  3,  5,  6,  3,  9,\n",
      "         1,  3,  2,  8,  2, 10,  7,  2,  0,  8,  4,  8,  3,  6,  3,  3,  7,  8,\n",
      "        10,  8,  2,  0,  3,  7,  4,  2,  2,  8])\n",
      "---10---\n",
      "tensor([ 8,  8,  3,  8,  0,  8,  7,  7,  2,  6,  9,  5,  3,  5,  5,  3, 10,  0,\n",
      "         2,  9,  8,  7,  2,  5,  8,  2,  8,  8,  5,  8,  3,  2,  4, 10,  2,  5,\n",
      "        10,  3,  2,  0,  8,  2,  6,  0,  3,  2, 10,  2,  0,  6,  2,  8,  9,  0,\n",
      "         7,  9,  8, 10,  6, 10,  1,  4,  4,  3])\n",
      "---11---\n",
      "tensor([ 7,  5,  4,  8,  8,  3, 10,  6,  8,  6,  7,  1,  8,  9,  8, 10, 10,  6,\n",
      "         5,  2,  6,  5,  5,  3,  7,  5, 10,  3,  5,  1,  2,  2,  8,  6,  7,  9,\n",
      "         0,  7,  7,  5,  1,  3,  7,  8,  2,  0,  5, 10,  3, 10,  1,  2,  7,  1,\n",
      "         2,  6,  5,  0,  2,  3,  6,  1,  1,  6])\n",
      "---12---\n",
      "tensor([ 6,  1,  6,  0,  8,  8,  2, 10, 10,  8,  6,  4,  4,  4,  6,  4,  9,  8,\n",
      "         8,  5,  6,  2,  1,  9,  8,  3,  8,  3,  2,  6,  8,  5,  7,  2, 10,  0,\n",
      "         8,  3,  2,  3,  3, 10,  3,  5,  2,  7,  8,  3,  5,  1,  2,  1,  0,  2,\n",
      "         7, 10,  7,  0,  8,  6,  2,  3,  6,  0])\n",
      "---13---\n",
      "tensor([ 9,  3, 10,  3,  3,  6,  8,  5,  3,  3,  2,  2,  7,  3,  2,  3,  8,  8,\n",
      "         6,  8,  9, 10,  8,  7,  5,  3,  2,  2,  9,  9,  3, 10,  3,  4,  3,  9,\n",
      "         2,  2,  2,  3,  8,  6,  8,  8,  2,  5,  4,  4,  2,  8,  7,  3,  6,  3,\n",
      "         3,  0,  1, 10,  5,  3, 10,  7,  3, 10])\n",
      "---14---\n",
      "tensor([ 2,  6, 10,  2,  6,  2,  6,  4,  1,  2,  2,  3,  2,  1,  5,  0,  3,  6,\n",
      "         3,  7,  2,  3,  9,  5,  2,  8,  3,  2,  2,  5,  8,  3,  1,  3,  0,  8,\n",
      "         2,  9,  7,  8,  5,  6,  8,  4,  8,  2,  2,  1,  8,  0,  0,  1,  4,  2,\n",
      "         0,  3,  1, 10,  9, 10,  5,  9,  3,  1])\n",
      "---15---\n",
      "tensor([ 0,  8,  8, 10,  0,  8,  6,  8,  5,  5,  5,  9,  7,  5,  2,  6,  2,  2,\n",
      "         3,  5,  6,  9,  0,  7,  2,  3,  8,  5,  6,  9, 10,  3,  9,  8,  7,  7,\n",
      "         0,  8,  9,  4,  1, 10,  9,  0,  2,  2,  2,  2,  4,  4,  7,  3,  2,  4,\n",
      "         2,  5,  9,  1,  3,  8,  2,  8,  1,  6])\n",
      "---16---\n",
      "tensor([ 8,  1,  6, 10,  6,  8,  3,  2,  2,  2,  8,  5,  8,  6,  5])\n"
     ]
    }
   ],
   "source": [
    "for i, sample in enumerate(loader):\n",
    "    data, target, subID = sample[0], sample[1], sample[2]\n",
    "    print('---%d---'%(i))\n",
    "    print(subID)"
   ]
  },
  {
   "cell_type": "code",
   "execution_count": 46,
   "metadata": {},
   "outputs": [
    {
     "name": "stdout",
     "output_type": "stream",
     "text": [
      "tensor([ 0.2298,  0.0344, -0.6432, -1.4271,  0.4102])\n"
     ]
    }
   ],
   "source": [
    "A = torch.randn(5)\n",
    "print(A)"
   ]
  },
  {
   "cell_type": "code",
   "execution_count": 61,
   "metadata": {},
   "outputs": [
    {
     "name": "stdout",
     "output_type": "stream",
     "text": [
      "tensor([1., 1., 0., 0., 1.])\n",
      "tensor([0.2298, 0.0344, 0.4102])\n"
     ]
    }
   ],
   "source": [
    "zeros, ones = torch.zeros(5), torch.ones(5)\n",
    "B = torch.where(A>0, ones, zeros)\n",
    "print(B)\n",
    "C = A[torch.nonzero(A>0).flatten()]\n",
    "print(C)"
   ]
  },
  {
   "cell_type": "code",
   "execution_count": 62,
   "metadata": {},
   "outputs": [
    {
     "name": "stdout",
     "output_type": "stream",
     "text": [
      "tensor([3., 3., 0., 0., 3.])\n"
     ]
    }
   ],
   "source": [
    "B[torch.nonzero(A>0).flatten()] = 3\n",
    "print(B)"
   ]
  },
  {
   "cell_type": "markdown",
   "metadata": {},
   "source": [
    "# Orthonormalize weight matrix"
   ]
  },
  {
   "cell_type": "code",
   "execution_count": 2,
   "metadata": {},
   "outputs": [
    {
     "name": "stdout",
     "output_type": "stream",
     "text": [
      "ICARNN(\n",
      "  (V): Linear(in_features=5, out_features=5, bias=True)\n",
      "  (W): Linear(in_features=5, out_features=5, bias=False)\n",
      "  (rnn): RNN(5, 32, bidirectional=True)\n",
      "  (fc): Linear(in_features=64, out_features=1, bias=True)\n",
      ")\n",
      "[[ 1.00000000e+00 -3.24844507e-09 -1.97494536e-08  9.25933108e-10\n",
      "  -1.14176935e-08]\n",
      " [-3.24844507e-09  1.00000000e+00 -1.03794298e-08  6.75587586e-10\n",
      "  -5.60681102e-09]\n",
      " [-1.97494536e-08 -1.03794298e-08  9.99999940e-01 -1.41387897e-08\n",
      "   1.40365604e-08]\n",
      " [ 9.25933108e-10  6.75587586e-10 -1.41387897e-08  1.00000000e+00\n",
      "   2.30607977e-09]\n",
      " [-1.14176935e-08 -5.60681102e-09  1.40365604e-08  2.30607977e-09\n",
      "   1.00000000e+00]]\n"
     ]
    }
   ],
   "source": [
    "train_data, train_target = np.random.rand(4,5,6), np.random.rand(4)\n",
    "model = models.icarnn(train_data, train_target, hidden_size=32, output_size=1)\n",
    "print(model)\n",
    "weight = model.W.weight.data.cpu().numpy()\n",
    "print(weight.dot(weight.T))\n",
    "\n",
    "device = torch.device('cpu')\n",
    "train_data = torch.from_numpy(train_data)\n",
    "train_data = train_data.float()\n",
    "train_target = torch.from_numpy(train_target)\n",
    "train_target = train_target.float()"
   ]
  },
  {
   "cell_type": "code",
   "execution_count": 3,
   "metadata": {},
   "outputs": [
    {
     "name": "stdout",
     "output_type": "stream",
     "text": [
      ">>>Stop freezing ICA layer\n",
      "True\n",
      "True\n",
      "True\n"
     ]
    }
   ],
   "source": [
    "# Stop freezing ICA layer\n",
    "model.stopFreezingFE()\n",
    "\n",
    "for name, item in model._modules.items():\n",
    "    if name in ['V','W']:\n",
    "        for p in item.parameters():\n",
    "            print(p.requires_grad)"
   ]
  },
  {
   "cell_type": "code",
   "execution_count": 4,
   "metadata": {},
   "outputs": [
    {
     "name": "stdout",
     "output_type": "stream",
     "text": [
      "[[ 8.7333566e-01  2.4908620e-01 -7.3430836e-02  1.6875505e-01\n",
      "  -1.2131492e-01]\n",
      " [ 2.4908620e-01  1.1196094e+00 -3.7828195e-03  2.2779925e-02\n",
      "  -8.2838326e-04]\n",
      " [-7.3430836e-02 -3.7828195e-03  1.0299157e+00 -1.0446263e-01\n",
      "  -7.7353157e-02]\n",
      " [ 1.6875505e-01  2.2779925e-02 -1.0446263e-01  7.6115769e-01\n",
      "  -7.2369270e-02]\n",
      " [-1.2131492e-01 -8.2838326e-04 -7.7353157e-02 -7.2369270e-02\n",
      "   9.6450543e-01]]\n"
     ]
    }
   ],
   "source": [
    "criterion = nn.MSELoss()\n",
    "optimizer = torch.optim.Adam(model.parameters(), lr=0.1)\n",
    "h0 = model.initHidden(len(train_target), device=device)\n",
    "pred = model(train_data, h0).flatten()\n",
    "loss = criterion(pred, train_target)\n",
    "\n",
    "optimizer.zero_grad()\n",
    "loss.backward()\n",
    "optimizer.step()\n",
    "\n",
    "weight = model.W.weight.data.cpu().numpy()\n",
    "print(weight.dot(weight.T))"
   ]
  },
  {
   "cell_type": "code",
   "execution_count": 5,
   "metadata": {},
   "outputs": [
    {
     "name": "stdout",
     "output_type": "stream",
     "text": [
      "[[ 9.9999964e-01  4.0467262e-07  2.3766751e-07 -7.0651316e-07\n",
      "  -7.3993050e-07]\n",
      " [ 4.0467262e-07  9.9999934e-01 -1.3703248e-06  2.8026392e-07\n",
      "   6.5312742e-07]\n",
      " [ 2.3766751e-07 -1.3703248e-06  9.9999839e-01  1.3657798e-06\n",
      "  -1.8478864e-06]\n",
      " [-7.0651316e-07  2.8026392e-07  1.3657798e-06  9.9999994e-01\n",
      "   1.3535077e-07]\n",
      " [-7.3993050e-07  6.5312742e-07 -1.8478864e-06  1.3535077e-07\n",
      "   1.0000015e+00]]\n"
     ]
    }
   ],
   "source": [
    "# Orthonormalize unmixing weight matrix\n",
    "model.orthUnmixing()\n",
    "\n",
    "weight = model.W.weight.data.cpu().numpy()\n",
    "print(weight.dot(weight.T))"
   ]
  },
  {
   "cell_type": "markdown",
   "metadata": {},
   "source": [
    "# Plot dot plots with multiple colors"
   ]
  },
  {
   "cell_type": "code",
   "execution_count": 29,
   "metadata": {},
   "outputs": [
    {
     "data": {
      "text/plain": [
       "<matplotlib.legend.Legend at 0x1c30f07f208>"
      ]
     },
     "execution_count": 29,
     "metadata": {},
     "output_type": "execute_result"
    },
    {
     "data": {
      "image/png": "[encoded data removed]",
      "text/plain": [
       "<Figure size 432x288 with 1 Axes>"
      ]
     },
     "metadata": {
      "needs_background": "light"
     },
     "output_type": "display_data"
    }
   ],
   "source": [
    "import matplotlib._color_data as mcd\n",
    "fig, ax = plt.subplots()\n",
    "\n",
    "overlap = sorted({name for name in mcd.CSS4_COLORS\n",
    "           if \"xkcd:\" + name in mcd.XKCD_COLORS})\n",
    "\n",
    "ax.plot([0], [0], marker='.', linestyle='None', color='aqua', label='A')\n",
    "ax.plot([1,2], [1,2], marker='.', linestyle='None', color='r', label='B')\n",
    "ax.plot([1,2], [2,3], marker='.', linestyle='None', color='g', label='C')\n",
    "\n",
    "ax.legend()"
   ]
  },
  {
   "cell_type": "code",
   "execution_count": 19,
   "metadata": {},
   "outputs": [
    {
     "data": {
      "text/plain": [
       "(0.0, 3.0, 0.0, 50.0)"
      ]
     },
     "execution_count": 19,
     "metadata": {},
     "output_type": "execute_result"
    },
    {
     "data": {
      "image/png": "[encoded data removed]",
      "text/plain": [
       "<Figure size 345.6x1152 with 1 Axes>"
      ]
     },
     "metadata": {
      "needs_background": "light"
     },
     "output_type": "display_data"
    }
   ],
   "source": [
    "import matplotlib._color_data as mcd\n",
    "import matplotlib.patches as mpatch\n",
    "\n",
    "overlap = {name for name in mcd.CSS4_COLORS\n",
    "           if \"xkcd:\" + name in mcd.XKCD_COLORS}\n",
    "\n",
    "fig = plt.figure(figsize=[4.8, 16])\n",
    "ax = fig.add_axes([0, 0, 1, 1])\n",
    "\n",
    "for j, n in enumerate(sorted(overlap, reverse=True)):\n",
    "    weight = None\n",
    "    cn = mcd.CSS4_COLORS[n]\n",
    "    xkcd = mcd.XKCD_COLORS[\"xkcd:\" + n].upper()\n",
    "    if cn == xkcd:\n",
    "        weight = 'bold'\n",
    "\n",
    "    r1 = mpatch.Rectangle((0, j), 1, 1, color=cn)\n",
    "    r2 = mpatch.Rectangle((1, j), 1, 1, color=xkcd)\n",
    "    txt = ax.text(2, j+.5, '  ' + n, va='center', fontsize=10,\n",
    "                  weight=weight)\n",
    "    ax.add_patch(r1)\n",
    "    ax.add_patch(r2)\n",
    "    ax.axhline(j, color='k')\n",
    "\n",
    "ax.text(.5, j + 1.5, 'X11', ha='center', va='center')\n",
    "ax.text(1.5, j + 1.5, 'xkcd', ha='center', va='center')\n",
    "ax.set_xlim(0, 3)\n",
    "ax.set_ylim(0, j + 2)\n",
    "ax.axis('off')"
   ]
  },
  {
   "cell_type": "code",
   "execution_count": 31,
   "metadata": {},
   "outputs": [
    {
     "name": "stdout",
     "output_type": "stream",
     "text": [
      "[1 2 5]\n"
     ]
    }
   ],
   "source": [
    "A = np.array([1,1,2,3,4,5])\n",
    "B = np.array([0,1,2,4,6,5])\n",
    "\n",
    "C = np.nonzero(A==B)[0]\n",
    "print(C)"
   ]
  },
  {
   "cell_type": "code",
   "execution_count": 4,
   "metadata": {},
   "outputs": [
    {
     "ename": "ImportError",
     "evalue": "cannot import name 'mean_absolute_percentage_error' from 'sklearn.metrics' (C:\\Users\\ITSloaner.DESKTOP-LSI3AKB\\anaconda3\\envs\\Math24\\lib\\site-packages\\sklearn\\metrics\\__init__.py)",
     "output_type": "error",
     "traceback": [
      "\u001b[1;31m---------------------------------------------------------------------------\u001b[0m",
      "\u001b[1;31mImportError\u001b[0m                               Traceback (most recent call last)",
      "\u001b[1;32m<ipython-input-4-89d427ddef99>\u001b[0m in \u001b[0;36m<module>\u001b[1;34m()\u001b[0m\n\u001b[1;32m----> 1\u001b[1;33m \u001b[1;32mfrom\u001b[0m \u001b[0msklearn\u001b[0m\u001b[1;33m.\u001b[0m\u001b[0mmetrics\u001b[0m \u001b[1;32mimport\u001b[0m \u001b[0mmean_absolute_percentage_error\u001b[0m \u001b[1;32mas\u001b[0m \u001b[0mmape\u001b[0m\u001b[1;33m\u001b[0m\u001b[1;33m\u001b[0m\u001b[0m\n\u001b[0m\u001b[0;32m      2\u001b[0m \u001b[1;33m\u001b[0m\u001b[0m\n\u001b[0;32m      3\u001b[0m \u001b[0mA\u001b[0m \u001b[1;33m=\u001b[0m \u001b[0mnp\u001b[0m\u001b[1;33m.\u001b[0m\u001b[0mones\u001b[0m\u001b[1;33m(\u001b[0m\u001b[1;36m4\u001b[0m\u001b[1;33m)\u001b[0m\u001b[1;33m\u001b[0m\u001b[1;33m\u001b[0m\u001b[0m\n\u001b[0;32m      4\u001b[0m \u001b[0mB\u001b[0m \u001b[1;33m=\u001b[0m \u001b[0mnp\u001b[0m\u001b[1;33m.\u001b[0m\u001b[0mones\u001b[0m\u001b[1;33m(\u001b[0m\u001b[1;36m4\u001b[0m\u001b[1;33m)\u001b[0m\u001b[1;33m*\u001b[0m\u001b[1;36m2\u001b[0m\u001b[1;33m\u001b[0m\u001b[1;33m\u001b[0m\u001b[0m\n\u001b[0;32m      5\u001b[0m \u001b[1;33m\u001b[0m\u001b[0m\n",
      "\u001b[1;31mImportError\u001b[0m: cannot import name 'mean_absolute_percentage_error' from 'sklearn.metrics' (C:\\Users\\ITSloaner.DESKTOP-LSI3AKB\\anaconda3\\envs\\Math24\\lib\\site-packages\\sklearn\\metrics\\__init__.py)"
     ]
    }
   ],
   "source": [
    "from sklearn.metrics import mean_absolute_percentage_error as mape\n",
    "\n",
    "A = np.ones(4)\n",
    "B = np.ones(4)*2\n",
    "\n",
    "print(mape(A,B))"
   ]
  },
  {
   "cell_type": "code",
   "execution_count": null,
   "metadata": {},
   "outputs": [],
   "source": []
  }
 ],
 "metadata": {
  "kernelspec": {
   "display_name": "Python 3",
   "language": "python",
   "name": "python3"
  },
  "language_info": {
   "codemirror_mode": {
    "name": "ipython",
    "version": 3
   },
   "file_extension": ".py",
   "mimetype": "text/x-python",
   "name": "python",
   "nbconvert_exporter": "python",
   "pygments_lexer": "ipython3",
   "version": "3.7.9"
  }
 },
 "nbformat": 4,
 "nbformat_minor": 4
}
