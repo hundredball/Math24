{
 "cells": [
  {
   "cell_type": "code",
   "execution_count": 11,
   "metadata": {},
   "outputs": [],
   "source": [
    "import numpy as np\n",
    "import pandas as pd\n",
    "import matplotlib.pyplot as plt\n",
    "import pickle\n",
    "from sklearn.metrics import mean_squared_error\n",
    "from sklearn.metrics import r2_score\n",
    "\n",
    "import raw_dataloader as dl\n",
    "from scale_target import TargetScaler"
   ]
  },
  {
   "cell_type": "markdown",
   "metadata": {},
   "source": [
    "# Analyze solution latency across subject and across difficulty level"
   ]
  },
  {
   "cell_type": "code",
   "execution_count": 2,
   "metadata": {},
   "outputs": [
    {
     "name": "stdout",
     "output_type": "stream",
     "text": [
      "After removing outliers, X shape:  (20, 12, 512)\n",
      "Mean of all trials: 13.214258\n",
      "After removing outliers, X shape:  (33, 12, 512)\n",
      "Mean of all trials: 20.172467\n",
      "After removing outliers, X shape:  (10, 12, 512)\n",
      "Mean of all trials: 22.633984\n",
      "After removing outliers, X shape:  (24, 12, 512)\n",
      "Mean of all trials: 7.094401\n",
      "After removing outliers, X shape:  (35, 12, 512)\n",
      "Mean of all trials: 13.515290\n",
      "After removing outliers, X shape:  (16, 12, 512)\n",
      "Mean of all trials: 39.909912\n",
      "After removing outliers, X shape:  (45, 12, 512)\n",
      "Mean of all trials: 2.669184\n",
      "After removing outliers, X shape:  (88, 12, 512)\n",
      "Mean of all trials: 4.278409\n",
      "After removing outliers, X shape:  (41, 12, 512)\n",
      "Mean of all trials: 8.058975\n",
      "After removing outliers, X shape:  (40, 12, 512)\n",
      "Mean of all trials: 5.489746\n",
      "After removing outliers, X shape:  (75, 12, 512)\n",
      "Mean of all trials: 9.011146\n",
      "After removing outliers, X shape:  (25, 12, 512)\n",
      "Mean of all trials: 11.606250\n",
      "After removing outliers, X shape:  (17, 12, 512)\n",
      "Mean of all trials: 16.496094\n",
      "After removing outliers, X shape:  (24, 12, 512)\n",
      "Mean of all trials: 34.343424\n",
      "After removing outliers, X shape:  (8, 12, 512)\n",
      "Mean of all trials: 33.251953\n",
      "After removing outliers, X shape:  (30, 12, 512)\n",
      "Mean of all trials: 4.595703\n",
      "After removing outliers, X shape:  (52, 12, 512)\n",
      "Mean of all trials: 14.775691\n",
      "After removing outliers, X shape:  (18, 12, 512)\n",
      "Mean of all trials: 33.240017\n",
      "After removing outliers, X shape:  (33, 12, 512)\n",
      "Mean of all trials: 4.534683\n",
      "After removing outliers, X shape:  (62, 12, 512)\n",
      "Mean of all trials: 9.420552\n",
      "After removing outliers, X shape:  (18, 12, 512)\n",
      "Mean of all trials: 12.564019\n",
      "After removing outliers, X shape:  (19, 12, 512)\n",
      "Mean of all trials: 9.734992\n",
      "After removing outliers, X shape:  (30, 12, 512)\n",
      "Mean of all trials: 16.029167\n",
      "After removing outliers, X shape:  (13, 12, 512)\n",
      "Mean of all trials: 27.904447\n",
      "After removing outliers, X shape:  (45, 12, 512)\n",
      "Mean of all trials: 5.773438\n",
      "After removing outliers, X shape:  (73, 12, 512)\n",
      "Mean of all trials: 9.357609\n",
      "After removing outliers, X shape:  (38, 12, 512)\n",
      "Mean of all trials: 16.944182\n",
      "After removing outliers, X shape:  (25, 12, 512)\n",
      "Mean of all trials: 13.692500\n",
      "After removing outliers, X shape:  (29, 12, 512)\n",
      "Mean of all trials: 22.903960\n",
      "After removing outliers, X shape:  (11, 12, 512)\n",
      "Mean of all trials: 48.163352\n",
      "After removing outliers, X shape:  (26, 12, 512)\n",
      "Mean of all trials: 8.291166\n",
      "After removing outliers, X shape:  (43, 12, 512)\n",
      "Mean of all trials: 25.541243\n",
      "After removing outliers, X shape:  (18, 12, 512)\n",
      "Mean of all trials: 32.049696\n"
     ]
    }
   ],
   "source": [
    "SLs_all = {}\n",
    "\n",
    "# Get list of data names\n",
    "df_names = pd.read_csv('%s/Data_Matlab/data_list.csv'%(root_path))\n",
    "data_names = [x[0:6] for x in df_names.values.flatten()]\n",
    "data_names = [data_names[i] for i in range(11)]\n",
    "\n",
    "# Get SL of each subject of each difficulty level\n",
    "for i_data, data_name in enumerate(data_names):\n",
    "    SLs_one = []\n",
    "    for i_diff in range(1,4):\n",
    "        X, Y_class, Y_reg, C = dl.read_data([i_diff], [i_data], pred_type='class')\n",
    "        SLs_one.append(Y_reg)\n",
    "    SLs_all[data_name] = SLs_one\n",
    "\n"
   ]
  },
  {
   "cell_type": "code",
   "execution_count": 3,
   "metadata": {},
   "outputs": [
    {
     "name": "stdout",
     "output_type": "stream",
     "text": [
      "Diff 1: mean (7.237208), number (324)\n",
      "Diff 2: mean (13.408426), number (544)\n",
      "Diff 3: mean (21.709672), number (216)\n"
     ]
    }
   ],
   "source": [
    "# Analyze across difficulty level\n",
    "mean_SLs_diff = []\n",
    "for i_diff in range(3):\n",
    "    SL, num_trial = 0, 0\n",
    "    for data_name in data_names:\n",
    "        SL += np.sum(SLs_all[data_name][i_diff])\n",
    "        num_trial += len(SLs_all[data_name][i_diff])\n",
    "        \n",
    "    mean_SLs_diff.append(SL/num_trial)\n",
    "    print('Diff %i: mean (%f), number (%i)'%(i_diff+1, mean_SLs_diff[i_diff], num_trial))"
   ]
  },
  {
   "cell_type": "code",
   "execution_count": 4,
   "metadata": {},
   "outputs": [
    {
     "name": "stdout",
     "output_type": "stream",
     "text": [
      "Subject 110411: mean (18.354229), number (63), range (80.449)\n",
      "Subject 110414: mean (17.091458), number (75), range (118.094)\n",
      "Subject 110714: mean (4.753053), number (174), range (52.922)\n",
      "Subject 110715: mean (8.468443), number (140), range (86.258)\n",
      "Subject 110721: mean (27.973294), number (49), range (97.355)\n",
      "Subject 110728: mean (15.045273), number (100), range (105.582)\n",
      "Subject 110729: mean (8.494434), number (113), range (80.137)\n",
      "Subject 110816: mean (16.590285), number (62), range (104.926)\n",
      "Subject 110822: mean (10.171725), number (156), range (76.445)\n",
      "Subject 110929: mean (23.635757), number (65), range (96.734)\n",
      "Subject 110930: mean (21.732624), number (87), range (90.133)\n"
     ]
    }
   ],
   "source": [
    "# Analyze across subject\n",
    "SLs_sub = []\n",
    "for data_name in data_names:\n",
    "    SL_diff = []\n",
    "    \n",
    "    for i_diff in range(3):\n",
    "        SL_diff += list(SLs_all[data_name][i_diff])\n",
    "        \n",
    "    SL_diff = np.array(SL_diff)\n",
    "    SLs_sub.append(SL_diff)\n",
    "    print('Subject %s: mean (%f), number (%i), range (%.3f)'\n",
    "          %(data_name, np.mean(SL_diff), len(SL_diff), np.max(SL_diff)-np.min(SL_diff)))"
   ]
  },
  {
   "cell_type": "markdown",
   "metadata": {},
   "source": [
    "# Make sure all the channel electrodes are in the same order"
   ]
  },
  {
   "cell_type": "code",
   "execution_count": 31,
   "metadata": {},
   "outputs": [],
   "source": [
    "# Get list of data names\n",
    "df_names = pd.read_csv('%s/Data_Matlab/data_list.csv'%(root_path))\n",
    "data_names = [x[0:6] for x in df_names.values.flatten()]\n",
    "data_names = [data_names[i] for i in range(11)]\n",
    "\n",
    "# Load channel info\n",
    "channel_info = {}\n",
    "for data_name in data_names:\n",
    "    channel_info[data_name] = pd.read_csv('./Channel_coordinate/%s_channels.csv'%(data_name))\n",
    "    \n",
    "# Compare every subject with the first subject\n",
    "channel_order = np.zeros((128, 11))-1\n",
    "arc_length_9 = channel_info[data_names[9]]['arc_length'].values\n",
    "theta_9 = channel_info[data_names[9]]['theta'].values\n",
    "for i in range(len(data_names)):\n",
    "    if i == 9:\n",
    "        continue\n",
    "    channel_info_i = channel_info[data_names[i]]\n",
    "    for i_channel in range(len(channel_info_i)):\n",
    "        arc_length = channel_info_i['arc_length'][i_channel]\n",
    "        theta = channel_info_i['theta'][i_channel]\n",
    "        channel_order[i_channel, i] = np.argmin(arc_length_9**2+arc_length**2 \\\n",
    "                                                - 2*arc_length*arc_length_9*np.cos((theta_9-theta)*np.pi/180))\n",
    "        "
   ]
  },
  {
   "cell_type": "code",
   "execution_count": 33,
   "metadata": {},
   "outputs": [
    {
     "data": {
      "text/plain": [
       "array([78., 42., 78., 42., 42., 78., 78., 42., 42., 42., 42., 78., 42.,\n",
       "       42., 42., 42., 41., 42., 42., 42., 42., 42., 42., 42., 42., 42.,\n",
       "       42., 42., 42., 42., 42., 42., 42., 42., 42., 42., 42., 42., 42.,\n",
       "       42., 42., 42., 42., 42., 42., 42., 42., 42., 42., 42., 42., 42.,\n",
       "       42., 42., 42., 42., 42., 42., 42., 42., 42., 42., 42., 42., 42.,\n",
       "       42., 42., 42., 42., 42., 42., 42., 42., 42., 42., 42., 42., 42.,\n",
       "       42., 42., 42., 42., 42., 42., 42., 42., 42., 42., 42., 42., 42.,\n",
       "       42., 42., 42., 42., 42., 42., 42., 42., 42., 42., 42., 42., 42.,\n",
       "       42., 42., 42., 42., 42., 42., 42., 42., 42., 42., 42., 42., 42.,\n",
       "       42., 42., 42., 42., 42., 42., 42., 42., 42., 42., 42.])"
      ]
     },
     "execution_count": 33,
     "metadata": {},
     "output_type": "execute_result"
    }
   ],
   "source": [
    "channel_order[:,0]"
   ]
  },
  {
   "cell_type": "markdown",
   "metadata": {},
   "source": [
    "# Analyze difference of scaling target normally and quantizationally"
   ]
  },
  {
   "cell_type": "code",
   "execution_count": 7,
   "metadata": {},
   "outputs": [],
   "source": [
    "def plot_scatter(data, title):\n",
    "    sort_indices = np.argsort(data)\n",
    "    plt.plot(range(len(data)), data[sort_indices], marker='.')\n",
    "    plt.title(title)\n",
    "    \n",
    "    '''\n",
    "    fig, axs = plt.subplots(1,2, figsize=(8,4))\n",
    "    axs[0].plot(range(len(true)), true[sort_indices], 'r.', range(len(true)), pred[sort_indices], 'b.')\n",
    "    axs[0].set_xlabel('Record number')\n",
    "    axs[0].set_ylabel('Solution latency')\n",
    "    axs[0].legend(('True', 'Pred'))\n",
    "    axs[0].set_title('std error = %.3f'%(mean_squared_error(true, pred)**0.5))\n",
    "\n",
    "    max_value = np.max(np.hstack((true, pred)))\n",
    "    axs[1].scatter(true, pred, marker='.')\n",
    "    axs[1].plot(range(int(max_value)), range(int(max_value)), 'r')\n",
    "    axs[1].set_xlabel('True')\n",
    "    axs[1].set_ylabel('Pred')\n",
    "    axs[1].set_xlim([0, max_value])\n",
    "    axs[1].set_ylim([0, max_value])\n",
    "    axs[1].set_title('r = %.3f'%(np.corrcoef(true, pred)[0,1]))\n",
    "    '''"
   ]
  },
  {
   "cell_type": "code",
   "execution_count": 9,
   "metadata": {},
   "outputs": [
    {
     "data": {
      "image/png": "[encoded data removed]",
      "text/plain": [
       "<Figure size 432x288 with 1 Axes>"
      ]
     },
     "metadata": {
      "needs_background": "light"
     },
     "output_type": "display_data"
    }
   ],
   "source": [
    "# Load data\n",
    "with open('./raw_data/ERSP_from_raw_100_channel21.data', 'rb') as fp:\n",
    "    dict_ERSP = pickle.load(fp)\n",
    "\n",
    "SLs = dict_ERSP['SLs']\n",
    "\n",
    "# Scale target to -1~1 normally\n",
    "SLs_scale_nor = (SLs-30)/30\n",
    "plot_scatter(SLs_scale_nor, 'Scale normally')"
   ]
  },
  {
   "cell_type": "code",
   "execution_count": 12,
   "metadata": {},
   "outputs": [
    {
     "name": "stdout",
     "output_type": "stream",
     "text": [
      "[-1.  -0.8 -0.6 -0.4 -0.2  0.   0.2  0.4  0.6  0.8  1. ]\n",
      "[ 0.          1.859375    2.53203125  3.29296875  4.16484375  5.625\n",
      "  7.79140625 10.53359375 15.3796875  25.275      60.        ]\n"
     ]
    },
    {
     "data": {
      "image/png": "[encoded data removed]",
      "text/plain": [
       "<Figure size 432x288 with 1 Axes>"
      ]
     },
     "metadata": {
      "needs_background": "light"
     },
     "output_type": "display_data"
    }
   ],
   "source": [
    "# Scale target to -1~1 quantizationally\n",
    "scaler = TargetScaler(num_step=10)\n",
    "scaler.fit(SLs)\n",
    "SLs_scale_quan = scaler.transform(SLs, mode='normal')\n",
    "\n",
    "plot_scatter(SLs_scale_quan, 'Scale quantizationally')"
   ]
  },
  {
   "cell_type": "code",
   "execution_count": null,
   "metadata": {},
   "outputs": [],
   "source": []
  }
 ],
 "metadata": {
  "kernelspec": {
   "display_name": "Python 3",
   "language": "python",
   "name": "python3"
  },
  "language_info": {
   "codemirror_mode": {
    "name": "ipython",
    "version": 3
   },
   "file_extension": ".py",
   "mimetype": "text/x-python",
   "name": "python",
   "nbconvert_exporter": "python",
   "pygments_lexer": "ipython3",
   "version": "3.7.6"
  }
 },
 "nbformat": 4,
 "nbformat_minor": 4
}
