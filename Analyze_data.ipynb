{
 "cells": [
  {
   "cell_type": "code",
   "execution_count": 1,
   "metadata": {},
   "outputs": [],
   "source": [
    "import numpy as np\n",
    "import pandas as pd\n",
    "import matplotlib.pyplot as plt\n",
    "import seaborn as sns\n",
    "import pickle\n",
    "from itertools import combinations, permutations\n",
    "from scipy import stats\n",
    "from sklearn.metrics import mean_squared_error\n",
    "from sklearn.metrics import r2_score\n",
    "\n",
    "import raw_dataloader as dl\n",
    "from scale_target import TargetScaler\n",
    "import preprocessing\n",
    "import add_features\n",
    "import bandpower"
   ]
  },
  {
   "cell_type": "markdown",
   "metadata": {},
   "source": [
    "# Analyze solution latency across subject and across difficulty level"
   ]
  },
  {
   "cell_type": "code",
   "execution_count": 2,
   "metadata": {},
   "outputs": [
    {
     "name": "stdout",
     "output_type": "stream",
     "text": [
      "After removing trials longer than 60s, X shape:  (19, 21, 512)\n",
      "Arrange all the channels as the same order\n",
      "\n",
      "After removing trials longer than 60s, X shape:  (31, 21, 512)\n",
      "Arrange all the channels as the same order\n",
      "\n",
      "After removing trials longer than 60s, X shape:  (9, 21, 512)\n",
      "Arrange all the channels as the same order\n",
      "\n",
      "After removing trials longer than 60s, X shape:  (24, 21, 512)\n",
      "Arrange all the channels as the same order\n",
      "\n",
      "After removing trials longer than 60s, X shape:  (34, 21, 512)\n",
      "Arrange all the channels as the same order\n",
      "\n",
      "After removing trials longer than 60s, X shape:  (12, 21, 512)\n",
      "Arrange all the channels as the same order\n",
      "\n",
      "After removing trials longer than 60s, X shape:  (45, 21, 512)\n",
      "Arrange all the channels as the same order\n",
      "\n",
      "After removing trials longer than 60s, X shape:  (88, 21, 512)\n",
      "Arrange all the channels as the same order\n",
      "\n",
      "After removing trials longer than 60s, X shape:  (41, 21, 512)\n",
      "Arrange all the channels as the same order\n",
      "\n",
      "After removing trials longer than 60s, X shape:  (40, 21, 512)\n",
      "Arrange all the channels as the same order\n",
      "\n",
      "After removing trials longer than 60s, X shape:  (73, 21, 512)\n",
      "Arrange all the channels as the same order\n",
      "\n",
      "After removing trials longer than 60s, X shape:  (24, 21, 512)\n",
      "Arrange all the channels as the same order\n",
      "\n",
      "After removing trials longer than 60s, X shape:  (17, 21, 512)\n",
      "Arrange all the channels as the same order\n",
      "\n",
      "After removing trials longer than 60s, X shape:  (20, 21, 512)\n",
      "Arrange all the channels as the same order\n",
      "\n",
      "After removing trials longer than 60s, X shape:  (6, 21, 512)\n",
      "Arrange all the channels as the same order\n",
      "\n",
      "After removing trials longer than 60s, X shape:  (30, 21, 512)\n",
      "Arrange all the channels as the same order\n",
      "\n",
      "After removing trials longer than 60s, X shape:  (50, 21, 512)\n",
      "Arrange all the channels as the same order\n",
      "\n",
      "After removing trials longer than 60s, X shape:  (14, 21, 512)\n",
      "Arrange all the channels as the same order\n",
      "\n",
      "After removing trials longer than 60s, X shape:  (33, 21, 512)\n",
      "Arrange all the channels as the same order\n",
      "\n",
      "After removing trials longer than 60s, X shape:  (61, 21, 512)\n",
      "Arrange all the channels as the same order\n",
      "\n",
      "After removing trials longer than 60s, X shape:  (18, 21, 512)\n",
      "Arrange all the channels as the same order\n",
      "\n",
      "After removing trials longer than 60s, X shape:  (19, 21, 512)\n",
      "Arrange all the channels as the same order\n",
      "\n",
      "After removing trials longer than 60s, X shape:  (29, 21, 512)\n",
      "Arrange all the channels as the same order\n",
      "\n",
      "After removing trials longer than 60s, X shape:  (12, 21, 512)\n",
      "Arrange all the channels as the same order\n",
      "\n",
      "After removing trials longer than 60s, X shape:  (45, 21, 512)\n",
      "Arrange all the channels as the same order\n",
      "\n",
      "After removing trials longer than 60s, X shape:  (71, 21, 512)\n",
      "Arrange all the channels as the same order\n",
      "\n",
      "After removing trials longer than 60s, X shape:  (38, 21, 512)\n",
      "Arrange all the channels as the same order\n",
      "\n",
      "After removing trials longer than 60s, X shape:  (24, 21, 512)\n",
      "Arrange all the channels as the same order\n",
      "\n",
      "After removing trials longer than 60s, X shape:  (26, 21, 512)\n",
      "Arrange all the channels as the same order\n",
      "\n",
      "After removing trials longer than 60s, X shape:  (6, 21, 512)\n",
      "Arrange all the channels as the same order\n",
      "\n",
      "After removing trials longer than 60s, X shape:  (26, 21, 512)\n",
      "Arrange all the channels as the same order\n",
      "\n",
      "After removing trials longer than 60s, X shape:  (39, 21, 512)\n",
      "Arrange all the channels as the same order\n",
      "\n",
      "After removing trials longer than 60s, X shape:  (15, 21, 512)\n",
      "Arrange all the channels as the same order\n",
      "\n"
     ]
    }
   ],
   "source": [
    "SLs_all = {}\n",
    "\n",
    "# Get list of data names\n",
    "df_names = pd.read_csv('./Data_Matlab/data_list.csv')\n",
    "data_names = [x[0:6] for x in df_names.values.flatten()]\n",
    "data_names = [data_names[i] for i in range(11)]\n",
    "\n",
    "# Get SL of each subject of each difficulty level\n",
    "for i_data, data_name in enumerate(data_names):\n",
    "    SLs_one = []\n",
    "    for i_diff in range(1,4):\n",
    "        X, Y_reg, _, S = dl.read_data([i_diff], [i_data], channel_limit=21, rm_baseline=True)\n",
    "        SLs_one.append(Y_reg)\n",
    "    SLs_all[data_name] = SLs_one\n",
    "\n"
   ]
  },
  {
   "cell_type": "code",
   "execution_count": 50,
   "metadata": {},
   "outputs": [
    {
     "name": "stdout",
     "output_type": "stream",
     "text": [
      "Diff 1: mean (6.846346), number (322)\n",
      "Diff 2: mean (10.682890), number (522)\n",
      "Diff 3: mean (14.854026), number (195)\n"
     ]
    },
    {
     "data": {
      "text/plain": [
       "<matplotlib.legend.Legend at 0x7fc0893b9890>"
      ]
     },
     "execution_count": 50,
     "metadata": {},
     "output_type": "execute_result"
    },
    {
     "data": {
      "image/png": "[encoded data removed]",
      "text/plain": [
       "<Figure size 432x288 with 1 Axes>"
      ]
     },
     "metadata": {
      "needs_background": "light"
     },
     "output_type": "display_data"
    }
   ],
   "source": [
    "# Analyze across difficulty level\n",
    "mean_SLs_diff = []\n",
    "SLs_diff = [np.array([]) for i in range(3)]\n",
    "diff_arr = np.array([])\n",
    "fig, axs = plt.subplots()\n",
    "for i_diff in range(3):\n",
    "    SL, num_trial = 0, 0\n",
    "    for data_name in data_names:\n",
    "        SL += np.sum(SLs_all[data_name][i_diff])\n",
    "        SLs_diff[i_diff] = np.hstack((SLs_diff[i_diff], SLs_all[data_name][i_diff]))\n",
    "        num_trial += len(SLs_all[data_name][i_diff])\n",
    "        \n",
    "    diff_arr = np.hstack((diff_arr, np.zeros(num_trial)+i_diff))\n",
    "    mean_SLs_diff.append(SL/num_trial)\n",
    "    print('Diff %i: mean (%f), number (%i)'%(i_diff+1, mean_SLs_diff[i_diff], num_trial))\n",
    "    plt.hist(SLs_diff[i_diff], bins=50, alpha=0.5, label='Diff%d'%(i_diff+1), density=True)\n",
    "    \n",
    "plt.xlabel('SL')\n",
    "plt.ylabel('Number')\n",
    "plt.legend(loc='upper right')"
   ]
  },
  {
   "cell_type": "code",
   "execution_count": 39,
   "metadata": {},
   "outputs": [
    {
     "name": "stdout",
     "output_type": "stream",
     "text": [
      "Subject 110411: mean (14.760196), number (59), range (52.918)\n",
      "Subject 110414: mean (12.130804), number (70), range (48.641)\n",
      "Subject 110714: mean (4.753053), number (174), range (52.922)\n",
      "Subject 110715: mean (6.996578), number (137), range (45.043)\n",
      "Subject 110721: mean (19.711573), number (43), range (54.160)\n",
      "Subject 110728: mean (10.580078), number (94), range (54.371)\n",
      "Subject 110729: mean (7.853411), number (112), range (46.824)\n",
      "Subject 110816: mean (14.219661), number (60), range (52.723)\n",
      "Subject 110822: mean (9.338474), number (154), range (51.770)\n",
      "Subject 110929: mean (14.463937), number (56), range (54.695)\n",
      "Subject 110930: mean (16.862061), number (80), range (57.074)\n"
     ]
    },
    {
     "data": {
      "text/plain": [
       "<matplotlib.legend.Legend at 0x7fc08c6d6b90>"
      ]
     },
     "execution_count": 39,
     "metadata": {},
     "output_type": "execute_result"
    },
    {
     "data": {
      "image/png": "[encoded data removed]",
      "text/plain": [
       "<Figure size 432x288 with 1 Axes>"
      ]
     },
     "metadata": {
      "needs_background": "light"
     },
     "output_type": "display_data"
    }
   ],
   "source": [
    "# Analyze across subject\n",
    "SLs_sub = []\n",
    "fig, axs = plt.subplots()\n",
    "for data_name in data_names:\n",
    "    SL_diff = []\n",
    "    \n",
    "    for i_diff in range(3):\n",
    "        SL_diff += list(SLs_all[data_name][i_diff])\n",
    "        \n",
    "    SL_diff = np.array(SL_diff)\n",
    "    SLs_sub.append(SL_diff)\n",
    "    print('Subject %s: mean (%f), number (%i), range (%.3f)'\n",
    "          %(data_name, np.mean(SL_diff), len(SL_diff), np.max(SL_diff)-np.min(SL_diff)))\n",
    "    plt.hist(SL_diff, bins=50, alpha=0.5, label=data_name, density=True)\n",
    "    \n",
    "    '''\n",
    "    plt.plot(np.sort(SL_diff))\n",
    "    plt.title('Subect '+data_name)\n",
    "    plt.savefig('./results/Analysis/SLs_sub%s.png'%(data_name))\n",
    "    plt.close()\n",
    "    '''\n",
    "plt.xlabel('SL')\n",
    "plt.ylabel('Number')\n",
    "plt.legend(loc='upper right')"
   ]
  },
  {
   "cell_type": "code",
   "execution_count": 76,
   "metadata": {},
   "outputs": [
    {
     "name": "stdout",
     "output_type": "stream",
     "text": [
      "Accross diff:  KruskalResult(statistic=52.79035320957894, pvalue=3.4412834961356324e-12)\n"
     ]
    },
    {
     "data": {
      "image/png": "[encoded data removed]",
      "text/plain": [
       "<Figure size 432x288 with 2 Axes>"
      ]
     },
     "metadata": {
      "needs_background": "light"
     },
     "output_type": "display_data"
    }
   ],
   "source": [
    "# Kruskal-Wallis H-test across difficulty\n",
    "for i in range(3):\n",
    "    np.random.shuffle(SLs_diff[i])\n",
    "min_len = min([len(SLs_diff[i]) for i in range(3)])\n",
    "result_diff = stats.kruskal(SLs_diff[0][:min_len], SLs_diff[1][:min_len], SLs_diff[2][:min_len])\n",
    "print('Accross diff: ', result_diff)\n",
    "\n",
    "# Kruskal-Wallis H-test across subjects\n",
    "for i in range(11):\n",
    "    np.random.shuffle(SLs_sub[i])\n",
    "p_array = np.zeros((11,11))\n",
    "perm = permutations(range(11), 2)\n",
    "for (sub1,sub2) in list(perm):\n",
    "    min_len = min([len(SLs_sub[sub1]), len(SLs_sub[sub2])])\n",
    "    result_sub = stats.kruskal(SLs_sub[sub1][:min_len], SLs_sub[sub2][:min_len])\n",
    "    #print('Sub %d and %d: %s'%(sub1, sub2, result_sub))\n",
    "    p_array[sub1,sub2] = result_sub.pvalue\n",
    "    \n",
    "ax = sns.heatmap(p_array)\n"
   ]
  },
  {
   "cell_type": "markdown",
   "metadata": {},
   "source": [
    "# Make sure all the channel electrodes are in the same order"
   ]
  },
  {
   "cell_type": "code",
   "execution_count": 31,
   "metadata": {},
   "outputs": [],
   "source": [
    "# Get list of data names\n",
    "df_names = pd.read_csv('%s/Data_Matlab/data_list.csv'%(root_path))\n",
    "data_names = [x[0:6] for x in df_names.values.flatten()]\n",
    "data_names = [data_names[i] for i in range(11)]\n",
    "\n",
    "# Load channel info\n",
    "channel_info = {}\n",
    "for data_name in data_names:\n",
    "    channel_info[data_name] = pd.read_csv('./Channel_coordinate/%s_channels.csv'%(data_name))\n",
    "    \n",
    "# Compare every subject with the first subject\n",
    "channel_order = np.zeros((128, 11))-1\n",
    "arc_length_9 = channel_info[data_names[9]]['arc_length'].values\n",
    "theta_9 = channel_info[data_names[9]]['theta'].values\n",
    "for i in range(len(data_names)):\n",
    "    if i == 9:\n",
    "        continue\n",
    "    channel_info_i = channel_info[data_names[i]]\n",
    "    for i_channel in range(len(channel_info_i)):\n",
    "        arc_length = channel_info_i['arc_length'][i_channel]\n",
    "        theta = channel_info_i['theta'][i_channel]\n",
    "        channel_order[i_channel, i] = np.argmin(arc_length_9**2+arc_length**2 \\\n",
    "                                                - 2*arc_length*arc_length_9*np.cos((theta_9-theta)*np.pi/180))\n",
    "        "
   ]
  },
  {
   "cell_type": "code",
   "execution_count": 33,
   "metadata": {},
   "outputs": [
    {
     "data": {
      "text/plain": [
       "array([78., 42., 78., 42., 42., 78., 78., 42., 42., 42., 42., 78., 42.,\n",
       "       42., 42., 42., 41., 42., 42., 42., 42., 42., 42., 42., 42., 42.,\n",
       "       42., 42., 42., 42., 42., 42., 42., 42., 42., 42., 42., 42., 42.,\n",
       "       42., 42., 42., 42., 42., 42., 42., 42., 42., 42., 42., 42., 42.,\n",
       "       42., 42., 42., 42., 42., 42., 42., 42., 42., 42., 42., 42., 42.,\n",
       "       42., 42., 42., 42., 42., 42., 42., 42., 42., 42., 42., 42., 42.,\n",
       "       42., 42., 42., 42., 42., 42., 42., 42., 42., 42., 42., 42., 42.,\n",
       "       42., 42., 42., 42., 42., 42., 42., 42., 42., 42., 42., 42., 42.,\n",
       "       42., 42., 42., 42., 42., 42., 42., 42., 42., 42., 42., 42., 42.,\n",
       "       42., 42., 42., 42., 42., 42., 42., 42., 42., 42., 42.])"
      ]
     },
     "execution_count": 33,
     "metadata": {},
     "output_type": "execute_result"
    }
   ],
   "source": [
    "channel_order[:,0]"
   ]
  },
  {
   "cell_type": "markdown",
   "metadata": {},
   "source": [
    "# Analyze difference of scaling target normally and quantizationally"
   ]
  },
  {
   "cell_type": "code",
   "execution_count": 7,
   "metadata": {},
   "outputs": [],
   "source": [
    "def plot_scatter(data, title):\n",
    "    sort_indices = np.argsort(data)\n",
    "    plt.plot(range(len(data)), data[sort_indices], marker='.')\n",
    "    plt.title(title)\n",
    "    \n",
    "    '''\n",
    "    fig, axs = plt.subplots(1,2, figsize=(8,4))\n",
    "    axs[0].plot(range(len(true)), true[sort_indices], 'r.', range(len(true)), pred[sort_indices], 'b.')\n",
    "    axs[0].set_xlabel('Record number')\n",
    "    axs[0].set_ylabel('Solution latency')\n",
    "    axs[0].legend(('True', 'Pred'))\n",
    "    axs[0].set_title('std error = %.3f'%(mean_squared_error(true, pred)**0.5))\n",
    "\n",
    "    max_value = np.max(np.hstack((true, pred)))\n",
    "    axs[1].scatter(true, pred, marker='.')\n",
    "    axs[1].plot(range(int(max_value)), range(int(max_value)), 'r')\n",
    "    axs[1].set_xlabel('True')\n",
    "    axs[1].set_ylabel('Pred')\n",
    "    axs[1].set_xlim([0, max_value])\n",
    "    axs[1].set_ylim([0, max_value])\n",
    "    axs[1].set_title('r = %.3f'%(np.corrcoef(true, pred)[0,1]))\n",
    "    '''"
   ]
  },
  {
   "cell_type": "code",
   "execution_count": 13,
   "metadata": {},
   "outputs": [
    {
     "data": {
      "image/png": "[encoded data removed]",
      "text/plain": [
       "<Figure size 432x288 with 1 Axes>"
      ]
     },
     "metadata": {
      "needs_background": "light"
     },
     "output_type": "display_data"
    }
   ],
   "source": [
    "plot_scatter(SLs, 'Original')"
   ]
  },
  {
   "cell_type": "code",
   "execution_count": 9,
   "metadata": {},
   "outputs": [
    {
     "data": {
      "image/png": "[encoded data removed]",
      "text/plain": [
       "<Figure size 432x288 with 1 Axes>"
      ]
     },
     "metadata": {
      "needs_background": "light"
     },
     "output_type": "display_data"
    }
   ],
   "source": [
    "# Load data\n",
    "with open('./raw_data/ERSP_from_raw_100_channel21.data', 'rb') as fp:\n",
    "    dict_ERSP = pickle.load(fp)\n",
    "\n",
    "SLs = dict_ERSP['SLs']\n",
    "\n",
    "# Scale target to -1~1 normally\n",
    "SLs_scale_nor = (SLs-30)/30\n",
    "plot_scatter(SLs_scale_nor, 'Scale normally')"
   ]
  },
  {
   "cell_type": "code",
   "execution_count": 12,
   "metadata": {},
   "outputs": [
    {
     "name": "stdout",
     "output_type": "stream",
     "text": [
      "[-1.  -0.8 -0.6 -0.4 -0.2  0.   0.2  0.4  0.6  0.8  1. ]\n",
      "[ 0.          1.859375    2.53203125  3.29296875  4.16484375  5.625\n",
      "  7.79140625 10.53359375 15.3796875  25.275      60.        ]\n"
     ]
    },
    {
     "data": {
      "image/png": "[encoded data removed]",
      "text/plain": [
       "<Figure size 432x288 with 1 Axes>"
      ]
     },
     "metadata": {
      "needs_background": "light"
     },
     "output_type": "display_data"
    }
   ],
   "source": [
    "# Scale target to -1~1 quantizationally\n",
    "scaler = TargetScaler(num_step=10)\n",
    "scaler.fit(SLs)\n",
    "SLs_scale_quan = scaler.transform(SLs, mode='normal')\n",
    "\n",
    "plot_scatter(SLs_scale_quan, 'Scale quantizationally')"
   ]
  },
  {
   "cell_type": "markdown",
   "metadata": {},
   "source": [
    "# Analyze distribution of bandpower ratio"
   ]
  },
  {
   "cell_type": "code",
   "execution_count": 4,
   "metadata": {},
   "outputs": [
    {
     "name": "stdout",
     "output_type": "stream",
     "text": [
      "After removing trials longer than 60s, X shape:  (1039, 21, 512)\n",
      "Arrange all the channels as the same order\n",
      "\n",
      "Calculating the bandpower of time-series data...\n",
      "Calculate bandpower ratio...\n",
      "BR: (468.814,0.002)\n",
      "Number of (X,X_less): (4058334,3738984)\n"
     ]
    }
   ],
   "source": [
    "X,Y,_,S,D = dl.read_data([1,2,3], range(11), channel_limit=21, rm_baseline=True)\n",
    "low, high = [4,7,13], [7,13,30]\n",
    "X = bandpower.get_bandpower(X, low=low, high=high)\n",
    "X = add_features.get_bandpower_ratio(X)\n",
    "X = X.flatten()\n",
    "X_less = X[X<5]\n",
    "print('Number of (X,X_less): (%d,%d)'%(len(X), len(X_less)))"
   ]
  },
  {
   "cell_type": "code",
   "execution_count": 7,
   "metadata": {},
   "outputs": [
    {
     "data": {
      "text/plain": [
       "(array([1.10000e+01, 3.70000e+01, 1.60000e+02, 4.52000e+02, 1.33900e+03,\n",
       "        3.31900e+03, 7.68100e+03, 1.80470e+04, 4.06850e+04, 8.21940e+04,\n",
       "        1.50810e+05, 2.50361e+05, 3.75128e+05, 5.03932e+05, 5.95011e+05,\n",
       "        5.95011e+05, 5.03932e+05, 3.75128e+05, 2.50361e+05, 1.50810e+05,\n",
       "        8.21940e+04, 4.06850e+04, 1.80470e+04, 7.68100e+03, 3.31900e+03,\n",
       "        1.33900e+03, 4.52000e+02, 1.60000e+02, 3.70000e+01, 1.10000e+01]),\n",
       " array([-6.15020627, -5.74019252, -5.33017877, -4.92016502, -4.51015127,\n",
       "        -4.10013751, -3.69012376, -3.28011001, -2.87009626, -2.46008251,\n",
       "        -2.05006876, -1.64005501, -1.23004125, -0.8200275 , -0.41001375,\n",
       "         0.        ,  0.41001375,  0.8200275 ,  1.23004125,  1.64005501,\n",
       "         2.05006876,  2.46008251,  2.87009626,  3.28011001,  3.69012376,\n",
       "         4.10013751,  4.51015127,  4.92016502,  5.33017877,  5.74019252,\n",
       "         6.15020627]),\n",
       " <BarContainer object of 30 artists>)"
      ]
     },
     "execution_count": 7,
     "metadata": {},
     "output_type": "execute_result"
    },
    {
     "data": {
      "image/png": "[encoded data removed]",
      "text/plain": [
       "<Figure size 432x288 with 1 Axes>"
      ]
     },
     "metadata": {
      "needs_background": "light"
     },
     "output_type": "display_data"
    }
   ],
   "source": [
    "plt.hist(np.log(X), bins=30)"
   ]
  },
  {
   "cell_type": "code",
   "execution_count": null,
   "metadata": {},
   "outputs": [],
   "source": []
  }
 ],
 "metadata": {
  "kernelspec": {
   "display_name": "Python 3",
   "language": "python",
   "name": "python3"
  },
  "language_info": {
   "codemirror_mode": {
    "name": "ipython",
    "version": 3
   },
   "file_extension": ".py",
   "mimetype": "text/x-python",
   "name": "python",
   "nbconvert_exporter": "python",
   "pygments_lexer": "ipython3",
   "version": "3.7.9"
  }
 },
 "nbformat": 4,
 "nbformat_minor": 4
}
