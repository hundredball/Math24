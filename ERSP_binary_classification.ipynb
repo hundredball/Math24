{
 "cells": [
  {
   "cell_type": "code",
   "execution_count": 1,
   "metadata": {},
   "outputs": [
    {
     "data": {
      "text/plain": [
       "'\\n# Import module from previous folder\\nimport os,sys,inspect\\ncurrent_dir = os.path.dirname(os.path.abspath(inspect.getfile(inspect.currentframe())))\\nparent_dir = os.path.dirname(current_dir)\\nsys.path.insert(0, parent_dir) \\n'"
      ]
     },
     "execution_count": 1,
     "metadata": {},
     "output_type": "execute_result"
    }
   ],
   "source": [
    "import numpy as np\n",
    "import pandas as pd\n",
    "import matplotlib.pyplot as plt\n",
    "import pickle\n",
    "from sklearn.preprocessing import StandardScaler\n",
    "from sklearn.discriminant_analysis import LinearDiscriminantAnalysis as LDA\n",
    "from sklearn.model_selection import train_test_split\n",
    "from sklearn.decomposition import PCA\n",
    "from sklearn.model_selection import LeaveOneOut, KFold\n",
    "from sklearn.linear_model import LinearRegression, Ridge, Lasso\n",
    "from sklearn.cross_decomposition import PLSRegression\n",
    "from sklearn.ensemble import RandomForestRegressor\n",
    "from sklearn import svm\n",
    "from sklearn.metrics import mean_squared_error\n",
    "from sklearn.metrics import r2_score\n",
    "from sklearn.gaussian_process import GaussianProcessRegressor\n",
    "from sklearn.gaussian_process.kernels import DotProduct, WhiteKernel, RBF, ConstantKernel\n",
    "import elm\n",
    "\n",
    "from scipy.optimize import curve_fit\n",
    "from scipy import stats\n",
    "\n",
    "import dataloader\n",
    "import preprocessing\n",
    "import data_augmentation\n",
    "import add_features\n",
    "import models\n",
    "import LSTransform\n",
    "from scale_target import TargetScaler\n",
    "\n",
    "'''\n",
    "# Import module from previous folder\n",
    "import os,sys,inspect\n",
    "current_dir = os.path.dirname(os.path.abspath(inspect.getfile(inspect.currentframe())))\n",
    "parent_dir = os.path.dirname(current_dir)\n",
    "sys.path.insert(0, parent_dir) \n",
    "'''\n"
   ]
  },
  {
   "cell_type": "markdown",
   "metadata": {},
   "source": [
    "# Load data"
   ]
  },
  {
   "cell_type": "code",
   "execution_count": 38,
   "metadata": {},
   "outputs": [
    {
     "name": "stdout",
     "output_type": "stream",
     "text": [
      "Shape of ERSP_all:  (452, 12, 114, 200)\n",
      "Shape of tmp_all:  (452, 3)\n",
      "Shape of freqs:  (114,)\n",
      "> Remove 9 trials (60.000 sec)\n"
     ]
    }
   ],
   "source": [
    "# Load preprocessed ERSP data\n",
    "ERSP_all, tmp_all, freqs = dataloader.load_data()\n",
    "\n",
    "ERSP_all, tmp_all = preprocessing.remove_trials(ERSP_all, tmp_all, 60)"
   ]
  },
  {
   "cell_type": "code",
   "execution_count": 8,
   "metadata": {},
   "outputs": [
    {
     "name": "stdout",
     "output_type": "stream",
     "text": [
      "Shape of ERSP_all:  (1084, 12, 57, 172)\n",
      "Shape of tmp_all:  (1084,)\n",
      "Shape of freqs:  (57,)\n",
      "Shape of t:  (172,)\n"
     ]
    }
   ],
   "source": [
    "# Load raw data\n",
    "# Read pickle file\n",
    "with open('./ERSP_from_raw.data', 'rb') as fp:\n",
    "    dict_ERSP = pickle.load(fp)\n",
    "    \n",
    "ERSP_all, tmp_all, freqs, t = dict_ERSP['ERSP'], dict_ERSP['SLs'], dict_ERSP['freq'], dict_ERSP['t']\n",
    "print('Shape of ERSP_all: ', ERSP_all.shape)\n",
    "print('Shape of tmp_all: ', tmp_all.shape)\n",
    "print('Shape of freqs: ', freqs.shape)\n",
    "print('Shape of t: ', t.shape)"
   ]
  },
  {
   "cell_type": "markdown",
   "metadata": {},
   "source": [
    "# Data preprocessing"
   ]
  },
  {
   "cell_type": "code",
   "execution_count": 64,
   "metadata": {},
   "outputs": [],
   "source": [
    "#ERSP_all, tmp_all = preprocessing.remove_trials(ERSP_all, tmp_all, 25)\n",
    "ERSP_all, SLs = preprocessing.standardize(ERSP_all, tmp_all)"
   ]
  },
  {
   "cell_type": "markdown",
   "metadata": {},
   "source": [
    "## Remain original ERSP"
   ]
  },
  {
   "cell_type": "code",
   "execution_count": 65,
   "metadata": {},
   "outputs": [
    {
     "name": "stdout",
     "output_type": "stream",
     "text": [
      "Shape of ERSP_all:  (452, 12)\n"
     ]
    }
   ],
   "source": [
    "num_epoch = ERSP_all.shape[0]\n",
    "method = 3 # 1,2,3\n",
    "\n",
    "if method != 3:\n",
    "    # Concatenate over channels (PCA -> LDA)\n",
    "    ERSP_all = ERSP_all.reshape((num_epoch, -1))\n",
    "    print('Shape of ERSP_all: ', ERSP_all.shape)\n",
    "    \n",
    "else:\n",
    "    '''\n",
    "    # Concatenate over channels (PCA -> LDA)\n",
    "    ERSP_all = ERSP_all.reshape((num_epoch, -1))\n",
    "    print('Shape of ERSP_all: ', ERSP_all.shape)\n",
    "    '''\n",
    "    '''\n",
    "    # Average power over channels (LDA directly)\n",
    "    ERSP_all = np.mean(ERSP_all, axis=2)\n",
    "    print('Shape of ERSP_all: ', ERSP_all.shape)\n",
    "    '''\n",
    "    ERSP_all = preprocessing.bandpower(ERSP_all, freqs, 5, 15)\n",
    "    print('Shape of ERSP_all: ', ERSP_all.shape)\n",
    "    "
   ]
  },
  {
   "cell_type": "markdown",
   "metadata": {},
   "source": [
    "## Trim mean"
   ]
  },
  {
   "cell_type": "code",
   "execution_count": 4,
   "metadata": {},
   "outputs": [],
   "source": [
    "ERSP_all, new_SLs = preprocessing.trimMean(ERSP_all, SLs, freqs)\n",
    "Y = preprocessing.make_target(new_SLs)\n",
    "\n",
    "method = 3"
   ]
  },
  {
   "cell_type": "markdown",
   "metadata": {},
   "source": [
    "## Bandpower"
   ]
  },
  {
   "cell_type": "code",
   "execution_count": 4,
   "metadata": {},
   "outputs": [
    {
     "name": "stdout",
     "output_type": "stream",
     "text": [
      "25.554513197351692\n"
     ]
    }
   ],
   "source": [
    "ERSP_1 = preprocessing.bandpower(ERSP_all, freqs, 5, 10)\n",
    "ERSP_2 = preprocessing.bandpower(ERSP_all, freqs, 10, 15)\n",
    "ERSP_all = np.concatenate((ERSP_1, ERSP_2), axis=1)\n",
    "\n",
    "threshold = np.mean(SLs)+np.std(SLs)\n",
    "print(threshold)\n",
    "Y = preprocessing.make_target(SLs, threshold)\n",
    "\n",
    "method = 3"
   ]
  },
  {
   "cell_type": "markdown",
   "metadata": {},
   "source": [
    "# Holdout Method"
   ]
  },
  {
   "cell_type": "markdown",
   "metadata": {},
   "source": [
    "## Split data"
   ]
  },
  {
   "cell_type": "code",
   "execution_count": 5,
   "metadata": {},
   "outputs": [
    {
     "name": "stdout",
     "output_type": "stream",
     "text": [
      "X_train shape :  (406, 1368)\n",
      "X_test shape :  (46, 1368)\n"
     ]
    }
   ],
   "source": [
    "# Split for training and testing data\n",
    "X_train, X_test, Y_train, Y_test = train_test_split(ERSP_all, Y, test_size=0.1, random_state=42)\n",
    "print('X_train shape : ', X_train.shape)\n",
    "print('X_test shape : ', X_test.shape)"
   ]
  },
  {
   "cell_type": "markdown",
   "metadata": {},
   "source": [
    "## PCA (1) Largest eigenvalues"
   ]
  },
  {
   "cell_type": "code",
   "execution_count": 5,
   "metadata": {},
   "outputs": [
    {
     "ename": "NameError",
     "evalue": "name 'X_train' is not defined",
     "output_type": "error",
     "traceback": [
      "\u001b[0;31m---------------------------------------------------------------------------\u001b[0m",
      "\u001b[0;31mNameError\u001b[0m                                 Traceback (most recent call last)",
      "\u001b[0;32m<ipython-input-5-17071db1c6e5>\u001b[0m in \u001b[0;36m<module>\u001b[0;34m\u001b[0m\n\u001b[1;32m      1\u001b[0m \u001b[0;31m# Apply PCA to training data and testing data\u001b[0m\u001b[0;34m\u001b[0m\u001b[0;34m\u001b[0m\u001b[0;34m\u001b[0m\u001b[0m\n\u001b[1;32m      2\u001b[0m \u001b[0mpca\u001b[0m \u001b[0;34m=\u001b[0m \u001b[0mPCA\u001b[0m\u001b[0;34m(\u001b[0m\u001b[0mn_components\u001b[0m\u001b[0;34m=\u001b[0m\u001b[0;36m2\u001b[0m\u001b[0;34m)\u001b[0m\u001b[0;34m\u001b[0m\u001b[0;34m\u001b[0m\u001b[0m\n\u001b[0;32m----> 3\u001b[0;31m \u001b[0mpca\u001b[0m\u001b[0;34m.\u001b[0m\u001b[0mfit\u001b[0m\u001b[0;34m(\u001b[0m\u001b[0mX_train\u001b[0m\u001b[0;34m)\u001b[0m\u001b[0;34m\u001b[0m\u001b[0;34m\u001b[0m\u001b[0m\n\u001b[0m\u001b[1;32m      4\u001b[0m \u001b[0;34m\u001b[0m\u001b[0m\n\u001b[1;32m      5\u001b[0m \u001b[0mX_train\u001b[0m \u001b[0;34m=\u001b[0m \u001b[0mpca\u001b[0m\u001b[0;34m.\u001b[0m\u001b[0mtransform\u001b[0m\u001b[0;34m(\u001b[0m\u001b[0mX_train\u001b[0m\u001b[0;34m)\u001b[0m\u001b[0;34m\u001b[0m\u001b[0;34m\u001b[0m\u001b[0m\n",
      "\u001b[0;31mNameError\u001b[0m: name 'X_train' is not defined"
     ]
    }
   ],
   "source": [
    "# Apply PCA to training data and testing data\n",
    "pca = PCA(n_components=2)\n",
    "pca.fit(X_train)\n",
    "\n",
    "X_train = pca.transform(X_train)\n",
    "X_test = pca.transform(X_test)\n",
    "\n",
    "print('X_train shape : ', X_train.shape)\n",
    "print('X_test shape : ', X_test.shape)"
   ]
  },
  {
   "cell_type": "markdown",
   "metadata": {},
   "source": [
    "## PCA (2) Most correlated"
   ]
  },
  {
   "cell_type": "code",
   "execution_count": 5,
   "metadata": {},
   "outputs": [],
   "source": [
    "def PCA_corr(X_train, X_test, Y_train):\n",
    "    # PCA fit\n",
    "    num_train = X_train.shape[0]\n",
    "    mean_X = 1/num_train * np.dot(X_train.T, np.ones((num_train,1))).T\n",
    "    cen_X_train = X_train - mean_X\n",
    "    cov_X_train = 1/num_train * np.dot(cen_X_train.T, cen_X_train)\n",
    "    w, v = np.linalg.eig(cov_X_train)\n",
    "\n",
    "    # Sort the eigenvalues and eigenvectors in decreasing order\n",
    "    sorted_indices = np.argsort(w)[::-1]\n",
    "    sorted_v = v[:, sorted_indices]\n",
    "    sorted_w = np.sort(w)[::-1]\n",
    "\n",
    "    # Retain PCs with 80% eigenvalues\n",
    "    ratios = np.add.accumulate(sorted_w.real)/np.sum(sorted_w.real)\n",
    "    num_PCs = np.sum(ratios<=0.8)\n",
    "    PCs = sorted_v[:, :num_PCs]\n",
    "\n",
    "    # PCA predict\n",
    "    X_train = np.dot(cen_X_train, PCs)\n",
    "\n",
    "    # Find two PCs correlated most strongly with SLs\n",
    "    corr_coef = np.zeros(num_PCs)\n",
    "    for i in range(num_PCs):\n",
    "        corr_coef[i] = abs(np.corrcoef(X_train[:,i], Y_train[:,1])[0,1])\n",
    "\n",
    "    #print(corr_coef)\n",
    "    max_1_index = np.argmax(corr_coef)\n",
    "    #print('Max: ', max_1_index)\n",
    "    corr_coef[max_1_index] = 0\n",
    "    max_2_index = np.argmax(corr_coef)\n",
    "    #print('Second: ', max_2_index)\n",
    "    PC_2 = sorted_v[:, [max_1_index, max_2_index]]\n",
    "\n",
    "\n",
    "    # PCA predict\n",
    "    X_train = abs(np.dot(cen_X_train, PC_2))\n",
    "    X_test = abs(np.dot(X_test-mean_X, PC_2))\n",
    "\n",
    "    #print('X_train shape : ', X_train.shape)\n",
    "    #print('X_test shape : ', X_test.shape)\n",
    "    \n",
    "    return X_train, X_test"
   ]
  },
  {
   "cell_type": "code",
   "execution_count": 7,
   "metadata": {},
   "outputs": [
    {
     "name": "stdout",
     "output_type": "stream",
     "text": [
      "[0.10016149 0.13321825 0.19431854 0.1501953  0.1506912  0.05088907\n",
      " 0.14942456 0.12343108 0.06527064 0.0030398  0.02589858 0.06059784\n",
      " 0.06922075 0.04778581 0.0834417  0.08851105 0.09370633 0.03329117\n",
      " 0.08084067 0.00824471 0.00701375 0.09780048 0.05044458 0.0233989 ]\n",
      "Max:  2\n",
      "Second:  4\n"
     ]
    }
   ],
   "source": [
    "X_train, X_test = PCA_corr(X_train, X_test, Y_train)"
   ]
  },
  {
   "cell_type": "code",
   "execution_count": 8,
   "metadata": {},
   "outputs": [],
   "source": [
    "# Sort SLs in increasing order\n",
    "sorted_indices = np.argsort(Y_train[:,1])\n",
    "sorted_x = X_train[sorted_indices, :]\n",
    "sorted_y = Y_train[sorted_indices, :]\n",
    "\n",
    "# Curve fitting\n",
    "def func(X, a, b, c):\n",
    "    x1, x2 = X\n",
    "    return a + b*x1 + c*x2\n",
    "\n",
    "xdata = (sorted_x[:,0], sorted_x[:,1])\n",
    "ydata = sorted_y[:,1]\n",
    "popt, pcov = curve_fit(func, xdata, ydata)"
   ]
  },
  {
   "cell_type": "code",
   "execution_count": 9,
   "metadata": {},
   "outputs": [
    {
     "data": {
      "text/plain": [
       "Text(0.5, 1.0, 'r = 0.043601')"
      ]
     },
     "execution_count": 9,
     "metadata": {},
     "output_type": "execute_result"
    },
    {
     "data": {
      "image/png": "[encoded data removed]",
      "text/plain": [
       "<Figure size 432x288 with 1 Axes>"
      ]
     },
     "metadata": {
      "needs_background": "light"
     },
     "output_type": "display_data"
    }
   ],
   "source": [
    "# Plot them\n",
    "y_reg = func(xdata, popt[0], popt[1], popt[2])\n",
    "plt.scatter(ydata, y_reg, marker = '.')\n",
    "\n",
    "slope, intercept, r_value, p_value, std_err = stats.linregress(ydata, y_reg)\n",
    "y_range = np.linspace(np.min(ydata), np.max(ydata), 100)\n",
    "plt.plot(y_range, slope*y_range+intercept, 'r-')\n",
    "\n",
    "plt.xlabel('SL (s)')\n",
    "plt.ylabel('%.2f + %.2f*PC1 + %.2f*PC2'%(popt[0],popt[1],popt[2]))\n",
    "plt.title('r = %f'%(np.corrcoef(y_reg, ydata)[0,1]))\n"
   ]
  },
  {
   "cell_type": "markdown",
   "metadata": {},
   "source": [
    "# Leave-one-out cross validation"
   ]
  },
  {
   "cell_type": "code",
   "execution_count": null,
   "metadata": {},
   "outputs": [],
   "source": [
    "X_all = ERSP_all\n",
    "\n",
    "test_acc_SL = []\n",
    "thresholds = list(range(1,50))\n",
    "\n",
    "for threshold in thresholds:\n",
    "    Y = preprocessing.make_target(SLs, float(threshold))\n",
    "    \n",
    "    train_acc_list = []\n",
    "    test_acc_list = []\n",
    "    loo = LeaveOneOut()\n",
    "    for i, (train_index, test_index) in enumerate(loo.split(X_all)):\n",
    "\n",
    "        # No trim mean\n",
    "        # Split data\n",
    "        X_train, X_test = X_all[train_index, :], X_all[test_index, :]\n",
    "        Y_train, Y_test = Y[train_index, :], Y[test_index, :]\n",
    "\n",
    "        if method == 1:\n",
    "            pca = PCA(n_components=2)\n",
    "            pca.fit(X_train)\n",
    "            X_train = pca.transform(X_train)\n",
    "            X_test = pca.transform(X_test)\n",
    "        elif method == 2:\n",
    "            # PCA\n",
    "            X_train, X_test = PCA_corr(X_train, X_test, Y_train)\n",
    "\n",
    "        # Decompose Y\n",
    "        Y_train = Y_train[:,0]\n",
    "        Y_test = Y_test[:,0]\n",
    "\n",
    "        '''\n",
    "        # Trim mean after removing the validation data\n",
    "        # Split data\n",
    "        X_train, X_test = X_all[train_index], X_all[test_index]\n",
    "        X_train, new_SLs = trimMean(X_train, SLs[train_index], freqs)\n",
    "        X_test = bandpower(X_test, freqs, 10, 15)\n",
    "\n",
    "        # Let mean of SLs be the threshold\n",
    "        threshold = np.mean(new_SLs) \n",
    "        Y_train = np.asarray(new_SLs >= threshold, float)\n",
    "        Y_test = np.asarray(SLs[test_index] >= threshold, float)\n",
    "        '''\n",
    "\n",
    "        '''\n",
    "        # Trim mean before removing the validation data\n",
    "        # Split data\n",
    "        X_train, X_test = X_all[train_index], X_all[test_index]\n",
    "        Y_train, Y_test = Y[train_index, :], Y[test_index, :]\n",
    "\n",
    "        # Decompose Y\n",
    "        Y_train = Y_train[:,0]\n",
    "        Y_test = Y_test[:,0]\n",
    "        '''\n",
    "\n",
    "        # LDA\n",
    "        clf = svm.SVC()\n",
    "        clf.fit(X_train, Y_train)\n",
    "\n",
    "        num_train = len(Y_train)\n",
    "        pred_train = clf.predict(X_train)\n",
    "        train_acc = np.sum(pred_train == Y_train)/num_train*100\n",
    "        #print('Training Accuracy : %f'%(train_acc))\n",
    "        train_acc_list.append(train_acc)\n",
    "\n",
    "        num_test = len(Y_test)\n",
    "        pred_test = clf.predict(X_test)\n",
    "        test_acc = np.sum(pred_test == Y_test)*100\n",
    "        #print('Testing Accuracy : %f'%(test_acc))\n",
    "        test_acc_list.append(test_acc)\n",
    "\n",
    "        # print('Iteration %d: (%f, %f)'%(i, train_acc, test_acc))\n",
    "        \n",
    "    print('Threshold %d: %f'%(threshold, sum(test_acc_list)/len(test_acc_list)))\n",
    "    test_acc_SL.append(sum(test_acc_list)/len(test_acc_list))\n",
    "    "
   ]
  },
  {
   "cell_type": "code",
   "execution_count": 6,
   "metadata": {},
   "outputs": [
    {
     "name": "stdout",
     "output_type": "stream",
     "text": [
      "False trials, Min: 26.693359, Max: 94.105469\n",
      "True trials, Min: 0.152344, Max: 25.238281\n"
     ]
    }
   ],
   "source": [
    "test_acc_array = np.asarray(test_acc_list)\n",
    "false_trials = SLs[np.where(test_acc_array==0)[0]]\n",
    "true_trials = SLs[np.where(test_acc_array==100)[0]]\n",
    "print('False trials, Min: %f, Max: %f'%(np.min(false_trials), np.max(false_trials)))\n",
    "print('True trials, Min: %f, Max: %f'%(np.min(true_trials), np.max(true_trials)))"
   ]
  },
  {
   "cell_type": "code",
   "execution_count": 6,
   "metadata": {},
   "outputs": [
    {
     "name": "stdout",
     "output_type": "stream",
     "text": [
      "Training accuracy: 91.150442\n",
      "Testing accuracy: 91.150442\n"
     ]
    }
   ],
   "source": [
    "print('Training accuracy: %f'%(sum(train_acc_list)/len(train_acc_list)))\n",
    "print('Testing accuracy: %f'%(sum(test_acc_list)/len(test_acc_list)))"
   ]
  },
  {
   "cell_type": "code",
   "execution_count": 9,
   "metadata": {},
   "outputs": [
    {
     "data": {
      "text/plain": [
       "Text(0, 0.5, 'Accuracy (%)')"
      ]
     },
     "execution_count": 9,
     "metadata": {},
     "output_type": "execute_result"
    },
    {
     "data": {
      "image/png": "[encoded data removed]",
      "text/plain": [
       "<Figure size 432x288 with 1 Axes>"
      ]
     },
     "metadata": {
      "needs_background": "light"
     },
     "output_type": "display_data"
    }
   ],
   "source": [
    "plt.plot(thresholds, test_acc_SL)\n",
    "plt.xlabel('Threshold (s)')\n",
    "plt.ylabel('Accuracy (%)')"
   ]
  },
  {
   "cell_type": "code",
   "execution_count": 6,
   "metadata": {},
   "outputs": [],
   "source": [
    "ratios = []\n",
    "for threshold in thresholds:\n",
    "    ratio = max(np.sum(SLs<=threshold), np.sum(SLs>threshold))/len(SLs)\n",
    "    ratios.append(ratio*100)"
   ]
  },
  {
   "cell_type": "code",
   "execution_count": 7,
   "metadata": {},
   "outputs": [
    {
     "data": {
      "text/plain": [
       "<matplotlib.legend.Legend at 0x7ffbfd424050>"
      ]
     },
     "execution_count": 7,
     "metadata": {},
     "output_type": "execute_result"
    },
    {
     "data": {
      "image/png": "[encoded data removed]",
      "text/plain": [
       "<Figure size 432x288 with 1 Axes>"
      ]
     },
     "metadata": {
      "needs_background": "light"
     },
     "output_type": "display_data"
    }
   ],
   "source": [
    "plt.plot(thresholds, test_acc_SL, 'b-', thresholds, ratios, 'r--')\n",
    "plt.xlabel('Threshold (sec)')\n",
    "plt.ylabel('(%)')\n",
    "plt.legend(('Accuracy', 'Ratio'))"
   ]
  },
  {
   "cell_type": "markdown",
   "metadata": {},
   "source": [
    "# Regression"
   ]
  },
  {
   "cell_type": "code",
   "execution_count": 2,
   "metadata": {},
   "outputs": [],
   "source": [
    "def standard_error(pred, target):\n",
    "    \n",
    "    assert pred.shape[0] == target.shape[0]\n",
    "    \n",
    "    return (np.sum( np.power(pred-target,2) )/len(pred))**0.5\n",
    "\n",
    "def plot_scatter(true, pred, fileName=None):\n",
    "    \n",
    "    sort_indices = np.argsort(true)\n",
    "    fig, axs = plt.subplots(1,2, figsize=(8,4))\n",
    "    axs[0].plot(range(len(true)), true[sort_indices], 'r.', range(len(true)), pred[sort_indices], 'b.')\n",
    "    axs[0].set_xlabel('Record number')\n",
    "    axs[0].set_ylabel('Solution latency')\n",
    "    axs[0].legend(('True', 'Pred'))\n",
    "    \n",
    "    max_value = np.max(np.hstack((true, pred)))\n",
    "    axs[1].scatter(true, pred, marker='.')\n",
    "    axs[1].plot(range(int(max_value)),range(int(max_value)), 'r')\n",
    "    axs[1].set_xlabel('True')\n",
    "    axs[1].set_ylabel('Pred')\n",
    "    axs[1].set_xlim([0, max_value])\n",
    "    axs[1].set_ylim([0, max_value])\n",
    "    axs[1].set_title('r = %.3f'%(np.corrcoef(true, pred)[0,1]))\n",
    "    \n",
    "    std = standard_error(true, pred)\n",
    "    fig.suptitle('Standard error: %.3f'%(std))\n",
    "    \n",
    "    if fileName is not None:\n",
    "        plt.savefig('./results/classical/%s_scatter.png'%(fileName))\n",
    "        \n",
    "def plot_residual(true, pred, fileName=None):\n",
    "    \n",
    "    record = range(len(true))\n",
    "    residual = pred-true\n",
    "    print('Mean of residual: %.3f'%(np.mean(pred-true)))\n",
    "    \n",
    "    fig, axs = plt.subplots(2,1, figsize=(8,5))\n",
    "    axs[0].scatter(record, residual, marker='.')\n",
    "    axs[0].set_xlabel('Record number')\n",
    "    axs[0].set_ylabel('Residual')\n",
    "    axs[0].set_title('Versus record number')\n",
    "    \n",
    "    axs[1].scatter(true, residual, marker='.')\n",
    "    axs[1].set_xlabel('Target')\n",
    "    axs[1].set_ylabel('Residual')\n",
    "    axs[1].set_title('Versus target')\n",
    "    \n",
    "    fig.tight_layout(pad=2.0)\n",
    "    \n",
    "    if fileName is not None:\n",
    "        plt.savefig('./results/classical/%s_residual.png'%(fileName))\n",
    "        \n",
    "def regression(X_train, Y_train, X_test, Y_test, regressor, scale_target=False):\n",
    "    \n",
    "    if scale_target == 2:\n",
    "        scaler = TargetScaler(num_step=10)\n",
    "        scaler.fit(Y_train)\n",
    "        Y_train = scaler.transform(Y_train)\n",
    "        Y_test = scaler.transform(Y_test)\n",
    "    elif scale_target == 1:\n",
    "        [Y_train, Y_test] = [(x-30)/30 for x in [Y_train, Y_test]]\n",
    "    \n",
    "    results = regressor.fit(X_train,Y_train)\n",
    "    pred_train = regressor.predict(X_train)\n",
    "    pred_test = regressor.predict(X_test)\n",
    "    \n",
    "    \n",
    "    if scale_target == 2:\n",
    "        [Y_train, Y_test, pred_train, pred_test] = [scaler.transform(x, mode='inverse') for x in \\\n",
    "                                                   [Y_train, Y_test, pred_train, pred_test]]\n",
    "    elif scale_target == 1:\n",
    "        [Y_train, Y_test, pred_train, pred_test] = [x*30+30 for x in \\\n",
    "                                                   [Y_train, Y_test, pred_train, pred_test]]\n",
    "    \n",
    "    \n",
    "    train_std = mean_squared_error(Y_train, pred_train)**0.5\n",
    "    test_std = mean_squared_error(Y_test, pred_test)**0.5\n",
    "    train_r2 = r2_score(Y_train, pred_train)\n",
    "    test_r2 = r2_score(Y_test, pred_test)\n",
    "    \n",
    "    return results, train_std, test_std, train_r2, test_r2, pred_train, pred_test"
   ]
  },
  {
   "cell_type": "markdown",
   "metadata": {},
   "source": [
    "## Cross validation"
   ]
  },
  {
   "cell_type": "code",
   "execution_count": 123,
   "metadata": {},
   "outputs": [
    {
     "name": "stdout",
     "output_type": "stream",
     "text": [
      "---Iteration 0---\n",
      "\n",
      "Base threshold: 0.000000\n",
      "Original: 10.618853 | 12.315130, 0.119173 | 0.020152\n",
      "\n",
      "Baseline: 11.314423 | 12.555317\n",
      "\n",
      "---Iteration 1---\n",
      "\n",
      "Base threshold: 0.000000\n",
      "Original: 11.046770 | 8.051516, 0.112591 | 0.035340\n",
      "\n",
      "Baseline: 11.726634 | 8.514169\n",
      "\n",
      "---Iteration 2---\n",
      "\n",
      "Base threshold: 0.000000\n",
      "Original: 10.880846 | 9.898021, 0.117219 | 0.037654\n",
      "\n",
      "Baseline: 11.580736 | 10.129877\n",
      "\n",
      "---Iteration 3---\n",
      "\n",
      "Base threshold: 0.000000\n",
      "Original: 10.790340 | 10.771000, 0.117344 | 0.047415\n",
      "\n",
      "Baseline: 11.485222 | 11.063522\n",
      "\n",
      "---Iteration 4---\n",
      "\n",
      "Base threshold: 0.000000\n",
      "Original: 10.964397 | 9.025328, 0.108025 | 0.118238\n",
      "\n",
      "Baseline: 11.609363 | 9.850408\n",
      "\n",
      "---Iteration 5---\n",
      "\n",
      "Base threshold: 0.000000\n",
      "Original: 10.618246 | 12.196278, 0.117198 | 0.065269\n",
      "\n",
      "Baseline: 11.301109 | 12.655421\n",
      "\n",
      "---Iteration 6---\n",
      "\n",
      "Base threshold: 0.000000\n",
      "Original: 10.521179 | 12.944464, 0.118267 | 0.056549\n",
      "\n",
      "Baseline: 11.204590 | 13.409216\n",
      "\n",
      "---Iteration 7---\n",
      "\n",
      "Base threshold: 0.000000\n",
      "Original: 10.691585 | 11.736674, 0.111656 | 0.077453\n",
      "\n",
      "Baseline: 11.343616 | 12.314052\n",
      "\n",
      "---Iteration 8---\n",
      "\n",
      "Base threshold: 0.000000\n",
      "Original: 10.854442 | 10.107806, 0.117662 | 0.051745\n",
      "\n",
      "Baseline: 11.555532 | 10.381689\n",
      "\n",
      "---Iteration 9---\n",
      "\n",
      "Base threshold: 0.000000\n",
      "Original: 10.616114 | 12.279823, 0.116260 | 0.067535\n",
      "\n",
      "Baseline: 11.292843 | 12.732137\n",
      "\n"
     ]
    }
   ],
   "source": [
    "mode_cv = 'KFold'\n",
    "#aug_methods = ['Original', 'undersampling', 'SMOTER', 'add_noise']\n",
    "aug_methods = ['Original']\n",
    "center_flag = False\n",
    "add_correlation = False\n",
    "select_correlated = False\n",
    "num_time = 1\n",
    "method = 3\n",
    "rgr_method = 1\n",
    "num_results = len(aug_methods)\n",
    "\n",
    "if mode_cv == 'KFold':\n",
    "    num_fold = 10\n",
    "    kf = KFold(n_splits=num_fold, shuffle=True, random_state=23)\n",
    "    \n",
    "else:\n",
    "    num_fold = ERSP_all.shape[0]\n",
    "    kf = LeaveOneOut()\n",
    "    \n",
    "true_Y = np.zeros(tmp_all.shape[0])\n",
    "pred_Y = np.zeros((tmp_all.shape[0], num_results))\n",
    "\n",
    "train_std = np.zeros((num_fold, num_results))\n",
    "test_std = np.zeros((num_fold, num_results))\n",
    "train_r2 = np.zeros((num_fold, num_results))\n",
    "test_r2 = np.zeros((num_fold, num_results))\n",
    "train_base = np.zeros(num_fold)\n",
    "test_base = np.zeros(num_fold)\n",
    "train_base_r2 = np.zeros(num_fold)\n",
    "test_base_r2 = np.zeros(num_fold)\n",
    "\n",
    "curr_test = 0\n",
    "\n",
    "for i, (train_index, test_index) in enumerate(kf.split(ERSP_all)):\n",
    "    print('---Iteration %d---\\n'%(i))\n",
    "    \n",
    "    # Standardize data\n",
    "    X_all, Y = preprocessing.standardize(ERSP_all, tmp_all, train_indices=train_index, threshold=0.0, num_time=num_time)\n",
    "    '''\n",
    "    # Remove channels\n",
    "    X_all = X_all[:,2:,:]\n",
    "    '''\n",
    "    num_channel = X_all.shape[1]\n",
    "    if add_correlation:\n",
    "        # Get correlation between channels\n",
    "        correlations = add_features.get_correlations(X_all)\n",
    "        corr_train = correlations[train_index,:]\n",
    "        corr_test = correlations[test_index,:]\n",
    "    \n",
    "    if select_correlated:\n",
    "        # Select correlated ERSP\n",
    "        X_all, select_indices = preprocessing.select_correlated_ERSP(X_all, Y, threshold_corr=0.95, train_indices=train_index)\n",
    "        #select.append(select_indices)\n",
    "    \n",
    "    # Flatten X_all\n",
    "    X_all = X_all.reshape((X_all.shape[0],-1))\n",
    "    \n",
    "    # Split data\n",
    "    X_train, X_test_ori = X_all[train_index, :], X_all[test_index, :]\n",
    "    Y_train, Y_test_ori = Y[train_index], Y[test_index]\n",
    "    \n",
    "    # Data augmentation\n",
    "    aug_X_train, aug_Y_train = {}, {}\n",
    "    \n",
    "    aug_X_train['Original'], aug_Y_train['Original'] = X_train.copy(), Y_train.copy()\n",
    "    if 'undersampling' in aug_methods:\n",
    "        aug_X_train['undersampling'], aug_Y_train['undersampling'] = data_augmentation.aug(X_train, Y_train, 'undersampling')\n",
    "    if 'SMOTER' in aug_methods:\n",
    "        aug_X_train['SMOTER'], aug_Y_train['SMOTER'] = data_augmentation.aug(X_train, Y_train, 'SMOTER')\n",
    "    if 'add_noise' in aug_methods:\n",
    "        aug_X_train['add_noise'], aug_Y_train['add_noise'] = data_augmentation.aug(X_train, Y_train, 'add_noise', (10,1))\n",
    "    \n",
    "    for i_aug, aug_method in enumerate(aug_methods):\n",
    "        \n",
    "        X_train, Y_train = aug_X_train[aug_method], aug_Y_train[aug_method]\n",
    "        X_test, Y_test = X_test_ori.copy(), Y_test_ori.copy()\n",
    "        \n",
    "        # Standardize before PCA\n",
    "        if center_flag:\n",
    "            X_train, X_test = preprocessing.center(X_train, X_test)\n",
    "        \n",
    "        # PCA\n",
    "        if method == 1:\n",
    "            pca = PCA(n_components=10)\n",
    "            pca.fit(X_train)\n",
    "            X_train = pca.transform(X_train)\n",
    "            X_test = pca.transform(X_test)\n",
    "        elif method == 2:\n",
    "            X_train, X_test = preprocessing.PCA_corr(X_train, Y_train, X_test=X_test, num_features=5)\n",
    "        elif method == 3:\n",
    "            lower, higher = [4], [30]\n",
    "            X_train = X_train.reshape((X_train.shape[0], num_channel, len(freqs), num_time))\n",
    "            X_test = X_test.reshape((X_test.shape[0], num_channel, len(freqs), num_time))\n",
    "            for i_time in range(num_time):\n",
    "                X_train_t = X_train[:,:,:,i_time]\n",
    "                X_test_t = X_test[:,:,:,i_time]\n",
    "\n",
    "                X_train_t = preprocessing.bandpower(X_train_t, freqs, lower, higher).reshape((X_train.shape[0],-1))\n",
    "                X_test_t = preprocessing.bandpower(X_test_t, freqs, lower, higher).reshape((X_test.shape[0],-1))\n",
    "\n",
    "                if i_time == 0:\n",
    "                    X_train_all, X_test_all = X_train_t, X_test_t\n",
    "                else:\n",
    "                    X_train_all = np.concatenate((X_train_all, X_train_t), axis=1)\n",
    "                    X_test_all = np.concatenate((X_test_all, X_test_t), axis=1)\n",
    "            \n",
    "            X_train, X_test = X_train_all, X_test_all\n",
    "\n",
    "        # Concatenate with correlations\n",
    "        if add_correlation:\n",
    "            '''\n",
    "            pca = PCA(n_components=10)\n",
    "            pca.fit(correlations[train_index,:])\n",
    "            corr_train = pca.transform(correlations[train_index,:])\n",
    "            corr_test = pca.transform(correlations[test_index,:])\n",
    "            '''\n",
    "            '''\n",
    "            # Standardize power\n",
    "            X_train, X_test = preprocessing.scale(X_train, X_test)\n",
    "            # Standardize correlations\n",
    "            corr_train, corr_test = preprocessing.scale(corr_train, corr_test)\n",
    "            '''\n",
    "            \n",
    "            X_train = np.concatenate((X_train, corr_train), axis=1)\n",
    "            X_test = np.concatenate((X_test, corr_test), axis=1)\n",
    "            \n",
    "        if rgr_method == 1:\n",
    "            rgr = LinearRegression()\n",
    "        elif rgr_method == 2:\n",
    "            rgr = Ridge(alpha=1)\n",
    "        elif rgr_method == 3:\n",
    "            rgr = Lasso(alpha=0.5)\n",
    "        elif rgr_method == 4:\n",
    "            kernel = RBF(10, (1e-2,1e2)) + ConstantKernel(10, (1e-2,1e2))\n",
    "            #kernel = RBF(10, (1e-5,1e2))\n",
    "            rgr = GaussianProcessRegressor(kernel=kernel, random_state=0)\n",
    "        \n",
    "        _, train_std[i,i_aug], test_std[i,i_aug], train_r2[i,i_aug], test_r2[i,i_aug], pred_train, pred_test = \\\n",
    "            regression(X_train, Y_train, X_test, Y_test, rgr)\n",
    "        print('%s: %f | %f, %f | %f\\n'%(aug_method, train_std[i,i_aug], test_std[i,i_aug], \n",
    "                                        train_r2[i,i_aug], test_r2[i,i_aug]))\n",
    "        pred_Y[curr_test:curr_test+len(test_index), i_aug] = pred_test\n",
    "            \n",
    "    true_Y[curr_test:curr_test+len(test_index)] = Y_test\n",
    "    curr_test += len(test_index)\n",
    "    \n",
    "    train_baseline = np.array([np.mean(Y_train)]*Y_train.shape[0])\n",
    "    test_baseline = np.array([np.mean(Y_train)]*Y_test.shape[0])\n",
    "    print('Baseline: %f | %f\\n'%(standard_error(train_baseline, Y_train), standard_error(test_baseline, Y_test)))\n",
    "    train_base[i] = standard_error(train_baseline, Y_train)\n",
    "    test_base[i] = standard_error(test_baseline, Y_test)\n",
    "    train_base_r2[i] = r2_score(Y_train, train_baseline)\n",
    "    test_base_r2[i] = r2_score(Y_test, test_baseline)\n",
    "    "
   ]
  },
  {
   "cell_type": "code",
   "execution_count": 124,
   "metadata": {},
   "outputs": [
    {
     "name": "stdout",
     "output_type": "stream",
     "text": [
      "Original: std (10.760277, 10.932604), r2 (0.115539, 0.057735)\n",
      "Baseline: std (11.441407, 11.360581), r2 (0.000000, -0.019764)\n"
     ]
    }
   ],
   "source": [
    "# Plot result\n",
    "for i, aug_method in enumerate(aug_methods):\n",
    "    print('%s: std (%f, %f), r2 (%f, %f)'%(aug_method, \\\n",
    "        np.mean(train_std[:,i]), np.mean(test_std[:,i]), np.mean(train_r2[:,i]), np.mean(test_r2[:,i])))\n",
    "\n",
    "print('Baseline: std (%f, %f), r2 (%f, %f)'%(np.mean(train_base), np.mean(test_base), np.mean(train_base_r2)\n",
    "                                            , np.mean(test_base_r2)))"
   ]
  },
  {
   "cell_type": "code",
   "execution_count": 125,
   "metadata": {},
   "outputs": [
    {
     "data": {
      "image/png": "[encoded data removed]",
      "text/plain": [
       "<Figure size 576x288 with 2 Axes>"
      ]
     },
     "metadata": {
      "needs_background": "light"
     },
     "output_type": "display_data"
    }
   ],
   "source": [
    "plot_scatter(true_Y, pred_Y[:,0])"
   ]
  },
  {
   "cell_type": "code",
   "execution_count": 66,
   "metadata": {},
   "outputs": [
    {
     "name": "stdout",
     "output_type": "stream",
     "text": [
      "Mean of residual: 0.002\n"
     ]
    },
    {
     "data": {
      "image/png": "[encoded data removed]",
      "text/plain": [
       "<Figure size 576x360 with 2 Axes>"
      ]
     },
     "metadata": {
      "needs_background": "light"
     },
     "output_type": "display_data"
    }
   ],
   "source": [
    "plot_residual(true_Y, pred_Y[:,0])"
   ]
  },
  {
   "cell_type": "markdown",
   "metadata": {},
   "source": [
    "Best model so far: Correlated PCA, SMOTER, GPR"
   ]
  },
  {
   "cell_type": "markdown",
   "metadata": {},
   "source": [
    "## Cross validation for each subject"
   ]
  },
  {
   "cell_type": "code",
   "execution_count": 20,
   "metadata": {},
   "outputs": [
    {
     "name": "stdout",
     "output_type": "stream",
     "text": [
      "Method: 1, rgr_method: 6\n",
      "> Remove 0 trials (60.000 sec)\n",
      "---Iteration 0---\n",
      "\n",
      "Base threshold: 0.000000\n",
      "Scale the data (standard)\n",
      "Original: 6.205298 | 12.637896, 0.699212 | -0.031883\n",
      "\n",
      "---Iteration 1---\n",
      "\n",
      "Base threshold: 0.000000\n",
      "Scale the data (standard)\n",
      "Original: 6.269562 | 8.063029, 0.714157 | 0.032580\n",
      "\n",
      "---Iteration 2---\n",
      "\n",
      "Base threshold: 0.000000\n",
      "Scale the data (standard)\n",
      "Original: 6.465188 | 10.452306, 0.688334 | -0.073146\n",
      "\n",
      "---Iteration 3---\n",
      "\n",
      "Base threshold: 0.000000\n",
      "Scale the data (standard)\n",
      "Original: 6.133248 | 10.849942, 0.714831 | 0.033400\n",
      "\n",
      "---Iteration 4---\n",
      "\n",
      "Base threshold: 0.000000\n",
      "Scale the data (standard)\n",
      "Original: 6.229813 | 8.802315, 0.712039 | 0.161276\n",
      "\n",
      "---Iteration 5---\n",
      "\n",
      "Base threshold: 0.000000\n",
      "Scale the data (standard)\n",
      "Original: 6.147270 | 12.579524, 0.704115 | 0.005602\n",
      "\n",
      "---Iteration 6---\n",
      "\n",
      "Base threshold: 0.000000\n",
      "Scale the data (standard)\n",
      "Original: 6.148148 | 13.025411, 0.698910 | 0.044712\n",
      "\n",
      "---Iteration 7---\n",
      "\n",
      "Base threshold: 0.000000\n",
      "Scale the data (standard)\n",
      "Original: 6.074879 | 12.067279, 0.713205 | 0.024747\n",
      "\n",
      "---Iteration 8---\n",
      "\n",
      "Base threshold: 0.000000\n",
      "Scale the data (standard)\n",
      "Original: 6.049168 | 10.015738, 0.725962 | 0.068941\n",
      "\n",
      "---Iteration 9---\n",
      "\n",
      "Base threshold: 0.000000\n",
      "Scale the data (standard)\n",
      "Original: 6.090339 | 12.111612, 0.709145 | 0.092906\n",
      "\n"
     ]
    }
   ],
   "source": [
    "add_CE = False\n",
    "add_correlation = False\n",
    "scale_data, mode = True, 'standard'\n",
    "select_corrERSP_ratio = 0.0\n",
    "normal_subject = False\n",
    "LST_flag = False\n",
    "scale_target = 0 # 0: no, 1: normal, 2: quantization\n",
    "method = 1        # 1: PCA (30), 2: corr_PCA, 3: bandpower, 4: ERSP\n",
    "rgr_method = 6    # 1: LR, 2: Ridge, 3: GPR, 4: ELMK, 5: ELMR, 6: RandomForest\n",
    "subs = range(100,101)\n",
    "num_channel = 21\n",
    "mode_cv = 'KFold'\n",
    "#aug_methods = ['Original', 'undersampling', 'SMOTER', 'add_noise']\n",
    "aug_methods = ['Original']\n",
    "print('Method: %d, rgr_method: %d'%(method, rgr_method))\n",
    "\n",
    "record = {}\n",
    "record['true_Y'], record['pred_Y'] = [], []\n",
    "record['train_std'], record['test_std'] = [], []\n",
    "record['train_r2'], record['test_r2'] = [], []\n",
    "for i_sub, sub in enumerate(subs):\n",
    "    if normal_subject:\n",
    "        fileName = './raw_data/ERSP_from_raw_%d_channel%d_nolog.data'%(sub, num_channel)\n",
    "        with open(fileName, 'rb') as fp:\n",
    "            dict_ERSP = pickle.load(fp)\n",
    "        ERSP_all, tmp_all, freqs, t, S_all = dict_ERSP['ERSP'], dict_ERSP['SLs'], dict_ERSP['freq'], \\\n",
    "            dict_ERSP['t'], dict_ERSP['Sub_ID']\n",
    "    else:\n",
    "        fileName = './raw_data/ERSP_from_raw_%d_channel%d.data'%(sub, num_channel)\n",
    "        with open(fileName, 'rb') as fp:\n",
    "            dict_ERSP = pickle.load(fp)\n",
    "        ERSP_all, tmp_all, freqs, t, S_all = dict_ERSP['ERSP'], dict_ERSP['SLs'], dict_ERSP['freq'], \\\n",
    "            dict_ERSP['t'], dict_ERSP['Sub_ID']\n",
    "    \n",
    "    # Remove trials with solution latency more than 60 sec\n",
    "    ERSP_all, tmp_all = preprocessing.remove_trials(ERSP_all, tmp_all, 60)\n",
    "    \n",
    "    num_results = len(aug_methods)\n",
    "\n",
    "    if mode_cv == 'KFold':\n",
    "        num_fold = 10\n",
    "        kf = KFold(n_splits=num_fold, shuffle=True, random_state=23)\n",
    "\n",
    "    else:\n",
    "        num_fold = ERSP_all.shape[0]\n",
    "        kf = LeaveOneOut()\n",
    "\n",
    "    true_Y = np.zeros(tmp_all.shape[0])\n",
    "    pred_Y = np.zeros((tmp_all.shape[0], num_results))\n",
    "\n",
    "    train_std = np.zeros((num_fold, num_results))\n",
    "    test_std = np.zeros((num_fold, num_results))\n",
    "    train_r2 = np.zeros((num_fold, num_results))\n",
    "    test_r2 = np.zeros((num_fold, num_results))\n",
    "    train_base = np.zeros(num_fold)\n",
    "    test_base = np.zeros(num_fold)\n",
    "    train_base_r2 = np.zeros(num_fold)\n",
    "    test_base_r2 = np.zeros(num_fold)\n",
    "\n",
    "    curr_test = 0\n",
    "    \n",
    "    # Load conditional entropy\n",
    "    if add_CE:\n",
    "        with open('./raw_data/CE_sub%d_channel21.data'%(sub), 'rb') as fp:\n",
    "            CE = pickle.load(fp)\n",
    "        assert CE.shape[0] == ERSP_all.shape[0]\n",
    "    for i, (train_index, test_index) in enumerate(kf.split(ERSP_all)):\n",
    "        print('---Iteration %d---\\n'%(i))\n",
    "\n",
    "        # Standardize data\n",
    "        X_all, Y = preprocessing.standardize(ERSP_all, tmp_all, train_indices=train_index, threshold=0.0)\n",
    "        \n",
    "        # Normalize between subjects\n",
    "        if normal_subject:\n",
    "            X_all = preprocessing.normalize_subject(X_all, S_all, train_index)\n",
    "\n",
    "        # Select correlated ERSP\n",
    "        if select_corrERSP_ratio:\n",
    "            assert method != 3\n",
    "            X_all, select_indices = preprocessing.select_correlated_ERSP(\\\n",
    "                X_all, Y, threshold_corr=select_corrERSP_ratio, train_indices=train_index)\n",
    "\n",
    "        # Split data\n",
    "        X_train, X_test = X_all[train_index, :], X_all[test_index, :]\n",
    "        Y_train, Y_test = Y[train_index], Y[test_index]\n",
    "        S_train, S_test = S_all[train_index], S_all[test_index]\n",
    "        \n",
    "        # LST\n",
    "        if LST_flag:\n",
    "            print('Use LST...')\n",
    "            lst_model = LSTransform.LST(11,2)\n",
    "            lst_model.fit(X_train, Y_train, S_train)\n",
    "            X_train = lst_model.transform(X_train, S_train)\n",
    "            X_test = lst_model.transform(X_test, S_test)\n",
    "            \n",
    "        # Flatten X_train, X_test\n",
    "        X_train = X_train.reshape((X_train.shape[0],-1))\n",
    "        X_test = X_test.reshape((X_test.shape[0],-1))\n",
    "        \n",
    "        # Data preprocessing\n",
    "        if method == 1:\n",
    "            pca = PCA(n_components=30)\n",
    "            pca.fit(X_train)\n",
    "            X_train = pca.transform(X_train)\n",
    "            X_test = pca.transform(X_test)\n",
    "        elif method == 2:\n",
    "            X_train, X_test = preprocessing.PCA_corr(X_train, Y_train, X_test=X_test, num_features=30)\n",
    "        elif method == 3:\n",
    "            lower, higher = [2,7,14], [7,14,30]\n",
    "            X_train = X_train.reshape((X_train.shape[0],num_channel,-1))\n",
    "            X_test = X_test.reshape((X_test.shape[0],num_channel,-1))\n",
    "\n",
    "            X_train = preprocessing.bandpower(X_train, freqs, lower, higher)\n",
    "            X_test = preprocessing.bandpower(X_test, freqs, lower, higher)\n",
    "\n",
    "            X_train = X_train.reshape((X_train.shape[0],-1))\n",
    "            X_test = X_test.reshape((X_test.shape[0],-1))\n",
    "        \n",
    "        # Scale data\n",
    "        if scale_data:\n",
    "            X_train, X_test = preprocessing.scale(X_train, X_test, mode=mode)\n",
    "            \n",
    "        if add_CE:\n",
    "            CE_train, CE_test = CE[train_index,:], CE[test_index,:]\n",
    "\n",
    "            # PCA to reduce CE\n",
    "            pca = PCA(n_components=0.9)\n",
    "            pca.fit(CE_train)\n",
    "            CE_train = pca.transform(CE_train)\n",
    "            CE_test = pca.transform(CE_test)\n",
    "\n",
    "            # Scale CE\n",
    "            CE_train, CE_test = preprocessing.scale(CE_train, CE_test)\n",
    "            '''\n",
    "            print('CE_train: (%s,%s)'%(np.mean(CE_train, axis=0), np.std(CE_train, axis=0)))\n",
    "            print('CE_test: (%s,%s)'%(np.mean(CE_test, axis=0), np.std(CE_test, axis=0)))\n",
    "            print('X_train: (%s,%s)'%(np.mean(X_train, axis=0), np.std(X_train, axis=0)))\n",
    "            print('X_test: (%s,%s)'%(np.mean(X_test, axis=0), np.std(X_test, axis=0)))\n",
    "            '''\n",
    "            print('CE_train: ', CE_train.shape)\n",
    "\n",
    "            X_train = np.concatenate((X_train, CE_train), axis=1)\n",
    "            X_test = np.concatenate((X_test, CE_test), axis=1)\n",
    "            \n",
    "        if add_correlation:\n",
    "            \n",
    "            # Get correlation between channels\n",
    "            correlations = add_features.get_correlations(X_all.reshape((X_all.shape[0],12,-1)))\n",
    "            \n",
    "            pca = PCA(n_components=0.9)\n",
    "            pca.fit(correlations[train_index,:])\n",
    "            corr_train = pca.transform(correlations[train_index,:])\n",
    "            corr_test = pca.transform(correlations[test_index,:])\n",
    "            print('corr_train: ', corr_train.shape)\n",
    "            \n",
    "            # Standardize correlations\n",
    "            corr_train, corr_test = preprocessing.scale(corr_train, corr_test)\n",
    "            \n",
    "            X_train = np.concatenate((X_train, corr_train), axis=1)\n",
    "            X_test = np.concatenate((X_test, corr_test), axis=1)\n",
    "            \n",
    "\n",
    "        # Data augmentation\n",
    "        aug_X_train, aug_Y_train = {}, {}\n",
    "\n",
    "        aug_X_train['Original'], aug_Y_train['Original'] = X_train.copy(), Y_train.copy()\n",
    "        if 'undersampling' in aug_methods:\n",
    "            aug_X_train['undersampling'], aug_Y_train['undersampling'] = data_augmentation.aug(X_train, Y_train, 'undersampling')\n",
    "        if 'SMOTER' in aug_methods:\n",
    "            aug_X_train['SMOTER'], aug_Y_train['SMOTER'] = data_augmentation.aug(X_train, Y_train, 'SMOTER')\n",
    "        if 'add_noise' in aug_methods:\n",
    "            aug_X_train['add_noise'], aug_Y_train['add_noise'] = data_augmentation.aug(X_train, Y_train, 'add_noise', (10,0.5))\n",
    "\n",
    "        for i_aug, aug_method in enumerate(aug_methods):\n",
    "\n",
    "            X_train, Y_train = aug_X_train[aug_method], aug_Y_train[aug_method]\n",
    "            \n",
    "            # Initialize regressor\n",
    "            if rgr_method == 1:\n",
    "                rgr = LinearRegression()\n",
    "            elif rgr_method == 2:\n",
    "                rgr = Ridge(alpha=1)\n",
    "            elif rgr_method == 3:\n",
    "                #kernel = RBF(10, (1e-5,1e2)) + ConstantKernel(10, (1e-3,1e3))\n",
    "                kernel = RBF(10, (1e-5,1e2))\n",
    "                rgr = GaussianProcessRegressor(kernel=kernel, random_state=0)\n",
    "            elif rgr_method == 4:\n",
    "                rgr = elm.ELMKernel()\n",
    "                \n",
    "            elif rgr_method == 5:\n",
    "                params = [\"sigmoid\", 1, 100, False]\n",
    "                rgr= elm.ELMRandom(params)\n",
    "                \n",
    "            elif rgr_method == 6:\n",
    "                rgr = RandomForestRegressor(max_depth=10, random_state=10, n_estimators=100)\n",
    "            \n",
    "            # Do regression\n",
    "            if rgr_method not in [4,5]:\n",
    "                _, train_std[i,i_aug], test_std[i,i_aug], train_r2[i,i_aug], test_r2[i,i_aug], pred_train, pred_test = \\\n",
    "                    regression(X_train, Y_train, X_test, Y_test, rgr, scale_target)\n",
    "            else:\n",
    "                if scale_target == 2:\n",
    "                    scaler = TargetScaler(num_step=10)\n",
    "                    scaler.fit(Y_train)\n",
    "                    Y_train, Y_test = scaler.transform(Y_train), scaler.transform(Y_test)\n",
    "                elif scale_target == 1:\n",
    "                    \n",
    "                    Y_train, Y_test = (Y_train-30)/30, (Y_test-30)/30\n",
    "                    \n",
    "                \n",
    "                # Concatenate data for extreme learning machine\n",
    "                train_data = np.concatenate((Y_train[:,np.newaxis], X_train), axis=1)\n",
    "                test_data = np.concatenate((Y_test[:,np.newaxis], X_test), axis=1)\n",
    "                \n",
    "                rgr.search_param(train_data, cv=\"kfold\", of=\"rmse\", eval=10)\n",
    "                pred_train = rgr.train(train_data).predicted_targets\n",
    "                pred_test = rgr.test(test_data).predicted_targets\n",
    "                \n",
    "                if scale_target == 2:\n",
    "                    \n",
    "                    [Y_train, Y_test, pred_train, pred_test] = [scaler.transform(x, mode='inverse') for x in \\\n",
    "                                                   [Y_train, Y_test, pred_train, pred_test]]\n",
    "                elif scale_target == 1:\n",
    "                    \n",
    "                    [Y_train, Y_test, pred_train, pred_test] = [x*30+30 for x in \\\n",
    "                                                   [Y_train, Y_test, pred_train, pred_test]]\n",
    "                \n",
    "                    \n",
    "                \n",
    "                train_std[i, i_aug] = mean_squared_error(Y_train, pred_train)**0.5\n",
    "                test_std[i, i_aug] = mean_squared_error(Y_test, pred_test)**0.5\n",
    "                train_r2[i, i_aug] = r2_score(Y_train, pred_train)\n",
    "                test_r2[i, i_aug] = r2_score(Y_test, pred_test)\n",
    "                \n",
    "            print('%s: %f | %f, %f | %f\\n'%(aug_method, train_std[i,i_aug], test_std[i,i_aug], \n",
    "                                            train_r2[i,i_aug], test_r2[i,i_aug]))\n",
    "            pred_Y[curr_test:curr_test+len(test_index), i_aug] = pred_test\n",
    "\n",
    "        true_Y[curr_test:curr_test+len(test_index)] = Y_test\n",
    "        curr_test += len(test_index)\n",
    "\n",
    "    record['true_Y'].append(true_Y)\n",
    "    record['pred_Y'].append(pred_Y)\n",
    "    record['train_std'].append(train_std)\n",
    "    record['test_std'].append(test_std)\n",
    "    record['train_r2'].append(train_r2)\n",
    "    record['test_r2'].append(test_r2)\n"
   ]
  },
  {
   "cell_type": "code",
   "execution_count": 21,
   "metadata": {},
   "outputs": [
    {
     "name": "stdout",
     "output_type": "stream",
     "text": [
      "Subject 100, Original: std (6.181291, 11.060505), r2 (0.707991, 0.035914)\n"
     ]
    },
    {
     "data": {
      "image/png": "[encoded data removed]",
      "text/plain": [
       "<Figure size 576x288 with 2 Axes>"
      ]
     },
     "metadata": {
      "needs_background": "light"
     },
     "output_type": "display_data"
    }
   ],
   "source": [
    "for i_sub, sub in enumerate(subs):\n",
    "    train_std = record['train_std'][i_sub]\n",
    "    test_std = record['test_std'][i_sub]\n",
    "    train_r2 = record['train_r2'][i_sub]\n",
    "    test_std = record['test_std'][i_sub]\n",
    "    true_Y = record['true_Y'][i_sub]\n",
    "    pred_Y = record['pred_Y'][i_sub]\n",
    "    \n",
    "    for i, aug_method in enumerate(aug_methods):\n",
    "        print('Subject %d, %s: std (%f, %f), r2 (%f, %f)'%(sub, aug_method, \\\n",
    "            np.mean(train_std[:,i]), np.mean(test_std[:,i]), np.mean(train_r2[:,i]), np.mean(test_r2[:,i])))\n",
    "        \n",
    "        plot_scatter(true_Y, pred_Y[:,i], 'RawData_%s_sub%d_std_%.2f'%(aug_method, sub, np.mean(test_std[:,i])))"
   ]
  },
  {
   "cell_type": "code",
   "execution_count": 31,
   "metadata": {},
   "outputs": [
    {
     "name": "stdout",
     "output_type": "stream",
     "text": [
      "Subject 0 59 trials, 14.760\n",
      "Subject 1 70 trials, 12.131\n",
      "Subject 2 174 trials, 4.753\n",
      "Subject 3 137 trials, 6.997\n",
      "Subject 4 43 trials, 19.712\n",
      "Subject 5 94 trials, 10.580\n",
      "Subject 6 112 trials, 7.853\n",
      "Subject 7 60 trials, 14.220\n",
      "Subject 8 154 trials, 9.338\n",
      "Subject 9 56 trials, 14.464\n",
      "Subject 10 80 trials, 16.862\n"
     ]
    }
   ],
   "source": [
    "for i in range(11):\n",
    "    print('Subject %d %d trials, %.3f'%(i, len(record['pred_Y'][i]), np.mean(record['true_Y'][i])))"
   ]
  },
  {
   "cell_type": "markdown",
   "metadata": {},
   "source": [
    "## All data analysis"
   ]
  },
  {
   "cell_type": "code",
   "execution_count": 13,
   "metadata": {},
   "outputs": [
    {
     "name": "stdout",
     "output_type": "stream",
     "text": [
      "Base threshold: 5.000000\n",
      "1. 0.192\n",
      "2. 0.175\n"
     ]
    },
    {
     "data": {
      "image/png": "[encoded data removed]",
      "text/plain": [
       "<Figure size 576x288 with 2 Axes>"
      ]
     },
     "metadata": {
      "needs_background": "light"
     },
     "output_type": "display_data"
    }
   ],
   "source": [
    "X, Y = preprocessing.standardize(ERSP_all, tmp_all, threshold=float(5))\n",
    "\n",
    "# X, select_indices = preprocessing.select_correlated_ERSP(X, Y, threshold_corr=0.75)\n",
    "X = X.reshape((X.shape[0],-1))\n",
    "\n",
    "X = preprocessing.PCA_corr(X, Y, num_features=2)\n",
    "rgr = LinearRegression()\n",
    "rgr.fit(X, Y)\n",
    "\n",
    "pred_Y = rgr.predict(X)\n",
    "\n",
    "plot_scatter(Y, pred_Y)"
   ]
  },
  {
   "cell_type": "code",
   "execution_count": null,
   "metadata": {},
   "outputs": [],
   "source": [
    "std_list = []\n",
    "r2_list = []\n",
    "for remove_threshold in range(2,80,2):\n",
    "    \n",
    "    X_train, Y_train = preprocessing.remove_trials(ERSP_all, SLs, remove_threshold)\n",
    "    \n",
    "    pca = PCA(n_components=0.9)\n",
    "    pca.fit(X_train)\n",
    "    X_train = pca.transform(X_train)\n",
    "    \n",
    "    rgr = svm.SVR()\n",
    "    rgr.fit(X_train, Y_train)\n",
    "    pred_Y = rgr.predict(X_train)\n",
    "    \n",
    "    error = standard_error(Y_train, pred_Y)\n",
    "    r2 = r2_score(Y_train, pred_Y)\n",
    "    std_list.append(error)\n",
    "    r2_list.append(r2)\n",
    "    print('%d: %f, %f'%(remove_threshold, error, r2))"
   ]
  },
  {
   "cell_type": "code",
   "execution_count": 18,
   "metadata": {},
   "outputs": [
    {
     "data": {
      "text/plain": [
       "(array([ 3., 50., 56., 54., 38., 24., 22., 21., 16., 21., 19.,  7., 11.,\n",
       "        12.,  6.,  9.,  6.,  4.,  6.,  6.,  4.,  1.,  1.,  4.,  2.,  7.,\n",
       "         2.,  0.,  1.,  0.,  1.,  1.,  2.,  3.,  1.,  1.,  0.,  0.,  1.,\n",
       "         0.,  2.,  0.,  1.,  0.,  0.,  2.,  1.,  1.,  1.,  1.,  1.,  1.,\n",
       "         1.,  2.,  0.,  1.,  0.,  1.,  2.,  1.,  1.,  0.,  0.,  0.,  0.,\n",
       "         0.,  0.,  0.,  0.,  0.,  0.,  2.,  0.,  0.,  0.,  0.,  0.,  0.,\n",
       "         0.,  0.,  0.,  1.,  0.,  0.,  1.,  1.,  1.,  0.,  0.,  0.,  0.,\n",
       "         0.,  1.,  0.,  0.,  0.,  0.,  0.,  1.,  1.]),\n",
       " array([ 0.15234375,  1.091875  ,  2.03140625,  2.9709375 ,  3.91046875,\n",
       "         4.85      ,  5.78953125,  6.7290625 ,  7.66859375,  8.608125  ,\n",
       "         9.54765625, 10.4871875 , 11.42671875, 12.36625   , 13.30578125,\n",
       "        14.2453125 , 15.18484375, 16.124375  , 17.06390625, 18.0034375 ,\n",
       "        18.94296875, 19.8825    , 20.82203125, 21.7615625 , 22.70109375,\n",
       "        23.640625  , 24.58015625, 25.5196875 , 26.45921875, 27.39875   ,\n",
       "        28.33828125, 29.2778125 , 30.21734375, 31.156875  , 32.09640625,\n",
       "        33.0359375 , 33.97546875, 34.915     , 35.85453125, 36.7940625 ,\n",
       "        37.73359375, 38.673125  , 39.61265625, 40.5521875 , 41.49171875,\n",
       "        42.43125   , 43.37078125, 44.3103125 , 45.24984375, 46.189375  ,\n",
       "        47.12890625, 48.0684375 , 49.00796875, 49.9475    , 50.88703125,\n",
       "        51.8265625 , 52.76609375, 53.705625  , 54.64515625, 55.5846875 ,\n",
       "        56.52421875, 57.46375   , 58.40328125, 59.3428125 , 60.28234375,\n",
       "        61.221875  , 62.16140625, 63.1009375 , 64.04046875, 64.98      ,\n",
       "        65.91953125, 66.8590625 , 67.79859375, 68.738125  , 69.67765625,\n",
       "        70.6171875 , 71.55671875, 72.49625   , 73.43578125, 74.3753125 ,\n",
       "        75.31484375, 76.254375  , 77.19390625, 78.1334375 , 79.07296875,\n",
       "        80.0125    , 80.95203125, 81.8915625 , 82.83109375, 83.770625  ,\n",
       "        84.71015625, 85.6496875 , 86.58921875, 87.52875   , 88.46828125,\n",
       "        89.4078125 , 90.34734375, 91.286875  , 92.22640625, 93.1659375 ,\n",
       "        94.10546875]),\n",
       " <a list of 100 Patch objects>)"
      ]
     },
     "execution_count": 18,
     "metadata": {},
     "output_type": "execute_result"
    },
    {
     "data": {
      "image/png": "[encoded data removed]",
      "text/plain": [
       "<Figure size 432x288 with 1 Axes>"
      ]
     },
     "metadata": {
      "needs_background": "light"
     },
     "output_type": "display_data"
    }
   ],
   "source": [
    "plt.hist(SLs, bins=100)"
   ]
  },
  {
   "cell_type": "code",
   "execution_count": 10,
   "metadata": {},
   "outputs": [
    {
     "data": {
      "text/plain": [
       "0.2013274336283186"
      ]
     },
     "execution_count": 10,
     "metadata": {},
     "output_type": "execute_result"
    }
   ],
   "source": [
    "SLs = tmp_all[:,2]\n",
    "np.sum(SLs<=np.quantile(SLs, 0.2))/len(SLs)"
   ]
  },
  {
   "cell_type": "code",
   "execution_count": 8,
   "metadata": {},
   "outputs": [
    {
     "data": {
      "text/plain": [
       "3.02001953125"
      ]
     },
     "execution_count": 8,
     "metadata": {},
     "output_type": "execute_result"
    }
   ],
   "source": [
    "np.quantile(SLs, 0.25)"
   ]
  },
  {
   "cell_type": "code",
   "execution_count": 3,
   "metadata": {},
   "outputs": [
    {
     "name": "stdout",
     "output_type": "stream",
     "text": [
      "elmk\n",
      "##### Start search #####\n",
      "Kernel function:  rbf  best cv value:  0.9333333333333331\n",
      "Kernel function:  linear  best cv value:  0.9749999999999999\n",
      "Kernel function:  poly  best cv value:  0.9749999999999999\n",
      "##### Search complete #####\n",
      "\n",
      "Regressor Parameters\n",
      "\n",
      "Regularization coefficient:  -1.4121765752567652\n",
      "Kernel Function:  linear\n",
      "Kernel parameters:  []\n",
      "\n",
      "CV error:  0.9749999999999999\n",
      "\n",
      "<bound method Error.get_accuracy of <elm.mltools.Error object at 0x7ff0bf5c0f50>>\n"
     ]
    }
   ],
   "source": [
    "import elm\n",
    "\n",
    "# download an example dataset from\n",
    "# https://github.com/acba/elm/tree/develop/tests/data\n",
    "\n",
    "\n",
    "# load dataset\n",
    "data = elm.read(\"iris.data\")\n",
    "\n",
    "# create a classifier\n",
    "elmk = elm.ELMKernel()\n",
    "\n",
    "# split data in training and testing sets\n",
    "# use 80% of dataset to training and shuffle data before splitting\n",
    "tr_set, te_set = elm.split_sets(data, training_percent=.8, perm=True)\n",
    "\n",
    "# search for best parameter for this dataset\n",
    "# define \"kfold\" cross-validation method, \"accuracy\" as a objective function\n",
    "# to be optimized and perform 10 searching steps.\n",
    "# best parameters will be saved inside 'elmk' object\n",
    "elmk.search_param(tr_set, cv=\"kfold\", of=\"accuracy\", eval=10)\n",
    "\n",
    "\n",
    "\n",
    "#train and test\n",
    "# results are Error objects\n",
    "tr_result = elmk.train(tr_set)\n",
    "te_result = elmk.test(te_set)\n",
    "\n",
    "print(te_result.get_accuracy)\n",
    "#print(te_result)"
   ]
  }
 ],
 "metadata": {
  "kernelspec": {
   "display_name": "Python 3",
   "language": "python",
   "name": "python3"
  },
  "language_info": {
   "codemirror_mode": {
    "name": "ipython",
    "version": 3
   },
   "file_extension": ".py",
   "mimetype": "text/x-python",
   "name": "python",
   "nbconvert_exporter": "python",
   "pygments_lexer": "ipython3",
   "version": "3.7.6"
  }
 },
 "nbformat": 4,
 "nbformat_minor": 4
}
