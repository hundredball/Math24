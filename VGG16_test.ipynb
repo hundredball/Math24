{
 "cells": [
  {
   "cell_type": "code",
   "execution_count": 1,
   "metadata": {},
   "outputs": [
    {
     "name": "stdout",
     "output_type": "stream",
     "text": [
      "cuda:0\n"
     ]
    }
   ],
   "source": [
    "import torch\n",
    "import torch.nn as nn\n",
    "import torch.nn.functional as F\n",
    "import torch.utils.data as Data\n",
    "import torchvision\n",
    "import torchvision.models as models\n",
    "import torchvision.transforms as transforms\n",
    "\n",
    "import matplotlib.pyplot as plt\n",
    "from sklearn import linear_model\n",
    "from sklearn.decomposition import PCA\n",
    "from sklearn.cross_decomposition import PLSRegression\n",
    "from sklearn import svm\n",
    "from scipy import stats\n",
    "import numpy as np\n",
    "import network_dataloader as ndl\n",
    "\n",
    "device = torch.device(\"cuda:0\" if torch.cuda.is_available() else \"cpu\")\n",
    "print(device)\n"
   ]
  },
  {
   "cell_type": "markdown",
   "metadata": {},
   "source": [
    "## Get pretrained model"
   ]
  },
  {
   "cell_type": "code",
   "execution_count": 2,
   "metadata": {},
   "outputs": [],
   "source": [
    "net = models.vgg16(pretrained=True, progress=True).to(device=device)"
   ]
  },
  {
   "cell_type": "markdown",
   "metadata": {},
   "source": [
    "## Modify the last layer to output the same as input"
   ]
  },
  {
   "cell_type": "code",
   "execution_count": 3,
   "metadata": {},
   "outputs": [],
   "source": [
    "class Identity(nn.Module):\n",
    "    def __init__(self):\n",
    "        super(Identity, self).__init__()\n",
    "        \n",
    "    def forward(self, x):\n",
    "        return x\n",
    "    \n",
    "net.classifier[6] = Identity()"
   ]
  },
  {
   "cell_type": "markdown",
   "metadata": {},
   "source": [
    "## Get dataset"
   ]
  },
  {
   "cell_type": "code",
   "execution_count": 4,
   "metadata": {},
   "outputs": [
    {
     "name": "stdout",
     "output_type": "stream",
     "text": [
      "Initializing Datasets and Dataloaders...\n",
      "> Found 56 images...\n",
      "> Found 7 images...\n"
     ]
    }
   ],
   "source": [
    "batchSize = 56\n",
    "input_size = 224\n",
    "# Load Data\n",
    "data_transforms = {\n",
    "        'train': transforms.Compose([\n",
    "                ndl.Rescale(input_size),\n",
    "                ndl.ToTensor()]), \n",
    "        'test': transforms.Compose([\n",
    "                ndl.Rescale(input_size),\n",
    "                ndl.ToTensor()])\n",
    "        }\n",
    "\n",
    "print(\"Initializing Datasets and Dataloaders...\")\n",
    "\n",
    "# Create training and testing datasets\n",
    "image_datasets = {x: ndl.TopoplotLoader('images', x, data_transforms[x]) for x in ['train', 'test']}\n",
    "\n",
    "# Create training and testing dataloaders\n",
    "dataloaders_dict = {'train': Data.DataLoader(image_datasets['train'], batch_size=batchSize, shuffle=True, num_workers=4),\n",
    "                    'test':  Data.DataLoader(image_datasets['test'], batch_size=batchSize, shuffle=False, num_workers=4)}"
   ]
  },
  {
   "cell_type": "markdown",
   "metadata": {},
   "source": [
    "## Extract features by VGG16 "
   ]
  },
  {
   "cell_type": "code",
   "execution_count": 5,
   "metadata": {},
   "outputs": [
    {
     "name": "stdout",
     "output_type": "stream",
     "text": [
      "X_train shape :  (56, 4096)\n",
      "Y_train shape :  (56,)\n",
      "X_test shape :  (7, 4096)\n",
      "Y_test shape :  (7,)\n"
     ]
    }
   ],
   "source": [
    "net.eval() # Disable batchnorm, dropout\n",
    "\n",
    "# Training data\n",
    "for samples in dataloaders_dict['train']:\n",
    "    imgs = samples['image'].to(device=device)\n",
    "    labels = samples['label'].to(device=device)\n",
    "    \n",
    "    with torch.no_grad():\n",
    "        X_train = net(imgs).cpu().numpy()\n",
    "    Y_train = labels.cpu().numpy()\n",
    "    \n",
    "print('X_train shape : ', X_train.shape)\n",
    "print('Y_train shape : ', Y_train.shape)\n",
    "    \n",
    "# Testing data\n",
    "for samples in dataloaders_dict['test']:\n",
    "    imgs = samples['image'].to(device=device)\n",
    "    labels = samples['label'].to(device=device)\n",
    "    \n",
    "    with torch.no_grad():\n",
    "        X_test = net(imgs).cpu().numpy()\n",
    "    Y_test = labels.cpu().numpy()\n",
    "    \n",
    "print('X_test shape : ', X_test.shape)\n",
    "print('Y_test shape : ', Y_test.shape)\n",
    "    \n"
   ]
  },
  {
   "cell_type": "markdown",
   "metadata": {},
   "source": [
    "## Apply PCA to reduct dimension"
   ]
  },
  {
   "cell_type": "code",
   "execution_count": 22,
   "metadata": {},
   "outputs": [
    {
     "name": "stdout",
     "output_type": "stream",
     "text": [
      "X_train_PCA shape :  (56, 10)\n",
      "X_test_PCA shape :  (7, 10)\n"
     ]
    }
   ],
   "source": [
    "pca = PCA(n_components=10)\n",
    "pca.fit(X_train)\n",
    "\n",
    "X_train_PCA = pca.transform(X_train)\n",
    "X_test_PCA = pca.transform(X_test)\n",
    "\n",
    "print('X_train_PCA shape : ', X_train_PCA.shape)\n",
    "print('X_test_PCA shape : ', X_test_PCA.shape)"
   ]
  },
  {
   "cell_type": "markdown",
   "metadata": {},
   "source": [
    "## Regression to predict solution time"
   ]
  },
  {
   "cell_type": "code",
   "execution_count": 40,
   "metadata": {},
   "outputs": [
    {
     "data": {
      "text/plain": [
       "Lasso(alpha=1, copy_X=True, fit_intercept=True, max_iter=1000, normalize=False,\n",
       "      positive=False, precompute=False, random_state=None, selection='cyclic',\n",
       "      tol=0.0001, warm_start=False)"
      ]
     },
     "execution_count": 40,
     "metadata": {},
     "output_type": "execute_result"
    }
   ],
   "source": [
    "X_train_Reg = X_train_PCA\n",
    "X_test_Reg = X_test_PCA\n",
    "clf = linear_model.Lasso(alpha=1)\n",
    "clf.fit(X_train_Reg, Y_train)"
   ]
  },
  {
   "cell_type": "code",
   "execution_count": 41,
   "metadata": {},
   "outputs": [
    {
     "name": "stdout",
     "output_type": "stream",
     "text": [
      "Average difference of training data:  13.567637852260043\n",
      "DescribeResult(nobs=56, minmax=(2.4296875, 82.87891), mean=19.08531, variance=379.44598, skewness=1.5871025323867798, kurtosis=1.858187245913383)\n"
     ]
    },
    {
     "data": {
      "image/png": "[encoded data removed]",
      "text/plain": [
       "<Figure size 432x288 with 1 Axes>"
      ]
     },
     "metadata": {
      "needs_background": "light"
     },
     "output_type": "display_data"
    }
   ],
   "source": [
    "num_train = len(Y_train)\n",
    "pred_train = clf.predict(X_train_Reg).flatten()\n",
    "plt.plot(range(num_train), Y_train)\n",
    "plt.plot(range(num_train), pred_train)\n",
    "plt.xlabel('Trials')\n",
    "plt.ylabel('SL (seconds)')\n",
    "plt.legend(('True', 'Pred'))\n",
    "\n",
    "MSE_train = 1/num_train * np.sum(np.abs(pred_train-Y_train))\n",
    "print('Average difference of training data: ', MSE_train)\n",
    "print(stats.describe(Y_train))"
   ]
  },
  {
   "cell_type": "code",
   "execution_count": 42,
   "metadata": {},
   "outputs": [
    {
     "name": "stdout",
     "output_type": "stream",
     "text": [
      "Average difference of testing data:  11.424543108258929\n",
      "DescribeResult(nobs=7, minmax=(4.1132812, 30.390625), mean=12.50558, variance=123.50408, skewness=0.9258143901824951, kurtosis=-1.024864569632204)\n"
     ]
    },
    {
     "data": {
      "image/png": "[encoded data removed]",
      "text/plain": [
       "<Figure size 432x288 with 1 Axes>"
      ]
     },
     "metadata": {
      "needs_background": "light"
     },
     "output_type": "display_data"
    }
   ],
   "source": [
    "num_test = len(Y_test)\n",
    "pred_test = clf.predict(X_test_Reg).flatten()\n",
    "plt.plot(range(len(Y_test)), Y_test)\n",
    "plt.plot(range(len(Y_test)), pred_test)\n",
    "plt.xlabel('Trials')\n",
    "plt.ylabel('SL (seconds)')\n",
    "plt.legend(('True', 'Pred'))\n",
    "\n",
    "MSE_test = 1/num_test * np.sum(np.abs(pred_test-Y_test))\n",
    "print('Average difference of testing data: ', MSE_test)\n",
    "print(stats.describe(Y_test))"
   ]
  },
  {
   "cell_type": "markdown",
   "metadata": {},
   "source": [
    "## Binary classification"
   ]
  },
  {
   "cell_type": "code",
   "execution_count": 6,
   "metadata": {},
   "outputs": [],
   "source": [
    "Y_train_Cla = Y_train\n",
    "Y_test_Cla = Y_test"
   ]
  },
  {
   "cell_type": "code",
   "execution_count": 7,
   "metadata": {},
   "outputs": [],
   "source": [
    "Y_train_Cla[Y_train<=30] = 0\n",
    "Y_train_Cla[Y_train>30] = 1\n",
    "Y_test_Cla[Y_test<=30] = 0\n",
    "Y_test_Cla[Y_test>30] = 1 "
   ]
  },
  {
   "cell_type": "code",
   "execution_count": 8,
   "metadata": {},
   "outputs": [
    {
     "data": {
      "text/plain": [
       "SVC(C=1.0, break_ties=False, cache_size=200, class_weight=None, coef0=0.0,\n",
       "    decision_function_shape='ovr', degree=3, gamma='scale', kernel='rbf',\n",
       "    max_iter=-1, probability=False, random_state=None, shrinking=True,\n",
       "    tol=0.001, verbose=False)"
      ]
     },
     "execution_count": 8,
     "metadata": {},
     "output_type": "execute_result"
    }
   ],
   "source": [
    "clf = svm.SVC()\n",
    "clf.fit(X_train, Y_train_Cla)"
   ]
  },
  {
   "cell_type": "code",
   "execution_count": 13,
   "metadata": {},
   "outputs": [
    {
     "name": "stdout",
     "output_type": "stream",
     "text": [
      "Training : (45, 56)\n",
      "Accuracy : 80.357143\n",
      "Testing : (6, 7)\n",
      "Accuracy : 85.714286\n"
     ]
    }
   ],
   "source": [
    "num_train = len(Y_train)\n",
    "pred_train = clf.predict(X_train)\n",
    "\n",
    "print('Training : (%d, %d)'%(np.sum(pred_train == Y_train_Cla), num_train))\n",
    "print('Accuracy : %f'%(np.sum(pred_train == Y_train_Cla)/num_train*100))\n",
    "\n",
    "num_test = len(Y_test)\n",
    "pred_test = clf.predict(X_test)\n",
    "\n",
    "print('Testing : (%d, %d)'%(np.sum(pred_test == Y_test_Cla), num_test))\n",
    "print('Accuracy : %f'%(np.sum(pred_test == Y_test_Cla)/num_test*100))"
   ]
  },
  {
   "cell_type": "code",
   "execution_count": null,
   "metadata": {},
   "outputs": [],
   "source": []
  }
 ],
 "metadata": {
  "kernelspec": {
   "display_name": "Python 3",
   "language": "python",
   "name": "python3"
  },
  "language_info": {
   "codemirror_mode": {
    "name": "ipython",
    "version": 3
   },
   "file_extension": ".py",
   "mimetype": "text/x-python",
   "name": "python",
   "nbconvert_exporter": "python",
   "pygments_lexer": "ipython3",
   "version": "3.7.6"
  }
 },
 "nbformat": 4,
 "nbformat_minor": 2
}
