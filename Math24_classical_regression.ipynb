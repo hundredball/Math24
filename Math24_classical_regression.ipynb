{
 "cells": [
  {
   "cell_type": "code",
   "execution_count": 1,
   "metadata": {},
   "outputs": [],
   "source": [
    "import numpy as np\n",
    "import pandas as pd\n",
    "import matplotlib.pyplot as plt\n",
    "import pickle\n",
    "from sklearn.discriminant_analysis import LinearDiscriminantAnalysis as LDA\n",
    "from sklearn.model_selection import train_test_split\n",
    "from sklearn.decomposition import PCA\n",
    "from sklearn.model_selection import LeaveOneOut, KFold\n",
    "from sklearn.linear_model import LinearRegression, Ridge, Lasso\n",
    "from sklearn.cross_decomposition import PLSRegression\n",
    "from sklearn import svm\n",
    "from sklearn.metrics import mean_squared_error\n",
    "from sklearn.metrics import r2_score\n",
    "\n",
    "from scipy.optimize import curve_fit\n",
    "from scipy import stats\n",
    "\n",
    "import os,sys,inspect\n",
    "current_dir = os.path.dirname(os.path.abspath(inspect.getfile(inspect.currentframe())))\n",
    "sys.path.insert(0, current_dir) \n",
    "import dataloader as dl\n",
    "import bandpower\n",
    "from Ginny_ERSP import preprocessing\n"
   ]
  },
  {
   "cell_type": "markdown",
   "metadata": {},
   "source": [
    "# Import data"
   ]
  },
  {
   "cell_type": "code",
   "execution_count": 2,
   "metadata": {},
   "outputs": [
    {
     "name": "stdout",
     "output_type": "stream",
     "text": [
      "Shape of ERSP:  (1084, 12, 57, 172)\n",
      "Shape of SLs:  (1084,)\n",
      "Shape of freq:  (57,)\n",
      "Shape of t:  (172,)\n"
     ]
    }
   ],
   "source": [
    "# Read pickle file\n",
    "with open('./ERSP_from_raw.data', 'rb') as fp:\n",
    "    dict_ERSP = pickle.load(fp)\n",
    "    \n",
    "ERSP, SLs, freq, t = dict_ERSP['ERSP'], dict_ERSP['SLs'], dict_ERSP['freq'], dict_ERSP['t']\n",
    "print('Shape of ERSP: ', ERSP.shape)\n",
    "print('Shape of SLs: ', SLs.shape)\n",
    "print('Shape of freq: ', freq.shape)\n",
    "print('Shape of t: ', t.shape)"
   ]
  },
  {
   "cell_type": "markdown",
   "metadata": {},
   "source": [
    "# Regression"
   ]
  },
  {
   "cell_type": "code",
   "execution_count": 3,
   "metadata": {},
   "outputs": [],
   "source": [
    "def standard_error(pred, target):\n",
    "    \n",
    "    assert pred.shape[0] == target.shape[0]\n",
    "    \n",
    "    return (np.sum( np.power(pred-target,2) )/len(pred))**0.5\n",
    "\n",
    "def plot_scatter(true, pred):\n",
    "\n",
    "    max_value = np.max(np.hstack((true, pred)))\n",
    "    plt.scatter(true, pred, marker='.')\n",
    "    axes = plt.gca()\n",
    "    axes.set_xlim([0, max_value])\n",
    "    axes.set_ylim([0, max_value])\n",
    "    plt.xlabel('True')\n",
    "    plt.ylabel('Pred')\n",
    "    \n",
    "def regression(X_train, Y_train, X_test, Y_test, regressor):\n",
    "    \n",
    "    results = regressor.fit(X_train,Y_train)\n",
    "    pred_train = regressor.predict(X_train)\n",
    "    pred_test = regressor.predict(X_test)\n",
    "    \n",
    "    train_std = mean_squared_error(Y_train, pred_train)**0.5\n",
    "    test_std = mean_squared_error(Y_test, pred_test)**0.5\n",
    "    train_r2 = r2_score(Y_train, pred_train)\n",
    "    test_r2 = r2_score(Y_test, pred_test)\n",
    "    \n",
    "    return results, train_std, test_std, train_r2, test_r2, pred_train, pred_test"
   ]
  },
  {
   "cell_type": "code",
   "execution_count": 7,
   "metadata": {},
   "outputs": [
    {
     "name": "stdout",
     "output_type": "stream",
     "text": [
      "---Iteration 0---\n",
      "\n",
      "Select 171 features\n",
      "Method 1: 16.265235 | 20.552573\n",
      "\n",
      "Baseline: 17.896274 | 21.157681\n",
      "\n",
      "---Iteration 1---\n",
      "\n",
      "Select 171 features\n",
      "Method 1: 16.748866 | 16.088400\n",
      "\n",
      "Baseline: 18.555705 | 15.250920\n",
      "\n",
      "---Iteration 2---\n",
      "\n",
      "Select 171 features\n",
      "Method 1: 16.913312 | 14.659246\n",
      "\n",
      "Baseline: 18.468042 | 16.180008\n",
      "\n",
      "---Iteration 3---\n",
      "\n",
      "Select 171 features\n",
      "Method 1: 16.802629 | 16.812388\n",
      "\n",
      "Baseline: 18.446991 | 16.388198\n",
      "\n",
      "---Iteration 4---\n",
      "\n",
      "Select 171 features\n",
      "Method 1: 16.566783 | 17.770581\n",
      "\n",
      "Baseline: 18.209828 | 18.613296\n",
      "\n",
      "---Iteration 5---\n",
      "\n",
      "Select 171 features\n",
      "Method 1: 16.658269 | 16.778119\n",
      "\n",
      "Baseline: 18.443787 | 16.404359\n",
      "\n",
      "---Iteration 6---\n",
      "\n",
      "Select 171 features\n",
      "Method 1: 16.461004 | 19.115271\n",
      "\n",
      "Baseline: 18.027352 | 20.158069\n",
      "\n",
      "---Iteration 7---\n",
      "\n",
      "Select 171 features\n",
      "Method 1: 16.586472 | 18.559853\n",
      "\n",
      "Baseline: 18.182623 | 18.853071\n",
      "\n",
      "---Iteration 8---\n",
      "\n",
      "Select 171 features\n",
      "Method 1: 16.579455 | 18.020520\n",
      "\n",
      "Baseline: 18.240431 | 18.342218\n",
      "\n",
      "---Iteration 9---\n",
      "\n",
      "Select 171 features\n",
      "Method 1: 16.372305 | 20.528217\n",
      "\n",
      "Baseline: 18.018963 | 20.222213\n",
      "\n"
     ]
    }
   ],
   "source": [
    "num_fold = 10\n",
    "train_std = np.zeros(num_fold)\n",
    "test_std = np.zeros(num_fold)\n",
    "train_r2 = np.zeros(num_fold)\n",
    "test_r2 = np.zeros(num_fold)\n",
    "train_base = np.zeros(num_fold)\n",
    "test_base = np.zeros(num_fold)\n",
    "train_base_r2 = np.zeros(num_fold)\n",
    "test_base_r2 = np.zeros(num_fold)\n",
    "\n",
    "pred_Y = np.zeros(num_fold)\n",
    "\n",
    "kf = KFold(n_splits=num_fold, shuffle=True)\n",
    "method = 1\n",
    "select = []\n",
    "\n",
    "for i, (train_index, test_index) in enumerate(kf.split(ERSP)):\n",
    "    print('---Iteration %d---\\n'%(i))\n",
    "    #print(test_index)\n",
    "    \n",
    "    # Standardize data\n",
    "    X_all, Y = preprocessing.standardize(ERSP, SLs, train_indices=train_index)\n",
    "    \n",
    "    # Select correlated ERSP\n",
    "    X_all, select_indices = preprocessing.select_correlated_ERSP(X_all, Y, threshold_corr=0.75, train_indices=train_index)\n",
    "    select.append(select_indices)\n",
    "    \n",
    "    # Flatten X_all\n",
    "    X_all = X_all.reshape((X_all.shape[0],-1))\n",
    "    \n",
    "    #X_all = preprocessing.bandpower(X_all, freqs, 5, 15)\n",
    "    \n",
    "    # Split data\n",
    "    X_train, X_test = X_all[train_index, :], X_all[test_index, :]\n",
    "    Y_train, Y_test = Y[train_index], Y[test_index]\n",
    "    \n",
    "    if method == 1:\n",
    "        pca = PCA(n_components=0.9)\n",
    "        pca.fit(X_train)\n",
    "        X_train = pca.transform(X_train)\n",
    "        X_test = pca.transform(X_test)\n",
    "    elif method == 2:\n",
    "        # PCA\n",
    "        X_train, X_test = preprocessing.PCA_corr(X_train, Y_train, X_test=X_test)\n",
    "    \n",
    "    # 1. Regression directly\n",
    "    #rgr = svm.SVR()\n",
    "    #rgr = Ridge(alpha=1)\n",
    "    rgr = LinearRegression()\n",
    "    results, train_std[i], test_std[i], train_r2[i], test_r2[i], pred_train1, pred_test1 = regression(\\\n",
    "        X_train, Y_train, X_test, Y_test, rgr)\n",
    "    print('Method 1: %f | %f\\n'%(train_std[i], test_std[i]))\n",
    "    #pred_Y[i] = pred_test1\n",
    "    \n",
    "    train_baseline = np.array([np.mean(Y_train)]*Y_train.shape[0])\n",
    "    test_baseline = np.array([np.mean(Y_train)]*Y_test.shape[0])\n",
    "    print('Baseline: %f | %f\\n'%(standard_error(train_baseline, Y_train), standard_error(test_baseline, Y_test)))\n",
    "    train_base[i] = standard_error(train_baseline, Y_train)\n",
    "    test_base[i] = standard_error(test_baseline, Y_test)\n",
    "    train_base_r2[i] = r2_score(Y_train, train_baseline)\n",
    "    test_base_r2[i] = r2_score(Y_test, test_baseline)\n",
    "    "
   ]
  },
  {
   "cell_type": "code",
   "execution_count": 8,
   "metadata": {},
   "outputs": [
    {
     "name": "stdout",
     "output_type": "stream",
     "text": [
      "Baseline : std (18.25,18.16), r2 (0.00,-0.00)\n",
      "Method 1: std (16.60,17.89), r2 (0.17,0.02)\n"
     ]
    }
   ],
   "source": [
    "print('Baseline : std (%.2f,%.2f), r2 (%.2f,%.2f)'%\\\n",
    "      (np.mean(train_base), np.mean(test_base), np.mean(train_base_r2), np.mean(test_base_r2)))\n",
    "print('Method 1: std (%.2f,%.2f), r2 (%.2f,%.2f)'%(np.mean(train_std), np.mean(test_std), np.mean(train_r2), np.mean(test_r2)))"
   ]
  },
  {
   "cell_type": "code",
   "execution_count": 9,
   "metadata": {},
   "outputs": [
    {
     "data": {
      "image/png": "[encoded data removed]",
      "text/plain": [
       "<Figure size 432x288 with 1 Axes>"
      ]
     },
     "metadata": {
      "needs_background": "light"
     },
     "output_type": "display_data"
    }
   ],
   "source": [
    "plot_scatter(Y_test, pred_test1)"
   ]
  },
  {
   "cell_type": "code",
   "execution_count": 23,
   "metadata": {},
   "outputs": [
    {
     "data": {
      "text/plain": [
       "(1084, 12, 57, 172)"
      ]
     },
     "execution_count": 23,
     "metadata": {},
     "output_type": "execute_result"
    }
   ],
   "source": [
    "ERSP.shape"
   ]
  },
  {
   "cell_type": "code",
   "execution_count": null,
   "metadata": {},
   "outputs": [],
   "source": []
  }
 ],
 "metadata": {
  "kernelspec": {
   "display_name": "Python 3",
   "language": "python",
   "name": "python3"
  },
  "language_info": {
   "codemirror_mode": {
    "name": "ipython",
    "version": 3
   },
   "file_extension": ".py",
   "mimetype": "text/x-python",
   "name": "python",
   "nbconvert_exporter": "python",
   "pygments_lexer": "ipython3",
   "version": "3.7.6"
  }
 },
 "nbformat": 4,
 "nbformat_minor": 4
}
