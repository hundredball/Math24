{
 "cells": [
  {
   "cell_type": "code",
   "execution_count": 1,
   "metadata": {},
   "outputs": [],
   "source": [
    "import numpy as np\n",
    "import pandas as pd\n",
    "import matplotlib.pyplot as plt\n",
    "import pickle\n",
    "from sklearn.discriminant_analysis import LinearDiscriminantAnalysis as LDA\n",
    "from sklearn.model_selection import train_test_split\n",
    "from sklearn.decomposition import PCA\n",
    "from sklearn.model_selection import LeaveOneOut, KFold\n",
    "from sklearn.linear_model import LinearRegression, Ridge, Lasso\n",
    "from sklearn.cross_decomposition import PLSRegression\n",
    "from sklearn import svm\n",
    "from sklearn.metrics import mean_squared_error\n",
    "from sklearn.metrics import r2_score\n",
    "\n",
    "from scipy.optimize import curve_fit\n",
    "from scipy import stats\n",
    "\n",
    "import os,sys,inspect\n",
    "current_dir = os.path.dirname(os.path.abspath(inspect.getfile(inspect.currentframe())))\n",
    "sys.path.insert(0, current_dir) \n",
    "import dataloader as dl\n",
    "import bandpower\n",
    "from Ginny_ERSP import preprocessing\n"
   ]
  },
  {
   "cell_type": "markdown",
   "metadata": {},
   "source": [
    "# Import data"
   ]
  },
  {
   "cell_type": "code",
   "execution_count": 2,
   "metadata": {},
   "outputs": [
    {
     "name": "stdout",
     "output_type": "stream",
     "text": [
      "Shape of ERSP:  (1084, 12, 57, 172)\n",
      "Shape of SLs:  (1084,)\n",
      "Shape of freq:  (57,)\n",
      "Shape of t:  (172,)\n"
     ]
    }
   ],
   "source": [
    "# Read pickle file\n",
    "with open('./ERSP_from_raw.data', 'rb') as fp:\n",
    "    dict_ERSP = pickle.load(fp)\n",
    "    \n",
    "ERSP, SLs, freq, t = dict_ERSP['ERSP'], dict_ERSP['SLs'], dict_ERSP['freq'], dict_ERSP['t']\n",
    "print('Shape of ERSP: ', ERSP.shape)\n",
    "print('Shape of SLs: ', SLs.shape)\n",
    "print('Shape of freq: ', freq.shape)\n",
    "print('Shape of t: ', t.shape)"
   ]
  },
  {
   "cell_type": "markdown",
   "metadata": {},
   "source": [
    "# Regression"
   ]
  },
  {
   "cell_type": "code",
   "execution_count": 3,
   "metadata": {},
   "outputs": [],
   "source": [
    "def standard_error(pred, target):\n",
    "    \n",
    "    assert pred.shape[0] == target.shape[0]\n",
    "    \n",
    "    return (np.sum( np.power(pred-target,2) )/len(pred))**0.5\n",
    "\n",
    "def plot_scatter(true, pred):\n",
    "\n",
    "    max_value = np.max(np.hstack((true, pred)))\n",
    "    plt.scatter(true, pred, marker='.')\n",
    "    axes = plt.gca()\n",
    "    axes.set_xlim([0, max_value])\n",
    "    axes.set_ylim([0, max_value])\n",
    "    plt.xlabel('True')\n",
    "    plt.ylabel('Pred')\n",
    "    \n",
    "def regression(X_train, Y_train, X_test, Y_test, regressor):\n",
    "    \n",
    "    results = regressor.fit(X_train,Y_train)\n",
    "    pred_train = regressor.predict(X_train)\n",
    "    pred_test = regressor.predict(X_test)\n",
    "    \n",
    "    train_std = mean_squared_error(Y_train, pred_train)**0.5\n",
    "    test_std = mean_squared_error(Y_test, pred_test)**0.5\n",
    "    train_r2 = r2_score(Y_train, pred_train)\n",
    "    test_r2 = r2_score(Y_test, pred_test)\n",
    "    \n",
    "    return results, train_std, test_std, train_r2, test_r2, pred_train, pred_test"
   ]
  },
  {
   "cell_type": "code",
   "execution_count": 8,
   "metadata": {},
   "outputs": [
    {
     "name": "stdout",
     "output_type": "stream",
     "text": [
      "---Iteration 0---\n",
      "\n",
      "Base threshold: 2.6117\n",
      "1. 0.165\n",
      "2. 0.146\n",
      "3. 0.139\n",
      "4. 0.119\n",
      "5. 0.086\n",
      "Method 1: 16.880255 | 21.781417\n",
      "\n",
      "Baseline: 17.687152 | 22.691494\n",
      "\n",
      "---Iteration 1---\n",
      "\n",
      "Base threshold: 2.6117\n",
      "1. 0.173\n",
      "2. 0.168\n",
      "3. 0.130\n",
      "4. 0.115\n",
      "5. 0.092\n",
      "Method 1: 17.457550 | 17.673258\n",
      "\n",
      "Baseline: 18.370669 | 17.148044\n",
      "\n",
      "---Iteration 2---\n",
      "\n",
      "Base threshold: 2.6117\n",
      "1. 0.157\n",
      "2. 0.149\n",
      "3. 0.140\n",
      "4. 0.109\n",
      "5. 0.086\n",
      "Method 1: 17.400028 | 18.128634\n",
      "\n",
      "Baseline: 18.200453 | 18.691457\n",
      "\n",
      "---Iteration 3---\n",
      "\n",
      "Base threshold: 2.6117\n",
      "1. 0.162\n",
      "2. 0.158\n",
      "3. 0.158\n",
      "4. 0.107\n",
      "5. 0.091\n",
      "Method 1: 17.380846 | 18.046593\n",
      "\n",
      "Baseline: 18.279155 | 17.991186\n",
      "\n",
      "---Iteration 4---\n",
      "\n",
      "Base threshold: 2.6117\n",
      "1. 0.159\n",
      "2. 0.145\n",
      "3. 0.135\n",
      "4. 0.121\n",
      "5. 0.115\n",
      "Method 1: 17.147867 | 19.666230\n",
      "\n",
      "Baseline: 18.001093 | 20.368431\n",
      "\n",
      "---Iteration 5---\n",
      "\n",
      "Base threshold: 2.6117\n",
      "1. 0.161\n",
      "2. 0.160\n",
      "3. 0.137\n",
      "4. 0.113\n",
      "5. 0.086\n",
      "Method 1: 17.946500 | 12.136064\n",
      "\n",
      "Baseline: 18.819346 | 11.950926\n",
      "\n",
      "---Iteration 6---\n",
      "\n",
      "Base threshold: 2.6117\n",
      "1. 0.158\n",
      "2. 0.144\n",
      "3. 0.129\n",
      "4. 0.104\n",
      "5. 0.100\n",
      "Method 1: 17.521998 | 16.709607\n",
      "\n",
      "Baseline: 18.298419 | 17.812900\n",
      "\n",
      "---Iteration 7---\n",
      "\n",
      "Base threshold: 2.6117\n",
      "1. 0.170\n",
      "2. 0.158\n",
      "3. 0.121\n",
      "4. 0.110\n",
      "5. 0.091\n",
      "Method 1: 17.482360 | 16.719951\n",
      "\n",
      "Baseline: 18.315075 | 17.658139\n",
      "\n",
      "---Iteration 8---\n",
      "\n",
      "Base threshold: 2.6117\n",
      "1. 0.168\n",
      "2. 0.156\n",
      "3. 0.131\n",
      "4. 0.103\n",
      "5. 0.099\n",
      "Method 1: 17.405547 | 17.440599\n",
      "\n",
      "Baseline: 18.247738 | 18.275346\n",
      "\n",
      "---Iteration 9---\n",
      "\n",
      "Base threshold: 2.6117\n",
      "1. 0.158\n",
      "2. 0.155\n",
      "3. 0.109\n",
      "4. 0.103\n",
      "5. 0.097\n",
      "Method 1: 17.504071 | 17.072949\n",
      "\n",
      "Baseline: 18.259506 | 18.168145\n",
      "\n"
     ]
    }
   ],
   "source": [
    "mode_cv = 'KFold'\n",
    "if mode_cv == 'KFold':\n",
    "    num_fold = 10\n",
    "    kf = KFold(n_splits=num_fold, shuffle=True)\n",
    "else:\n",
    "    num_fold = ERSP.shape[0]\n",
    "    kf = LeaveOneOut()\n",
    "    pred_Y = np.zeros(num_fold)\n",
    "\n",
    "train_std = np.zeros(num_fold)\n",
    "test_std = np.zeros(num_fold)\n",
    "train_r2 = np.zeros(num_fold)\n",
    "test_r2 = np.zeros(num_fold)\n",
    "train_base = np.zeros(num_fold)\n",
    "test_base = np.zeros(num_fold)\n",
    "train_base_r2 = np.zeros(num_fold)\n",
    "test_base_r2 = np.zeros(num_fold)\n",
    "\n",
    "method = 2\n",
    "select = []\n",
    "\n",
    "for i, (train_index, test_index) in enumerate(kf.split(ERSP)):\n",
    "    print('---Iteration %d---\\n'%(i))\n",
    "    #print(test_index)\n",
    "    \n",
    "    # Standardize data\n",
    "    X_all, Y = preprocessing.standardize(ERSP, SLs, train_indices=train_index)\n",
    "    \n",
    "    '''\n",
    "    # Select correlated ERSP\n",
    "    X_all, select_indices = preprocessing.select_correlated_ERSP(X_all, Y, threshold_corr=0.75, train_indices=train_index)\n",
    "    select.append(select_indices)\n",
    "    '''\n",
    "    # Flatten X_all\n",
    "    X_all = X_all.reshape((X_all.shape[0],-1))\n",
    "    \n",
    "    #X_all = preprocessing.bandpower(X_all, freqs, 5, 15)\n",
    "    \n",
    "    # Split data\n",
    "    X_train, X_test = X_all[train_index, :], X_all[test_index, :]\n",
    "    Y_train, Y_test = Y[train_index], Y[test_index]\n",
    "    \n",
    "    if method == 1:\n",
    "        pca = PCA(n_components=0.9)\n",
    "        pca.fit(X_train)\n",
    "        X_train = pca.transform(X_train)\n",
    "        X_test = pca.transform(X_test)\n",
    "    elif method == 2:\n",
    "        # PCA\n",
    "        X_train, X_test = preprocessing.PCA_corr(X_train, Y_train, X_test=X_test, num_features=5)\n",
    "    \n",
    "    # 1. Regression directly\n",
    "    #rgr = svm.SVR()\n",
    "    #rgr = Ridge(alpha=1)\n",
    "    rgr = LinearRegression()\n",
    "    results, train_std[i], test_std[i], train_r2[i], test_r2[i], pred_train1, pred_test1 = regression(\\\n",
    "        X_train, Y_train, X_test, Y_test, rgr)\n",
    "    print('Method 1: %f | %f\\n'%(train_std[i], test_std[i]))\n",
    "    if mode_cv == 'LOO':\n",
    "        pred_Y[i] = pred_test1\n",
    "    \n",
    "    train_baseline = np.array([np.mean(Y_train)]*Y_train.shape[0])\n",
    "    test_baseline = np.array([np.mean(Y_train)]*Y_test.shape[0])\n",
    "    print('Baseline: %f | %f\\n'%(standard_error(train_baseline, Y_train), standard_error(test_baseline, Y_test)))\n",
    "    train_base[i] = standard_error(train_baseline, Y_train)\n",
    "    test_base[i] = standard_error(test_baseline, Y_test)\n",
    "    train_base_r2[i] = r2_score(Y_train, train_baseline)\n",
    "    test_base_r2[i] = r2_score(Y_test, test_baseline)\n",
    "    "
   ]
  },
  {
   "cell_type": "code",
   "execution_count": 9,
   "metadata": {},
   "outputs": [
    {
     "name": "stdout",
     "output_type": "stream",
     "text": [
      "Baseline : std (18.25,18.08), r2 (0.00,-0.01)\n",
      "Method 1: std (17.41,17.54), r2 (0.09,0.05)\n"
     ]
    }
   ],
   "source": [
    "print('Baseline : std (%.2f,%.2f), r2 (%.2f,%.2f)'%\\\n",
    "      (np.mean(train_base), np.mean(test_base), np.mean(train_base_r2), np.mean(test_base_r2)))\n",
    "print('Method 1: std (%.2f,%.2f), r2 (%.2f,%.2f)'%(np.mean(train_std), np.mean(test_std), np.mean(train_r2), np.mean(test_r2)))"
   ]
  },
  {
   "cell_type": "code",
   "execution_count": 6,
   "metadata": {},
   "outputs": [
    {
     "data": {
      "image/png": "[encoded data removed]",
      "text/plain": [
       "<Figure size 432x288 with 1 Axes>"
      ]
     },
     "metadata": {
      "needs_background": "light"
     },
     "output_type": "display_data"
    }
   ],
   "source": [
    "if mode_cv == 'KFold':\n",
    "    plot_scatter(Y_test, pred_test1)\n",
    "else:\n",
    "    plot_scatter(SLs, pred_Y)"
   ]
  },
  {
   "cell_type": "code",
   "execution_count": 7,
   "metadata": {},
   "outputs": [
    {
     "name": "stdout",
     "output_type": "stream",
     "text": [
      "Base threshold: 2.6117\n",
      "1. 0.159\n",
      "2. 0.157\n",
      "3. 0.135\n",
      "4. 0.110\n",
      "5. 0.108\n"
     ]
    },
    {
     "data": {
      "image/png": "[encoded data removed]",
      "text/plain": [
       "<Figure size 432x288 with 1 Axes>"
      ]
     },
     "metadata": {
      "needs_background": "light"
     },
     "output_type": "display_data"
    }
   ],
   "source": [
    "X, Y = preprocessing.standardize(ERSP, SLs)\n",
    "\n",
    "# X, select_indices = preprocessing.select_correlated_ERSP(X, Y, threshold_corr=0.75)\n",
    "X = X.reshape((X.shape[0],-1))\n",
    "\n",
    "X = preprocessing.PCA_corr(X, Y, num_features=5)\n",
    "rgr = LinearRegression()\n",
    "rgr.fit(X, Y)\n",
    "\n",
    "pred_Y = rgr.predict(X)\n",
    "\n",
    "plot_scatter(Y, pred_Y)"
   ]
  }
 ],
 "metadata": {
  "kernelspec": {
   "display_name": "Python 3",
   "language": "python",
   "name": "python3"
  },
  "language_info": {
   "codemirror_mode": {
    "name": "ipython",
    "version": 3
   },
   "file_extension": ".py",
   "mimetype": "text/x-python",
   "name": "python",
   "nbconvert_exporter": "python",
   "pygments_lexer": "ipython3",
   "version": "3.7.6"
  }
 },
 "nbformat": 4,
 "nbformat_minor": 4
}
